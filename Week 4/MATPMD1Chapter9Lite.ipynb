{
 "cells": [
  {
   "cell_type": "markdown",
   "metadata": {
    "slideshow": {
     "slide_type": "slide"
    }
   },
   "source": [
    "\n",
    "<html>\n",
    "<head>\n",
    "    <h2>University of Stirling</h2>\n",
    "    <h2>Computing Science and Mathematics</h2>\n",
    "    <h2>MATPMD1 Statistics for Data Science</h2>\n",
    "    <h1>Chapter 9 Correlation and Linear Regression\n",
    "    </h1>\n",
    "</head>"
   ]
  },
  {
   "cell_type": "markdown",
   "metadata": {
    "slideshow": {
     "slide_type": "slide"
    }
   },
   "source": [
    "<body>\n",
    "    <p>In this chapter we will investigate different aspects of relationships between <strong>quantitative</strong> variables. In particular we examine <strong>linear</strong> relationships.\n",
    "    </p>\n",
    "</body>"
   ]
  },
  {
   "cell_type": "markdown",
   "metadata": {
    "slideshow": {
     "slide_type": "slide"
    }
   },
   "source": [
    "<body>\n",
    "    <img src=MATPMD1Chapter9Fig1.png  style=\"width:75%\" >\n",
    "</body>"
   ]
  },
  {
   "cell_type": "markdown",
   "metadata": {
    "slideshow": {
     "slide_type": "slide"
    }
   },
   "source": [
    "<body>\n",
    "    <img src=MATPMD1Chapter9Fig2.png  style=\"float:left;height:75%;\" >\n",
    "</body>"
   ]
  },
  {
   "cell_type": "markdown",
   "metadata": {
    "slideshow": {
     "slide_type": "slide"
    }
   },
   "source": [
    "<body>\n",
    "    <ol class=\"i\">\n",
    "        <li>$X$ and $Y$ are positively related then $\\sum\\left(x- \\bar{x}\\right)\\left(y - \\bar{y}\\right) \\gt 0$\n",
    "        </li>\n",
    "        <li>The stronger the relationship the fewer negative products therefore the larger the positive value.\n",
    "        </li>\n",
    "        <li>$X$ and $Y$ are negatively related then $\\sum\\left(x- \\bar{x}\\right)\\left(y - \\bar{y}\\right) \\lt 0$\n",
    "        </li>\n",
    "        <li>If there is no relationship the negative deviation cancels out the positive values therefore the sum is near zero.\n",
    "        </li>\n",
    "    </ol>\n",
    "</body>"
   ]
  },
  {
   "cell_type": "markdown",
   "metadata": {
    "slideshow": {
     "slide_type": "slide"
    }
   },
   "source": [
    "<body>\n",
    "    <p>So, we have a numerical value that reflects both the <strong>magnitude</strong> and\n",
    "<strong>direction</strong> of the statistical relationship of $X$ and $Y$.\n",
    "    </p>\n",
    "    <p>However...\n",
    "    </p>\n",
    "    <p>Unless two sets of measurements are completely unrelated, the absolute value of the sum tends to increase with the sample size.\n",
    "    </p>\n",
    "    <p>We correct this by calculating the <strong>Covariance</strong>."
   ]
  },
  {
   "cell_type": "markdown",
   "metadata": {
    "slideshow": {
     "slide_type": "slide"
    }
   },
   "source": [
    "<body>\n",
    "    <h2>9.1 Covariance and Correlation\n",
    "    </h2>\n",
    "    <p>We define the covariance between two random variables $X$ and $Y$ with sample size $n$ as <strong>$\\mathrm{Cov}(X,Y)$</strong> where\n",
    "    </p>\n",
    "    <p>$$\\begin{equation}\\mathrm{Cov}(X,Y) = \\dfrac{(x-\\bar{x})(y-\\bar{y})}{n-1} \\label{91} \\tag{9.1} \\end{equation}$$\n",
    "    </p>\n",
    "</body>"
   ]
  },
  {
   "cell_type": "markdown",
   "metadata": {
    "slideshow": {
     "slide_type": "slide"
    }
   },
   "source": [
    "<p>The covariance has a number of important properties that make it an important statistic:\n",
    "    <ol>\n",
    "        <li>If $X$ and $Y$ are not related, $\\mathrm{Cov}(X,Y) = 0$\n",
    "        </li>\n",
    "        <li>The magnitude of $\\mathrm{Cov}(X,Y)$ increases as the strength of the relationship between $X$ and $Y$ increases.\n",
    "        </li>\n",
    "        <li>The sign of $\\mathrm{Cov}(X,Y)$ corresponds to the direction of the relationship between $X$ and $Y$.\n",
    "        </li>\n",
    "    </ol>\n",
    "</body>"
   ]
  },
  {
   "cell_type": "markdown",
   "metadata": {
    "slideshow": {
     "slide_type": "slide"
    }
   },
   "source": [
    "<body>\n",
    "    <p>Unfortunately the covariance has one deficiency, in that the magnitude of $\\mathrm{Cov}(X,Y)$ varies with the unit of measurement.\n",
    "    </p>\n",
    "</body>"
   ]
  },
  {
   "cell_type": "markdown",
   "metadata": {
    "slideshow": {
     "slide_type": "slide"
    }
   },
   "source": [
    "<body>\n",
    "    <p>For Example: Define $X$ as the weight to the nearest pound, $Y$ as height in feet and W as height in inches.\n",
    "    </p>\n",
    "    <p>If we take our measurements on the same $n$ persons, the relation between height is the same irrespective of the units in which our measurements are taken.\n",
    "    </p>\n",
    "    <p>A meaningful statistic should therefore be expected to yield the same value for weight($X$) and height in feet($Y$) and height in inches($W$).\n",
    "</body>"
   ]
  },
  {
   "cell_type": "markdown",
   "metadata": {
    "slideshow": {
     "slide_type": "slide"
    }
   },
   "source": [
    "<body>\n",
    "    <p>The covariance of $X$ and $Y$ is $Cov(X,Y) = \\frac{\\sum\\left(x_i-\\bar{x}\\right)\\left(y_i-\\bar{y}\\right)}{n-1}$\n",
    "    </p>\n",
    "    <p>and the covariance of $X$ and $W$ is $Cov(X,W) = \\frac{\\sum\\left(x_i-\\bar{x}\\right)\\left(w-\\bar{w}\\right)}{n-1}$\n",
    "    </p>\n",
    "    <p>Since any height in inches is equal to 12 times height in feet, $w_i=12y_i$, then $\\bar{w}=12\\bar{y}$.\n",
    "    </p>\n",
    "</body>"
   ]
  },
  {
   "cell_type": "markdown",
   "metadata": {
    "slideshow": {
     "slide_type": "slide"
    }
   },
   "source": [
    "<body>\n",
    "    <p>So that the covariances of $X$ and $W$ can be written as\n",
    "    </p>\n",
    "    $$\\begin{align} \\frac{\\sum\\left(x_i-\\bar{x}\\right)\\left(12y_i-\\bar{y}\\right)}{n-1} &= \\frac{\\sum\\left(x_i-\\bar{x}\\right)12\\left(y_i-\\bar{y}\\right)}{n-1} \\\\   \n",
    "       &= 12\\frac{\\sum\\left(x_i-\\bar{x}\\right)\\left(y_i-\\bar{y}\\right)}{n-1} \\\\\n",
    "       &= 12\\mathrm{Cov}(X,Y) \\end{align}$$   \n",
    "</body>"
   ]
  },
  {
   "cell_type": "markdown",
   "metadata": {
    "slideshow": {
     "slide_type": "slide"
    }
   },
   "source": [
    "<body>\n",
    "    <p>So, the covariance of weight and height measured in inches is 12 times the covariance measured in feet!\n",
    "    </p>\n",
    "    <p><strong>This substantially reduces the usefulness of the covariance.</strong>\n",
    "    </p>\n",
    "    <p>It might be useful when comparing covariance of the same measurements (height in inches and weight in pounds) in two different groups (for example, men and women).\n",
    "    </p>\n",
    "    <p><strong>However, comparisons amongst covariances in different measurements would yield little information.</strong>\n",
    "    </p>\n",
    "</body>"
   ]
  },
  {
   "cell_type": "markdown",
   "metadata": {
    "slideshow": {
     "slide_type": "slide"
    }
   },
   "source": [
    "<body>\n",
    "    <p>We can eliminate this by standardising the measurements using the correlation coefficient defined as follows:\n",
    "    </p>\n",
    "    <p>$$\\begin{align} \\mathrm{Let}\\quad z_{x_i} &= \\frac{x_i-\\bar{x}}{s_x}, z_{y_i}=\\frac{y_i-\\bar{y}}{s_y} \\\\\n",
    "        \\mathrm{Cov}(Z_X,Z_Y) &= \\frac{1}{n-1}\\sum{\\left(z_{xi}-\\bar{z_x}\\right)\\left(z_{yi}-\\bar{z_y}\\right)} = \\frac{1}{n-1}\\sum{z_x x_y}\\\\\n",
    "        &= \\frac{1}{n-1}\\sum{\\left(\\frac{x_i-\\bar{x}}{s_x}\\right)\\left(\\frac{y_i-\\bar{y}}{s_y}\\right)} \\label{91}\\tag{9.1} \\end{align}$$\n",
    "    </p>\n",
    "</body>"
   ]
  },
  {
   "cell_type": "markdown",
   "metadata": {
    "slideshow": {
     "slide_type": "slide"
    }
   },
   "source": [
    "<body>\n",
    "    <p>This is defined as the Correlation Coefficient, denoted by <strong>$r$</strong>. (It is also known as Pearson's Product Moment Correlation.)\n",
    "    </p>\n",
    "    <p>$$\\begin{align} r &= \\frac{\\mathrm{Cov}(X,Y)}{s_x s_y} \\\\\n",
    "        s_x &= \\sqrt{\\frac{1}{n-1}\\left[\\sum{x^2}-\\frac{\\left(\\sum{x}\\right)^2}{n}\\right]} \\\\\n",
    "        s_y &= \\sqrt{\\frac{1}{n-1}\\left[\\sum{y^2}-\\frac{\\left(\\sum{y}\\right)^2}{n}\\right]} \\label{92} \\tag{9.2}\\end{align}$$\n",
    "</body>"
   ]
  },
  {
   "cell_type": "markdown",
   "metadata": {
    "slideshow": {
     "slide_type": "slide"
    }
   },
   "source": [
    "<body>\n",
    "    <p>which for easier hand calculation can be re-written as,\n",
    "    </p>\n",
    "    <p>$$\\begin{align} r &= \\frac{S_{XY}}{\\sqrt{S_{XX}S_{YY}}} \\\\\n",
    "        S_{XX} &= \\sum{x^2}-\\frac{\\left(\\sum{x}\\right)^2}{n} \\\\\n",
    "        S_{XY} &= \\sum{xy}-\\frac{\\sum{x}\\sum{y}}{n} \\\\\n",
    "        S_{YY} &= \\sum{y^2}-\\frac{\\left(\\sum{y}\\right)^2}{n} \\\\\n",
    "\\end{align}$$\n",
    "</body>"
   ]
  },
  {
   "cell_type": "markdown",
   "metadata": {
    "slideshow": {
     "slide_type": "slide"
    }
   },
   "source": [
    "<body>\n",
    "    <h3>9.1.1 Interpreting the Correlation Coefficient, $r$\n",
    "    </h3>\n",
    "    <p>When two measurements $X$ and $Y$ are <strong>unrelated</strong>, the correlation coefficient must, like the covariance, equal <strong>zero</strong>.\n",
    "    </p>\n",
    "    <p>At the other extreme, we can think of a situation in which $X$ and $Y$ are perfectly related, where any vlue of $x_i$ is associated with one and only one value of $y_i$.\n",
    "    </p>\n",
    "</body>"
   ]
  },
  {
   "cell_type": "markdown",
   "metadata": {
    "slideshow": {
     "slide_type": "slide"
    }
   },
   "source": [
    "<body>\n",
    "    <p>If this relationship is such that the scatter plot of $X$ and $Y$ is a straight line, the correlation of $X$ and $Y$ is 1 when the relationship is positive and -1 when the relationship is negative.\n",
    "    </p>\n",
    "    <table style=\"float:left\">\n",
    "        <tr>\n",
    "            <td><img src=MATPMD1Chapter9Fig3.png style=\"width:75%\">\n",
    "            </td>\n",
    "            <td><img src=MATPMD1Chapter9Fig4.png style=\"width:75%\">\n",
    "            </td>\n",
    "        </tr>\n",
    "    </table>\n",
    "</body>"
   ]
  },
  {
   "cell_type": "markdown",
   "metadata": {
    "slideshow": {
     "slide_type": "slide"
    }
   },
   "source": [
    "<body>\n",
    "    <p>Whatever the units in which $X$ and $Y$ are measured,\n",
    "    <ul>\n",
    "        <li>a positive $r$ value indicates that $X$ and $Y$ are positively related, and the closer the value is to +1, the stronger the relationship.\n",
    "        </li>\n",
    "        <li>a negative $r$ value indicates a negative statistical relationship and the closer the value to -1 the stronger the relationship.\n",
    "        </li>\n",
    "    </ul>\n",
    "</body>"
   ]
  },
  {
   "cell_type": "markdown",
   "metadata": {
    "slideshow": {
     "slide_type": "slide"
    }
   },
   "source": [
    "<body>\n",
    "    <p>The correlation coefficient is a useful and versatile statistic, but one must be <strong>careful not to confuse correlation with causation</strong>.\n",
    "    </p>\n",
    "    <p>For example:\n",
    "    </p>\n",
    "</body>"
   ]
  },
  {
   "cell_type": "markdown",
   "metadata": {
    "slideshow": {
     "slide_type": "slide"
    }
   },
   "source": [
    "<body>\n",
    "    <ul>\n",
    "        <li>When reporting a high correlation between smoking and lung cancer, one is tempted to suspect that somehow smoking causes physiological changes in lung tissue.<br><br>\n",
    "       This is probably not true, but in general a high correlation between $X$ and $Y$ (so a value of r near 1) does not necessarily imply that $X$ causes $Y$ or that $Y$ causes $X$. It may simply mean that some factor $W$, or some combination of factors influence both.\n",
    "        </li>\n",
    "    </ul>\n",
    "</body>"
   ]
  },
  {
   "cell_type": "markdown",
   "metadata": {
    "slideshow": {
     "slide_type": "slide"
    }
   },
   "source": [
    "<body>\n",
    "    <ul>\n",
    "        <li>Children's shoe size ($X$) is highly correlated with spelling ability ($Y$).<br><br>\n",
    "            This is because shoe size and spelling are both correlated with age ($W$): older children have bigger feet than younger children and older children spell better.\n",
    "        </li>\n",
    "        <li>We must also be cautious in interpreting weak correlations. A value near zero may mean that $X$ and $Y$ are not statistically related.\n",
    "    </ul>\n",
    "</body>"
   ]
  },
  {
   "cell_type": "markdown",
   "metadata": {
    "slideshow": {
     "slide_type": "slide"
    }
   },
   "source": [
    "<body>\n",
    "    <h3>9.1.2 Correlation Example\n",
    "    </h3>\n",
    "    <p>The following data examines the relationship between a Mathematics Achievement Test Score ($y$) and a Quantitative Aptitude Score ($x$) for a random sample of 12 students.\n",
    "    </p>\n",
    "    <table>\n",
    "    <thead>\n",
    "        <tr class=\"header\">\n",
    "        <th>Student</th>\n",
    "        <th>1</th>\n",
    "        <th>2</th>\n",
    "        <th>3</th>\n",
    "        <th>4</th>\n",
    "        <th>5</th>\n",
    "        <th>6</th>\n",
    "        <th>7</th>\n",
    "        <th>8</th>\n",
    "        <th>9</th>\n",
    "        <th>10</th>\n",
    "        <th>11</th>\n",
    "        <th>12</th>\n",
    "        </tr>\n",
    "    </thead>\n",
    "    <tbody>\n",
    "        <tr>\n",
    "        <td>$x$</td>\n",
    "        <td>88</td>\n",
    "        <td>57</td>\n",
    "        <td>76</td>\n",
    "        <td>97</td>\n",
    "        <td>71</td>\n",
    "        <td>90</td>\n",
    "        <td>66</td>\n",
    "        <td>58</td>\n",
    "        <td>92</td>\n",
    "        <td>85</td>\n",
    "        <td>51</td>\n",
    "        <td>85</td>\n",
    "        </tr>\n",
    "        <tr>\n",
    "        <td>$y$</td>\n",
    "        <td>620</td>\n",
    "        <td>495</td>\n",
    "        <td>549</td>\n",
    "        <td>635</td>\n",
    "        <td>480</td>\n",
    "        <td>568</td>\n",
    "        <td>570</td>\n",
    "        <td>467</td>\n",
    "        <td>655</td>\n",
    "        <td>547</td>\n",
    "        <td>395</td>\n",
    "        <td>662</td>\n",
    "        </tr>\n",
    "    </tbody>\n",
    "    </table>\n",
    "    <p>When the $r$ value is calculated it is approximately equal to 0.865. Use a graph to show the relationship between $x$ and $y$. Does this value of $r$ agree with what we can see in the graph?\n",
    "    </p>\n",
    "</body>"
   ]
  },
  {
   "cell_type": "code",
   "execution_count": 30,
   "metadata": {
    "slideshow": {
     "slide_type": "slide"
    }
   },
   "outputs": [
    {
     "data": {
      "image/png": "[encoded data removed]",
      "text/plain": [
       "Plot with title \"Mathematics Test Score vs Aptitude Test Score\""
      ]
     },
     "metadata": {},
     "output_type": "display_data"
    }
   ],
   "source": [
    "# Set up the test scores for 12 students\n",
    "scores.df <- data.frame(Student=seq(1,12,1),\n",
    "                        x = c(88,57,76,97,71,90,66,58,92,85,51,85),\n",
    "                        y = c(620,495,549,635,480,568,570,467,655,547,395,662))\n",
    "# and plot the achievement vs aptitude scores\n",
    "with(scores.df, plot(x,y,\n",
    "                     main=\"Mathematics Test Score vs Aptitude Test Score\",\n",
    "                     xlab=\"Achievement Test Score\",\n",
    "                     ylab=\"Aptitude Test Score\"))"
   ]
  },
  {
   "cell_type": "markdown",
   "metadata": {
    "slideshow": {
     "slide_type": "slide"
    }
   },
   "source": [
    "<body>\n",
    "    <p>The value of $r = 0.865$ suggests a linear relationship between $x$ and $y$ with the points sloping upwards as $x$ increases in value.\n",
    "    </p>\n",
    "    <p>Not all of the points fall on the line.\n",
    "    </p>\n",
    "    <p>$r =0.865$ is quite close to 1 so we might have expected them to be closer to the line than they are!\n",
    "    </p>\n",
    "    <p>Note : $r = 0.5$ is not \"halfway\" between no correlation and perfect positive correlation. Perhaps we need another measure.\n",
    "    </p>\n",
    "</body>"
   ]
  },
  {
   "cell_type": "markdown",
   "metadata": {
    "slideshow": {
     "slide_type": "slide"
    }
   },
   "source": [
    "<body>\n",
    "    <h3>9.1.3 $R^2$, the Coefficient of Determination\n",
    "    </h3>\n",
    "    <p>We now investigate the Coefficient of Determination which is another measure of the strength of the linear relationship between $X$ and $Y$.\n",
    "    </p>\n",
    "    <p>The sign of $r$ tells us whether $y$ increases or decreases as $x$ increases, but its numerical value is difficult to interpret. That is to say, $r=0.5$ is not halfway between a perfect correlation and no correlation.\n",
    "    </p>\n",
    "    <p>$R^2$, the Coefficient of Determination, overcomes this problem and provides useful information.\n",
    "    </p>\n",
    "</body>"
   ]
  },
  {
   "cell_type": "markdown",
   "metadata": {
    "slideshow": {
     "slide_type": "slide"
    }
   },
   "source": [
    "<body>\n",
    "    <h3>9.1.4 A Practical Interpretation of $R^2$\n",
    "    </h3>\n",
    "    <p>We will come to a definition of $R^2$ but first lets consider how to determine whether $x$ and $y$ have a linear relationship.\n",
    "    </p>\n",
    "    <p>The best way to determine whether $x$ and $y$ are related is to see whether $x$ allows us to predict $y$ with a smaller error of prediction than we would have if we did not use $x$ at all. If we did not use $x$ to predict $y$, our best predictor of some new $y$ value would be the sample mean.\n",
    "    </p>\n",
    "</body>"
   ]
  },
  {
   "cell_type": "markdown",
   "metadata": {
    "slideshow": {
     "slide_type": "slide"
    }
   },
   "source": [
    "<body>\n",
    "    <p>Returning to the example data in Section 9.1.2, let us test whether the best predictor of a new student's Mathematics Achievement Test Score, based only on the Achievement Scores, would be the mean of the sample of 12 scores, i.e. $\\bar{y}= 551.08$.\n",
    "    </p>\n",
    "    <p>The variation of the $y$-values about their predicted value for this \"no other information\" predictor would be measured by the sum of squares of deviations $S_{YY}$ of the $y$-values about their mean.\n",
    "    </p>\n",
    "    <p>This is illustrated on the graph below:\n",
    "    </p>\n",
    "</body>"
   ]
  },
  {
   "cell_type": "code",
   "execution_count": 31,
   "metadata": {
    "slideshow": {
     "slide_type": "slide"
    }
   },
   "outputs": [
    {
     "data": {
      "image/png": "[encoded data removed]",
      "text/plain": [
       "Plot with title \"Mathematics Test Score vs Aptitude Test Score\""
      ]
     },
     "metadata": {},
     "output_type": "display_data"
    }
   ],
   "source": [
    "# Set up the test scores for 12 students\n",
    "scores.df <- data.frame(Student=seq(1,12,1),\n",
    "                        x = c(88,57,76,97,71,90,66,58,92,85,51,85),\n",
    "                        y = c(620,495,549,635,480,568,570,467,655,547,395,662))\n",
    "# plot the achievement vs Aptitude test scores\n",
    "with(scores.df, plot(x,y,\n",
    "                     main=\"Mathematics Test Score vs Aptitude Test Score\",\n",
    "                     xlab=\"x\",\n",
    "                     ylab=\"y\"))\n",
    "# draw horizontal line y=551.08 which is the mean of the achievement test scores\n",
    "abline(h = 551.08, lwd=2, col=\"blue\")\n",
    "# plot vertical lines from each of the points to the mean achievement test score line\n",
    "with(scores.df, segments(x,551.08,x,y,col=\"red\"))"
   ]
  },
  {
   "cell_type": "markdown",
   "metadata": {
    "slideshow": {
     "slide_type": "slide"
    }
   },
   "source": [
    "<body>\n",
    "    <p>Since $S_{YY}$ measures the variation in the prediction errors when no $x$ variable is used to aid in prediction, $S_{YY}$ is called the <strong>total sum of squares of deviations</strong>.\n",
    "    </p>\n",
    "    <p>However, if we include an $x$ variable to aid in the prediction of $y$ we use a technique called least squares regression. We will be looking at this technique in detail shortly, first we will illustrate what happens.\n",
    "    </p>\n",
    "</body>"
   ]
  },
  {
   "cell_type": "markdown",
   "metadata": {
    "slideshow": {
     "slide_type": "slide"
    }
   },
   "source": [
    "<body>\n",
    "    <p>We fit a least squares line to the data, Achievement($y$) vs Aptitude($x$) data. \n",
    "    </p>\n",
    "    <p>The sum of squares of deviations of the observed values of $y$ about their predicted values (i.e. the values predicted by the least squares line) is reduced to $RSS$, <strong>Residual Sum of Squares</strong>. \n",
    "    </p>\n",
    "    <p>This is illustrated on the graph below:\n",
    "    </p>\n",
    "</body>"
   ]
  },
  {
   "cell_type": "code",
   "execution_count": 32,
   "metadata": {
    "slideshow": {
     "slide_type": "slide"
    }
   },
   "outputs": [
    {
     "data": {
      "image/png": "[encoded data removed]",
      "text/plain": [
       "Plot with title \"Mathematics Test Score vs Aptitude Test Score\""
      ]
     },
     "metadata": {},
     "output_type": "display_data"
    }
   ],
   "source": [
    "# Set up the test scores for 12 students\n",
    "scores.df <- data.frame(Student=seq(1,12,1),\n",
    "                        x = c(88,57,76,97,71,90,66,58,92,85,51,85),\n",
    "                        y = c(620,495,549,635,480,568,570,467,655,547,395,662))\n",
    "with(scores.df, plot(x,y,\n",
    "                     main=\"Mathematics Test Score vs Aptitude Test Score\",\n",
    "                     xlab=\"x\",\n",
    "                     ylab=\"y\"))\n",
    "# plot the least squares line by first generating the linear model with lm() (we will come to what this means later)\n",
    "rline<-lm(y~x,data =scores.df)\n",
    "# and plot the line in blue\n",
    "abline(rline,lwd=2,col=\"blue\")\n",
    "\n",
    "# then plot vertical lines from the data points to the least squares line\n",
    "with(scores.df, segments(x,fitted(rline),x,y,col=\"red\"))"
   ]
  },
  {
   "cell_type": "markdown",
   "metadata": {
    "slideshow": {
     "slide_type": "slide"
    }
   },
   "source": [
    "<body>\n",
    "    <p>You can see from the graphs that the deviations of the points from the least squares line, measured by $RSS$, are much smaller than the deviations of the points from $\\bar{y}$, measured by $S_{YY}$.\n",
    "    </p>\n",
    "    <p>The reduction in the sum of squares of the errors in prediction explained by the variable $x$ is\n",
    "    </p>\n",
    "    <p>$S_{YY}-RSS = \\mathrm{Total Sum of Squares} - \\mathrm{Residual Sum of Squares}$\n",
    "    </p>\n",
    "    <p>This reduction, expressed as a proportion of the Total Sum of Squares is equal to the <strong>Coefficient of Determination, $R^2$</strong>.\n",
    "    </p>\n",
    "</body>"
   ]
  },
  {
   "cell_type": "markdown",
   "metadata": {
    "slideshow": {
     "slide_type": "slide"
    }
   },
   "source": [
    "<body>\n",
    "    <p>The Coefficient of Determination, $R^2$ is the proportion of the total variability of the\n",
    "$y$-values that can be explained by a linear relationship with the $x$ variable and can be exressed as,\n",
    "    </p>\n",
    "    <p>$$\\begin{align}R^2 = \\dfrac{S_{YY}-RSS}{S_{YY}} \\label{93} \\tag{9.3} \\end{align}$$\n",
    "    </p>\n",
    "</body>"
   ]
  },
  {
   "cell_type": "markdown",
   "metadata": {
    "slideshow": {
     "slide_type": "slide"
    }
   },
   "source": [
    "<body>\n",
    "    <p>For Example, in the Mathematics and Achievement Score and Aptitude test above:\n",
    "    </p>\n",
    "    <p>The coefficient of determination for this data is equal to\n",
    "    </p>\n",
    "    <p>$R^2 = r = 0.865^2 = 0.748$\n",
    "    </p>\n",
    "    <p>But what does this mean?\n",
    "    </p>\n",
    "</body>"
   ]
  },
  {
   "cell_type": "markdown",
   "metadata": {
    "slideshow": {
     "slide_type": "slide"
    }
   },
   "source": [
    "<body>\n",
    "    <p>$R^2=0.748$ means that 74.8% of the total variation in $y$ is explained by a linear relationship with $X$.\n",
    "    </p>\n",
    "    <p>The remaining 25.2% of variation in $y$ is explained by other variables or by the fact that the relationship is not exactly linear.\n",
    "    </p>\n",
    "    <p>Therefore, if we are attempting to find an equation that will enable us to predict $y$ with a small error of prediction we have room for improvement.\n",
    "    </p>\n",
    "</body>"
   ]
  },
  {
   "cell_type": "markdown",
   "metadata": {
    "slideshow": {
     "slide_type": "slide"
    }
   },
   "source": [
    "<body>\n",
    "    <h2>9.2 Linear Regression\n",
    "    </h2>\n",
    "    <p>Let us use an example to illustrate the ideas behind linear regression: A teacher is interested in whether pupils who do well in the Mid-Term Test do well in the End of Term Examination and whether pupils who do poorly in the Test do poorly in the Examination.\n",
    "    </p>\n",
    "</body>"
   ]
  },
  {
   "cell_type": "markdown",
   "metadata": {
    "slideshow": {
     "slide_type": "slide"
    }
   },
   "source": [
    "<body>\n",
    "    <p>In this case the only aspect of interest is the degree to which the two methods of\n",
    "assessing pupil performance are in agreement. So, we could plot the data, consider if the relationship is linear and use Correlation to answer the question.\n",
    "    </p>\n",
    "    <p>In some situations the teacher might actually want to predict one score from the other so that if a pupil is ill for the final examination, can we predict their likely mark?\n",
    "    </p>\n",
    "</body>"
   ]
  },
  {
   "cell_type": "markdown",
   "metadata": {
    "slideshow": {
     "slide_type": "slide"
    }
   },
   "source": [
    "<body>\n",
    "    <p>In this case we will want to 'fit a model to the data'. The simplest model is a linear model, i.e. linear regression. We express the 'perfect' linear relationship between two variables by a straight line.\n",
    "    </p>\n",
    "    <p>$$\\begin{equation}y = \\alpha + \\beta x + \\epsilon  \\label{eq:94} \\tag{9.4}\\end{equation}$$\n",
    "    </p>\n",
    "    <p>This is the simplest of all equations and linear predictions are simple to calculate and easy to understand.\n",
    "    </p>\n",
    "</body>"
   ]
  },
  {
   "cell_type": "markdown",
   "metadata": {
    "slideshow": {
     "slide_type": "slide"
    }
   },
   "source": [
    "<body>\n",
    "    <p>Seldom does a scatter plot of real data look anything like a line but a scatter plot showing a linear relationship will look like an ellipse with many different values of $y$ for each value of $x$.\n",
    "    </p>\n",
    "    <p>We want to find the linear equation that 'best fits' a scattering of data points.\n",
    "    </p>\n",
    "    <p>Equation 9.4 is determined once we know the values of $\\alpha$ and $\\beta$ (the <strong>intercept</strong> and <strong>slope</strong> respectively), so the task is to find the values of $\\alpha$ and $\\beta$ that give the best summary. The equation that best summarises the scatter plot of $(X,Y)$ can then be used to predict or estimate the $y$-value associated with a specified $x$-value.\n",
    "    </p>\n",
    "</body>"
   ]
  },
  {
   "cell_type": "markdown",
   "metadata": {
    "slideshow": {
     "slide_type": "slide"
    }
   },
   "source": [
    "<body>\n",
    "    <p>To understand what we mean by 'best' summary, let us suppose that the data point $(x_i,y_i)$ represents the scores obtained by individual $i$ and that $\\hat{y}_i$ is the $y$-value predicted for individual $i$ by the equation\n",
    "    </p>\n",
    "    <p>$$\\begin{equation}\\hat{y} = \\hat{\\alpha} + \\hat{\\beta}x  \\label{eq:95} \\tag{9.5}\\end{equation}$$\n",
    "    </p>\n",
    "    <p>In general, you expect the prediction to be wrong, because we know that any line will miss most data points. The difference between actual and predicted is the error of prediction and called the <strong>Residual</strong>. (See previous Section 9.1.4 for the discussion about $R^2$.)\n",
    "    </p>\n",
    "</body>"
   ]
  },
  {
   "cell_type": "markdown",
   "metadata": {
    "slideshow": {
     "slide_type": "slide"
    }
   },
   "source": [
    "<body>\n",
    "    <p>The line that best fits a joint distribution of observations is taken to be the equation that yields the smallest overall error of estimate. We know that a good statistic should consider all observed values so we might try to capture the associated with our prediction equation by\n",
    "adding all of the prediction errors. This tactic will be confounded by the fact that some positive errors will cancel some negative errors in an uncontrollable way.\n",
    "    </p>\n",
    "    <p>To avoid this problem we square every error and take the overall error of prediction to be the mean of the squared errors for all $n$ individuals in the data:\n",
    "    </p>\n",
    "    <p>$$\\begin{equation}\\dfrac{\\sum{\\left(y_i-\\hat{y}_i\\right)^2}}{n}  \\label{eq:96} \\tag{9.6}\\end{equation}$$\n",
    "    </p>\n",
    "</body>"
   ]
  },
  {
   "cell_type": "markdown",
   "metadata": {
    "slideshow": {
     "slide_type": "slide"
    }
   },
   "source": [
    "<body>\n",
    "    <p>We therefore want the line that yields the smallest possible average of the squared errors. This is sometimes called the variance of estimate.\n",
    "    </p>\n",
    "    <p>This method is called least squares and the line the least squares line since we are effectively minimising $\\sum{\\left(y_i-\\hat{y}_i\\right)^2}$.\n",
    "    </p>\n",
    "    <p>In other words we are minimising the Residual Sum of Squares $(RSS)$.\n",
    "    </p>\n",
    "</body>"
   ]
  },
  {
   "cell_type": "markdown",
   "metadata": {
    "slideshow": {
     "slide_type": "slide"
    }
   },
   "source": [
    "<body>\n",
    "    <p>The average squared error of prediction is found to be least when\n",
    "    </p>\n",
    "    <p>\n",
    "    $$\\begin{equation}\\hat{\\beta}=\\dfrac{n\\sum{xy}-\\sum{x}\\sum{y}}{n\\sum{x^2}-\\left(\\sum{x}\\right)^2} = r\\frac{s_y}{s_x} = \\frac{S_{XY}}{S_{XX}} \\label{eq:97} \\tag{9.7}\\end{equation}$$\n",
    "    and\n",
    "    $$\\begin{equation}\\hat{\\alpha}=\\frac{1}{n}\\left(\\sum{y}-\\hat{\\beta}\\sum{x}\\right) = \\bar{y} - \\hat{\\beta}\\bar{x} \\label{eq:98} \\tag{9.8}\\end{equation}$$\n",
    "    </p>\n",
    "    <p>$\\bar{\\alpha}$ and $\\bar{\\beta}$ are called the <strong>'least squares estimates'</strong> of the intercept and slope respectively.\n",
    "    </p>\n",
    "</body>"
   ]
  },
  {
   "cell_type": "markdown",
   "metadata": {},
   "source": [
    "<body>\n",
    "    <p>And we define $\\hat{\\sigma}^2$ as the Residual Variance of points about the fitted line and is given by\n",
    "    </p>\n",
    "    <p>\n",
    "    $$\\begin{align}\\hat{\\sigma}^2 &=\\dfrac{\\sum{\\left(y-\\left(\\hat{\\alpha}+\\hat{\\beta}x\\right)\\right)^2}}{n-2} \\\\\n",
    "                                  \\\\\n",
    "                                  &=\\dfrac{S_{YY}-\\dfrac{S_{XY}^2}{S_{XX}}}{n-2} \\label{eq:981} \\tag{9.8.1}\\end{align}$$\n",
    "    </p>\n",
    "</body>"
   ]
  },
  {
   "cell_type": "markdown",
   "metadata": {
    "slideshow": {
     "slide_type": "slide"
    }
   },
   "source": [
    "<body>\n",
    "    <h3>9.2.1 Independent and Dependent Variables\n",
    "    </h3>\n",
    "    <p>If we have measured two variables $X$ and $Y$ and found that there is a significant correlation between them, then the relationship between them can be described by a straight line. As with correlation the existence of a regression line does not imply a causal relationship.\n",
    "    </p>\n",
    "    <p>The regression/model we have just examined is referred to as a linear regression of $Y$ on $X$.\n",
    "    </p>\n",
    "</body>"
   ]
  },
  {
   "cell_type": "markdown",
   "metadata": {
    "slideshow": {
     "slide_type": "slide"
    }
   },
   "source": [
    "<body>\n",
    "    <p>The model is $y = \\alpha + \\beta x$\n",
    "    </p>\n",
    "    <ul class=\"nobull\">\n",
    "        <li>where $\\alpha$ is the intercept,\n",
    "        </li>\n",
    "        <li>$\\beta$ is the slope,\n",
    "        </li>\n",
    "        <li>$X$ is the independent or explanatory or predictor variable,\n",
    "        </li>\n",
    "        <li>and $Y$ is the dependent or response variable.\n",
    "        </li>\n",
    "    </ul>\n",
    "</body>"
   ]
  },
  {
   "cell_type": "markdown",
   "metadata": {
    "slideshow": {
     "slide_type": "slide"
    }
   },
   "source": [
    "<body>\n",
    "    <p>It is crucial that the variables are correctly defined when performing a regression because a regression of $Y$ on $X$ is not the same as a regression of $X$ on $Y$. They make different assumptions about the data and result in different estimates of the fitted line.\n",
    "    </p>\n",
    "    <p>(This is unlike correlation when the order of the variables is unimportant.)\n",
    "    </p>\n",
    "</body>"
   ]
  },
  {
   "cell_type": "markdown",
   "metadata": {
    "slideshow": {
     "slide_type": "slide"
    }
   },
   "source": [
    "<body>\n",
    "    <h3>9.2.2 Assumptions of Linear Regression\n",
    "    </h3>\n",
    "    <p>We are making three important assumptions when performing linear regression:\n",
    "    </p>\n",
    "    <ol>\n",
    "        <li>The $Y$ values are drawn from a Normal distribution. If the distribution is significantly skewed, a 'normalising' transformation may be necessary.\n",
    "        </li>\n",
    "    </ol>\n",
    "</body>"
   ]
  },
  {
   "cell_type": "markdown",
   "metadata": {
    "slideshow": {
     "slide_type": "slide"
    }
   },
   "source": [
    "<body>\n",
    "    <ol start=\"2\">\n",
    "        <li>The errors in $X$ are negligible. It follows that a regression of $X$ on $Y$ is not the same as the regression of $Y$ on $X$. This is often an unrealistic assumption!<br>\n",
    "            The correlation coefficient, $r$, is still valid even when both $X$ and $Y$ have errors.\n",
    "        </li>\n",
    "        <li>The variance of $Y$ is constant, irrespective of $X$. This assumption is sometimes called Homoscedasticity. This is usually a reasonable assumption but the data should always be examined for possible heteroscedasticity.\n",
    "        </li>\n",
    "    </ol>\n",
    "    <p>All these assumptions should be checked when interpreting the results of linear regression.\n",
    "    </p>\n",
    "</body>"
   ]
  },
  {
   "cell_type": "markdown",
   "metadata": {
    "slideshow": {
     "slide_type": "slide"
    }
   },
   "source": [
    "<body>\n",
    "    <h3>9.2.3 Procedures associated with Linear Regression\n",
    "    </h3>\n",
    "    <p>We will describe the possibilities using the following example.\n",
    "    </p>\n",
    "    <p>Suppose that for a random sample of eight salesmen their first-year sales and test scores as trainees are as presented below. Find the fitted line which describes the relationship.\n",
    "    </p>\n",
    "    <table>\n",
    "    <thead>\n",
    "        <tr class=\"header\">\n",
    "            <th>First year sales (£ 000's)</th>\n",
    "            <th>Test Score</th>\n",
    "        </tr>\n",
    "        <tr>\n",
    "            <th>$y$</th>\n",
    "            <th>$x$</th>\n",
    "        </tr>\n",
    "    </thead>\n",
    "    <tbody>\n",
    "        <tr>\n",
    "        <td>105</td>\n",
    "        <td>45</td>\n",
    "        </tr>\n",
    "        <tr>\n",
    "        <td>120</td>\n",
    "        <td>75</td>\n",
    "        </tr>\n",
    "        <tr>\n",
    "        <td>160</td>\n",
    "        <td>85</td>\n",
    "        </tr>\n",
    "        <tr>\n",
    "        <td>155</td>\n",
    "        <td>65</td>\n",
    "        </tr>\n",
    "        <tr>\n",
    "        <td>70</td>\n",
    "        <td>50</td>\n",
    "        </tr>\n",
    "        <tr>\n",
    "        <td>150</td>\n",
    "        <td>70</td>\n",
    "        </tr>\n",
    "        <tr>\n",
    "        <td>185</td>\n",
    "        <td>80</td>\n",
    "        </tr>\n",
    "        <tr>\n",
    "        <td>130</td>\n",
    "        <td>55</td>\n",
    "        </tr>\n",
    "        <tr>\n",
    "        </tbody>\n",
    "    </table>\n",
    "</body>"
   ]
  },
  {
   "cell_type": "markdown",
   "metadata": {
    "slideshow": {
     "slide_type": "slide"
    }
   },
   "source": [
    "<body>\n",
    "    <p>First, plot the data with a scatter plot.\n",
    "    </p>\n",
    "    <p>We wish to predict the Sales ($y$) from the Test Score ($x$) so\n",
    "    </p>\n",
    "</body>"
   ]
  },
  {
   "cell_type": "code",
   "execution_count": 33,
   "metadata": {
    "slideshow": {
     "slide_type": "slide"
    }
   },
   "outputs": [
    {
     "data": {
      "image/png": "[encoded data removed]",
      "text/plain": [
       "Plot with title \"Scatterplot of Sales vs Test Score\""
      ]
     },
     "metadata": {},
     "output_type": "display_data"
    }
   ],
   "source": [
    "# Set up the data frame for 8 salesmen with test score and sales\n",
    "sales.df <- data.frame(Salesmen=seq(1,8,1),\n",
    "                        score = c(45,75,85,65,50,70,80,55),\n",
    "                        year1sales = c(105,120,160,155,70,150,185,130))\n",
    "# do a scatterplot of sales v score\n",
    "with(sales.df, plot(score,year1sales,\n",
    "                     main=\"Scatterplot of Sales vs Test Score\",\n",
    "                     xlab=\"Test Score\",\n",
    "                     ylab=\"First Year Sales\"))"
   ]
  },
  {
   "cell_type": "markdown",
   "metadata": {
    "slideshow": {
     "slide_type": "slide"
    }
   },
   "source": [
    "<body>\n",
    "    <p>Secondly determine the fitted line from the data\n",
    "    </p>\n",
    "    <p>The scatter diagram above shows that there appears to be linear relationship between the variables.\n",
    "    </p>\n",
    "</body>"
   ]
  },
  {
   "cell_type": "markdown",
   "metadata": {
    "slideshow": {
     "slide_type": "slide"
    }
   },
   "source": [
    "<body>\n",
    "    <p>Using the formulae from Equations 9.7 and 9.8,\n",
    "    </p>\n",
    "    <p>$$\\begin{equation}\\hat{\\beta}=\\dfrac{S_{XY}}{S_{XX}}=\\dfrac{n\\sum{xy}-\\sum{x}\\sum{y}}{n\\sum{x^2}-\\left(\\sum{x}\\right)^2}\\end{equation}$$\n",
    "    </p>\n",
    "    <p>and $$\\begin{equation}\\hat{\\alpha}=\\frac{1}{n}\\left(\\sum{y}-\\hat{\\beta}\\sum{x}\\right)\\end{equation}$$\n",
    "    </p>\n",
    "</body>"
   ]
  },
  {
   "cell_type": "markdown",
   "metadata": {
    "slideshow": {
     "slide_type": "slide"
    }
   },
   "source": [
    "<body>\n",
    "    <p>So substituting our data values our Summary Statistics are,\n",
    "    </p>\n",
    "    <p>$$\\begin{align}n &= 8  \\\\\n",
    "       \\sum{x} &= 525 \\quad  &\\sum{y} = 1075 \\\\\n",
    "       \\sum{x^2} &= 35925 &\\sum{y^2} = 153575 \\quad\\quad \\sum{xy}=73350\\end{align}$$\n",
    "    </p>\n",
    "    <p>So,$$\\begin{align}\n",
    "       \\hat{\\beta}&=\\dfrac{\\left(8\\times 73350\\right)-\\left(525\\times 1075\\right)}{\\left(8\\times 35925\\right)-\\left(525\\times 525\\right)} = 1.904 \\\\\n",
    "       \\hat{\\alpha}&=\\dfrac{1074}{8}-1.094\\times\\left(\\dfrac{525}{8}\\right) = 9.4\\end{align}$$\n",
    "    </p>\n",
    "</body>"
   ]
  },
  {
   "cell_type": "markdown",
   "metadata": {
    "slideshow": {
     "slide_type": "slide"
    }
   },
   "source": [
    "<body>\n",
    "    <p>Therefore, the regression equation (fitted line) of $y$ on $x$ is,\n",
    "    <p>$$\\begin{equation}y = 9.4 + 1.904 x \\end{equation}$$\n",
    "    </p>\n",
    "    <p>The next step is then to plot this fitted line on our scatter plot. That is to say:\n",
    "    </p>\n",
    "    <p>plot the line $y = 9.4 + 1.904 x$ in our example.\n",
    "    </p>\n",
    "</body>"
   ]
  },
  {
   "cell_type": "code",
   "execution_count": 34,
   "metadata": {
    "slideshow": {
     "slide_type": "slide"
    }
   },
   "outputs": [
    {
     "data": {
      "image/png": "[encoded data removed]",
      "text/plain": [
       "Plot with title \"Fitted Line Plot for Sales vs Test Score\""
      ]
     },
     "metadata": {},
     "output_type": "display_data"
    }
   ],
   "source": [
    "# Set up the data frame for 8 salesmen with test score and sales\n",
    "sales.df <- data.frame(Salesmen=seq(1,8,1),\n",
    "                        score = c(45,75,85,65,50,70,80,55),\n",
    "                        year1sales = c(105,120,160,155,70,150,185,130))\n",
    "# plot sales vs test score\n",
    "with(sales.df, plot(score,year1sales,\n",
    "                     main=\"Fitted Line Plot for Sales vs Test Score\",\n",
    "                     xlab=\"Test Score\",\n",
    "                     ylab=\"First Year Sales\"))\n",
    "# and now plot the regression line in red (we just use the values of alpha and beta as found above)\n",
    "abline(a=9.4,b=1.904,col=\"red\",lwd=2)"
   ]
  },
  {
   "cell_type": "markdown",
   "metadata": {
    "slideshow": {
     "slide_type": "slide"
    }
   },
   "source": [
    "<body>\n",
    "    <p>For an alternative way of plotting the regression line, note that two points will determine a straight line so we could use any two values of $x$ to determine the corresponding predicted/fitted values of $y$ and joining these points by a straight line will produce the fitted line.\n",
    "    </p>\n",
    "    <p>It is, however, a good idea to use the minimum and maximum values of $x$ since the regression and thus the fitted line only applies within the range of $x$ values in the data.\n",
    "    </p>\n",
    "    <p>That is to say we should not extrapolate much beyond the range of $x .$\n",
    "    </p>\n",
    "</body>"
   ]
  },
  {
   "cell_type": "markdown",
   "metadata": {
    "slideshow": {
     "slide_type": "slide"
    }
   },
   "source": [
    "<body>\n",
    "    <p>So in our example we have the following points:\n",
    "    </p>\n",
    "    <ul class=\"nobull\">\n",
    "        <li>Minimum value of $x = 45$\n",
    "        </li>\n",
    "        <li>'Predicted' value of $y = 9.4 + (1.904 \\times 45) = 95.1$\n",
    "        </li>\n",
    "        <li>Maximum value of $x = 85$\n",
    "        </li>\n",
    "        <li>'Predicted' value of $y = 9.4 + (1.904 \\times 85) = 171.2$\n",
    "        </li>\n",
    "    </ul>\n",
    "    <p>So to draw the fitted line on the graph, plot the points (45,95.1) and (85,171.2), then join them by a straight line.\n",
    "    </p>\n",
    "</body>"
   ]
  },
  {
   "cell_type": "code",
   "execution_count": 35,
   "metadata": {
    "slideshow": {
     "slide_type": "slide"
    }
   },
   "outputs": [
    {
     "data": {
      "image/png": "[encoded data removed]",
      "text/plain": [
       "Plot with title \"Fitted Line Plot for Sales vs Test Score\""
      ]
     },
     "metadata": {},
     "output_type": "display_data"
    }
   ],
   "source": [
    "# Set up the data frame for 8 salesmen with test score and sales\n",
    "sales.df <- data.frame(Salesmen=seq(1,8,1),\n",
    "                        score = c(45,75,85,65,50,70,80,55),\n",
    "                        year1sales = c(105,120,160,155,70,150,185,130))\n",
    "# plot the sales vs test score values\n",
    "with(sales.df, plot(score,year1sales,\n",
    "                     main=\"Fitted Line Plot for Sales vs Test Score\",\n",
    "                     xlab=\"Test Score\",\n",
    "                     ylab=\"First Year Sales\"))\n",
    "# now just plot the line joining the predicted vbalues for x=45 and x=85\n",
    "segments(x0=45,y0=95.1,x1=85,y1=171.2,col=\"blue\",lwd=2)"
   ]
  },
  {
   "cell_type": "markdown",
   "metadata": {
    "slideshow": {
     "slide_type": "notes"
    }
   },
   "source": [
    "<body>\n",
    "    <h3>9.2.4 Hypothesis test for the correlation coefficient\n",
    "    </h3>\n",
    "    <p>We can perform tests and calculate confidence intervals for both the correlation coefficient and the intercept and slope from the regression. As well as calculating 'the $r$ value' we will often want to decide whether the relationship is statistically significant. The concepts are the same as for any hypothesis test:\n",
    "    </p>\n",
    "    <p>Let $\\rho$ be the population correlation (the $r$ value) then the hypotheses are:\n",
    "    </p>\n",
    "</body>"
   ]
  },
  {
   "cell_type": "markdown",
   "metadata": {
    "slideshow": {
     "slide_type": "notes"
    }
   },
   "source": [
    "<body>\n",
    "    <ul class=\"nobull\">\n",
    "        <li>$H_0 : \\rho = 0$<br>\n",
    "            $H_1 : \\rho \\neq 0$\n",
    "        </li>\n",
    "        <li>or $H_1 : \\rho \\lt 0$\n",
    "        </li>\n",
    "        <li>or $H_1 : \\rho \\gt 0$\n",
    "    </ul>\n",
    "</body>"
   ]
  },
  {
   "cell_type": "markdown",
   "metadata": {
    "slideshow": {
     "slide_type": "notes"
    }
   },
   "source": [
    "<body>\n",
    "    <p>There are two possible statistical tests:\n",
    "    </p>\n",
    "    <ol class=\"i\">\n",
    "        <li>for small samples $n \\lt 10$\n",
    "        </li>\n",
    "        <li>for larger samples $n \\gt 10$\n",
    "        </li>\n",
    "    </ol>\n",
    "</body>"
   ]
  },
  {
   "cell_type": "markdown",
   "metadata": {
    "slideshow": {
     "slide_type": "notes"
    }
   },
   "source": [
    "<body>\n",
    "    <p>(i) Small Samples\n",
    "    </p>\n",
    "    <p>The test statistic is:\n",
    "    </p>\n",
    "    <p>$$\\begin{equation}t = \\dfrac{r\\sqrt{n-2}}{\\sqrt{1-r^2}}  \\label{eq:99} \\tag{9.9}\\end{equation}$$\n",
    "    </p>\n",
    "    <p>which is distributed as Student's t distribution with $(n-2)$ degrees of freedom when the null hypothesis is true, and if $n \\gt 4$ this can be used to test the hypotheses above.\n",
    "    </p>\n",
    "</body>"
   ]
  },
  {
   "cell_type": "markdown",
   "metadata": {
    "slideshow": {
     "slide_type": "notes"
    }
   },
   "source": [
    "<body>\n",
    "    <p>(ii) Large Samples\n",
    "    </p>\n",
    "    <p>In testing the hypotheses concerning $\\rho$, the joint distribution of $X$ and $Y$ is\n",
    "assumed to be bivariate normal. This implies three properties:\n",
    "    <ol class=\"i\">\n",
    "        <li>the marginal distributions of $X$ and $Y$ are normal\n",
    "        </li>\n",
    "        <li>all conditional distributions of $Y$ on $X$ and $X$ on $Y$ are normal\n",
    "        </li>\n",
    "        <li>$X$ and $Y$ are independent if and only if $\\rho_{XY}$ is zero.\n",
    "        </li>\n",
    "    </ol>\n",
    "</body>"
   ]
  },
  {
   "cell_type": "markdown",
   "metadata": {
    "slideshow": {
     "slide_type": "notes"
    }
   },
   "source": [
    "<body>\n",
    "    <p>The property that $\\rho_{XY} = 0$ implies independence of $X$ and $Y$ is the basis for both the following test for large samples and also the small sample test introduced previously.\n",
    "    </p>\n",
    "</body>"
   ]
  },
  {
   "cell_type": "markdown",
   "metadata": {
    "slideshow": {
     "slide_type": "notes"
    }
   },
   "source": [
    "<body>\n",
    "    <p>For your information, the Formal Test is based on Fisher's $Z_r$.\n",
    "    </p>\n",
    "    <p>If the joint distribution of $X$ and $Y$ is bivariate Normal and the number of pairs $x_i,y_i$ is greater than 10, the most useful test statistic is based on Fisher's transformation of the correlation to a normally distributed random variable which we denote by $Z_r$.\n",
    "    <p>$$\\begin{equation}Z_r = \\dfrac{1}{2}\\ln\\left(\\dfrac{1+r}{1-r}\\right) \\label{eq:910} \\tag{9.10}\\end{equation}$$\n",
    "    </p>\n",
    "    <p>where $\\ln()$ denotes the natural logarithm. \n",
    "    </p>\n",
    "</body>"
   ]
  },
  {
   "cell_type": "markdown",
   "metadata": {
    "slideshow": {
     "slide_type": "notes"
    }
   },
   "source": [
    "<body>\n",
    "    <p>For moderate sample sizes $(n \\gt 10)$, the distribution of Fisher's $Z_r$ is approximately normal with\n",
    "    </p>\n",
    "    <p>$$\\begin{align}\\mathrm{E}\\left[Z_r\\right] &= \\dfrac{1}{2}\\ln\\left(\\dfrac{1+\\rho_{XY}}{1-\\rho_{XY}}\\right) \\\\\n",
    "    \\mathrm{and} &\\\\\n",
    "    \\mathrm{Var}\\left[Z_r\\right] &=\\dfrac{1}{n-3}\\label{eq:911} \\tag{9.11}\\end{align}$$\n",
    "    </p>\n",
    "</body>"
   ]
  },
  {
   "cell_type": "markdown",
   "metadata": {
    "slideshow": {
     "slide_type": "notes"
    }
   },
   "source": [
    "<body>\n",
    "    <p>So that if $\\rho$ is the correlation of a bivariate normally distributed random variable, then for $n \\gt 10$ the test statistic\n",
    "    </p>\n",
    "    <p>$$\\begin{equation}\\dfrac{Z_r}{\\sqrt{\\frac{1}{(n-3)}}}\\label{eq:912} \\tag{9.12}\\end{equation}$$\n",
    "    </p>\n",
    "    <p>is distributed approximately $\\mathcal{N}(0,1)$ and can be used to test the hypotheses that $\\rho = 0$.\n",
    "    </p>\n",
    "    <p>In other words we can test the null hypothesis against any of the three possible alternatives.\n",
    "    </p>\n",
    "</body>"
   ]
  },
  {
   "cell_type": "markdown",
   "metadata": {
    "slideshow": {
     "slide_type": "notes"
    }
   },
   "source": [
    "<body>\n",
    "    <p>So substituting data values from the salesmen example:\n",
    "    </p>\n",
    "    <p>$$\\begin{align}n &= 8  \\\\\n",
    "       \\sum{x} &= 525 \\quad  &\\sum{y} = 1075 \\\\\n",
    "       \\sum{x^2} &= 35925 &\\sum{y^2} = 153575 \\quad\\quad \\sum{xy}=73350\\end{align}$$\n",
    "    </p>\n",
    "    <p>So,$$\\begin{align}\n",
    "       S_{XX}&=\\sum{x^2}-\\frac{\\left(\\sum{x}\\right)^2}{n} = 35925-\\frac{525^2}{8} = 1472 \\\\\n",
    "       S_{XX}&=\\sum{xy}-\\frac{\\sum{x}\\sum{y}}{n} = 73350-\\frac{525x1075}{8} = 2803 \\\\\n",
    "       S_{YY}&=\\sum{y^2}-\\frac{\\left(\\sum{y}\\right)^2}{n} = 153575-\\frac{1075^2}{8} = 9122 \\end{align}$$\n",
    "    </p>\n",
    "</body>"
   ]
  },
  {
   "cell_type": "markdown",
   "metadata": {
    "slideshow": {
     "slide_type": "notes"
    }
   },
   "source": [
    "<body>\n",
    "    <p>So,$$\\begin{align}\n",
    "       r &= \\dfrac{S_{XY}}{\\sqrt{S_{XX}S_{YY}}} = \\dfrac{2803}{\\sqrt{1472 \\times 9122}} = 0.765 \\end{align}$$\n",
    "    </p>\n",
    "</body>"
   ]
  },
  {
   "cell_type": "markdown",
   "metadata": {
    "slideshow": {
     "slide_type": "notes"
    }
   },
   "source": [
    "<body>\n",
    "    <ul class=\"nobull\">\n",
    "        <li>$H_0 : \\rho = 0$<br>\n",
    "            $H_1 : \\rho \\neq 0$\n",
    "        </li>\n",
    "        <li>Significance level 0.05\n",
    "        </li>\n",
    "        <li>Test statistic $t=\\frac{r\\sqrt{n-1}}{\\sqrt{1-r^2}} \\sim t(n-2)$ under $H_0$\n",
    "        </li>\n",
    "        <li>Observed test statistic: ($n=8$ and $r=0.765$)<br>\n",
    "            So, $t=2.91$\n",
    "        </li>\n",
    "    </ul>\n",
    "</body>"
   ]
  },
  {
   "cell_type": "markdown",
   "metadata": {
    "slideshow": {
     "slide_type": "notes"
    }
   },
   "source": [
    "<body>\n",
    "    <p>Rejection region: 2-sided; Significance level 0.05; distribution $t(n-2)$\n",
    "    </p>\n",
    "    <p>Critical values are -2.447 and +2.447\n",
    "    </p>\n",
    "    <p>And, p-value = $2 \\times P(t(6)>2.91 \\simeq 2\\times 0.015 = 0.03$ <br>\n",
    "        (Note that P(t(6)>2.612)=0.02 and P(t(6)>3.143)=0.01)\n",
    "</body>"
   ]
  },
  {
   "cell_type": "markdown",
   "metadata": {
    "slideshow": {
     "slide_type": "notes"
    }
   },
   "source": [
    "<body>\n",
    "    <p>Conclusion\n",
    "    </p>\n",
    "    <p>Our observed test statistic is in the Rejection region (2.91 > 2.447) so we can reject $H_0$ in favour of $H_1$ at 5% level.\n",
    "    </p>\n",
    "    <p>So we can conclude that the correlation is significantly different from zero and therefore have a statistically significant linear relationship.\n",
    "</body>"
   ]
  },
  {
   "cell_type": "markdown",
   "metadata": {
    "slideshow": {
     "slide_type": "slide"
    }
   },
   "source": [
    "<body>\n",
    "    <h3>9.2.5 Hypothesis test for slope of the regression line\n",
    "    </h3>\n",
    "    <p>We can develop a Hypothesis Test for the slope of the regression line. For the salesmen example we concluded that $\\hat{\\beta} = 1.904$.\n",
    "    </p>\n",
    "    <p>This is the slope of the regression line for the sample data. It is our estimate of the increase in $y$ (first year sales) for unit increase in $x$ (test score).\n",
    "</body>"
   ]
  },
  {
   "cell_type": "markdown",
   "metadata": {
    "slideshow": {
     "slide_type": "slide"
    }
   },
   "source": [
    "<body>\n",
    "    <p>We can think of the regression line for a population of salesmen with the equation:\n",
    "    </p>\n",
    "    <p>$y =  \\alpha  + \\beta x$\n",
    "    </p>\n",
    "    <p>where $\\beta$ is the slope and $\\alpha$ is the intercept. So our estimate of $\\beta$ is the sample estimate provided by $\\hat{\\beta} = 1.904$.\n",
    "    </p>\n",
    "    <p>Could such a sample have arisen if the population value of $\\beta$ had been zero (implying a horizontal regression line)?\n",
    "    </p>\n",
    "</body>"
   ]
  },
  {
   "cell_type": "markdown",
   "metadata": {
    "slideshow": {
     "slide_type": "slide"
    }
   },
   "source": [
    "<body>\n",
    "    <p>We can perform a hypothesis test to answer this question.\n",
    "    </p>\n",
    "    <ul class=\"nobull\">\n",
    "        <li>$H_0 : \\beta = 0$\n",
    "        </li>\n",
    "        <li>$H_1 : \\beta \\neq 0$\n",
    "        <li>\n",
    "        <li>Significance Level : 0.05\n",
    "        </li>\n",
    "    </ul>\n",
    "</body>"
   ]
  },
  {
   "cell_type": "markdown",
   "metadata": {
    "slideshow": {
     "slide_type": "slide"
    }
   },
   "source": [
    "<body>\n",
    "    <p>The test statistic is:\n",
    "    </p>\n",
    "    <p>$$\\begin{equation}t = \\dfrac{\\hat{\\beta}}{\\sqrt{\\dfrac{\\hat{\\sigma}^2}{S_{XX}}}} \\sim t(n-2) \\quad\\mathrm{under}\\quad H_0 \\label{eq:913} \\tag{9.13}\\end{equation}$$\n",
    "    </p>\n",
    "    <p>where $$\\begin{align}\\hat{\\beta} = r\\frac{s_Y}{s_X}=\\frac{S_{XY}}{S_{XX}} \\quad\\quad \\hat{\\alpha} = \\bar{y}-\\hat{\\beta}\\bar{x} \\quad\\quad \\hat{\\sigma}^2 = \\dfrac{S_{YY}-\\dfrac{S_{XY}^2}{S_{XX}}}{n-2} \\end{align}$$\n",
    "    </p>\n",
    "</body>"
   ]
  },
  {
   "cell_type": "markdown",
   "metadata": {
    "slideshow": {
     "slide_type": "slide"
    }
   },
   "source": [
    "<body>\n",
    "    <p>So, in the salesmen example for the Observed test statistic:\n",
    "    </p>\n",
    "    <p>$$\\begin{equation}\\hat{\\beta}=1.904 \\quad \\hat{\\sigma}^2 = 631 \\quad S_{XX} = 1472\n",
    "            \\end{equation}$$\n",
    "    </p>\n",
    "    <p>So $t = 2.91$.\n",
    "</body>"
   ]
  },
  {
   "cell_type": "markdown",
   "metadata": {
    "slideshow": {
     "slide_type": "notes"
    }
   },
   "source": [
    "<body>\n",
    "    <p>The rejection region is the same as for the correlation coefficient in 9.2.4.\n",
    "    </p>\n",
    "    <p>Note performing the hypothesis test for the slope of the regression line is equivalent to performing a test of the Correlation.\n",
    "    </p>\n",
    "    <p>Normally, calculating the correlation is easier. However, if you already have the slope, then can use that.\n",
    "</body> "
   ]
  },
  {
   "cell_type": "markdown",
   "metadata": {
    "slideshow": {
     "slide_type": "slide"
    }
   },
   "source": [
    "<body>\n",
    "    <h3>9.2.6 Confidence Interval for regression slope and intercept\n",
    "    </h3>\n",
    "    <p>We can then determine 95% Confidence Intervals for the slope and intercept:\n",
    "    </p>\n",
    "    <ol class=\"a\">\n",
    "        <li>95% Confidence Intervals for the Slope<br>\n",
    "            $$\\begin{equation} \\hat{\\beta} \\pm t(n-2;0.025)\\sqrt{\\frac{\\hat{\\sigma}^2}{S_{XX}}} \\label{eq:914} \\tag{9.14}\\end{equation}$$\n",
    "        </li>\n",
    "        <li>95% Confidence Intervals for the Intercept<br>\n",
    "            $$\\begin{equation}\\hat{\\alpha} \\pm t(n-2;0.025)\\sqrt{\\hat{\\sigma}^2\\left(\\frac{1}{n}+\\frac{\\bar{x}^2}{S_{XX}}\\right)} \\label{eq:915} \\tag{9.15}\\end{equation}$$\n",
    "        </li>\n",
    "    </ol>\n",
    "</body>"
   ]
  },
  {
   "cell_type": "markdown",
   "metadata": {
    "slideshow": {
     "slide_type": "slide"
    }
   },
   "source": [
    "<body>\n",
    "    <h3>9.2.7 Prediction Interval\n",
    "    </h3>\n",
    "    <p>Finally we can extract a Prediction Interval for a single future observation of $y$ for a given $x$.\n",
    "    </p>\n",
    "    <p>The 95% Prediction Interval for an individual observation is:\n",
    "    </p>\n",
    "    <p>$$\\begin{align}\\hat{\\alpha}+\\hat{\\beta}x \\pm t(n-2;0.025)\\sqrt{\\hat{\\sigma}^2\\left(1+\\frac{1}{n}+\\frac{\\left(x-\\bar{x}\\right)^2}{S_{XX}}\\right)} \\label{eq:916} \\tag{9.16}\\end{align}$$\n",
    "</body>"
   ]
  },
  {
   "cell_type": "code",
   "execution_count": 36,
   "metadata": {
    "slideshow": {
     "slide_type": "slide"
    }
   },
   "outputs": [
    {
     "data": {
      "text/plain": [
       "\n",
       "Call:\n",
       "lm(formula = year1sales ~ score, data = sales.df)\n",
       "\n",
       "Residuals:\n",
       "    Min      1Q  Median      3Q     Max \n",
       "-34.618 -16.513   8.599  17.349  23.248 \n",
       "\n",
       "Coefficients:\n",
       "            Estimate Std. Error t value Pr(>|t|)  \n",
       "(Intercept)   9.3949    43.8617   0.214    0.837  \n",
       "score         1.9045     0.6545   2.910    0.027 *\n",
       "---\n",
       "Signif. codes:  0 '***' 0.001 '**' 0.01 '*' 0.05 '.' 0.1 ' ' 1\n",
       "\n",
       "Residual standard error: 25.11 on 6 degrees of freedom\n",
       "Multiple R-squared:  0.5852,\tAdjusted R-squared:  0.5161 \n",
       "F-statistic: 8.466 on 1 and 6 DF,  p-value: 0.02699\n"
      ]
     },
     "metadata": {},
     "output_type": "display_data"
    },
    {
     "data": {
      "text/html": [
       "<table>\n",
       "<thead><tr><th></th><th scope=col>2.5 %</th><th scope=col>97.5 %</th></tr></thead>\n",
       "<tbody>\n",
       "\t<tr><th scope=row>(Intercept)</th><td>-97.9308688</td><td>116.720678 </td></tr>\n",
       "\t<tr><th scope=row>score</th><td>  0.3028712</td><td>  3.506046 </td></tr>\n",
       "</tbody>\n",
       "</table>\n"
      ],
      "text/latex": [
       "\\begin{tabular}{r|ll}\n",
       "  & 2.5 \\% & 97.5 \\%\\\\\n",
       "\\hline\n",
       "\t(Intercept) & -97.9308688 & 116.720678 \\\\\n",
       "\tscore &   0.3028712 &   3.506046 \\\\\n",
       "\\end{tabular}\n"
      ],
      "text/markdown": [
       "\n",
       "| <!--/--> | 2.5 % | 97.5 % |\n",
       "|---|---|---|\n",
       "| (Intercept) | -97.9308688 | 116.720678  |\n",
       "| score |   0.3028712 |   3.506046  |\n",
       "\n"
      ],
      "text/plain": [
       "            2.5 %       97.5 %    \n",
       "(Intercept) -97.9308688 116.720678\n",
       "score         0.3028712   3.506046"
      ]
     },
     "metadata": {},
     "output_type": "display_data"
    }
   ],
   "source": [
    "# Set up the data frame for 8 salesmen with test score and sales\n",
    "sales.df <- data.frame(Salesmen=seq(1,8,1),\n",
    "                        score = c(45,75,85,65,50,70,80,55),\n",
    "                        year1sales = c(105,120,160,155,70,150,185,130))\n",
    "# build our linear model for sales varying with scores\n",
    "lm1<-lm(year1sales~score,data=sales.df)\n",
    "# and show the summary of the model\n",
    "summary(lm1)\n",
    "# and display the confidence intervals for the estimates for alpha and beta\n",
    "confint(lm1)"
   ]
  },
  {
   "cell_type": "code",
   "execution_count": 37,
   "metadata": {
    "slideshow": {
     "slide_type": "slide"
    }
   },
   "outputs": [
    {
     "data": {
      "text/plain": [
       "\n",
       "Call:\n",
       "lm(formula = y ~ x, data = scores.df)\n",
       "\n",
       "Residuals:\n",
       "   Min     1Q Median     3Q    Max \n",
       "-49.10 -43.30  -2.73  29.66  68.62 \n",
       "\n",
       "Coefficients:\n",
       "            Estimate Std. Error t value Pr(>|t|)    \n",
       "(Intercept) 203.1053    67.1149   3.026 0.012759 *  \n",
       "x             4.5914     0.8631   5.319 0.000338 ***\n",
       "---\n",
       "Signif. codes:  0 '***' 0.001 '**' 0.01 '*' 0.05 '.' 0.1 ' ' 1\n",
       "\n",
       "Residual standard error: 44.29 on 10 degrees of freedom\n",
       "Multiple R-squared:  0.7389,\tAdjusted R-squared:  0.7128 \n",
       "F-statistic:  28.3 on 1 and 10 DF,  p-value: 0.000338\n"
      ]
     },
     "metadata": {},
     "output_type": "display_data"
    },
    {
     "data": {
      "text/html": [
       "<table>\n",
       "<thead><tr><th></th><th scope=col>2.5 %</th><th scope=col>97.5 %</th></tr></thead>\n",
       "<tbody>\n",
       "\t<tr><th scope=row>(Intercept)</th><td>53.564035</td><td>352.6465 </td></tr>\n",
       "\t<tr><th scope=row>x</th><td> 2.668231</td><td>  6.5146 </td></tr>\n",
       "</tbody>\n",
       "</table>\n"
      ],
      "text/latex": [
       "\\begin{tabular}{r|ll}\n",
       "  & 2.5 \\% & 97.5 \\%\\\\\n",
       "\\hline\n",
       "\t(Intercept) & 53.564035 & 352.6465 \\\\\n",
       "\tx &  2.668231 &   6.5146 \\\\\n",
       "\\end{tabular}\n"
      ],
      "text/markdown": [
       "\n",
       "| <!--/--> | 2.5 % | 97.5 % |\n",
       "|---|---|---|\n",
       "| (Intercept) | 53.564035 | 352.6465  |\n",
       "| x |  2.668231 |   6.5146  |\n",
       "\n"
      ],
      "text/plain": [
       "            2.5 %     97.5 %  \n",
       "(Intercept) 53.564035 352.6465\n",
       "x            2.668231   6.5146"
      ]
     },
     "metadata": {},
     "output_type": "display_data"
    }
   ],
   "source": [
    "# Set up the test scores for 12 students\n",
    "scores.df <- data.frame(Student=seq(1,12,1),\n",
    "                        x = c(88,57,76,97,71,90,66,58,92,85,51,85),\n",
    "                        y = c(620,495,549,635,480,568,570,467,655,547,395,662))\n",
    "# build our linear model for the varying scores (y to be predicted by x)\n",
    "lm1<-lm(y~x,data=scores.df)\n",
    "# and show the summary of the model\n",
    "summary(lm1)\n",
    "# and display the confidence intervals for the estimates for alpha and beta\n",
    "confint(lm1)"
   ]
  }
 ],
 "metadata": {
  "celltoolbar": "Slideshow",
  "kernelspec": {
   "display_name": "R",
   "language": "R",
   "name": "ir"
  },
  "language_info": {
   "codemirror_mode": "r",
   "file_extension": ".r",
   "mimetype": "text/x-r-source",
   "name": "R",
   "pygments_lexer": "r",
   "version": "3.6.3"
  }
 },
 "nbformat": 4,
 "nbformat_minor": 4
}
