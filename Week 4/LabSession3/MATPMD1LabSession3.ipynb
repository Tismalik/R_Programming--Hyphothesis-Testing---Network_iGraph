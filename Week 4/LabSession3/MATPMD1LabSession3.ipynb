{
 "cells": [
  {
   "cell_type": "markdown",
   "id": "434c7f9f",
   "metadata": {},
   "source": [
    "<html>\n",
    "<head>\n",
    "    <h2>University of Stirling</h2>\n",
    "    <h2>Computing Science and Mathematics</h2>\n",
    "    <h2>MATPMD1 Statistics for Data Science</h2>\n",
    "    <h1>Lab Session 3\n",
    "    </h1>  \n",
    "</head>"
   ]
  },
  {
   "cell_type": "markdown",
   "id": "94e615af",
   "metadata": {},
   "source": [
    "<p>\n",
    "    The focus of this week is performing one-way ANOVA and chi-squared tests. Try to do nos.1, 4 and 5 using a hand calculation. Questions 2 and 3 try using R to run the test. You may wish to plot the data. I would suggest that you do the hand calculations separately, then use the aov() function in R to confirm your answer for the one-way ANOVA. This is to get you thinking about the formulae that underly the tests.\n",
    "</p>\n",
    "<p>\n",
    "    The data for each of the questions can be found in the file MATPMD1LabSession3Data.xlsx. To read an excel spreadsheet in using R, install the \"readxl\" library and use the following commands:\n",
    "    </p>"
   ]
  },
  {
   "cell_type": "code",
   "execution_count": 2,
   "id": "29b509c0",
   "metadata": {},
   "outputs": [
    {
     "name": "stderr",
     "output_type": "stream",
     "text": [
      "Registered S3 methods overwritten by 'tibble':\n",
      "  method     from  \n",
      "  format.tbl pillar\n",
      "  print.tbl  pillar\n",
      "\n"
     ]
    },
    {
     "data": {
      "text/html": [
       "<style>\n",
       ".list-inline {list-style: none; margin:0; padding: 0}\n",
       ".list-inline>li {display: inline-block}\n",
       ".list-inline>li:not(:last-child)::after {content: \"\\00b7\"; padding: 0 .5ex}\n",
       "</style>\n",
       "<ol class=list-inline><li>'Q1Group'</li><li>'Q1Gender'</li><li>'Q1Correct'</li><li>'Q2Strain'</li><li>'Q2Days'</li><li>'Q3Group'</li><li>'Q3BPFall'</li></ol>\n"
      ],
      "text/latex": [
       "\\begin{enumerate*}\n",
       "\\item 'Q1Group'\n",
       "\\item 'Q1Gender'\n",
       "\\item 'Q1Correct'\n",
       "\\item 'Q2Strain'\n",
       "\\item 'Q2Days'\n",
       "\\item 'Q3Group'\n",
       "\\item 'Q3BPFall'\n",
       "\\end{enumerate*}\n"
      ],
      "text/markdown": [
       "1. 'Q1Group'\n",
       "2. 'Q1Gender'\n",
       "3. 'Q1Correct'\n",
       "4. 'Q2Strain'\n",
       "5. 'Q2Days'\n",
       "6. 'Q3Group'\n",
       "7. 'Q3BPFall'\n",
       "\n",
       "\n"
      ],
      "text/plain": [
       "[1] \"Q1Group\"   \"Q1Gender\"  \"Q1Correct\" \"Q2Strain\"  \"Q2Days\"    \"Q3Group\"  \n",
       "[7] \"Q3BPFall\" "
      ]
     },
     "metadata": {},
     "output_type": "display_data"
    }
   ],
   "source": [
    "library(\"readxl\")\n",
    "# read the data from the excel spreadsheet\n",
    "Lab3data <- read_excel(\"MATPMD1LabSession3Data.xlsx\")\n",
    "# see what the column names in the data are\n",
    "colnames(Lab3data)\n",
    "# tell R that we want to use the column names as variable names \n",
    "# to access the data. Note that at the end of your session use the \n",
    "# detach(Lab3Data) command to remove these variable names.\n",
    "attach(Lab3data)\n",
    "#detach(Lab3data)\n"
   ]
  },
  {
   "cell_type": "code",
   "execution_count": 3,
   "id": "6d3e3fe4",
   "metadata": {},
   "outputs": [
    {
     "data": {
      "text/html": [
       "<table class=\"dataframe\">\n",
       "<caption>A tibble: 27 × 7</caption>\n",
       "<thead>\n",
       "\t<tr><th scope=col>Q1Group</th><th scope=col>Q1Gender</th><th scope=col>Q1Correct</th><th scope=col>Q2Strain</th><th scope=col>Q2Days</th><th scope=col>Q3Group</th><th scope=col>Q3BPFall</th></tr>\n",
       "\t<tr><th scope=col>&lt;dbl&gt;</th><th scope=col>&lt;chr&gt;</th><th scope=col>&lt;dbl&gt;</th><th scope=col>&lt;chr&gt;</th><th scope=col>&lt;dbl&gt;</th><th scope=col>&lt;chr&gt;</th><th scope=col>&lt;dbl&gt;</th></tr>\n",
       "</thead>\n",
       "<tbody>\n",
       "\t<tr><td> 1</td><td>M </td><td> 9</td><td>9D  </td><td> 3</td><td>Group1</td><td>10.5</td></tr>\n",
       "\t<tr><td> 1</td><td>F </td><td> 8</td><td>9D  </td><td> 4</td><td>Group1</td><td> 8.5</td></tr>\n",
       "\t<tr><td> 1</td><td>F </td><td> 8</td><td>9D  </td><td> 6</td><td>Group1</td><td> 6.2</td></tr>\n",
       "\t<tr><td> 1</td><td>F </td><td> 9</td><td>9D  </td><td> 5</td><td>Group1</td><td> 9.5</td></tr>\n",
       "\t<tr><td> 1</td><td>M </td><td> 7</td><td>9D  </td><td> 2</td><td>Group2</td><td> 9.7</td></tr>\n",
       "\t<tr><td> 1</td><td>M </td><td> 7</td><td>9D  </td><td> 4</td><td>Group2</td><td>11.4</td></tr>\n",
       "\t<tr><td> 2</td><td>M </td><td> 2</td><td>9D  </td><td> 4</td><td>Group2</td><td> 9.2</td></tr>\n",
       "\t<tr><td> 2</td><td>F </td><td> 5</td><td>9D  </td><td> 3</td><td>Group2</td><td> 8.6</td></tr>\n",
       "\t<tr><td> 2</td><td>M </td><td> 4</td><td>9D  </td><td> 5</td><td>Group3</td><td> 3.2</td></tr>\n",
       "\t<tr><td> 2</td><td>F </td><td> 3</td><td>11C </td><td> 8</td><td>Group3</td><td> 4.7</td></tr>\n",
       "\t<tr><td> 2</td><td>F </td><td> 4</td><td>11C </td><td> 9</td><td>Group3</td><td> 6.7</td></tr>\n",
       "\t<tr><td> 2</td><td>F </td><td> 3</td><td>11C </td><td> 5</td><td>Group3</td><td> 4.1</td></tr>\n",
       "\t<tr><td> 3</td><td>F </td><td> 9</td><td>11C </td><td> 8</td><td>Group4</td><td> 6.1</td></tr>\n",
       "\t<tr><td> 3</td><td>M </td><td> 3</td><td>11C </td><td> 4</td><td>Group4</td><td> 7.3</td></tr>\n",
       "\t<tr><td> 3</td><td>M </td><td> 7</td><td>11C </td><td> 7</td><td>Group4</td><td> 7.4</td></tr>\n",
       "\t<tr><td> 3</td><td>M </td><td> 8</td><td>11C </td><td> 6</td><td>Group4</td><td> 7.8</td></tr>\n",
       "\t<tr><td> 3</td><td>M </td><td> 5</td><td>11C </td><td> 9</td><td>NA    </td><td>  NA</td></tr>\n",
       "\t<tr><td> 3</td><td>F </td><td> 6</td><td>11C </td><td> 9</td><td>NA    </td><td>  NA</td></tr>\n",
       "\t<tr><td> 4</td><td>F </td><td> 5</td><td>DCS1</td><td> 8</td><td>NA    </td><td>  NA</td></tr>\n",
       "\t<tr><td> 4</td><td>F </td><td> 7</td><td>DCS1</td><td>10</td><td>NA    </td><td>  NA</td></tr>\n",
       "\t<tr><td> 4</td><td>M </td><td> 3</td><td>DCS1</td><td>12</td><td>NA    </td><td>  NA</td></tr>\n",
       "\t<tr><td> 4</td><td>F </td><td> 6</td><td>DCS1</td><td> 6</td><td>NA    </td><td>  NA</td></tr>\n",
       "\t<tr><td> 4</td><td>M </td><td> 7</td><td>DCS1</td><td> 8</td><td>NA    </td><td>  NA</td></tr>\n",
       "\t<tr><td> 4</td><td>M </td><td> 4</td><td>DCS1</td><td> 7</td><td>NA    </td><td>  NA</td></tr>\n",
       "\t<tr><td>NA</td><td>NA</td><td>NA</td><td>DCS1</td><td>11</td><td>NA    </td><td>  NA</td></tr>\n",
       "\t<tr><td>NA</td><td>NA</td><td>NA</td><td>DCS1</td><td> 5</td><td>NA    </td><td>  NA</td></tr>\n",
       "\t<tr><td>NA</td><td>NA</td><td>NA</td><td>DCS1</td><td> 7</td><td>NA    </td><td>  NA</td></tr>\n",
       "</tbody>\n",
       "</table>\n"
      ],
      "text/latex": [
       "A tibble: 27 × 7\n",
       "\\begin{tabular}{lllllll}\n",
       " Q1Group & Q1Gender & Q1Correct & Q2Strain & Q2Days & Q3Group & Q3BPFall\\\\\n",
       " <dbl> & <chr> & <dbl> & <chr> & <dbl> & <chr> & <dbl>\\\\\n",
       "\\hline\n",
       "\t  1 & M  &  9 & 9D   &  3 & Group1 & 10.5\\\\\n",
       "\t  1 & F  &  8 & 9D   &  4 & Group1 &  8.5\\\\\n",
       "\t  1 & F  &  8 & 9D   &  6 & Group1 &  6.2\\\\\n",
       "\t  1 & F  &  9 & 9D   &  5 & Group1 &  9.5\\\\\n",
       "\t  1 & M  &  7 & 9D   &  2 & Group2 &  9.7\\\\\n",
       "\t  1 & M  &  7 & 9D   &  4 & Group2 & 11.4\\\\\n",
       "\t  2 & M  &  2 & 9D   &  4 & Group2 &  9.2\\\\\n",
       "\t  2 & F  &  5 & 9D   &  3 & Group2 &  8.6\\\\\n",
       "\t  2 & M  &  4 & 9D   &  5 & Group3 &  3.2\\\\\n",
       "\t  2 & F  &  3 & 11C  &  8 & Group3 &  4.7\\\\\n",
       "\t  2 & F  &  4 & 11C  &  9 & Group3 &  6.7\\\\\n",
       "\t  2 & F  &  3 & 11C  &  5 & Group3 &  4.1\\\\\n",
       "\t  3 & F  &  9 & 11C  &  8 & Group4 &  6.1\\\\\n",
       "\t  3 & M  &  3 & 11C  &  4 & Group4 &  7.3\\\\\n",
       "\t  3 & M  &  7 & 11C  &  7 & Group4 &  7.4\\\\\n",
       "\t  3 & M  &  8 & 11C  &  6 & Group4 &  7.8\\\\\n",
       "\t  3 & M  &  5 & 11C  &  9 & NA     &   NA\\\\\n",
       "\t  3 & F  &  6 & 11C  &  9 & NA     &   NA\\\\\n",
       "\t  4 & F  &  5 & DCS1 &  8 & NA     &   NA\\\\\n",
       "\t  4 & F  &  7 & DCS1 & 10 & NA     &   NA\\\\\n",
       "\t  4 & M  &  3 & DCS1 & 12 & NA     &   NA\\\\\n",
       "\t  4 & F  &  6 & DCS1 &  6 & NA     &   NA\\\\\n",
       "\t  4 & M  &  7 & DCS1 &  8 & NA     &   NA\\\\\n",
       "\t  4 & M  &  4 & DCS1 &  7 & NA     &   NA\\\\\n",
       "\t NA & NA & NA & DCS1 & 11 & NA     &   NA\\\\\n",
       "\t NA & NA & NA & DCS1 &  5 & NA     &   NA\\\\\n",
       "\t NA & NA & NA & DCS1 &  7 & NA     &   NA\\\\\n",
       "\\end{tabular}\n"
      ],
      "text/markdown": [
       "\n",
       "A tibble: 27 × 7\n",
       "\n",
       "| Q1Group &lt;dbl&gt; | Q1Gender &lt;chr&gt; | Q1Correct &lt;dbl&gt; | Q2Strain &lt;chr&gt; | Q2Days &lt;dbl&gt; | Q3Group &lt;chr&gt; | Q3BPFall &lt;dbl&gt; |\n",
       "|---|---|---|---|---|---|---|\n",
       "|  1 | M  |  9 | 9D   |  3 | Group1 | 10.5 |\n",
       "|  1 | F  |  8 | 9D   |  4 | Group1 |  8.5 |\n",
       "|  1 | F  |  8 | 9D   |  6 | Group1 |  6.2 |\n",
       "|  1 | F  |  9 | 9D   |  5 | Group1 |  9.5 |\n",
       "|  1 | M  |  7 | 9D   |  2 | Group2 |  9.7 |\n",
       "|  1 | M  |  7 | 9D   |  4 | Group2 | 11.4 |\n",
       "|  2 | M  |  2 | 9D   |  4 | Group2 |  9.2 |\n",
       "|  2 | F  |  5 | 9D   |  3 | Group2 |  8.6 |\n",
       "|  2 | M  |  4 | 9D   |  5 | Group3 |  3.2 |\n",
       "|  2 | F  |  3 | 11C  |  8 | Group3 |  4.7 |\n",
       "|  2 | F  |  4 | 11C  |  9 | Group3 |  6.7 |\n",
       "|  2 | F  |  3 | 11C  |  5 | Group3 |  4.1 |\n",
       "|  3 | F  |  9 | 11C  |  8 | Group4 |  6.1 |\n",
       "|  3 | M  |  3 | 11C  |  4 | Group4 |  7.3 |\n",
       "|  3 | M  |  7 | 11C  |  7 | Group4 |  7.4 |\n",
       "|  3 | M  |  8 | 11C  |  6 | Group4 |  7.8 |\n",
       "|  3 | M  |  5 | 11C  |  9 | NA     |   NA |\n",
       "|  3 | F  |  6 | 11C  |  9 | NA     |   NA |\n",
       "|  4 | F  |  5 | DCS1 |  8 | NA     |   NA |\n",
       "|  4 | F  |  7 | DCS1 | 10 | NA     |   NA |\n",
       "|  4 | M  |  3 | DCS1 | 12 | NA     |   NA |\n",
       "|  4 | F  |  6 | DCS1 |  6 | NA     |   NA |\n",
       "|  4 | M  |  7 | DCS1 |  8 | NA     |   NA |\n",
       "|  4 | M  |  4 | DCS1 |  7 | NA     |   NA |\n",
       "| NA | NA | NA | DCS1 | 11 | NA     |   NA |\n",
       "| NA | NA | NA | DCS1 |  5 | NA     |   NA |\n",
       "| NA | NA | NA | DCS1 |  7 | NA     |   NA |\n",
       "\n"
      ],
      "text/plain": [
       "   Q1Group Q1Gender Q1Correct Q2Strain Q2Days Q3Group Q3BPFall\n",
       "1   1      M         9        9D        3     Group1  10.5    \n",
       "2   1      F         8        9D        4     Group1   8.5    \n",
       "3   1      F         8        9D        6     Group1   6.2    \n",
       "4   1      F         9        9D        5     Group1   9.5    \n",
       "5   1      M         7        9D        2     Group2   9.7    \n",
       "6   1      M         7        9D        4     Group2  11.4    \n",
       "7   2      M         2        9D        4     Group2   9.2    \n",
       "8   2      F         5        9D        3     Group2   8.6    \n",
       "9   2      M         4        9D        5     Group3   3.2    \n",
       "10  2      F         3        11C       8     Group3   4.7    \n",
       "11  2      F         4        11C       9     Group3   6.7    \n",
       "12  2      F         3        11C       5     Group3   4.1    \n",
       "13  3      F         9        11C       8     Group4   6.1    \n",
       "14  3      M         3        11C       4     Group4   7.3    \n",
       "15  3      M         7        11C       7     Group4   7.4    \n",
       "16  3      M         8        11C       6     Group4   7.8    \n",
       "17  3      M         5        11C       9     NA        NA    \n",
       "18  3      F         6        11C       9     NA        NA    \n",
       "19  4      F         5        DCS1      8     NA        NA    \n",
       "20  4      F         7        DCS1     10     NA        NA    \n",
       "21  4      M         3        DCS1     12     NA        NA    \n",
       "22  4      F         6        DCS1      6     NA        NA    \n",
       "23  4      M         7        DCS1      8     NA        NA    \n",
       "24  4      M         4        DCS1      7     NA        NA    \n",
       "25 NA      NA       NA        DCS1     11     NA        NA    \n",
       "26 NA      NA       NA        DCS1      5     NA        NA    \n",
       "27 NA      NA       NA        DCS1      7     NA        NA    "
      ]
     },
     "metadata": {},
     "output_type": "display_data"
    }
   ],
   "source": [
    "##use this function to view table\n",
    "View(Lab3data)"
   ]
  },
  {
   "cell_type": "markdown",
   "id": "680ea9cd",
   "metadata": {},
   "source": [
    "<p>\n",
    "    You can see that each question has a number of columns of data associated with it. For example the first questions has two columns Q1Group and Q1Correct. The final R command shown here, \"attach(Lab3data)\", allows you to use the column names as variable names in R to make accessing the data look a lot cleaner in your R code.\n",
    "</p>"
   ]
  },
  {
   "cell_type": "markdown",
   "id": "ad956e47",
   "metadata": {},
   "source": [
    "<h3>3.1\n",
    "</h3>\n",
    "<p>\n",
    "    A random sample of 24 ten year old children was randomly divided into four groups in order to study pattern recognition skills.  Each child is given a pattern recognition test with 10 patterns to identify. Children in Group 1 were given praise for each correct answer and no comment on wrong answers; Group 2 were given criticism for each wrong answer and no comment for correct answers; Group 3 were given no praise or criticism but the observer expressed interest in what the child was doing; and children in Group 4 were left on their own to complete the test. The data showing the number of correct answers given by each child ( ; i = 1, ... 4 ; j = 1,...6)  are presented in columns Q1Correct and Q1Group.\n",
    "</p>\n",
    "<p>\n",
    "    Are there any differences in the group means?\n",
    "</p>"
   ]
  },
  {
   "cell_type": "code",
   "execution_count": 14,
   "id": "39c9479f",
   "metadata": {},
   "outputs": [
    {
     "data": {
      "text/html": [
       "<style>\n",
       ".list-inline {list-style: none; margin:0; padding: 0}\n",
       ".list-inline>li {display: inline-block}\n",
       ".list-inline>li:not(:last-child)::after {content: \"\\00b7\"; padding: 0 .5ex}\n",
       "</style>\n",
       "<ol class=list-inline><li>'1'</li><li>'1'</li><li>'1'</li><li>'1'</li><li>'1'</li><li>'1'</li><li>'2'</li><li>'2'</li><li>'2'</li><li>'2'</li><li>'2'</li><li>'2'</li><li>'3'</li><li>'3'</li><li>'3'</li><li>'3'</li><li>'3'</li><li>'3'</li><li>'4'</li><li>'4'</li><li>'4'</li><li>'4'</li><li>'4'</li><li>'4'</li><li>'NA'</li><li>'NA'</li><li>'NA'</li></ol>\n"
      ],
      "text/latex": [
       "\\begin{enumerate*}\n",
       "\\item '1'\n",
       "\\item '1'\n",
       "\\item '1'\n",
       "\\item '1'\n",
       "\\item '1'\n",
       "\\item '1'\n",
       "\\item '2'\n",
       "\\item '2'\n",
       "\\item '2'\n",
       "\\item '2'\n",
       "\\item '2'\n",
       "\\item '2'\n",
       "\\item '3'\n",
       "\\item '3'\n",
       "\\item '3'\n",
       "\\item '3'\n",
       "\\item '3'\n",
       "\\item '3'\n",
       "\\item '4'\n",
       "\\item '4'\n",
       "\\item '4'\n",
       "\\item '4'\n",
       "\\item '4'\n",
       "\\item '4'\n",
       "\\item 'NA'\n",
       "\\item 'NA'\n",
       "\\item 'NA'\n",
       "\\end{enumerate*}\n"
      ],
      "text/markdown": [
       "1. '1'\n",
       "2. '1'\n",
       "3. '1'\n",
       "4. '1'\n",
       "5. '1'\n",
       "6. '1'\n",
       "7. '2'\n",
       "8. '2'\n",
       "9. '2'\n",
       "10. '2'\n",
       "11. '2'\n",
       "12. '2'\n",
       "13. '3'\n",
       "14. '3'\n",
       "15. '3'\n",
       "16. '3'\n",
       "17. '3'\n",
       "18. '3'\n",
       "19. '4'\n",
       "20. '4'\n",
       "21. '4'\n",
       "22. '4'\n",
       "23. '4'\n",
       "24. '4'\n",
       "25. 'NA'\n",
       "26. 'NA'\n",
       "27. 'NA'\n",
       "\n",
       "\n"
      ],
      "text/plain": [
       " [1] \"1\"  \"1\"  \"1\"  \"1\"  \"1\"  \"1\"  \"2\"  \"2\"  \"2\"  \"2\"  \"2\"  \"2\"  \"3\"  \"3\"  \"3\" \n",
       "[16] \"3\"  \"3\"  \"3\"  \"4\"  \"4\"  \"4\"  \"4\"  \"4\"  \"4\"  \"NA\" \"NA\" \"NA\""
      ]
     },
     "metadata": {},
     "output_type": "display_data"
    },
    {
     "data": {
      "text/html": [
       "<style>\n",
       ".list-inline {list-style: none; margin:0; padding: 0}\n",
       ".list-inline>li {display: inline-block}\n",
       ".list-inline>li:not(:last-child)::after {content: \"\\00b7\"; padding: 0 .5ex}\n",
       "</style>\n",
       "<ol class=list-inline><li>9</li><li>8</li><li>8</li><li>9</li><li>7</li><li>7</li><li>2</li><li>5</li><li>4</li><li>3</li><li>4</li><li>3</li><li>9</li><li>3</li><li>7</li><li>8</li><li>5</li><li>6</li><li>5</li><li>7</li><li>3</li><li>6</li><li>7</li><li>4</li></ol>\n"
      ],
      "text/latex": [
       "\\begin{enumerate*}\n",
       "\\item 9\n",
       "\\item 8\n",
       "\\item 8\n",
       "\\item 9\n",
       "\\item 7\n",
       "\\item 7\n",
       "\\item 2\n",
       "\\item 5\n",
       "\\item 4\n",
       "\\item 3\n",
       "\\item 4\n",
       "\\item 3\n",
       "\\item 9\n",
       "\\item 3\n",
       "\\item 7\n",
       "\\item 8\n",
       "\\item 5\n",
       "\\item 6\n",
       "\\item 5\n",
       "\\item 7\n",
       "\\item 3\n",
       "\\item 6\n",
       "\\item 7\n",
       "\\item 4\n",
       "\\end{enumerate*}\n"
      ],
      "text/markdown": [
       "1. 9\n",
       "2. 8\n",
       "3. 8\n",
       "4. 9\n",
       "5. 7\n",
       "6. 7\n",
       "7. 2\n",
       "8. 5\n",
       "9. 4\n",
       "10. 3\n",
       "11. 4\n",
       "12. 3\n",
       "13. 9\n",
       "14. 3\n",
       "15. 7\n",
       "16. 8\n",
       "17. 5\n",
       "18. 6\n",
       "19. 5\n",
       "20. 7\n",
       "21. 3\n",
       "22. 6\n",
       "23. 7\n",
       "24. 4\n",
       "\n",
       "\n"
      ],
      "text/plain": [
       " [1] 9 8 8 9 7 7 2 5 4 3 4 3 9 3 7 8 5 6 5 7 3 6 7 4\n",
       "attr(,\"na.action\")\n",
       "[1] 25 26 27\n",
       "attr(,\"class\")\n",
       "[1] \"omit\""
      ]
     },
     "metadata": {},
     "output_type": "display_data"
    },
    {
     "data": {
      "text/html": [
       "<style>\n",
       ".list-inline {list-style: none; margin:0; padding: 0}\n",
       ".list-inline>li {display: inline-block}\n",
       ".list-inline>li:not(:last-child)::after {content: \"\\00b7\"; padding: 0 .5ex}\n",
       "</style>\n",
       "<ol class=list-inline><li>1</li><li>1</li><li>1</li><li>1</li><li>1</li><li>1</li><li>2</li><li>2</li><li>2</li><li>2</li><li>2</li><li>2</li><li>3</li><li>3</li><li>3</li><li>3</li><li>3</li><li>3</li><li>4</li><li>4</li><li>4</li><li>4</li><li>4</li><li>4</li></ol>\n",
       "\n",
       "<details>\n",
       "\t<summary style=display:list-item;cursor:pointer>\n",
       "\t\t<strong>Levels</strong>:\n",
       "\t</summary>\n",
       "\t<style>\n",
       "\t.list-inline {list-style: none; margin:0; padding: 0}\n",
       "\t.list-inline>li {display: inline-block}\n",
       "\t.list-inline>li:not(:last-child)::after {content: \"\\00b7\"; padding: 0 .5ex}\n",
       "\t</style>\n",
       "\t<ol class=list-inline><li>'1'</li><li>'2'</li><li>'3'</li><li>'4'</li></ol>\n",
       "</details>"
      ],
      "text/latex": [
       "\\begin{enumerate*}\n",
       "\\item 1\n",
       "\\item 1\n",
       "\\item 1\n",
       "\\item 1\n",
       "\\item 1\n",
       "\\item 1\n",
       "\\item 2\n",
       "\\item 2\n",
       "\\item 2\n",
       "\\item 2\n",
       "\\item 2\n",
       "\\item 2\n",
       "\\item 3\n",
       "\\item 3\n",
       "\\item 3\n",
       "\\item 3\n",
       "\\item 3\n",
       "\\item 3\n",
       "\\item 4\n",
       "\\item 4\n",
       "\\item 4\n",
       "\\item 4\n",
       "\\item 4\n",
       "\\item 4\n",
       "\\end{enumerate*}\n",
       "\n",
       "\\emph{Levels}: \\begin{enumerate*}\n",
       "\\item '1'\n",
       "\\item '2'\n",
       "\\item '3'\n",
       "\\item '4'\n",
       "\\end{enumerate*}\n"
      ],
      "text/markdown": [
       "1. 1\n",
       "2. 1\n",
       "3. 1\n",
       "4. 1\n",
       "5. 1\n",
       "6. 1\n",
       "7. 2\n",
       "8. 2\n",
       "9. 2\n",
       "10. 2\n",
       "11. 2\n",
       "12. 2\n",
       "13. 3\n",
       "14. 3\n",
       "15. 3\n",
       "16. 3\n",
       "17. 3\n",
       "18. 3\n",
       "19. 4\n",
       "20. 4\n",
       "21. 4\n",
       "22. 4\n",
       "23. 4\n",
       "24. 4\n",
       "\n",
       "\n",
       "\n",
       "**Levels**: 1. '1'\n",
       "2. '2'\n",
       "3. '3'\n",
       "4. '4'\n",
       "\n",
       "\n"
      ],
      "text/plain": [
       " [1] 1 1 1 1 1 1 2 2 2 2 2 2 3 3 3 3 3 3 4 4 4 4 4 4\n",
       "Levels: 1 2 3 4"
      ]
     },
     "metadata": {},
     "output_type": "display_data"
    },
    {
     "data": {
      "text/plain": [
       "            Df Sum Sq Mean Sq F value   Pr(>F)    \n",
       "q1grp        3  63.79  21.264   9.212 0.000495 ***\n",
       "Residuals   20  46.17   2.308                     \n",
       "---\n",
       "Signif. codes:  0 '***' 0.001 '**' 0.01 '*' 0.05 '.' 0.1 ' ' 1"
      ]
     },
     "metadata": {},
     "output_type": "display_data"
    }
   ],
   "source": [
    "# Any differences in Group means indicates One-way anova test with H0: a1=a2=a3=a4 & H1: a1=!a2=!a3=!a4 \n",
    "library(\"stats\")\n",
    "paste(Q1Group)\n",
    "q1cor <- na.omit(Q1Correct) # use this to remove n/a values in columns\n",
    "q1cor \n",
    "\n",
    "q1grp <- factor(na.omit(Q1Group))       #Append the Q1group into factor datatype for aov parse\n",
    "q1grp\n",
    "\n",
    "# 3.1 is a one way anova has the only grouping factor is the 4 groups (Note: Gender was not specified as a factor in the problem)\n",
    "\n",
    "#call Anova function\n",
    "ano <- aov(q1cor~q1grp)\n",
    "summary(ano)\n",
    "\n",
    "\n",
    "#conclusion: \n",
    "# The Observed Test Statistic 9.212 is in the Rejection Region (it \n",
    "# is > 3.10) and the p-value is less than 0.001 so we can reject H0 in\n",
    "# favour of H1 at the 5% level. This there is sufficient evidence that\n",
    "# the mean number of correct answers is not the same for all four pattern\n",
    "# recognition skills groups."
   ]
  },
  {
   "cell_type": "markdown",
   "id": "b2492a31",
   "metadata": {},
   "source": [
    "<h3>3.2\n",
    "</h3>\n",
    "<p>\n",
    "    Data columns Q2Days and Q2Strain show the number of days to death of mice inoculated with three strains of typhoid organism. Carry out an analysis of variance to test whether the differences between the means are significant. Assume that the tests were carried out on independent groups of mice."
   ]
  },
  {
   "cell_type": "code",
   "execution_count": 17,
   "id": "6d5a774a",
   "metadata": {},
   "outputs": [
    {
     "data": {
      "text/plain": [
       "            Df Sum Sq Mean Sq F value   Pr(>F)    \n",
       "q2s          2  87.63   43.81   12.65 0.000177 ***\n",
       "Residuals   24  83.11    3.46                     \n",
       "---\n",
       "Signif. codes:  0 '***' 0.001 '**' 0.01 '*' 0.05 '.' 0.1 ' ' 1"
      ]
     },
     "metadata": {},
     "output_type": "display_data"
    }
   ],
   "source": [
    "q2s <- factor(Q2Strain)\n",
    "\n",
    "an1 <- aov(Q2Days~q2s)\n",
    "summary(an1)\n",
    "\n",
    "\n",
    "# The Observed Test Statistic (12.65) is in the Rejection Region (>3.40) and\n",
    "# p-value is < 0.0001 (NB P(F(2.24)>9.34)=0.0001) so we can reject H0 in\n",
    "# favour of H1 at the 5% level and conclude that there is sufficient\n",
    "# evidence at the 5% level fo a difference somewhere in the mean number of\n",
    "# days to death for the three strains of mice."
   ]
  },
  {
   "cell_type": "markdown",
   "id": "8c7ab0ed",
   "metadata": {},
   "source": [
    "<h3>3.3\n",
    "</h3>\n",
    "<p>\n",
    "    Four groups of patients suffering from hypertension were given different hypotensive drugs. The fall in systolic blood pressure over one day was measured for each patient. The results are given in data columns Q3BPFall and Q3Group.\n",
    "</p>\n",
    "<p>\n",
    "    \tApply an appropriate test to examine whether there is a difference in the average fall in blood pressure between the drugs. What conclusion can you make from these results?\n",
    "</p>\n",
    "    "
   ]
  },
  {
   "cell_type": "code",
   "execution_count": 20,
   "id": "c4cad09c",
   "metadata": {
    "scrolled": true
   },
   "outputs": [
    {
     "data": {
      "text/plain": [
       "            Df Sum Sq Mean Sq F value Pr(>F)   \n",
       "q3g          3  57.69  19.229   10.15 0.0013 **\n",
       "Residuals   12  22.73   1.894                  \n",
       "---\n",
       "Signif. codes:  0 '***' 0.001 '**' 0.01 '*' 0.05 '.' 0.1 ' ' 1"
      ]
     },
     "metadata": {},
     "output_type": "display_data"
    }
   ],
   "source": [
    "#Lab3data\n",
    "# One way Anova solution \"single factor\"\n",
    "q3g <- factor(na.omit(Q3Group))\n",
    "\n",
    "fall <- na.omit(Q3BPFall)\n",
    "\n",
    "an2 <- aov(fall~q3g)\n",
    "summary(an2)\n"
   ]
  },
  {
   "cell_type": "markdown",
   "id": "31a2878e",
   "metadata": {},
   "source": [
    "<h3>3.4\n",
    "</h3>\n",
    "<p>\n",
    "    The following results were obtained from a study to investigate the viewing habits of people living in Scotland. The responses examined below is the number of hours of television watched each week by an individual and their age and gender. Number of hours viewing is coded as either less than 21 hours or 21 greater than 21 hours per week and Age is coded as less than 18, between 18 and 50, and over 50.\n",
    "</p>\n",
    "    <table>\n",
    "    <thead>\n",
    "      <tr>\n",
    "        <th>Male</th>\n",
    "        <th>$\\quad$</th>\n",
    "        <th>Age</th>\n",
    "        <th>$\\quad$</th>\n",
    "      </tr>\n",
    "    </thead>\n",
    "    <tbody>\n",
    "      <tr>\n",
    "          <td>$\\quad$</td>\n",
    "          <td>under 18</td>\n",
    "          <td>18-50</td>\n",
    "          <td>over 50</td>\n",
    "      </tr>\n",
    "      <tr>\n",
    "          <td>under 21 hours</td>\n",
    "          <td>10</td>\n",
    "          <td>20</td>\n",
    "          <td>9</td>\n",
    "      </tr>\n",
    "      <tr>\n",
    "          <td>over 21 hours</td>\n",
    "          <td>10</td>\n",
    "          <td>4</td>\n",
    "          <td>11</td>\n",
    "      </tr>\n",
    "    </tbody>\n",
    "    </table>\n",
    "    <table>\n",
    "    <thead>\n",
    "      <tr>\n",
    "        <th>Female</th>\n",
    "        <th>$\\quad$</th>\n",
    "        <th>Age</th>\n",
    "        <th>$\\quad$</th>\n",
    "     </tr>\n",
    "    </thead>\n",
    "    <tbody>\n",
    "      <tr>\n",
    "          <td>$\\quad$</td>\n",
    "          <td>under 18</td>\n",
    "          <td>18-50</td>\n",
    "          <td>over 50</td>\n",
    "      </tr>\n",
    "      <tr>\n",
    "          <td>under 21 hours</td>\n",
    "          <td>18</td>\n",
    "          <td>18</td>\n",
    "          <td>12</td>\n",
    "      </tr>\n",
    "      <tr>\n",
    "          <td>over 21 hours</td>\n",
    "          <td>12</td>\n",
    "          <td>4</td>\n",
    "          <td>8</td>\n",
    "      </tr>\n",
    "    </tbody>\n",
    "    </table>\n",
    "    <ul>\n",
    "            <li>Are Age and Number of hours of TV watched associated for either gender?\n",
    "            </li>\n",
    "\t\t\t<li>Prior to using the formal test, calculate proportions to form a subjective impression.\n",
    "\t\t\t</li>\n",
    "\t\t\t<li>Is there an association between Age and Number of hours of TV watched in the general population as estimated by this sample?\n",
    "            </li>\t\t\t\n",
    "\t\t\t<li>\n",
    "\t\t\tCompare the above results.\n",
    "            </li>"
   ]
  },
  {
   "cell_type": "code",
   "execution_count": null,
   "id": "03e3fa6d",
   "metadata": {},
   "outputs": [],
   "source": []
  },
  {
   "cell_type": "markdown",
   "id": "8cb64b1a",
   "metadata": {},
   "source": [
    "<h3>3.5\n",
    "</h3>\n",
    "<p>\n",
    "    A random sample of 500 units is taken from each day’s production and inspected for defective units. The number of defectives recorded in the last working week were as follows:\n",
    "    <table>\n",
    "    <thead>\n",
    "      <tr>\n",
    "        <th>Day</th>\n",
    "        <th>Number of defectives</th>\n",
    "      </tr>\n",
    "    </thead>\n",
    "    <tbody>\n",
    "      <tr>\n",
    "          <td>Monday</td>\n",
    "          <td>15</td>\n",
    "      </tr>\n",
    "      <tr>\n",
    "          <td>Tuesday</td>\n",
    "          <td>8</td>\n",
    "      </tr>\n",
    "      <tr>\n",
    "          <td>Wednesday</td>\n",
    "          <td>5</td>\n",
    "      </tr>\n",
    "      <tr>\n",
    "          <td>Thursday</td>\n",
    "          <td>5</td>\n",
    "      </tr>\n",
    "      <tr>\n",
    "          <td>Friday</td>\n",
    "          <td>12</td>\n",
    "      </tr>\n",
    "    </tbody>\n",
    "    </table>\n",
    "<p>\t\t\n",
    "    Test the hypothesis that the difference between the days is due to chance.\n",
    "</p>\n",
    "    "
   ]
  },
  {
   "cell_type": "code",
   "execution_count": 27,
   "id": "5712d4ec",
   "metadata": {},
   "outputs": [
    {
     "data": {
      "text/plain": [
       "            Df Sum Sq Mean Sq F value Pr(>F)\n",
       "day          4      0       0       0      1\n",
       "Residuals    5 580966  116193               "
      ]
     },
     "metadata": {},
     "output_type": "display_data"
    }
   ],
   "source": [
    "#day <- factor(c('mon','tues','wed','thur','fri',\n",
    "#               'mon','tues','wed','thur','fri'))\n",
    "#defe <- c(15,8,5,5,12,\n",
    "#         485,492,495,495,488)\n",
    "#an5 <- aov(defe~day)\n",
    "#summary(an5)"
   ]
  },
  {
   "cell_type": "code",
   "execution_count": null,
   "id": "f351208b",
   "metadata": {},
   "outputs": [],
   "source": []
  }
 ],
 "metadata": {
  "kernelspec": {
   "display_name": "R",
   "language": "R",
   "name": "ir"
  },
  "language_info": {
   "codemirror_mode": "r",
   "file_extension": ".r",
   "mimetype": "text/x-r-source",
   "name": "R",
   "pygments_lexer": "r",
   "version": "4.1.1"
  }
 },
 "nbformat": 4,
 "nbformat_minor": 5
}
