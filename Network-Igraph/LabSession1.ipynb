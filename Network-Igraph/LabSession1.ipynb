{
 "cells": [
  {
   "cell_type": "code",
   "execution_count": 1,
   "id": "bcee56c4",
   "metadata": {
    "scrolled": true
   },
   "outputs": [
    {
     "name": "stderr",
     "output_type": "stream",
     "text": [
      "Warning message:\n",
      "\"package 'igraph' was built under R version 4.1.2\"\n",
      "\n",
      "Attaching package: 'igraph'\n",
      "\n",
      "\n",
      "The following objects are masked from 'package:stats':\n",
      "\n",
      "    decompose, spectrum\n",
      "\n",
      "\n",
      "The following object is masked from 'package:base':\n",
      "\n",
      "    union\n",
      "\n",
      "\n"
     ]
    }
   ],
   "source": [
    "#install.packages(\"igraph\")\n",
    "library(igraph)"
   ]
  },
  {
   "cell_type": "markdown",
   "id": "5578a83e",
   "metadata": {},
   "source": [
    "# Exercise 1: import adjacency matrix data from csv and plot igraph"
   ]
  },
  {
   "cell_type": "code",
   "execution_count": 2,
   "id": "76317f5b",
   "metadata": {},
   "outputs": [],
   "source": [
    "# Read csv data into variable\n",
    "dat= read.csv(\"MATPMD2_Adjacency1.csv\",header=TRUE,row.names=1,check.names=FALSE)"
   ]
  },
  {
   "cell_type": "code",
   "execution_count": 3,
   "id": "aa12ec0f",
   "metadata": {},
   "outputs": [
    {
     "data": {
      "text/html": [
       "<table class=\"dataframe\">\n",
       "<caption>A data.frame: 7 × 7</caption>\n",
       "<thead>\n",
       "\t<tr><th></th><th scope=col>A</th><th scope=col>B</th><th scope=col>C</th><th scope=col>D</th><th scope=col>E</th><th scope=col>F</th><th scope=col>G</th></tr>\n",
       "\t<tr><th></th><th scope=col>&lt;int&gt;</th><th scope=col>&lt;int&gt;</th><th scope=col>&lt;int&gt;</th><th scope=col>&lt;int&gt;</th><th scope=col>&lt;int&gt;</th><th scope=col>&lt;int&gt;</th><th scope=col>&lt;int&gt;</th></tr>\n",
       "</thead>\n",
       "<tbody>\n",
       "\t<tr><th scope=row>A</th><td>0</td><td>1</td><td>0</td><td>1</td><td>0</td><td>1</td><td>0</td></tr>\n",
       "\t<tr><th scope=row>B</th><td>1</td><td>0</td><td>1</td><td>1</td><td>0</td><td>1</td><td>0</td></tr>\n",
       "\t<tr><th scope=row>C</th><td>0</td><td>1</td><td>0</td><td>0</td><td>0</td><td>0</td><td>0</td></tr>\n",
       "\t<tr><th scope=row>D</th><td>1</td><td>1</td><td>0</td><td>0</td><td>1</td><td>1</td><td>0</td></tr>\n",
       "\t<tr><th scope=row>E</th><td>0</td><td>0</td><td>0</td><td>1</td><td>0</td><td>1</td><td>0</td></tr>\n",
       "\t<tr><th scope=row>F</th><td>1</td><td>1</td><td>0</td><td>1</td><td>1</td><td>0</td><td>1</td></tr>\n",
       "\t<tr><th scope=row>G</th><td>0</td><td>0</td><td>0</td><td>0</td><td>0</td><td>1</td><td>0</td></tr>\n",
       "</tbody>\n",
       "</table>\n"
      ],
      "text/latex": [
       "A data.frame: 7 × 7\n",
       "\\begin{tabular}{r|lllllll}\n",
       "  & A & B & C & D & E & F & G\\\\\n",
       "  & <int> & <int> & <int> & <int> & <int> & <int> & <int>\\\\\n",
       "\\hline\n",
       "\tA & 0 & 1 & 0 & 1 & 0 & 1 & 0\\\\\n",
       "\tB & 1 & 0 & 1 & 1 & 0 & 1 & 0\\\\\n",
       "\tC & 0 & 1 & 0 & 0 & 0 & 0 & 0\\\\\n",
       "\tD & 1 & 1 & 0 & 0 & 1 & 1 & 0\\\\\n",
       "\tE & 0 & 0 & 0 & 1 & 0 & 1 & 0\\\\\n",
       "\tF & 1 & 1 & 0 & 1 & 1 & 0 & 1\\\\\n",
       "\tG & 0 & 0 & 0 & 0 & 0 & 1 & 0\\\\\n",
       "\\end{tabular}\n"
      ],
      "text/markdown": [
       "\n",
       "A data.frame: 7 × 7\n",
       "\n",
       "| <!--/--> | A &lt;int&gt; | B &lt;int&gt; | C &lt;int&gt; | D &lt;int&gt; | E &lt;int&gt; | F &lt;int&gt; | G &lt;int&gt; |\n",
       "|---|---|---|---|---|---|---|---|\n",
       "| A | 0 | 1 | 0 | 1 | 0 | 1 | 0 |\n",
       "| B | 1 | 0 | 1 | 1 | 0 | 1 | 0 |\n",
       "| C | 0 | 1 | 0 | 0 | 0 | 0 | 0 |\n",
       "| D | 1 | 1 | 0 | 0 | 1 | 1 | 0 |\n",
       "| E | 0 | 0 | 0 | 1 | 0 | 1 | 0 |\n",
       "| F | 1 | 1 | 0 | 1 | 1 | 0 | 1 |\n",
       "| G | 0 | 0 | 0 | 0 | 0 | 1 | 0 |\n",
       "\n"
      ],
      "text/plain": [
       "  A B C D E F G\n",
       "A 0 1 0 1 0 1 0\n",
       "B 1 0 1 1 0 1 0\n",
       "C 0 1 0 0 0 0 0\n",
       "D 1 1 0 0 1 1 0\n",
       "E 0 0 0 1 0 1 0\n",
       "F 1 1 0 1 1 0 1\n",
       "G 0 0 0 0 0 1 0"
      ]
     },
     "metadata": {},
     "output_type": "display_data"
    }
   ],
   "source": [
    "View(dat)"
   ]
  },
  {
   "cell_type": "code",
   "execution_count": 4,
   "id": "b0301f86",
   "metadata": {},
   "outputs": [],
   "source": [
    "# create a network object within R using the adjacency matrix Data\n",
    "g=graph.adjacency(as.matrix(dat),mode=\"undirected\",weighted=NULL)"
   ]
  },
  {
   "cell_type": "code",
   "execution_count": 5,
   "id": "02a95481",
   "metadata": {},
   "outputs": [
    {
     "name": "stdout",
     "output_type": "stream",
     "text": [
      "IGRAPH 352da5e UN-- 7 10 -- \n",
      "+ attr: name (v/c)\n"
     ]
    }
   ],
   "source": [
    "# use summary to see info on created network graph\n",
    "summary(g)"
   ]
  },
  {
   "cell_type": "code",
   "execution_count": 7,
   "id": "5fc7aa9e",
   "metadata": {},
   "outputs": [
    {
     "data": {
      "image/png": "[encoded data removed]",
      "text/plain": [
       "Plot with title \"\""
      ]
     },
     "metadata": {
      "image/png": {
       "height": 420,
       "width": 420
      }
     },
     "output_type": "display_data"
    }
   ],
   "source": [
    "#Use function below to plot a graph /network ibject\n",
    "plot.igraph(g)"
   ]
  },
  {
   "cell_type": "markdown",
   "id": "32557b07",
   "metadata": {},
   "source": [
    "# Exercise 2\n",
    "<p> invert the o's and 1's in 'dat' and plot a new graph for the new matrix of data  </p>"
   ]
  },
  {
   "cell_type": "code",
   "execution_count": 10,
   "id": "8bed7852",
   "metadata": {},
   "outputs": [],
   "source": [
    "# Read csv data into variable\n",
    "dat1= read.csv(\"MATPMD2_Adjacency2.csv\",header=TRUE,row.names=1,check.names=FALSE)"
   ]
  },
  {
   "cell_type": "code",
   "execution_count": 11,
   "id": "498bd280",
   "metadata": {},
   "outputs": [],
   "source": [
    "# create a network object within R using the adjacency matrix Data\n",
    "g1=graph.adjacency(as.matrix(dat1),mode=\"undirected\",weighted=NULL)"
   ]
  },
  {
   "cell_type": "code",
   "execution_count": 12,
   "id": "29e5b9f4",
   "metadata": {},
   "outputs": [
    {
     "name": "stdout",
     "output_type": "stream",
     "text": [
      "IGRAPH e6c61bd UN-- 7 18 -- \n",
      "+ attr: name (v/c)\n"
     ]
    }
   ],
   "source": [
    "summary(g1)"
   ]
  },
  {
   "cell_type": "code",
   "execution_count": 15,
   "id": "a164bd67",
   "metadata": {},
   "outputs": [
    {
     "data": {
      "image/png": "[encoded data removed]",
      "text/plain": [
       "Plot with title \"\""
      ]
     },
     "metadata": {
      "image/png": {
       "height": 420,
       "width": 420
      }
     },
     "output_type": "display_data"
    }
   ],
   "source": [
    "plot.igraph(g1)"
   ]
  },
  {
   "cell_type": "code",
   "execution_count": 13,
   "id": "ed5b2449",
   "metadata": {},
   "outputs": [
    {
     "data": {
      "image/png": "[encoded data removed]",
      "text/plain": [
       "Plot with title \"\""
      ]
     },
     "metadata": {
      "image/png": {
       "height": 420,
       "width": 420
      }
     },
     "output_type": "display_data"
    }
   ],
   "source": [
    "# layout=layout.random arg puts vertices at random locations\n",
    "plot.igraph(g1,layout=layout.random)"
   ]
  },
  {
   "cell_type": "code",
   "execution_count": 14,
   "id": "8ebea482",
   "metadata": {},
   "outputs": [
    {
     "data": {
      "image/png": "[encoded data removed]",
      "text/plain": [
       "Plot with title \"\""
      ]
     },
     "metadata": {
      "image/png": {
       "height": 420,
       "width": 420
      }
     },
     "output_type": "display_data"
    }
   ],
   "source": [
    "# layout.circle arg puts vertices at random locations\n",
    "plot.igraph(g1,layout=layout.circle)"
   ]
  },
  {
   "cell_type": "code",
   "execution_count": 19,
   "id": "b7c75227",
   "metadata": {},
   "outputs": [
    {
     "data": {
      "image/png": "[encoded data removed]",
      "text/plain": [
       "Plot with title \"\""
      ]
     },
     "metadata": {
      "image/png": {
       "height": 420,
       "width": 420
      }
     },
     "output_type": "display_data"
    }
   ],
   "source": [
    "# Colours, sizes of vertices and font sizes (and many other things) can also be selected, e.g.,\n",
    "\n",
    "plot.igraph(g1,layout=layout.circle,vertex.label=V(g1)$name,vertex.size=30,vertex.label.color=\"red\",vertex.label.font=2,vertex.color=\"green\",edge.color=\"black\")"
   ]
  },
  {
   "cell_type": "markdown",
   "id": "d8d560d3",
   "metadata": {},
   "source": [
    "<h2> Exercise 3:</h2>\n",
    "<p> Create Adjacency matrix and replot network for the grapgh image below---</p>\n",
    "<img src=\"Ex2_network.png\"> "
   ]
  },
  {
   "cell_type": "code",
   "execution_count": 42,
   "id": "a9bb3492",
   "metadata": {},
   "outputs": [],
   "source": [
    "# Next input adjacency matrix into csv data/dataframe/matrix-table \n",
    "# Dataframe containing adjacency matrix\n",
    "\n",
    "dat3 <- data.frame('1'=c(0,1,1,0,1,0),\n",
    "                 '2'=c(1,0,1,0,0,0),\n",
    "                 '3'=c(1,1,0,1,1,1),\n",
    "                 '4'=c(0,0,1,0,1,1),\n",
    "                 '5'=c(1,0,1,1,0,1),\n",
    "                 '6'=c(0,0,1,1,1,0)\n",
    "                  )"
   ]
  },
  {
   "cell_type": "code",
   "execution_count": 43,
   "id": "651dd5e3",
   "metadata": {},
   "outputs": [
    {
     "data": {
      "text/html": [
       "<table class=\"dataframe\">\n",
       "<caption>A data.frame: 6 × 6</caption>\n",
       "<thead>\n",
       "\t<tr><th scope=col>X1</th><th scope=col>X2</th><th scope=col>X3</th><th scope=col>X4</th><th scope=col>X5</th><th scope=col>X6</th></tr>\n",
       "\t<tr><th scope=col>&lt;dbl&gt;</th><th scope=col>&lt;dbl&gt;</th><th scope=col>&lt;dbl&gt;</th><th scope=col>&lt;dbl&gt;</th><th scope=col>&lt;dbl&gt;</th><th scope=col>&lt;dbl&gt;</th></tr>\n",
       "</thead>\n",
       "<tbody>\n",
       "\t<tr><td>0</td><td>1</td><td>1</td><td>0</td><td>1</td><td>0</td></tr>\n",
       "\t<tr><td>1</td><td>0</td><td>1</td><td>0</td><td>0</td><td>0</td></tr>\n",
       "\t<tr><td>1</td><td>1</td><td>0</td><td>1</td><td>1</td><td>1</td></tr>\n",
       "\t<tr><td>0</td><td>0</td><td>1</td><td>0</td><td>1</td><td>1</td></tr>\n",
       "\t<tr><td>1</td><td>0</td><td>1</td><td>1</td><td>0</td><td>1</td></tr>\n",
       "\t<tr><td>0</td><td>0</td><td>1</td><td>1</td><td>1</td><td>0</td></tr>\n",
       "</tbody>\n",
       "</table>\n"
      ],
      "text/latex": [
       "A data.frame: 6 × 6\n",
       "\\begin{tabular}{llllll}\n",
       " X1 & X2 & X3 & X4 & X5 & X6\\\\\n",
       " <dbl> & <dbl> & <dbl> & <dbl> & <dbl> & <dbl>\\\\\n",
       "\\hline\n",
       "\t 0 & 1 & 1 & 0 & 1 & 0\\\\\n",
       "\t 1 & 0 & 1 & 0 & 0 & 0\\\\\n",
       "\t 1 & 1 & 0 & 1 & 1 & 1\\\\\n",
       "\t 0 & 0 & 1 & 0 & 1 & 1\\\\\n",
       "\t 1 & 0 & 1 & 1 & 0 & 1\\\\\n",
       "\t 0 & 0 & 1 & 1 & 1 & 0\\\\\n",
       "\\end{tabular}\n"
      ],
      "text/markdown": [
       "\n",
       "A data.frame: 6 × 6\n",
       "\n",
       "| X1 &lt;dbl&gt; | X2 &lt;dbl&gt; | X3 &lt;dbl&gt; | X4 &lt;dbl&gt; | X5 &lt;dbl&gt; | X6 &lt;dbl&gt; |\n",
       "|---|---|---|---|---|---|\n",
       "| 0 | 1 | 1 | 0 | 1 | 0 |\n",
       "| 1 | 0 | 1 | 0 | 0 | 0 |\n",
       "| 1 | 1 | 0 | 1 | 1 | 1 |\n",
       "| 0 | 0 | 1 | 0 | 1 | 1 |\n",
       "| 1 | 0 | 1 | 1 | 0 | 1 |\n",
       "| 0 | 0 | 1 | 1 | 1 | 0 |\n",
       "\n"
      ],
      "text/plain": [
       "  X1 X2 X3 X4 X5 X6\n",
       "1 0  1  1  0  1  0 \n",
       "2 1  0  1  0  0  0 \n",
       "3 1  1  0  1  1  1 \n",
       "4 0  0  1  0  1  1 \n",
       "5 1  0  1  1  0  1 \n",
       "6 0  0  1  1  1  0 "
      ]
     },
     "metadata": {},
     "output_type": "display_data"
    }
   ],
   "source": [
    "dat3"
   ]
  },
  {
   "cell_type": "code",
   "execution_count": 44,
   "id": "0bbdad5d",
   "metadata": {},
   "outputs": [],
   "source": [
    "g2=graph.adjacency(as.matrix(dat3),mode=\"undirected\",weighted=NULL)"
   ]
  },
  {
   "cell_type": "code",
   "execution_count": 45,
   "id": "aa18d794",
   "metadata": {},
   "outputs": [
    {
     "name": "stdout",
     "output_type": "stream",
     "text": [
      "IGRAPH b51df6d UN-- 6 10 -- \n",
      "+ attr: name (v/c)\n"
     ]
    }
   ],
   "source": [
    "summary(g2)"
   ]
  },
  {
   "cell_type": "code",
   "execution_count": 63,
   "id": "d79adde5",
   "metadata": {},
   "outputs": [
    {
     "data": {
      "image/png": "[encoded data removed]",
      "text/plain": [
       "Plot with title \"\""
      ]
     },
     "metadata": {
      "image/png": {
       "height": 420,
       "width": 420
      }
     },
     "output_type": "display_data"
    }
   ],
   "source": [
    "# layout.circle arg puts vertices at random locations\n",
    "plot.igraph(g2,layout=layout.circle,vertex.label=V(g2)$name,vertex.size=40,vertex.label.color=\"red\",vertex.label.font=2,vertex.color=\"lightblue\",edge.color=\"red\")"
   ]
  },
  {
   "cell_type": "markdown",
   "id": "84e3f6af",
   "metadata": {},
   "source": [
    "<h2> Exercise 4:</h2>\n",
    "<p> Importing Edge List Data --\n",
    "    Plot graph from a list of edges\n",
    "</p>"
   ]
  },
  {
   "cell_type": "code",
   "execution_count": 65,
   "id": "c122d49a",
   "metadata": {},
   "outputs": [
    {
     "data": {
      "image/png": "[encoded data removed]",
      "text/plain": [
       "Plot with title \"\""
      ]
     },
     "metadata": {
      "image/png": {
       "height": 420,
       "width": 420
      }
     },
     "output_type": "display_data"
    }
   ],
   "source": [
    "datEL=read.csv(\"MATPMD2_EdgeList.csv\",header=TRUE)\n",
    "\n",
    "el=as.matrix(datEL)           #convert dataframe to matrix\n",
    "\n",
    "el[,1]=as.character(el[,1])    #select all 'rows' of data in col 1 then convert to char \n",
    "\n",
    "el[,2]=as.character(el[,2])    #select all 'rows' of data in col 2 then convert to char \n",
    "\n",
    "g3=graph.edgelist(el,directed=FALSE)  #grapgh.edgelist function\n",
    "\n",
    "plot.igraph(g3)"
   ]
  },
  {
   "cell_type": "code",
   "execution_count": 68,
   "id": "0f30148a",
   "metadata": {},
   "outputs": [
    {
     "data": {
      "text/html": [
       "<table class=\"dataframe\">\n",
       "<caption>A matrix: 10 × 2 of type chr</caption>\n",
       "<thead>\n",
       "\t<tr><th scope=col>V1</th><th scope=col>V2</th></tr>\n",
       "</thead>\n",
       "<tbody>\n",
       "\t<tr><td>A</td><td>B</td></tr>\n",
       "\t<tr><td>A</td><td>C</td></tr>\n",
       "\t<tr><td>A</td><td>D</td></tr>\n",
       "\t<tr><td>A</td><td>G</td></tr>\n",
       "\t<tr><td>A</td><td>F</td></tr>\n",
       "\t<tr><td>B</td><td>E</td></tr>\n",
       "\t<tr><td>B</td><td>G</td></tr>\n",
       "\t<tr><td>E</td><td>F</td></tr>\n",
       "\t<tr><td>E</td><td>G</td></tr>\n",
       "\t<tr><td>F</td><td>G</td></tr>\n",
       "</tbody>\n",
       "</table>\n"
      ],
      "text/latex": [
       "A matrix: 10 × 2 of type chr\n",
       "\\begin{tabular}{ll}\n",
       " V1 & V2\\\\\n",
       "\\hline\n",
       "\t A & B\\\\\n",
       "\t A & C\\\\\n",
       "\t A & D\\\\\n",
       "\t A & G\\\\\n",
       "\t A & F\\\\\n",
       "\t B & E\\\\\n",
       "\t B & G\\\\\n",
       "\t E & F\\\\\n",
       "\t E & G\\\\\n",
       "\t F & G\\\\\n",
       "\\end{tabular}\n"
      ],
      "text/markdown": [
       "\n",
       "A matrix: 10 × 2 of type chr\n",
       "\n",
       "| V1 | V2 |\n",
       "|---|---|\n",
       "| A | B |\n",
       "| A | C |\n",
       "| A | D |\n",
       "| A | G |\n",
       "| A | F |\n",
       "| B | E |\n",
       "| B | G |\n",
       "| E | F |\n",
       "| E | G |\n",
       "| F | G |\n",
       "\n"
      ],
      "text/plain": [
       "      V1 V2\n",
       " [1,] A  B \n",
       " [2,] A  C \n",
       " [3,] A  D \n",
       " [4,] A  G \n",
       " [5,] A  F \n",
       " [6,] B  E \n",
       " [7,] B  G \n",
       " [8,] E  F \n",
       " [9,] E  G \n",
       "[10,] F  G "
      ]
     },
     "metadata": {},
     "output_type": "display_data"
    }
   ],
   "source": [
    "el"
   ]
  },
  {
   "cell_type": "markdown",
   "id": "bf1f807e",
   "metadata": {},
   "source": [
    "<h4> Given the above example and using the image below: create a matrix/datafram of edge data to plot a gragh:</h4>\n",
    "<img src=\"Ex3_network img2.png\"> "
   ]
  },
  {
   "cell_type": "code",
   "execution_count": null,
   "id": "94961a97",
   "metadata": {},
   "outputs": [],
   "source": []
  }
 ],
 "metadata": {
  "kernelspec": {
   "display_name": "R",
   "language": "R",
   "name": "ir"
  },
  "language_info": {
   "codemirror_mode": "r",
   "file_extension": ".r",
   "mimetype": "text/x-r-source",
   "name": "R",
   "pygments_lexer": "r",
   "version": "4.1.1"
  }
 },
 "nbformat": 4,
 "nbformat_minor": 5
}
