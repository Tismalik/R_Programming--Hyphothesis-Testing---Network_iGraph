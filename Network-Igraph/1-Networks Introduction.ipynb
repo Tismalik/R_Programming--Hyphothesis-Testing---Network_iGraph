{
 "cells": [
  {
   "cell_type": "code",
   "execution_count": null,
   "metadata": {
    "slideshow": {
     "slide_type": "skip"
    }
   },
   "outputs": [],
   "source": [
    "library(\"IRdisplay\")\n",
    "display_html(\"\n",
    "<style>\n",
    "body {background-color : grey;\n",
    "      color: black;\n",
    "      font-family: Calibri;\n",
    "      font-size: 200%\n",
    "}\n",
    "\n",
    "h1  {color: darkblue;\n",
    "     font-family: Calibri;\n",
    "     font-size: 250%;\n",
    "}\n",
    "\n",
    "h2  {color: red;\n",
    "     font-family: Calibri;    \n",
    "}\n",
    "\n",
    "h3  {color: black;\n",
    "}\n",
    "\n",
    "p   {font-size: 200%;\n",
    "     font-family: Calibri;\n",
    "     padding: 10px 0px 10px;\n",
    "     line-height: 30px;\n",
    "}\n",
    "\n",
    "li {font-size: 200%;\n",
    "    font-family: Calibri;\n",
    "    padding: 10px 0px;\n",
    "    line-height: 30px;\n",
    "}\n",
    "strong {font-size: 150%;\n",
    "        font-weight: bold;    \n",
    "}\n",
    ".row {\n",
    "    display: flex;\n",
    "}\n",
    ".column{\n",
    "    flex:50%;\n",
    "}\n",
    "</style>\n",
    "\")"
   ]
  },
  {
   "cell_type": "markdown",
   "metadata": {
    "slideshow": {
     "slide_type": "slide"
    }
   },
   "source": [
    "\n",
    "<body>\n",
    "    <h1 style = \"font-size: 400%\"> MATPMD2 - Networks & Graph Theory </h1>\n",
    "    <p> My details are:<br>\n",
    "        <ul>\n",
    "            <li>Dr Paul McMenemy</li>\n",
    "            <li>Email - <a href=\"mailto:paul.mcmenemy@stir.ac.uk\">paul.mcmenemy@stir.ac.uk</a></li>\n",
    "            <li>Teams chat - <a href=\"https://teams.microsoft.com/l/chat/0/0?users=paul.mcmenemy@stir.ac.uk\">Click this link</a></li>\n",
    "            <li>Office - Cottrell 4B129 (in the hope that we can meet on campus sometime this academic year, government and university restrictions willing!)</li>\n",
    "        </ul>\n",
    "     <p>I am sometimes on campus so can meet with you in person if you wish, but please contact me first before expecting me to be in my office so that we can organise a mutually suitable time.\n",
    "     </p>\n",
    "</body>"
   ]
  },
  {
   "cell_type": "markdown",
   "metadata": {
    "slideshow": {
     "slide_type": "slide"
    }
   },
   "source": [
    "<body>\n",
    "    <h1 style = \"font-size: 400%\"> MATPMD2 - Networks Office Hours </h1>\n",
    "    <p> My office hours specific for MATPMD2 are:<br>\n",
    "        <ul>\n",
    "            <li><b>11:00 - 12:00 Mondays 29th November, 6th December on Teams</b></li>\n",
    "            <li><b>11:00 - 12:00 Tuesdays 30th November, 7th December on Teams</b></li>\n",
    "            <li>These operate as a drop-in session for your questions on the module</li>\n",
    "            <li>Feel free to email me or send me a Teams chat with any other issues, or if you wish to organise a Teams meeting for any other time outside the seminar drop-ins mentioned above</li>\n",
    "        </ul>\n",
    "</body>"
   ]
  },
  {
   "cell_type": "markdown",
   "metadata": {
    "slideshow": {
     "slide_type": "slide"
    }
   },
   "source": [
    "  \n",
    "<body>\n",
    "    <h1 style = \"font-size: 400%\">Lectures & Computer Lab Details: </h1>\n",
    "    <p><b>Lecture Material:</b></p>\n",
    "    <p>All lecture material will be released on MATPMD2 Canvas pages, in three parts:</p>\n",
    "    <br>\n",
    "    <ul><b>\n",
    "        <li>Networks Session 6 - Released Monday 22th November</li>\n",
    "        <li>Networks Session 7 - Released Monday 29th November</li>\n",
    "        <li>Networks Session 9 - Released Monday 6th December</li></b>\n",
    "    </ul>\n",
    "    <p><b>Computer Labs:</b></p>\n",
    "    <p>There are two practicals that you are required to work through; these will give you sound examples of network analyses to carry out as part of your assignment, so make sure to attempt both these practicals.</p>\n",
    "    <p>To support you during the week that has been assigned to these Practicals, I will be running two Computer Labs where you can attend via Teams and ask for support with the Networks Practicals.</p>\n",
    "    <p>These Computer Labs will run on:</p>\n",
    "    <ul>\n",
    "        <li><b>Networks Session 8 - Week commencing 29th November</b></li>\n",
    "        <li><b>Networks Session 10 - Week commencing 6th Decmber</b></li>\n",
    "    </ul>\n",
    "    <p>See Canvas for full details on how these labs will be organised.</p>\n",
    "</body>"
   ]
  },
  {
   "cell_type": "markdown",
   "metadata": {
    "slideshow": {
     "slide_type": "slide"
    }
   },
   "source": [
    "<body>\n",
    "    <h1 style = \"font-size: 400%\">Assessment - Networks </h1>\n",
    "    <p>\n",
    "        There will be one individual assignment for the Networks part of this module worth <br><br>\n",
    "        <strong>50% of the overall module grade</strong>.\n",
    "    </p>\n",
    "    <p>\n",
    "        Due to the short nature of the Networks part of the module, the submission date for the project is after the end of semester:<br><br>\n",
    "        <strong>Monday December 20th at 17:00</strong><br><br>\n",
    "        Submission will be via Canvas (using Similarity Checking).\n",
    "    </p>\n",
    "    <p> To allow you sufficient time to work on your assignment, the assessment material will be released on Canvas on:<br><br>\n",
    "        <strong>1st December</strong>\n",
    "</body>"
   ]
  },
  {
   "cell_type": "markdown",
   "metadata": {
    "slideshow": {
     "slide_type": "slide"
    }
   },
   "source": [
    "<body>\n",
    "    <h1 style = \"font-size: 400%\">Graph Theory Recap</h1>\n",
    "    <p>\n",
    "        <strong>What is a network/graph?</strong>\n",
    "    </p>\n",
    "    <p>\n",
    "        A graph represents relationships (edges) between entities (nodes).<br><br>\n",
    "        What types of entities?<br>\n",
    "        What types of relationships?<br>\n",
    "        What can they tell us?\n",
    "    </p>\n",
    "    <img src = \"Lecture1_Images/Edge_Node.png\">\n",
    "</body>"
   ]
  },
  {
   "cell_type": "markdown",
   "metadata": {
    "slideshow": {
     "slide_type": "slide"
    }
   },
   "source": [
    "<body>\n",
    "    <h1 style = \"font-size: 400%\">Graph Theory Recap</h1>\n",
    "    <p>\n",
    "        <strong>Can you suggest some types of entities that can be represented in graphs/networks:</strong>\n",
    "    </p>\n",
    "    <p>\n",
    "        <ol>\n",
    "            <li>cities </li>\n",
    "            <li>people </li>\n",
    "            <li>computers </li>\n",
    "            <li>businesses </li>\n",
    "        </ol>\n",
    "    </p>\n",
    "</body>"
   ]
  },
  {
   "cell_type": "markdown",
   "metadata": {
    "slideshow": {
     "slide_type": "slide"
    }
   },
   "source": [
    "<body>\n",
    "    <h1 style = \"font-size: 400%\">Graph Theory Recap ctd.</h1>\n",
    "    <p>\n",
    "        <strong>Can you suggest some types of relationships that can be modelled in graphs/networks for the entities we have stated in the previous cell/slide:</strong>\n",
    "    </p>\n",
    "    <p>\n",
    "        <ol>\n",
    "            <li>distances, roads </li>\n",
    "            <li>friends, family relationships </li>\n",
    "            <li>cables, wifi </li>\n",
    "            <li>supply chains </li>\n",
    "        </ol>\n",
    "    </p>\n",
    "</body>"
   ]
  },
  {
   "cell_type": "markdown",
   "metadata": {
    "slideshow": {
     "slide_type": "slide"
    }
   },
   "source": [
    "<body>\n",
    "    <h1 style = \"font-size: 400%\">Hopefully you came up with something similar to:</h1>\n",
    "    <p><strong>Entities:</strong> individuals, places, businesses, computers, database shards,...</p>\n",
    "    <p><strong>Relationships:</strong> friends/family, distances, suppliers, ethernet/wifi network connections,...</p>\n",
    "</body>"
   ]
  },
  {
   "cell_type": "markdown",
   "metadata": {
    "slideshow": {
     "slide_type": "slide"
    }
   },
   "source": [
    "<body>\n",
    "    <h1 style = \"font-size: 400%\">Types of Graph Relationships/Edges</h1>\n",
    "    <p style = \"font-size: 200%; font-weight: bold\">Edges can be:</p>\n",
    "    <div class=\"row\">\n",
    "        <div class=\"column\">\n",
    "            <ul>\n",
    "                <li style = \"margin-bottom: 100px; margin-top: 30px\"> directed </li>\n",
    "                <li style = \"margin-bottom: 80px\"> undirected </li>\n",
    "                <li> weighted </li>\n",
    "            </ul>\n",
    "        </div>\n",
    "        <div class=\"column\">\n",
    "            <img src = \"Lecture1_Images/Directed_Edge_Node.png\">\n",
    "            <img src = \"Lecture1_Images/Edge_Node.png\">\n",
    "            <img src = \"Lecture1_Images/Weighted_Edge_Node.png\">\n",
    "        </div>\n",
    "    </div>\n",
    "</body>"
   ]
  },
  {
   "cell_type": "markdown",
   "metadata": {
    "slideshow": {
     "slide_type": "slide"
    }
   },
   "source": [
    "<body>\n",
    "    <h1 style = \"font-size: 400%\">What Information Can Be Gained from Graph Representations?</h1>\n",
    "    <div class=\"row\">\n",
    "        <div class=\"column\">\n",
    "            <br><br>\n",
    "            <ul>\n",
    "                <li>Identify important entities</li>\n",
    "                <li>Identify clustering/cliques within network</li>\n",
    "                <li>Find optimal routes (e.g., travelling salesperson problem)</li>\n",
    "            </ul>\n",
    "        </div>\n",
    "        <div class=\"column\">\n",
    "            <img src = \"Lecture1_Images/TSP.png\">\n",
    "        </div>\n",
    "    </div>\n",
    "</body>"
   ]
  },
  {
   "cell_type": "markdown",
   "metadata": {
    "slideshow": {
     "slide_type": "slide"
    }
   },
   "source": [
    "<h1 style = \"font-size: 400%\">Example 1: Electricity Network</h1><br>\n",
    "<body>\n",
    "    <div class=\"column\">\n",
    "        <p><b style = \"font-size:175%\">Entities:</b></p>\n",
    "        <ul>\n",
    "            <li>Power stations (e.g., nuclear, solar, wind, fossil fuel, hydroelectric) </li>\n",
    "            <li>Substations </li>\n",
    "            <li>Industrial users (e.g., factories, shops, rail, educational institutions) </li>\n",
    "            <li>Homes</li>\n",
    "        </ul>\n",
    "    </div>\n",
    "    <div class=\"column\">\n",
    "        <img src = \"Lecture1_Images/ElectricityNetwork.png\"><br>\n",
    "    </div>\n",
    "        <div class=\"column\">\n",
    "            <p><b style = \"font-size:175%\">Relationships:</b></p>\n",
    "        <ul>\n",
    "            <li>High voltage transmission lines</li>\n",
    "            <li>Service wires</li>\n",
    "            <li>(within a home also has a distribution network)</li>\n",
    "        </ul>\n",
    "            <p>Relationships/edges are all <b>directed</b> and <b>weighted</b></p>\n",
    "    </div>\n",
    "</body>"
   ]
  },
  {
   "cell_type": "markdown",
   "metadata": {
    "slideshow": {
     "slide_type": "slide"
    }
   },
   "source": [
    "<h1 style = \"font-size: 400%\">Example 1a: Electricity Network of the Near Future</h1><br>\n",
    "    <div class=\"column\">\n",
    "        <img src = \"Lecture1_Images/FutureGrid.png\">\n",
    "        source: <a href https://www.economist.com/technology-quarterly/2004/03/11/building-the-energy-internet>Future grid image source</a>\n",
    "    </div>"
   ]
  },
  {
   "cell_type": "markdown",
   "metadata": {
    "slideshow": {
     "slide_type": "slide"
    }
   },
   "source": [
    "<h1 style = \"font-size: 400%\">Example 2: London Underground</h1>\n",
    "<body>\n",
    "    <img src = \"Lecture1_Images/LondonUnderground.png\">\n",
    "</body>"
   ]
  },
  {
   "cell_type": "markdown",
   "metadata": {
    "slideshow": {
     "slide_type": "slide"
    }
   },
   "source": [
    "<h1 style = \"font-size: 400%\">Example 2a: London Underground if you are in a wheelchair</h1>\n",
    "<body>\n",
    "    <img src = \"Lecture1_Images/UndergroundWheelchair.png\">\n",
    "    source: <a href = https://www.citymetric.com/transport/what-does-tube-map-look-if-youre-wheelchair-1811>London Underground availability for wheelchair users</a>\n",
    "</body>"
   ]
  },
  {
   "cell_type": "markdown",
   "metadata": {
    "slideshow": {
     "slide_type": "slide"
    }
   },
   "source": [
    "<h1 style = \"font-size: 400%\">Example 2b: Glasgow Underground is a Much Simpler Layout...</h1>\n",
    "<body>\n",
    "    <img src = \"Lecture1_Images/GlasgowUnderground.png\">\n",
    "    <p>... and as a topological map...</p>\n",
    "    <img src = \"Lecture1_Images/ClockworkOrange.png\" style=\"height:auto; width:50%;\" alt = \"Map of Britain showing twitter network\">\n",
    "    <p>... locally known as the \"Clockwork Orange\"</p>\n",
    "</body>"
   ]
  },
  {
   "cell_type": "markdown",
   "metadata": {
    "slideshow": {
     "slide_type": "slide"
    }
   },
   "source": [
    "<h1 style = \"font-size: 400%\">Example 3: Could Twitter Help Urban Planners?</h1>\n",
    "<body>\n",
    "    <p><a href=https://www.theguardian.com/news/datablog/2012/nov/22/using-twitter-mapping-urban-planning-transport-networks>Link to Guardian Article on Twitter Aiding Urban Planning</a></p>\n",
    "    <img src = \"Lecture1_Images/TwitterUrbanPlanning.png\" style=\"height:auto;\">\n",
    "</body>"
   ]
  },
  {
   "cell_type": "markdown",
   "metadata": {},
   "source": [
    "<h1 style = \"font-size: 400%\">Next Session</h1>\n",
    "<body>\n",
    "    <ul>\n",
    "        <li>We will cover more examples of network analysis in the coming sessions</li>\n",
    "        <li>The next session will present in detail the R package - <span style = \"font-family: Courier New\">iGraph</span></li>\n",
    "    </ul>"
   ]
  }
 ],
 "metadata": {
  "kernelspec": {
   "display_name": "R",
   "language": "R",
   "name": "ir"
  },
  "language_info": {
   "codemirror_mode": "r",
   "file_extension": ".r",
   "mimetype": "text/x-r-source",
   "name": "R",
   "pygments_lexer": "r",
   "version": "3.6.3"
  }
 },
 "nbformat": 4,
 "nbformat_minor": 4
}
