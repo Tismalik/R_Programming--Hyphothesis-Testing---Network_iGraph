{
 "cells": [
  {
   "cell_type": "code",
   "execution_count": 1,
   "metadata": {
    "slideshow": {
     "slide_type": "skip"
    }
   },
   "outputs": [
    {
     "data": {
      "text/html": [
       "\n",
       "<style>\n",
       "body {background-color : grey;\n",
       "      color: black;\n",
       "      font-family: Calibri;\n",
       "      font-size: 200%\n",
       "}\n",
       "\n",
       "h1  {color: darkblue;\n",
       "     font-family: Calibri;\n",
       "     font-size: 400%;\n",
       "}\n",
       "\n",
       "h2  {color: red;\n",
       "     font-family: Calibri; \n",
       "     font-size: 350%;\n",
       "}\n",
       "\n",
       "h3  {color: black;\n",
       "}\n",
       "\n",
       "p   {font-size: 200%;\n",
       "     font-family: Calibri;\n",
       "     padding: 10px 0px 10px;\n",
       "     line-height: 30px;\n",
       "}\n",
       "\n",
       "li {font-size: 200%;\n",
       "    font-family: Calibri;\n",
       "    padding: 10px 0px;\n",
       "    line-height: 30px;\n",
       "}\n",
       "strong {font-size: 150%;\n",
       "        font-weight: bold;    \n",
       "}\n",
       ".row {\n",
       "    display: flex;\n",
       "}\n",
       ".column{\n",
       "    flex:50%;\n",
       "}\n",
       "</style>\n"
      ]
     },
     "metadata": {},
     "output_type": "display_data"
    }
   ],
   "source": [
    "library(\"IRdisplay\")\n",
    "display_html(\"\n",
    "<style>\n",
    "body {background-color : grey;\n",
    "      color: black;\n",
    "      font-family: Calibri;\n",
    "      font-size: 200%\n",
    "}\n",
    "\n",
    "h1  {color: darkblue;\n",
    "     font-family: Calibri;\n",
    "     font-size: 400%;\n",
    "}\n",
    "\n",
    "h2  {color: red;\n",
    "     font-family: Calibri; \n",
    "     font-size: 350%;\n",
    "}\n",
    "\n",
    "h3  {color: black;\n",
    "}\n",
    "\n",
    "p   {font-size: 200%;\n",
    "     font-family: Calibri;\n",
    "     padding: 10px 0px 10px;\n",
    "     line-height: 30px;\n",
    "}\n",
    "\n",
    "li {font-size: 200%;\n",
    "    font-family: Calibri;\n",
    "    padding: 10px 0px;\n",
    "    line-height: 30px;\n",
    "}\n",
    "strong {font-size: 150%;\n",
    "        font-weight: bold;    \n",
    "}\n",
    ".row {\n",
    "    display: flex;\n",
    "}\n",
    ".column{\n",
    "    flex:50%;\n",
    "}\n",
    "</style>\n",
    "\")"
   ]
  },
  {
   "cell_type": "markdown",
   "metadata": {
    "slideshow": {
     "slide_type": "slide"
    }
   },
   "source": [
    "<h1 style = \"font-size:400%\">MATPMD2 - Networks & Graph Theory</h1>\n",
    "<p>University of Stirling - Dr Paul McMenemy</p>\n",
    "<p style = \"text-decoration: underline;\">Network Analysis Using <span style = \"font-family: Courier New\">iGraph</span> within R/RStudio</p>\n",
    "<p>  <ul>\n",
    "        <li><span style = \"font-family: Courier New\">iGraph</span> <a href=\"https://igraph.org/r/\">Documentation</a></li>\n",
    "        <li><span style = \"font-family: Courier New\">iGraph</span> <a href=\"https://igraph.org/r/doc/aaa-igraph-package.html\">Manual</a></li>\n",
    "        <li>List of all current <span style = \"font-family: Courier New\">iGraph</span> <a href=\"https://igraph.org/r/doc/\">functions</a></li>\n",
    "    </ul>\n",
    "    <p>\"The main goals of the <span style = \"font-family: Courier New\">iGraph</span> library is to provide a set of data types and functions for:\n",
    "        <ul>\n",
    "            <li>1) pain-free implementation of graph algorithms,</li>\n",
    "            <li>2) fast handling of large graphs, with millions of vertices and edges,</li>\n",
    "            <li>3) allowing rapid prototyping via high level languages like R.\"</li>\n",
    "        </ul>\n",
    "    </p>\n",
    "    <p><em> Make sure to have a read through at least the homepage of the documentation, this will familiarise you with some of the basics of what this package can do and what we may be using it for during the rest of this module, and as well as prove useful for your assignment.</em>\n",
    "    </p>  \n",
    "</p>"
   ]
  },
  {
   "cell_type": "markdown",
   "metadata": {
    "slideshow": {
     "slide_type": "slide"
    }
   },
   "source": [
    "<h1 style = \"font-size: 400%\"> Networks and Graphs - A Very Quick Primer</h1>\n",
    "    <p>Graphs/networks - collections of nodes and edges</p>\n",
    "    <ul>\n",
    "        <li>Node: An entity within the graph</li>\n",
    "        <li>Edge: A relationship/connection between nodes</li>\n",
    "   </ul>\n",
    "   <div class=\"row\">\n",
    "       <div class=\"column\">\n",
    "           <p>A simple, directed graph:</p>\n",
    "           <img src=\"Lecture2_Images/DirectedGraph.png\">\n",
    "        </div>\n",
    "        <div class=\"column\">\n",
    "            <p>and its adjacency matrix:</p>\n",
    "            <img src=\"Lecture2_Images/AdjacencyMatrix.png\" style=\"height:auto; width:50%;\">\n",
    "        </div>\n",
    "   </div>"
   ]
  },
  {
   "cell_type": "markdown",
   "metadata": {
    "slideshow": {
     "slide_type": "slide"
    }
   },
   "source": [
    "<h1 style = \"font-size:400%\">At last, some Coding!</h1>\n",
    "\n",
    "<p> Firstly, we will install and activate the <span style = \"font-family: Courier New\">iGraph</span> package within R. </p>"
   ]
  },
  {
   "cell_type": "code",
   "execution_count": 2,
   "metadata": {
    "slideshow": {
     "slide_type": "slide"
    }
   },
   "outputs": [
    {
     "name": "stderr",
     "output_type": "stream",
     "text": [
      "\n",
      "Attaching package: 'igraph'\n",
      "\n",
      "\n",
      "The following objects are masked from 'package:stats':\n",
      "\n",
      "    decompose, spectrum\n",
      "\n",
      "\n",
      "The following object is masked from 'package:base':\n",
      "\n",
      "    union\n",
      "\n",
      "\n"
     ]
    }
   ],
   "source": [
    "# this code checks whether igraph is currently installed in your system, \n",
    "# and istalls it if it is not found in the list of installed packages\n",
    "if (!\"igraph\" %in% installed.packages()) install.packages(\"igraph\")\n",
    "# this 'library' function loads the package in quotation marks\n",
    "library(\"igraph\")\n",
    "# this sets margins around the plots that we will be generating in this notebook\n",
    "par(oma=c(0,0,0,2),mar=c(0,0,0,0))"
   ]
  },
  {
   "cell_type": "markdown",
   "metadata": {
    "slideshow": {
     "slide_type": "slide"
    }
   },
   "source": [
    "<p> [NOTE - after first running this command, you may receive some message that begins \"<span style = \"font-family: Courier New\">Attaching package: 'iGraph' ...</span>\".<br> This is normal whether using R/RStudio or an R Jupyter notebook as we are in this notebook]</p>"
   ]
  },
  {
   "cell_type": "markdown",
   "metadata": {
    "slideshow": {
     "slide_type": "slide"
    }
   },
   "source": [
    "<h1 style = \"font-size: 400%\">Generating Graphs Using <span style = \"font-family: Courier New\">iGraph</span></h1>\n",
    "<p>These commands allow us to create specific graph types:</p>\n",
    "<ul>\n",
    "    <li><b style = \"font-family: Courier\">make_empty_graph()</b>: not sure I can describe this much better than the funtion name!</li>\n",
    "    <li><b style = \"font-family: Courier\">graph_from_literal()</b>: creates a small graph from a set of edges that are passed to it</li>\n",
    "    <li><b style = \"font-family: Courier\">make_undirected_graph()</b>: creates an undirected simple graph from an edge list</li>\n",
    "    <li><b style = \"font-family: Courier\">directed_graph()</b>: creates a directed simple graph from an edge list</li>\n",
    "</ul>\n",
    "<p>Let's begin by constructing a simple graph, then evolve it as required:</p>"
   ]
  },
  {
   "cell_type": "markdown",
   "metadata": {},
   "source": [
    "<p>Let's make an empty <span style = \"font-family: Courier New\">iGraph</span> object first then populate it with some nodes and edges:</p>"
   ]
  },
  {
   "cell_type": "code",
   "execution_count": 5,
   "metadata": {},
   "outputs": [
    {
     "name": "stdout",
     "output_type": "stream",
     "text": [
      "IGRAPH e04e193 D--- 0 0 -- \n"
     ]
    }
   ],
   "source": [
    "Gr = make_empty_graph()\n",
    "summary(Gr)"
   ]
  },
  {
   "cell_type": "markdown",
   "metadata": {
    "slideshow": {
     "slide_type": "slide"
    }
   },
   "source": [
    "<p>This output tells us a few things. Reading the output from left to right:\n",
    "    <ul>\n",
    "        <li><b>IGRAPH</b>: this tells us that the object <span style = \"font-family: Courier New\">Gr</span> is an <span style = \"font-family: Courier New\">iGraph</span> object</li>\n",
    "        <li><b>9c9e401</b>: this is the HEX name/identifier allocated to the <span style = \"font-family: Courier New\">iGraph</span> object (The actual HEX number will be different for you)</li>\n",
    "        <li><b>D</b>: tells us that <span style = \"font-family: Courier New\">Gr</span> is an Undirected or Directed graph. <span style = \"font-family: Courier New\">make_empty_graph</span> defaults to a directed graph, but can be changed to an undirected by<br><span style = \"font-family: Courier New\"> Gr = make_empty_graph(directed = FALSE)</span></li>\n",
    "        <li><b>0</b>: the number of nodes in our <span style = \"font-family: Courier New\">iGraph</span> object <span style = \"font-family: Courier New\">Gr</span></li>\n",
    "        <li><b>0</b>: the number of edges in our <span style = \"font-family: Courier New\">iGraph</span> object <span style = \"font-family: Courier New\">Gr</span></li>\n",
    "    </ul></p>"
   ]
  },
  {
   "cell_type": "markdown",
   "metadata": {
    "slideshow": {
     "slide_type": "slide"
    }
   },
   "source": [
    "<strong>We can now populate this igraph object using a vector of an even number of nodes.</strong>\n",
    "<p>Let's replicate the graph shown earlier in this presentation in three stages:</p>\n",
    "    <ol>\n",
    "        <li>make a new empty graph</li>\n",
    "        <li>add 5 vertices to it</li>\n",
    "        <li>add the six edges required to replicate the earlier graph</li>\n",
    "    </ol>\n",
    "</p>"
   ]
  },
  {
   "cell_type": "code",
   "execution_count": 5,
   "metadata": {
    "slideshow": {
     "slide_type": "slide"
    }
   },
   "outputs": [
    {
     "name": "stdout",
     "output_type": "stream",
     "text": [
      "IGRAPH 1e6212e D--- 5 7 -- \n"
     ]
    }
   ],
   "source": [
    "Gr <- make_empty_graph() %>% \n",
    "      add_vertices(5) %>%\n",
    "      add_edges(c(2,1,1,4,2,3,3,4,4,3,3,5,4,5))\n",
    "summary(Gr)"
   ]
  },
  {
   "cell_type": "markdown",
   "metadata": {
    "slideshow": {
     "slide_type": "slide"
    }
   },
   "source": [
    "<p>In the code above we have used what is known as a \"pipe\" operator (<b>%>%</b>). You can think of this operator as an R language equivalent of the word \"<b>THEN</b>\".</p>\n",
    "<p>Parsing the above code into English, we can read it as \"make an empty graph, THEN add 5 vertices, THEN add these 6 edges\".</p>\n",
    "<p> We can make this same graph more efficiently using the <span style = \"font-family: Courier\">graph_from_literal()</span> function:"
   ]
  },
  {
   "cell_type": "code",
   "execution_count": 6,
   "metadata": {
    "slideshow": {
     "slide_type": "subslide"
    }
   },
   "outputs": [
    {
     "name": "stdout",
     "output_type": "stream",
     "text": [
      "IGRAPH 7122609 DN-- 5 7 -- \n",
      "+ attr: name (v/c)\n"
     ]
    }
   ],
   "source": [
    "# create \"Gr\" as a simple, undirected graph - check the igraph documentation for the meaning of the \"-+,+-,+\" connections between nodes\n",
    "Gr1 <- graph_from_literal(1+-2,1-+4,2-+3,3+4,3-+5,4-+5) # '-' imploes edge '+' implies direction\n",
    "# output summary information on the graph 'Gr'\n",
    "summary(Gr1)"
   ]
  },
  {
   "cell_type": "markdown",
   "metadata": {
    "slideshow": {
     "slide_type": "slide"
    }
   },
   "source": [
    "<h1 style = \"font-size: 400%\">Plotting Graphs/Networks Using <span style = \"font-family: Courier New\">iGraph</span></h1><p>Let's check what these graphs look like using the plot function within <span style = \"font-family: Courier New\">iGraph</span>:</p>"
   ]
  },
  {
   "cell_type": "code",
   "execution_count": 11,
   "metadata": {
    "slideshow": {
     "slide_type": "subslide"
    }
   },
   "outputs": [
    {
     "data": {
      "image/png": "[encoded data removed]",
      "text/plain": [
       "Plot with title \"\""
      ]
     },
     "metadata": {},
     "output_type": "display_data"
    },
    {
     "data": {
      "image/png": "[encoded data removed]",
      "text/plain": [
       "Plot with title \"\""
      ]
     },
     "metadata": {},
     "output_type": "display_data"
    }
   ],
   "source": [
    "options(repr.plot.width=5, repr.plot.height=5) # this resizes the plot area (default = 7 by 7)\n",
    "plot(Gr)       #both perform the same function in most case\n",
    "plot.igraph(Gr1)       #both perform the same function in most case"
   ]
  },
  {
   "cell_type": "markdown",
   "metadata": {
    "slideshow": {
     "slide_type": "slide"
    }
   },
   "source": [
    "<p>\n",
    "    <strong>Nodes can be named using strings in these graphs:</strong>\n",
    "</p>"
   ]
  },
  {
   "cell_type": "code",
   "execution_count": 13,
   "metadata": {
    "slideshow": {
     "slide_type": "subslide"
    }
   },
   "outputs": [
    {
     "name": "stdout",
     "output_type": "stream",
     "text": [
      "IGRAPH c826db8 DN-- 6 0 -- \n",
      "+ attr: name (v/c)\n"
     ]
    },
    {
     "data": {
      "text/html": [
       "<ol class=list-inline>\n",
       "\t<li>'1'</li>\n",
       "\t<li>'2'</li>\n",
       "\t<li>'3'</li>\n",
       "\t<li>'4'</li>\n",
       "\t<li>'5'</li>\n",
       "\t<li>'Foo'</li>\n",
       "</ol>\n"
      ],
      "text/latex": [
       "\\begin{enumerate*}\n",
       "\\item '1'\n",
       "\\item '2'\n",
       "\\item '3'\n",
       "\\item '4'\n",
       "\\item '5'\n",
       "\\item 'Foo'\n",
       "\\end{enumerate*}\n"
      ],
      "text/markdown": [
       "1. '1'\n",
       "2. '2'\n",
       "3. '3'\n",
       "4. '4'\n",
       "5. '5'\n",
       "6. 'Foo'\n",
       "\n",
       "\n"
      ],
      "text/plain": [
       "[1] \"1\"   \"2\"   \"3\"   \"4\"   \"5\"   \"Foo\""
      ]
     },
     "metadata": {},
     "output_type": "display_data"
    }
   ],
   "source": [
    "Gr2 <-  make_empty_graph() %>% # creates an empty graph\n",
    "        add_vertices(6) %>% # adds six unnamed and unconnected vertices\n",
    "        set_vertex_attr(\"name\", value = c(1:5, \"Foo\")) # sets the vertex names to 1,2,3,4,5,Foo\n",
    "summary(Gr2)\n",
    "vertex_attr(Gr2, \"name\") # this lists the \"Name\" attributes in our Gr2 graph"
   ]
  },
  {
   "cell_type": "markdown",
   "metadata": {
    "slideshow": {
     "slide_type": "slide"
    }
   },
   "source": [
    "<strong>Let's see what our <span style = \"font-family: Courier New\">Gr2</span> graph looks like:</strong>"
   ]
  },
  {
   "cell_type": "code",
   "execution_count": 14,
   "metadata": {
    "slideshow": {
     "slide_type": "subslide"
    }
   },
   "outputs": [
    {
     "data": {
      "image/png": "[encoded data removed]",
      "text/plain": [
       "Plot with title \"\""
      ]
     },
     "metadata": {},
     "output_type": "display_data"
    }
   ],
   "source": [
    "plot(Gr2, vertex.size = 30) # this draws the Gr2 graph with a larger node size (default = 15)"
   ]
  },
  {
   "cell_type": "markdown",
   "metadata": {
    "slideshow": {
     "slide_type": "slide"
    }
   },
   "source": [
    "<strong>We only have nodes but no edges, which is not very useful, so let's add an edge:</strong>"
   ]
  },
  {
   "cell_type": "code",
   "execution_count": 15,
   "metadata": {
    "slideshow": {
     "slide_type": "subslide"
    }
   },
   "outputs": [
    {
     "name": "stdout",
     "output_type": "stream",
     "text": [
      "IGRAPH ded83b9 DN-- 6 1 -- \n",
      "+ attr: name (v/c)\n"
     ]
    }
   ],
   "source": [
    "Gr2 <- Gr2 %>% add_edges(c(1,\"Foo\")) # adds a directed edge between 1 and 'Foo'\n",
    "summary(Gr2)"
   ]
  },
  {
   "cell_type": "markdown",
   "metadata": {
    "slideshow": {
     "slide_type": "subslide"
    }
   },
   "source": [
    "<p> And now let's plot the <span style = \"font-family: Courier New\">Gr2</span> graph again:</p>"
   ]
  },
  {
   "cell_type": "code",
   "execution_count": 16,
   "metadata": {
    "scrolled": false,
    "slideshow": {
     "slide_type": "subslide"
    }
   },
   "outputs": [
    {
     "data": {
      "image/png": "[encoded data removed]",
      "text/plain": [
       "Plot with title \"\""
      ]
     },
     "metadata": {},
     "output_type": "display_data"
    }
   ],
   "source": [
    "plot(Gr2, vertex.size = 30, layout = layout.circle) # layout = layout.circle does what you think, it draws a ring graph"
   ]
  },
  {
   "cell_type": "markdown",
   "metadata": {
    "slideshow": {
     "slide_type": "slide"
    }
   },
   "source": [
    "<strong>We can add multiple edges at a time in different ways:</strong>"
   ]
  },
  {
   "cell_type": "code",
   "execution_count": 17,
   "metadata": {
    "scrolled": true,
    "slideshow": {
     "slide_type": "subslide"
    }
   },
   "outputs": [
    {
     "data": {
      "image/png": "[encoded data removed]",
      "text/plain": [
       "Plot with title \"\""
      ]
     },
     "metadata": {},
     "output_type": "display_data"
    }
   ],
   "source": [
    "Gr2 <- Gr2 %>% \n",
    "  add_edges(c(4,5)) + # adds a single edge from 4 to 5\n",
    "  path(2,1,4,3) +  # adds a path of edges from 2 to 1 to 4 to 3\n",
    "  path(2,3,5) # adds another path from 2 to 3 to 5\n",
    "plot(Gr2, vertex.size = 30, layout = layout.circle)\n"
   ]
  },
  {
   "cell_type": "markdown",
   "metadata": {
    "slideshow": {
     "slide_type": "subslide"
    }
   },
   "source": [
    "<strong>Note the use of different pipe operators here.</strong>\n",
    "<p>We could use the %>% operator with the <span style = \"font-family: Courier New\">add_edges</span> function, but had to use a different pipe operator (this time a '+') for the <span style = \"font-family: Courier New\">path</span> function.</p>\n",
    "<p>The pipe used will vary dependent upon the function being used after it, so make sure to check the <span style = \"font-family: Courier New\">iGraph</span> documentation if you run into issues.</p>"
   ]
  },
  {
   "cell_type": "markdown",
   "metadata": {
    "slideshow": {
     "slide_type": "slide"
    }
   },
   "source": [
    "<h1 style = \"font-size: 400%\">Graph Attributes</h1>\n",
    "\n",
    "<p>Attributes can represent almost anything about the system you are modelling using a graph/network, as well as how edges and/or vertices are displayed.</p>\n",
    "\n",
    "<strong>Graphs, edges and nodes can all have attributes</strong>\n",
    "<ul>\n",
    "    <li>You can assign nearly any attribute of your choosing</li>\n",
    "    <li>They won't all be used automatically when we plot the graph, but can be useful for more advanced analysis/plotting</li>\n",
    "</ul>"
   ]
  },
  {
   "cell_type": "code",
   "execution_count": 18,
   "metadata": {
    "scrolled": true,
    "slideshow": {
     "slide_type": "slide"
    }
   },
   "outputs": [
    {
     "data": {
      "text/html": [
       "<strong>$color</strong> = <ol class=list-inline>\n",
       "\t<li>'red'</li>\n",
       "\t<li>'red'</li>\n",
       "\t<li>'red'</li>\n",
       "\t<li>'red'</li>\n",
       "\t<li>'red'</li>\n",
       "\t<li>'red'</li>\n",
       "\t<li>'red'</li>\n",
       "\t<li>'blue'</li>\n",
       "</ol>\n"
      ],
      "text/latex": [
       "\\textbf{\\$color} = \\begin{enumerate*}\n",
       "\\item 'red'\n",
       "\\item 'red'\n",
       "\\item 'red'\n",
       "\\item 'red'\n",
       "\\item 'red'\n",
       "\\item 'red'\n",
       "\\item 'red'\n",
       "\\item 'blue'\n",
       "\\end{enumerate*}\n"
      ],
      "text/markdown": [
       "**$color** = 1. 'red'\n",
       "2. 'red'\n",
       "3. 'red'\n",
       "4. 'red'\n",
       "5. 'red'\n",
       "6. 'red'\n",
       "7. 'red'\n",
       "8. 'blue'\n",
       "\n",
       "\n"
      ],
      "text/plain": [
       "$color\n",
       "[1] \"red\"  \"red\"  \"red\"  \"red\"  \"red\"  \"red\"  \"red\"  \"blue\"\n"
      ]
     },
     "metadata": {},
     "output_type": "display_data"
    },
    {
     "data": {
      "text/html": [
       "<dl>\n",
       "\t<dt>$weight</dt>\n",
       "\t\t<dd><ol class=list-inline>\n",
       "\t<li>1</li>\n",
       "\t<li>2</li>\n",
       "\t<li>3</li>\n",
       "\t<li>4</li>\n",
       "\t<li>5</li>\n",
       "\t<li>6</li>\n",
       "\t<li>7</li>\n",
       "\t<li>8</li>\n",
       "</ol>\n",
       "</dd>\n",
       "\t<dt>$note</dt>\n",
       "\t\t<dd><ol class=list-inline>\n",
       "\t<li>'This'</li>\n",
       "\t<li>'can'</li>\n",
       "\t<li>'be'</li>\n",
       "\t<li>'anything'</li>\n",
       "\t<li>'you'</li>\n",
       "\t<li>'want'</li>\n",
       "\t<li>'$x^2$'</li>\n",
       "\t<li>'$covfefe$'</li>\n",
       "</ol>\n",
       "</dd>\n",
       "\t<dt>$color</dt>\n",
       "\t\t<dd><ol class=list-inline>\n",
       "\t<li>'red'</li>\n",
       "\t<li>'red'</li>\n",
       "\t<li>'red'</li>\n",
       "\t<li>'red'</li>\n",
       "\t<li>'red'</li>\n",
       "\t<li>'red'</li>\n",
       "\t<li>'red'</li>\n",
       "\t<li>'blue'</li>\n",
       "</ol>\n",
       "</dd>\n",
       "</dl>\n"
      ],
      "text/latex": [
       "\\begin{description}\n",
       "\\item[\\$weight] \\begin{enumerate*}\n",
       "\\item 1\n",
       "\\item 2\n",
       "\\item 3\n",
       "\\item 4\n",
       "\\item 5\n",
       "\\item 6\n",
       "\\item 7\n",
       "\\item 8\n",
       "\\end{enumerate*}\n",
       "\n",
       "\\item[\\$note] \\begin{enumerate*}\n",
       "\\item 'This'\n",
       "\\item 'can'\n",
       "\\item 'be'\n",
       "\\item 'anything'\n",
       "\\item 'you'\n",
       "\\item 'want'\n",
       "\\item '\\$x\\textasciicircum{}2\\$'\n",
       "\\item '\\$covfefe\\$'\n",
       "\\end{enumerate*}\n",
       "\n",
       "\\item[\\$color] \\begin{enumerate*}\n",
       "\\item 'red'\n",
       "\\item 'red'\n",
       "\\item 'red'\n",
       "\\item 'red'\n",
       "\\item 'red'\n",
       "\\item 'red'\n",
       "\\item 'red'\n",
       "\\item 'blue'\n",
       "\\end{enumerate*}\n",
       "\n",
       "\\end{description}\n"
      ],
      "text/markdown": [
       "$weight\n",
       ":   1. 1\n",
       "2. 2\n",
       "3. 3\n",
       "4. 4\n",
       "5. 5\n",
       "6. 6\n",
       "7. 7\n",
       "8. 8\n",
       "\n",
       "\n",
       "\n",
       "$note\n",
       ":   1. 'This'\n",
       "2. 'can'\n",
       "3. 'be'\n",
       "4. 'anything'\n",
       "5. 'you'\n",
       "6. 'want'\n",
       "7. '$x^2$'\n",
       "8. '$covfefe$'\n",
       "\n",
       "\n",
       "\n",
       "$color\n",
       ":   1. 'red'\n",
       "2. 'red'\n",
       "3. 'red'\n",
       "4. 'red'\n",
       "5. 'red'\n",
       "6. 'red'\n",
       "7. 'red'\n",
       "8. 'blue'\n",
       "\n",
       "\n",
       "\n",
       "\n",
       "\n"
      ],
      "text/plain": [
       "$weight\n",
       "[1] 1 2 3 4 5 6 7 8\n",
       "\n",
       "$note\n",
       "[1] \"This\"      \"can\"       \"be\"        \"anything\"  \"you\"       \"want\"     \n",
       "[7] \"$x^2$\"     \"$covfefe$\"\n",
       "\n",
       "$color\n",
       "[1] \"red\"  \"red\"  \"red\"  \"red\"  \"red\"  \"red\"  \"red\"  \"blue\"\n"
      ]
     },
     "metadata": {},
     "output_type": "display_data"
    },
    {
     "data": {
      "text/plain": [
       "+ 8/8 edges from b5f2fda (vertex names):\n",
       "  tail head tid hid weight      note color\n",
       "1    1  Foo   1   6      1      This   red\n",
       "2    4    5   4   5      2       can   red\n",
       "3    2    1   2   1      3        be   red\n",
       "4    1    4   1   4      4  anything   red\n",
       "5    4    3   4   3      5       you   red\n",
       "6    2    3   2   3      6      want   red\n",
       "7    3    5   3   5      7     $x^2$   red\n",
       "8  Foo    5   6   5      8 $covfefe$  blue"
      ]
     },
     "metadata": {},
     "output_type": "display_data"
    },
    {
     "data": {
      "text/plain": [
       "+ 1/8 edge from b5f2fda (vertex names):\n",
       "  tail head tid hid weight  note color\n",
       "7    3    5   3   5      7 $x^2$   red"
      ]
     },
     "metadata": {},
     "output_type": "display_data"
    },
    {
     "data": {
      "image/png": "[encoded data removed]",
      "text/plain": [
       "Plot with title \"\""
      ]
     },
     "metadata": {},
     "output_type": "display_data"
    }
   ],
   "source": [
    "Gr3 <- Gr2 %>% # this copies the graph Gr2 as a new igraph object Gr3\n",
    "       set_edge_attr(\"color\", value = \"red\") %>% #sets the color attribute of all current edges to red\n",
    "       add_edges(c(\"Foo\",5), color = \"blue\") # Adds one additonal edge from Foo to 5, and colors it blue\n",
    "edge_attr(Gr3) # this prints out the attributes currently assigned to the graph's edges\n",
    "\n",
    "# this next line shows a more sophisticated way of adding a set of values to multiple edge attributes\n",
    "edge_attr(Gr3) <-  list(\"weight\" = c(1,2,3,4,5,6,7,8),\n",
    "                        \"note\" = c(\"This\",\"can\",\"be\",\"anything\",\"you\",\"want\",\"$x^2$\",\"$covfefe$\"),\n",
    "                        \"color\" = c(rep(\"red\",7),\"blue\"))\n",
    "edge_attr(Gr3) # this prints out the attributes currently assigned to the graph's edges\n",
    "plot(Gr3, vertex.size = 30, vertex.label.cex = 2, layout = layout.circle) # note we have increased the node's label size\n",
    "E(Gr3)[[]]  # this drills into the edges info further, providing an array of each edge's information\n",
    "E(Gr3)[[7]]   # this returns the edge info for the edge identified as the seventh edge"
   ]
  },
  {
   "cell_type": "markdown",
   "metadata": {
    "slideshow": {
     "slide_type": "subslide"
    }
   },
   "source": [
    " <p>Note that the edge colours <b>do</b> reflect what we have instructed in our code.</p>\n"
   ]
  },
  {
   "cell_type": "markdown",
   "metadata": {
    "slideshow": {
     "slide_type": "slide"
    }
   },
   "source": [
    "<h1 style = \"font-size:400%\">Let's obtain some basic information from the network</h1>\n",
    "\n",
    "<strong>First let's add some addtional edges, then count the edges and nodes from our graph object and print these out in our console output</strong>"
   ]
  },
  {
   "cell_type": "code",
   "execution_count": 19,
   "metadata": {
    "slideshow": {
     "slide_type": "subslide"
    }
   },
   "outputs": [
    {
     "data": {
      "text/html": [
       "'Gr4 has 6 nodes'"
      ],
      "text/latex": [
       "'Gr4 has 6 nodes'"
      ],
      "text/markdown": [
       "'Gr4 has 6 nodes'"
      ],
      "text/plain": [
       "[1] \"Gr4 has 6 nodes\""
      ]
     },
     "metadata": {},
     "output_type": "display_data"
    },
    {
     "data": {
      "text/html": [
       "'Gr4 has 12 edges'"
      ],
      "text/latex": [
       "'Gr4 has 12 edges'"
      ],
      "text/markdown": [
       "'Gr4 has 12 edges'"
      ],
      "text/plain": [
       "[1] \"Gr4 has 12 edges\""
      ]
     },
     "metadata": {},
     "output_type": "display_data"
    },
    {
     "data": {
      "image/png": "[encoded data removed]",
      "text/plain": [
       "Plot with title \"\""
      ]
     },
     "metadata": {},
     "output_type": "display_data"
    }
   ],
   "source": [
    "Gr4 <- Gr3 %>%\n",
    "  add_edges(c('Foo',4,3,1,2,1,1,1), color = \"darkgreen\") # we are adding 4 new edges and colouring them dark green\n",
    "\n",
    "paste0(\"Gr4 has \",gorder(Gr4),\" nodes\") # gorder(Gr4) counts the number of nodes in 'Gr4'\n",
    "paste0(\"Gr4 has \",gsize(Gr4),\" edges\") # gsize(Gr4) counts the number of edges in 'Gr4'\n",
    "\n",
    "plot(Gr4, vertex.size = 30, vertex.label.cex = 2, layout = layout.circle)"
   ]
  },
  {
   "cell_type": "markdown",
   "metadata": {
    "slideshow": {
     "slide_type": "slide"
    }
   },
   "source": [
    "<h1 style = \"font-size:400%\">Obtaining some more information about our graph</h1>\n",
    "  <ul>\n",
    "    <li>Extracting nodes and their neighbours</li>\n",
    "    <li>Finding out how many neighbours each node has</li>\n",
    "    <li>Size of the graph</li>\n",
    "    <li>Number of edges</li>\n",
    "    <li>Sum total of edge weights</li>\n",
    " \n",
    "<strong>We can <i>iterate</i> over edges and nodes to obtain information about the graph:</strong>"
   ]
  },
  {
   "cell_type": "code",
   "execution_count": 24,
   "metadata": {
    "scrolled": false,
    "slideshow": {
     "slide_type": "subslide"
    }
   },
   "outputs": [
    {
     "name": "stdout",
     "output_type": "stream",
     "text": [
      "[1] \"1 is a node\"\n",
      "[1] \"2 is a node\"\n",
      "[1] \"3 is a node\"\n",
      "[1] \"4 is a node\"\n",
      "[1] \"5 is a node\"\n",
      "[1] \"Foo is a node\"\n",
      "[1] \"there is an edge from 1 to Foo\"\n",
      "[1] \"there is an edge from 4 to 5\"\n",
      "[1] \"there is an edge from 2 to 1\"\n",
      "[1] \"there is an edge from 1 to 4\"\n",
      "[1] \"there is an edge from 4 to 3\"\n",
      "[1] \"there is an edge from 2 to 3\"\n",
      "[1] \"there is an edge from 3 to 5\"\n",
      "[1] \"there is an edge from Foo to 5\"\n",
      "[1] \"there is an edge from Foo to 4\"\n",
      "[1] \"there is an edge from 3 to 1\"\n",
      "[1] \"there is an edge from 2 to 1\"\n",
      "[1] \"there is an edge from 1 to 1\"\n"
     ]
    },
    {
     "data": {
      "image/png": "[encoded data removed]",
      "text/plain": [
       "Plot with title \"\""
      ]
     },
     "metadata": {},
     "output_type": "display_data"
    }
   ],
   "source": [
    "for (i in 1:length(V(Gr4))){ # this code wil iterate through the number of nodes in Gr4 and print out\n",
    "    print(paste0(V(Gr4)[i]$name,\" is a node\"))\n",
    "}\n",
    "\n",
    "for (j in 1:length(E(Gr4))){ # this loop will print out the head (from) and tail (to) nodes of the Gr4 graph\n",
    "  print(paste0(\"there is an edge from \",V(Gr4)[tail_of(Gr4,j)]$name, \" to \",V(Gr4)[head_of(Gr4,j)]$name))\n",
    "}\n",
    "\n",
    "plot(Gr4, vertex.size = 30, vertex.label.cex = 2, layout = layout.circle)"
   ]
  },
  {
   "cell_type": "markdown",
   "metadata": {
    "slideshow": {
     "slide_type": "slide"
    }
   },
   "source": [
    "<h1 style = \"font-size:400%\">Identifying the Neighbourhood of Each Node</h1>\n",
    "<p>The command <b style = \"font-family: Courier\">get.adjlist()</b> identifies each node's immediate edges and returns a list of (directed) connections from one node to another:</p>"
   ]
  },
  {
   "cell_type": "code",
   "execution_count": 29,
   "metadata": {
    "slideshow": {
     "slide_type": "subslide"
    }
   },
   "outputs": [
    {
     "name": "stdout",
     "output_type": "stream",
     "text": [
      "[1] \"1 is connected to 1\" \"1 is connected to 4\" \"1 is connected to 6\"\n",
      "[1] \"2 is connected to 1\" \"2 is connected to 1\" \"2 is connected to 3\"\n",
      "[1] \"3 is connected to 1\" \"3 is connected to 5\"\n",
      "[1] \"4 is connected to 3\" \"4 is connected to 5\"\n",
      "[1] \"5 is connected to \"\n",
      "[1] \"Foo is connected to 4\" \"Foo is connected to 5\"\n"
     ]
    }
   ],
   "source": [
    "for (node in 1:length(V(Gr4))){ # this loop lists the directed connections for each connected node\n",
    "  print(paste0(V(Gr4)[node]$name, \" is connected to \",get.adjlist(Gr4, mode = \"out\")[node][[1]]))\n",
    "}"
   ]
  },
  {
   "cell_type": "markdown",
   "metadata": {
    "slideshow": {
     "slide_type": "slide"
    }
   },
   "source": [
    "<h1 style = \"font-size:400%\">Degree of a Node</h1>\n",
    "<p>The <b style = \"font-family: Courier\">degree()</b> function returns how many total edges each node has:</p>"
   ]
  },
  {
   "cell_type": "code",
   "execution_count": 31,
   "metadata": {
    "slideshow": {
     "slide_type": "subslide"
    }
   },
   "outputs": [
    {
     "name": "stdout",
     "output_type": "stream",
     "text": [
      "[1] \"node 1 has degree 4\"\n",
      "[1] \"node 2 has degree 0\"\n",
      "[1] \"node 3 has degree 2\"\n",
      "[1] \"node 4 has degree 2\"\n",
      "[1] \"node 5 has degree 3\"\n",
      "[1] \"node Foo has degree 1\"\n"
     ]
    },
    {
     "data": {
      "image/png": "[encoded data removed]",
      "text/plain": [
       "Plot with title \"\""
      ]
     },
     "metadata": {},
     "output_type": "display_data"
    }
   ],
   "source": [
    "for (node in V(Gr4)){\n",
    "  print(paste0(\"node \", V(Gr4)[node]$name, \" has degree \", degree(Gr4, mode = \"in\")[node]))\n",
    "}\n",
    "\n",
    "plot(Gr4, vertex.size = 30, vertex.label.cex = 2, layout = layout.circle)"
   ]
  },
  {
   "cell_type": "markdown",
   "metadata": {
    "slideshow": {
     "slide_type": "slide"
    }
   },
   "source": [
    "<h1 style = \"font-size:400%\">Sum Value of an Edge's Attribute</h1>\n",
    "<p>The ability to calculate the total value of a particular edge attribute (or node attribute) is important in network analysis.  </p>\n",
    "<p>For example, a  numerical edge attribute could define the length of high-pressure piping in a gas transmission network between two network nodes, and we need to know how much piping needs to be replaced in an upgrade to the pipe network.</p>\n",
    "<p>Therefore being able to sum together the value of a particular edge attribute can be a useful network metric to obtain.</p>\n",
    "<P><b>To calculate the total of the edge weights in Gr4, we first need to check that all edges have weight values:</b></p>\n"
   ]
  },
  {
   "cell_type": "code",
   "execution_count": 21,
   "metadata": {
    "scrolled": true,
    "slideshow": {
     "slide_type": "subslide"
    }
   },
   "outputs": [
    {
     "data": {
      "text/plain": [
       "+ 12/12 edges from 0dc99ac (vertex names):\n",
       "   tail head tid hid weight      note     color\n",
       "1     1  Foo   1   6      1      This       red\n",
       "2     4    5   4   5      2       can       red\n",
       "3     2    1   2   1      3        be       red\n",
       "4     1    4   1   4      4  anything       red\n",
       "5     4    3   4   3      5       you       red\n",
       "6     2    3   2   3      6      want       red\n",
       "7     3    5   3   5      7     $x^2$       red\n",
       "8   Foo    5   6   5      8 $covfefe$      blue\n",
       "9   Foo    4   6   4     NA      <NA> darkgreen\n",
       "10    3    1   3   1     NA      <NA> darkgreen\n",
       "11    2    1   2   1     NA      <NA> darkgreen\n",
       "12    1    1   1   1     NA      <NA> darkgreen"
      ]
     },
     "metadata": {},
     "output_type": "display_data"
    }
   ],
   "source": [
    "E(Gr4)[[]] #prints all of the edge information for Gr4 to the console "
   ]
  },
  {
   "cell_type": "markdown",
   "metadata": {
    "slideshow": {
     "slide_type": "subslide"
    }
   },
   "source": [
    "<p>We can see that edges 9-12 have <span style = \"font-family: Courier New\">NA</span> as 'weight' values (along with <span style = \"font-family: Courier New\">NA</span> values for the attribute 'note').</p>"
   ]
  },
  {
   "cell_type": "markdown",
   "metadata": {
    "slideshow": {
     "slide_type": "slide"
    }
   },
   "source": [
    "<p> If we try to sum the weights then we will not receive a value due to the <span style = \"font-family: Courier New\">NA</span>s present, so let's add values to these edges for the weight (and note) attributes:</p>"
   ]
  },
  {
   "cell_type": "code",
   "execution_count": 32,
   "metadata": {
    "slideshow": {
     "slide_type": "subslide"
    }
   },
   "outputs": [
    {
     "data": {
      "text/plain": [
       "+ 12/12 edges from 0dc99ac (vertex names):\n",
       "   tail head tid hid weight      note     color\n",
       "1     1  Foo   1   6      1      This       red\n",
       "2     4    5   4   5      2       can       red\n",
       "3     2    1   2   1      3        be       red\n",
       "4     1    4   1   4      4  anything       red\n",
       "5     4    3   4   3      5       you       red\n",
       "6     2    3   2   3      6      want       red\n",
       "7     3    5   3   5      7     $x^2$       red\n",
       "8   Foo    5   6   5      8 $covfefe$      blue\n",
       "9   Foo    4   6   4      9         I darkgreen\n",
       "10    3    1   3   1     10      want darkgreen\n",
       "11    2    1   2   1     11         a darkgreen\n",
       "12    1    1   1   1     12   vaccine darkgreen"
      ]
     },
     "metadata": {},
     "output_type": "display_data"
    }
   ],
   "source": [
    "Gr4 <- Gr4 %>% \n",
    "        set_edge_attr(\"weight\", value = c(9:12), index = E(Gr4)[9:12]) %>% # check the iGraph documentation for details\n",
    "        set_edge_attr(\"note\", value = c(\"I\", \"want\", \"a\", \"vaccine\"), index = E(Gr4)[9:12])\n",
    "E(Gr4)[[]]"
   ]
  },
  {
   "cell_type": "markdown",
   "metadata": {
    "slideshow": {
     "slide_type": "slide"
    }
   },
   "source": [
    "<p>We can now use the <span style = \"font-family: Courier New\">strength()</span> function to calculate the weights of all edges:</p>"
   ]
  },
  {
   "cell_type": "code",
   "execution_count": 21,
   "metadata": {
    "slideshow": {
     "slide_type": "subslide"
    }
   },
   "outputs": [
    {
     "name": "stdout",
     "output_type": "stream",
     "text": [
      "[1] \"Gr4 has 12 edges\"\n",
      "[1] \"The total weight of the Gr4 graph's edges is 78.\"\n"
     ]
    }
   ],
   "source": [
    "print(paste0(\"Gr4 has \",gsize(Gr4),\" edges\"))\n",
    "print(paste0(\"The total weight of the Gr4 graph's edges is \",sum(strength(Gr4, mode = \"out\")),\".\"))"
   ]
  },
  {
   "cell_type": "markdown",
   "metadata": {
    "slideshow": {
     "slide_type": "subslide"
    }
   },
   "source": [
    "<p> The code snippet <span style = \"font-family: Courier New\">sum(strength(Gr4, mode = \"out\"))</span> adds together the weights of all outgoing edges, which can also be described as the sum of the unique weights of all directed edges.</p>\n",
    "<p> If you change the code to <span style = \"font-family: Courier New\">sum(strength(Gr4, mode = \"in\"))</span>, you will see that the result is the same - think about why this is the case...</p>"
   ]
  },
  {
   "cell_type": "markdown",
   "metadata": {
    "slideshow": {
     "slide_type": "slide"
    }
   },
   "source": [
    "<h1 style = \"font-size:400%\">Node Attributes</h1>\n",
    "<p>All currently edges have attributes but none of the nodes have any attributes, so let's create a new graph object based upon Gr4, and add attributes to some new nodes:</p>"
   ]
  },
  {
   "cell_type": "code",
   "execution_count": 34,
   "metadata": {
    "slideshow": {
     "slide_type": "subslide"
    }
   },
   "outputs": [
    {
     "data": {
      "text/plain": [
       "+ 8/8 vertices, named, from 2a6b80f:\n",
       "  name                            answer          jeopardy\n",
       "1    1                              <NA>              <NA>\n",
       "2    2                              <NA>              <NA>\n",
       "3    3                              <NA>              <NA>\n",
       "4    4                              <NA>              <NA>\n",
       "5    5                              <NA>              <NA>\n",
       "6  Foo                              <NA>      ___ Fighters\n",
       "7   42 Life, the Universe and Everything              <NA>\n",
       "8    6                              <NA> What's 3 times 2?"
      ]
     },
     "metadata": {},
     "output_type": "display_data"
    }
   ],
   "source": [
    "Gr5 <- Gr4 %>% # copies Gr4 into a new object called Gr5\n",
    "  add_vertices(1, name = \"42\", answer = \"Life, the Universe and Everything\") %>% #adds a new node called \"42\" with an attribute called \"answer\"\n",
    "  add_vertices(1, name = 6, jeopardy=\"What's 3 times 2?\") # adds a new node called 6 with an attribute called jeopardy\n",
    "Gr5 <-  Gr5 %>% set_vertex_attr(\"jeopardy\", index = V(Gr5)[6], value = \"___ Fighters\") #sets the jeopardy attribute for the node with index 6 to a string value \"___ Fighters\"\n",
    "V(Gr5)[[]] # prints to console all of the vertex/node information in Gr5"
   ]
  },
  {
   "cell_type": "markdown",
   "metadata": {
    "slideshow": {
     "slide_type": "subslide"
    }
   },
   "source": [
    "<p>As mentioned earlier, we can set the attributes to (almost) pretty much anything we like!</p>"
   ]
  },
  {
   "cell_type": "markdown",
   "metadata": {
    "slideshow": {
     "slide_type": "slide"
    }
   },
   "source": [
    "<h1 style = \"font-size:400%\">Some Further Plotting Options</h1>\n",
    "<p>We can use the edge weight attribute to set the thickness of the edge connectors in our plot:</p>"
   ]
  },
  {
   "cell_type": "code",
   "execution_count": 43,
   "metadata": {
    "slideshow": {
     "slide_type": "subslide"
    }
   },
   "outputs": [
    {
     "data": {
      "text/html": [
       "<ol class=list-inline>\n",
       "\t<li>1</li>\n",
       "\t<li>2</li>\n",
       "\t<li>3</li>\n",
       "\t<li>4</li>\n",
       "\t<li>5</li>\n",
       "\t<li>6</li>\n",
       "\t<li>7</li>\n",
       "\t<li>8</li>\n",
       "\t<li>9</li>\n",
       "\t<li>10</li>\n",
       "\t<li>11</li>\n",
       "\t<li>12</li>\n",
       "</ol>\n"
      ],
      "text/latex": [
       "\\begin{enumerate*}\n",
       "\\item 1\n",
       "\\item 2\n",
       "\\item 3\n",
       "\\item 4\n",
       "\\item 5\n",
       "\\item 6\n",
       "\\item 7\n",
       "\\item 8\n",
       "\\item 9\n",
       "\\item 10\n",
       "\\item 11\n",
       "\\item 12\n",
       "\\end{enumerate*}\n"
      ],
      "text/markdown": [
       "1. 1\n",
       "2. 2\n",
       "3. 3\n",
       "4. 4\n",
       "5. 5\n",
       "6. 6\n",
       "7. 7\n",
       "8. 8\n",
       "9. 9\n",
       "10. 10\n",
       "11. 11\n",
       "12. 12\n",
       "\n",
       "\n"
      ],
      "text/plain": [
       " [1]  1  2  3  4  5  6  7  8  9 10 11 12"
      ]
     },
     "metadata": {},
     "output_type": "display_data"
    },
    {
     "data": {
      "text/plain": [
       "+ 12/12 edges from 2a6b80f (vertex names):\n",
       "   tail head tid hid weight      note     color\n",
       "1     1  Foo   1   6      1      This       red\n",
       "2     4    5   4   5      2       can       red\n",
       "3     2    1   2   1      3        be       red\n",
       "4     1    4   1   4      4  anything       red\n",
       "5     4    3   4   3      5       you       red\n",
       "6     2    3   2   3      6      want       red\n",
       "7     3    5   3   5      7     $x^2$       red\n",
       "8   Foo    5   6   5      8 $covfefe$      blue\n",
       "9   Foo    4   6   4      9         I darkgreen\n",
       "10    3    1   3   1     10      want darkgreen\n",
       "11    2    1   2   1     11         a darkgreen\n",
       "12    1    1   1   1     12   vaccine darkgreen"
      ]
     },
     "metadata": {},
     "output_type": "display_data"
    },
    {
     "data": {
      "image/png": "[encoded data removed]",
      "text/plain": [
       "Plot with title \"\""
      ]
     },
     "metadata": {},
     "output_type": "display_data"
    }
   ],
   "source": [
    "options(repr.plot.width=7, repr.plot.height=7) # this resizes the plot area (default = 7 by 7)\n",
    "plot.igraph(Gr5, vertex.size = 30, vertex.label.cex = 2, layout = layout.star, edge.width = E(Gr5)$weight*0.5)\n",
    "E(Gr5)$weight\n",
    "E(Gr5)[[]]"
   ]
  },
  {
   "cell_type": "markdown",
   "metadata": {
    "slideshow": {
     "slide_type": "subslide"
    }
   },
   "source": [
    "<p>Note that I have used <span style = \"font-family: Courier New\">plot.igraph</span> here instead of plot - in most cases these return exactly the same output.</p>\n",
    "<p> I have also change the layout specification to <span style = \"font-family: Courier New\">layout.star</span> which draws a star graph layout using the Gr5 object.</p>\n",
    "<p>We will return to further graph/network plotting options further on in the module.</p>"
   ]
  },
  {
   "cell_type": "markdown",
   "metadata": {
    "slideshow": {
     "slide_type": "slide"
    }
   },
   "source": [
    "<h1 style = \"font-size:400%\">Visualising Network/Graph Summary Data</h1>\n",
    "<p> It is a good idea to be able to extract and visualize the summary data of a graph/network.</p>\n",
    "<p>We can generate plots of a graph's summary data.</p>\n",
    "<p>For example, we can generate a histogram of the degree connectivity within a graph.</p>\n",
    "<p>Note that the <span style = \"font-family: Courier New\">breaks</span> command sets the number and span of the bins the histogram uses to group the data.</p>"
   ]
  },
  {
   "cell_type": "code",
   "execution_count": 48,
   "metadata": {
    "scrolled": false,
    "slideshow": {
     "slide_type": "subslide"
    }
   },
   "outputs": [
    {
     "data": {
      "text/html": [
       "<dl class=dl-horizontal>\n",
       "\t<dt>1</dt>\n",
       "\t\t<dd>7</dd>\n",
       "\t<dt>2</dt>\n",
       "\t\t<dd>3</dd>\n",
       "\t<dt>3</dt>\n",
       "\t\t<dd>4</dd>\n",
       "\t<dt>4</dt>\n",
       "\t\t<dd>4</dd>\n",
       "\t<dt>5</dt>\n",
       "\t\t<dd>3</dd>\n",
       "\t<dt>Foo</dt>\n",
       "\t\t<dd>3</dd>\n",
       "\t<dt>42</dt>\n",
       "\t\t<dd>0</dd>\n",
       "\t<dt>6</dt>\n",
       "\t\t<dd>0</dd>\n",
       "</dl>\n"
      ],
      "text/latex": [
       "\\begin{description*}\n",
       "\\item[1] 7\n",
       "\\item[2] 3\n",
       "\\item[3] 4\n",
       "\\item[4] 4\n",
       "\\item[5] 3\n",
       "\\item[Foo] 3\n",
       "\\item[42] 0\n",
       "\\item[6] 0\n",
       "\\end{description*}\n"
      ],
      "text/markdown": [
       "1\n",
       ":   72\n",
       ":   33\n",
       ":   44\n",
       ":   45\n",
       ":   3Foo\n",
       ":   342\n",
       ":   06\n",
       ":   0\n",
       "\n"
      ],
      "text/plain": [
       "  1   2   3   4   5 Foo  42   6 \n",
       "  7   3   4   4   3   3   0   0 "
      ]
     },
     "metadata": {},
     "output_type": "display_data"
    },
    {
     "data": {
      "image/png": "[encoded data removed]",
      "text/plain": [
       "Plot with title \"Degree of Gr5's nodes histogram\""
      ]
     },
     "metadata": {},
     "output_type": "display_data"
    },
    {
     "data": {
      "image/png": "[encoded data removed]",
      "text/plain": [
       "Plot with title \"\""
      ]
     },
     "metadata": {},
     "output_type": "display_data"
    }
   ],
   "source": [
    "degree(Gr5, mode=\"all\") # lists the node names and their respective degrees\n",
    "hist1 <- hist(degree(Gr5, mode=\"all\"), breaks=(min(degree(Gr5))-0.5):(max(degree(Gr5))+0.5), main=\"Degree of Gr5's nodes histogram\", xlab = \"Degree\",\n",
    "              xaxt=\"n\")\n",
    "axis(side=1,at=hist1$mids,labels=seq(0,7))\n",
    "plot.igraph(Gr5, vertex.size = 30, vertex.label.cex = 2, layout = layout.star, edge.width = E(Gr5)$weight*0.5)"
   ]
  },
  {
   "cell_type": "markdown",
   "metadata": {
    "slideshow": {
     "slide_type": "subslide"
    }
   },
   "source": [
    "<p>We will return to calculate more data regarding networks/graphs using <span style = \"font-family: Courier New\">iGraph</span> in later sessions.</p>"
   ]
  },
  {
   "cell_type": "markdown",
   "metadata": {
    "slideshow": {
     "slide_type": "subslide"
    }
   },
   "source": [
    "<strong>In further sessions, we will cover some more network metrics and how to calculate them in R, as well as what they can tell us about the data.</strong>"
   ]
  }
 ],
 "metadata": {
  "kernelspec": {
   "display_name": "R",
   "language": "R",
   "name": "ir"
  },
  "language_info": {
   "codemirror_mode": "r",
   "file_extension": ".r",
   "mimetype": "text/x-r-source",
   "name": "R",
   "pygments_lexer": "r",
   "version": "4.1.1"
  }
 },
 "nbformat": 4,
 "nbformat_minor": 2
}
