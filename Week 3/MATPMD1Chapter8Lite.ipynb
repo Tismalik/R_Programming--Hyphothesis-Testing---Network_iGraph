{
 "cells": [
  {
   "cell_type": "markdown",
   "metadata": {
    "slideshow": {
     "slide_type": "slide"
    }
   },
   "source": [
    "<html>\n",
    "<head>\n",
    "    <h2>University of Stirling</h2>\n",
    "    <h2>Computing Science and Mathematics</h2>\n",
    "    <h2>MATPMD1 Statistics for Data Science</h2>\n",
    "    <h1>Chapter 8 Analysis of Variance\n",
    "    </h1>\n",
    "</head>"
   ]
  },
  {
   "cell_type": "markdown",
   "metadata": {
    "slideshow": {
     "slide_type": "slide"
    }
   },
   "source": [
    "<body>\n",
    "    <h2>8.1 Definitions\n",
    "    </h2>\n",
    "    <p>Before we introduce Analysis of Variance here are some important definitions that we will use.\n",
    "    </p>\n",
    "</body>"
   ]
  },
  {
   "cell_type": "markdown",
   "metadata": {
    "slideshow": {
     "slide_type": "slide"
    }
   },
   "source": [
    "<body>\n",
    "    <ul style=\"list-style-type:none;\">\n",
    "        <li><strong>Experimental Units</strong><br>\n",
    "            the items in an experiment e.g. people, plants, companies\n",
    "        </li>\n",
    "        <li><strong>Response</strong><br>\n",
    "            the numerical result observed for a particular experimental unit e.g. heart rate, crop yield, investment return\n",
    "        </li>\n",
    "    </ul>\n",
    "</body>"
   ]
  },
  {
   "cell_type": "markdown",
   "metadata": {
    "slideshow": {
     "slide_type": "slide"
    }
   },
   "source": [
    "<body>\n",
    "    <ul style=\"list-style-type:none;\">        \n",
    "        <li><strong>Factor</strong><br>\n",
    "            a factor is a variable which is believed to affect the outcome of the experiment and is therefore under investigation e.g. treatment, age group\n",
    "        </li>\n",
    "        <li><strong>Levels</strong><br>\n",
    "            in an experiment each factor takes two or more levels e.g. placebo, active1, and active2; young, middle-aged, old\n",
    "        </li>\n",
    "    </ul>\n",
    "</body>"
   ]
  },
  {
   "cell_type": "markdown",
   "metadata": {
    "slideshow": {
     "slide_type": "slide"
    }
   },
   "source": [
    "<body>\n",
    "    <ul style=\"list-style-type:none;\">        \n",
    "        <li><strong>Grouping factor</strong><br>\n",
    "            a factor which classifies the experimental units into groups (between group factor) e.g. age group, treatment\n",
    "        </li>\n",
    "        <li><strong>Within factor</strong><br>\n",
    "            a factor for which each experimental unit is measured at each level (within factor or trial factor) e.g. treatment\n",
    "        </li>\n",
    "    </ul>\n",
    "</body>"
   ]
  },
  {
   "cell_type": "markdown",
   "metadata": {
    "slideshow": {
     "slide_type": "slide"
    }
   },
   "source": [
    "<body>\n",
    "    <h2>8.2 One Way Analysis of Variance (One Way ANOVA)\n",
    "    </h2>\n",
    "    <p>The aims, ideas and assumptions underlying the general technique known as Analysis of Variance will be introduced by the simplest case, One Way ANOVA.\n",
    "    </p>\n",
    "</body>"
   ]
  },
  {
   "cell_type": "markdown",
   "metadata": {
    "slideshow": {
     "slide_type": "slide"
    }
   },
   "source": [
    "<body>\n",
    "    <p>One Way ANOVA for independent samples is the most commonly used method for examining differences between group means. It is the natural extension of the two sample (unpaired) t-test.\n",
    "    </p>\n",
    "    <p>The technique is based upon the analysis of factors known or unknown which account for the variability in the data.\n",
    "    </p>\n",
    "</body>"
   ]
  },
  {
   "cell_type": "markdown",
   "metadata": {
    "slideshow": {
     "slide_type": "slide"
    }
   },
   "source": [
    "<body>\n",
    "    <p>The variability in the data can be divided in two parts:\n",
    "    </p>\n",
    "    <ol type=\"a\">\n",
    "        <li>Explained (or Systematic) Variation: any natural or man-made influences that cause events to happen in a certain predictable way are systematic.\n",
    "            <br>\n",
    "        </li>\n",
    "        <li>Unexplained (or Error or Residual) Variation: fluctuation or varying of measures due to chance.\n",
    "        </li>\n",
    "    </ol>\n",
    "</body>"
   ]
  },
  {
   "cell_type": "markdown",
   "metadata": {
    "slideshow": {
     "slide_type": "slide"
    }
   },
   "source": [
    "<body>\n",
    "    <p>In general terms, ANOVA involves further partitioning and subsequent analysis of those systematic and error variances. Differences between groups are tested by calculating the statistic F which compares the variability between group means with the variability between individual values within a group.\n",
    "    </p>\n",
    "</body>"
   ]
  },
  {
   "cell_type": "markdown",
   "metadata": {
    "slideshow": {
     "slide_type": "slide"
    }
   },
   "source": [
    "<body>\n",
    "    <h3>8.2.1 One Way ANOVA Assumptions\n",
    "    </h3>\n",
    "    <p>There are three important assumptions made about the data that we are performing an ANOVA test on:\n",
    "    </p>\n",
    "</body>"
   ]
  },
  {
   "cell_type": "markdown",
   "metadata": {
    "slideshow": {
     "slide_type": "slide"
    }
   },
   "source": [
    "<body>\n",
    "    <ol>\n",
    "        <li>The data are Normally distributed\n",
    "        </li>\n",
    "        <li>The samples have common variance\n",
    "        </li>\n",
    "        <li>The observations within each sample are a random sample and are independent of any other observation.\n",
    "        </li>\n",
    "    </ol>\n",
    "</body>"
   ]
  },
  {
   "cell_type": "markdown",
   "metadata": {
    "slideshow": {
     "slide_type": "slide"
    }
   },
   "source": [
    "<body>\n",
    "    <h3>8.2.2 Situation and Hypotheses\n",
    "    </h3>\n",
    "    <p>Say that we have $I$ <strong>independent</strong> samples and our question of interest is a comparison of their population means $\\mu_1, \\mu_2, .... \\mu_I$.\n",
    "    </p>\n",
    "    <p>Also, say there are $J$ observations per group (note this is the simplest case, with equal numbers of observations per group).\n",
    "    </p>\n",
    "</body>"
   ]
  },
  {
   "cell_type": "markdown",
   "metadata": {
    "slideshow": {
     "slide_type": "slide"
    }
   },
   "source": [
    "<body>\n",
    "    <p>The <strong>Hypotheses</strong> are then:\n",
    "    </p>\n",
    "    <p>$H_0 : \\mu_1 = \\mu_2 = .... = \\mu_I$ (i.e. The population means are equal).<br>\n",
    "        $H_1$ : The population means are not all equal (i.e. There is at least one difference).\n",
    "    </p>\n",
    "</body>"
   ]
  },
  {
   "cell_type": "markdown",
   "metadata": {
    "slideshow": {
     "slide_type": "slide"
    }
   },
   "source": [
    "<body>\n",
    "    <h3>8.2.3 Analysis\n",
    "    </h3>\n",
    "    <p>The total variance in this independent, randomised design can be partitioned as follows:\n",
    "    </p>\n",
    "    <p>Total Variation = Between Group Variation + Within Group Variation\n",
    "    </p>\n",
    "</body>"
   ]
  },
  {
   "cell_type": "markdown",
   "metadata": {
    "slideshow": {
     "slide_type": "slide"
    }
   },
   "source": [
    "<body>\n",
    "    <p><strong>Between Group Variation</strong> measures the variances between group means caused by the independent variable.\n",
    "    </p>\n",
    "    <p><strong>Within Group Variation</strong> measures the variances due to uncontrolled factors and experimental unit differences.\n",
    "    </p>\n",
    "</body>"
   ]
  },
  {
   "cell_type": "markdown",
   "metadata": {
    "slideshow": {
     "slide_type": "slide"
    }
   },
   "source": [
    "<body>\n",
    "    <h3>8.2.4 Test Statistic\n",
    "    </h3>\n",
    "    <p>The test statistic that we use to compare the variance between groups and the variance within groups is the F statistic:\n",
    "    <p>$F_{\\textrm{BET}} = \\dfrac{Between~Group \n",
    "    ~Variance}{Within~Group~Variance}$\n",
    "    </p>\n",
    "</body>"
   ]
  },
  {
   "cell_type": "markdown",
   "metadata": {
    "slideshow": {
     "slide_type": "slide"
    }
   },
   "source": [
    "<body>\n",
    "    <h3>8.2.5 Calculations for ANOVA\n",
    "    </h3>\n",
    "    <p>Let,\n",
    "        <ul style=\"list-style-type:none;\">\n",
    "            <li>$y_{ij}$ = the $j$th response within the $i$th group ($j=1,...,J$)\n",
    "            </li>\n",
    "            <li>$\\bar{y}_{i.} = \\dfrac{\\sum\\limits_{j}y_{ij}}{J}$ = the mean of the $i$th group ($i=1,...,I$)\n",
    "            </li>\n",
    "            <li>$\\bar{y}_{..} = \\dfrac{\\sum\\limits_{i}\\sum\\limits_{j}y_{ij}}{IJ}$ = overall mean\n",
    "            </li>\n",
    "        </ul>\n",
    "    <p>Then we calculate the variances using:\n",
    "    </p>\n",
    "</body>"
   ]
  },
  {
   "cell_type": "markdown",
   "metadata": {
    "slideshow": {
     "slide_type": "slide"
    }
   },
   "source": [
    "<body>\n",
    "    <p>$$\\begin{equation}\\textrm{Total variation} = SS_{TOT} = \\\\ \\sum\\limits_{i}\\sum\\limits_{j}(y_{ij}-\\bar{y}_{..})^2 \\\\\n",
    "    = \\sum\\limits_{i}\\sum\\limits_{j}y_{ij}^2 -\\dfrac{\\left(\\sum\\limits_{i}\\sum\\limits_{j}y_{ij}\\right)^2}{IJ} \\label{eq:81} \\tag{8.1}\n",
    "         \\end{equation}$$\n",
    "    </p>\n",
    "</body>"
   ]
  },
  {
   "cell_type": "markdown",
   "metadata": {
    "slideshow": {
     "slide_type": "slide"
    }
   },
   "source": [
    "<body>\n",
    "    <p>$$\\begin{equation}\\textrm{Between Group Variation} = SS_{BG} = \\\\ J\\sum\\limits_{i}\\left(\\bar{y}_{i.}-\\bar{y}_{..}\\right)^2 \\label{eq:82} \\tag{8.2}\n",
    "         \\end{equation}$$\n",
    "    </p>\n",
    "</body>"
   ]
  },
  {
   "cell_type": "markdown",
   "metadata": {
    "slideshow": {
     "slide_type": "slide"
    }
   },
   "source": [
    "<body>\n",
    "    <p>$$\\begin{equation}\\textrm{Within Group Variation} = SS_{WG} = \\\\ \\sum\\limits_{i}\\sum\\limits_{j}\\left(y_{ij}-\\bar{y}_{i.}\\right)^2 \\label{eq:83} \\tag{8.3}\n",
    "         \\end{equation}$$\n",
    "    </p>\n",
    "</body>"
   ]
  },
  {
   "cell_type": "markdown",
   "metadata": {
    "slideshow": {
     "slide_type": "slide"
    }
   },
   "source": [
    "<body>\n",
    "    <p>Note that $SS_{TOT} = SS_{BG} + SS_{WG}$\n",
    "    </p>\n",
    "    <p>It is easiest to calculate $SS_{TOT}$ and $SS_{BG}$ using the formulae (5.1 and 5.2) and then to calculate $SS_{WG}$ as:\n",
    "    </p>\n",
    "    <p>$$\\begin{equation}SS_{WG} = SS_{TOT} - SS_{BG} \\label{eq:84} \\tag{8.4}\n",
    "         \\end{equation}$$\n",
    "    </p>\n",
    "</body>"
   ]
  },
  {
   "cell_type": "markdown",
   "metadata": {
    "slideshow": {
     "slide_type": "slide"
    }
   },
   "source": [
    "<body>\n",
    "    <h3>8.2.6 ANOVA table\n",
    "    </h3>\n",
    "    <p>The test is usually summarised in an ANOVA table :\n",
    "    </p>\n",
    "</body>"
   ]
  },
  {
   "cell_type": "markdown",
   "metadata": {
    "slideshow": {
     "slide_type": "slide"
    }
   },
   "source": [
    "<body>\n",
    "    <table>\n",
    "    <colgroup>\n",
    "    <col style=\"width: 16%\" />\n",
    "    <col style=\"width: 16%\" />\n",
    "    <col style=\"width: 16%\" />\n",
    "    <col style=\"width: 22%\" />\n",
    "    <col style=\"width: 28%\" />\n",
    "    </colgroup>\n",
    "    <thead>\n",
    "        <tr class=\"header\">\n",
    "        <th>Source of Variation</th>\n",
    "        <th>df</th>\n",
    "        <th>SS</th>\n",
    "        <th style=\"text-align: right;\">Mean SS</th>\n",
    "        <th style=\"text-align: right;\">F statistic</th>\n",
    "        </tr>\n",
    "    </thead>\n",
    "    <tbody>\n",
    "        <tr class=\"odd\">\n",
    "        <td>Between Groups</td>\n",
    "        <td>$I − 1$</td>\n",
    "        <td> $SS_{BG}$</td>\n",
    "        <td style=\"text-align: right;\">$\\dfrac{SS_{BG}}{I-1}$ </td>\n",
    "        <td style=\"text-align: right;\">$\\dfrac{SS_{BG}/(I-1)}{SS_{WG}/\\left[I(J-1)\\right]}$</td>\n",
    "        </tr>\n",
    "        <tr class=\"even\">\n",
    "        <td>Within Groups</td>\n",
    "        <td>$I(J - 1)$</td>\n",
    "        <td>$SS_{WG}$</td>\n",
    "        <td style=\"text-align: right;\">$\\dfrac{SS_{WG}}{I(J-1)}$</td>\n",
    "        <td style=\"text-align: right;\"></td>\n",
    "        </tr>\n",
    "        <tr class=\"odd\">\n",
    "        <td>Total</td>\n",
    "        <td>$IJ - 1$</td>\n",
    "        <td>$SS_{TOT}$ </td>\n",
    "        <td style=\"text-align: center;\"></td>\n",
    "        <td style=\"text-align: right;\"></td>\n",
    "        </tr>\n",
    "    </tbody>\n",
    "    </table>\n",
    "    <p>$F$ as calculated above is the <strong>Observed Test Statistic</strong>.\n",
    "    </p>\n",
    "</body>"
   ]
  },
  {
   "cell_type": "markdown",
   "metadata": {
    "slideshow": {
     "slide_type": "slide"
    }
   },
   "source": [
    "<body>\n",
    "    <h3>8.2.7 ANOVA Rejection Region & Conclusion\n",
    "    </h3>\n",
    "    <p>For a significance level of 0.05; the critical value is\n",
    "    </p>\n",
    "    <p>$$c = F(I-1, I(J-1); 0.05)$$\n",
    "    </p>\n",
    "</body>"
   ]
  },
  {
   "cell_type": "markdown",
   "metadata": {
    "slideshow": {
     "slide_type": "slide"
    }
   },
   "source": [
    "<body>\n",
    "    <p>In other words if Observed $F$ is greater than $F(I-1, I(J-1); 0.05)$, reject $H_0$ in favour of $H_1$ at 5% level and conclude that the means are not all equal.\n",
    "    </p>\n",
    "</body>"
   ]
  },
  {
   "cell_type": "markdown",
   "metadata": {
    "slideshow": {
     "slide_type": "slide"
    }
   },
   "source": [
    "<body>\n",
    "    <p>Alternatively if Observed $F$ is less than $F(I-1, I(J-1); 0.05)$, cannot reject $H_0$\n",
    "in favour of $H_1$ at 5% level and conclude that we have insufficient evidence to reject the null hypothesis: that the means are equal.\n",
    "    </p>\n",
    "</body>"
   ]
  },
  {
   "cell_type": "markdown",
   "metadata": {
    "slideshow": {
     "slide_type": "slide"
    }
   },
   "source": [
    "<body>\n",
    "    <h3>8.2.8 ANOVA Multiple Groups Conclusion from $H_0$ Rejection\n",
    "    </h3>\n",
    "    <p>If there are more than 2 groups then when $H_0$ is rejected we can conclude that there is a difference between the group means but we cannot identify where the differences lie.\n",
    "    </p>\n",
    "</body>"
   ]
  },
  {
   "cell_type": "markdown",
   "metadata": {
    "slideshow": {
     "slide_type": "slide"
    }
   },
   "source": [
    "<body>\n",
    "    <p>The methods uses to identify where the differences lie is called <strong>Multiple Comparisons</strong>.\n",
    "    </p>\n",
    "    <p>If we simply used standard $t$ intervals (tests) for each difference then if each interval has confidence $1 - \\alpha$, then the overall confidence of the set of intervals, i.e. the probability that every interval covers the true value, is far less than $1 - \\alpha$ ($1 - \\alpha$ is usually 0.95 since $\\alpha$ is usually 0.05 ).\n",
    "    </p>\n",
    "</body>"
   ]
  },
  {
   "cell_type": "markdown",
   "metadata": {
    "slideshow": {
     "slide_type": "slide"
    }
   },
   "source": [
    "<body>\n",
    "    <h3>8.2.9 Multiple Comparisons\n",
    "    </h3>\n",
    "    <p>There are several commonly used techniques - Scheffe, Bonferroni, Tukey,\n",
    "Dunnett, Least Squares Differences. \n",
    "    </p>\n",
    "</body>"
   ]
  },
  {
   "cell_type": "markdown",
   "metadata": {
    "slideshow": {
     "slide_type": "notes"
    }
   },
   "source": [
    "<body>\n",
    "    <p>We won't delve further into these here, following are the confidence intervals derived by two of the methods:\n",
    "    </p>\n",
    "    <ul class=\"nobull\">\n",
    "        <li><strong>Scheffe - Pairwise Comparisons of Group Means</strong><br>\n",
    "            A set of simultaneous confidence intervals with at least 95% confidence\n",
    "are:<br>\n",
    "            $\\small\\left(\\bar{y}_{i.}-\\bar{y}_{j.}\\right) \\pm \\sqrt{(I-1)F\\left(I-1,I(J-1);0.05\\right)} \\sqrt{\\frac{SS_{WG}}{I(J-1)}}\\sqrt{\\frac{1}{J}+\\frac{1}{J}}$<br>\n",
    "            where $1≤ i \\lt j ≤ I$.\n",
    "        </li>\n",
    "        <li><strong>Bonferroni - Pairwise Comparisons of Group Means</strong><br>\n",
    "            A set of simultaneous confidence intervals with at least 95% confidence are:<br>\n",
    "            $\\small\\left(\\bar{y}_{i.}-\\bar{y}_{j.}\\right) \\pm \\textbf{t}\\left(I(J-1);0.05/k\\right) \\sqrt{\\frac{SS_{WG}}{I(J-1)}}\\sqrt{\\frac{1}{J}+\\frac{1}{J}}$<br>\n",
    "            where $1≤ i \\lt j ≤ I$ and $k$ is the number of differences.\n",
    "        </li>\n",
    "    </ul>\n",
    "</body>"
   ]
  },
  {
   "cell_type": "markdown",
   "metadata": {
    "slideshow": {
     "slide_type": "slide"
    }
   },
   "source": [
    "<body>\n",
    "    <h3>8.2.10 One Way ANOVA Example\n",
    "    </h3>\n",
    "    <p>We have collected data on the effect of three drugs. The data is collected from three independent groups with 10 observations per group. The response measured is the time in hours until the maximum effect of three different drugs.\n",
    "    </p>\n",
    "    <p>The question of interest: Is there a difference in the mean times to maximum effect on the three drugs?\n",
    "    </p>\n",
    "</body>"
   ]
  },
  {
   "cell_type": "markdown",
   "metadata": {
    "slideshow": {
     "slide_type": "slide"
    }
   },
   "source": [
    "<body>\n",
    "    <table>\n",
    "    <thead>\n",
    "        <tr class=\"header\">\n",
    "        <th>Subject</th>\n",
    "        <th>DRUG 1</th>\n",
    "        <th>DRUG 2</th>\n",
    "        <th>DRUG 3</th>\n",
    "        </tr>\n",
    "    </thead>\n",
    "    <tbody>\n",
    "        <tr class=\"odd\">\n",
    "        <td>1</td>\n",
    "        <td>17</td>\n",
    "        <td>17</td>\n",
    "        <td>13</td>\n",
    "        </tr>\n",
    "        <tr class=\"even\">\n",
    "        <td>2</td>\n",
    "        <td>17</td>\n",
    "        <td>16</td>\n",
    "        <td>13</td>\n",
    "        </tr>\n",
    "        <tr class=\"odd\">\n",
    "        <td>3</td>\n",
    "        <td>19</td>\n",
    "        <td>24</td>\n",
    "        <td>19</td>\n",
    "        </tr>\n",
    "        <tr class=\"even\">\n",
    "        <td>4</td>\n",
    "        <td>15</td>\n",
    "        <td>16</td>\n",
    "        <td>16</td>\n",
    "        </tr>\n",
    "        <tr class=\"odd\">\n",
    "        <td>5</td>\n",
    "        <td>18</td>\n",
    "        <td>23</td>\n",
    "        <td>15</td>\n",
    "        </tr>\n",
    "        <tr class=\"even\">\n",
    "        <td>6</td>\n",
    "        <td>14</td>\n",
    "        <td>17</td>\n",
    "        <td>18</td>\n",
    "        </tr>\n",
    "        <tr class=\"odd\">\n",
    "        <td>7</td>\n",
    "        <td>13</td>\n",
    "        <td>24</td>\n",
    "        <td>15</td>\n",
    "        </tr>\n",
    "        <tr class=\"even\">\n",
    "        <td>8</td>\n",
    "        <td>12</td>\n",
    "        <td>25</td>\n",
    "        <td>16</td>\n",
    "        </tr>\n",
    "        <tr class=\"odd\">\n",
    "        <td>9</td>\n",
    "        <td>15</td>\n",
    "        <td>19</td>\n",
    "        <td>17</td>\n",
    "        </tr>\n",
    "        <tr class=\"even\">\n",
    "        <td>10</td>\n",
    "        <td>17</td>\n",
    "        <td>20</td>\n",
    "        <td>11</td>\n",
    "        </tr>\n",
    "    </tbody>\n",
    "    </table>\n",
    "</body>"
   ]
  },
  {
   "cell_type": "code",
   "execution_count": 1,
   "metadata": {
    "slideshow": {
     "slide_type": "slide"
    }
   },
   "outputs": [
    {
     "data": {
      "image/png": "[encoded data removed]",
      "text/plain": [
       "Plot with title \"Time to Max Effect on Drug1, Drug 2, Drug3\""
      ]
     },
     "metadata": {
      "image/png": {
       "height": 420,
       "width": 420
      }
     },
     "output_type": "display_data"
    }
   ],
   "source": [
    "# make a data frame for 10 subjects \n",
    "obs.df <- data.frame(subjects = seq(1,30,1),\n",
    "                        drug1 = c(17,17,19,15,18,14,13,12,15,17),\n",
    "                        drug2 = c(17,16,24,16,23,17,24,25,19,20),\n",
    "                        drug3 = c(13,13,19,16,15,18,15,16,17,11))\n",
    "# Use boxplot to visualise the data\n",
    "boxplot(obs.df$drug1,\n",
    "        obs.df$drug2,\n",
    "        obs.df$drug3,\n",
    "        names=c(\"Drug 1\",\"Drug 2\",\"Drug 3\"),\n",
    "        main=\"Time to Max Effect on Drug1, Drug 2, Drug3\")"
   ]
  },
  {
   "cell_type": "markdown",
   "metadata": {
    "slideshow": {
     "slide_type": "slide"
    }
   },
   "source": [
    "<body>\n",
    "    <p>The Hypotheses are:\n",
    "    <ul style=\"list-style:none;\">\n",
    "        <li>$H_0: \\mu_1=\\mu_2=\\mu_3$\n",
    "        </li>\n",
    "        <li>$H_1:$ the populaton means are not all equal\n",
    "        </li>\n",
    "    </ul>\n",
    "    <p>Significance level 0.05\n",
    "    </p>\n",
    "    <p>Test Statistic $F=\\dfrac{SS_{BG}/(I-1)}{SS_{WG}/[I(J-1)]}$\n",
    "    </p>\n",
    "</body>"
   ]
  },
  {
   "cell_type": "markdown",
   "metadata": {
    "slideshow": {
     "slide_type": "slide"
    }
   },
   "source": [
    "<body>\n",
    "    <p>Calculating <strong>Observed Test Statistic</strong>, there are 3 groups and 10 observations per group so $I=3$ and $J=10$.\n",
    "    <ul style=\"list-style:none;\">\n",
    "        <li>$\\sum\\limits_{i}\\sum\\limits_{j}y_{ij} = 511\\quad$ Add up all the observations\n",
    "        </li>\n",
    "        <li>$\\bar{y}_{..} = \\dfrac{\\sum\\limits_{i}\\sum\\limits_{j}y_{ij}}{IJ}=\\frac{511}{30}=17.033\\quad$ Overall mean\n",
    "        </li>\n",
    "        <li>$\\sum\\limits_{i}\\sum\\limits_{j}y_{ij}^2 = 9063\\quad$ Square each observation and add up\n",
    "        </li>\n",
    "    </ul>\n",
    "</body>"
   ]
  },
  {
   "cell_type": "markdown",
   "metadata": {
    "slideshow": {
     "slide_type": "slide"
    }
   },
   "source": [
    "<body>\n",
    "    <ul style=\"list-style:none;\">\n",
    "        <li>$\\bar{y}_{1.} = \\dfrac{\\sum\\limits_{j}y_{1j}}{J} = \\frac{157}{10} = 15.7\\quad$ Mean of Drug 1\n",
    "        </li>\n",
    "        <li>$\\bar{y}_{2.} = \\dfrac{\\sum\\limits_{j}y_{2j}}{J} = \\frac{201}{10} = 20.1\\quad$ Mean of Drug 2\n",
    "        </li>\n",
    "        <li>$\\bar{y}_{3.} = \\dfrac{\\sum\\limits_{j}y_{3j}}{J} = \\frac{153}{10} = 15.3\\quad$ Mean of Drug 3\n",
    "        </li>\n",
    "    </ul>\n",
    "</body>"
   ]
  },
  {
   "cell_type": "markdown",
   "metadata": {
    "slideshow": {
     "slide_type": "slide"
    }
   },
   "source": [
    "<body>\n",
    "    <ul style=\"list-style:none;\">\n",
    "        <li>Total variation:<br>\n",
    "            $SS_{TOT} = \\sum\\limits_{i}\\sum\\limits_{j}(y_{ij}-\\bar{y}_{..})^2$<br>\n",
    "            $\\quad = 9063-\\frac{511^2}{3\\times10} = 358.97$\n",
    "        </li>\n",
    "        <li>Between Group Variation<br>\n",
    "            $SS_{BG} = J\\sum\\limits_{i}\\left(\\bar{y}_{i.}-\\bar{y}_{..}\\right)^2$<br>\n",
    "            $\\quad = 10\\times\\left[(15.7-17.033)^2+(201.-17.033)^2+(15.3-17.033)^2\\right] = 141.87$ \n",
    "        </li>\n",
    "        <li>Within Group Variation<br>\n",
    "            $SS_{WG} = SS_{TOT}-SS_{BG}$<br>\n",
    "            $\\quad = 358.97 - 141.87 = 217.10$\n",
    "        </li>\n",
    "    </ul>\n",
    "</body>"
   ]
  },
  {
   "cell_type": "markdown",
   "metadata": {
    "slideshow": {
     "slide_type": "slide"
    }
   },
   "source": [
    "<body>\n",
    "    <p><strong>F statistic</strong>: The Observed Test Statistic is therefore:\n",
    "    </p>\n",
    "    <p>$$\\begin{align}F=\\dfrac{SS_{BG}/(I-1)}{SS_{WG}/[I(J-1)]}\\\\\n",
    "     = \\frac{141.87/(3-1)}{217.10/(30-3)}\\\\\n",
    "     = \\frac{70.93}{8.04} = 8.82 \n",
    "         \\end{align}$$\n",
    "   </p>\n",
    "</body>"
   ]
  },
  {
   "cell_type": "markdown",
   "metadata": {
    "slideshow": {
     "slide_type": "slide"
    }
   },
   "source": [
    "<body>\n",
    "    <p><strong>Rejection Region</strong>:\n",
    "    </p>\n",
    "    <p>At significance level 0.05 our test is always one-tailed using the F distribution. At 5% significance level, the critical value is $\\textrm{F}(2,27;0.05) = 3.35$. Therefore we should reject $H_0$ in favour of $H_1$ if the observed F statistic is $\\gt 3.35$.\n",
    "    </p>\n",
    "</body>"
   ]
  },
  {
   "cell_type": "markdown",
   "metadata": {
    "slideshow": {
     "slide_type": "slide"
    }
   },
   "source": [
    "<body>\n",
    "    <p>Note that the p-value = $\\textrm{P(F}(2,27;0.05)>8.82)$. If you look this up in tables you may only find the most accurate value is given as 'less than 0.01'. However, we know that $0.01 \\lt 0.05$ so we can say:\n",
    "    </p>\n",
    "    <p>$\\textrm{P(F}(2,27;0.05)>8.82) \\lt 0.01$\n",
    "    </p>\n",
    "    <p>confirming the rejection result from the F distribution.\n",
    "    </p>\n",
    "</body>"
   ]
  },
  {
   "cell_type": "markdown",
   "metadata": {
    "slideshow": {
     "slide_type": "slide"
    }
   },
   "source": [
    "<body>\n",
    "    <p><strong>Conclusion</strong>:\n",
    "    </p>\n",
    "    <p>Observation F statistic = 8.82 is greater than 3.35 so is in the Rejection Region so we can reject $H_0$ in favour of $H_1$ at 5% significance level and conclude that the means are not all equal.\n",
    "    </p>\n",
    "    <p>In other words, there is a significant difference in the time to maximum effect of the drugs tested. However, we have not yet identified where the differences lie.\n",
    "    </p>\n",
    "</body>"
   ]
  },
  {
   "cell_type": "markdown",
   "metadata": {
    "slideshow": {
     "slide_type": "slide"
    }
   },
   "source": [
    "<body>\n",
    "    <p>NOTE \n",
    "        <ol>\n",
    "            <li>In practice we should verify the assumptions of constant variance and Normality using Residual plots.\n",
    "            </li>\n",
    "            <li>We should also use Multiple Comparisons to identify where the differences lie.\n",
    "            </li>\n",
    "    </ol>\n",
    "</body>"
   ]
  },
  {
   "cell_type": "markdown",
   "metadata": {},
   "source": [
    "<h1> Below we show how the ONEWAY ANOVA example can be evaluated on R</h1>"
   ]
  },
  {
   "cell_type": "code",
   "execution_count": 2,
   "metadata": {
    "slideshow": {
     "slide_type": "slide"
    }
   },
   "outputs": [
    {
     "data": {
      "text/html": [
       "511"
      ],
      "text/latex": [
       "511"
      ],
      "text/markdown": [
       "511"
      ],
      "text/plain": [
       "[1] 511"
      ]
     },
     "metadata": {},
     "output_type": "display_data"
    },
    {
     "data": {
      "text/html": [
       "10"
      ],
      "text/latex": [
       "10"
      ],
      "text/markdown": [
       "10"
      ],
      "text/plain": [
       "[1] 10"
      ]
     },
     "metadata": {},
     "output_type": "display_data"
    },
    {
     "data": {
      "text/html": [
       "3"
      ],
      "text/latex": [
       "3"
      ],
      "text/markdown": [
       "3"
      ],
      "text/plain": [
       "[1] 3"
      ]
     },
     "metadata": {},
     "output_type": "display_data"
    },
    {
     "data": {
      "text/html": [
       "17.0333333333333"
      ],
      "text/latex": [
       "17.0333333333333"
      ],
      "text/markdown": [
       "17.0333333333333"
      ],
      "text/plain": [
       "[1] 17.03333"
      ]
     },
     "metadata": {},
     "output_type": "display_data"
    },
    {
     "data": {
      "text/html": [
       "9063"
      ],
      "text/latex": [
       "9063"
      ],
      "text/markdown": [
       "9063"
      ],
      "text/plain": [
       "[1] 9063"
      ]
     },
     "metadata": {},
     "output_type": "display_data"
    },
    {
     "data": {
      "text/html": [
       "15.7"
      ],
      "text/latex": [
       "15.7"
      ],
      "text/markdown": [
       "15.7"
      ],
      "text/plain": [
       "[1] 15.7"
      ]
     },
     "metadata": {},
     "output_type": "display_data"
    },
    {
     "data": {
      "text/html": [
       "20.1"
      ],
      "text/latex": [
       "20.1"
      ],
      "text/markdown": [
       "20.1"
      ],
      "text/plain": [
       "[1] 20.1"
      ]
     },
     "metadata": {},
     "output_type": "display_data"
    },
    {
     "data": {
      "text/html": [
       "15.3"
      ],
      "text/latex": [
       "15.3"
      ],
      "text/markdown": [
       "15.3"
      ],
      "text/plain": [
       "[1] 15.3"
      ]
     },
     "metadata": {},
     "output_type": "display_data"
    },
    {
     "data": {
      "text/html": [
       "358.966666666667"
      ],
      "text/latex": [
       "358.966666666667"
      ],
      "text/markdown": [
       "358.966666666667"
      ],
      "text/plain": [
       "[1] 358.9667"
      ]
     },
     "metadata": {},
     "output_type": "display_data"
    },
    {
     "data": {
      "text/html": [
       "141.866666666667"
      ],
      "text/latex": [
       "141.866666666667"
      ],
      "text/markdown": [
       "141.866666666667"
      ],
      "text/plain": [
       "[1] 141.8667"
      ]
     },
     "metadata": {},
     "output_type": "display_data"
    },
    {
     "data": {
      "text/html": [
       "217.1"
      ],
      "text/latex": [
       "217.1"
      ],
      "text/markdown": [
       "217.1"
      ],
      "text/plain": [
       "[1] 217.1"
      ]
     },
     "metadata": {},
     "output_type": "display_data"
    },
    {
     "data": {
      "text/html": [
       "8.82174113311836"
      ],
      "text/latex": [
       "8.82174113311836"
      ],
      "text/markdown": [
       "8.82174113311836"
      ],
      "text/plain": [
       "[1] 8.821741"
      ]
     },
     "metadata": {},
     "output_type": "display_data"
    }
   ],
   "source": [
    "# Create a data frame to hold all the observations for the three drugs. \n",
    "obs.df <- data.frame(subjects = seq(1,10,1),\n",
    "                        drug1 = c(17,17,19,15,18,14,13,12,15,17),\n",
    "                        drug2 = c(17,16,24,16,23,17,24,25,19,20),\n",
    "                        drug3 = c(13,13,19,16,15,18,15,16,17,11))\n",
    "# sum up all of the observations. Note putting brackets round the assignment outputs the value as well.\n",
    "(sumAllObs <- sum(obs.df$drug1,obs.df$drug2,obs.df$drug3))\n",
    "# there are 3 groups of 10 observations\n",
    "(J <- 10) \n",
    "(I <- 3) \n",
    "# find the overall mean\n",
    "(overallMean <- sumAllObs/(I*J))\n",
    "# and find the sum of all the observations squared\n",
    "(sumAllObsSquared <- sum(obs.df$drug1^2,obs.df$drug2^2,obs.df$drug3^2))\n",
    "\n",
    "# find the mean for each of the drug groups\n",
    "(drug1Mean <- sum(obs.df$drug1)/J)\n",
    "(drug2Mean <- sum(obs.df$drug2)/J)\n",
    "(drug3Mean <- sum(obs.df$drug3)/J)\n",
    "\n",
    "# find the total variation\n",
    "(SStot <- sumAllObsSquared - (sumAllObs)^2/(I*J))\n",
    "# find the between group variation\n",
    "(SSBG <- J*((overallMean-drug1Mean)^2+(overallMean-drug2Mean)^2+(overallMean-drug3Mean)^2))\n",
    "# find the within group variation\n",
    "(SSWG <- SStot-SSBG)\n",
    "# and our test statistic\n",
    "(Fstat <- (SSBG/(I-1))/(SSWG/(I*(J-1))))"
   ]
  },
  {
   "cell_type": "code",
   "execution_count": 3,
   "metadata": {
    "slideshow": {
     "slide_type": "slide"
    }
   },
   "outputs": [
    {
     "data": {
      "image/png": "[encoded data removed]",
      "text/plain": [
       "Plot with title \"F distribution df1=2 df2=27\""
      ]
     },
     "metadata": {
      "image/png": {
       "height": 420,
       "width": 420
      }
     },
     "output_type": "display_data"
    }
   ],
   "source": [
    "# now plot where the rejection region is on the F distribution\n",
    "# first plot the F distribution \n",
    "x<-seq(0,9,0.01)\n",
    "fdens <- df(x,2,27)\n",
    "\n",
    "# now fill in with grey the rejection region (note we have already worked out that 3.35 is the critical value)\n",
    "rej= 3.35*100+1\n",
    "plot(x,fdens,type=\"l\",ylab=\"Density\",main=\"F distribution df1=2 df2=27\",xlab=\"\",xaxt=\"n\")\n",
    "polygon(c(x[rej:length(x)],x[length(x)],x[rej]),c(fdens[rej:length(x)],0,0),col=\"gray\")\n",
    "\n",
    "# change the ticks on the x axis to mark the critical value\n",
    "axis(1,at=c(0,2,3.35,4,6,8),labels=c(0,2,3.35,4,6,8))\n",
    "\n",
    "# and add an arrow to this region\n",
    "arrows(x[rej]+1,fdens[rej]+0.2,x[rej]+0.5,fdens[rej])\n",
    "text(x[rej]+1,fdens[rej]+0.25,labels=\"Rejection region 5% sig level\")"
   ]
  },
  {
   "cell_type": "code",
   "execution_count": 4,
   "metadata": {
    "slideshow": {
     "slide_type": "slide"
    }
   },
   "outputs": [
    {
     "data": {
      "text/plain": [
       "            Df Sum Sq Mean Sq F value Pr(>F)   \n",
       "drug         2    142    70.9    8.82 0.0011 **\n",
       "Residuals   27    217     8.0                  \n",
       "---\n",
       "Signif. codes:  0 '***' 0.001 '**' 0.01 '*' 0.05 '.' 0.1 ' ' 1"
      ]
     },
     "metadata": {},
     "output_type": "display_data"
    }
   ],
   "source": [
    "# set up a data fram for the 30 subjects and drug levels\n",
    "obs.df <- data.frame(subjects = seq(1,30,1),\n",
    "                     Resp = c(17,17,19,15,18,14,13,12,15,17,\n",
    "                              17,16,24,16,23,17,24,25,19,20,\n",
    "                              13,13,19,16,15,18,15,16,17,11),\n",
    "                     Drug = c(\"Drug1\",\"Drug1\",\"Drug1\",\"Drug1\",\"Drug1\",\"Drug1\",\"Drug1\",\"Drug1\",\"Drug1\",\"Drug1\",\n",
    "                             \"Drug2\",\"Drug2\",\"Drug2\",\"Drug2\",\"Drug2\",\"Drug2\",\"Drug2\",\"Drug2\",\"Drug2\",\"Drug2\",\n",
    "                             \"Drug3\",\"Drug3\",\"Drug3\",\"Drug3\",\"Drug3\",\"Drug3\",\"Drug3\",\"Drug3\",\"Drug3\",\"Drug3\"))\n",
    "# using options() to set precision level to control number of decimal points presented\n",
    "options(digits=4)\n",
    "\n",
    "# Drug levels are nominal categorical variables, so get R to encode numerical values for this using the factor().\n",
    "drug<-factor(obs.df$Drug)\n",
    "\n",
    "# Now we can run one-way anova. We use this with() construct so that we don't have to use obs.df$ in front of \n",
    "# references to Resp. It just makes the code more readable but is not necessary.\n",
    "with(obs.df, {\n",
    "  # Call one-way ANOVA function aov() and say we are looking at the observations Resp for which we want to find if \n",
    "  # the different drug groupings are significant\n",
    "  aov1<-aov(Resp~drug)\n",
    "  # and summary will give the ANOVA table\n",
    "  summary(aov1)\n",
    "})"
   ]
  },
  {
   "cell_type": "markdown",
   "metadata": {
    "slideshow": {
     "slide_type": "slide"
    }
   },
   "source": [
    "<body>\n",
    "    <h3>8.2.11 One Way ANOVA Different numbers per Group\n",
    "    </h3>\n",
    "    <p>The same analysis we have performed for One Way ANOVA with the same numbers per group would be appropriate if there were different numbers per group and with any number of groups. In fact, if $I=2$, i.e. 2 groups, the results are exactly equivalent to performing an Unpaired t-test.\n",
    "    </p>\n",
    "</body>"
   ]
  },
  {
   "cell_type": "markdown",
   "metadata": {
    "slideshow": {
     "slide_type": "slide"
    }
   },
   "source": [
    "<body>\n",
    "    <p>If there are unequal numbers of observations in the groups the only difference is that the calculations become more complex. Take $I$ groups with $n_i$ observations in the $i$th group.\n",
    "    </p>\n",
    "</body>"
   ]
  },
  {
   "cell_type": "markdown",
   "metadata": {
    "slideshow": {
     "slide_type": "slide"
    }
   },
   "source": [
    "<body>\n",
    "    <ul style=\"list-style:none;\">\n",
    "        <li>Hypotheses\n",
    "        </li>\n",
    "        <li>$H_0: \\mu_1=\\mu_2=... = \\mu_I\\quad$ The population means are equal.\n",
    "        </li>\n",
    "        <li>$H_1: $ The populaton means are not all equal. (There is at least one difference.)\n",
    "        </li>\n",
    "    </ul>\n",
    "</body>"
   ]
  },
  {
   "cell_type": "markdown",
   "metadata": {
    "slideshow": {
     "slide_type": "slide"
    }
   },
   "source": [
    "<body>\n",
    "    <p>Letting $N=\\sum\\limits_{i}n_i$ the ANOVA Table is now:\n",
    "    </p>\n",
    "</body>"
   ]
  },
  {
   "cell_type": "markdown",
   "metadata": {
    "slideshow": {
     "slide_type": "slide"
    }
   },
   "source": [
    "<body>\n",
    "    <table>\n",
    "        <colgroup>\n",
    "        <col style=\"width: 16%\" />\n",
    "        <col style=\"width: 12%\" />\n",
    "        <col style=\"width: 30%\" />\n",
    "        <col style=\"width: 12%\" />\n",
    "        <col style=\"width: 30%\" />\n",
    "        </colgroup>\n",
    "    <thead>\n",
    "        <tr class=\"header\">\n",
    "        <th>Source of Variation</th>\n",
    "        <th>df</th>\n",
    "        <th style=\"text-align: center;\">SS</th>\n",
    "        <th style=\"text-align: right;\">Mean SS</th>\n",
    "        <th style=\"text-align: center;\">F statistic</th>\n",
    "        </tr>\n",
    "    </thead>\n",
    "    <tbody>\n",
    "        <tr class=\"odd\">\n",
    "        <td>Between Groups</td>\n",
    "        <td>$I − 1$</td>\n",
    "        <td style=\"text-align: center;\">$SS_{BG} =\\\\ \\sum\\limits_{i}^{I}n_i(\\bar{y}_{i,}-\\bar{y})^2$</td>\n",
    "        <td style=\"text-align: right;\">$\\dfrac{SS_{BG}}{I-1} $</td>\n",
    "        <td style=\"text-align: right;\">$\\dfrac{SS_{BG}/(I-1)}{SS_{WG}/\\left[(N-I)\\right]}$</td>\n",
    "        </tr>\n",
    "        <tr class=\"even\">\n",
    "        <td>Within Groups</td>\n",
    "        <td>$N−I$</td>\n",
    "        <td style=\"text-align: center;\">$SS_{WG} =\\\\ \\sum\\limits_{i}^{I}\\sum\\limits_{j}^{n_i}(y_{ij}-\\bar{y}_{i.})^2$</td>\n",
    "        <td style=\"text-align: right;\">$\\dfrac{SS_{WG}}{N-I}$</td>\n",
    "        <td style=\"text-align: right;\"></td>\n",
    "        </tr>\n",
    "        <tr class=\"odd\">\n",
    "        <td>Total</td>\n",
    "        <td>$N− 1$</td>\n",
    "        <td style=\"text-align: center;\">$SS_{TOT}$</td>\n",
    "        <td style=\"text-align: left;\"></td>\n",
    "        <td style=\"text-align: right;\"></td>\n",
    "        </tr>\n",
    "    </tbody>\n",
    "    </table>\n",
    "</body>"
   ]
  },
  {
   "cell_type": "markdown",
   "metadata": {
    "slideshow": {
     "slide_type": "slide"
    }
   },
   "source": [
    "<body>\n",
    "    <p>Note because of the complexity we will not be attempting to perform the\n",
    "calculations by hand for this situation when the number of observations\n",
    "are unequal.\n",
    "    </p>\n",
    "</body>"
   ]
  },
  {
   "cell_type": "markdown",
   "metadata": {
    "slideshow": {
     "slide_type": "slide"
    }
   },
   "source": [
    "<body>\n",
    "    <h2>8.3 One Way ANOVA Alternative Views\n",
    "    </h2>\n",
    "    <p>Now that we have introduced the technique and demonstrated its implementation it will be helpful to develop our ideas and understanding if we review some of the theoretical concepts.\n",
    "    </p>\n",
    "</body>"
   ]
  },
  {
   "cell_type": "markdown",
   "metadata": {
    "slideshow": {
     "slide_type": "slide"
    }
   },
   "source": [
    "<body>\n",
    "    <p>We have seen that although the tests actually tested hypotheses about the means of data the method derived its name because it partitions the variability in the data and that the variability was determined by the Sum of Squares.\n",
    "    </p>\n",
    "</body>"
   ]
  },
  {
   "cell_type": "markdown",
   "metadata": {
    "slideshow": {
     "slide_type": "slide"
    }
   },
   "source": [
    "<body>\n",
    "    <p>In One Way ANOVA the variability was divided into two parts: Between Groups and Within Groups. The Hypotheses tested were:\n",
    "    </p>\n",
    "    <ul style=\"list-style:none;\">\n",
    "        <li>$H_0$ : The population means are equal.<br>\n",
    "            $H_1$ : The population means are not all equal.\n",
    "        </li>\n",
    "    </ul>\n",
    "</body>"
   ]
  },
  {
   "cell_type": "markdown",
   "metadata": {
    "slideshow": {
     "slide_type": "slide"
    }
   },
   "source": [
    "<body>\n",
    "    <p>This could be re-written in terms of relationship of the $ij$th response to the sum of the overall mean plus a random unexplained error.\n",
    "    </p>\n",
    "</body>"
   ]
  },
  {
   "cell_type": "markdown",
   "metadata": {
    "slideshow": {
     "slide_type": "slide"
    }
   },
   "source": [
    "<body>\n",
    "    <ul style=\"list-style:none;\">\n",
    "        <li>$H_0 : y_{ij} = \\mu + \\epsilon_{ij}\\quad\\quad\\quad\\quad RSS_0 = \\sum\\sum(y_{ij}-\\bar{y}_{..})^2$\n",
    "        </li>\n",
    "        <li>$H_1 : y_{ij} = \\mu + \\alpha_{i} + \\epsilon_{ij}\\quad\\quad RSS_1 = \\sum\\sum(y_{ij}-\\bar{y}_{i.})^2$\n",
    "        </li>\n",
    "    </ul>\n",
    "    <ul style=\"list-style:none;\">\n",
    "        <li>where $i = 1, 2,... I$ and $j = 1, 2,...J$<br>\n",
    "            $\\mu$ represents the overall mean<br>\n",
    "            $\\alpha_{i}$ represents the deviation from the overall mean at level $i$<br>\n",
    "            $\\epsilon_{ij}$ represents the random experimental error\n",
    "        </li>\n",
    "    </ul>\n",
    "</body>\n"
   ]
  },
  {
   "cell_type": "markdown",
   "metadata": {
    "slideshow": {
     "slide_type": "slide"
    }
   },
   "source": [
    "<body>\n",
    "    <p>With the addition of various numerical assumptions that summarise the assumptions of Normality and constant variance this is exactly as before.\n",
    "    </p>\n",
    "</body>"
   ]
  },
  {
   "cell_type": "markdown",
   "metadata": {
    "slideshow": {
     "slide_type": "slide"
    }
   },
   "source": [
    "<body>\n",
    "    <p>The above states that we assume that the responses are generated by an underlying linear model i.e. the observed response is assumed to consist of an overall mean plus deviations due to the factors of the experiment (plus possibly their interactions, we'll come to this later) plus a random error term.\n",
    "    </p>\n",
    "</body>"
   ]
  },
  {
   "cell_type": "markdown",
   "metadata": {
    "slideshow": {
     "slide_type": "slide"
    }
   },
   "source": [
    "<body>\n",
    "    <p>We would then use an F test (General Linear Test) to test the models as follows\n",
    "    </p>\n",
    "    <p>$$\\begin{equation}F = \\dfrac{(RSS_0-RSS_1)/(I-1)}{RSS_1/(I(J-1))} \\label{eq:85} \\tag{8.5}\n",
    "         \\end{equation}$$\n",
    "    </p>\n",
    "    <p>which is distributed as $F(I-1, I(J - 1))$ under $H_0$ and which is exactly the same as\n",
    "</body>"
   ]
  },
  {
   "cell_type": "markdown",
   "metadata": {
    "slideshow": {
     "slide_type": "slide"
    }
   },
   "source": [
    "<body>\n",
    "    <p>$$\\begin{equation}F = \\dfrac{(SS_{TOT}-SS_{WG})/(I-1)}{SS_{WG}/(I(J-1))} \\\\\n",
    "                                       = \\dfrac{(SS_{BG})/(I-1)}{SS_{WG}/(I(J-1))} \\label{eq:86}\\tag{8.6} \\end{equation}$$\n",
    "    </p>\n",
    "</body>"
   ]
  },
  {
   "cell_type": "markdown",
   "metadata": {
    "slideshow": {
     "slide_type": "slide"
    }
   },
   "source": [
    "<body>\n",
    "    <p>We will now consider the next most complicated case, the ideas behind which can be extended to accommodate many more factors.\n",
    "    </p>\n",
    "</body>"
   ]
  },
  {
   "cell_type": "markdown",
   "metadata": {
    "slideshow": {
     "slide_type": "slide"
    }
   },
   "source": [
    "<body>\n",
    "    <h2>8.4 Two Way Analysis of Variance\n",
    "    </h2>\n",
    "    <p>The next step from One Way ANOVA is to consider a situation when we have two factors. Two examples of studies requiring this form of analysis are:\n",
    "    </p>\n",
    "</body>"
   ]
  },
  {
   "cell_type": "markdown",
   "metadata": {
    "slideshow": {
     "slide_type": "slide"
    }
   },
   "source": [
    "<body>\n",
    "    <ul>\n",
    "        <li>One factor, drug; and the other factor, dose. For example, a comparison of responses of three drugs on three equivalent doses.\n",
    "        </li>\n",
    "        <li>One factor, drug; and the other factor, disease state. For example, a comparison\n",
    "of different drugs in different groups of subjects (healthy volunteers, patients with renal failure, patients on renal dialysis).\n",
    "        </li>\n",
    "    </ul>\n",
    "</body>"
   ]
  },
  {
   "cell_type": "markdown",
   "metadata": {
    "slideshow": {
     "slide_type": "slide"
    }
   },
   "source": [
    "<body>\n",
    "    <p>Under the general term two-way ANOVA there are three possible Situations:\n",
    "    </p>\n",
    "    <ul class=\"nobull\">\n",
    "        <li>(a) equal numbers at each treatment combination (number $\\gt 1$)\n",
    "            <table>\n",
    "                <thead>\n",
    "                    <tr class=\"header\">\n",
    "                    <th>Subject</th>\n",
    "                    <th>DRUG 1</th>\n",
    "                    <th>DRUG 2</th>\n",
    "                    <th>DRUG 3</th>\n",
    "                    </tr>\n",
    "                </thead>\n",
    "                <tbody>\n",
    "                    <tr>\n",
    "                        <td>Young</td><td>6,5,4,3,6,4</td><td>2,1,3,4,2,1</td><td>3,4,7,8,3,2</td>\n",
    "                    </tr>\n",
    "                    <tr>\n",
    "                        <td>Middle Aged</td><td>9,3,2,3,4,1</td><td>5,4,6,5,4,5</td><td>4,5,5,3,3,3</td>\n",
    "                    </tr>\n",
    "                    <tr>\n",
    "                        <td>Elderly</td><td>7,7,5,5,4,6</td><td>4,4,4,3,5,6</td><td>3,2,5,6,4,2</td>\n",
    "                    </tr>\n",
    "                </tbody>\n",
    "            </table>\n",
    "            Here there are 6 observations per combination.\n",
    "        </li>\n",
    "    </ul>\n",
    "</body>"
   ]
  },
  {
   "cell_type": "markdown",
   "metadata": {
    "slideshow": {
     "slide_type": "slide"
    }
   },
   "source": [
    "<body>\n",
    "    <ul class=\"nobull\">\n",
    "        <li>(b) unequal numbers at each treatment combination\n",
    "            <table>\n",
    "                <thead>\n",
    "                    <tr class=\"header\">\n",
    "                    <th>Subject</th>\n",
    "                    <th>DRUG 1</th>\n",
    "                    <th>DRUG 2</th>\n",
    "                    <th>DRUG 3</th>\n",
    "                    </tr>\n",
    "                </thead>\n",
    "                <tbody>\n",
    "                    <tr>\n",
    "                        <td>Young</td><td>6,5,4,3</td><td>2,1,3</td><td>3,4,7,8,3,2</td>\n",
    "                    </tr>\n",
    "                    <tr>\n",
    "                        <td>Middle Aged</td><td>9,3,2,3,4,1</td><td>5,4,6,5,4,5</td><td>4,5,5,3,3,3</td>\n",
    "                    </tr>\n",
    "                    <tr>\n",
    "                        <td>Elderly</td><td>7,7,5,5,4,6</td><td>4,4,4,3,5,6,7,5</td><td>3,2,5,6,4,2</td>\n",
    "                    </tr>\n",
    "                </tbody>\n",
    "            </table>\n",
    "            Here there are 3-8 observations per combination.\n",
    "        </li>\n",
    "    </ul>\n",
    "</body>"
   ]
  },
  {
   "cell_type": "markdown",
   "metadata": {
    "slideshow": {
     "slide_type": "slide"
    }
   },
   "source": [
    "<body>\n",
    "    <ul class=\"nobull\">\n",
    "        <li>(c) one experimental unit at each treatment combination\n",
    "            <table>\n",
    "                <thead>\n",
    "                    <tr class=\"header\">\n",
    "                    <th>Subject</th>\n",
    "                    <th>DRUG 1</th>\n",
    "                    <th>DRUG 2</th>\n",
    "                    <th>DRUG 3</th>\n",
    "                    </tr>\n",
    "                </thead>\n",
    "                <tbody>\n",
    "                    <tr>\n",
    "                        <td>Young</td><td>6</td><td>2</td><td>3</td>\n",
    "                    </tr>\n",
    "                    <tr>\n",
    "                        <td>Middle Aged</td><td>9</td><td>5</td><td>4</td>\n",
    "                    </tr>\n",
    "                    <tr>\n",
    "                        <td>Elderly</td><td>7</td><td>4</td><td>3</td>\n",
    "                    </tr>\n",
    "                </tbody>\n",
    "            </table>\n",
    "            Only 1 observation per combination. A good design?\n",
    "        </li>\n",
    "    </ul>\n",
    "</body>"
   ]
  },
  {
   "cell_type": "markdown",
   "metadata": {
    "slideshow": {
     "slide_type": "slide"
    }
   },
   "source": [
    "<body>\n",
    "    <p>The full model for Situation (a) with two factors A and B is\n",
    "    </p>\n",
    "    <p>$$\\begin{equation}y_{ijk} = \\mu + \\alpha_{i}+\\beta_{j} + (\\alpha\\beta)_{ij} + \\epsilon_{ijk} \\label{eq:87}\\tag{8.7} \\end{equation}$$\n",
    "    </p>\n",
    "    <ul style=\"list-style:none\">\n",
    "        <li>where $i = 1, 2,..., I$, $j = 1, 2,..., J$ and $k = 1, 2, ..., K$<br>\n",
    "            $y_{ijk}$ represents the $k$th response on the $i$th level of factor A and the $j$th level of factor B<br>\n",
    "            $I$ represents the number of levels of factor A<br>\n",
    "            $J$ represents the number of levels of factor B<br>\n",
    "            $K$ represents the number of experimental units for combination $ij$ of factors A and B<br>\n",
    "            $\\mu$ represents the overall mean\n",
    "        </li>\n",
    "    </ul>\n",
    "</body>"
   ]
  },
  {
   "cell_type": "markdown",
   "metadata": {
    "slideshow": {
     "slide_type": "slide"
    }
   },
   "source": [
    "<body>\n",
    "    <ul style=\"list-style:none\">\n",
    "        <li>$\\alpha_i$ represents the effect of level $i$ of factor A (MAIN EFFECT)<br>\n",
    "            $\\beta_i$ represents the effect of level $j$ of factor B (MAIN EFFECT)\n",
    "        </li>\n",
    "        <li>$(\\alpha\\beta)_{ij}$ represents the interaction between the $i$th level of factor A and the $j$th level of factor B (INTERACTION)\n",
    "        </li>\n",
    "        <li>$\\epsilon_{ijk}$ represents the random experimental error\n",
    "        </li>\n",
    "    </ul>\n",
    "</body>"
   ]
  },
  {
   "cell_type": "markdown",
   "metadata": {
    "slideshow": {
     "slide_type": "slide"
    }
   },
   "source": [
    "<body>\n",
    "    <p>Additionally there are numerical assumptions to represent the assumptions of Normality and constant variance.\n",
    "    </p>\n",
    "</body>    "
   ]
  },
  {
   "cell_type": "markdown",
   "metadata": {
    "slideshow": {
     "slide_type": "slide"
    }
   },
   "source": [
    "<body>\n",
    "    <h3>8.4.1 Two Way Analysis of Variance; Equal Numbers per Combination ($\\gt 1$)\n",
    "    </h3>\n",
    "    <p>Questions posed by the analysis of Two-Way ANOVA are:\n",
    "    </p>\n",
    "    <ol class=\"a\">\n",
    "        <li>Does factor A have a significant effect? Is the response the same for each level of factor A?\n",
    "        </li>\n",
    "        <li>Does factor B have a significant effect? Is the response the same for each level of factor B?\n",
    "        </li>\n",
    "        <li>Do factors A and B interact? Is the relative response of factor A the same at each level of factor B?\n",
    "        </li>\n",
    "    </ol>\n",
    "</body>"
   ]
  },
  {
   "cell_type": "markdown",
   "metadata": {
    "slideshow": {
     "slide_type": "slide"
    }
   },
   "source": [
    "<body>\n",
    "    <p>These questions imply that the hypotheses tested are:\n",
    "    </p>\n",
    "    <ol class=\"a\">\n",
    "        <li>$H_{A} : \\alpha_i = 0 \\quad\\forall{i}$\n",
    "        </li>\n",
    "        <li>$H_{B} : \\beta_j = 0 \\quad\\forall j$\n",
    "        </li>\n",
    "        <li>$H_{AB} : (\\alpha_i\\beta_j)_{ij} = 0 \\quad\\forall i,j$\n",
    "        </li>\n",
    "    </ol>\n",
    "</body>"
   ]
  },
  {
   "cell_type": "markdown",
   "metadata": {
    "slideshow": {
     "slide_type": "slide"
    }
   },
   "source": [
    "<body>\n",
    "    <p>Since this is an ANOVA the calculations involve subdividing the total variability in the data. In this case it is divided into:\n",
    "    </p>\n",
    "</body>"
   ]
  },
  {
   "cell_type": "markdown",
   "metadata": {
    "slideshow": {
     "slide_type": "slide"
    }
   },
   "source": [
    "<body>\n",
    "    <ol class=\"i\">\n",
    "        <li>Explained Variation:\n",
    "        <ul>\n",
    "            <li>Variation due to Factor A\n",
    "            </li>\n",
    "            <li>Variation due to Factor B \n",
    "            </li>\n",
    "            <li>Variation due to the Interaction of Factors A and B\n",
    "            </li>\n",
    "        </ul>\n",
    "        <li>Unexplained Variation \n",
    "        <ul>\n",
    "            <li>The Residual / Error \n",
    "            </li>\n",
    "        </ul>\n",
    "    </ol>\n",
    "</body>"
   ]
  },
  {
   "cell_type": "markdown",
   "metadata": {
    "slideshow": {
     "slide_type": "slide"
    }
   },
   "source": [
    "<body>\n",
    "    <p>So that, $$\\begin{equation}SS_{TOT} = SS_{A} + SS_{B} + SS_{I} + SS_{RES} \\label{eq:88}\\tag{8.8} \\end{equation}$$\n",
    "    </p>\n",
    "</body>"
   ]
  },
  {
   "cell_type": "markdown",
   "metadata": {
    "slideshow": {
     "slide_type": "slide"
    }
   },
   "source": [
    "<body>\n",
    "    <p>For information only, the following are the formulae. (You will be pleased to note we will not be calculating any of these by hand!!). So if we let,\n",
    "    <ul class=nobull>\n",
    "        <li>$I$ = no of levels of Factor A<br>\n",
    "            $J$ = no of levels of Factor B<br>\n",
    "            $K$ = no of experimental units for each combination\n",
    "            $y_{ijk}$ = $j$th observation for the $i$th level of Factor A and $j$th level of Factor B<br>\n",
    "    </ul>\n",
    "</body>"
   ]
  },
  {
   "cell_type": "markdown",
   "metadata": {
    "slideshow": {
     "slide_type": "slide"
    }
   },
   "source": [
    "<body>\n",
    "    <table style=\"width: 100%;\">\n",
    "        <colgroup>\n",
    "        <col style=\"width: 20%\" />\n",
    "        <col style=\"width: 30%\" />\n",
    "        <col style=\"width: 50%\" />\n",
    "        </colgroup>\n",
    "    <thead>\n",
    "        <tr class=\"header\">\n",
    "        <th style=\"text-align: left;\"></th>\n",
    "        <th style=\"text-align: left;\">Summary Statistics</th>\n",
    "        <th style=\"text-align: left;\">Sums of Squares</th>\n",
    "        </tr>\n",
    "    </thead>\n",
    "    <tbody>\n",
    "        <tr class=\"odd\">\n",
    "        <td style=\"text-align: left;\">Overall</td>\n",
    "        <td style=\"text-align: left;\">$\\bar{y}_{...}=\\dfrac{\\sum\\sum\\sum y_{ijk}}{IJK}$</td>\n",
    "        <td style=\"text-align: left;\">$~{SS_{TOT}=\\sum\\sum\\sum(y_{ijk}-\\bar{y}_{...})^2}$</td>\n",
    "        </tr>\n",
    "        <tr class=\"even\">\n",
    "        <td style=\"text-align: left;\">Factor A</td>\n",
    "        <td style=\"text-align: left;\">$\\bar{y}_{i..}=\\dfrac{\\sum\\sum y_{ijk}}{JK}$</td>\n",
    "        <td style=\"text-align: left;\">$~{SS_{A}=\\sum\\sum\\sum(\\bar{y}_{i..}-\\bar{y}_{...})^2}$</td>\n",
    "        </tr>\n",
    "        <tr class=\"odd\">\n",
    "        <td style=\"text-align: left;\">Factor B</td>\n",
    "        <td style=\"text-align: left;\">$\\bar{y}_{.j.}=\\dfrac{\\sum\\sum y_{ijk}}{IK}$</td>\n",
    "        <td style=\"text-align: left;\">$~{SS_{B}=\\sum\\sum\\sum(\\bar{y}_{.j.}-\\bar{y}_{...})^2}$</td>\n",
    "        </tr>\n",
    "        <tr class=\"even\">\n",
    "        <td style=\"text-align: left;\">Interaction</td>\n",
    "        <td style=\"text-align: left;\">$\\bar{y}_{ij.}=\\dfrac{\\sum y_{ijk}}{K}$</td>\n",
    "        <td style=\"text-align: left;\">$~{SS_{I}=\\sum\\sum\\sum(\\bar{y}_{ij.}-\\bar{y}_{i..}-\\bar{y}_{.j.}+\\bar{y}_{...})^2}$</td>\n",
    "        </tr>\n",
    "        <tr class=\"odd\">\n",
    "        <td style=\"text-align: left;\">Residual</td>\n",
    "        <td style=\"text-align: left;\"></td>\n",
    "        <td style=\"text-align: left;\">$SS_{RES} = \\sum\\sum\\sum(y_{ijk}-\\bar{y}_{ij.})^2$</td>\n",
    "        </tr>\n",
    "    </tbody>\n",
    "    </table>\n",
    "</body>"
   ]
  },
  {
   "cell_type": "markdown",
   "metadata": {
    "slideshow": {
     "slide_type": "slide"
    }
   },
   "source": [
    "<body>\n",
    "    <p>In this case when the numbers in each combination are equal there is a unique Two-Way ANOVA table as follows :\n",
    "    </p>\n",
    "    <table style=\"width: 100%;\">\n",
    "        <colgroup>\n",
    "        <col style=\"width: 15%\" />\n",
    "        <col style=\"width: 20%\" />\n",
    "        <col style=\"width: 12%\" />\n",
    "        <col style=\"width: 25%\" />\n",
    "        <col style=\"width: 28%\" />\n",
    "        </colgroup>\n",
    "    <thead>\n",
    "        <tr class=\"header\">\n",
    "        <th>Source of Variation</th>\n",
    "        <th style=\"text-align: center;\">df</th>\n",
    "        <th style=\"text-align: left;\">SS</th>\n",
    "        <th style=\"text-align: left;\">Mean SS</th>\n",
    "        <th style=\"text-align: left;\">F statistic</th>\n",
    "        </tr>\n",
    "    </thead>\n",
    "    <tbody>\n",
    "        <tr class=\"odd\">\n",
    "        <td>Factor A</td>\n",
    "        <td style=\"text-align: center;\">$I - 1$</td>\n",
    "        <td style=\"text-align: left;\">$SS_{A}$</td>\n",
    "        <td style=\"text-align: left;\">$\\dfrac{SS_{A}}{I-1} $</td>\n",
    "        <td style=\"text-align: left;\">$\\dfrac{SS_{A}/(I-1)}{SS_{RES}/\\left[IJ(K-1)\\right]}$</td>\n",
    "        </tr>\n",
    "        <tr class=\"even\">\n",
    "        <td>Factor B</td>\n",
    "        <td style=\"text-align: center;\">$J - 1$</td>\n",
    "        <td style=\"text-align: left;\">$SS_{B}$ </td>\n",
    "        <td style=\"text-align: left;\">$\\dfrac{SS_{B}}{J-1} $</td>\n",
    "        <td style=\"text-align: left;\">$\\dfrac{SS_{B}/(J-1)}{SS_{RES}/\\left[IJ(K-1)\\right]}$</td>\n",
    "        </tr>\n",
    "        <tr class=\"odd\">\n",
    "        <td>Interaction</td>\n",
    "        <td style=\"text-align: center;\">$(I-1)(J-1)$</td>\n",
    "        <td style=\"text-align: left;\">$SS_{I}$</td>\n",
    "        <td style=\"text-align: left;\">$\\dfrac{SS_{I}}{(I-1)(J-1)} $</td>\n",
    "        <td style=\"text-align: left;\">$\\dfrac{SS_{I}/[(I-1)(J-1)]}{SS_{RES}/\\left[IJ(K-1)\\right]}$</td>\n",
    "        </tr>\n",
    "        <tr class=\"even\">\n",
    "        <td>Residual</td>\n",
    "        <td style=\"text-align: center;\">$IJ(K-1)$</td>\n",
    "        <td style=\"text-align: left;\">$SS_{RES}$</td>\n",
    "        <td style=\"text-align: left;\">$\\dfrac{SS_{RES}}{IJ(K-1)} $ </td>\n",
    "        <td style=\"text-align: right;\"></td>\n",
    "        </tr>\n",
    "        <tr class=\"odd\">\n",
    "        <td>Total</td>\n",
    "        <td>$IJK - 1$</td>\n",
    "        <td style=\"text-align: left;\">$SS_{TOT}$</td>\n",
    "        <td style=\"text-align: left;\"></td>\n",
    "        <td style=\"text-align: right;\"></td>\n",
    "        </tr>\n",
    "    </tbody>\n",
    "    </table>\n",
    "</body>"
   ]
  },
  {
   "cell_type": "markdown",
   "metadata": {
    "slideshow": {
     "slide_type": "slide"
    }
   },
   "source": [
    "<body>\n",
    "    <p>The calculated F's are compared to the appropriate point of the F distribution and if F is greater than the tabulated value then the null hypothesis of no effect is rejected.\n",
    "    </p>\n",
    "</body>"
   ]
  },
  {
   "cell_type": "markdown",
   "metadata": {
    "slideshow": {
     "slide_type": "slide"
    }
   },
   "source": [
    "<body>\n",
    "    <p>As with any analysis the assumptions should be checked.\n",
    "    </p>\n",
    "    <p>If there is a significant result then the exact nature of the difference in effect should be investigated using multiple comparisons, as discussed previously.\n",
    "    </p>\n",
    "</body>"
   ]
  },
  {
   "cell_type": "markdown",
   "metadata": {
    "slideshow": {
     "slide_type": "slide"
    }
   },
   "source": [
    "<body>\n",
    "    <h3>8.4.2 Two Way ANOVA Example\n",
    "    </h3>\n",
    "    <p>A study consists of measuring the fall in blood pressure on a random sample of men and women; with each patient randomly allocated to one of the three drugs being investigated. In this study there are 12 patients, 6 men and 6 women. Note that this is really far too small a sample size! The data are:\n",
    "    </p>\n",
    "</body>"
   ]
  },
  {
   "cell_type": "markdown",
   "metadata": {
    "slideshow": {
     "slide_type": "slide"
    }
   },
   "source": [
    "<body>\n",
    "    <table>\n",
    "    <thead>\n",
    "        <tr class=\"header\">\n",
    "        <th>Gender</th>\n",
    "        <th>Drug 1</th>\n",
    "        <th>Drug 2</th>\n",
    "        <th>Drug 3</th>\n",
    "        </tr>\n",
    "    </thead>\n",
    "    <tbody>\n",
    "        <tr class=\"odd\">\n",
    "        <td>Male</td>\n",
    "        <td>45</td>\n",
    "        <td>30</td>\n",
    "        <td>10</td>\n",
    "        </tr>\n",
    "        <tr class=\"even\">\n",
    "        <td></td>\n",
    "        <td>55</td>\n",
    "        <td>40</td>\n",
    "        <td>10</td>\n",
    "        </tr>\n",
    "        <tr class=\"odd\">\n",
    "        <td>Female</td>\n",
    "        <td>65</td>\n",
    "        <td>20</td>\n",
    "        <td>5</td>\n",
    "        </tr>\n",
    "        <tr class=\"even\">\n",
    "        <td></td>\n",
    "        <td>55</td>\n",
    "        <td>15</td>\n",
    "        <td>10</td>\n",
    "        </tr>\n",
    "    </tbody>\n",
    "    </table>\n",
    "</body>"
   ]
  },
  {
   "cell_type": "markdown",
   "metadata": {
    "slideshow": {
     "slide_type": "slide"
    }
   },
   "source": [
    "<body>\n",
    "    <p>The model is:\n",
    "    </p>\n",
    "    <ul class=\"nobull\">\n",
    "        <li>$y_{ijk} = \\mu + \\alpha_{i}+\\beta_{j} + (\\alpha\\beta)_{ij} + \\epsilon_{ijk}$    \n",
    "        </li>\n",
    "        <li>and $i = 1, 2$, $j = 1,2,3$ and $k = 1,2$\n",
    "        </li>\n",
    "    </ul>\n",
    "    <p>and $\\alpha_i$ represents the effect of gender $i$ ; $\\beta_j$ the effect due to drug\n",
    "$j$; and $(\\alpha\\beta)_{ij}$ represents the interaction.\n",
    "    </p>\n",
    "</body>"
   ]
  },
  {
   "cell_type": "markdown",
   "metadata": {
    "slideshow": {
     "slide_type": "slide"
    }
   },
   "source": [
    "<body>\n",
    "    <p>The ANOVA table is\n",
    "    </p>\n",
    "    <table>\n",
    "    <thead>\n",
    "        <tr class=\"header\">\n",
    "        <th>Source</th>\n",
    "        <th>df</th>\n",
    "        <th>SS</th>\n",
    "        <th>Mean SS</th>\n",
    "        <th>F statistic</th>\n",
    "        <th>p-value</th>\n",
    "        </tr>\n",
    "    </thead>\n",
    "    <tbody>\n",
    "        <tr class=\"odd\">\n",
    "        <td>Gender</td>\n",
    "        <td>1</td>\n",
    "        <td>33.33</td>\n",
    "        <td>33.33</td>\n",
    "        <td>1.14</td>\n",
    "        <td>0.326</td>\n",
    "        </tr>\n",
    "        <tr class=\"even\">\n",
    "        <td>Drug</td>\n",
    "        <td>2</td>\n",
    "        <td>4362.50</td>\n",
    "        <td>2181.25</td>\n",
    "        <td>74.79</td>\n",
    "        <td>0.000</td>\n",
    "        </tr>\n",
    "        <tr class=\"odd\">\n",
    "        <td>Gender*Drug</td>\n",
    "        <td>2</td>\n",
    "        <td>379.17</td>\n",
    "        <td>189.58</td>\n",
    "        <td>6.50</td>\n",
    "        <td>0.031</td>\n",
    "        </tr>\n",
    "        <tr class=\"even\">\n",
    "        <td>Error</td>\n",
    "        <td>6</td>\n",
    "        <td>175.00</td>\n",
    "        <td>29.17</td>\n",
    "        <td></td>\n",
    "        <td></td>\n",
    "        </tr>\n",
    "        <tr class=\"odd\">\n",
    "        <td>Total</td>\n",
    "        <td>11</td>\n",
    "        <td>4950.00</td>\n",
    "        <td></td>\n",
    "        <td></td>\n",
    "        <td></td>\n",
    "        </tr>\n",
    "    </tbody>\n",
    "    </table>\n",
    "</body>"
   ]
  },
  {
   "cell_type": "code",
   "execution_count": 5,
   "metadata": {
    "slideshow": {
     "slide_type": "slide"
    }
   },
   "outputs": [
    {
     "data": {
      "text/plain": [
       "              Df Sum Sq Mean Sq F value  Pr(>F)    \n",
       "genders        1     33      33    1.14   0.326    \n",
       "drugs          2   4362    2181   74.79 5.7e-05 ***\n",
       "genders:drugs  2    379     190    6.50   0.031 *  \n",
       "Residuals      6    175      29                    \n",
       "---\n",
       "Signif. codes:  0 '***' 0.001 '**' 0.01 '*' 0.05 '.' 0.1 ' ' 1"
      ]
     },
     "metadata": {},
     "output_type": "display_data"
    }
   ],
   "source": [
    "# set up observations in a data frame\n",
    "obs.df<-data.frame(subjects=seq(1,12,1),\n",
    "                   gender=c(\"M\",\"M\",\"M\",\"M\",\"M\",\"M\",\n",
    "                            \"F\",\"F\",\"F\",\"F\",\"F\",\"F\"),\n",
    "                   drug=c(\"Drug1\",\"Drug2\",\"Drug3\",\"Drug1\",\"Drug2\",\"Drug3\",\n",
    "                          \"Drug1\",\"Drug2\",\"Drug3\",\"Drug1\",\"Drug2\",\"Drug3\"),                   \n",
    "                   decrease=c(45,30,10,55,40,10,65,20,5,55,15,10))\n",
    "# use the with construct to make referencing elements of the data frame easier to read \n",
    "# (e.g. no need to use obs.df$drug)\n",
    "with(obs.df, {\n",
    "    # set the factors for drugs and genders\n",
    "    drugs<-factor(drug)\n",
    "    genders<-factor(gender)\n",
    "    # call ANOVA where we want to determine if drug type, gender or interaction of drug and gender are significant\n",
    "    aov2<-aov(decrease~genders+drugs+drugs*genders)\n",
    "    # the above states: decreace varies(~) accoding to genders & drugs & drugs*gender\n",
    "    summary(aov2)\n",
    "})\n"
   ]
  },
  {
   "cell_type": "markdown",
   "metadata": {
    "slideshow": {
     "slide_type": "slide"
    }
   },
   "source": [
    "<body>\n",
    "    <p>The conclusions we can draw from this are that the main gender effect is not significant at the 5% significance level while the main drug effect and the interaction are significant at the 5% significance level.\n",
    "    </p>\n",
    "</body>"
   ]
  },
  {
   "cell_type": "markdown",
   "metadata": {
    "slideshow": {
     "slide_type": "slide"
    }
   },
   "source": [
    "<body>\n",
    "    <p>Note that when there is a significant interaction the interpretation of the main effects is difficult so it is on the follow-up multiple comparisons for the interaction term that any interpretation is made.\n",
    "    </p>\n",
    "</body>"
   ]
  },
  {
   "cell_type": "markdown",
   "metadata": {
    "slideshow": {
     "slide_type": "slide"
    }
   },
   "source": [
    "<body>\n",
    "    <p>To investigate the reasons for the above results the following plots of the means for each gender and drug combination were constructed. The means are:\n",
    "    </p>\n",
    "</body>"
   ]
  },
  {
   "cell_type": "markdown",
   "metadata": {
    "slideshow": {
     "slide_type": "slide"
    }
   },
   "source": [
    "<body>\n",
    "    <table>\n",
    "    <thead>\n",
    "        <tr class=\"header\">\n",
    "        <th>Gender</th>\n",
    "        <th>Drug 1</th>\n",
    "        <th>Drug 2</th>\n",
    "        <th>Drug 3</th>\n",
    "        <th>ALL</th>\n",
    "        </tr>\n",
    "    </thead>\n",
    "    <tbody>\n",
    "        <tr class=\"odd\">\n",
    "        <td>Male</td>\n",
    "        <td>50.000</td>\n",
    "        <td>35.000</td>\n",
    "        <td>10.000</td>\n",
    "        <td>31.667</td>\n",
    "        </tr>\n",
    "        <tr class=\"even\">\n",
    "        <td>Female</td>\n",
    "        <td>60.000</td>\n",
    "        <td>17.500</td>\n",
    "        <td>7.500</td>\n",
    "        <td>28.333</td>\n",
    "        </tr>\n",
    "        <tr class=\"odd\">\n",
    "        <td>ALL</td>\n",
    "        <td>55.000</td>\n",
    "        <td>26.250</td>\n",
    "        <td>8.750</td>\n",
    "        <td>30.000</td>\n",
    "        </tr>\n",
    "    </tbody>\n",
    "    </table>\n",
    "</body>"
   ]
  },
  {
   "cell_type": "code",
   "execution_count": 6,
   "metadata": {
    "slideshow": {
     "slide_type": "slide"
    }
   },
   "outputs": [
    {
     "data": {
      "image/png": "[encoded data removed]",
      "text/plain": [
       "plot without title"
      ]
     },
     "metadata": {
      "image/png": {
       "height": 420,
       "width": 420
      }
     },
     "output_type": "display_data"
    }
   ],
   "source": [
    "# set up the observations for blood pressure change. Note this is the same data set up in the previous R example,\n",
    "# just reordered slightly. (For no particular reason.) Note here, the Drug level is set as a vector of integers as \n",
    "# we do not use this data for a call to ANOVA, just plotting.\n",
    "BPChange.df<-data.frame(decrease = c(45,55,65,55,\n",
    "                                     30,40,20,15,\n",
    "                                     10,10,5,10),\n",
    "                        Gender=c(\"Male\",\"Male\",\"Female\",\"Female\",\n",
    "                                \"Male\",\"Male\",\"Female\",\"Female\",\n",
    "                                \"Male\",\"Male\",\"Female\",\"Female\"),\n",
    "                        Drug=c(1,1,1,1,\n",
    "                               2,2,2,2,\n",
    "                               3,3,3,3))\n",
    "\n",
    "# Want 2 plots on one page, adjust margins to remove whitespace\n",
    "par (mfrow=c(2,1),mar=c(3,3,1,1))\n",
    "\n",
    "# Plot interactions between drug and gender. Note that plotting Drug and Gender in different order shows up different\n",
    "# interactions.\n",
    "with(BPChange.df, {\n",
    "  interaction.plot(Drug, Gender, decrease, mgp=c(2,0,0))\n",
    "  interaction.plot(Gender, Drug, decrease, mgp=c(2,0,0))\n",
    "})"
   ]
  },
  {
   "cell_type": "markdown",
   "metadata": {
    "slideshow": {
     "slide_type": "slide"
    }
   },
   "source": [
    "<body>\n",
    "    <p>The first figure shows that the BP fall decreases between the Drugs.\n",
    "    </p>\n",
    "    <p>The second figure shows that the Gender effect is small and the fall on Drug 1 is greater with Females than for Males but the fall is smaller for Females on the other two drugs. This accounts for the significant interaction term in the ANOVA table.\n",
    "    </p>\n",
    "</body>"
   ]
  },
  {
   "cell_type": "markdown",
   "metadata": {
    "slideshow": {
     "slide_type": "slide"
    }
   },
   "source": [
    "<body>\n",
    "    <p>The discussion so far related to the Situation where there are equal numbers at each treatment combination, Situation (a). In Situations (b) and (c) the following points should be noted:\n",
    "</body>"
   ]
  },
  {
   "cell_type": "markdown",
   "metadata": {
    "slideshow": {
     "slide_type": "slide"
    }
   },
   "source": [
    "<body>\n",
    "    <ul class=\"nobull\">\n",
    "        <li>(b) When there are unequal numbers of observations per treatment combination there is no single partitioning of the total variation. Therefore the conclusions may depend on the order in which the effects are added into the model.\n",
    "        </li>\n",
    "        <li>(c) When we only have one observation per combination we cannot estimate the interaction term. So the experiment must be carefully designed to minimise any interactions and we can then analyse the data on the assumption that the interactions are all zero.\n",
    "        </li>\n",
    "    </ul>\n",
    "</body>"
   ]
  },
  {
   "cell_type": "markdown",
   "metadata": {
    "slideshow": {
     "slide_type": "slide"
    }
   },
   "source": [
    "<body>\n",
    "    <h3>8.4.3 Two-Way ANOVA Example: Situation (c) An Extension of Paired t-test\n",
    "    </h3>\n",
    "    <p>In an experiment to detect any relationship between the heights of Aberdonian fathers and their eldest sons, eight pairs of fathers and sons were selected at random from the city population and their exact heights recorded, in inches, as follows :\n",
    "    </p>\n",
    "</body>"
   ]
  },
  {
   "cell_type": "markdown",
   "metadata": {
    "slideshow": {
     "slide_type": "slide"
    }
   },
   "source": [
    "<body>\n",
    "    <ul class=\"nobull\">\n",
    "        <li>Height of father : 63.2 74.1 70.6 72.3 65.8 67.3 68.9 66.7\n",
    "        </li>\n",
    "        <li>Height of son : 65.7 67.0 69.5 70.5 64.4 68.3 71.4 63.5\n",
    "        </li>\n",
    "    </ul>\n",
    "    <p>Is there a significant difference in the heights of fathers and sons?\n",
    "    </p>\n",
    "</body>"
   ]
  },
  {
   "cell_type": "markdown",
   "metadata": {
    "slideshow": {
     "slide_type": "slide"
    }
   },
   "source": [
    "<body>\n",
    "    <p>First examine the results from a One-Sample T-test where we test whether the difference between each of the Father and Son pairings. Note that our null hypothesis is that the mean value of these differences is 0.\n",
    "    </p>\n",
    "</body>"
   ]
  },
  {
   "cell_type": "code",
   "execution_count": 7,
   "metadata": {
    "slideshow": {
     "slide_type": "slide"
    }
   },
   "outputs": [
    {
     "data": {
      "text/plain": [
       "\n",
       "\tOne Sample t-test\n",
       "\n",
       "data:  Height[Relation == \"Father\"] - Height[Relation == \"Son\"]\n",
       "t = 0.95, df = 7, p-value = 0.4\n",
       "alternative hypothesis: true mean is not equal to 0\n",
       "95 percent confidence interval:\n",
       " -1.593  3.743\n",
       "sample estimates:\n",
       "mean of x \n",
       "    1.075 \n"
      ]
     },
     "metadata": {},
     "output_type": "display_data"
    }
   ],
   "source": [
    "# Set up the data frame for the observations so that each family of father and son pairings are identified with the \n",
    "# id held in Family.\n",
    "heights.df<-data.frame(Family = c(seq(1,8,1),seq(1,8,1)), xxxxxxxccccccccccccccccccccccc\n",
    "                       Height = c(63.2, 74.1, 70.6, 72.3, 65.8, 67.3, 68.9, 66.7,\n",
    "                                  65.7, 67.0, 69.5, 70.5, 64.4, 68.3, 71.4, 63.5),\n",
    "                       Relation=c(\"Father\",\"Father\",\"Father\",\"Father\",\"Father\",\"Father\",\"Father\",\"Father\",\n",
    "                                   \"Son\",\"Son\",\"Son\",\"Son\",\"Son\",\"Son\",\"Son\",\"Son\"))\n",
    "with (heights.df, {\n",
    "  # One-sample two-sided t-test. Note mu=0 says that our null hypothesis is that the mean of the differences is 0\n",
    "  t.test(Height[Relation==\"Father\"]-Height[Relation==\"Son\"], mu = 0, alternative = \"two.sided\")\n",
    "})\n"
   ]
  },
  {
   "cell_type": "markdown",
   "metadata": {
    "slideshow": {
     "slide_type": "slide"
    }
   },
   "source": [
    "<body>\n",
    "    <p>Now compare this with the output from a Paired t-test where we compare the Height of father with Height of son.\n",
    "    </p>\n",
    "</body>"
   ]
  },
  {
   "cell_type": "code",
   "execution_count": 8,
   "metadata": {
    "slideshow": {
     "slide_type": "slide"
    }
   },
   "outputs": [
    {
     "data": {
      "text/plain": [
       "\n",
       "\tPaired t-test\n",
       "\n",
       "data:  Height[Relation == \"Father\"] and Height[Relation == \"Son\"]\n",
       "t = 0.95, df = 7, p-value = 0.4\n",
       "alternative hypothesis: true difference in means is not equal to 0\n",
       "95 percent confidence interval:\n",
       " -1.593  3.743\n",
       "sample estimates:\n",
       "mean of the differences \n",
       "                  1.075 \n"
      ]
     },
     "metadata": {},
     "output_type": "display_data"
    }
   ],
   "source": [
    "# Set up the data frame for the observations so that each family of father and son pairings are identified with the \n",
    "# id held in Family.\n",
    "heights.df<-data.frame(Family = c(seq(1,8,1),seq(1,8,1)),\n",
    "                       Height = c(63.2, 74.1, 70.6, 72.3, 65.8, 67.3, 68.9, 66.7,\n",
    "                                  65.7, 67.0, 69.5, 70.5, 64.4, 68.3, 71.4, 63.5),\n",
    "                       Relation=c(\"Father\",\"Father\",\"Father\",\"Father\",\"Father\",\"Father\",\"Father\",\"Father\",\n",
    "                                  \"Son\",\"Son\",\"Son\",\"Son\",\"Son\",\"Son\",\"Son\",\"Son\"))\n",
    "# if you have installed the dplyr library you could use the following to display a table with a summary of the data\n",
    "#library(\"dplyr\")\n",
    "#group_by(heights.df, Relation) %>%\n",
    "#  summarise(\n",
    "#    count = n(),\n",
    "#    mean = mean(Height, na.rm = TRUE),\n",
    "#    sd = sd(Height),\n",
    "#    sem = sd(Height)/sqrt(length(Height))\n",
    "#  )\n",
    "\n",
    "with (heights.df, {\n",
    "  # Now perform a paired two-sided t-test\n",
    "  t.test(Height[Relation==\"Father\"],Height[Relation==\"Son\"], \n",
    "         paired=TRUE, alternative = \"two.sided\")\n",
    "})"
   ]
  },
  {
   "cell_type": "code",
   "execution_count": 14,
   "metadata": {},
   "outputs": [
    {
     "data": {
      "text/html": [
       "<table class=\"dataframe\">\n",
       "<caption>A data.frame: 16 × 3</caption>\n",
       "<thead>\n",
       "\t<tr><th scope=col>Family</th><th scope=col>Height</th><th scope=col>Relative</th></tr>\n",
       "\t<tr><th scope=col>&lt;dbl&gt;</th><th scope=col>&lt;dbl&gt;</th><th scope=col>&lt;chr&gt;</th></tr>\n",
       "</thead>\n",
       "<tbody>\n",
       "\t<tr><td>1</td><td>63.2</td><td>Father</td></tr>\n",
       "\t<tr><td>2</td><td>74.1</td><td>Father</td></tr>\n",
       "\t<tr><td>3</td><td>70.6</td><td>Father</td></tr>\n",
       "\t<tr><td>4</td><td>72.3</td><td>Father</td></tr>\n",
       "\t<tr><td>5</td><td>65.8</td><td>Father</td></tr>\n",
       "\t<tr><td>6</td><td>67.3</td><td>Father</td></tr>\n",
       "\t<tr><td>7</td><td>68.9</td><td>Father</td></tr>\n",
       "\t<tr><td>8</td><td>66.7</td><td>Father</td></tr>\n",
       "\t<tr><td>1</td><td>65.7</td><td>Son   </td></tr>\n",
       "\t<tr><td>2</td><td>67.0</td><td>Son   </td></tr>\n",
       "\t<tr><td>3</td><td>69.5</td><td>Son   </td></tr>\n",
       "\t<tr><td>4</td><td>70.5</td><td>Son   </td></tr>\n",
       "\t<tr><td>5</td><td>64.4</td><td>Son   </td></tr>\n",
       "\t<tr><td>6</td><td>68.3</td><td>Son   </td></tr>\n",
       "\t<tr><td>7</td><td>71.4</td><td>Son   </td></tr>\n",
       "\t<tr><td>8</td><td>63.5</td><td>Son   </td></tr>\n",
       "</tbody>\n",
       "</table>\n"
      ],
      "text/latex": [
       "A data.frame: 16 × 3\n",
       "\\begin{tabular}{lll}\n",
       " Family & Height & Relative\\\\\n",
       " <dbl> & <dbl> & <chr>\\\\\n",
       "\\hline\n",
       "\t 1 & 63.2 & Father\\\\\n",
       "\t 2 & 74.1 & Father\\\\\n",
       "\t 3 & 70.6 & Father\\\\\n",
       "\t 4 & 72.3 & Father\\\\\n",
       "\t 5 & 65.8 & Father\\\\\n",
       "\t 6 & 67.3 & Father\\\\\n",
       "\t 7 & 68.9 & Father\\\\\n",
       "\t 8 & 66.7 & Father\\\\\n",
       "\t 1 & 65.7 & Son   \\\\\n",
       "\t 2 & 67.0 & Son   \\\\\n",
       "\t 3 & 69.5 & Son   \\\\\n",
       "\t 4 & 70.5 & Son   \\\\\n",
       "\t 5 & 64.4 & Son   \\\\\n",
       "\t 6 & 68.3 & Son   \\\\\n",
       "\t 7 & 71.4 & Son   \\\\\n",
       "\t 8 & 63.5 & Son   \\\\\n",
       "\\end{tabular}\n"
      ],
      "text/markdown": [
       "\n",
       "A data.frame: 16 × 3\n",
       "\n",
       "| Family &lt;dbl&gt; | Height &lt;dbl&gt; | Relative &lt;chr&gt; |\n",
       "|---|---|---|\n",
       "| 1 | 63.2 | Father |\n",
       "| 2 | 74.1 | Father |\n",
       "| 3 | 70.6 | Father |\n",
       "| 4 | 72.3 | Father |\n",
       "| 5 | 65.8 | Father |\n",
       "| 6 | 67.3 | Father |\n",
       "| 7 | 68.9 | Father |\n",
       "| 8 | 66.7 | Father |\n",
       "| 1 | 65.7 | Son    |\n",
       "| 2 | 67.0 | Son    |\n",
       "| 3 | 69.5 | Son    |\n",
       "| 4 | 70.5 | Son    |\n",
       "| 5 | 64.4 | Son    |\n",
       "| 6 | 68.3 | Son    |\n",
       "| 7 | 71.4 | Son    |\n",
       "| 8 | 63.5 | Son    |\n",
       "\n"
      ],
      "text/plain": [
       "   Family Height Relative\n",
       "1  1      63.2   Father  \n",
       "2  2      74.1   Father  \n",
       "3  3      70.6   Father  \n",
       "4  4      72.3   Father  \n",
       "5  5      65.8   Father  \n",
       "6  6      67.3   Father  \n",
       "7  7      68.9   Father  \n",
       "8  8      66.7   Father  \n",
       "9  1      65.7   Son     \n",
       "10 2      67.0   Son     \n",
       "11 3      69.5   Son     \n",
       "12 4      70.5   Son     \n",
       "13 5      64.4   Son     \n",
       "14 6      68.3   Son     \n",
       "15 7      71.4   Son     \n",
       "16 8      63.5   Son     "
      ]
     },
     "metadata": {},
     "output_type": "display_data"
    }
   ],
   "source": [
    "heights.df"
   ]
  },
  {
   "cell_type": "markdown",
   "metadata": {
    "slideshow": {
     "slide_type": "slide"
    }
   },
   "source": [
    "<body>\n",
    "    <p>As you would expect we get the same output from performing a One-Sample t-test on the difference between the Father and Son heights as we do with a Paired t-test of Father and Son heights.\n",
    "    </p>\n",
    "</body>"
   ]
  },
  {
   "cell_type": "markdown",
   "metadata": {
    "slideshow": {
     "slide_type": "slide"
    }
   },
   "source": [
    "<body>\n",
    "    <p>We can also perform a Two-Way ANOVA to assess whether being part of a particular Family, or the type of Relative (Father or Son) influence Heights. The two factors are:\n",
    "    </p>\n",
    "    <table>\n",
    "    <thead>\n",
    "        <tr class=\"header\">\n",
    "        <th>Factor Type</th>\n",
    "        <th>Levels</th>\n",
    "        <th>Values</th>\n",
    "        </tr>\n",
    "    </thead>\n",
    "    <tbody>\n",
    "        <tr class=\"odd\">\n",
    "        <td>Family</td>\n",
    "        <td>8</td>\n",
    "        <td>1, 2, 3, 4, 5, 6, 7, 8</td>\n",
    "        </tr>\n",
    "        <tr class=\"even\">\n",
    "        <td>Relative</td>\n",
    "        <td>2</td>\n",
    "        <td>Father, Son</td>\n",
    "        </tr>\n",
    "    </tbody>\n",
    "    </table>\n",
    "</body>"
   ]
  },
  {
   "cell_type": "code",
   "execution_count": 9,
   "metadata": {
    "slideshow": {
     "slide_type": "slide"
    }
   },
   "outputs": [
    {
     "data": {
      "text/plain": [
       "            Df Sum Sq Mean Sq F value Pr(>F)  \n",
       "family       7  112.6   16.09    3.16  0.076 .\n",
       "relative     1    4.6    4.62    0.91  0.373  \n",
       "Residuals    7   35.7    5.09                 \n",
       "---\n",
       "Signif. codes:  0 '***' 0.001 '**' 0.01 '*' 0.05 '.' 0.1 ' ' 1"
      ]
     },
     "metadata": {},
     "output_type": "display_data"
    },
    {
     "name": "stdout",
     "output_type": "stream",
     "text": [
      "   Family Height Relative\n",
      "1       1   63.2   Father\n",
      "2       2   74.1   Father\n",
      "3       3   70.6   Father\n",
      "4       4   72.3   Father\n",
      "5       5   65.8   Father\n",
      "6       6   67.3   Father\n",
      "7       7   68.9   Father\n",
      "8       8   66.7   Father\n",
      "9       1   65.7      Son\n",
      "10      2   67.0      Son\n",
      "11      3   69.5      Son\n",
      "12      4   70.5      Son\n",
      "13      5   64.4      Son\n",
      "14      6   68.3      Son\n",
      "15      7   71.4      Son\n",
      "16      8   63.5      Son\n"
     ]
    }
   ],
   "source": [
    "# Set up the data frame for the observations so that each family of father and son pairings are identified with the \n",
    "# id held in Family.\n",
    "heights.df<-data.frame(Family = c(seq(1,8,1),seq(1,8,1)),\n",
    "                       Height = c(63.2, 74.1, 70.6, 72.3, 65.8, 67.3, 68.9, 66.7,\n",
    "                                  65.7, 67.0, 69.5, 70.5, 64.4, 68.3, 71.4, 63.5),\n",
    "                       Relative=c(\"Father\",\"Father\",\"Father\",\"Father\",\"Father\",\"Father\",\"Father\",\"Father\",\n",
    "                                  \"Son\",\"Son\",\"Son\",\"Son\",\"Son\",\"Son\",\"Son\",\"Son\"))\n",
    "# Family and Relative are now factors\n",
    "family<-factor(heights.df$Family,levels=c(1,2,3,4,5,6,7,8))\n",
    "relative<-factor(heights.df$Relative, levels=c(\"Father\",\"Son\"))\n",
    "\n",
    "with (heights.df, {\n",
    "    # Call aov() to run our two-way ANOVA with family and relative as factors\n",
    "    aov3<-aov(Height~family+relative)\n",
    "    summary(aov3)\n",
    "})\n",
    "print(heights.df)"
   ]
  },
  {
   "cell_type": "code",
   "execution_count": 10,
   "metadata": {
    "slideshow": {
     "slide_type": "slide"
    }
   },
   "outputs": [
    {
     "data": {
      "image/png": "[encoded data removed]",
      "text/plain": [
       "plot without title"
      ]
     },
     "metadata": {
      "image/png": {
       "height": 420,
       "width": 420
      }
     },
     "output_type": "display_data"
    }
   ],
   "source": [
    "# Set up the data frame for the observations so that each family of father and son pairings are identified with the \n",
    "# id held in Family.\n",
    "heights.df<-data.frame(Family = c(seq(1,8,1),seq(1,8,1)),\n",
    "                       Height = c(63.2, 74.1, 70.6, 72.3, 65.8, 67.3, 68.9, 66.7,\n",
    "                                  65.7, 67.0, 69.5, 70.5, 64.4, 68.3, 71.4, 63.5),\n",
    "                       Relative=c(\"Father\",\"Father\",\"Father\",\"Father\",\"Father\",\"Father\",\"Father\",\"Father\",\n",
    "                                  \"Son\",\"Son\",\"Son\",\"Son\",\"Son\",\"Son\",\"Son\",\"Son\"))\n",
    "\n",
    "# Now plot the interaction between Relative Family and Height\n",
    "with(heights.df, {\n",
    "  interaction.plot(Relative, Family, Height)\n",
    "})"
   ]
  },
  {
   "cell_type": "markdown",
   "metadata": {
    "slideshow": {
     "slide_type": "slide"
    }
   },
   "source": [
    "<body>\n",
    "    <h3>8.5 ANOVA Example: One-Way or Two-Way?\n",
    "    </h3>\n",
    "    <p>A random sample of 10 patients receive each of 3 drugs in random order. The responses are given below. Is there a significant difference between the responses on the drugs?\n",
    "    </p>\n",
    "</body>"
   ]
  },
  {
   "cell_type": "markdown",
   "metadata": {
    "slideshow": {
     "slide_type": "slide"
    }
   },
   "source": [
    "<body>\n",
    "    <table>\n",
    "    <thead>\n",
    "        <tr class=\"header\">\n",
    "        <th>Subject</th>\n",
    "        <th>Drug1</th>\n",
    "        <th>Drug2</th>\n",
    "        <th>Drug3</th>\n",
    "        </tr>\n",
    "    </thead>\n",
    "    <tbody>\n",
    "        <tr class=\"odd\">\n",
    "        <td>1</td>\n",
    "        <td>12</td>\n",
    "        <td>13</td>\n",
    "        <td>12</td>\n",
    "        </tr>\n",
    "        <tr class=\"even\">\n",
    "        <td>2</td>\n",
    "        <td>12</td>\n",
    "        <td>13</td>\n",
    "        <td>11</td>\n",
    "        </tr>\n",
    "        <tr class=\"odd\">\n",
    "        <td>3</td>\n",
    "        <td>12</td>\n",
    "        <td>14</td>\n",
    "        <td>13</td>\n",
    "        </tr>\n",
    "        <tr class=\"even\">\n",
    "        <td>4</td>\n",
    "        <td>13</td>\n",
    "        <td>12</td>\n",
    "        <td>11</td>\n",
    "        </tr>\n",
    "        <tr class=\"odd\">\n",
    "        <td>5</td>\n",
    "        <td>13</td>\n",
    "        <td>14</td>\n",
    "        <td>12</td>\n",
    "        </tr>\n",
    "        <tr class=\"even\">\n",
    "        <td>6</td>\n",
    "        <td>14</td>\n",
    "        <td>13</td>\n",
    "        <td>14</td>\n",
    "        </tr>\n",
    "        <tr class=\"odd\">\n",
    "        <td>7</td>\n",
    "        <td>13</td>\n",
    "        <td>14</td>\n",
    "        <td>12</td>\n",
    "        </tr>\n",
    "        <tr class=\"even\">\n",
    "        <td>8</td>\n",
    "        <td>14</td>\n",
    "        <td>15</td>\n",
    "        <td>12</td>\n",
    "        </tr>\n",
    "        <tr class=\"odd\">\n",
    "        <td>9</td>\n",
    "        <td>13</td>\n",
    "        <td>13</td>\n",
    "        <td>14</td>\n",
    "        </tr>\n",
    "        <tr class=\"even\">\n",
    "        <td>10</td>\n",
    "        <td>14</td>\n",
    "        <td>15</td>\n",
    "        <td>14</td>\n",
    "        </tr>\n",
    "    </tbody>\n",
    "    </table>\n",
    "    <p>Let us first look at the analysis given by One-Way ANOVA. Why is this wrong?\n",
    "    </p>\n",
    "</body>"
   ]
  },
  {
   "cell_type": "code",
   "execution_count": 11,
   "metadata": {
    "slideshow": {
     "slide_type": "slide"
    }
   },
   "outputs": [
    {
     "data": {
      "text/plain": [
       "            Df Sum Sq Mean Sq F value Pr(>F)  \n",
       "drug         2   6.07   3.033    3.04  0.064 .\n",
       "Residuals   27  26.90   0.996                 \n",
       "---\n",
       "Signif. codes:  0 '***' 0.001 '**' 0.01 '*' 0.05 '.' 0.1 ' ' 1"
      ]
     },
     "metadata": {},
     "output_type": "display_data"
    }
   ],
   "source": [
    "# Set up the response data frame for the three drugs. Note that observations are for the same subject taking\n",
    "# three different drugs so Subject ids run from 1 to 10\n",
    "resp.df<-data.frame(Subject = c(seq(1,10,1),seq(1,10,1),seq(1,10,1)),\n",
    "                    Resp = c(12,12,12,13,13,14,13,14,13,14,\n",
    "                             13,13,14,12,14,13,14,15,13,15,\n",
    "                             12,11,13,11,12,14,12,12,14,14),\n",
    "                    Drug = c(\"Drug1\",\"Drug1\",\"Drug1\",\"Drug1\",\"Drug1\",\"Drug1\",\"Drug1\",\"Drug1\",\"Drug1\",\"Drug1\",\n",
    "                             \"Drug2\",\"Drug2\",\"Drug2\",\"Drug2\",\"Drug2\",\"Drug2\",\"Drug2\",\"Drug2\",\"Drug2\",\"Drug2\",\n",
    "                             \"Drug3\",\"Drug3\",\"Drug3\",\"Drug3\",\"Drug3\",\"Drug3\",\"Drug3\",\"Drug3\",\"Drug3\",\"Drug3\"))\n",
    "\n",
    "# options() controls the precision level of the output\n",
    "options(digits=3)\n",
    "# use the with() construct to make this look \n",
    "with(resp.df, {\n",
    "     # set up the factor levels for Drug\n",
    "    drug<-factor(Drug)\n",
    "    # call one-way ANOVA with drug as the factor\n",
    "    aov1<-aov(Resp~drug)\n",
    "    summary(aov1)\n",
    "})"
   ]
  },
  {
   "cell_type": "markdown",
   "metadata": {
    "slideshow": {
     "slide_type": "slide"
    }
   },
   "source": [
    "<body>\n",
    "    <p>Why was this analysis incorrect? Because the samples are related. Therefore we cannot use one-way ANOVA.\n",
    "    </p>\n",
    "</body>"
   ]
  },
  {
   "cell_type": "markdown",
   "metadata": {
    "slideshow": {
     "slide_type": "slide"
    }
   },
   "source": [
    "<body>\n",
    "    <p>The incorrect analysis suggests that there is not a significant differences in responses to the drugs (the p-value is $\\gt 0.05$).\n",
    "    </p>\n",
    "    <p>Instead, because the samples are related we use a Two-Way ANOVA to examine the relationship between response and both subject and drug.\n",
    "    </p>\n",
    "</body>"
   ]
  },
  {
   "cell_type": "code",
   "execution_count": 12,
   "metadata": {
    "slideshow": {
     "slide_type": "slide"
    }
   },
   "outputs": [
    {
     "data": {
      "text/plain": [
       "            Df Sum Sq Mean Sq F value Pr(>F)  \n",
       "patient      9  15.63   1.737    2.78  0.031 *\n",
       "drug         2   6.07   3.033    4.85  0.021 *\n",
       "Residuals   18  11.27   0.626                 \n",
       "---\n",
       "Signif. codes:  0 '***' 0.001 '**' 0.01 '*' 0.05 '.' 0.1 ' ' 1"
      ]
     },
     "metadata": {},
     "output_type": "display_data"
    }
   ],
   "source": [
    "# Set up the response data frame for the three drugs. Note that observations are for the same subject taking\n",
    "# three different drugs so Subject ids run from 1 to 10\n",
    "resp.df<-data.frame(Subject = c(seq(1,10,1),seq(1,10,1),seq(1,10,1)),\n",
    "                    Resp = c(12,12,12,13,13,14,13,14,13,14,\n",
    "                             13,13,14,12,14,13,14,15,13,15,\n",
    "                             12,11,13,11,12,14,12,12,14,14),\n",
    "                    Drug = c(\"Drug1\",\"Drug1\",\"Drug1\",\"Drug1\",\"Drug1\",\"Drug1\",\"Drug1\",\"Drug1\",\"Drug1\",\"Drug1\",\n",
    "                             \"Drug2\",\"Drug2\",\"Drug2\",\"Drug2\",\"Drug2\",\"Drug2\",\"Drug2\",\"Drug2\",\"Drug2\",\"Drug2\",\n",
    "                             \"Drug3\",\"Drug3\",\"Drug3\",\"Drug3\",\"Drug3\",\"Drug3\",\"Drug3\",\"Drug3\",\"Drug3\",\"Drug3\"))\n",
    "\n",
    "options(digits=4)\n",
    "with(resp.df, {\n",
    "     # set up the factor levels for Drug and Subject\n",
    "    drug<-factor(Drug)\n",
    "    patient<-factor(Subject)\n",
    "    # and perfom two-way ANOVA\n",
    "    aov4<-aov(Resp ~ patient+drug)\n",
    "    summary(aov4)\n",
    "})"
   ]
  },
  {
   "cell_type": "code",
   "execution_count": 13,
   "metadata": {
    "slideshow": {
     "slide_type": "slide"
    }
   },
   "outputs": [
    {
     "data": {
      "image/png": "[encoded data removed]",
      "text/plain": [
       "plot without title"
      ]
     },
     "metadata": {
      "image/png": {
       "height": 420,
       "width": 420
      }
     },
     "output_type": "display_data"
    }
   ],
   "source": [
    "# Set up the response data frame for the three drugs. Note that observations are for the same subject taking\n",
    "# three different drugs so Subject ids run from 1 to 10\n",
    "resp.df<-data.frame(Subject = c(seq(1,10,1),seq(1,10,1),seq(1,10,1)),\n",
    "                    Resp = c(12,12,12,13,13,14,13,14,13,14,\n",
    "                             13,13,14,12,14,13,14,15,13,15,\n",
    "                             12,11,13,11,12,14,12,12,14,14),\n",
    "                    Drug = c(\"Drug1\",\"Drug1\",\"Drug1\",\"Drug1\",\"Drug1\",\"Drug1\",\"Drug1\",\"Drug1\",\"Drug1\",\"Drug1\",\n",
    "                             \"Drug2\",\"Drug2\",\"Drug2\",\"Drug2\",\"Drug2\",\"Drug2\",\"Drug2\",\"Drug2\",\"Drug2\",\"Drug2\",\n",
    "                             \"Drug3\",\"Drug3\",\"Drug3\",\"Drug3\",\"Drug3\",\"Drug3\",\"Drug3\",\"Drug3\",\"Drug3\",\"Drug3\"))\n",
    "\n",
    "  \n",
    "with(resp.df, {\n",
    "  # and confirm our findings with an interaction plot\n",
    "  interaction.plot(Drug,Subject,Resp)\n",
    "})"
   ]
  },
  {
   "cell_type": "markdown",
   "metadata": {
    "slideshow": {
     "slide_type": "slide"
    }
   },
   "source": [
    "Now with the correct analysis, we can see in the ANOVA table that there is a significant difference between responses to the drugs at the 5% significance level (p-value is 0.02071)."
   ]
  }
 ],
 "metadata": {
  "celltoolbar": "Slideshow",
  "kernelspec": {
   "display_name": "R",
   "language": "R",
   "name": "ir"
  },
  "language_info": {
   "codemirror_mode": "r",
   "file_extension": ".r",
   "mimetype": "text/x-r-source",
   "name": "R",
   "pygments_lexer": "r",
   "version": "4.1.1"
  }
 },
 "nbformat": 4,
 "nbformat_minor": 4
}
