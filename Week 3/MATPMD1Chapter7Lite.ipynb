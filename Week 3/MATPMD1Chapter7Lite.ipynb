{
 "cells": [
  {
   "cell_type": "markdown",
   "metadata": {
    "slideshow": {
     "slide_type": "slide"
    }
   },
   "source": [
    "<head>\n",
    "    <h2>University of Stirling</h2>\n",
    "    <h2>Computing Science and Mathematics</h2>\n",
    "    <h2>MATPMD1 Statistics for Data Science</h2>\n",
    "    <h1>Chapter 7 Categorical Data Tests\n",
    "    </h1>\n",
    "</head>"
   ]
  },
  {
   "cell_type": "markdown",
   "metadata": {
    "slideshow": {
     "slide_type": "slide"
    }
   },
   "source": [
    "<body>\n",
    "    <h2>7.1 Using the ${\\mathcal{X}}^2$ test with Categorical Data\n",
    "    </h2>\n",
    "    <p>One of the most common applications of the ${\\mathcal{X}}^2$ test (chi-squared test) is in the analysis of so-called contingency tables. This is best illustrated with an example.\n",
    "    </p>\n",
    "    <p>In a clinical trial to assess the value of a new method of treatment (A) in comparison with the old method (B), patients were divided at random into two groups. Of 257 patients treated by method A, 41 died; of 244 patients treated by method B, 64 died.\n",
    "    </p>"
   ]
  },
  {
   "cell_type": "markdown",
   "metadata": {
    "slideshow": {
     "slide_type": "slide"
    }
   },
   "source": [
    "<body>\n",
    "    <p>The data are displayed in the table below:\n",
    "    </p>\n",
    "    <table>\n",
    "    <thead>\n",
    "      <tr>\n",
    "        <th>Treatment</th>\n",
    "        <th>Death</th>\n",
    "        <th>Survival</th>\n",
    "        <th>Total</th>\n",
    "      </tr>\n",
    "    </thead>\n",
    "    <tbody>\n",
    "      <tr>\n",
    "          <td>A</td>\n",
    "          <td>41</td>\n",
    "          <td>216</td>\n",
    "          <td>257</td>\n",
    "      </tr>\n",
    "      <tr>\n",
    "          <td>B</td>\n",
    "          <td>64</td>\n",
    "          <td>180</td>\n",
    "          <td>244</td>\n",
    "      </tr>\n",
    "      <tr>\n",
    "          <td>Total</td>\n",
    "          <td>105</td>\n",
    "          <td>396</td>\n",
    "          <td>501</td>\n",
    "      </tr>\n",
    "    </tbody>\n",
    "    </table>\n",
    "    <p>This is often called a <strong>fourfold table</strong> or <strong>2x2 contingency table</strong>."
   ]
  },
  {
   "cell_type": "markdown",
   "metadata": {
    "slideshow": {
     "slide_type": "slide"
    }
   },
   "source": [
    "<body>\n",
    "    <p>The total frequency, 501 in this example, is shown at the bottom right of the table. \n",
    "    </p>\n",
    "    <p>This total frequency or grand total is split into two different dichotomies represented by the two horizontal rows of the table and the two vertical columns. \n",
    "    </p>\n",
    "</body>"
   ]
  },
  {
   "cell_type": "markdown",
   "metadata": {
    "slideshow": {
     "slide_type": "slide"
    }
   },
   "source": [
    "<body>\n",
    "    <p>In this example, the rows represent the two treatments and the columns represent the two outcomes of treatment.\n",
    "    </p>\n",
    "    <p>Therefore there are 2x2 = 4 combinations of the row and column categories, and the corresponding frequencies occupy the four inner cells in the body of the table. \n",
    "    </p>\n",
    "    <p>The total frequencies for the two row categories and those for the two column categories are shown at the right and at the foot, and are called the marginal totals.\n",
    "</body>"
   ]
  },
  {
   "cell_type": "code",
   "execution_count": 33,
   "metadata": {
    "slideshow": {
     "slide_type": "notes"
    }
   },
   "outputs": [
    {
     "data": {
      "text/plain": [
       "       \n",
       "        Death Survival Total\n",
       "  A        41      216   257\n",
       "  B        64      180   244\n",
       "  Total   105      396   501"
      ]
     },
     "metadata": {},
     "output_type": "display_data"
    }
   ],
   "source": [
    "# build up trial table\n",
    "trial<-table(c(\"A\",\"B\",\"Total\"),c(\"Death\",\"Survival\",\"Total\"))\n",
    "trial['A',] <- c(41,216,257)\n",
    "trial['B',] <- c(64,180,244)\n",
    "trial['Total',] <- c(105,396,501)\n",
    "\n",
    "trial"
   ]
  },
  {
   "cell_type": "code",
   "execution_count": 34,
   "metadata": {
    "slideshow": {
     "slide_type": "slide"
    }
   },
   "outputs": [
    {
     "data": {
      "image/png": "[encoded data removed]",
      "text/plain": [
       "Plot with title \"Death/Survival Frequencies for A & B\""
      ]
     },
     "metadata": {},
     "output_type": "display_data"
    }
   ],
   "source": [
    "# build up trial matrix\n",
    "trial<-matrix(c(41,216,257,64,180,244,105,396,501),nrow=3,ncol=3,byrow=TRUE)\n",
    "dimnames(trial) = list(c(\"A\",\"B\",\"Total\"),         # row names \n",
    "                    c(\"Death\",\"Survival\",\"Total\")) # col names\n",
    "\n",
    "# plot the frequencies\n",
    "barplot (rbind(trial[1:2,'Death'],trial[1:2,'Survival']), beside=TRUE,\n",
    "         names.arg=c(\"A\",\"B\"), legend.text=c(\"Death\",\"Survival\"),ylim=c(0,250),\n",
    "         xlab=\"Treatment\", ylab=\"Frequency\", main=\"Death/Survival Frequencies for A & B\")\n",
    "\n",
    "box(lty=\"solid\")"
   ]
  },
  {
   "cell_type": "markdown",
   "metadata": {
    "slideshow": {
     "slide_type": "slide"
    }
   },
   "source": [
    "<body>\n",
    "    <h3>7.1.1 ${\\mathcal{X}}^2$ test Hypotheses\n",
    "    </h3>\n",
    "    <p>The Hypotheses we are going to test are:\n",
    "    </p>\n",
    "    <ul class=\"nobull\">\n",
    "        <li>$H_0 : $ Variables are not associated (they are independent so have equal proportions per category)\n",
    "        </li>\n",
    "        <li>$H_1 : $ Variables are related (they have unequal proportions between categories)\n",
    "    </ul>\n",
    "</body>"
   ]
  },
  {
   "cell_type": "markdown",
   "metadata": {
    "slideshow": {
     "slide_type": "slide"
    }
   },
   "source": [
    "<body>\n",
    "    <h3>7.1.2 Expected Frequency\n",
    "    </h3>\n",
    "    <p>In our treatment example we are concerned with possible differences between the fatality rates for the two treatments. \n",
    "    </p>\n",
    "    <p>Given the marginal totals in the table we can calculate what numbers would have had to be observed in the body of the table to make the fatality rates for A and B equal.\n",
    "    </p>\n",
    "</body>"
   ]
  },
  {
   "cell_type": "markdown",
   "metadata": {
    "slideshow": {
     "slide_type": "slide"
    }
   },
   "source": [
    "<body>\n",
    "    <p>So, for example, the number of deaths for treatment A is expected to be:\n",
    "    </p>\n",
    "    <p>$$\\dfrac{105 \\times 257}{501} = 53.862$$\n",
    "    </p>\n",
    "    <p>since the overall fatality rate is 105/501 and there are 257 individuals with Treatment A. \n",
    "    </p>\n",
    "    <p>Similary for Treatment B the expected number of deaths is $\\frac{105 \\times 244}{501}$.\n",
    "    </p>\n",
    "</body>"
   ]
  },
  {
   "cell_type": "markdown",
   "metadata": {
    "slideshow": {
     "slide_type": "slide"
    }
   },
   "source": [
    "<body>\n",
    "    <p>The equation for expected frequency is:\n",
    "    </p>\n",
    "    <p>$$\\begin{equation}\\mathrm{Expected~Frequency} = \\dfrac{\\mathrm{Column~Total}\\times\\mathrm{Row~Total}}{\\mathrm{Overall~Total}} \\label{eq:71} \\tag{7.1}\\end{equation}$$\n",
    "    </p>\n",
    "</body>"
   ]
  },
  {
   "cell_type": "markdown",
   "metadata": {
    "slideshow": {
     "slide_type": "slide"
    }
   },
   "source": [
    "<body>\n",
    "    <p>Expected frequencies can be obtained for each of the four inner cells, and are shown in the tables below, where the observed and expected number are distinguished by the letters O and E. \n",
    "    </p>\n",
    "    <div style=\"float: left; margin-right: 20px;\">\n",
    "      <table>\n",
    "         <caption style=\"text-align:center\"><strong>Observed Frequencies (O)</strong></caption>\n",
    "        <thead>\n",
    "          <tr>\n",
    "            <th>Treatment</th>\n",
    "            <th>Death</th>\n",
    "            <th>Survival</th>\n",
    "            <th>Total</th>\n",
    "          </tr>\n",
    "        </thead>\n",
    "        <tbody>\n",
    "          <tr>\n",
    "              <td>A</td>\n",
    "              <td>41</td>\n",
    "              <td>216</td>\n",
    "              <td>257</td>\n",
    "          </tr>\n",
    "          <tr>\n",
    "              <td>B</td>\n",
    "              <td>64</td>\n",
    "              <td>180</td>\n",
    "              <td>244</td>\n",
    "          </tr>\n",
    "          <tr>\n",
    "              <td>Total</td>\n",
    "              <td>105</td>\n",
    "              <td>396</td>\n",
    "              <td>501</td>\n",
    "          </tr>\n",
    "        </tbody>\n",
    "      </table>\n",
    "    </div>\n",
    "    <div style=\"float: left\">\n",
    "      <table>\n",
    "        <caption style=\"text-align:center\"><strong>Expected Frequencies (E)</strong></caption>\n",
    "        <thead>\n",
    "          <tr>\n",
    "            <th>Treatment</th>\n",
    "            <th>Death</th>\n",
    "            <th>Survival</th>\n",
    "            <th>Total</th>\n",
    "          </tr>\n",
    "        </thead>\n",
    "        <tbody>\n",
    "          <tr>\n",
    "              <td>A</td>\n",
    "              <td>53.862</td>\n",
    "              <td>203.138</td>\n",
    "              <td>257</td>\n",
    "          </tr>\n",
    "          <tr>\n",
    "              <td>B</td>\n",
    "              <td>51.138</td>\n",
    "              <td>192.862</td>\n",
    "              <td>244</td>\n",
    "          </tr>\n",
    "          <tr>\n",
    "              <td>Total</td>\n",
    "              <td>105</td>\n",
    "              <td>396</td>\n",
    "              <td>501</td>\n",
    "          </tr>\n",
    "        </tbody>\n",
    "      </table>\n",
    "    </div>\n",
    "</body>"
   ]
  },
  {
   "cell_type": "markdown",
   "metadata": {
    "slideshow": {
     "slide_type": "slide"
    }
   },
   "source": [
    "<body>\n",
    "    <p>The expected numbers are not integers and have been rounded off to three decimal places. Clearly one could not observe 53.862 individuals in a particular cell. These expected numbers should be thought of as expectations or mean values over a large number of possible values with the same marginal totals as those observed, when the null hypothesis is true.\n",
    "    </p>\n",
    "    <p>Note that the values of E sum, over both rows and columns, to the observed marginal totals. It follows that the discrepancies, measured by the differences O-E, add to zero along the rows and columns; in other words, the four discrepancies have the same magnitude (12.862 in this\n",
    "example), two being positive and two being negative.\n",
    "    </p>\n",
    "</body>"
   ]
  },
  {
   "cell_type": "markdown",
   "metadata": {
    "slideshow": {
     "slide_type": "slide"
    }
   },
   "source": [
    "<body>\n",
    "    <h3>7.1.3 ${\\mathcal{X}}^2$ Test Statistic\n",
    "    </h3>\n",
    "    <p>In a rough sense, the greater the discrepancies between Observed and Expected, the more evidence we have against the null hypothesis, Therefore, it would seem reasonable to base a significance test on these discrepancies. It also seems reasonable to take account of the absolute size of frequencies: a discrepancy of 5 is much more important if E=5 than if E=100.\n",
    "    </p>\n",
    "    <p>It turns out to be appropriate to calculate the following index (the Test Statistic):\n",
    "    </p>\n",
    "</body>"
   ]
  },
  {
   "cell_type": "markdown",
   "metadata": {
    "slideshow": {
     "slide_type": "slide"
    }
   },
   "source": [
    "<body>\n",
    "    <p>$$\\begin{equation}\\mathrm{X}^2 = \\sum{\\dfrac{(O-E)^2}{E}} \\quad \\sim \\large{\\mathcal{X}}^2((r-1)(c-1)) \\label{eq:72} \\tag{7.2}\\end{equation}$$\n",
    "    </p>\n",
    "    <p>the summation being over the four inner cells of the table. The contributions to $\\mathrm{X}^2$ from the four cells are shown in the previous table. \n",
    "    </p>\n",
    "</body>"
   ]
  },
  {
   "cell_type": "markdown",
   "metadata": {
    "slideshow": {
     "slide_type": "slide"
    }
   },
   "source": [
    "<body>\n",
    "    <p>In our example the total (Observed Test Statistic) is\n",
    "    </p>\n",
    "    <p>$$\\begin{align}\\mathrm{X}^2 &= \\dfrac{(41-53.862)^2}{53.862} + \\dfrac{(216-203.138)^2}{203.138} \\\\\n",
    "                                      & \\quad + \\dfrac{(64-51.138)^2}{53.138} + \\dfrac{(180-192.862)^2}{192.862} \\\\ \n",
    "                                   &= 3.071 + 0.814 + 3.235 + 0.858 \\\\\n",
    "                                   &= 7.798 \\end{align}$$\n",
    "    </p>\n",
    "</body>"
   ]
  },
  {
   "cell_type": "markdown",
   "metadata": {
    "slideshow": {
     "slide_type": "slide"
    }
   },
   "source": [
    "<body>\n",
    "    <h3>7.1.4 $\\mathcal{X}^2$ Test Statistic degrees of freedom\n",
    "    </h3>\n",
    "    <p>We now need to consider the number of degrees of freedom in the contingency table. \n",
    "    </p>\n",
    "    <p>The number of degrees of freedom is the number of cells in the contingency table that, given the marginal totals, can be set independently. \n",
    "    </p>\n",
    "</body>\n",
    "<body>"
   ]
  },
  {
   "cell_type": "markdown",
   "metadata": {
    "slideshow": {
     "slide_type": "slide"
    }
   },
   "source": [
    "<body>\n",
    "    <p>So, for example, in a 2x2 contingency table, only one cell is independent, therefore we have only one degree of freedom. \n",
    "    </p>\n",
    "    <p>In general, in a contingency table with $r$ rows and $c$ columns, there are: \n",
    "    </p>\n",
    "    <p>$\\quad (r-1) \\times (c-1)$ degrees of freedom.\n",
    "    </p>\n",
    "</body>"
   ]
  },
  {
   "cell_type": "markdown",
   "metadata": {
    "slideshow": {
     "slide_type": "slide"
    }
   },
   "source": [
    "<body>\n",
    "    <h3>7.1.5 Applying the $\\mathcal{X}^2$ Test\n",
    "    </h3>\n",
    "    <p>Returning now to our example with a 2x2 table we see that, on the null hypothesis, $\\mathrm{X}^2$ follows the $\\mathcal{X}^2(1)$ distribution, the approximation improving as the expected numbers get larger. \n",
    "    </p>\n",
    "    <p>Reference to the $\\mathcal{X}^2$ table shows that the observed value of 7.978 is beyond the 0.01 point of the $\\mathcal{X}^2(1)$ distribution, and the difference between the two fatality rates is therefore significant at the 1 per cent level.\n",
    "    </p>\n",
    "</body>"
   ]
  },
  {
   "cell_type": "code",
   "execution_count": 35,
   "metadata": {
    "slideshow": {
     "slide_type": "slide"
    }
   },
   "outputs": [
    {
     "data": {
      "image/png": "[encoded data removed]",
      "text/plain": [
       "Plot with title \"Chi-squared distribution df=1\""
      ]
     },
     "metadata": {},
     "output_type": "display_data"
    }
   ],
   "source": [
    "# plot the chi-squared distribution and observed statistic\n",
    "x<-seq(0,9,0.01)\n",
    "chisqdens <- dchisq(x,1)\n",
    "pvalx = 7.798\n",
    "pval= pvalx*100+1\n",
    "plot(x,chisqdens,type=\"l\",ylab=\"Density\",main=\"Chi-squared distribution df=1\",xlab=\"\",xaxt=\"n\")\n",
    "axis(1,at=c(0,2,4,6,pvalx),labels=c(0,2,4,6,pvalx))\n",
    "text(x[pval]-2,chisqdens[pval]+1,labels=\"P(Greater than 7.798) = 0.00523\")"
   ]
  },
  {
   "cell_type": "markdown",
   "metadata": {
    "slideshow": {
     "slide_type": "slide"
    }
   },
   "source": [
    "<body>\n",
    "    <p>The Rejection Region at the 5% significance level is calculated as\n",
    "    </p>\n",
    "    <p>$$P({\\mathcal{X}}^2(1) \\gt c ) = 0.05$$\n",
    "    </p>\n",
    "    <p>and for the ${\\mathcal{X}}^2(1)$ distribution we find $c=3.84$. So, the rejection region for our test at the 5% significance level is,\n",
    "    </p>\n",
    "    <p>$$P({\\mathcal{X}}^2(1) \\gt 3.84 )$$\n",
    "    </p>\n",
    "</body>"
   ]
  },
  {
   "cell_type": "code",
   "execution_count": 36,
   "metadata": {
    "slideshow": {
     "slide_type": "slide"
    }
   },
   "outputs": [
    {
     "data": {
      "image/png": "[encoded data removed]",
      "text/plain": [
       "Plot with title \"Chi-squared distribution df=1\""
      ]
     },
     "metadata": {},
     "output_type": "display_data"
    }
   ],
   "source": [
    "# plot the chi-squared distribution\n",
    "x<-seq(0,9,0.01)\n",
    "chisqdens <- dchisq(x,1)\n",
    "\n",
    "# and the rejection region\n",
    "rejx = 3.84\n",
    "rej= rejx*100+1\n",
    "pvalx = 7.798\n",
    "pval= pvalx*100+1\n",
    "plot(x,chisqdens,type=\"l\",ylab=\"Density\",main=\"Chi-squared distribution df=1\",xlab=\"\",xaxt=\"n\")\n",
    "polygon(c(x[rej:length(x)],x[length(x)],x[rej]),c(chisqdens[rej:length(x)],0,0),col=\"gray\")\n",
    "axis(1,at=c(0,2,rejx,4,6,pvalx),labels=c(0,2,rejx,4,6,pvalx))\n",
    "arrows(x[rej]+1,chisqdens[rej]+0.2,x[rej]+0.5,chisqdens[rej])\n",
    "text(x[rej]+1,chisqdens[rej]+0.25,labels=\"Rejection region 5% sig level\")"
   ]
  },
  {
   "cell_type": "markdown",
   "metadata": {
    "slideshow": {
     "slide_type": "slide"
    }
   },
   "source": [
    "<body>\n",
    "    <p>Therefore for example the conclusion drawn from our Hytpothesis test (Section 8.1.1) is that we reject $H_0$ in favour of $H_1$ at the 5% significance level as the Observed Statistic $\\mathrm{X}^2$ is greater than 3.84.\n",
    "    </p>\n",
    "</body>"
   ]
  },
  {
   "cell_type": "markdown",
   "metadata": {
    "slideshow": {
     "slide_type": "slide"
    }
   },
   "source": [
    "<body>\n",
    "    <h3>7.1.6 $\\mathcal{X}^2$ Test Important Points\n",
    "    </h3>\n",
    "    <p>It is important to remember that the $\\mathrm{X}^2$ index can only be calculated from a 2x2 table in which the entries are frequencies. A common error is to use it for a table in which the entries are mean values of a certain variable. This practice is completely erroneous.\n",
    "    </p>\n",
    "</body>"
   ]
  },
  {
   "cell_type": "markdown",
   "metadata": {
    "slideshow": {
     "slide_type": "slide"
    }
   },
   "source": [
    "<body>\n",
    "    <p>The method can be easily generalised to a contingency table with any number of rows and columns. However, the assumption that $\\mathrm{X}^2$ approximates to ${\\mathcal{X}}^2$ is not valid if the cell frequencies are too small. A useful rule is as follows:\n",
    "    </p>\n",
    "    <ul class=\"nobull\">\n",
    "        <li>If df = 1, then no cell can have an expected frequency of less than 5.\n",
    "        </li><br>\n",
    "        <li>If df $\\gt$ 1, then no more than 20% of the cells can have an expected frequency of less than 5, and no cell an expected frequency of less than 1.\n",
    "        </li>\n",
    "    </ul>\n",
    "</body>"
   ]
  },
  {
   "cell_type": "markdown",
   "metadata": {
    "slideshow": {
     "slide_type": "slide"
    }
   },
   "source": [
    "<body>\n",
    "    <h3>7.1.7 $\\mathcal{X}^2$ Test Example\n",
    "    </h3>\n",
    "    <p>In a survey concerned with changes in working procedures the following table was produced:\n",
    "    <table>\n",
    "        <caption style=\"text-align:center\"><strong>Opinion on changes in working procedures</strong></caption>\n",
    "        <thead>\n",
    "          <tr>\n",
    "            <th></th>\n",
    "            <th>In favour</th>\n",
    "            <th>Opposed</th>\n",
    "            <th>Undecided</th>\n",
    "          </tr>\n",
    "        </thead>\n",
    "        <tbody>\n",
    "          <tr>\n",
    "              <td>Skilled Workers</td>\n",
    "              <td>19</td>\n",
    "              <td>31</td>\n",
    "              <td>35</td>\n",
    "          </tr>\n",
    "          <tr>\n",
    "              <td>Unskilled Workers</td>\n",
    "              <td>55</td>\n",
    "              <td>20</td>\n",
    "              <td>15</td>\n",
    "          </tr>\n",
    "        </tbody>\n",
    "    </table>\n",
    "</body>"
   ]
  },
  {
   "cell_type": "markdown",
   "metadata": {
    "slideshow": {
     "slide_type": "slide"
    }
   },
   "source": [
    "<body>\n",
    "    <ol class=\"a\">\n",
    "        <li>Calculate the proportions of each Opinion group that are Skilled Workers.<br>\n",
    "            Does this suggest a relationship between opinion and type of worker?\n",
    "        </li>\n",
    "        <li>Test the hypotheses that the opinion on working procedures is independent of whether workers are classified as skilled or unskilled.\n",
    "        </li>\n",
    "    </ol>\n",
    "</body>"
   ]
  },
  {
   "cell_type": "code",
   "execution_count": 1,
   "metadata": {
    "slideshow": {
     "slide_type": "slide"
    }
   },
   "outputs": [
    {
     "data": {
      "image/png": "[encoded data removed]",
      "text/plain": [
       "Plot with title \"Types of Worker and Their Opinions\""
      ]
     },
     "metadata": {},
     "output_type": "display_data"
    }
   ],
   "source": [
    "# build up table of workers and opinions\n",
    "\n",
    "\n",
    "opinions<-matrix(0,nrow=3,ncol=4,byrow=TRUE)\n",
    "dimnames(opinions) <- list(c(\"Skilled\",\"Unskilled\",\"Total\"),      # row names \n",
    "                           c(\"For\",\"Against\",\"Undecided\",\"Total\")) # col names\n",
    "opinions['Skilled',] <- c(19,31,35,0)\n",
    "opinions['Unskilled',] <- c(55,20,15,0)\n",
    "opinions['Total',] <- c(sum(opinions[1:2,'For']),\n",
    "                        sum(opinions[1:2,'Against']),\n",
    "                        sum(opinions[1:2,'Undecided']),\n",
    "                        0)\n",
    "opinions['Skilled','Total'] <- c(sum(opinions['Skilled',1:3]))\n",
    "opinions['Unskilled','Total'] <- c(sum(opinions['Unskilled',1:3]))\n",
    "opinions['Total','Total'] <- c(sum(opinions['Total',1:3]))\n",
    "\n",
    "# plot frequency of opinions for each group\n",
    "barplot (rbind(opinions['Skilled',1:3],opinions['Unskilled',1:3]), beside=TRUE,\n",
    "         names.arg=c(\"In Favour\",\"Opposed\",\"Undecided\"), legend.text=c(\"Skilled\",\"Unskilled\"),ylim=c(0,60),\n",
    "         xlab=\"\", ylab=\"Frequency\", main=\"Types of Worker and Their Opinions\")"
   ]
  },
  {
   "cell_type": "code",
   "execution_count": 5,
   "metadata": {
    "slideshow": {
     "slide_type": "slide"
    }
   },
   "outputs": [
    {
     "data": {
      "image/png": "[encoded data removed]",
      "text/plain": [
       "Plot with title \"Types of Worker and Their Opinions\""
      ]
     },
     "metadata": {},
     "output_type": "display_data"
    }
   ],
   "source": [
    "# build up table of workers and opinions\n",
    "\n",
    "opinions<-matrix(0,nrow=3,ncol=4,byrow=TRUE)\n",
    "dimnames(opinions) <- list(c(\"Skilled\",\"Unskilled\",\"Total\"),      # row names \n",
    "                           c(\"For\",\"Against\",\"Undecided\",\"Total\")) # col names\n",
    "opinions['Skilled',] <- c(19,31,35,0)\n",
    "opinions['Unskilled',] <- c(55,20,15,0)\n",
    "opinions['Total',] <- c(sum(opinions[1:2,'For']),\n",
    "                        sum(opinions[1:2,'Against']),\n",
    "                        sum(opinions[1:2,'Undecided']),\n",
    "                        0)\n",
    "opinions['Skilled','Total'] <- c(sum(opinions['Skilled',1:3]))\n",
    "opinions['Unskilled','Total'] <- c(sum(opinions['Unskilled',1:3]))\n",
    "opinions['Total','Total'] <- c(sum(opinions['Total',1:3]))\n",
    "\n",
    "# plot percentage within each group with particular opinion\n",
    "barplot (rbind(100*opinions['Skilled',1:3]/opinions['Total',1:3],100*opinions['Unskilled',1:3]/opinions['Total',1:3]), beside=TRUE,\n",
    "         names.arg=c(\"In Favour\",\"Opposed\",\"Undecided\"), legend.text=c(\"Skilled\",\"Unskilled\"),ylim=c(0,100),\n",
    "         xlab=\"\", ylab=\"Percentage in Opinion Group\", main=\"Types of Worker and Their Opinions\")"
   ]
  },
  {
   "cell_type": "markdown",
   "metadata": {
    "slideshow": {
     "slide_type": "slide"
    }
   },
   "source": [
    "<body>\n",
    "    <h3>7.1.8 $\\mathcal{X}^2$ Improvements\n",
    "    </h3>\n",
    "    <p>In general, two methods of improvement to the $\\mathcal{X}^2$ test are widely used: the application of a continuity correction and the calculation of exact probabilities.\n",
    "    </p>\n",
    "</body>"
   ]
  },
  {
   "cell_type": "markdown",
   "metadata": {
    "slideshow": {
     "slide_type": "slide"
    }
   },
   "source": [
    "<body>\n",
    "    <h3>7.1.9 Continuity Correction for Fourfold Tables\n",
    "    </h3>\n",
    "    <p>This method was described by F Yates and is often called the Yates\n",
    "Correction. If the number of degrees of freedom is 1, a small correction\n",
    "factor is applied to account for the fact that the distribution is continuous, whereas the observed frequencies are discrete.\n",
    "    </p>\n",
    "</body>"
   ]
  },
  {
   "cell_type": "markdown",
   "metadata": {
    "slideshow": {
     "slide_type": "slide"
    }
   },
   "source": [
    "<body>\n",
    "    <p>Thus, for df=1, $\\mathrm{X}^2$ is calculated from\n",
    "    </p>\n",
    "    <p>$$\\mathrm{X}^2_{Yates} = \\sum{\\dfrac{(|O-E|-0.5)^2}{E}}$$\n",
    "    </p>\n",
    "</body>"
   ]
  },
  {
   "cell_type": "markdown",
   "metadata": {
    "slideshow": {
     "slide_type": "slide"
    }
   },
   "source": [
    "<body>\n",
    "    <p>And, for a 2x2 table with frequencies:\n",
    "    </p>\n",
    "    <table>\n",
    "        <thead>\n",
    "            <th></th>\n",
    "            <th></th>\n",
    "            <th></th>\n",
    "            <th>Total</th>\n",
    "        </thead>\n",
    "        <tbody>\n",
    "          <tr>\n",
    "              <td></td>\n",
    "              <td>$a$</td>\n",
    "              <td>$b$</td>\n",
    "              <td>$r_1$</td>\n",
    "          </tr>\n",
    "          <tr>\n",
    "              <td></td>\n",
    "              <td>$c$</td>\n",
    "              <td>$d$</td>\n",
    "              <td>$r_2$</td>\n",
    "          </tr>\n",
    "          <tr>\n",
    "              <td><strong>Total</strong></td>\n",
    "              <td>$s_1$</td>\n",
    "              <td>$s_2$</td>\n",
    "              <td>$N$</td>\n",
    "          </tr>\n",
    "        </tbody>\n",
    "    </table>\n",
    "</body>"
   ]
  },
  {
   "cell_type": "markdown",
   "metadata": {
    "slideshow": {
     "slide_type": "slide"
    }
   },
   "source": [
    "<body>\n",
    "    <p>the continuity corrected version of the alternative formula is\n",
    "    </p>\n",
    "    <p>$$\\mathrm{X}^2_{Yates} = \\dfrac{N(|ad-bc|-N/2)^2}{r_{1}r_{2}s_{1}s_{2}}$$\n",
    "    </p>\n",
    "</body>"
   ]
  },
  {
   "cell_type": "markdown",
   "metadata": {
    "slideshow": {
     "slide_type": "slide"
    }
   },
   "source": [
    "<body>\n",
    "    <h3>7.1.10 The Exact Test for Fourfold Tables\n",
    "    </h3>\n",
    "    <p>Even with the continuity correction there will be some doubt about the adequacy of the $\\mathcal{X}^2$ approximation when the frequencies are particularly small. An exact test was suggested almost simultaneously in the mid-1930's by Fisher, Irwin and Yates. \n",
    "    </p>\n",
    "    <p>This consists of calculating the exact probabilities in the distribution described in the Previous subsection. \n",
    "    </p>\n",
    "</body>"
   ]
  },
  {
   "cell_type": "markdown",
   "metadata": {
    "slideshow": {
     "slide_type": "slide"
    }
   },
   "source": [
    "<body>\n",
    "    <p>For a table with frequencies:\n",
    "    </p>\n",
    "    <table>\n",
    "        <thead>\n",
    "            <th></th>\n",
    "            <th></th>\n",
    "            <th></th>\n",
    "            <th>Total</th>\n",
    "        </thead>\n",
    "        <tbody>\n",
    "          <tr>\n",
    "              <td></td>\n",
    "              <td>$a$</td>\n",
    "              <td>$b$</td>\n",
    "              <td>$r_1$</td>\n",
    "          </tr>\n",
    "          <tr>\n",
    "              <td></td>\n",
    "              <td>$c$</td>\n",
    "              <td>$d$</td>\n",
    "              <td>$r_2$</td>\n",
    "          </tr>\n",
    "          <tr>\n",
    "              <td><strong>Total</strong></td>\n",
    "              <td>$s_1$</td>\n",
    "              <td>$s_2$</td>\n",
    "              <td>$N$</td>\n",
    "          </tr>\n",
    "        </tbody>\n",
    "    </table>\n",
    "</body>"
   ]
  },
  {
   "cell_type": "markdown",
   "metadata": {
    "slideshow": {
     "slide_type": "slide"
    }
   },
   "source": [
    "<body>\n",
    "    <p>The probability of such a table of frequencies is given by the formula:\n",
    "    </p>\n",
    "    <p>$$\\dfrac{r_{1}! r_{2}! s_{1}! s_{2}!}{N!a!b!c!d!}$$\n",
    "    </p>\n",
    "    <p>Given any observed table, the probabilities of all tables with the same marginal totals can be calculated, and the p-value for the significance test calculated by summation.\n",
    "    </p>\n",
    "</body>"
   ]
  },
  {
   "cell_type": "markdown",
   "metadata": {
    "slideshow": {
     "slide_type": "slide"
    }
   },
   "source": [
    "<body>\n",
    "    <h2>7.2 Testing Whether a Distribution is Normal\n",
    "    </h2>\n",
    "    <p>A useful use of the $\\mathcal{X}^2$ test is to check whether the data have a Normal Distribution or not.\n",
    "    </p>\n",
    "</body>"
   ]
  },
  {
   "cell_type": "markdown",
   "metadata": {
    "slideshow": {
     "slide_type": "slide"
    }
   },
   "source": [
    "<body>\n",
    "    <p>For example, consider drug levels measured in a random group of 251\n",
    "subjects receiving a particular drug. The data are as follows:\n",
    "    </p>\n",
    "    <table>\n",
    "        <tbody>\n",
    "            <tr class=\"odd\">\n",
    "                <td>mg/ml</td>\n",
    "                <td>1.0</td>\n",
    "                <td>1.1</td>\n",
    "                <td>1.2</td>\n",
    "                <td>1.3</td>\n",
    "                <td>1.4</td>\n",
    "                <td>1.5</td>\n",
    "                <td>1.6</td>\n",
    "                <td>1.7</td>\n",
    "                <td>1.8</td>\n",
    "            </tr>\n",
    "            <tr class=\"even\">\n",
    "                <td>No of Subjects</td>\n",
    "                <td>12</td>\n",
    "                <td>14</td>\n",
    "                <td>18</td>\n",
    "                <td>42</td>\n",
    "                <td>60</td>\n",
    "                <td>50</td>\n",
    "                <td>30</td>\n",
    "                <td>15</td>\n",
    "                <td>10</td>\n",
    "            </tr>\n",
    "        </tbody>\n",
    "    </table>\n",
    "    <p>Do these data follow a Normal Distribution?\n",
    "    </p>\n",
    "</body>"
   ]
  },
  {
   "cell_type": "markdown",
   "metadata": {
    "slideshow": {
     "slide_type": "slide"
    }
   },
   "source": [
    "<body>\n",
    "    <p>An informal solution is to plot the frequencies and see if the distribution looks normal.\n",
    "    </p>\n",
    "</body>"
   ]
  },
  {
   "cell_type": "code",
   "execution_count": 39,
   "metadata": {
    "slideshow": {
     "slide_type": "slide"
    }
   },
   "outputs": [
    {
     "data": {
      "image/png": "[encoded data removed]",
      "text/plain": [
       "plot without title"
      ]
     },
     "metadata": {},
     "output_type": "display_data"
    }
   ],
   "source": [
    "# use barplot to show frequencies of each drug concentration\n",
    "\n",
    "drugs.df <- data.frame(level=seq(1.0,1.8,0.1),\n",
    "                       freq=c(12,14,18,42,60,50,30,15,10))\n",
    "barplot(drugs.df$freq,\n",
    "        names.arg=drugs.df$level,\n",
    "        xlab=\"Drug Concentration (mg/ml)\",\n",
    "        ylab=\"Frequency\",\n",
    "        ylim=c(0,62))\n",
    "box(lty=\"solid\")"
   ]
  },
  {
   "cell_type": "markdown",
   "metadata": {
    "slideshow": {
     "slide_type": "slide"
    }
   },
   "source": [
    "<body>\n",
    "    <p>More formally we can use our $\\mathcal{X}^2$ test. The Hypotheses are:\n",
    "    </p>\n",
    "    <ul class=\"nobull\">\n",
    "        <li>$H_0 : $ Data follow a Normal Distribution\n",
    "        </li>\n",
    "        <li>$H_1 : $ Data follow some other Distribution\n",
    "        </li>\n",
    "        <li>Significance Level 0.05\n",
    "        </li>\n",
    "        <li>Test Statistic $\\mathrm{X}^2=\\sum\\limits_{i=1}^{C}\\frac{(O_i-E_i)^2}{E_i}$<br>\n",
    "            where C = No. of classes\n",
    "        </li>\n",
    "    </ul>\n",
    "</body>"
   ]
  },
  {
   "cell_type": "markdown",
   "metadata": {
    "slideshow": {
     "slide_type": "slide"
    }
   },
   "source": [
    "<body>\n",
    "    <p>To calculate the Observerd Test Statistic we first have to find the expected values.\n",
    "    </p>\n",
    "    <p>From the example data we find that the mean drug level is $\\bar{x}=1.4$ with standard deviation $s=0.2$, and there are $n=251$ observations.\n",
    "    </p>\n",
    "    <p>To find expected values from the normal distribution $\\mathcal{N}(1.4,0.2^2)$ we transform to standard normal distribution to find the expected frequency for each drug level.\n",
    "    </p>\n",
    "</body>"
   ]
  },
  {
   "cell_type": "markdown",
   "metadata": {
    "slideshow": {
     "slide_type": "slide"
    }
   },
   "source": [
    "<body>\n",
    "    <p>We then build up a table translating the probability of being within a particular level to the expected frequency:\n",
    "    </p>\n",
    "    <ol class=\"i\">\n",
    "        <li>Transfrom drug level X to standard normal using $Z = \\frac{X-\\bar{x}}{s}$\n",
    "        </li>\n",
    "        <li>Take $b$ as the boundary value midway between subsequent $Z$ values.\n",
    "        </li>\n",
    "        <li>Find $p = $ P(lower b $\\lt$ Z $\\lt$ upper b) using $\\mathcal{N}(0,1)$ tables.\n",
    "        </li>\n",
    "        <li>Use $p \\times n$ to find the Expected frequency.\n",
    "        </li>\n",
    "    </ol>\n",
    "</body>"
   ]
  },
  {
   "cell_type": "markdown",
   "metadata": {
    "slideshow": {
     "slide_type": "slide"
    }
   },
   "source": [
    "<body>\n",
    "    <table>\n",
    "        <thead>\n",
    "            <th>$X$</th>\n",
    "            <th>$Z$</th>\n",
    "            <th>lower b</th>\n",
    "            <th>upper b</th>\n",
    "            <th>P(lb$\\lt$Z$\\lt$ub)</th>\n",
    "            <th>Expected</th>\n",
    "            <th>Observed</th>\n",
    "        </thead>\n",
    "        <tbody>\n",
    "          <tr>\n",
    "              <td>1.0</td>\n",
    "              <td>-2.0</td>\n",
    "              <td>-2.25</td>\n",
    "              <td>-1.75</td>\n",
    "              <td>0.028</td>\n",
    "              <td>7.0</td>\n",
    "              <td>12</td>\n",
    "          </tr>\n",
    "          <tr>\n",
    "              <td>1.1</td>\n",
    "              <td>-1.5</td>\n",
    "              <td>-1.75</td>\n",
    "              <td>-1.25</td>\n",
    "              <td>0.065</td>\n",
    "              <td>16.5</td>\n",
    "              <td>14</td>\n",
    "          </tr>\n",
    "          <tr>\n",
    "              <td>1.2</td>\n",
    "              <td>-1.0</td>\n",
    "              <td>-1.25</td>\n",
    "              <td>-0.75</td>\n",
    "              <td>0.121</td>\n",
    "              <td>30.4</td>\n",
    "              <td>18</td>\n",
    "          </tr>\n",
    "          <tr>\n",
    "              <td>1.3</td>\n",
    "              <td>-0.5</td>\n",
    "              <td>-0.75</td>\n",
    "              <td>-0.25</td>\n",
    "              <td>0.175</td>\n",
    "              <td>43.8</td>\n",
    "              <td>42</td>\n",
    "          </tr>\n",
    "          <tr>\n",
    "              <td>1.4</td>\n",
    "              <td>0</td>\n",
    "              <td>-0.25</td>\n",
    "              <td>0.25</td>\n",
    "              <td>0.197</td>\n",
    "              <td>49.6</td>\n",
    "              <td>60</td>\n",
    "          </tr>\n",
    "          <tr>\n",
    "              <td>1.5</td>\n",
    "              <td>0.5</td>\n",
    "              <td>0.25</td>\n",
    "              <td>0.75</td>\n",
    "              <td>0.175</td>\n",
    "              <td>43.8</td>\n",
    "              <td>50</td>\n",
    "          </tr>\n",
    "          <tr>\n",
    "              <td>1.6</td>\n",
    "              <td>1.0</td>\n",
    "              <td>0.75</td>\n",
    "              <td>1.25</td>\n",
    "              <td>0.121</td>\n",
    "              <td>30.4</td>\n",
    "              <td>30</td>\n",
    "          </tr>\n",
    "          <tr>\n",
    "              <td>1.7</td>\n",
    "              <td>1.5</td>\n",
    "              <td>1.25</td>\n",
    "              <td>1.75</td>\n",
    "              <td>0.065</td>\n",
    "              <td>16.5</td>\n",
    "              <td>15</td>\n",
    "          </tr>\n",
    "          <tr>\n",
    "              <td>1.8</td>\n",
    "              <td>2.0</td>\n",
    "              <td>1.75</td>\n",
    "              <td>2.25</td>\n",
    "              <td>0.028</td>\n",
    "              <td>7.0</td>\n",
    "              <td>10</td>\n",
    "          </tr>\n",
    "        </tbody>\n",
    "    </table>\n",
    "</body>"
   ]
  },
  {
   "cell_type": "markdown",
   "metadata": {
    "slideshow": {
     "slide_type": "slide"
    }
   },
   "source": [
    "<body>\n",
    "    <p>Now we can calculate the Observed Test Statistic\n",
    "    </p>\n",
    "    <p>$$\\mathrm{X}^2 = \\dfrac{(12-7)^2}{7} + \\dfrac{(14-16.5)^2}{16.5} + ... + \\dfrac{(10-7)^2}{7} \\\\\n",
    "        = 13.6$$\n",
    "    </p>\n",
    "</body>"
   ]
  },
  {
   "cell_type": "markdown",
   "metadata": {
    "slideshow": {
     "slide_type": "slide"
    }
   },
   "source": [
    "<body>\n",
    "    <p>and the rejection threshold for Significance Level 0.05 (NB this is always one-sided):\n",
    "    </p>\n",
    "    <ul class=\"nobull\">\n",
    "        <li>$\\mathcal{X}^2(6;0.05) = 12.59$\n",
    "        </li>\n",
    "        <li>where df $=$ (no. of classes) - 1 - (no. of parameters estimated)<br>\n",
    "            $\\quad \\quad \\quad = 9 - 1 - 2$\n",
    "        </li>\n",
    "    </ul>\n",
    "</body>"
   ]
  },
  {
   "cell_type": "markdown",
   "metadata": {
    "slideshow": {
     "slide_type": "slide"
    }
   },
   "source": [
    "<body>\n",
    "    <p>So we will Reject $H_0$ in favour of $H_1$ at the 5% significance level only if $\\mathrm{X}^2 \\gt 12.59$.\n",
    "    </p>\n",
    "    <p>The p-value for $P(\\mathcal{X}^2(6) \\gt 13.6) = 0.038$\n",
    "    </p>\n",
    "</body>"
   ]
  },
  {
   "cell_type": "markdown",
   "metadata": {
    "slideshow": {
     "slide_type": "slide"
    }
   },
   "source": [
    "<body>\n",
    "    <p>We can conclude:\n",
    "    </p>\n",
    "    <ol>\n",
    "        <li>The Observed Test Statistic $\\mathrm{X}^2 = 13.6$ which is greater than 12.59 so we can reject $H_0$ in favour of $H_1$ at the 5% significance level. Therefore there is sufficient evidence to conclude that the data does not follow a Normal Distribution.\n",
    "        </li>\n",
    "        <li>$p \\lt 0.05$ so there is sufficient evidence at the 5% level to conclude that the data does not follow a Normal Distribution.\n",
    "        </li>\n",
    "    </ol>\n",
    "</body>"
   ]
  },
  {
   "cell_type": "markdown",
   "metadata": {
    "slideshow": {
     "slide_type": "slide"
    }
   },
   "source": [
    "<body>\n",
    "    <h2>7.3 Testing Whether a Distribution is Uniform\n",
    "    </h2>\n",
    "    <p>In a similar fashion to using the $\\mathcal{X}^2$ test to determine whether a distribution is normal, we can also test whether a distribuion is Uniform. In this distribution all outcomes have an equal chance of occurring.\n",
    "    </p>\n",
    "</body>"
   ]
  },
  {
   "cell_type": "markdown",
   "metadata": {
    "slideshow": {
     "slide_type": "slide"
    }
   },
   "source": [
    "<body>\n",
    "    <p>The hyphothesis test we perform is:\n",
    "    </p>\n",
    "    <ul class=\"nobull\">\n",
    "        <li>$H_0 : $ Data follow a Uniform distribution\n",
    "        </li>\n",
    "        <li>$H_1 : $ Data follow some other distribution\n",
    "        </li>\n",
    "        <li>Significance level 0.05\n",
    "        </li>\n",
    "        <li>Test Statistic: <br>\n",
    "            $\\mathrm{X}^2 = \\sum\\limits_{i=1}^{C}\\frac{(O_i-E_i)^2}{E_i} \\quad $ where C = no. of classes\n",
    "        </li>\n",
    "    </ul>\n",
    "</body>"
   ]
  },
  {
   "cell_type": "markdown",
   "metadata": {
    "slideshow": {
     "slide_type": "slide"
    }
   },
   "source": [
    "<body>\n",
    "    <h3>7.3.1 Uniform Distribution test example\n",
    "    </h3>\n",
    "    <p>Consider data regarding the number of defective items detected on an assembly line over the course of a week. We want to know if there is an equal chance of a defective item being found on each day of the week.\n",
    "    </p>\n",
    "</body>"
   ]
  },
  {
   "cell_type": "markdown",
   "metadata": {
    "slideshow": {
     "slide_type": "slide"
    }
   },
   "source": [
    "<body>\n",
    "    <table>\n",
    "        <thead>\n",
    "            <th>Day</th>\n",
    "            <th>Defective items</th>\n",
    "            <th>Day</th>\n",
    "            <th>Expected</th>\n",
    "        </thead>\n",
    "        <tbody>\n",
    "          <tr>\n",
    "              <td>Mon</td>\n",
    "              <td>20</td>\n",
    "              <td>Mon</td>\n",
    "              <td>18</td>\n",
    "          </tr>\n",
    "          <tr>\n",
    "              <td>Tues</td>\n",
    "              <td>17</td>\n",
    "              <td>Tues</td>\n",
    "              <td>18</td>\n",
    "          </tr>\n",
    "          <tr>\n",
    "              <td>Wed</td>\n",
    "              <td>16</td>\n",
    "              <td>Wed</td>\n",
    "              <td>18</td>\n",
    "          </tr>\n",
    "          <tr>\n",
    "              <td>Thurs</td>\n",
    "              <td>14</td>\n",
    "              <td>Thurs</td>\n",
    "              <td>18</td>\n",
    "          </tr>\n",
    "          <tr>\n",
    "              <td>Fri</td>\n",
    "              <td>23</td>\n",
    "              <td>Fri</td>\n",
    "              <td>18</td>\n",
    "          </tr>\n",
    "          <tr>\n",
    "              <td>Total</td>\n",
    "              <td>90</td>\n",
    "              <td></td>\n",
    "              <td>90</td>\n",
    "          </tr>\n",
    "        </tbody>\n",
    "    </table>\n",
    "</body>"
   ]
  },
  {
   "cell_type": "markdown",
   "metadata": {
    "slideshow": {
     "slide_type": "slide"
    }
   },
   "source": [
    "<body>\n",
    "    <p>From the data can you tell whether there is an equal chance of a defect occuring on any day of the week?\n",
    "    </p>\n",
    "    <p>Do the following bargraphs make it any clearer?\n",
    "    </p>\n",
    "</body>"
   ]
  },
  {
   "cell_type": "code",
   "execution_count": 40,
   "metadata": {
    "slideshow": {
     "slide_type": "slide"
    }
   },
   "outputs": [
    {
     "data": {
      "image/png": "[encoded data removed]",
      "text/plain": [
       "Plot with title \"Observed and Expected Faults\""
      ]
     },
     "metadata": {},
     "output_type": "display_data"
    }
   ],
   "source": [
    "faults.df <- data.frame(day=c(\"Mon\",\"Tues\",\"Wed\",\"Thurs\",\"Fri\"),\n",
    "                        freq=c(20,17,16,14,23),\n",
    "                        exp=c(18,18,18,18,18))\n",
    "# side by side plot\n",
    "par(mfrow = c(1,2))\n",
    "\n",
    "# plot observed fault frequencies, the observed and expected side by side\n",
    "barplot(faults.df$freq,\n",
    "        names.arg=faults.df$day,\n",
    "        ylab=\"Number of Faults\",\n",
    "        ylim=c(0,25),\n",
    "        main=\"Observed Faults\")\n",
    "barplot (rbind(faults.df$freq,faults.df$exp), beside=TRUE,\n",
    "         names.arg=faults.df$day, \n",
    "         legend.text=c(\"Observed\",\"Expected\"),args.legend=list(x='topleft'),\n",
    "         ylim=c(0,25),ylab=\"Number of Faults\", \n",
    "         main=\"Observed and Expected Faults\")\n",
    "box(lty=\"solid\")"
   ]
  },
  {
   "cell_type": "markdown",
   "metadata": {
    "slideshow": {
     "slide_type": "slide"
    }
   },
   "source": [
    "<body>\n",
    "    <p>From just looking at the plots it is unclear whether the faults follow a uniform distribution or not. Therefore we use the Observed Test Statistic:\n",
    "    </p>\n",
    "    <p>$$\\begin{align}\\mathrm{X}^2 = & \\frac{(20-18)^2}{18}+\\frac{(17-18)^2}{18}+\\frac{(16-18)^2}{18}+ \\\\\n",
    "        & \\frac{(14-18)^2}{18}+\\frac{(23-18)^2}{18} \\\\\n",
    "        \\\\\n",
    "        &= 2.78 \\end{align}$$\n",
    "    </p>\n",
    "</body>"
   ]
  },
  {
   "cell_type": "markdown",
   "metadata": {
    "slideshow": {
     "slide_type": "slide"
    }
   },
   "source": [
    "<body>\n",
    "    <p>The threshold for our Rejection Region at significance level 0.05 is,\n",
    "    </p>\n",
    "    <p>$$\\mathcal{X}^2(4;0.05) = 9.49$$\n",
    "    </p>\n",
    "    <p>where df $= 5 - 1 - 0 = 4$. (Note the 0 comes from not estimating any parameters.)\n",
    "    </p>\n",
    "</body>"
   ]
  },
  {
   "cell_type": "code",
   "execution_count": 41,
   "metadata": {
    "slideshow": {
     "slide_type": "slide"
    }
   },
   "outputs": [
    {
     "data": {
      "image/png": "[encoded data removed]",
      "text/plain": [
       "Plot with title \"Chi-squared distribution df=4\""
      ]
     },
     "metadata": {},
     "output_type": "display_data"
    }
   ],
   "source": [
    "# plot chi-squared(4)\n",
    "x<-seq(0,15,0.01)\n",
    "chisqdens <- dchisq(x,4)\n",
    "\n",
    "# highlight the rejection region\n",
    "rejx = 9.49\n",
    "rej= rejx*100+1\n",
    "pvalx = 2.78\n",
    "pval= pvalx*100+1\n",
    "plot(x,chisqdens,type=\"l\",ylab=\"Density\",main=\"Chi-squared distribution df=4\",xlab=\"\",xaxt=\"n\")\n",
    "polygon(c(x[rej:length(x)],x[length(x)],x[rej]),c(chisqdens[rej:length(x)],0,0),col=\"gray\")\n",
    "axis(1,at=c(0,2,rejx,4,6,pvalx),labels=c(0,2,rejx,4,6,pvalx))\n",
    "\n",
    "# and point an arrow to it\n",
    "arrows(x[rej]+0.2,chisqdens[rej]+0.1,x[rej]+0.1,chisqdens[rej])\n",
    "text(x[rej]+0.2,chisqdens[rej]+0.11,labels=\"Rejection region 5% sig level\")"
   ]
  },
  {
   "cell_type": "markdown",
   "metadata": {
    "slideshow": {
     "slide_type": "slide"
    }
   },
   "source": [
    "<body>\n",
    "    <p>We can conclude that:\n",
    "    </p>\n",
    "    <ul>\n",
    "        <li>The Observed Test Statistic, $\\mathrm{X}^2=2.78$, is not in the Rejection Region as it is $\\lt 9.49$ so we cannot reject $H_0$ in favour of $H_1$ at the 5% significance level. (Also the p-value $p=0.6 \\gt 0.05$.)\n",
    "        </li>\n",
    "        <li>There is insufficient evidence to reject that the data follow a Uniform Distribution.\n",
    "        </li>\n",
    "    </ul>\n",
    "</body>"
   ]
  }
 ],
 "metadata": {
  "kernelspec": {
   "display_name": "R",
   "language": "R",
   "name": "ir"
  },
  "language_info": {
   "codemirror_mode": "r",
   "file_extension": ".r",
   "mimetype": "text/x-r-source",
   "name": "R",
   "pygments_lexer": "r",
   "version": "4.1.1"
  }
 },
 "nbformat": 4,
 "nbformat_minor": 4
}
