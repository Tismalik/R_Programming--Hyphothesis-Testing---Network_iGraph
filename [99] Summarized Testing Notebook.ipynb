{
 "cells": [
  {
   "cell_type": "code",
   "execution_count": 1,
   "id": "0be78889",
   "metadata": {},
   "outputs": [
    {
     "name": "stderr",
     "output_type": "stream",
     "text": [
      "Registered S3 methods overwritten by 'tibble':\n",
      "  method     from  \n",
      "  format.tbl pillar\n",
      "  print.tbl  pillar\n",
      "\n",
      "Registered S3 methods overwritten by 'ggplot2':\n",
      "  method         from \n",
      "  [.quosures     rlang\n",
      "  c.quosures     rlang\n",
      "  print.quosures rlang\n",
      "\n",
      "Registered S3 method overwritten by 'rvest':\n",
      "  method            from\n",
      "  read_xml.response xml2\n",
      "\n",
      "-- \u001b[1mAttaching packages\u001b[22m ------------------------------------------------------------------------------- tidyverse 1.2.1 --\n",
      "\n",
      "\u001b[32mv\u001b[39m \u001b[34mggplot2\u001b[39m 3.1.1       \u001b[32mv\u001b[39m \u001b[34mpurrr  \u001b[39m 0.3.4  \n",
      "\u001b[32mv\u001b[39m \u001b[34mtibble \u001b[39m 2.1.1       \u001b[32mv\u001b[39m \u001b[34mdplyr  \u001b[39m 0.8.0.\u001b[31m1\u001b[39m\n",
      "\u001b[32mv\u001b[39m \u001b[34mtidyr  \u001b[39m 0.8.3       \u001b[32mv\u001b[39m \u001b[34mstringr\u001b[39m 1.4.0  \n",
      "\u001b[32mv\u001b[39m \u001b[34mreadr  \u001b[39m 1.3.1       \u001b[32mv\u001b[39m \u001b[34mforcats\u001b[39m 0.5.1  \n",
      "\n",
      "-- \u001b[1mConflicts\u001b[22m ---------------------------------------------------------------------------------- tidyverse_conflicts() --\n",
      "\u001b[31mx\u001b[39m \u001b[34mdplyr\u001b[39m::\u001b[32mfilter()\u001b[39m masks \u001b[34mstats\u001b[39m::filter()\n",
      "\u001b[31mx\u001b[39m \u001b[34mdplyr\u001b[39m::\u001b[32mlag()\u001b[39m    masks \u001b[34mstats\u001b[39m::lag()\n",
      "\n",
      "Registered S3 method overwritten by 'DescTools':\n",
      "  method       from   \n",
      "  plot.bagplot aplpack\n",
      "\n",
      "\n",
      "Attaching package: 'DescTools'\n",
      "\n",
      "\n",
      "The following object is masked from 'package:aplpack':\n",
      "\n",
      "    plot.bagplot\n",
      "\n",
      "\n"
     ]
    }
   ],
   "source": [
    "library(\"tidyverse\")\n",
    "library(\"aplpack\")\n",
    "library(\"DescTools\")"
   ]
  },
  {
   "cell_type": "markdown",
   "id": "53817b63",
   "metadata": {},
   "source": [
    "# Five number summary, Variance, Standard Deviation, SUm of Square, Skewness, Stem/Box plot, "
   ]
  },
  {
   "cell_type": "code",
   "execution_count": 2,
   "id": "1a727bca",
   "metadata": {},
   "outputs": [
    {
     "data": {
      "text/plain": [
       "   Min. 1st Qu.  Median    Mean 3rd Qu.    Max. \n",
       "  22.10   23.32   27.50   35.28   48.77   56.80 "
      ]
     },
     "metadata": {},
     "output_type": "display_data"
    },
    {
     "data": {
      "text/html": [
       "5"
      ],
      "text/latex": [
       "5"
      ],
      "text/markdown": [
       "5"
      ],
      "text/plain": [
       "[1] 5\n",
       "attr(,\"freq\")\n",
       "[1] 3"
      ]
     },
     "metadata": {},
     "output_type": "display_data"
    },
    {
     "name": "stdout",
     "output_type": "stream",
     "text": [
      "Sumsquare: 6638"
     ]
    },
    {
     "data": {
      "text/html": [
       "'Variance: 244.681318681319'"
      ],
      "text/latex": [
       "'Variance: 244.681318681319'"
      ],
      "text/markdown": [
       "'Variance: 244.681318681319'"
      ],
      "text/plain": [
       "[1] \"Variance: 244.681318681319\""
      ]
     },
     "metadata": {},
     "output_type": "display_data"
    },
    {
     "name": "stdout",
     "output_type": "stream",
     "text": [
      "standard deviation 15.64229"
     ]
    },
    {
     "data": {
      "text/html": [
       "0.8776390671757"
      ],
      "text/latex": [
       "0.8776390671757"
      ],
      "text/markdown": [
       "0.8776390671757"
      ],
      "text/plain": [
       "[1] 0.8776391"
      ]
     },
     "metadata": {},
     "output_type": "display_data"
    }
   ],
   "source": [
    "# Five number summary, Variance, Standard Deviation, SUm of Square, Stem/Box plot,\n",
    "df <- data.frame(x=c(1,2))\n",
    "vec <- c(1,2,3,4,5,50, 10, 25,22,24,22,5,42,5)\n",
    "c <- c(23.7,22.1,31.3,56.8,54.6,23.2)\n",
    "\n",
    "summary(c)\n",
    "\n",
    "Mode(vec)\n",
    "\n",
    "cat('Sumsquare:', sum(vec**2))\n",
    "\n",
    "paste('Variance:', (sd(vec)**2))\n",
    "\n",
    "cat('standard deviation',sd(vec))\n",
    "\n",
    "Skew(vec)           #measure skewness\n",
    "\n",
    "#boxplot(c)\n",
    "\n",
    "#stem.leaf(vec,unit=1,style=\"bare\",m=1)"
   ]
  },
  {
   "cell_type": "code",
   "execution_count": 3,
   "id": "ca239811",
   "metadata": {},
   "outputs": [
    {
     "ename": "ERROR",
     "evalue": "Error in parse(text = x, srcfile = src): <text>:3:24: unexpected symbol\n2: range <- max-min\n3: QuartileDeviation <- (3rdQ\n                          ^\n",
     "output_type": "error",
     "traceback": [
      "Error in parse(text = x, srcfile = src): <text>:3:24: unexpected symbol\n2: range <- max-min\n3: QuartileDeviation <- (3rdQ\n                          ^\nTraceback:\n"
     ]
    }
   ],
   "source": [
    "# Range and Quartile Deviation\n",
    "range <- max-min\n",
    "QuartileDeviation <- (3rdQ - 1stQ)/2"
   ]
  },
  {
   "cell_type": "markdown",
   "id": "9bcebfac",
   "metadata": {},
   "source": [
    "# Hypothesis Testing Confidence Intervals"
   ]
  },
  {
   "cell_type": "code",
   "execution_count": 20,
   "id": "f8359ebb",
   "metadata": {},
   "outputs": [
    {
     "data": {
      "text/plain": [
       "\n",
       "\tOne Sample t-test\n",
       "\n",
       "data:  1:60\n",
       "t = -31, df = 59, p-value <2e-16\n",
       "alternative hypothesis: true mean is less than 100\n",
       "95 percent confidence interval:\n",
       "  -Inf 34.27\n",
       "sample estimates:\n",
       "mean of x \n",
       "     30.5 \n"
      ]
     },
     "metadata": {},
     "output_type": "display_data"
    },
    {
     "data": {
      "text/plain": [
       "\n",
       "\tOne Sample t-test\n",
       "\n",
       "data:  g2\n",
       "t = -2.6, df = 11, p-value = 0.02\n",
       "alternative hypothesis: true mean is not equal to 300\n",
       "95 percent confidence interval:\n",
       " 291.9 299.3\n",
       "sample estimates:\n",
       "mean of x \n",
       "    295.6 \n"
      ]
     },
     "metadata": {},
     "output_type": "display_data"
    },
    {
     "data": {
      "text/plain": [
       "\n",
       "\tTwo Sample t-test\n",
       "\n",
       "data:  c(1:70) and c(1:70)\n",
       "t = -56, df = 138, p-value <2e-16\n",
       "alternative hypothesis: true difference in means is less than 193\n",
       "95 percent confidence interval:\n",
       "  -Inf 5.696\n",
       "sample estimates:\n",
       "mean of x mean of y \n",
       "     35.5      35.5 \n"
      ]
     },
     "metadata": {},
     "output_type": "display_data"
    },
    {
     "data": {
      "text/plain": [
       "\n",
       "\tPaired t-test\n",
       "\n",
       "data:  g3 and g4\n",
       "t = 1.7, df = 7, p-value = 0.07\n",
       "alternative hypothesis: true difference in means is greater than 0\n",
       "95 percent confidence interval:\n",
       " -0.1014     Inf\n",
       "sample estimates:\n",
       "mean of the differences \n",
       "                  0.875 \n"
      ]
     },
     "metadata": {},
     "output_type": "display_data"
    }
   ],
   "source": [
    "library(\"stats\")\n",
    "\n",
    "g1 <- c(5.5,4.6,4.8,5.7,6.4)    #test samples\n",
    "g2 <- c(288, 294, 293, 294, 297, 299,\n",
    "301, 285, 291, 298, 304, 303)\n",
    "g3 <- c(15,14,18,14,15,17,13,12)\n",
    "g4 <- c(13,15,15,13,13,16,14,12)\n",
    "\n",
    "# one Sample one tailed\n",
    "t.test(x=1:60, alternative='less', mu = 100, paired = FALSE, var.equal = FALSE,\n",
    "       conf.level = 0.95)       #works better when you have realset of x samples\n",
    "\n",
    "\n",
    "# one sample two tailed\n",
    "t.test(x=g2, alternative='two.sided', mu = 300, paired = FALSE, var.equal = FALSE,\n",
    "       conf.level = 0.95) \n",
    "\n",
    "\n",
    "# two sample two-tailed(independent groups)\n",
    "t.test(x=c(1:70), y=c(1:70),  alternative='less', mu =193 , paired = FALSE, var.equal = TRUE,\n",
    "       conf.level = 0.95)                  # use stat calculator p value incorrect\n",
    "\n",
    "\n",
    "# two sample one-tailed(Paired groups)\n",
    "t.test(x=g3, y=g4,  alternative='greater', mu = 0 , paired = TRUE, var.equal = FALSE,\n",
    "       conf.level = 0.95)                  #Best done with R"
   ]
  },
  {
   "cell_type": "markdown",
   "id": "18450239",
   "metadata": {},
   "source": [
    "# Chi Squared"
   ]
  },
  {
   "cell_type": "code",
   "execution_count": 29,
   "id": "33ed2cce",
   "metadata": {},
   "outputs": [
    {
     "data": {
      "text/html": [
       "<table class=\"dataframe\">\n",
       "<caption>A matrix: 2 × 3 of type dbl</caption>\n",
       "<tbody>\n",
       "\t<tr><td>10</td><td>20</td><td> 9</td></tr>\n",
       "\t<tr><td>10</td><td> 4</td><td>11</td></tr>\n",
       "</tbody>\n",
       "</table>\n"
      ],
      "text/latex": [
       "A matrix: 2 × 3 of type dbl\n",
       "\\begin{tabular}{lll}\n",
       "\t 10 & 20 &  9\\\\\n",
       "\t 10 &  4 & 11\\\\\n",
       "\\end{tabular}\n"
      ],
      "text/markdown": [
       "\n",
       "A matrix: 2 × 3 of type dbl\n",
       "\n",
       "| 10 | 20 |  9 |\n",
       "| 10 |  4 | 11 |\n",
       "\n"
      ],
      "text/plain": [
       "     [,1] [,2] [,3]\n",
       "[1,] 10   20    9  \n",
       "[2,] 10    4   11  "
      ]
     },
     "metadata": {},
     "output_type": "display_data"
    },
    {
     "data": {
      "text/html": [
       "<table class=\"dataframe\">\n",
       "<caption>A matrix: 2 × 3 of type dbl</caption>\n",
       "<tbody>\n",
       "\t<tr><td>18</td><td>18</td><td>12</td></tr>\n",
       "\t<tr><td>12</td><td> 4</td><td> 8</td></tr>\n",
       "</tbody>\n",
       "</table>\n"
      ],
      "text/latex": [
       "A matrix: 2 × 3 of type dbl\n",
       "\\begin{tabular}{lll}\n",
       "\t 18 & 18 & 12\\\\\n",
       "\t 12 &  4 &  8\\\\\n",
       "\\end{tabular}\n"
      ],
      "text/markdown": [
       "\n",
       "A matrix: 2 × 3 of type dbl\n",
       "\n",
       "| 18 | 18 | 12 |\n",
       "| 12 |  4 |  8 |\n",
       "\n"
      ],
      "text/plain": [
       "     [,1] [,2] [,3]\n",
       "[1,] 18   18   12  \n",
       "[2,] 12    4    8  "
      ]
     },
     "metadata": {},
     "output_type": "display_data"
    },
    {
     "data": {
      "text/plain": [
       "\n",
       "\tPearson's Chi-squared test\n",
       "\n",
       "data:  maledf\n",
       "X-squared = 8.2, df = 2, p-value = 0.02\n"
      ]
     },
     "metadata": {},
     "output_type": "display_data"
    },
    {
     "data": {
      "text/plain": [
       "\n",
       "\tPearson's Chi-squared test\n",
       "\n",
       "data:  femaledf\n",
       "X-squared = 3.3, df = 2, p-value = 0.2\n"
      ]
     },
     "metadata": {},
     "output_type": "display_data"
    },
    {
     "data": {
      "text/plain": [
       "\n",
       "\tChi-squared test for given probabilities\n",
       "\n",
       "data:  reject\n",
       "X-squared = 3.6, df = 6, p-value = 0.7\n"
      ]
     },
     "metadata": {},
     "output_type": "display_data"
    }
   ],
   "source": [
    "### Or Use calculator if preferred\n",
    "# set up contingency table for males\n",
    "(maledf <- matrix(c(10,10,20,4,9,11),ncol=3))\n",
    "\n",
    "# set up contingency table for females\n",
    "(femaledf <- matrix(c(18,12,18,4,12,8),ncol=3))\n",
    "\n",
    "# run chi-squared 'test for association' for males\n",
    "chisq.test(maledf)\n",
    "\n",
    "# run chi-squared test for association for males\n",
    "chisq.test(femaledf)\n",
    "\n",
    "\n",
    "# # 3.5 'goodness of fit' for uniform distribution with mean 45/5=9. On\n",
    "# call to chisq.test() there is equal probability of rejection on\n",
    "# each day.\n",
    "\n",
    "reject<-c(22,15,20,19,23,14,20)\n",
    "probs<-c(1/7,1/7,1/7,1/7,1/7,1/7,1/7)\n",
    "\n",
    "\n",
    "chisq.test(reject,p=probs)\n"
   ]
  },
  {
   "cell_type": "markdown",
   "id": "8be50d50",
   "metadata": {},
   "source": [
    "# Anova: One Way and Two way"
   ]
  },
  {
   "cell_type": "code",
   "execution_count": 17,
   "id": "aac9aff0",
   "metadata": {},
   "outputs": [
    {
     "data": {
      "text/plain": [
       "            Df Sum Sq Mean Sq F value Pr(>F)   \n",
       "drug         2    142    70.9    8.82 0.0011 **\n",
       "Residuals   27    217     8.0                  \n",
       "---\n",
       "Signif. codes:  0 '***' 0.001 '**' 0.01 '*' 0.05 '.' 0.1 ' ' 1"
      ]
     },
     "metadata": {},
     "output_type": "display_data"
    }
   ],
   "source": [
    "# set up a data fram for the 30 subjects and drug levels\n",
    "obs.df <- data.frame(subjects = seq(1,30,1),\n",
    "                     Resp = c(17,17,19,15,18,14,13,12,15,17,\n",
    "                              17,16,24,16,23,17,24,25,19,20,\n",
    "                              13,13,19,16,15,18,15,16,17,11),\n",
    "                     Drug = c(\"Drug1\",\"Drug1\",\"Drug1\",\"Drug1\",\"Drug1\",\"Drug1\",\"Drug1\",\"Drug1\",\"Drug1\",\"Drug1\",\n",
    "                             \"Drug2\",\"Drug2\",\"Drug2\",\"Drug2\",\"Drug2\",\"Drug2\",\"Drug2\",\"Drug2\",\"Drug2\",\"Drug2\",\n",
    "                             \"Drug3\",\"Drug3\",\"Drug3\",\"Drug3\",\"Drug3\",\"Drug3\",\"Drug3\",\"Drug3\",\"Drug3\",\"Drug3\"))\n",
    "# using options() to set precision level to control number of decimal points presented\n",
    "options(digits=4)\n",
    "\n",
    "# Drug levels are nominal categorical variables, so get R to encode numerical values for this using the factor().\n",
    "drug<-factor(obs.df$Drug)\n",
    "\n",
    "# Now we can run one-way anova. We use this with() construct so that we don't have to use obs.df$ in front of \n",
    "# references to Resp. It just makes the code more readable but is not necessary.\n",
    "with(obs.df, {\n",
    "  # Call one-way ANOVA function aov() and say we are looking at the observations Resp for which we want to find if \n",
    "  # the different drug groupings are significant\n",
    "  aov1<-aov(Resp~drug)\n",
    "  # and summary will give the ANOVA table\n",
    "  summary(aov1)\n",
    "})\n",
    "\n",
    "\n",
    "\n",
    "# One way Anova solution \"single factor\"\n",
    "#q3g <- factor(na.omit(Q3Group))\n",
    "#\n",
    "#fall <- na.omit(Q3BPFall)\n",
    "#\n",
    "#an2 <- aov(fall~q3g)\n",
    "#summary(an2)"
   ]
  },
  {
   "cell_type": "markdown",
   "id": "2114d57f",
   "metadata": {},
   "source": [
    "# Two Way ANova Two Factor\n"
   ]
  },
  {
   "cell_type": "code",
   "execution_count": 26,
   "id": "036b6fd9",
   "metadata": {},
   "outputs": [
    {
     "data": {
      "text/plain": [
       "              Df Sum Sq Mean Sq F value  Pr(>F)    \n",
       "genders        1     33      33    1.14   0.326    \n",
       "drugs          2   4362    2181   74.79 5.7e-05 ***\n",
       "genders:drugs  2    379     190    6.50   0.031 *  \n",
       "Residuals      6    175      29                    \n",
       "---\n",
       "Signif. codes:  0 '***' 0.001 '**' 0.01 '*' 0.05 '.' 0.1 ' ' 1"
      ]
     },
     "metadata": {},
     "output_type": "display_data"
    }
   ],
   "source": [
    "\n",
    "\n",
    "#Two way anova\n",
    "# set up observations in a data frame\n",
    "obs.df<-data.frame(subjects=seq(1,12,1),\n",
    "                   gender=c(\"M\",\"M\",\"M\",\"M\",\"M\",\"M\",\n",
    "                            \"F\",\"F\",\"F\",\"F\",\"F\",\"F\"),\n",
    "                   drug=c(\"Drug1\",\"Drug2\",\"Drug3\",\"Drug1\",\"Drug2\",\"Drug3\",\n",
    "                          \"Drug1\",\"Drug2\",\"Drug3\",\"Drug1\",\"Drug2\",\"Drug3\"),                   \n",
    "                   decrease=c(45,30,10,55,40,10,65,20,5,55,15,10))\n",
    "# use the with construct to make referencing elements of the data frame easier to read \n",
    "# (e.g. no need to use obs.df$drug)\n",
    "with(obs.df, {\n",
    "    # set the factors for drugs and genders\n",
    "    drugs<-factor(drug)\n",
    "    genders<-factor(gender)\n",
    "    # call ANOVA where we want to determine if drug type, gender or interaction of drug and gender are significant\n",
    "    aov2<-aov(decrease~genders+drugs+drugs*genders)\n",
    "    # the above states: decreace varies(~) accoding to genders & drugs & drugs*gender\n",
    "    summary(aov2)\n",
    "})"
   ]
  },
  {
   "cell_type": "markdown",
   "id": "9af4687a",
   "metadata": {},
   "source": [
    "\n",
    "# Pearson Correlation, Linear and Multiple Regression"
   ]
  },
  {
   "cell_type": "code",
   "execution_count": 23,
   "id": "091c23c5",
   "metadata": {},
   "outputs": [
    {
     "data": {
      "text/html": [
       "'correlation coeff: -0.990560520939191'"
      ],
      "text/latex": [
       "'correlation coeff: -0.990560520939191'"
      ],
      "text/markdown": [
       "'correlation coeff: -0.990560520939191'"
      ],
      "text/plain": [
       "[1] \"correlation coeff: -0.990560520939191\""
      ]
     },
     "metadata": {},
     "output_type": "display_data"
    },
    {
     "data": {
      "text/html": [
       "<span style=white-space:pre-wrap>'Rsquare vale is:  0.981210145643322'</span>"
      ],
      "text/latex": [
       "'Rsquare vale is:  0.981210145643322'"
      ],
      "text/markdown": [
       "<span style=white-space:pre-wrap>'Rsquare vale is:  0.981210145643322'</span>"
      ],
      "text/plain": [
       "[1] \"Rsquare vale is:  0.981210145643322\""
      ]
     },
     "metadata": {},
     "output_type": "display_data"
    },
    {
     "data": {
      "text/plain": [
       "\n",
       "Call:\n",
       "lm(formula = df$y ~ df$x)\n",
       "\n",
       "Residuals:\n",
       "   Min     1Q Median     3Q    Max \n",
       "-1.582 -0.345  0.106  0.544  0.855 \n",
       "\n",
       "Coefficients:\n",
       "            Estimate Std. Error t value Pr(>|t|)    \n",
       "(Intercept)  34.5152     0.8799    39.2  2.0e-10 ***\n",
       "df$x         -0.9061     0.0443   -20.4  3.4e-08 ***\n",
       "---\n",
       "Signif. codes:  0 '***' 0.001 '**' 0.01 '*' 0.05 '.' 0.1 ' ' 1\n",
       "\n",
       "Residual standard error: 0.805 on 8 degrees of freedom\n",
       "Multiple R-squared:  0.981,\tAdjusted R-squared:  0.979 \n",
       "F-statistic:  418 on 1 and 8 DF,  p-value: 3.43e-08\n"
      ]
     },
     "metadata": {},
     "output_type": "display_data"
    }
   ],
   "source": [
    "# Correlation::\n",
    "# Note: method=\"pearson\" to get the correlation coefficient r.\n",
    "# Also, note that the use=\"complete.obs\" option tells r to only look\n",
    "# at complete cases, and ignore any missing values\n",
    "\n",
    "df <- data.frame(x = c(10,12,14,16,18,20,22,24,26,28),\n",
    "                y= c(25,24,22,20,19,17,13,12,11,10))\n",
    "\n",
    "r <- cor(df$x, df$y,method=\"pearson\",use=\"complete.obs\")\n",
    "paste('correlation coeff:',r)\n",
    "\n",
    "Rsqr <- r^2\n",
    "paste('Rsquare vale is: ',Rsqr)\n",
    "\n",
    "\n",
    "\n",
    "# Regression Model:::\n",
    "lmodel <- lm(df$y~df$x)\n",
    "summary(lmodel)\n",
    "\n",
    "#newy <- intercept + (slope*newx)\n"
   ]
  },
  {
   "cell_type": "code",
   "execution_count": null,
   "id": "46d9aa1d",
   "metadata": {},
   "outputs": [],
   "source": [
    "## Multiple Regression:::\n",
    "vol.lm<-lm(data=volData, Volume ~ Diameter+Height)\n",
    "summary(vol.lm)\n",
    "\n",
    "#Using step function to select best model variables\n",
    "# set up a linear regression model where Systol is the dependent variable which varies with independent variables\n",
    "# Age+Years+Weight+Height+Chin+Forearm+Calf+Pulse\n",
    "sbp.lm<-lm(data=BPData, Systol ~ Age+Years+Weight+Height+Chin+Forearm+Calf+Pulse)\n",
    "\n",
    "with(BPData, {\n",
    "    \n",
    "    # try the step() function backwards to test our model selection\n",
    "    step(sbp.lm,direction=\"backward\")\n",
    "\n",
    "})\n",
    "\n"
   ]
  },
  {
   "cell_type": "code",
   "execution_count": null,
   "id": "81a18a8d",
   "metadata": {},
   "outputs": [],
   "source": [
    "# coeeficient of determination: Remember 'Rsquared' -> \" R2 = 1 - (SSreg / SStot) \"\"\n",
    "# Model Equation\n",
    "bp_pred <- 54.2960 + (0.6256*Years) + (1.3125*Weight)\n",
    "\n",
    "# find SStot\n",
    "SStot <- sum((Systol)^2)-(sum(Systol))^2/n  #rem n = sample size syston=y\n",
    "paste(\"SStot is:\",SStot)\n",
    "\n",
    "# Find SSres\n",
    "bdPredDiff <- bp_pred-Systol\n",
    "SSres <- sum(bdPredDiff^2) -(sum(bdPredDiff)^2/n)\n",
    "paste(\"SSres is:\",SSres)\n",
    "\n",
    "R2 <- 1 - (SSres/SStot)\n",
    "paste(\"R2 is:\",R2)\n"
   ]
  }
 ],
 "metadata": {
  "kernelspec": {
   "display_name": "R",
   "language": "R",
   "name": "ir"
  },
  "language_info": {
   "codemirror_mode": "r",
   "file_extension": ".r",
   "mimetype": "text/x-r-source",
   "name": "R",
   "pygments_lexer": "r",
   "version": "4.1.1"
  }
 },
 "nbformat": 4,
 "nbformat_minor": 5
}
