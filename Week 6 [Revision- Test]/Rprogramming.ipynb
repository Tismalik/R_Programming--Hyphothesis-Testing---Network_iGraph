{
 "cells": [
  {
   "cell_type": "markdown",
   "id": "9eb1b840",
   "metadata": {},
   "source": [
    "<p>\n",
    "    2.1 A production manager believes that 100 hours are required to complete a particular task. The accountant, however, disagrees and believes that the task takes less time. To test the view of the accountant, the time taken to complete the task was recorded on 60 occasions by an independent observer. The mean was found to be 96 hours and the standard deviation to be 2.5 hours. Formulate and perform an appropriate test at 5% significance level.\n",
    "</p>"
   ]
  },
  {
   "cell_type": "markdown",
   "id": "a61e9b7a",
   "metadata": {},
   "source": [
    "<p>\n",
    "    In this example we only have summary statistics so we can't call the R t.test() function. Instead we will calculate the observed test statistic by hand, then call the pt() function to find the p-value. Note however, that we need to be very careful to pass the correct parameters to pt() so that the probability we calculate is appropriate to the test we are performing. We will need to consider whether it is one or two-tailed, and also whether the alternative hypothesis implies an upper or a lower tail. Remember that pt(tobs,df=x) will give the probability of the t distribution on x degrees of freedom lying below the value given by tobs."
   ]
  },
  {
   "cell_type": "code",
   "execution_count": 70,
   "id": "b38c28a4",
   "metadata": {},
   "outputs": [
    {
     "data": {
      "text/html": [
       "'Observed test statistic is -12.394'"
      ],
      "text/latex": [
       "'Observed test statistic is -12.394'"
      ],
      "text/markdown": [
       "'Observed test statistic is -12.394'"
      ],
      "text/plain": [
       "[1] \"Observed test statistic is -12.394\""
      ]
     },
     "metadata": {},
     "output_type": "display_data"
    },
    {
     "data": {
      "text/html": [
       "'p-value is 0.000'"
      ],
      "text/latex": [
       "'p-value is 0.000'"
      ],
      "text/markdown": [
       "'p-value is 0.000'"
      ],
      "text/plain": [
       "[1] \"p-value is 0.000\""
      ]
     },
     "metadata": {},
     "output_type": "display_data"
    }
   ],
   "source": [
    "# First calculate the observed test statistic. This is a one sample \n",
    "# one-tailed (lower tailed) t-test.\n",
    "\n",
    "# H0: mu=100  H1: mu<100\n",
    "\n",
    "xbar<-96\n",
    "mu<-100\n",
    "n<-60\n",
    "s<-2.5\n",
    "dp<-3  # number of decimal places to print\n",
    "\n",
    "tobs <- (xbar-mu)/(s/sqrt(n))\n",
    "sprintf(\"Observed test statistic is %.*f\", dp, tobs)\n",
    "\n",
    "pvalue <- pt(tobs,df=n-1)\n",
    "sprintf(\"p-value is %.*f\", dp, pvalue)"
   ]
  },
  {
   "cell_type": "markdown",
   "id": "24758fe3",
   "metadata": {},
   "source": [
    "<p>\n",
    "    As the pvalue is less than 0.05 we reject the null hypothesis and conclude that there is sufficient evidence to suggest that the meantime taken to complete the task is less than 100.\n",
    "</p>"
   ]
  },
  {
   "cell_type": "markdown",
   "id": "0257732c",
   "metadata": {},
   "source": [
    "<p>\n",
    "    2.2 Twelve packages are randomly selected from the production of breakfast cereal. Their weights in grams are:\n",
    "</p>\n",
    "<p>\n",
    "    288 294 293 294 297 299 301 285 291 298 304 303\n",
    "</p>\n",
    "<p>\n",
    "If production is working correctly, the weights should be independent normally distributed with mean weight of 300 grams.\n",
    "</p>\n",
    "<ol type=\"a\">\n",
    "    <li>Calculate a 95% confidence interval for the mean.\n",
    "    </li>\n",
    "    <li>Does this show that the production is working correctly?\n",
    "    </li>\n",
    "</ol>"
   ]
  },
  {
   "cell_type": "markdown",
   "id": "53b8d8dd",
   "metadata": {},
   "source": [
    "<p>\n",
    "    Here we have one sample and we want to generate a confidence interval. We have the data so we are going to use the t.test() function. Note that as we only want to pull a confidence interval out of t.test() we do not even need to specify what our hypothesised population mean is. However, we do this anyway by using the mu parameter to t.test()\n",
    "</p>"
   ]
  },
  {
   "cell_type": "code",
   "execution_count": 71,
   "id": "0fcc3149",
   "metadata": {},
   "outputs": [
    {
     "data": {
      "text/plain": [
       "\n",
       "\tOne Sample t-test\n",
       "\n",
       "data:  wts\n",
       "t = -2.6137, df = 11, p-value = 0.0241\n",
       "alternative hypothesis: true mean is not equal to 300\n",
       "95 percent confidence interval:\n",
       " 291.8641 299.3026\n",
       "sample estimates:\n",
       "mean of x \n",
       " 295.5833 \n"
      ]
     },
     "metadata": {},
     "output_type": "display_data"
    }
   ],
   "source": [
    "# first set up a vector with the data\n",
    "\n",
    "wts<-c(288,294,293,294,297,299,301,285,291,298,304,303)\n",
    "\n",
    "# we want to generate a confidence interval for the population mean \n",
    "# from a small sample of data. So, we will use t.test() stating a \n",
    "# two-sided test to get the confidence interval.\n",
    "\n",
    "t.test(wts,alternative=\"two.sided\",mu=300)"
   ]
  },
  {
   "cell_type": "markdown",
   "id": "335ea9e9",
   "metadata": {},
   "source": [
    "<p>\n",
    "    The 95% confidence interval for the true population mean is (291.8,299.3) so we can see that 300g is not a plausible value of the confidence interval and therefore is not a plausible value for the true population mean weight. (Note how this is confirmed by the result of the hypothesis test where the p-value is 0.0241.)\n",
    "</p> "
   ]
  },
  {
   "cell_type": "markdown",
   "id": "3dabc407",
   "metadata": {},
   "source": [
    "<p>\n",
    "    2.3 A dispute exists between workers on two production lines. The workers on production line A claim that they are paid less than those on production line B. The company investigates the claim by examining the pay of 70 workers from each production line. The results were as follows:\n",
    "<table>\n",
    "<thead>\n",
    "  <tr>\n",
    "    <th>Sample Statistics</th>\n",
    "    <th>Line A</th>\n",
    "    <th>Line B</th>\n",
    "  </tr>\n",
    "</thead>\n",
    "<tbody>\n",
    "  <tr>\n",
    "    <td>mean</td>\n",
    "    <td>£193.00</td>\n",
    "    <td>£194.50</td>\n",
    "  </tr>\n",
    "  <tr>\n",
    "    <td>standard deviation</td>\n",
    "    <td>£6.00</td>\n",
    "    <td>£7.50</td>\n",
    "  </tr>\n",
    "</tbody>\n",
    "</table>\n",
    "<p>\n",
    "    Formulate and perform an appropriate test.\n",
    "</p>"
   ]
  },
  {
   "cell_type": "markdown",
   "id": "d3548a60",
   "metadata": {},
   "source": [
    "<p>\n",
    "    Again we only have the summary statistics for this example. Now, there is a function tsum.test() which you can find in the PASWR package. However, I have had problems loading packages over the last week, and a general problem with my R installation so I am going to calculate the test statistic by hand. However, I encourage you to look up this function and try to use it. This will help you broaden your experience using R.\n",
    "</p>"
   ]
  },
  {
   "cell_type": "code",
   "execution_count": 72,
   "id": "25d8213c",
   "metadata": {},
   "outputs": [
    {
     "data": {
      "text/html": [
       "'Observed test statistic is -1.307'"
      ],
      "text/latex": [
       "'Observed test statistic is -1.307'"
      ],
      "text/markdown": [
       "'Observed test statistic is -1.307'"
      ],
      "text/plain": [
       "[1] \"Observed test statistic is -1.307\""
      ]
     },
     "metadata": {},
     "output_type": "display_data"
    },
    {
     "data": {
      "text/html": [
       "'p-value is 0.097'"
      ],
      "text/latex": [
       "'p-value is 0.097'"
      ],
      "text/markdown": [
       "'p-value is 0.097'"
      ],
      "text/plain": [
       "[1] \"p-value is 0.097\""
      ]
     },
     "metadata": {},
     "output_type": "display_data"
    }
   ],
   "source": [
    "# First calculate the observed test statistic. This is two independent  \n",
    "# groups test. one-tailed (upper)\n",
    "# H0: mu1=mu2  H1: mu1<mu2 ie. difference <0\n",
    "\n",
    "xbar1<-193\n",
    "s1<-6\n",
    "n1<-70\n",
    "xbar2<-194.5\n",
    "s2<-7.5\n",
    "n2<-70\n",
    "dp<-3  # number of decimal places to print\n",
    "\n",
    "# pooled variance\n",
    "sp2 = ((n1-1)*s1^2+(n2-1)*s2^2)/(n1+n2-2)\n",
    "tobs <- (xbar1-xbar2)/(sqrt(sp2*(1/n1+1/n2)))\n",
    "\n",
    "sprintf(\"Observed test statistic is %.*f\", dp, tobs)\n",
    "\n",
    "pvalue <- pt(tobs,df=n1+n2-2)\n",
    "sprintf(\"p-value is %.*f\", dp, pvalue)"
   ]
  },
  {
   "cell_type": "markdown",
   "id": "e5123c3a",
   "metadata": {},
   "source": [
    "<p>\n",
    "    As the pvalue is >0.05 we cannot reject the null hypothesis. We conclude that there is insufficient evidence to suggest that the mean pay for production line A is less than production line B.\n",
    "</p>"
   ]
  },
  {
   "cell_type": "markdown",
   "id": "6e686466",
   "metadata": {},
   "source": [
    "<p>\n",
    "    2.4 A company claims that women take more time off through illness than men. The union wish to test this claim and are able to select two random samples from the workforce: a sample of 17 women and a sample of 11 men. From the personnel record it is found that for the sample of women, the mean number of days illness is 6.3 with a variance of 5.8. For the mean the men is 5.1 days with a variance of 2.6. To help the union in arguing its case, formulate and perform an appropriate test.\n",
    "</p>"
   ]
  },
  {
   "cell_type": "markdown",
   "id": "b248f52d",
   "metadata": {},
   "source": [
    "<p>\n",
    "    Again we only have summary statistics, and again a one-tailed test. I am going to work out the test statistic by hand and calculate the p-value.\n",
    "</p>"
   ]
  },
  {
   "cell_type": "code",
   "execution_count": 73,
   "id": "0f52ad16",
   "metadata": {},
   "outputs": [
    {
     "data": {
      "text/html": [
       "'Observed test statistic is 1.451'"
      ],
      "text/latex": [
       "'Observed test statistic is 1.451'"
      ],
      "text/markdown": [
       "'Observed test statistic is 1.451'"
      ],
      "text/plain": [
       "[1] \"Observed test statistic is 1.451\""
      ]
     },
     "metadata": {},
     "output_type": "display_data"
    },
    {
     "data": {
      "text/html": [
       "'p-value is 0.079'"
      ],
      "text/latex": [
       "'p-value is 0.079'"
      ],
      "text/markdown": [
       "'p-value is 0.079'"
      ],
      "text/plain": [
       "[1] \"p-value is 0.079\""
      ]
     },
     "metadata": {},
     "output_type": "display_data"
    }
   ],
   "source": [
    "# First calculate the observed test statistic. This is two independent  \n",
    "# groups test. one-tailed (upper)\n",
    "# H0: mu1=mu2  H1: mu1>mu2 ie. difference <0 where group 1 is the group\n",
    "# of women.\n",
    "\n",
    "# NOTE we have been given sample variances not standard deviations in \n",
    "# this question. I won't take the square root as we do want the\n",
    "# sample variances when we calculate the pooled variance.\n",
    "\n",
    "xbar1<-6.3\n",
    "s12<-5.8\n",
    "n1<-17\n",
    "xbar2<-5.1\n",
    "s22<-2.6\n",
    "n2<-11\n",
    "dp<-3  # number of decimal places to print\n",
    "\n",
    "# pooled variance\n",
    "sp2 = ((n1-1)*s12+(n2-1)*s22)/(n1+n2-2)\n",
    "tobs <- (xbar1-xbar2)/(sqrt(sp2*(1/n1+1/n2)))\n",
    "\n",
    "sprintf(\"Observed test statistic is %.*f\", dp, tobs)\n",
    "# Now we have to be very careful when calling pt() here, as this is an\n",
    "# upper one-tailed test. By default pt() returns the probability of the \n",
    "# a random variable selected from the t-distribution being less than \n",
    "# tobs .This works for a lower one-tailed test. We use the parameter \n",
    "# lower.tail set to FALSE to indicate that we are seeking the\n",
    "# probability of lying in the upper tail. Note by default this parameter\n",
    "# is TRUE.\n",
    "pvalue <- pt(tobs,df=n1+n2-2, lower.tail=FALSE)\n",
    "sprintf(\"p-value is %.*f\", dp, pvalue)"
   ]
  },
  {
   "cell_type": "markdown",
   "id": "7c35a9ff",
   "metadata": {},
   "source": [
    "<p>\n",
    "    As the pvalue is >0.05 we cannot reject the null hypothesis. We conclude that there is insufficient evidence to suggest that the mean number of sick days for women is greater than that for men.\n",
    "</p>"
   ]
  },
  {
   "cell_type": "markdown",
   "id": "bc109a84",
   "metadata": {},
   "source": [
    "<p>2.5 The time taken to complete a particular task was recorded for a sample of eight employees before and after a period of training is shown below (times shown in minutes). Perform a test to investigate whether the training has been effective.\n",
    "<table>\n",
    "<thead>\n",
    "  <tr>\n",
    "    <th>Employee</th>\n",
    "    <th>Before Training</th>\n",
    "    <th>After Training</th>\n",
    "  </tr>\n",
    "</thead>\n",
    "<tbody>\n",
    "  <tr>\n",
    "    <td>1</td>\n",
    "    <td>15</td>\n",
    "    <td>13</td>\n",
    "  </tr>\n",
    "  <tr>\n",
    "    <td>1</td>\n",
    "    <td>14</td>\n",
    "    <td>15</td>\n",
    "  </tr>\n",
    "  <tr>\n",
    "    <td>1</td>\n",
    "    <td>18</td>\n",
    "    <td>15</td>\n",
    "  </tr>\n",
    "  <tr>\n",
    "    <td>4</td>\n",
    "    <td>14</td>\n",
    "    <td>13</td>\n",
    "  </tr>\n",
    "  <tr>\n",
    "    <td>5</td>\n",
    "    <td>15</td>\n",
    "    <td>13</td>\n",
    "  </tr>\n",
    "  <tr>\n",
    "    <td>6</td>\n",
    "    <td>17</td>\n",
    "    <td>16</td>\n",
    "  </tr>\n",
    "  <tr>\n",
    "    <td>7</td>\n",
    "    <td>13</td>\n",
    "    <td>14</td>\n",
    "  </tr>\n",
    "  <tr>\n",
    "    <td>8</td>\n",
    "    <td>12</td>\n",
    "    <td>12</td>\n",
    "  </tr>\n",
    "</tbody>\n",
    "</table>"
   ]
  },
  {
   "cell_type": "markdown",
   "id": "fd6052b9",
   "metadata": {},
   "source": [
    "<p>\n",
    "    Here we actually have the sample data so we are going to call t.test(). This is paired data, and as we want to investigate whether time taken has improved we testing if the time taken after training is less than before.\n",
    "</p>"
   ]
  },
  {
   "cell_type": "code",
   "execution_count": 74,
   "id": "3e07e715",
   "metadata": {},
   "outputs": [
    {
     "data": {
      "text/plain": [
       "\n",
       "\tPaired t-test\n",
       "\n",
       "data:  timeb and timea\n",
       "t = 1.6977, df = 7, p-value = 0.06668\n",
       "alternative hypothesis: true difference in means is greater than 0\n",
       "95 percent confidence interval:\n",
       " -0.1014435        Inf\n",
       "sample estimates:\n",
       "mean of the differences \n",
       "                  0.875 \n"
      ]
     },
     "metadata": {},
     "output_type": "display_data"
    }
   ],
   "source": [
    "# This is paired data so we want to use a paired t-test. It is \n",
    "# one-tailed (upper)\n",
    "# H0: mud=0  H1: mud>0 \n",
    "\n",
    "# first set up vectors with the data\n",
    "\n",
    "timeb<-c(15,14,18,14,15,17,13,12)\n",
    "timea<-c(13,15,15,13,13,16,14,12)\n",
    "\n",
    "# \n",
    "\n",
    "t.test(timeb,timea,alternative=\"greater\", paired=TRUE)"
   ]
  },
  {
   "cell_type": "markdown",
   "id": "a536805d",
   "metadata": {},
   "source": [
    "<p>\n",
    "    As the pvalue is >0.05 we cannot reject the null hypothesis. We conclude that there is insufficient evidence to suggest that the mean time taken has improved after the test.\n",
    "</p>"
   ]
  },
  {
   "cell_type": "markdown",
   "id": "9f2cb0d0",
   "metadata": {},
   "source": [
    "<p>\n",
    "    2.6  A report on a study gives the mean amount spent on text books in an academic year of a random sample of 27 1st year finance students as £114.9 and the standard deviation as £9.3.\n",
    "</p>\n",
    "<p>\n",
    "    Does this data show that 1st year finance students spend more than mathematics students who spend on average £111.3?\n",
    "</p>"
   ]
  },
  {
   "cell_type": "markdown",
   "id": "00b73e76",
   "metadata": {},
   "source": [
    "<p>\n",
    "    We have summary statistics here, and note that this is a single sample test. All we know about the mathematics students is the average amount they spend. So, we are performing a test about the finance students.\n",
    "</p>"
   ]
  },
  {
   "cell_type": "code",
   "execution_count": 75,
   "id": "536b6718",
   "metadata": {},
   "outputs": [
    {
     "data": {
      "text/html": [
       "'Observed test statistic is 2.011'"
      ],
      "text/latex": [
       "'Observed test statistic is 2.011'"
      ],
      "text/markdown": [
       "'Observed test statistic is 2.011'"
      ],
      "text/plain": [
       "[1] \"Observed test statistic is 2.011\""
      ]
     },
     "metadata": {},
     "output_type": "display_data"
    },
    {
     "data": {
      "text/html": [
       "'p-value is 0.027'"
      ],
      "text/latex": [
       "'p-value is 0.027'"
      ],
      "text/markdown": [
       "'p-value is 0.027'"
      ],
      "text/plain": [
       "[1] \"p-value is 0.027\""
      ]
     },
     "metadata": {},
     "output_type": "display_data"
    }
   ],
   "source": [
    "# First calculate the observed test statistic. This is a one sample \n",
    "# one-tailed (lower tailed) t-test.\n",
    "\n",
    "# H0: mu=111.3  H1: mu>111.3\n",
    "\n",
    "xbar<-114.9\n",
    "mu<-111.3\n",
    "n<-27\n",
    "s<-9.3\n",
    "dp<-3  # number of decimal places to print\n",
    "\n",
    "tobs <- (xbar-mu)/(s/sqrt(n))\n",
    "sprintf(\"Observed test statistic is %.*f\", dp, tobs)\n",
    "\n",
    "# Now we have to be very careful when calling pt() here, as this is an\n",
    "# upper one-tailed test. By default pt() returns the probability of the \n",
    "# a random variable selected from the t-distribution being less than \n",
    "# tobs .This works for a lower one-tailed test. We use the parameter \n",
    "# lower.tail set to FALSE to indicate that we are seeking the\n",
    "# probability of lying in the upper tail. Note by default this parameter\n",
    "# is TRUE.\n",
    "pvalue <- pt(tobs,df=n-1,lower.tail=FALSE)\n",
    "sprintf(\"p-value is %.*f\", dp, pvalue)"
   ]
  },
  {
   "cell_type": "markdown",
   "id": "3be9ab7b",
   "metadata": {},
   "source": [
    "<p>\n",
    "    As the pvalue is less than 0.05 we reject the null hypothesis and conclude that there is sufficient evidence to suggest that the mean amount spent on books by finance students is greater than the average spent by mathemtatics students.\n",
    "</p>"
   ]
  },
  {
   "cell_type": "markdown",
   "id": "c6ea39ef",
   "metadata": {},
   "source": [
    "<p>\n",
    "    2.7 A bank compares two proposals to increase the amount that its credit card customerscharge on their cards. Proposal A offers to eliminate the annual fee for customers who charge £2400 or more during the year. Proposal B offers a small percent of the total charged as a cash rebate at  the end of the year. The bank offers the proposals to a total sample of 35 of its existing credit card customers. At the end of the year, the total  amount charged by each customer is recorded. The summary statistics follow:\n",
    "<table>\n",
    "<thead>\n",
    "  <tr>\n",
    "    <th>Group</th>\n",
    "    <th>sample mean</th>\n",
    "    <th>sample standard deviation</th>\n",
    "  </tr>\n",
    "</thead>\n",
    "<tbody>\n",
    "  <tr>\n",
    "    <td>A</td>\n",
    "    <td>£1987</td>\n",
    "    <td>£392</td>\n",
    "  </tr>\n",
    "  <tr>\n",
    "    <td>B</td>\n",
    "    <td>£2056</td>\n",
    "    <td>£413</td>\n",
    "  </tr>\n",
    "</tbody>\n",
    "</table>\n",
    "<p>\n",
    "    We want to answer the question: Do the data show a significant difference between the mean amounts charged by customers offered the two plans?\n",
    "</p>"
   ]
  },
  {
   "cell_type": "markdown",
   "id": "e1716777",
   "metadata": {},
   "source": [
    "<p>\n",
    "    Here we again have summary statistics so we are going to calculate the observed test statistic and then calculate the p-value using pt(). This is a comparison of means from two separate groups so we will use the independent groups t-test. As we are looking for a difference between the mean amounts this is a two-tailed test.\n",
    "</p>"
   ]
  },
  {
   "cell_type": "code",
   "execution_count": 76,
   "id": "b0b4c345",
   "metadata": {},
   "outputs": [
    {
     "data": {
      "text/html": [
       "'Observed test statistic is -0.500'"
      ],
      "text/latex": [
       "'Observed test statistic is -0.500'"
      ],
      "text/markdown": [
       "'Observed test statistic is -0.500'"
      ],
      "text/plain": [
       "[1] \"Observed test statistic is -0.500\""
      ]
     },
     "metadata": {},
     "output_type": "display_data"
    },
    {
     "data": {
      "text/html": [
       "'p-value is 0.621'"
      ],
      "text/latex": [
       "'p-value is 0.621'"
      ],
      "text/markdown": [
       "'p-value is 0.621'"
      ],
      "text/plain": [
       "[1] \"p-value is 0.621\""
      ]
     },
     "metadata": {},
     "output_type": "display_data"
    }
   ],
   "source": [
    "# First calculate the observed test statistic. This is two independent  \n",
    "# groups test. two-tailed\n",
    "# H0: mu1=mu2  H1: mu1 not equal to mu2 ie. difference not equal to 0 \n",
    "\n",
    "xbar1<-1987\n",
    "s1<-392\n",
    "n1<-15\n",
    "xbar2<-2056\n",
    "s2<-413\n",
    "n2<-20\n",
    "dp<-3  # number of decimal places to print\n",
    "\n",
    "# pooled variance\n",
    "sp2 = ((n1-1)*s1^2+(n2-1)*s2^2)/(n1+n2-2)\n",
    "tobs <- (xbar1-xbar2)/(sqrt(sp2*(1/n1+1/n2)))\n",
    "\n",
    "sprintf(\"Observed test statistic is %.*f\", dp, tobs)\n",
    "# Now we have to be very careful when calling pt() here, as this is a\n",
    "# two-tailed test, and we need to double the probability. We also don't\n",
    "# know whether our observed test statistic is negative or not.\n",
    "# Therefore, we take the absolute value of the observed test statistic\n",
    "# and call pt() as if looking at the upper tail of the distribution.\n",
    "# Note by default pt() returns the probability of the \n",
    "# a random variable selected from the t-distribution being less than \n",
    "# tobs.This works for a lower one-tailed test. We use the parameter \n",
    "# lower.tail set to FALSE to indicate that we are seeking the\n",
    "# probability of lying in the upper tail. Note by default this parameter\n",
    "# is TRUE.\n",
    "pvalue <- 2*pt(abs(tobs),df=n1+n2-2, lower.tail=FALSE)\n",
    "sprintf(\"p-value is %.*f\", dp, pvalue)"
   ]
  },
  {
   "cell_type": "markdown",
   "id": "9133d4ca",
   "metadata": {},
   "source": [
    "<p>\n",
    "    As the pvalue is >0.05 we cannot reject the null hypothesis. We conclude that there is insufficient evidence to suggest that the mean amount spent is different between group A and group B.\n",
    "</p>"
   ]
  },
  {
   "cell_type": "markdown",
   "id": "e452f939",
   "metadata": {},
   "source": [
    "<p>\n",
    "    2.8  A commercial educational software producer advertises a software program designed to improve scores on a verbal test. A random sample of 10 students took the verbal test before and after using this software. The results appear below:\n",
    "</p>\n",
    "<table>\n",
    "<thead>\n",
    "  <tr>\n",
    "    <th>Student no.</th><th>1</th><th>2</th><th>3</th><th>4</th>\n",
    "    <th>5</th><th>6</th><th>7</th><th>8</th><th>9</th><th>10</th>\n",
    "  </tr>\n",
    "</thead>\n",
    "<tbody>\n",
    "    <tr>\n",
    "        <td>Score Before</td><td>430</td><td>600</td><td>480</td>\n",
    "        <td>500</td><td>610</td><td>380</td><td>570</td><td>490</td>\n",
    "        <td>540</td><td>370</td>\n",
    "    </tr>\n",
    "    <tr>\n",
    "        <td>Score After</td><td>450</td><td>640</td><td>490</td><td>550</td><td>630</td><td>420</td><td>610</td><td>490</td><td>575</td><td>400</td>\n",
    "    </tr>\n",
    "</tbody>\n",
    "</table>\n",
    "\n",
    "Should we conclude that the software improves the verbal scores?"
   ]
  },
  {
   "cell_type": "markdown",
   "id": "3c3b66c1",
   "metadata": {},
   "source": [
    "<p>\n",
    "    Here we actually have the sample data so we are going to call t.test(). This is paired data, and as we want to investigate whether scores have improved. So taking the difference as before-after this is a lower one-tailed test.\n",
    "</p>"
   ]
  },
  {
   "cell_type": "code",
   "execution_count": 77,
   "id": "f232dfae",
   "metadata": {},
   "outputs": [
    {
     "data": {
      "text/plain": [
       "\n",
       "\tPaired t-test\n",
       "\n",
       "data:  scoreb and scorea\n",
       "t = -5.7611, df = 9, p-value = 0.0001362\n",
       "alternative hypothesis: true difference in means is less than 0\n",
       "95 percent confidence interval:\n",
       "     -Inf -19.4317\n",
       "sample estimates:\n",
       "mean of the differences \n",
       "                  -28.5 \n"
      ]
     },
     "metadata": {},
     "output_type": "display_data"
    }
   ],
   "source": [
    "# This is paired data so we want to use a paired t-test. It is \n",
    "# one-tailed (lower)\n",
    "# H0: mud=0  H1: mud<0  so this is taking the difference as before-after\n",
    "\n",
    "# first set up vectors with the data\n",
    "\n",
    "scoreb<-c(430,600,480,500,610,380,570,490,540,370)\n",
    "scorea<-c(450,640,490,550,630,420,610,490,575,400)\n",
    "\n",
    "# Now call t.test for paired data. Make sure that the alternative here\n",
    "# is consistent with the order the difference is taken.\n",
    "\n",
    "t.test(scoreb,scorea,alternative=\"less\", paired=TRUE)"
   ]
  },
  {
   "cell_type": "markdown",
   "id": "ece8dac5",
   "metadata": {},
   "source": [
    "<p>\n",
    "    As the pvalue is less than 0.05 we reject the null hypothesis in favour of the alternative. We conclude that there is sufficient evidence to suggest that the mean test score is greater after using the software.\n",
    "</p>"
   ]
  },
  {
   "cell_type": "markdown",
   "id": "70f7e7af",
   "metadata": {},
   "source": [
    "<p>\n",
    "    2.9  The average weekly overtime earnings (in £s) from a sample of workers this year and last year were recorded as follows:\n",
    "<table>\n",
    "<thead>\n",
    "  <tr>\n",
    "    <th>Sample statistics</th>\n",
    "    <th>last year</th>\n",
    "    <th>this year</th>\n",
    "  </tr>\n",
    "</thead>\n",
    "<tbody>\n",
    "  <tr>\n",
    "    <td>number</td>\n",
    "    <td>28</td>\n",
    "    <td>25</td>\n",
    "  </tr>\n",
    "  <tr>\n",
    "    <td>mean</td>\n",
    "    <td>3.00</td>\n",
    "    <td>3.50</td>\n",
    "  </tr>\n",
    "  <tr>\n",
    "    <td>standard deviation</td>\n",
    "    <td>2.98</td>\n",
    "    <td>3.06</td>\n",
    "  </tr>\n",
    "</tbody>\n",
    "</table>\n",
    "<p>\n",
    "<ol type=\"a\">\n",
    "    <li>Construct a 95% confidence interval for the increase in average weekly overtime earnings.\n",
    "    </li>\n",
    "    <li>Is there a ‘statistically significant’ difference in the average earnings between this year and last year? (Interpret the confidence interval in (1) but also perform an appropriate test.)\n",
    "    </li>\n",
    "</ol>\n",
    "</p>"
   ]
  },
  {
   "cell_type": "markdown",
   "id": "b40d7fe3",
   "metadata": {},
   "source": [
    "<p>\n",
    "    These are summary statistics so we are going to have to calculate the confidence interval by hand. The sample is for two independent groups.\n",
    "</p>"
   ]
  },
  {
   "cell_type": "code",
   "execution_count": 78,
   "id": "e4c25746",
   "metadata": {},
   "outputs": [
    {
     "data": {
      "text/html": [
       "'95% confidence interval is (-1.167,2.167) '"
      ],
      "text/latex": [
       "'95\\% confidence interval is (-1.167,2.167) '"
      ],
      "text/markdown": [
       "'95% confidence interval is (-1.167,2.167) '"
      ],
      "text/plain": [
       "[1] \"95% confidence interval is (-1.167,2.167) \""
      ]
     },
     "metadata": {},
     "output_type": "display_data"
    }
   ],
   "source": [
    "# First calculate the observed test statistic. This is two independent  \n",
    "# groups test. \n",
    "\n",
    "xbar1<-3.5\n",
    "s1<-3.06\n",
    "n1<-25\n",
    "xbar2<-3.0\n",
    "s2<-2.98\n",
    "n2<-28\n",
    "dp<-3  # number of decimal places to print\n",
    "\n",
    "# pooled variance\n",
    "sp2 = ((n1-1)*s1^2+(n2-1)*s2^2)/(n1+n2-2)\n",
    "\n",
    "# now find the lower and upper bounds of the 95% confidence interval\n",
    "# for the difference in means.\n",
    "# first we find the critical value for 2.5% of the t distribution lying\n",
    "# above. To do this we use qt() which gives quantiles for the t\n",
    "# distribution on given number of degrees of freedom. Note that as we\n",
    "# want a positive value we look for probability 0.975\n",
    "tcrit <- qt(0.975,n1+n2-2)\n",
    "cilow <- xbar1-xbar2-tcrit*sqrt(sp2*(1/n1+1/n2))\n",
    "cihigh <- xbar1-xbar2+tcrit*sqrt(sp2*(1/n1+1/n2))\n",
    "                                 \n",
    "sprintf(\"95%% confidence interval is (%.*f,%.*f) \",dp,cilow,dp,cihigh)\n",
    "\n",
    "tobs <- (xbar1-xbar2)/(sqrt(sp2*(1/n1+1/n2)))\n"
   ]
  },
  {
   "cell_type": "markdown",
   "id": "6d5aee4b",
   "metadata": {},
   "source": [
    "<p>\n",
    "    We are 95% confident that the true mean difference lies within the confidence interval. A mean difference of 0 is a plausible value of the confidence interval.\n",
    "</p>"
   ]
  },
  {
   "cell_type": "code",
   "execution_count": 79,
   "id": "a63622a0",
   "metadata": {},
   "outputs": [
    {
     "data": {
      "text/html": [
       "'Observed test statistic is 0.602'"
      ],
      "text/latex": [
       "'Observed test statistic is 0.602'"
      ],
      "text/markdown": [
       "'Observed test statistic is 0.602'"
      ],
      "text/plain": [
       "[1] \"Observed test statistic is 0.602\""
      ]
     },
     "metadata": {},
     "output_type": "display_data"
    },
    {
     "data": {
      "text/html": [
       "'p-value is 0.550'"
      ],
      "text/latex": [
       "'p-value is 0.550'"
      ],
      "text/markdown": [
       "'p-value is 0.550'"
      ],
      "text/plain": [
       "[1] \"p-value is 0.550\""
      ]
     },
     "metadata": {},
     "output_type": "display_data"
    }
   ],
   "source": [
    "# First calculate the observed test statistic. This is two independent  \n",
    "# groups test.\n",
    "# H0: mu1=mu2  H1: mu1 not equal to mu2 ie. difference not equal to 0 \n",
    "\n",
    "xbar1<-3.5\n",
    "s1<-3.06\n",
    "n1<-25\n",
    "xbar2<-3.0\n",
    "s2<-2.98\n",
    "n2<-28\n",
    "dp<-3  # number of decimal places to print\n",
    "\n",
    "# pooled variance\n",
    "sp2 = ((n1-1)*s1^2+(n2-1)*s2^2)/(n1+n2-2)\n",
    "\n",
    "tobs <- (xbar1-xbar2)/(sqrt(sp2*(1/n1+1/n2)))\n",
    "\n",
    "sprintf(\"Observed test statistic is %.*f\", dp, tobs)\n",
    "# Now we have to be very careful when calling pt() here, as this is a\n",
    "# two-tailed test, and we need to double the probability. We also don't\n",
    "# know whether our observed test statistic is negative or not.\n",
    "# Therefore, we take the absolute value of the observed test statistic\n",
    "# and call pt() as if looking at the upper tail of the distribution.\n",
    "# Note by default pt() returns the probability of the \n",
    "# a random variable selected from the t-distribution being less than \n",
    "# tobs.This works for a lower one-tailed test. We use the parameter \n",
    "# lower.tail set to FALSE to indicate that we are seeking the\n",
    "# probability of lying in the upper tail. Note by default this parameter\n",
    "# is TRUE.\n",
    "pvalue <- 2*pt(abs(tobs),df=n1+n2-2, lower.tail=FALSE)\n",
    "sprintf(\"p-value is %.*f\", dp, pvalue)"
   ]
  },
  {
   "cell_type": "markdown",
   "id": "e1217374",
   "metadata": {},
   "source": [
    "<p>\n",
    "    As the pvalue is >0.05 we cannot reject the null hypothesis. We conclude that there is insufficient evidence to suggest that the mean earnings is different between the two groups from different years.\n",
    "</p>"
   ]
  },
  {
   "cell_type": "code",
   "execution_count": 80,
   "id": "d23d1f79",
   "metadata": {},
   "outputs": [
    {
     "data": {
      "text/plain": [
       "            Df Sum Sq Mean Sq F value   Pr(>F)    \n",
       "groups       3  63.79  21.264   9.212 0.000495 ***\n",
       "Residuals   20  46.17   2.308                     \n",
       "---\n",
       "Signif. codes:  0 '***' 0.001 '**' 0.01 '*' 0.05 '.' 0.1 ' ' 1"
      ]
     },
     "metadata": {},
     "output_type": "display_data"
    },
    {
     "data": {
      "text/plain": [
       "            Df Sum Sq Mean Sq F value   Pr(>F)    \n",
       "groups       3  63.79  21.264   9.212 0.000495 ***\n",
       "Residuals   20  46.17   2.308                     \n",
       "---\n",
       "Signif. codes:  0 '***' 0.001 '**' 0.01 '*' 0.05 '.' 0.1 ' ' 1\n",
       "3 observations deleted due to missingness"
      ]
     },
     "metadata": {},
     "output_type": "display_data"
    }
   ],
   "source": [
    "# Example 3.1 I am going to build the data frame in two ways just to show\n",
    "# you different ways of setting the data up. Use this to check your\n",
    "# hand-written solutions.\n",
    "\n",
    "# First just build the data frame by hand\n",
    "\n",
    "ans.df<-data.frame(child=seq(1,24,1),\n",
    "                   correct=c(9,8,8,9,7,7,\n",
    "                             2,5,4,3,4,3,\n",
    "                             9,3,7,8,5,6,\n",
    "                             5,7,3,6,7,4),\n",
    "                   group=c(1,1,1,1,1,1,\n",
    "                           2,2,2,2,2,2,\n",
    "                           3,3,3,3,3,3,\n",
    "                           4,4,4,4,4,4))\n",
    "\n",
    "with (ans.df, {\n",
    "  groups<-factor(group)\n",
    "  aov1<-aov(correct~groups)\n",
    "  summary(aov1)\n",
    "})\n",
    "\n",
    "# The Observed Test Statistic 9.212 is in the Rejection Region (it \n",
    "# is > 3.10) and the p-value is less than 0.001 so we can reject H0 in\n",
    "# favour of H1 at the 5% level. This there is sufficient evidence that\n",
    "# the mean number of correct answers is not the same for all four pattern\n",
    "# recognition skills groups.\n",
    "\n",
    "# Now going to read the data in from the spreadsheet\n",
    "\n",
    "library(\"readxl\")\n",
    "\n",
    "Lab3data <- read_excel(\"MATPMD1LabSession3Data.xlsx\")\n",
    "\n",
    "with (Lab3data,{\n",
    "  groups<-factor(Q1Group)\n",
    "  aov1<-aov(Q1Correct~groups)\n",
    "  \n",
    "  summary(aov1)\n",
    "})\n"
   ]
  },
  {
   "cell_type": "code",
   "execution_count": 81,
   "id": "5c4583b9",
   "metadata": {},
   "outputs": [
    {
     "data": {
      "text/plain": [
       "            Df Sum Sq Mean Sq F value   Pr(>F)    \n",
       "strain       2  87.63   43.81   12.65 0.000177 ***\n",
       "Residuals   24  83.11    3.46                     \n",
       "---\n",
       "Signif. codes:  0 '***' 0.001 '**' 0.01 '*' 0.05 '.' 0.1 ' ' 1"
      ]
     },
     "metadata": {},
     "output_type": "display_data"
    }
   ],
   "source": [
    "# Example 3.2 Use this to check your hand calculations\n",
    "\n",
    "library(\"readxl\")\n",
    "\n",
    "Lab3data <- read_excel(\"MATPMD1LabSession3Data.xlsx\")\n",
    "with (Lab3data,{\n",
    "\n",
    "  strain<-factor(Q2Strain)\n",
    "  aov2<-aov(Q2Days~strain)\n",
    "  summary(aov2)\n",
    "\n",
    "})\n",
    "\n",
    "# The Observed Test Statistic (12.65) is in the Rejection Region (>3.40) and\n",
    "# p-value is < 0.0001 (NB P(F(2.24)>9.34)=0.0001) so we can reject H0 in\n",
    "# favour of H1 at the 5% level and conclude that there is sufficient\n",
    "# evidence at the 5% level fo a difference somewhere in the mean number of\n",
    "# days to death for the three strains of mice."
   ]
  },
  {
   "cell_type": "code",
   "execution_count": 82,
   "id": "8363ef79",
   "metadata": {},
   "outputs": [
    {
     "data": {
      "text/plain": [
       "            Df Sum Sq Mean Sq F value Pr(>F)   \n",
       "groups       3  57.69  19.229   10.15 0.0013 **\n",
       "Residuals   12  22.73   1.894                  \n",
       "---\n",
       "Signif. codes:  0 '***' 0.001 '**' 0.01 '*' 0.05 '.' 0.1 ' ' 1\n",
       "11 observations deleted due to missingness"
      ]
     },
     "metadata": {},
     "output_type": "display_data"
    }
   ],
   "source": [
    "# Example 3.3\n",
    "\n",
    "library(\"readxl\")\n",
    "\n",
    "Lab3data <- read_excel(\"MATPMD1LabSession3Data.xlsx\")\n",
    "\n",
    "  with(Lab3data,{\n",
    "  \n",
    "  groups<-factor(Q3Group)\n",
    "  aov3<-aov(Q3BPFall~groups)\n",
    "  summary(aov3)\n",
    "\n",
    "})\n",
    "  \n",
    "# The Observed Test Statistic (10.15) is in the Rejection Region (greater\n",
    "# than 3.49) and p-value is < 0.001 (Since P(F(3,12)>10.80=0.001) so we can\n",
    "# reject H0 in favour of H1 at the 5% leveland conclude there is sufficient\n",
    "# evidence that the mean falls in SBP are not all the same."
   ]
  },
  {
   "cell_type": "code",
   "execution_count": 83,
   "id": "52483359",
   "metadata": {},
   "outputs": [
    {
     "data": {
      "text/html": [
       "<table>\n",
       "<tbody>\n",
       "\t<tr><td>10</td><td>20</td><td> 9</td></tr>\n",
       "\t<tr><td>10</td><td> 4</td><td>11</td></tr>\n",
       "</tbody>\n",
       "</table>\n"
      ],
      "text/latex": [
       "\\begin{tabular}{lll}\n",
       "\t 10 & 20 &  9\\\\\n",
       "\t 10 &  4 & 11\\\\\n",
       "\\end{tabular}\n"
      ],
      "text/markdown": [
       "\n",
       "| 10 | 20 |  9 |\n",
       "| 10 |  4 | 11 |\n",
       "\n"
      ],
      "text/plain": [
       "     [,1] [,2] [,3]\n",
       "[1,] 10   20    9  \n",
       "[2,] 10    4   11  "
      ]
     },
     "metadata": {},
     "output_type": "display_data"
    },
    {
     "data": {
      "text/plain": [
       "\n",
       "\tPearson's Chi-squared test\n",
       "\n",
       "data:  maledf\n",
       "X-squared = 8.1964, df = 2, p-value = 0.0166\n"
      ]
     },
     "metadata": {},
     "output_type": "display_data"
    }
   ],
   "source": [
    "# 3.4\n",
    "\n",
    "# set up contingency table for males\n",
    "(maledf <- matrix(c(10,10,20,4,9,11),ncol=3))\n",
    "\n",
    "# run chi-squared test for association for males\n",
    "chisq.test(maledf)\n"
   ]
  },
  {
   "cell_type": "code",
   "execution_count": 84,
   "id": "7fe22a8b",
   "metadata": {},
   "outputs": [
    {
     "data": {
      "text/html": [
       "<table>\n",
       "<tbody>\n",
       "\t<tr><td>18</td><td>18</td><td>12</td></tr>\n",
       "\t<tr><td>12</td><td> 4</td><td> 8</td></tr>\n",
       "</tbody>\n",
       "</table>\n"
      ],
      "text/latex": [
       "\\begin{tabular}{lll}\n",
       "\t 18 & 18 & 12\\\\\n",
       "\t 12 &  4 &  8\\\\\n",
       "\\end{tabular}\n"
      ],
      "text/markdown": [
       "\n",
       "| 18 | 18 | 12 |\n",
       "| 12 |  4 |  8 |\n",
       "\n"
      ],
      "text/plain": [
       "     [,1] [,2] [,3]\n",
       "[1,] 18   18   12  \n",
       "[2,] 12    4    8  "
      ]
     },
     "metadata": {},
     "output_type": "display_data"
    },
    {
     "data": {
      "text/plain": [
       "\n",
       "\tPearson's Chi-squared test\n",
       "\n",
       "data:  femaledf\n",
       "X-squared = 3.2727, df = 2, p-value = 0.1947\n"
      ]
     },
     "metadata": {},
     "output_type": "display_data"
    }
   ],
   "source": [
    "# set up contingency table for females\n",
    "(femaledf <- matrix(c(18,12,18,4,12,8),ncol=3))\n",
    "\n",
    "# run chi-squared test for association for males\n",
    "chisq.test(femaledf)"
   ]
  },
  {
   "cell_type": "code",
   "execution_count": 85,
   "id": "829e941b",
   "metadata": {},
   "outputs": [
    {
     "data": {
      "text/html": [
       "<table>\n",
       "<tbody>\n",
       "\t<tr><td>28</td><td>38</td><td>21</td></tr>\n",
       "\t<tr><td>22</td><td> 8</td><td>19</td></tr>\n",
       "</tbody>\n",
       "</table>\n"
      ],
      "text/latex": [
       "\\begin{tabular}{lll}\n",
       "\t 28 & 38 & 21\\\\\n",
       "\t 22 &  8 & 19\\\\\n",
       "\\end{tabular}\n"
      ],
      "text/markdown": [
       "\n",
       "| 28 | 38 | 21 |\n",
       "| 22 |  8 | 19 |\n",
       "\n"
      ],
      "text/plain": [
       "     [,1] [,2] [,3]\n",
       "[1,] 28   38   21  \n",
       "[2,] 22    8   19  "
      ]
     },
     "metadata": {},
     "output_type": "display_data"
    },
    {
     "data": {
      "text/plain": [
       "\n",
       "\tPearson's Chi-squared test\n",
       "\n",
       "data:  bothdf\n",
       "X-squared = 10.595, df = 2, p-value = 0.005005\n"
      ]
     },
     "metadata": {},
     "output_type": "display_data"
    }
   ],
   "source": [
    "# set up contingency table for both males and females\n",
    "(bothdf <- matrix(c(28,22,38,8,21,19),ncol=3))\n",
    "\n",
    "# run chi-squared test for association for males\n",
    "chisq.test(bothdf)"
   ]
  },
  {
   "cell_type": "code",
   "execution_count": 86,
   "id": "2f33de38",
   "metadata": {},
   "outputs": [
    {
     "data": {
      "text/plain": [
       "\n",
       "\tChi-squared test for given probabilities\n",
       "\n",
       "data:  reject\n",
       "X-squared = 8.6667, df = 4, p-value = 0.06999\n"
      ]
     },
     "metadata": {},
     "output_type": "display_data"
    }
   ],
   "source": [
    "# 3.5 goodness of fit for uniform distribution with mean 45/5=9. On\n",
    "# call to chisq.test() there is equal probability of rejection on\n",
    "# each day.\n",
    "\n",
    "reject<-c(15,8,5,5,12)\n",
    "probs<-c(1/5,1/5,1/5,1/5,1/5)\n",
    "\n",
    "chisq.test(reject,p=probs)"
   ]
  }
 ],
 "metadata": {
  "kernelspec": {
   "display_name": "R",
   "language": "R",
   "name": "ir"
  },
  "language_info": {
   "codemirror_mode": "r",
   "file_extension": ".r",
   "mimetype": "text/x-r-source",
   "name": "R",
   "pygments_lexer": "r",
   "version": "4.1.1"
  }
 },
 "nbformat": 4,
 "nbformat_minor": 5
}
