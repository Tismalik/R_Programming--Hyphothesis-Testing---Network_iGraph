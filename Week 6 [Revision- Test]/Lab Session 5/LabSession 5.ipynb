{
 "cells": [
  {
   "cell_type": "markdown",
   "id": "952af6c9",
   "metadata": {},
   "source": [
    "# Lab Session 5 (Multiple Linear Regression)\n",
    "# First Import Excel Document and View it"
   ]
  },
  {
   "cell_type": "code",
   "execution_count": 1,
   "id": "0776cce8",
   "metadata": {},
   "outputs": [
    {
     "name": "stderr",
     "output_type": "stream",
     "text": [
      "Registered S3 methods overwritten by 'tibble':\n",
      "  method     from  \n",
      "  format.tbl pillar\n",
      "  print.tbl  pillar\n",
      "\n"
     ]
    }
   ],
   "source": [
    "library(\"readxl\")\n",
    "\n",
    "# read the data from the excel spreadsheet::\n",
    "\n",
    "# first the Blood Pressure Prediction Data\n",
    "Lab4dataBP <- read_excel(\"MATPMD1LabSession5Data.xlsx\",\n",
    "sheet = \"BP Prediction Data\")\n",
    "\n",
    "# now the Blood Pressure Training Data\n",
    "Lab5dataBPTraining <- read_excel(\"MATPMD1LabSession5Data.xlsx\",\n",
    "sheet = \"BP Training Data\")\n",
    "\n",
    "# and now the Timber\n",
    "Lab5dataTimber <- read_excel(\"MATPMD1LabSession5Data.xlsx\",\n",
    "sheet = \"Timber\")"
   ]
  },
  {
   "cell_type": "code",
   "execution_count": 13,
   "id": "734cc165",
   "metadata": {},
   "outputs": [
    {
     "data": {
      "text/html": [
       "<style>\n",
       ".list-inline {list-style: none; margin:0; padding: 0}\n",
       ".list-inline>li {display: inline-block}\n",
       ".list-inline>li:not(:last-child)::after {content: \"\\00b7\"; padding: 0 .5ex}\n",
       "</style>\n",
       "<ol class=list-inline><li>'Age'</li><li>'Years'</li><li>'Weight'</li><li>'Height'</li><li>'Chin'</li><li>'Forearm'</li><li>'Calf'</li><li>'Pulse'</li><li>'Systol'</li><li>'Diastol'</li></ol>\n"
      ],
      "text/latex": [
       "\\begin{enumerate*}\n",
       "\\item 'Age'\n",
       "\\item 'Years'\n",
       "\\item 'Weight'\n",
       "\\item 'Height'\n",
       "\\item 'Chin'\n",
       "\\item 'Forearm'\n",
       "\\item 'Calf'\n",
       "\\item 'Pulse'\n",
       "\\item 'Systol'\n",
       "\\item 'Diastol'\n",
       "\\end{enumerate*}\n"
      ],
      "text/markdown": [
       "1. 'Age'\n",
       "2. 'Years'\n",
       "3. 'Weight'\n",
       "4. 'Height'\n",
       "5. 'Chin'\n",
       "6. 'Forearm'\n",
       "7. 'Calf'\n",
       "8. 'Pulse'\n",
       "9. 'Systol'\n",
       "10. 'Diastol'\n",
       "\n",
       "\n"
      ],
      "text/plain": [
       " [1] \"Age\"     \"Years\"   \"Weight\"  \"Height\"  \"Chin\"    \"Forearm\" \"Calf\"   \n",
       " [8] \"Pulse\"   \"Systol\"  \"Diastol\""
      ]
     },
     "metadata": {},
     "output_type": "display_data"
    },
    {
     "data": {
      "text/html": [
       "<style>\n",
       ".list-inline {list-style: none; margin:0; padding: 0}\n",
       ".list-inline>li {display: inline-block}\n",
       ".list-inline>li:not(:last-child)::after {content: \"\\00b7\"; padding: 0 .5ex}\n",
       "</style>\n",
       "<ol class=list-inline><li>'Age'</li><li>'Years'</li><li>'Weight'</li><li>'Height'</li><li>'Chin'</li><li>'Forearm'</li><li>'Calf'</li><li>'Pulse'</li><li>'Systol'</li><li>'Diastol'</li></ol>\n"
      ],
      "text/latex": [
       "\\begin{enumerate*}\n",
       "\\item 'Age'\n",
       "\\item 'Years'\n",
       "\\item 'Weight'\n",
       "\\item 'Height'\n",
       "\\item 'Chin'\n",
       "\\item 'Forearm'\n",
       "\\item 'Calf'\n",
       "\\item 'Pulse'\n",
       "\\item 'Systol'\n",
       "\\item 'Diastol'\n",
       "\\end{enumerate*}\n"
      ],
      "text/markdown": [
       "1. 'Age'\n",
       "2. 'Years'\n",
       "3. 'Weight'\n",
       "4. 'Height'\n",
       "5. 'Chin'\n",
       "6. 'Forearm'\n",
       "7. 'Calf'\n",
       "8. 'Pulse'\n",
       "9. 'Systol'\n",
       "10. 'Diastol'\n",
       "\n",
       "\n"
      ],
      "text/plain": [
       " [1] \"Age\"     \"Years\"   \"Weight\"  \"Height\"  \"Chin\"    \"Forearm\" \"Calf\"   \n",
       " [8] \"Pulse\"   \"Systol\"  \"Diastol\""
      ]
     },
     "metadata": {},
     "output_type": "display_data"
    },
    {
     "data": {
      "text/html": [
       "<style>\n",
       ".list-inline {list-style: none; margin:0; padding: 0}\n",
       ".list-inline>li {display: inline-block}\n",
       ".list-inline>li:not(:last-child)::after {content: \"\\00b7\"; padding: 0 .5ex}\n",
       "</style>\n",
       "<ol class=list-inline><li>'Diameter'</li><li>'Height'</li><li>'Volume'</li><li>'Grade'</li><li>'Location'</li></ol>\n"
      ],
      "text/latex": [
       "\\begin{enumerate*}\n",
       "\\item 'Diameter'\n",
       "\\item 'Height'\n",
       "\\item 'Volume'\n",
       "\\item 'Grade'\n",
       "\\item 'Location'\n",
       "\\end{enumerate*}\n"
      ],
      "text/markdown": [
       "1. 'Diameter'\n",
       "2. 'Height'\n",
       "3. 'Volume'\n",
       "4. 'Grade'\n",
       "5. 'Location'\n",
       "\n",
       "\n"
      ],
      "text/plain": [
       "[1] \"Diameter\" \"Height\"   \"Volume\"   \"Grade\"    \"Location\""
      ]
     },
     "metadata": {},
     "output_type": "display_data"
    }
   ],
   "source": [
    "# see what the column names in the data are\n",
    "colnames(Lab4dataBP)\n",
    "colnames(Lab5dataBPTraining)\n",
    "colnames(Lab5dataTimber)\n"
   ]
  },
  {
   "cell_type": "code",
   "execution_count": 14,
   "id": "dde919fa",
   "metadata": {},
   "outputs": [
    {
     "data": {
      "text/html": [
       "<table class=\"dataframe\">\n",
       "<caption>A tibble: 15 × 10</caption>\n",
       "<thead>\n",
       "\t<tr><th scope=col>Age</th><th scope=col>Years</th><th scope=col>Weight</th><th scope=col>Height</th><th scope=col>Chin</th><th scope=col>Forearm</th><th scope=col>Calf</th><th scope=col>Pulse</th><th scope=col>Systol</th><th scope=col>Diastol</th></tr>\n",
       "\t<tr><th scope=col>&lt;dbl&gt;</th><th scope=col>&lt;dbl&gt;</th><th scope=col>&lt;dbl&gt;</th><th scope=col>&lt;dbl&gt;</th><th scope=col>&lt;dbl&gt;</th><th scope=col>&lt;dbl&gt;</th><th scope=col>&lt;dbl&gt;</th><th scope=col>&lt;dbl&gt;</th><th scope=col>&lt;dbl&gt;</th><th scope=col>&lt;dbl&gt;</th></tr>\n",
       "</thead>\n",
       "<tbody>\n",
       "\t<tr><td>24</td><td> 5</td><td>56.0</td><td>1561</td><td> 3.3</td><td> 1.3</td><td> 4.3</td><td>68</td><td>125</td><td> 75</td></tr>\n",
       "\t<tr><td>24</td><td> 1</td><td>61.0</td><td>1619</td><td> 3.7</td><td> 3.0</td><td> 4.3</td><td>52</td><td>148</td><td>120</td></tr>\n",
       "\t<tr><td>25</td><td> 1</td><td>65.0</td><td>1566</td><td> 9.0</td><td>12.7</td><td>20.7</td><td>72</td><td>140</td><td> 78</td></tr>\n",
       "\t<tr><td>27</td><td>19</td><td>62.0</td><td>1639</td><td> 3.0</td><td> 3.3</td><td> 5.7</td><td>72</td><td>106</td><td> 72</td></tr>\n",
       "\t<tr><td>31</td><td> 6</td><td>65.0</td><td>1540</td><td>10.3</td><td> 9.0</td><td>10.0</td><td>76</td><td>124</td><td> 70</td></tr>\n",
       "\t<tr><td>37</td><td>17</td><td>57.0</td><td>1473</td><td> 6.0</td><td> 5.3</td><td>11.7</td><td>72</td><td>114</td><td> 80</td></tr>\n",
       "\t<tr><td>38</td><td>11</td><td>57.0</td><td>1566</td><td> 3.0</td><td> 3.0</td><td> 3.0</td><td>60</td><td>126</td><td> 72</td></tr>\n",
       "\t<tr><td>41</td><td>25</td><td>62.5</td><td>1637</td><td> 6.0</td><td> 5.3</td><td> 8.0</td><td>76</td><td>112</td><td> 80</td></tr>\n",
       "\t<tr><td>41</td><td>32</td><td>68.0</td><td>1528</td><td>10.0</td><td> 5.0</td><td>11.3</td><td>60</td><td>128</td><td> 82</td></tr>\n",
       "\t<tr><td>41</td><td> 5</td><td>63.4</td><td>1647</td><td> 5.3</td><td> 4.3</td><td>13.7</td><td>76</td><td>134</td><td> 92</td></tr>\n",
       "\t<tr><td>43</td><td>25</td><td>69.0</td><td>1625</td><td> 5.0</td><td> 3.0</td><td> 6.0</td><td>72</td><td>140</td><td> 72</td></tr>\n",
       "\t<tr><td>43</td><td>10</td><td>64.0</td><td>1640</td><td> 5.7</td><td> 3.0</td><td> 7.0</td><td>60</td><td>118</td><td> 66</td></tr>\n",
       "\t<tr><td>44</td><td>19</td><td>65.0</td><td>1610</td><td> 8.0</td><td> 6.7</td><td> 7.7</td><td>74</td><td>110</td><td> 70</td></tr>\n",
       "\t<tr><td>44</td><td>18</td><td>71.0</td><td>1572</td><td> 3.0</td><td> 4.7</td><td> 4.3</td><td>72</td><td>142</td><td> 84</td></tr>\n",
       "\t<tr><td>50</td><td>43</td><td>70.0</td><td>1630</td><td> 4.0</td><td> 6.0</td><td>11.7</td><td>72</td><td>132</td><td> 90</td></tr>\n",
       "</tbody>\n",
       "</table>\n"
      ],
      "text/latex": [
       "A tibble: 15 × 10\n",
       "\\begin{tabular}{llllllllll}\n",
       " Age & Years & Weight & Height & Chin & Forearm & Calf & Pulse & Systol & Diastol\\\\\n",
       " <dbl> & <dbl> & <dbl> & <dbl> & <dbl> & <dbl> & <dbl> & <dbl> & <dbl> & <dbl>\\\\\n",
       "\\hline\n",
       "\t 24 &  5 & 56.0 & 1561 &  3.3 &  1.3 &  4.3 & 68 & 125 &  75\\\\\n",
       "\t 24 &  1 & 61.0 & 1619 &  3.7 &  3.0 &  4.3 & 52 & 148 & 120\\\\\n",
       "\t 25 &  1 & 65.0 & 1566 &  9.0 & 12.7 & 20.7 & 72 & 140 &  78\\\\\n",
       "\t 27 & 19 & 62.0 & 1639 &  3.0 &  3.3 &  5.7 & 72 & 106 &  72\\\\\n",
       "\t 31 &  6 & 65.0 & 1540 & 10.3 &  9.0 & 10.0 & 76 & 124 &  70\\\\\n",
       "\t 37 & 17 & 57.0 & 1473 &  6.0 &  5.3 & 11.7 & 72 & 114 &  80\\\\\n",
       "\t 38 & 11 & 57.0 & 1566 &  3.0 &  3.0 &  3.0 & 60 & 126 &  72\\\\\n",
       "\t 41 & 25 & 62.5 & 1637 &  6.0 &  5.3 &  8.0 & 76 & 112 &  80\\\\\n",
       "\t 41 & 32 & 68.0 & 1528 & 10.0 &  5.0 & 11.3 & 60 & 128 &  82\\\\\n",
       "\t 41 &  5 & 63.4 & 1647 &  5.3 &  4.3 & 13.7 & 76 & 134 &  92\\\\\n",
       "\t 43 & 25 & 69.0 & 1625 &  5.0 &  3.0 &  6.0 & 72 & 140 &  72\\\\\n",
       "\t 43 & 10 & 64.0 & 1640 &  5.7 &  3.0 &  7.0 & 60 & 118 &  66\\\\\n",
       "\t 44 & 19 & 65.0 & 1610 &  8.0 &  6.7 &  7.7 & 74 & 110 &  70\\\\\n",
       "\t 44 & 18 & 71.0 & 1572 &  3.0 &  4.7 &  4.3 & 72 & 142 &  84\\\\\n",
       "\t 50 & 43 & 70.0 & 1630 &  4.0 &  6.0 & 11.7 & 72 & 132 &  90\\\\\n",
       "\\end{tabular}\n"
      ],
      "text/markdown": [
       "\n",
       "A tibble: 15 × 10\n",
       "\n",
       "| Age &lt;dbl&gt; | Years &lt;dbl&gt; | Weight &lt;dbl&gt; | Height &lt;dbl&gt; | Chin &lt;dbl&gt; | Forearm &lt;dbl&gt; | Calf &lt;dbl&gt; | Pulse &lt;dbl&gt; | Systol &lt;dbl&gt; | Diastol &lt;dbl&gt; |\n",
       "|---|---|---|---|---|---|---|---|---|---|\n",
       "| 24 |  5 | 56.0 | 1561 |  3.3 |  1.3 |  4.3 | 68 | 125 |  75 |\n",
       "| 24 |  1 | 61.0 | 1619 |  3.7 |  3.0 |  4.3 | 52 | 148 | 120 |\n",
       "| 25 |  1 | 65.0 | 1566 |  9.0 | 12.7 | 20.7 | 72 | 140 |  78 |\n",
       "| 27 | 19 | 62.0 | 1639 |  3.0 |  3.3 |  5.7 | 72 | 106 |  72 |\n",
       "| 31 |  6 | 65.0 | 1540 | 10.3 |  9.0 | 10.0 | 76 | 124 |  70 |\n",
       "| 37 | 17 | 57.0 | 1473 |  6.0 |  5.3 | 11.7 | 72 | 114 |  80 |\n",
       "| 38 | 11 | 57.0 | 1566 |  3.0 |  3.0 |  3.0 | 60 | 126 |  72 |\n",
       "| 41 | 25 | 62.5 | 1637 |  6.0 |  5.3 |  8.0 | 76 | 112 |  80 |\n",
       "| 41 | 32 | 68.0 | 1528 | 10.0 |  5.0 | 11.3 | 60 | 128 |  82 |\n",
       "| 41 |  5 | 63.4 | 1647 |  5.3 |  4.3 | 13.7 | 76 | 134 |  92 |\n",
       "| 43 | 25 | 69.0 | 1625 |  5.0 |  3.0 |  6.0 | 72 | 140 |  72 |\n",
       "| 43 | 10 | 64.0 | 1640 |  5.7 |  3.0 |  7.0 | 60 | 118 |  66 |\n",
       "| 44 | 19 | 65.0 | 1610 |  8.0 |  6.7 |  7.7 | 74 | 110 |  70 |\n",
       "| 44 | 18 | 71.0 | 1572 |  3.0 |  4.7 |  4.3 | 72 | 142 |  84 |\n",
       "| 50 | 43 | 70.0 | 1630 |  4.0 |  6.0 | 11.7 | 72 | 132 |  90 |\n",
       "\n"
      ],
      "text/plain": [
       "   Age Years Weight Height Chin Forearm Calf Pulse Systol Diastol\n",
       "1  24   5    56.0   1561    3.3  1.3     4.3 68    125     75    \n",
       "2  24   1    61.0   1619    3.7  3.0     4.3 52    148    120    \n",
       "3  25   1    65.0   1566    9.0 12.7    20.7 72    140     78    \n",
       "4  27  19    62.0   1639    3.0  3.3     5.7 72    106     72    \n",
       "5  31   6    65.0   1540   10.3  9.0    10.0 76    124     70    \n",
       "6  37  17    57.0   1473    6.0  5.3    11.7 72    114     80    \n",
       "7  38  11    57.0   1566    3.0  3.0     3.0 60    126     72    \n",
       "8  41  25    62.5   1637    6.0  5.3     8.0 76    112     80    \n",
       "9  41  32    68.0   1528   10.0  5.0    11.3 60    128     82    \n",
       "10 41   5    63.4   1647    5.3  4.3    13.7 76    134     92    \n",
       "11 43  25    69.0   1625    5.0  3.0     6.0 72    140     72    \n",
       "12 43  10    64.0   1640    5.7  3.0     7.0 60    118     66    \n",
       "13 44  19    65.0   1610    8.0  6.7     7.7 74    110     70    \n",
       "14 44  18    71.0   1572    3.0  4.7     4.3 72    142     84    \n",
       "15 50  43    70.0   1630    4.0  6.0    11.7 72    132     90    "
      ]
     },
     "metadata": {},
     "output_type": "display_data"
    },
    {
     "data": {
      "text/html": [
       "<table class=\"dataframe\">\n",
       "<caption>A tibble: 24 × 10</caption>\n",
       "<thead>\n",
       "\t<tr><th scope=col>Age</th><th scope=col>Years</th><th scope=col>Weight</th><th scope=col>Height</th><th scope=col>Chin</th><th scope=col>Forearm</th><th scope=col>Calf</th><th scope=col>Pulse</th><th scope=col>Systol</th><th scope=col>Diastol</th></tr>\n",
       "\t<tr><th scope=col>&lt;dbl&gt;</th><th scope=col>&lt;dbl&gt;</th><th scope=col>&lt;dbl&gt;</th><th scope=col>&lt;dbl&gt;</th><th scope=col>&lt;dbl&gt;</th><th scope=col>&lt;dbl&gt;</th><th scope=col>&lt;dbl&gt;</th><th scope=col>&lt;dbl&gt;</th><th scope=col>&lt;dbl&gt;</th><th scope=col>&lt;dbl&gt;</th></tr>\n",
       "</thead>\n",
       "<tbody>\n",
       "\t<tr><td>21</td><td> 1</td><td>71.0</td><td>1629</td><td> 8.0</td><td> 7.0</td><td>12.7</td><td>88</td><td>170</td><td>76</td></tr>\n",
       "\t<tr><td>22</td><td> 6</td><td>56.5</td><td>1569</td><td> 3.3</td><td> 5.0</td><td> 8.0</td><td>64</td><td>120</td><td>60</td></tr>\n",
       "\t<tr><td>28</td><td> 5</td><td>53.0</td><td>1494</td><td> 7.3</td><td> 4.7</td><td> 8.0</td><td>64</td><td>120</td><td>76</td></tr>\n",
       "\t<tr><td>28</td><td>25</td><td>53.0</td><td>1568</td><td> 3.7</td><td> 4.3</td><td> 0.0</td><td>80</td><td>108</td><td>62</td></tr>\n",
       "\t<tr><td>32</td><td>13</td><td>57.0</td><td>1530</td><td> 5.7</td><td> 4.0</td><td> 6.0</td><td>60</td><td>134</td><td>64</td></tr>\n",
       "\t<tr><td>33</td><td>13</td><td>66.5</td><td>1622</td><td> 6.0</td><td> 5.7</td><td> 8.3</td><td>68</td><td>116</td><td>76</td></tr>\n",
       "\t<tr><td>33</td><td>10</td><td>59.1</td><td>1486</td><td> 6.7</td><td> 5.3</td><td>10.3</td><td>72</td><td>114</td><td>74</td></tr>\n",
       "\t<tr><td>34</td><td>15</td><td>64.0</td><td>1578</td><td> 3.3</td><td> 5.3</td><td> 7.0</td><td>88</td><td>130</td><td>80</td></tr>\n",
       "\t<tr><td>35</td><td>18</td><td>69.5</td><td>1645</td><td> 9.3</td><td> 5.0</td><td> 7.0</td><td>60</td><td>118</td><td>68</td></tr>\n",
       "\t<tr><td>35</td><td> 2</td><td>64.0</td><td>1648</td><td> 3.0</td><td> 3.7</td><td> 6.7</td><td>60</td><td>138</td><td>78</td></tr>\n",
       "\t<tr><td>36</td><td>12</td><td>56.5</td><td>1521</td><td> 3.3</td><td> 5.0</td><td>11.7</td><td>72</td><td>134</td><td>86</td></tr>\n",
       "\t<tr><td>36</td><td>15</td><td>57.0</td><td>1547</td><td> 3.0</td><td> 3.0</td><td> 6.0</td><td>84</td><td>120</td><td>70</td></tr>\n",
       "\t<tr><td>37</td><td>16</td><td>55.0</td><td>1505</td><td> 4.3</td><td> 5.0</td><td> 7.0</td><td>64</td><td>120</td><td>76</td></tr>\n",
       "\t<tr><td>38</td><td>10</td><td>58.0</td><td>1538</td><td> 8.7</td><td> 6.0</td><td>13.0</td><td>64</td><td>124</td><td>64</td></tr>\n",
       "\t<tr><td>38</td><td>18</td><td>59.5</td><td>1513</td><td> 5.3</td><td> 4.0</td><td> 7.7</td><td>80</td><td>114</td><td>66</td></tr>\n",
       "\t<tr><td>38</td><td>11</td><td>61.0</td><td>1653</td><td> 4.0</td><td> 3.3</td><td> 4.0</td><td>76</td><td>136</td><td>78</td></tr>\n",
       "\t<tr><td>39</td><td>21</td><td>57.5</td><td>1580</td><td> 4.0</td><td> 3.0</td><td> 5.0</td><td>64</td><td>124</td><td>62</td></tr>\n",
       "\t<tr><td>39</td><td>24</td><td>74.0</td><td>1647</td><td> 7.3</td><td> 6.3</td><td>15.7</td><td>64</td><td>128</td><td>84</td></tr>\n",
       "\t<tr><td>39</td><td>14</td><td>72.0</td><td>1620</td><td> 6.3</td><td> 7.7</td><td>13.3</td><td>68</td><td>134</td><td>92</td></tr>\n",
       "\t<tr><td>42</td><td>12</td><td>68.0</td><td>1605</td><td>11.0</td><td> 7.0</td><td>10.7</td><td>88</td><td>128</td><td>90</td></tr>\n",
       "\t<tr><td>43</td><td>26</td><td>73.0</td><td>1615</td><td>12.0</td><td> 4.0</td><td> 5.7</td><td>68</td><td>138</td><td>74</td></tr>\n",
       "\t<tr><td>45</td><td>10</td><td>60.2</td><td>1534</td><td> 3.0</td><td> 3.0</td><td> 3.3</td><td>56</td><td>134</td><td>70</td></tr>\n",
       "\t<tr><td>47</td><td> 1</td><td>55.0</td><td>1536</td><td> 3.0</td><td> 3.0</td><td> 4.0</td><td>64</td><td>116</td><td>54</td></tr>\n",
       "\t<tr><td>54</td><td>40</td><td>87.0</td><td>1542</td><td>11.3</td><td>11.7</td><td>11.3</td><td>92</td><td>152</td><td>88</td></tr>\n",
       "</tbody>\n",
       "</table>\n"
      ],
      "text/latex": [
       "A tibble: 24 × 10\n",
       "\\begin{tabular}{llllllllll}\n",
       " Age & Years & Weight & Height & Chin & Forearm & Calf & Pulse & Systol & Diastol\\\\\n",
       " <dbl> & <dbl> & <dbl> & <dbl> & <dbl> & <dbl> & <dbl> & <dbl> & <dbl> & <dbl>\\\\\n",
       "\\hline\n",
       "\t 21 &  1 & 71.0 & 1629 &  8.0 &  7.0 & 12.7 & 88 & 170 & 76\\\\\n",
       "\t 22 &  6 & 56.5 & 1569 &  3.3 &  5.0 &  8.0 & 64 & 120 & 60\\\\\n",
       "\t 28 &  5 & 53.0 & 1494 &  7.3 &  4.7 &  8.0 & 64 & 120 & 76\\\\\n",
       "\t 28 & 25 & 53.0 & 1568 &  3.7 &  4.3 &  0.0 & 80 & 108 & 62\\\\\n",
       "\t 32 & 13 & 57.0 & 1530 &  5.7 &  4.0 &  6.0 & 60 & 134 & 64\\\\\n",
       "\t 33 & 13 & 66.5 & 1622 &  6.0 &  5.7 &  8.3 & 68 & 116 & 76\\\\\n",
       "\t 33 & 10 & 59.1 & 1486 &  6.7 &  5.3 & 10.3 & 72 & 114 & 74\\\\\n",
       "\t 34 & 15 & 64.0 & 1578 &  3.3 &  5.3 &  7.0 & 88 & 130 & 80\\\\\n",
       "\t 35 & 18 & 69.5 & 1645 &  9.3 &  5.0 &  7.0 & 60 & 118 & 68\\\\\n",
       "\t 35 &  2 & 64.0 & 1648 &  3.0 &  3.7 &  6.7 & 60 & 138 & 78\\\\\n",
       "\t 36 & 12 & 56.5 & 1521 &  3.3 &  5.0 & 11.7 & 72 & 134 & 86\\\\\n",
       "\t 36 & 15 & 57.0 & 1547 &  3.0 &  3.0 &  6.0 & 84 & 120 & 70\\\\\n",
       "\t 37 & 16 & 55.0 & 1505 &  4.3 &  5.0 &  7.0 & 64 & 120 & 76\\\\\n",
       "\t 38 & 10 & 58.0 & 1538 &  8.7 &  6.0 & 13.0 & 64 & 124 & 64\\\\\n",
       "\t 38 & 18 & 59.5 & 1513 &  5.3 &  4.0 &  7.7 & 80 & 114 & 66\\\\\n",
       "\t 38 & 11 & 61.0 & 1653 &  4.0 &  3.3 &  4.0 & 76 & 136 & 78\\\\\n",
       "\t 39 & 21 & 57.5 & 1580 &  4.0 &  3.0 &  5.0 & 64 & 124 & 62\\\\\n",
       "\t 39 & 24 & 74.0 & 1647 &  7.3 &  6.3 & 15.7 & 64 & 128 & 84\\\\\n",
       "\t 39 & 14 & 72.0 & 1620 &  6.3 &  7.7 & 13.3 & 68 & 134 & 92\\\\\n",
       "\t 42 & 12 & 68.0 & 1605 & 11.0 &  7.0 & 10.7 & 88 & 128 & 90\\\\\n",
       "\t 43 & 26 & 73.0 & 1615 & 12.0 &  4.0 &  5.7 & 68 & 138 & 74\\\\\n",
       "\t 45 & 10 & 60.2 & 1534 &  3.0 &  3.0 &  3.3 & 56 & 134 & 70\\\\\n",
       "\t 47 &  1 & 55.0 & 1536 &  3.0 &  3.0 &  4.0 & 64 & 116 & 54\\\\\n",
       "\t 54 & 40 & 87.0 & 1542 & 11.3 & 11.7 & 11.3 & 92 & 152 & 88\\\\\n",
       "\\end{tabular}\n"
      ],
      "text/markdown": [
       "\n",
       "A tibble: 24 × 10\n",
       "\n",
       "| Age &lt;dbl&gt; | Years &lt;dbl&gt; | Weight &lt;dbl&gt; | Height &lt;dbl&gt; | Chin &lt;dbl&gt; | Forearm &lt;dbl&gt; | Calf &lt;dbl&gt; | Pulse &lt;dbl&gt; | Systol &lt;dbl&gt; | Diastol &lt;dbl&gt; |\n",
       "|---|---|---|---|---|---|---|---|---|---|\n",
       "| 21 |  1 | 71.0 | 1629 |  8.0 |  7.0 | 12.7 | 88 | 170 | 76 |\n",
       "| 22 |  6 | 56.5 | 1569 |  3.3 |  5.0 |  8.0 | 64 | 120 | 60 |\n",
       "| 28 |  5 | 53.0 | 1494 |  7.3 |  4.7 |  8.0 | 64 | 120 | 76 |\n",
       "| 28 | 25 | 53.0 | 1568 |  3.7 |  4.3 |  0.0 | 80 | 108 | 62 |\n",
       "| 32 | 13 | 57.0 | 1530 |  5.7 |  4.0 |  6.0 | 60 | 134 | 64 |\n",
       "| 33 | 13 | 66.5 | 1622 |  6.0 |  5.7 |  8.3 | 68 | 116 | 76 |\n",
       "| 33 | 10 | 59.1 | 1486 |  6.7 |  5.3 | 10.3 | 72 | 114 | 74 |\n",
       "| 34 | 15 | 64.0 | 1578 |  3.3 |  5.3 |  7.0 | 88 | 130 | 80 |\n",
       "| 35 | 18 | 69.5 | 1645 |  9.3 |  5.0 |  7.0 | 60 | 118 | 68 |\n",
       "| 35 |  2 | 64.0 | 1648 |  3.0 |  3.7 |  6.7 | 60 | 138 | 78 |\n",
       "| 36 | 12 | 56.5 | 1521 |  3.3 |  5.0 | 11.7 | 72 | 134 | 86 |\n",
       "| 36 | 15 | 57.0 | 1547 |  3.0 |  3.0 |  6.0 | 84 | 120 | 70 |\n",
       "| 37 | 16 | 55.0 | 1505 |  4.3 |  5.0 |  7.0 | 64 | 120 | 76 |\n",
       "| 38 | 10 | 58.0 | 1538 |  8.7 |  6.0 | 13.0 | 64 | 124 | 64 |\n",
       "| 38 | 18 | 59.5 | 1513 |  5.3 |  4.0 |  7.7 | 80 | 114 | 66 |\n",
       "| 38 | 11 | 61.0 | 1653 |  4.0 |  3.3 |  4.0 | 76 | 136 | 78 |\n",
       "| 39 | 21 | 57.5 | 1580 |  4.0 |  3.0 |  5.0 | 64 | 124 | 62 |\n",
       "| 39 | 24 | 74.0 | 1647 |  7.3 |  6.3 | 15.7 | 64 | 128 | 84 |\n",
       "| 39 | 14 | 72.0 | 1620 |  6.3 |  7.7 | 13.3 | 68 | 134 | 92 |\n",
       "| 42 | 12 | 68.0 | 1605 | 11.0 |  7.0 | 10.7 | 88 | 128 | 90 |\n",
       "| 43 | 26 | 73.0 | 1615 | 12.0 |  4.0 |  5.7 | 68 | 138 | 74 |\n",
       "| 45 | 10 | 60.2 | 1534 |  3.0 |  3.0 |  3.3 | 56 | 134 | 70 |\n",
       "| 47 |  1 | 55.0 | 1536 |  3.0 |  3.0 |  4.0 | 64 | 116 | 54 |\n",
       "| 54 | 40 | 87.0 | 1542 | 11.3 | 11.7 | 11.3 | 92 | 152 | 88 |\n",
       "\n"
      ],
      "text/plain": [
       "   Age Years Weight Height Chin Forearm Calf Pulse Systol Diastol\n",
       "1  21   1    71.0   1629    8.0  7.0    12.7 88    170    76     \n",
       "2  22   6    56.5   1569    3.3  5.0     8.0 64    120    60     \n",
       "3  28   5    53.0   1494    7.3  4.7     8.0 64    120    76     \n",
       "4  28  25    53.0   1568    3.7  4.3     0.0 80    108    62     \n",
       "5  32  13    57.0   1530    5.7  4.0     6.0 60    134    64     \n",
       "6  33  13    66.5   1622    6.0  5.7     8.3 68    116    76     \n",
       "7  33  10    59.1   1486    6.7  5.3    10.3 72    114    74     \n",
       "8  34  15    64.0   1578    3.3  5.3     7.0 88    130    80     \n",
       "9  35  18    69.5   1645    9.3  5.0     7.0 60    118    68     \n",
       "10 35   2    64.0   1648    3.0  3.7     6.7 60    138    78     \n",
       "11 36  12    56.5   1521    3.3  5.0    11.7 72    134    86     \n",
       "12 36  15    57.0   1547    3.0  3.0     6.0 84    120    70     \n",
       "13 37  16    55.0   1505    4.3  5.0     7.0 64    120    76     \n",
       "14 38  10    58.0   1538    8.7  6.0    13.0 64    124    64     \n",
       "15 38  18    59.5   1513    5.3  4.0     7.7 80    114    66     \n",
       "16 38  11    61.0   1653    4.0  3.3     4.0 76    136    78     \n",
       "17 39  21    57.5   1580    4.0  3.0     5.0 64    124    62     \n",
       "18 39  24    74.0   1647    7.3  6.3    15.7 64    128    84     \n",
       "19 39  14    72.0   1620    6.3  7.7    13.3 68    134    92     \n",
       "20 42  12    68.0   1605   11.0  7.0    10.7 88    128    90     \n",
       "21 43  26    73.0   1615   12.0  4.0     5.7 68    138    74     \n",
       "22 45  10    60.2   1534    3.0  3.0     3.3 56    134    70     \n",
       "23 47   1    55.0   1536    3.0  3.0     4.0 64    116    54     \n",
       "24 54  40    87.0   1542   11.3 11.7    11.3 92    152    88     "
      ]
     },
     "metadata": {},
     "output_type": "display_data"
    },
    {
     "data": {
      "text/html": [
       "<table class=\"dataframe\">\n",
       "<caption>A tibble: 30 × 5</caption>\n",
       "<thead>\n",
       "\t<tr><th scope=col>Diameter</th><th scope=col>Height</th><th scope=col>Volume</th><th scope=col>Grade</th><th scope=col>Location</th></tr>\n",
       "\t<tr><th scope=col>&lt;dbl&gt;</th><th scope=col>&lt;dbl&gt;</th><th scope=col>&lt;dbl&gt;</th><th scope=col>&lt;chr&gt;</th><th scope=col>&lt;chr&gt;</th></tr>\n",
       "</thead>\n",
       "<tbody>\n",
       "\t<tr><td> 8.3</td><td>70</td><td> 6.3</td><td>Fair</td><td>Lower</td></tr>\n",
       "\t<tr><td>12.0</td><td>75</td><td>19.1</td><td>Med </td><td>Upper</td></tr>\n",
       "\t<tr><td>10.8</td><td>83</td><td>19.7</td><td>Med </td><td>Lower</td></tr>\n",
       "\t<tr><td>13.8</td><td>64</td><td>24.9</td><td>Good</td><td>Upper</td></tr>\n",
       "\t<tr><td>10.5</td><td>72</td><td>16.4</td><td>Good</td><td>Upper</td></tr>\n",
       "\t<tr><td>13.3</td><td>86</td><td>27.4</td><td>Med </td><td>Lower</td></tr>\n",
       "\t<tr><td>11.1</td><td>80</td><td>22.6</td><td>Fair</td><td>Lower</td></tr>\n",
       "\t<tr><td>14.5</td><td>74</td><td>36.3</td><td>Med </td><td>Upper</td></tr>\n",
       "\t<tr><td> 8.6</td><td>65</td><td> 6.3</td><td>Fair</td><td>Upper</td></tr>\n",
       "\t<tr><td>12.9</td><td>74</td><td>22.2</td><td>Med </td><td>Lower</td></tr>\n",
       "\t<tr><td>11.0</td><td>66</td><td>15.6</td><td>Fair</td><td>Lower</td></tr>\n",
       "\t<tr><td>14.0</td><td>78</td><td>34.5</td><td>Med </td><td>Lower</td></tr>\n",
       "\t<tr><td>10.7</td><td>81</td><td>18.8</td><td>Good</td><td>Upper</td></tr>\n",
       "\t<tr><td>13.7</td><td>71</td><td>25.7</td><td>Good</td><td>Lower</td></tr>\n",
       "\t<tr><td>11.2</td><td>75</td><td>19.9</td><td>Fair</td><td>Lower</td></tr>\n",
       "\t<tr><td>16.0</td><td>72</td><td>38.3</td><td>Good</td><td>Upper</td></tr>\n",
       "\t<tr><td> 8.8</td><td>63</td><td> 3.2</td><td>Fair</td><td>Lower</td></tr>\n",
       "\t<tr><td>12.9</td><td>85</td><td>33.8</td><td>Med </td><td>Lower</td></tr>\n",
       "\t<tr><td>11.0</td><td>75</td><td>18.2</td><td>Fair</td><td>Lower</td></tr>\n",
       "\t<tr><td>14.2</td><td>80</td><td>31.7</td><td>Good</td><td>Upper</td></tr>\n",
       "\t<tr><td>11.3</td><td>79</td><td>24.2</td><td>Med </td><td>Lower</td></tr>\n",
       "\t<tr><td>16.3</td><td>77</td><td>42.6</td><td>Good</td><td>Upper</td></tr>\n",
       "\t<tr><td>11.4</td><td>76</td><td>21.0</td><td>Fair</td><td>Lower</td></tr>\n",
       "\t<tr><td>17.3</td><td>81</td><td>55.4</td><td>Good</td><td>Upper</td></tr>\n",
       "\t<tr><td>11.4</td><td>76</td><td>21.4</td><td>Fair</td><td>Lower</td></tr>\n",
       "\t<tr><td>17.5</td><td>82</td><td>55.7</td><td>Fair</td><td>Upper</td></tr>\n",
       "\t<tr><td>11.7</td><td>69</td><td>21.3</td><td>Med </td><td>Upper</td></tr>\n",
       "\t<tr><td>17.9</td><td>80</td><td>58.3</td><td>Good</td><td>Upper</td></tr>\n",
       "\t<tr><td>18.0</td><td>80</td><td>51.5</td><td>Good</td><td>Upper</td></tr>\n",
       "\t<tr><td>15.0</td><td>60</td><td>30.0</td><td>Med </td><td>Upper</td></tr>\n",
       "</tbody>\n",
       "</table>\n"
      ],
      "text/latex": [
       "A tibble: 30 × 5\n",
       "\\begin{tabular}{lllll}\n",
       " Diameter & Height & Volume & Grade & Location\\\\\n",
       " <dbl> & <dbl> & <dbl> & <chr> & <chr>\\\\\n",
       "\\hline\n",
       "\t  8.3 & 70 &  6.3 & Fair & Lower\\\\\n",
       "\t 12.0 & 75 & 19.1 & Med  & Upper\\\\\n",
       "\t 10.8 & 83 & 19.7 & Med  & Lower\\\\\n",
       "\t 13.8 & 64 & 24.9 & Good & Upper\\\\\n",
       "\t 10.5 & 72 & 16.4 & Good & Upper\\\\\n",
       "\t 13.3 & 86 & 27.4 & Med  & Lower\\\\\n",
       "\t 11.1 & 80 & 22.6 & Fair & Lower\\\\\n",
       "\t 14.5 & 74 & 36.3 & Med  & Upper\\\\\n",
       "\t  8.6 & 65 &  6.3 & Fair & Upper\\\\\n",
       "\t 12.9 & 74 & 22.2 & Med  & Lower\\\\\n",
       "\t 11.0 & 66 & 15.6 & Fair & Lower\\\\\n",
       "\t 14.0 & 78 & 34.5 & Med  & Lower\\\\\n",
       "\t 10.7 & 81 & 18.8 & Good & Upper\\\\\n",
       "\t 13.7 & 71 & 25.7 & Good & Lower\\\\\n",
       "\t 11.2 & 75 & 19.9 & Fair & Lower\\\\\n",
       "\t 16.0 & 72 & 38.3 & Good & Upper\\\\\n",
       "\t  8.8 & 63 &  3.2 & Fair & Lower\\\\\n",
       "\t 12.9 & 85 & 33.8 & Med  & Lower\\\\\n",
       "\t 11.0 & 75 & 18.2 & Fair & Lower\\\\\n",
       "\t 14.2 & 80 & 31.7 & Good & Upper\\\\\n",
       "\t 11.3 & 79 & 24.2 & Med  & Lower\\\\\n",
       "\t 16.3 & 77 & 42.6 & Good & Upper\\\\\n",
       "\t 11.4 & 76 & 21.0 & Fair & Lower\\\\\n",
       "\t 17.3 & 81 & 55.4 & Good & Upper\\\\\n",
       "\t 11.4 & 76 & 21.4 & Fair & Lower\\\\\n",
       "\t 17.5 & 82 & 55.7 & Fair & Upper\\\\\n",
       "\t 11.7 & 69 & 21.3 & Med  & Upper\\\\\n",
       "\t 17.9 & 80 & 58.3 & Good & Upper\\\\\n",
       "\t 18.0 & 80 & 51.5 & Good & Upper\\\\\n",
       "\t 15.0 & 60 & 30.0 & Med  & Upper\\\\\n",
       "\\end{tabular}\n"
      ],
      "text/markdown": [
       "\n",
       "A tibble: 30 × 5\n",
       "\n",
       "| Diameter &lt;dbl&gt; | Height &lt;dbl&gt; | Volume &lt;dbl&gt; | Grade &lt;chr&gt; | Location &lt;chr&gt; |\n",
       "|---|---|---|---|---|\n",
       "|  8.3 | 70 |  6.3 | Fair | Lower |\n",
       "| 12.0 | 75 | 19.1 | Med  | Upper |\n",
       "| 10.8 | 83 | 19.7 | Med  | Lower |\n",
       "| 13.8 | 64 | 24.9 | Good | Upper |\n",
       "| 10.5 | 72 | 16.4 | Good | Upper |\n",
       "| 13.3 | 86 | 27.4 | Med  | Lower |\n",
       "| 11.1 | 80 | 22.6 | Fair | Lower |\n",
       "| 14.5 | 74 | 36.3 | Med  | Upper |\n",
       "|  8.6 | 65 |  6.3 | Fair | Upper |\n",
       "| 12.9 | 74 | 22.2 | Med  | Lower |\n",
       "| 11.0 | 66 | 15.6 | Fair | Lower |\n",
       "| 14.0 | 78 | 34.5 | Med  | Lower |\n",
       "| 10.7 | 81 | 18.8 | Good | Upper |\n",
       "| 13.7 | 71 | 25.7 | Good | Lower |\n",
       "| 11.2 | 75 | 19.9 | Fair | Lower |\n",
       "| 16.0 | 72 | 38.3 | Good | Upper |\n",
       "|  8.8 | 63 |  3.2 | Fair | Lower |\n",
       "| 12.9 | 85 | 33.8 | Med  | Lower |\n",
       "| 11.0 | 75 | 18.2 | Fair | Lower |\n",
       "| 14.2 | 80 | 31.7 | Good | Upper |\n",
       "| 11.3 | 79 | 24.2 | Med  | Lower |\n",
       "| 16.3 | 77 | 42.6 | Good | Upper |\n",
       "| 11.4 | 76 | 21.0 | Fair | Lower |\n",
       "| 17.3 | 81 | 55.4 | Good | Upper |\n",
       "| 11.4 | 76 | 21.4 | Fair | Lower |\n",
       "| 17.5 | 82 | 55.7 | Fair | Upper |\n",
       "| 11.7 | 69 | 21.3 | Med  | Upper |\n",
       "| 17.9 | 80 | 58.3 | Good | Upper |\n",
       "| 18.0 | 80 | 51.5 | Good | Upper |\n",
       "| 15.0 | 60 | 30.0 | Med  | Upper |\n",
       "\n"
      ],
      "text/plain": [
       "   Diameter Height Volume Grade Location\n",
       "1   8.3     70      6.3   Fair  Lower   \n",
       "2  12.0     75     19.1   Med   Upper   \n",
       "3  10.8     83     19.7   Med   Lower   \n",
       "4  13.8     64     24.9   Good  Upper   \n",
       "5  10.5     72     16.4   Good  Upper   \n",
       "6  13.3     86     27.4   Med   Lower   \n",
       "7  11.1     80     22.6   Fair  Lower   \n",
       "8  14.5     74     36.3   Med   Upper   \n",
       "9   8.6     65      6.3   Fair  Upper   \n",
       "10 12.9     74     22.2   Med   Lower   \n",
       "11 11.0     66     15.6   Fair  Lower   \n",
       "12 14.0     78     34.5   Med   Lower   \n",
       "13 10.7     81     18.8   Good  Upper   \n",
       "14 13.7     71     25.7   Good  Lower   \n",
       "15 11.2     75     19.9   Fair  Lower   \n",
       "16 16.0     72     38.3   Good  Upper   \n",
       "17  8.8     63      3.2   Fair  Lower   \n",
       "18 12.9     85     33.8   Med   Lower   \n",
       "19 11.0     75     18.2   Fair  Lower   \n",
       "20 14.2     80     31.7   Good  Upper   \n",
       "21 11.3     79     24.2   Med   Lower   \n",
       "22 16.3     77     42.6   Good  Upper   \n",
       "23 11.4     76     21.0   Fair  Lower   \n",
       "24 17.3     81     55.4   Good  Upper   \n",
       "25 11.4     76     21.4   Fair  Lower   \n",
       "26 17.5     82     55.7   Fair  Upper   \n",
       "27 11.7     69     21.3   Med   Upper   \n",
       "28 17.9     80     58.3   Good  Upper   \n",
       "29 18.0     80     51.5   Good  Upper   \n",
       "30 15.0     60     30.0   Med   Upper   "
      ]
     },
     "metadata": {},
     "output_type": "display_data"
    }
   ],
   "source": [
    "View(Lab4dataBP)\n",
    "View(Lab5dataBPTraining)\n",
    "View(Lab5dataTimber)"
   ]
  },
  {
   "cell_type": "markdown",
   "id": "0a2c567e",
   "metadata": {},
   "source": [
    "# Question 1"
   ]
  },
  {
   "cell_type": "code",
   "execution_count": 7,
   "id": "77de96c3",
   "metadata": {},
   "outputs": [
    {
     "data": {
      "text/plain": [
       "\n",
       "Call:\n",
       "lm(formula = Systol ~ Years + Weight, data = Lab5dataBPTraining)\n",
       "\n",
       "Residuals:\n",
       "     Min       1Q   Median       3Q      Max \n",
       "-17.4451  -7.3573   0.0546   7.0532  23.1420 \n",
       "\n",
       "Coefficients:\n",
       "            Estimate Std. Error t value Pr(>|t|)    \n",
       "(Intercept)  54.2960    17.2048   3.156 0.004767 ** \n",
       "Years        -0.6256     0.2805  -2.230 0.036765 *  \n",
       "Weight        1.3125     0.2991   4.388 0.000257 ***\n",
       "---\n",
       "Signif. codes:  0 '***' 0.001 '**' 0.01 '*' 0.05 '.' 0.1 ' ' 1\n",
       "\n",
       "Residual standard error: 10.24 on 21 degrees of freedom\n",
       "Multiple R-squared:  0.4783,\tAdjusted R-squared:  0.4286 \n",
       "F-statistic: 9.627 on 2 and 21 DF,  p-value: 0.001078\n"
      ]
     },
     "metadata": {},
     "output_type": "display_data"
    }
   ],
   "source": [
    "#Multi linear Regression model for training Data\n",
    "#Trained/Tuned in example 10.2.8 to select years & Weight as best fit.\n",
    "library(\"readxl\")\n",
    "\n",
    "Lab5dataBPTraining <- read_excel(\"MATPMD1LabSession5Data.xlsx\",\n",
    "sheet = \"BP Training Data\")\n",
    "\n",
    "bp_Model<-lm(data=Lab5dataBPTraining, Systol ~ Years+Weight)\n",
    "\n",
    "summary(bp_Model)"
   ]
  },
  {
   "cell_type": "code",
   "execution_count": 12,
   "id": "884f7fc9",
   "metadata": {},
   "outputs": [
    {
     "name": "stderr",
     "output_type": "stream",
     "text": [
      "The following objects are masked from Lab4dataBP (pos = 3):\n",
      "\n",
      "    Age, Calf, Chin, Diastol, Forearm, Height, Pulse, Systol, Weight,\n",
      "    Years\n",
      "\n",
      "\n",
      "The following objects are masked from Lab4dataBP (pos = 4):\n",
      "\n",
      "    Age, Calf, Chin, Diastol, Forearm, Height, Pulse, Systol, Weight,\n",
      "    Years\n",
      "\n",
      "\n"
     ]
    },
    {
     "data": {
      "text/html": [
       "<style>\n",
       ".list-inline {list-style: none; margin:0; padding: 0}\n",
       ".list-inline>li {display: inline-block}\n",
       ".list-inline>li:not(:last-child)::after {content: \"\\00b7\"; padding: 0 .5ex}\n",
       "</style>\n",
       "<ol class=list-inline><li>'Age'</li><li>'Years'</li><li>'Weight'</li><li>'Height'</li><li>'Chin'</li><li>'Forearm'</li><li>'Calf'</li><li>'Pulse'</li><li>'Systol'</li><li>'Diastol'</li></ol>\n"
      ],
      "text/latex": [
       "\\begin{enumerate*}\n",
       "\\item 'Age'\n",
       "\\item 'Years'\n",
       "\\item 'Weight'\n",
       "\\item 'Height'\n",
       "\\item 'Chin'\n",
       "\\item 'Forearm'\n",
       "\\item 'Calf'\n",
       "\\item 'Pulse'\n",
       "\\item 'Systol'\n",
       "\\item 'Diastol'\n",
       "\\end{enumerate*}\n"
      ],
      "text/markdown": [
       "1. 'Age'\n",
       "2. 'Years'\n",
       "3. 'Weight'\n",
       "4. 'Height'\n",
       "5. 'Chin'\n",
       "6. 'Forearm'\n",
       "7. 'Calf'\n",
       "8. 'Pulse'\n",
       "9. 'Systol'\n",
       "10. 'Diastol'\n",
       "\n",
       "\n"
      ],
      "text/plain": [
       " [1] \"Age\"     \"Years\"   \"Weight\"  \"Height\"  \"Chin\"    \"Forearm\" \"Calf\"   \n",
       " [8] \"Pulse\"   \"Systol\"  \"Diastol\""
      ]
     },
     "metadata": {},
     "output_type": "display_data"
    },
    {
     "name": "stdout",
     "output_type": "stream",
     "text": [
      "[1] 15\n"
     ]
    }
   ],
   "source": [
    "# Test model above on Prediction data and See if it generate similar \n",
    "# Results for unseen data\n",
    "# Note: Remember you are not building a new model for the test/prediction Data\n",
    "\n",
    "Lab4dataBP <- read_excel(\"MATPMD1LabSession5Data.xlsx\",\n",
    "sheet = \"BP Prediction Data\")\n",
    "\n",
    "attach(Lab4dataBP)\n",
    "colnames(Lab4dataBP)\n",
    "\n",
    "#sample size\n",
    "n <- length(Systol)\n",
    "\n",
    "\n"
   ]
  },
  {
   "cell_type": "code",
   "execution_count": 21,
   "id": "e6194a65",
   "metadata": {},
   "outputs": [],
   "source": [
    "# Model Equation\n",
    "bp_pred <- 54.2960 - (0.6256*Years) + (1.3125*Weight)\n",
    "\n"
   ]
  },
  {
   "cell_type": "code",
   "execution_count": 22,
   "id": "773332ca",
   "metadata": {},
   "outputs": [
    {
     "data": {
      "image/png": "[encoded data removed]",
      "text/plain": [
       "plot without title"
      ]
     },
     "metadata": {
      "image/png": {
       "height": 420,
       "width": 420
      }
     },
     "output_type": "display_data"
    }
   ],
   "source": [
    "# Plot Predicted Values using Model Equation\n",
    "plot(Systol, bp_pred, xlim = c(100,160), ylim = c(100,160))\n",
    "abline(0,1,lty=2) #line through X,y axis to evaluate predictions\n"
   ]
  },
  {
   "cell_type": "markdown",
   "id": "b5255614",
   "metadata": {},
   "source": [
    "<h2>Observation::</h2>\n",
    "<h2> Only About 3 predictions were precise to a high degree </h2>\n",
    "<h3> In general the accuracy is a bit poor/average</h3>\n",
    "<p> But, to do this more scientifically we can \"measure the predictive performance of the model\" by comparing\n",
    "the 'predicted values' against the 'observed values' of the SBP and calculate the \n",
    "    <i>'coefficient of determination' -> (R^2)</i></p>"
   ]
  },
  {
   "cell_type": "code",
   "execution_count": 27,
   "id": "5ef3848b",
   "metadata": {},
   "outputs": [
    {
     "data": {
      "text/html": [
       "'SStot is: 2295.60000000001'"
      ],
      "text/latex": [
       "'SStot is: 2295.60000000001'"
      ],
      "text/markdown": [
       "'SStot is: 2295.60000000001'"
      ],
      "text/plain": [
       "[1] \"SStot is: 2295.60000000001\""
      ]
     },
     "metadata": {},
     "output_type": "display_data"
    },
    {
     "data": {
      "text/html": [
       "'SSres is: 1582.596881439'"
      ],
      "text/latex": [
       "'SSres is: 1582.596881439'"
      ],
      "text/markdown": [
       "'SSres is: 1582.596881439'"
      ],
      "text/plain": [
       "[1] \"SSres is: 1582.596881439\""
      ]
     },
     "metadata": {},
     "output_type": "display_data"
    },
    {
     "data": {
      "text/html": [
       "'R2 is: 0.31059553866571'"
      ],
      "text/latex": [
       "'R2 is: 0.31059553866571'"
      ],
      "text/markdown": [
       "'R2 is: 0.31059553866571'"
      ],
      "text/plain": [
       "[1] \"R2 is: 0.31059553866571\""
      ]
     },
     "metadata": {},
     "output_type": "display_data"
    }
   ],
   "source": [
    "# Remember Rsquared -> \" R2 = 1 - (SSreg / SStot) \"\"\n",
    "\n",
    "# find SStot\n",
    "SStot <- sum((Systol)^2)-(sum(Systol))^2/n  #rem n = sample size\n",
    "paste(\"SStot is:\",SStot)\n",
    "\n",
    "# Find SSres\n",
    "bdPredDiff <- bp_pred-Systol\n",
    "SSres <- sum(bdPredDiff^2) -(sum(bdPredDiff)^2/n)\n",
    "paste(\"SSres is:\",SSres)\n",
    "\n",
    "R2 <- 1 - (SSres/SStot)\n",
    "paste(\"R2 is:\",R2)\n",
    "\n",
    "detach(Lab4dataBP)\n",
    "\n",
    "#Thushighlighted in observation R2 value is quite poor"
   ]
  },
  {
   "cell_type": "markdown",
   "id": "53566045",
   "metadata": {},
   "source": [
    "# Question 2"
   ]
  },
  {
   "cell_type": "code",
   "execution_count": 28,
   "id": "9d0577a3",
   "metadata": {},
   "outputs": [],
   "source": [
    "#First Return to Timber example from 10.27\n"
   ]
  }
 ],
 "metadata": {
  "kernelspec": {
   "display_name": "R",
   "language": "R",
   "name": "ir"
  },
  "language_info": {
   "codemirror_mode": "r",
   "file_extension": ".r",
   "mimetype": "text/x-r-source",
   "name": "R",
   "pygments_lexer": "r",
   "version": "3.6.3"
  }
 },
 "nbformat": 4,
 "nbformat_minor": 5
}
