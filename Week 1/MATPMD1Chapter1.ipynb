{
 "cells": [
  {
   "cell_type": "code",
   "execution_count": 2,
   "metadata": {
    "slideshow": {
     "slide_type": "notes"
    }
   },
   "outputs": [
    {
     "data": {
      "text/html": [
       "\n",
       "        <style>\n",
       "            body {background-color: grey;\n",
       "                  color: black;\n",
       "                  font-family: Calibri, sans-serif;\n",
       "                  font-size: 100%;\n",
       "            }\n",
       "            h1 {color: black;\n",
       "                font-size: 200%;\n",
       "            }\n",
       "            h2 {color: black;\n",
       "                font-size: 150%;\n",
       "            }\n",
       "            h3 {color: black;\n",
       "                font-size: 100%;\n",
       "            }\n",
       "            p {padding: 10px 0px 10px;\n",
       "               text-align: justify;\n",
       "            }\n",
       "            li {line-height: 100%;\n",
       "                padding-top: 1%;\n",
       "                padding-bottom: 1%;\n",
       "                text-align: justify;\n",
       "            }\n",
       "            strong {font-weight: bold;\n",
       "            }\n",
       "            /* types of lists */\n",
       "            ul.nobull {\n",
       "                 list-style-type: none;\n",
       "            }\n",
       "            ol.i {\n",
       "                list-style-type: lower-roman;\n",
       "            }\n",
       "            ol.a {\n",
       "                list-style-type: lower-alpha;\n",
       "            }\n",
       "            ol.A {\n",
       "                list-style-type: upper-alpha;\n",
       "            }\n",
       "            /* this is to make text justified in paragraphs and lists*/\n",
       "            .text_cell_render p {\n",
       "                text-align: justify;\n",
       "                text-justify: inter-word;\n",
       "            }\n",
       "            .text_cell_render li {\n",
       "                text-align: justify;\n",
       "                text-justify: inter-word;\n",
       "            }\n",
       "            .rendered_html table, .rendered_html td, .rendered_html th {font-size: 100%;\n",
       "            }\n",
       "            .container {\n",
       "                width: 80% !important;\n",
       "            }\n",
       "        </style>\n",
       "    "
      ]
     },
     "metadata": {},
     "output_type": "display_data"
    }
   ],
   "source": [
    "##### SETUP THE LOOK AND FEEL OF OUR NOTEBOOK FOR MATPMD1 #####\n",
    "\n",
    "# Call out to HTML & javascript to set our look and feel. We need libraries IRdisplay and js for this.\n",
    "library(\"IRdisplay\")\n",
    "\n",
    "ChangeDisplaySettings<-TRUE\n",
    "if (ChangeDisplaySettings == TRUE) {\n",
    "\n",
    "    # This command will change the size of R plots. Adjust width and height to suit.\n",
    "    options(repr.plot.width=8,repr.plot.height=6)\n",
    "\n",
    "    # The following changes font size and colour for notebook pages\n",
    "\n",
    "    display_html(\"\n",
    "        <style>\n",
    "            body {background-color: grey;\n",
    "                  color: black;\n",
    "                  font-family: Calibri, sans-serif;\n",
    "                  font-size: 100%;\n",
    "            }\n",
    "            h1 {color: black;\n",
    "                font-size: 200%;\n",
    "            }\n",
    "            h2 {color: black;\n",
    "                font-size: 150%;\n",
    "            }\n",
    "            h3 {color: black;\n",
    "                font-size: 100%;\n",
    "            }\n",
    "            p {padding: 10px 0px 10px;\n",
    "               text-align: justify;\n",
    "            }\n",
    "            li {line-height: 100%;\n",
    "                padding-top: 1%;\n",
    "                padding-bottom: 1%;\n",
    "                text-align: justify;\n",
    "            }\n",
    "            strong {font-weight: bold;\n",
    "            }\n",
    "            /* types of lists */\n",
    "            ul.nobull {\n",
    "                 list-style-type: none;\n",
    "            }\n",
    "            ol.i {\n",
    "                list-style-type: lower-roman;\n",
    "            }\n",
    "            ol.a {\n",
    "                list-style-type: lower-alpha;\n",
    "            }\n",
    "            ol.A {\n",
    "                list-style-type: upper-alpha;\n",
    "            }\n",
    "            /* this is to make text justified in paragraphs and lists*/\n",
    "            .text_cell_render p {\n",
    "                text-align: justify;\n",
    "                text-justify: inter-word;\n",
    "            }\n",
    "            .text_cell_render li {\n",
    "                text-align: justify;\n",
    "                text-justify: inter-word;\n",
    "            }\n",
    "            .rendered_html table, .rendered_html td, .rendered_html th {font-size: 100%;\n",
    "            }\n",
    "            .container {\n",
    "                width: 80% !important;\n",
    "            }\n",
    "        </style>\n",
    "    \")\n",
    "}"
   ]
  },
  {
   "cell_type": "markdown",
   "metadata": {
    "slideshow": {
     "slide_type": "slide"
    }
   },
   "source": [
    "<html>\n",
    "<head>\n",
    "    <h2>University of Stirling</h2>\n",
    "    <h2>Computing Science and Mathematics</h2>\n",
    "    <h2>MATPMD1 Statistics for Data Science</h2>\n",
    "    <h1>Chapter 1  General Background\n",
    "    </h1>    \n",
    "</head>"
   ]
  },
  {
   "cell_type": "markdown",
   "metadata": {
    "slideshow": {
     "slide_type": "slide"
    }
   },
   "source": [
    "<body>\n",
    "    <p> Two important branches of applied mathematics are <strong>Probability Theory</strong> and <strong>Statistics</strong>.\n",
    "    </p>\n",
    "    <p>There has been a rapid expansion in both the theory and application of both these areas in the last 100 years and in particular in the years since the advent of powerful computers.\n",
    "    </p>\n",
    "</body>"
   ]
  },
  {
   "cell_type": "markdown",
   "metadata": {
    "slideshow": {
     "slide_type": "slide"
    }
   },
   "source": [
    "<body>    \n",
    "    <p>Many statistical techniques have been developed as a result of this. In this module we are going to investigate some of these. We are going to:\n",
    "    <ul>\n",
    "        <li>consider different types of data and how to visualise them\n",
    "        </li>\n",
    "        <li>conduct statistical tests to better understand a set of data\n",
    "        </li>\n",
    "        <li>reflect on appropriate choice of data collection method and application of statistical tests\n",
    "    </ul>\n",
    "</body>"
   ]
  },
  {
   "cell_type": "markdown",
   "metadata": {
    "slideshow": {
     "slide_type": "slide"
    }
   },
   "source": [
    "<body>\n",
    "    <p>We will be using the statistical programming language R to visualise data and conduct tests.\n",
    "    </p>\n",
    "    <p>Code snippets illustrating how to perform these statistical procedures in R can be found throughout the following chapters.\n",
    "    </p>\n",
    "</body>"
   ]
  },
  {
   "cell_type": "markdown",
   "metadata": {
    "slideshow": {
     "slide_type": "slide"
    }
   },
   "source": [
    "<body>\n",
    "    <h2> 1.2 Definition of Statistics\n",
    "    </h2>\n",
    "    <p>The term Statistics can be described as:\n",
    "        <ul>\n",
    "            <li>A collection of data, originally about the state of the nation e.g. size of the population, levels of trade or unemployment. The dictionary definition is a (large) collection of numerical facts or figures. \n",
    "            </li>\n",
    "            <li>Alternatively, Statistics is 'the Science concerned with the collection, classification and interpretation of data'.\n",
    "            </li>\n",
    "        </ul>\n",
    "</body>"
   ]
  },
  {
   "cell_type": "markdown",
   "metadata": {
    "slideshow": {
     "slide_type": "slide"
    }
   },
   "source": [
    "<body>\n",
    "    <h2> 1.3 Statistical methods\n",
    "    </h2>\n",
    "    <p>In this module we shall make a distinction between two different types of problem which involve using different elements of statistics which we label:\n",
    "    </p>\n",
    "    <ol class=\"A\">\n",
    "        <li>Descriptive Statistics</li>\n",
    "        <li>Statistical Inference</li>\n",
    "    </ol>\n",
    "</body>"
   ]
  },
  {
   "cell_type": "markdown",
   "metadata": {
    "slideshow": {
     "slide_type": "slide"
    }
   },
   "source": [
    "<body>\n",
    "    <h3>1.3.1 Descriptive Statistics\n",
    "    </h3>\n",
    "    <p>Descriptive Statistics aid understanding of a set of data by providing measures that can be used to summarise the characteristics of the data.\n",
    "    </p>\n",
    "    <p>These measures can give an overview of how variable the data is, or how spread out the data is.\n",
    "    </p>\n",
    "</body>"
   ]
  },
  {
   "cell_type": "markdown",
   "metadata": {
    "slideshow": {
     "slide_type": "slide"
    }
   },
   "source": [
    "<body>\n",
    "    <h3>1.3.2 Statistical Inference\n",
    "    </h3>\n",
    "    <p>In many cases we will want to extrapolate conclusions from a <strong>sample</strong> and apply them to a wider <strong>population</strong>.\n",
    "    </p>\n",
    "    <p>In many other cases we may be looking at problems where we wish to draw general conclusions on the basis of a limited amount of data.\n",
    "    </p>\n",
    "</body>"
   ]
  },
  {
   "cell_type": "markdown",
   "metadata": {
    "slideshow": {
     "slide_type": "slide"
    }
   },
   "source": [
    "<body>\n",
    "    <p>In both cases, because they are based on a subset of the whole population, the conclusions will be subject to uncertainty. \n",
    "    </p>\n",
    "    <p>Inference is the branch of Statistics which attempts to quantify the uncertainty using probability and related measures. This will involve model testing and estimation.\n",
    "    </p>\n",
    "</body>"
   ]
  },
  {
   "cell_type": "markdown",
   "metadata": {
    "slideshow": {
     "slide_type": "slide"
    }
   },
   "source": [
    "<body>\n",
    "    <h2>1.4 Population sampling\n",
    "    </h2>\n",
    "    <p>You will hopefully see that one very important aspect of statistics is the choice of the sample. \n",
    "    </p>\n",
    "    <p>When a population is too large to gather data for every single one of its members, sampling is performed on a subset of the population.\n",
    "    </p>\n",
    "</body> "
   ]
  },
  {
   "cell_type": "markdown",
   "metadata": {
    "slideshow": {
     "slide_type": "slide"
    }
   },
   "source": [
    "<body>\n",
    "    <p>For example, the use of opinion polls or a survey of television viewing would usually be conducted only in a subset of the population.\n",
    "    </p>\n",
    "    <p>This is a very common type of study in that it is usually not feasible to examine the entire population of interest so information is collected on a representative sample and we use the results from the sample to infer the results for the population.\n",
    "    </p>\n",
    "</body>"
   ]
  },
  {
   "cell_type": "markdown",
   "metadata": {
    "slideshow": {
     "slide_type": "slide"
    }
   },
   "source": [
    "<body>\n",
    "    <h2>1.5 Methodologies: Descriptive and Inference\n",
    "    </h2>\n",
    "    <p>Statisticians are concerned with the design of appropriate methods of data collection. The design of the experiment is of crucial importance if the analysis of the data is going to yield the greatest amount of correct and accurate information.\n",
    "    </p>\n",
    "    <p>However, if we do not wish to extrapolate our conclusions to a wider population and only want to describe the data already collected, this would technically be termed using descriptive statistics.\n",
    "    </p>\n",
    "</body>"
   ]
  },
  {
   "cell_type": "markdown",
   "metadata": {
    "slideshow": {
     "slide_type": "notes"
    }
   },
   "source": [
    "<body>\n",
    "    <p>Therefore, we can clearly identify the two different methodologies that we will follow in practice (A <strong>Descriptive Statistics</strong> and B <strong>Statistical Inference</strong>):\n",
    "    </p>\n",
    "    <img src=\"MATPMD1Chapter1Fig1.png\" style=\"width:75%\" >\n",
    "</body>"
   ]
  },
  {
   "cell_type": "markdown",
   "metadata": {
    "slideshow": {
     "slide_type": "slide"
    }
   },
   "source": [
    "<body>\n",
    "    <h2>1.6 Statistics everywhere\n",
    "    </h2>\n",
    "    <p>The science of <strong>Statistics</strong> is applied in a vast array of disciplines and a wide variety of contexts e.g. Social Sciences.\n",
    "</body>"
   ]
  }
 ],
 "metadata": {
  "celltoolbar": "Slideshow",
  "kernelspec": {
   "display_name": "R",
   "language": "R",
   "name": "ir"
  },
  "language_info": {
   "codemirror_mode": "r",
   "file_extension": ".r",
   "mimetype": "text/x-r-source",
   "name": "R",
   "pygments_lexer": "r",
   "version": "4.1.1"
  }
 },
 "nbformat": 4,
 "nbformat_minor": 4
}
