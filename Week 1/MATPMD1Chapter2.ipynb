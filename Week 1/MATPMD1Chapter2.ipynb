{
 "cells": [
  {
   "cell_type": "code",
   "execution_count": 2,
   "metadata": {
    "slideshow": {
     "slide_type": "notes"
    }
   },
   "outputs": [
    {
     "data": {
      "text/html": [
       "\n",
       "        <style>\n",
       "            body {background-color: grey;\n",
       "                  color: black;\n",
       "                  font-family: Calibri, sans-serif;\n",
       "                  font-size: 100%;\n",
       "            }\n",
       "            h1 {color: black;\n",
       "                font-size: 200%;\n",
       "            }\n",
       "            h2 {color: black;\n",
       "                font-size: 150%;\n",
       "            }\n",
       "            h3 {color: black;\n",
       "                font-size: 100%;\n",
       "            }\n",
       "            p {padding: 10px 0px 10px;\n",
       "               text-align: justify;\n",
       "            }\n",
       "            li {line-height: 100%;\n",
       "                padding-top: 1%;\n",
       "                padding-bottom: 1%;\n",
       "                text-align: justify;\n",
       "            }\n",
       "            strong {font-weight: bold;\n",
       "            }\n",
       "            /* types of lists */\n",
       "            ul.nobull {\n",
       "                 list-style-type: none;\n",
       "            }\n",
       "            ol.i {\n",
       "                list-style-type: lower-roman;\n",
       "            }\n",
       "            ol.a {\n",
       "                list-style-type: lower-alpha;\n",
       "            }\n",
       "            ol.A {\n",
       "                list-style-type: upper-alpha;\n",
       "            }\n",
       "            /* this is to make text justified in paragraphs and lists*/\n",
       "            .text_cell_render p {\n",
       "                text-align: justify;\n",
       "                text-justify: inter-word;\n",
       "            }\n",
       "            .text_cell_render li {\n",
       "                text-align: justify;\n",
       "                text-justify: inter-word;\n",
       "            }\n",
       "            .rendered_html table, .rendered_html td, .rendered_html th {font-size: 100%;\n",
       "            }\n",
       "            .container {\n",
       "                width: 80% !important;\n",
       "            }\n",
       "        </style>\n",
       "    "
      ]
     },
     "metadata": {},
     "output_type": "display_data"
    }
   ],
   "source": [
    "# Call out to HTML & javascript to set our look and feel. We need libraries IRdisplay and js for this.\n",
    "library(\"IRdisplay\")\n",
    "\n",
    "ChangeDisplaySettings<-TRUE\n",
    "if (ChangeDisplaySettings == TRUE) {\n",
    "\n",
    "    # This command will change the size of R plots. Adjust width and height to suit.\n",
    "    options(repr.plot.width=8,repr.plot.height=6)\n",
    "\n",
    "    # The following changes font size and colour for notebook pages\n",
    "\n",
    "    display_html(\"\n",
    "        <style>\n",
    "            body {background-color: grey;\n",
    "                  color: black;\n",
    "                  font-family: Calibri, sans-serif;\n",
    "                  font-size: 100%;\n",
    "            }\n",
    "            h1 {color: black;\n",
    "                font-size: 200%;\n",
    "            }\n",
    "            h2 {color: black;\n",
    "                font-size: 150%;\n",
    "            }\n",
    "            h3 {color: black;\n",
    "                font-size: 100%;\n",
    "            }\n",
    "            p {padding: 10px 0px 10px;\n",
    "               text-align: justify;\n",
    "            }\n",
    "            li {line-height: 100%;\n",
    "                padding-top: 1%;\n",
    "                padding-bottom: 1%;\n",
    "                text-align: justify;\n",
    "            }\n",
    "            strong {font-weight: bold;\n",
    "            }\n",
    "            /* types of lists */\n",
    "            ul.nobull {\n",
    "                 list-style-type: none;\n",
    "            }\n",
    "            ol.i {\n",
    "                list-style-type: lower-roman;\n",
    "            }\n",
    "            ol.a {\n",
    "                list-style-type: lower-alpha;\n",
    "            }\n",
    "            ol.A {\n",
    "                list-style-type: upper-alpha;\n",
    "            }\n",
    "            /* this is to make text justified in paragraphs and lists*/\n",
    "            .text_cell_render p {\n",
    "                text-align: justify;\n",
    "                text-justify: inter-word;\n",
    "            }\n",
    "            .text_cell_render li {\n",
    "                text-align: justify;\n",
    "                text-justify: inter-word;\n",
    "            }\n",
    "            .rendered_html table, .rendered_html td, .rendered_html th {font-size: 100%;\n",
    "            }\n",
    "            .container {\n",
    "                width: 80% !important;\n",
    "            }\n",
    "        </style>\n",
    "    \")\n",
    "}"
   ]
  },
  {
   "cell_type": "markdown",
   "metadata": {
    "slideshow": {
     "slide_type": "slide"
    }
   },
   "source": [
    "<html>\n",
    "<head>\n",
    "    <h2>University of Stirling</h2>\n",
    "    <h2>Computing Science and Mathematics</h2>\n",
    "    <h2>MATPMD1 Statistics for Data Science</h2>\n",
    "    <h1>Chapter 2 Data</h1>\n",
    "</head>"
   ]
  },
  {
   "cell_type": "markdown",
   "metadata": {
    "slideshow": {
     "slide_type": "slide"
    }
   },
   "source": [
    "<body>\n",
    "    <p>Observations or data are the raw materials with which statisticians work. \n",
    "    </p>\n",
    "    <p>For most statistics to be applicable these observations must be in the form of numbers or be able to be converted into numbers (we'll cover that process later).\n",
    "    </p>\n",
    "</body>"
   ]
  },
  {
   "cell_type": "markdown",
   "metadata": {
    "slideshow": {
     "slide_type": "slide"
    }
   },
   "source": [
    "<body>\n",
    "    <p>Data examples are:\n",
    "    <ul>\n",
    "        <li>crop yield;</li>\n",
    "        <li>time to recovery after cardiac surgery;</li>\n",
    "        <li>number of defective items in an assembly process;</li>\n",
    "        <li>birth rate in Scotland;</li>\n",
    "        <li>market share of different washing powders;</li>\n",
    "        <li>political preferences.</li>\n",
    "    </ul>\n",
    "</body>"
   ]
  },
  {
   "cell_type": "markdown",
   "metadata": {
    "slideshow": {
     "slide_type": "slide"
    }
   },
   "source": [
    "<body>\n",
    "    <p>When confronted with data we initially ask many questions such as:</p>\n",
    "    <ul>\n",
    "        <li>Why were these data collected?</li>\n",
    "        <li>Who collected these data?</li>\n",
    "        <li>What methods did they use to collect the data?</li>\n",
    "        <li>Has randomisation been used?</li>\n",
    "        <li>Are there any sources of bias?</li>\n",
    "    </ul>\n",
    "</body>"
   ]
  },
  {
   "cell_type": "markdown",
   "metadata": {
    "slideshow": {
     "slide_type": "slide"
    }
   },
   "source": [
    "<body>\n",
    "    <ul>\n",
    "        <li>What is the target population for which inference is desired?</li>\n",
    "        <li>Is an informal / descriptive / exploratory analysis sufficient?</li>\n",
    "        <li>Do we have all the relevant data?</li>\n",
    "        <li>Has some been concealed from us?</li>\n",
    "        <li>Has the investigator who collected the data removed any that didn't quite fit in?</li>\n",
    "    </ul>\n",
    "</body>"
   ]
  },
  {
   "cell_type": "markdown",
   "metadata": {
    "slideshow": {
     "slide_type": "slide"
    }
   },
   "source": [
    "<body>\n",
    "    <p>We now classify the different types of data and this is a most important step in any analysis. Usually the type of analysis to be performed depends on the type of data being considered.\n",
    "    </p>\n",
    "    <p>All formal techniques have assumptions of various kinds to do with the type and structure of the data. Hence in order to use a technique we must check that the assumptions are &#39;reasonably&#39; valid.\n",
    "    </p>\n",
    "</body>"
   ]
  },
  {
   "cell_type": "markdown",
   "metadata": {
    "slideshow": {
     "slide_type": "slide"
    }
   },
   "source": [
    "<body>\n",
    "    <h2>2.1 Data Types</h2>\n",
    "    <p>We say that our data consists of observations which are values of variables. Examples of variables include:\n",
    "    </p>\n",
    "    <table>\n",
    "    <thead>\n",
    "      <tr>\n",
    "        <th>Variable</th>\n",
    "        <th>Value</th>\n",
    "      </tr>\n",
    "    </thead>\n",
    "    <tbody>\n",
    "      <tr>\n",
    "        <td>Number of births in a country</td>\n",
    "        <td>coded 0, 1, 2, 3, ....</td>\n",
    "      </tr>\n",
    "      <tr>\n",
    "        <td>Geographical region</td>\n",
    "        <td>North Scotland, West Scotland,...</td>\n",
    "      </tr>\n",
    "      <tr>\n",
    "        <td>Weekly earnings</td>\n",
    "        <td>From £80 upwards</td>\n",
    "      </tr>\n",
    "      <tr>\n",
    "        <td>Dose of chemical</td>\n",
    "        <td>0 upwards</td>\n",
    "      </tr>\n",
    "      <tr>\n",
    "        <td>Smoking behaviour</td>\n",
    "        <td>Non smoker, Ex smoker, Occasional smoker, Heavy smoker</td>\n",
    "      </tr>\n",
    "    </tbody>\n",
    "    </table>\n",
    "</body>"
   ]
  },
  {
   "cell_type": "markdown",
   "metadata": {
    "slideshow": {
     "slide_type": "slide"
    }
   },
   "source": [
    "<body>\n",
    "    <p>There are two main types of data :\n",
    "    </p>\n",
    "    <ul>\n",
    "        <li>Categorical</li>\n",
    "        <li>Quantitative</li>\n",
    "    </ul>\n",
    "</body>    "
   ]
  },
  {
   "cell_type": "markdown",
   "metadata": {
    "slideshow": {
     "slide_type": "slide"
    }
   },
   "source": [
    "<body>\n",
    "    <h2>2.2 Categorical Variables</h2>\n",
    "    <p>Examples of Categorical Variables are :\n",
    "    </p>\n",
    "    <table>\n",
    "    <thead>\n",
    "      <tr>\n",
    "        <th>Categorical Variable</th>\n",
    "        <th>Value</th>\n",
    "      </tr>\n",
    "    </thead>\n",
    "    <tbody>\n",
    "      <tr>\n",
    "        <td>Smoking Behaviour</td>\n",
    "        <td>Non smoker, Ex smoker, Occasional smoker, Heavy smoker</td>\n",
    "      </tr>\n",
    "      <tr>\n",
    "        <td>Scottish Electoral Registration Area</td>\n",
    "        <td>Borders, Lothian, Central Scotland,...</td>\n",
    "      </tr>\n",
    "      <tr>\n",
    "        <td>Hair Colour</td>\n",
    "        <td>Brown, Blonde, ...</td>\n",
    "      </tr>\n",
    "      <tr>\n",
    "        <td>Eye Colour</td>\n",
    "        <td>Blue, Green, Brown, ...</td>\n",
    "      </tr>\n",
    "    </tbody>\n",
    "    </table>\n",
    "</body>"
   ]
  },
  {
   "cell_type": "markdown",
   "metadata": {
    "slideshow": {
     "slide_type": "slide"
    }
   },
   "source": [
    "<body>\n",
    "    <p>There are two types of Categorical Variable:\n",
    "    </p>\n",
    "    <ul>\n",
    "        <li>Ordinal</li>\n",
    "        <li>Nominal</li>\n",
    "    </ul>\n",
    "</body>"
   ]
  },
  {
   "cell_type": "markdown",
   "metadata": {
    "slideshow": {
     "slide_type": "slide"
    }
   },
   "source": [
    "<body>\n",
    "    <h3>2.2.1 Ordinal Categorical Variables\n",
    "    </h3>\n",
    "    <p>With an <strong>Ordinal</strong> variable the categories the variable can take can be ordered. For example:\n",
    "    </p>\n",
    "    <table>\n",
    "    <thead>\n",
    "      <tr>\n",
    "        <th>Categorical Variable</th>\n",
    "        <th>Value</th>\n",
    "      </tr>\n",
    "    </thead>\n",
    "    <tbody>\n",
    "      <tr>\n",
    "        <td>Smoking</td>\n",
    "        <td>Non smoker, Ex smoker, Occasional smoker, Heavy smoker</td>\n",
    "      </tr>\n",
    "      <tr>\n",
    "        <td>Experience of Statistical packages</td>\n",
    "        <td>None, A little, Some, A lot</td>\n",
    "      </tr>\n",
    "      <tr>\n",
    "        <td>Strength of agreement with a statement</td>\n",
    "        <td>Disagree strongly, Disagree mildly, Neutral, Agree Mildly, Agree Strongly</td>\n",
    "      </tr>\n",
    "    </tbody>\n",
    "    </table>\n",
    "</body>"
   ]
  },
  {
   "cell_type": "markdown",
   "metadata": {
    "slideshow": {
     "slide_type": "slide"
    }
   },
   "source": [
    "<body>\n",
    "    <h3>2.2.2 Nominal Categorical Variables\n",
    "    </h3>\n",
    "    <p>With <strong>Nominal</strong> variables, the categories are simply labels, that is one category cannot be ranked as greater than or less than other categories. For example:\n",
    "    </p>\n",
    "    <ul>\n",
    "        <li>male and female are different categories but we cannot say that greater than or better than the other\n",
    "        </li>\n",
    "        <li>for eye colour we cannot say that green eyes are greater than brown eyes. \n",
    "        </li>\n",
    "    </ul>\n",
    "</body>"
   ]
  },
  {
   "cell_type": "markdown",
   "metadata": {
    "slideshow": {
     "slide_type": "notes"
    }
   },
   "source": [
    "<body>\n",
    "    <p>The categories are often conveniently designated by numbers but these numbers do not imply any relationship between individual members.\n",
    "    </p>\n",
    "</body>"
   ]
  },
  {
   "cell_type": "markdown",
   "metadata": {
    "slideshow": {
     "slide_type": "slide"
    }
   },
   "source": [
    "<body>\n",
    "    <h3>2.3 Quantitative Variables</h3>\n",
    "    <p>For quantitative variables we want to quantify something by counting or measuring. For example:\n",
    "    </p>\n",
    "    <table>\n",
    "    <thead>\n",
    "      <tr>\n",
    "        <th>Quantitative Variable</th>\n",
    "        <th>Value</th>\n",
    "      </tr>\n",
    "    </thead>\n",
    "    <tbody>\n",
    "      <tr>\n",
    "        <td>Number of live births</td>\n",
    "        <td>1,2,3,...</td>\n",
    "      </tr>\n",
    "      <tr>\n",
    "        <td>Weekly earnings</td>\n",
    "        <td>£120+</td>\n",
    "      </tr>\n",
    "      <tr>\n",
    "        <td>Weight</td>\n",
    "        <td>40kg+</td>\n",
    "      </tr>\n",
    "      <tr>\n",
    "        <td>Expenditure</td>\n",
    "        <td>£25,000</td>\n",
    "      </tr>\n",
    "    </tbody>\n",
    "    </table>\n",
    "</body>"
   ]
  },
  {
   "cell_type": "markdown",
   "metadata": {
    "slideshow": {
     "slide_type": "notes"
    }
   },
   "source": [
    "<body>\n",
    "    <p><strong>Note</strong> There is a rather subtle distinction between two types of such quantitative variables into:\n",
    "    </p>\n",
    "    <ul>\n",
    "        <li>interval - scale of equal intervals, addition and subtraction possible.</li>\n",
    "        <li>ratio - additionally the scale starts at true zero.</li>\n",
    "    </ul>\n",
    "    <p>However, this is just a distinction to be aware of, we shall ignore this.\n",
    "    </p>\n",
    "</body>"
   ]
  },
  {
   "cell_type": "markdown",
   "metadata": {
    "slideshow": {
     "slide_type": "slide"
    }
   },
   "source": [
    "<body>\n",
    "    <h3>2.3.1 Discrete and Continuous variables\n",
    "    </h3>\n",
    "    <p>The two major sub-groupings of quantitative data are\n",
    "    <ul>\n",
    "        <li>Discrete</li>\n",
    "        <li>Continuous</li>\n",
    "    </ul>\n",
    "</body>"
   ]
  },
  {
   "cell_type": "markdown",
   "metadata": {
    "slideshow": {
     "slide_type": "slide"
    }
   },
   "source": [
    "<body>\n",
    "    <p><strong>Discrete</strong> variables are any kind of count, they take values in a restricted set such as integers {0, 1, 2... }. For example: the number of defective items.\n",
    "    </p>\n",
    "    <p><strong>Continuous</strong> variables are any kind of measurement and may take any real number. For example: height, weight and age.\n",
    "    </p>\n",
    "</body>"
   ]
  },
  {
   "cell_type": "markdown",
   "metadata": {
    "slideshow": {
     "slide_type": "slide"
    }
   },
   "source": [
    "<body>\n",
    "    <h2>2.4 Summary of Data types\n",
    "    </h2>\n",
    "    <p>In summary:\n",
    "    </p>\n",
    "    <img src=MATPMD1Chapter2Fig1.jpg  style=\"width:75%\" >\n",
    "</body>"
   ]
  }
 ],
 "metadata": {
  "celltoolbar": "Slideshow",
  "kernelspec": {
   "display_name": "R",
   "language": "R",
   "name": "ir"
  },
  "language_info": {
   "codemirror_mode": "r",
   "file_extension": ".r",
   "mimetype": "text/x-r-source",
   "name": "R",
   "pygments_lexer": "r",
   "version": "3.6.3"
  }
 },
 "nbformat": 4,
 "nbformat_minor": 4
}
