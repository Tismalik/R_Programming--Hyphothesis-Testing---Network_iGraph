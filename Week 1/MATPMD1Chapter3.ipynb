{
 "cells": [
  {
   "cell_type": "code",
   "execution_count": 1,
   "metadata": {
    "slideshow": {
     "slide_type": "notes"
    }
   },
   "outputs": [
    {
     "data": {
      "text/html": [
       "\n",
       "        <style>\n",
       "            body {background-color: grey;\n",
       "                  color: black;\n",
       "                  font-family: Calibri, sans-serif;\n",
       "                  font-size: 100%;\n",
       "            }\n",
       "            h1 {color: black;\n",
       "                font-size: 200%;\n",
       "            }\n",
       "            h2 {color: black;\n",
       "                font-size: 150%;\n",
       "            }\n",
       "            h3 {color: black;\n",
       "                font-size: 100%;\n",
       "            }\n",
       "            p {padding: 10px 0px 10px;\n",
       "               text-align: justify;\n",
       "            }\n",
       "            li {line-height: 100%;\n",
       "                padding-top: 1%;\n",
       "                padding-bottom: 1%;\n",
       "                text-align: justify;\n",
       "            }\n",
       "            strong {font-weight: bold;\n",
       "            }\n",
       "            /* types of lists */\n",
       "            ul.nobull {\n",
       "                 list-style-type: none;\n",
       "            }\n",
       "            ol.i {\n",
       "                list-style-type: lower-roman;\n",
       "            }\n",
       "            ol.a {\n",
       "                list-style-type: lower-alpha;\n",
       "            }\n",
       "            ol.A {\n",
       "                list-style-type: upper-alpha;\n",
       "            }\n",
       "            /* this is to make text justified in paragraphs and lists*/\n",
       "            .text_cell_render p {\n",
       "                text-align: justify;\n",
       "                text-justify: inter-word;\n",
       "            }\n",
       "            .text_cell_render li {\n",
       "                text-align: justify;\n",
       "                text-justify: inter-word;\n",
       "            }\n",
       "            .rendered_html table, .rendered_html td, .rendered_html th {font-size: 100%;\n",
       "            }\n",
       "            .container {\n",
       "                width: 80% !important;\n",
       "            }\n",
       "        </style>\n",
       "    "
      ]
     },
     "metadata": {},
     "output_type": "display_data"
    },
    {
     "data": {
      "text/html": [
       "<script>  \n",
       "            code_show=true; \n",
       "            function code_toggle() {\n",
       "              if (code_show){\n",
       "                $('div.input').hide();\n",
       "              } else {\n",
       "                $('div.input').show();\n",
       "              }\n",
       "              code_show = !code_show\n",
       "            }  \n",
       "            $( document ).ready(code_toggle);\n",
       "        </script>"
      ]
     },
     "metadata": {},
     "output_type": "display_data"
    },
    {
     "data": {
      "text/html": [
       "<form action=\"javascript:code_toggle()\">\n",
       "        <input type=\"submit\" value=\"Display code settings view\">\n",
       "    </form>"
      ]
     },
     "metadata": {},
     "output_type": "display_data"
    }
   ],
   "source": [
    "# Call out to HTML & javascript to set our look and feel. We need libraries IRdisplay and js for this.\n",
    "library(\"IRdisplay\")\n",
    "\n",
    "ChangeDisplaySettings<-TRUE\n",
    "if (ChangeDisplaySettings == TRUE) {\n",
    "\n",
    "    # This command will change the size of R plots. Adjust width and height to suit.\n",
    "    options(repr.plot.width=8,repr.plot.height=6)\n",
    "\n",
    "    # The following changes font size and colour for notebook pages\n",
    "\n",
    "    display_html(\"\n",
    "        <style>\n",
    "            body {background-color: grey;\n",
    "                  color: black;\n",
    "                  font-family: Calibri, sans-serif;\n",
    "                  font-size: 100%;\n",
    "            }\n",
    "            h1 {color: black;\n",
    "                font-size: 200%;\n",
    "            }\n",
    "            h2 {color: black;\n",
    "                font-size: 150%;\n",
    "            }\n",
    "            h3 {color: black;\n",
    "                font-size: 100%;\n",
    "            }\n",
    "            p {padding: 10px 0px 10px;\n",
    "               text-align: justify;\n",
    "            }\n",
    "            li {line-height: 100%;\n",
    "                padding-top: 1%;\n",
    "                padding-bottom: 1%;\n",
    "                text-align: justify;\n",
    "            }\n",
    "            strong {font-weight: bold;\n",
    "            }\n",
    "            /* types of lists */\n",
    "            ul.nobull {\n",
    "                 list-style-type: none;\n",
    "            }\n",
    "            ol.i {\n",
    "                list-style-type: lower-roman;\n",
    "            }\n",
    "            ol.a {\n",
    "                list-style-type: lower-alpha;\n",
    "            }\n",
    "            ol.A {\n",
    "                list-style-type: upper-alpha;\n",
    "            }\n",
    "            /* this is to make text justified in paragraphs and lists*/\n",
    "            .text_cell_render p {\n",
    "                text-align: justify;\n",
    "                text-justify: inter-word;\n",
    "            }\n",
    "            .text_cell_render li {\n",
    "                text-align: justify;\n",
    "                text-justify: inter-word;\n",
    "            }\n",
    "            .rendered_html table, .rendered_html td, .rendered_html th {font-size: 100%;\n",
    "            }\n",
    "            .container {\n",
    "                width: 80% !important;\n",
    "            }\n",
    "        </style>\n",
    "    \")\n",
    "\n",
    "    # this sets up the code_toggle function which we will use in individual cells to hide/display code\n",
    "    display_html(\n",
    "        '<script>  \n",
    "            code_show=true; \n",
    "            function code_toggle() {\n",
    "              if (code_show){\n",
    "                $(\\'div.input\\').hide();\n",
    "              } else {\n",
    "                $(\\'div.input\\').show();\n",
    "              }\n",
    "              code_show = !code_show\n",
    "            }  \n",
    "            $( document ).ready(code_toggle);\n",
    "        </script>'\n",
    "    )\n",
    "\n",
    "}\n",
    "\n",
    "##### toggle code : Control for this cell\n",
    "display_html(\n",
    "    '<form action=\"javascript:code_toggle()\">\n",
    "        <input type=\"submit\" value=\"Display code settings view\">\n",
    "    </form>'\n",
    ")"
   ]
  },
  {
   "cell_type": "markdown",
   "metadata": {
    "slideshow": {
     "slide_type": "slide"
    }
   },
   "source": [
    "<html>\n",
    "<head>\n",
    "    <h2>University of Stirling</h2>\n",
    "    <h2>Computing Science and Mathematics</h2>\n",
    "    <h2>MATPMD1 Statistics for Data Science</h2>\n",
    "    <h1>Chapter 3 Visualising Data\n",
    "    </h1>\n",
    "</head>"
   ]
  },
  {
   "cell_type": "markdown",
   "metadata": {
    "slideshow": {
     "slide_type": "slide"
    }
   },
   "source": [
    "<body>\n",
    "    <p>People sometimes say 'let the data speak for themselves'.\n",
    "    </p>\n",
    "    <p>A useful way of gaining insight about the data is by creating pictures and numerical summaries which help to pick out the general features and also any unusual aspects of the data. \n",
    "    <p>The appropriate picture depends on both the type of data and the question that is being asked.\n",
    "    </p>\n",
    "</body>"
   ]
  },
  {
   "cell_type": "markdown",
   "metadata": {
    "slideshow": {
     "slide_type": "slide"
    }
   },
   "source": [
    "<body>\n",
    "    <h2>3.1 Visualising Categorical Data</h2>\n",
    "    <p>For categorical data, useful pictures are pie-charts and bargraphs. We may use the pie-chart and bargraph to create a pictorial representation of categorical data. Let us illustrate using an example.\n",
    "    </p>\n",
    "</body>"
   ]
  },
  {
   "cell_type": "markdown",
   "metadata": {
    "slideshow": {
     "slide_type": "slide"
    }
   },
   "source": [
    "<body>\n",
    "    <p>In a survey, a random sample of electors were asked their political preferences and social class. The results were as follows :\n",
    "    </p>\n",
    "    <table>\n",
    "    <thead>\n",
    "      <tr>\n",
    "        <th>Social Classs</th>\n",
    "        <th>Tory</th>\n",
    "        <th>Labour</th>\n",
    "        <th>Lib-Dem</th>\n",
    "        <th>Others</th>\n",
    "      </tr>\n",
    "    </thead>\n",
    "    <tbody>\n",
    "      <tr>\n",
    "        <td>A</td>\n",
    "        <td>110</td>\n",
    "        <td>11</td>\n",
    "        <td>37</td>\n",
    "        <td>2</td>\n",
    "      </tr>\n",
    "      <tr>\n",
    "        <td>B</td>\n",
    "        <td>420</td>\n",
    "        <td>99</td>\n",
    "        <td>237</td>\n",
    "        <td>8</td>\n",
    "      </tr>\n",
    "      <tr>\n",
    "        <td>C1</td>\n",
    "        <td>321</td>\n",
    "        <td>119</td>\n",
    "        <td>143</td>\n",
    "        <td>12</td>\n",
    "      </tr>\n",
    "      <tr>\n",
    "        <td>C2</td>\n",
    "        <td>353</td>\n",
    "        <td>363</td>\n",
    "        <td>205</td>\n",
    "        <td>9</td>\n",
    "      </tr>\n",
    "      <tr>\n",
    "        <td>D</td>\n",
    "        <td>183</td>\n",
    "        <td>286</td>\n",
    "        <td>134</td>\n",
    "        <td>6</td>\n",
    "      </tr>\n",
    "    </tbody>\n",
    "    </table>\n",
    "</body>"
   ]
  },
  {
   "cell_type": "markdown",
   "metadata": {
    "slideshow": {
     "slide_type": "slide"
    }
   },
   "source": [
    "<body>\n",
    "    <p> In social class A, there are 160 people in the sample so that\n",
    "    <ul style=\"list-style: none;\">\n",
    "        <li>110/160 voted for the Conservatives</li>\n",
    "        <li>11/160 voted for Labour</li>\n",
    "        <li>37/160 voted for the Liberal Democrats</li>\n",
    "        <li>2/160 voted for other parties.</li>\n",
    "    </ul>\n",
    "    <p>Therefore, the percentages are 69%, 7%, 23% and 1% respectively.\n",
    "    </p>\n",
    "</body>"
   ]
  },
  {
   "cell_type": "markdown",
   "metadata": {
    "slideshow": {
     "slide_type": "slide"
    }
   },
   "source": [
    "<body>\n",
    "    <h3>3.1.1 Pie-chart\n",
    "    </h3>\n",
    "    <p>There are 4 categories (i.e. voting groups) so we split the circle into four sectors, with each sector having an area proportional to the %vote for the corresponding party.\n",
    "    </p>\n",
    "    <p>One percentage point is equivalent to an angle of 3.6 degrees. Hence to find the appropriate size of each sector we multiply the percentage by 3.6 to obtain the size of angle of the sector.\n",
    "    </p>\n",
    "</body>"
   ]
  },
  {
   "cell_type": "markdown",
   "metadata": {
    "slideshow": {
     "slide_type": "notes"
    }
   },
   "source": [
    "<body>\n",
    "    <p>The resulting pie-chart appears below. It is easily constructed with a protractor (or even better using a computer).\n",
    "    </p>\n",
    "</body>"
   ]
  },
  {
   "cell_type": "code",
   "execution_count": 5,
   "metadata": {
    "scrolled": false,
    "slideshow": {
     "slide_type": "slide"
    }
   },
   "outputs": [
    {
     "data": {
      "image/png": "[encoded data removed]",
      "text/plain": [
       "Plot with title \"Social Class A political preference\""
      ]
     },
     "metadata": {
      "image/png": {
       "height": 360,
       "width": 480
      }
     },
     "output_type": "display_data"
    }
   ],
   "source": [
    "\n",
    "# call the R pie() function giving as parameters:\n",
    "#     a vector of the counts for each party; \n",
    "#     a vector of the colours to present for each party;\n",
    "#     the title of the chart\n",
    "pie(c(Tory = 110, Labour = 11, \"Lib-Dem\" = 37, Other=2), init.angle = 90, \n",
    "    col=c(\"blue\",\"red\",\"yellow\",\"white\"), border = TRUE, \n",
    "    main=\"Social Class A political preference\")\n",
    "\n",
    "# the following two commands are just to make the plot look more pretty\n",
    "# the following box() function puts a nice box round the plot\n",
    "box(lty=\"solid\")\n",
    "# and this inserts text on the plot\n",
    "text (0.8,-1,\"Sample size = 160\")"
   ]
  },
  {
   "cell_type": "markdown",
   "metadata": {
    "slideshow": {
     "slide_type": "slide"
    }
   },
   "source": [
    "<body>\n",
    "    <h3>3.1.2 Bargraph\n",
    "    </h3>\n",
    "    <p>We may also represent the distribution of a categorical variable by using a bargraph.\n",
    "    </p>\n",
    "    <p>Hence we draw a bar for each category (all of the same thickness) with the height of the bar representing the percentage of the sample that belong to each voting category. \n",
    "    </p>\n",
    "</body>"
   ]
  },
  {
   "cell_type": "markdown",
   "metadata": {
    "slideshow": {
     "slide_type": "notes"
    }
   },
   "source": [
    "<body>\n",
    "    <p>Note that it is essential to provide a suitable scale, with a zero so that percentages may be easily read-off.\n",
    "    </p>\n",
    "</body>"
   ]
  },
  {
   "cell_type": "code",
   "execution_count": 6,
   "metadata": {
    "scrolled": false,
    "slideshow": {
     "slide_type": "slide"
    }
   },
   "outputs": [
    {
     "data": {
      "image/png": "[encoded data removed]",
      "text/plain": [
       "Plot with title \"Political preference Social Class A\""
      ]
     },
     "metadata": {
      "image/png": {
       "height": 360,
       "width": 480
      }
     },
     "output_type": "display_data"
    }
   ],
   "source": [
    "\n",
    "# to display our bargraph this time we are going to build up a dataframe containing all the counts. Each named\n",
    "# member of the data frame contains a vector of firstly the names of each of the parties, then there is a member\n",
    "# for each of the social classes which is a vector of the counts for each of the different parties.\n",
    "pprefs.df <- data.frame(parties = c(\"Tory\",\"Labour\",\"Lib-Dem\", \"Other\"),\n",
    "                       A = c(110,11,37,2),\n",
    "                       B = c(420,99,237,8),\n",
    "                       C1 = c(321,119,143,12),\n",
    "                       C2 = c(353,363,205,9),\n",
    "                       D = c(183,286,134,6))\n",
    "\n",
    "# call the barplot() function to plot the bargraph. Note that we reference the counts for the A class using the\n",
    "# $ notation so the vector of counts for A can be found using pprefs.df$A. Note that counts here are turned into\n",
    "# percentages.\n",
    "barplot(pprefs.df$A*100/160, names.arg=pprefs.df$parties,\n",
    "        col=c(\"blue\",\"red\",\"yellow\",\"white\"), main=\"Political preference Social Class A\", \n",
    "        xlab=\"Party\", ylab=\"%ge\",ylim=c(0,75))\n",
    "\n",
    "# this just puts a box round the bargraph plot\n",
    "box(lty=\"solid\")"
   ]
  },
  {
   "cell_type": "markdown",
   "metadata": {
    "slideshow": {
     "slide_type": "slide"
    }
   },
   "source": [
    "<body>\n",
    "    <p>Similar bargraphs could be drawn for the other social class groupings. If we wished to compare the voting pattern of two or three of the social groupings we could use a &#39;multiple&#39; bargraph as follows:\n",
    "    </p>\n",
    "</body>"
   ]
  },
  {
   "cell_type": "code",
   "execution_count": 7,
   "metadata": {
    "scrolled": false,
    "slideshow": {
     "slide_type": "slide"
    }
   },
   "outputs": [
    {
     "data": {
      "image/png": "[encoded data removed]",
      "text/plain": [
       "Plot with title \"Voting preference of Social Class B and C2\""
      ]
     },
     "metadata": {
      "image/png": {
       "height": 360,
       "width": 480
      }
     },
     "output_type": "display_data"
    }
   ],
   "source": [
    "# this command includes the tidyverse library which contains many useful functions for manipulating data.\n",
    "library(\"tidyverse\")\n",
    "\n",
    "# first set up the data frame containing all the data on voting preferences as for the previous bargraph plot\n",
    "pprefs.df <- data.frame(parties = c(\"Tory\",\"Labour\",\"Lib-Dem\", \"Other\"),\n",
    "                        A = c(110,11,37,2),\n",
    "                        B = c(420,99,237,8),\n",
    "                        C1 = c(321,119,143,12),\n",
    "                        C2 = c(353,363,205,9),\n",
    "                        D = c(183,286,134,6))\n",
    "\n",
    "# we want to compare percentages so we are going to add two members to the pprefs.df dataframe containing counts\n",
    "# turned into percentages for both the B and C2 voting preferences. We use the mutate() function from tidyverse\n",
    "# to do this, and %>% to pipe the original pprefs.df dataframe into the mutate() function. We use this so that\n",
    "# we don't have to prefix B and Bperc with pprefs.df$ each time we use them. This enhances code readability.\n",
    "pprefs.df <- pprefs.df %>% mutate(Bperc = B/sum(B)*100) %>% mutate(C2perc = C2/sum(C2)*100)\n",
    "\n",
    "# now call the R barplot() function using the beside=TRUE option to get the side-by-side barplot\n",
    "barplot (rbind(pprefs.df$Bperc,pprefs.df$C2perc), beside=TRUE,\n",
    "         names.arg=pprefs.df$parties,legend.text=c(\"B\",\"C2\"),ylim=c(0,75),\n",
    "         xlab=\"Parties\", ylab=\"%ge\", main=\"Voting preference of Social Class B and C2\")\n",
    "\n",
    "#this puts a nice box around the plot\n",
    "box(lty=\"solid\")\n"
   ]
  },
  {
   "cell_type": "markdown",
   "metadata": {
    "slideshow": {
     "slide_type": "notes"
    }
   },
   "source": [
    "<body>\n",
    "    <p>From such a display it is easy to compare the support obtained from classes B and C2 for each political party separately. The percentages are :\n",
    "    </p>\n",
    "    <table>\n",
    "    <thead>\n",
    "      <tr>\n",
    "        <th>Social Class</th>\n",
    "        <th>Tory</th>\n",
    "        <th>Labour</th>\n",
    "        <th>Lib-Dem</th>\n",
    "        <th>Other</th>\n",
    "      </tr>\n",
    "    </thead>\n",
    "    <tbody>\n",
    "      <tr>\n",
    "        <td>B</td>\n",
    "        <td>55%</td>\n",
    "        <td>13%</td>\n",
    "        <td>31%</td>\n",
    "        <td>1%</td>\n",
    "      </tr>\n",
    "      <tr>\n",
    "        <td>C2</td>\n",
    "        <td>38%</td>\n",
    "        <td>39%</td>\n",
    "        <td>22%</td>\n",
    "        <td>1%</td>\n",
    "      </tr>\n",
    "    </tbody>\n",
    "    </table>\n",
    "</body>"
   ]
  },
  {
   "cell_type": "markdown",
   "metadata": {
    "slideshow": {
     "slide_type": "notes"
    }
   },
   "source": [
    "<body>\n",
    "    <p>So, we have seen how to use pie-charts and bargraphs (and percentages) to describe a categorical variable.\n",
    "    </p>\n",
    "    <p>Let us now consider some simple pictures which are appropriate for describing the distribution of a single quantitative variable and also for making a comparison of several such distributions.\n",
    "    </p>\n",
    "</body>"
   ]
  },
  {
   "cell_type": "markdown",
   "metadata": {
    "slideshow": {
     "slide_type": "slide"
    }
   },
   "source": [
    "<body>\n",
    "    <h2 style>3.2 Visualising Quantitative Data\n",
    "    </h2>\n",
    "    <h3>3.2.1 Stem and Leaf Plots\n",
    "    </h3>\n",
    "    <p>We consider first a simple approach called a stem and leaf plot or stemplot. Consider the following data about the ozone concentrations (in parts per billion) collected between 1985 and 1989 at various monitoring sites in the United Kingdom. \n",
    "    </p>\n",
    "</body>"
   ]
  },
  {
   "cell_type": "markdown",
   "metadata": {
    "slideshow": {
     "slide_type": "notes"
    }
   },
   "source": [
    "<body>\n",
    "    <p>Looking at the distribution of all the values will give an indication of the spatial variation of average annual ozone concentration across different parts of the U.K. We may also determine the typical or &#39;average&#39; concentration and in addition discover areas where the reading is particularly high.\n",
    "    </p>\n",
    "</body>"
   ]
  },
  {
   "cell_type": "markdown",
   "metadata": {
    "slideshow": {
     "slide_type": "slide"
    }
   },
   "source": [
    "<body>\n",
    "    <p>The 1989 data are :\n",
    "    </p>\n",
    "    <p>10, 13, 25, 31, 31, 32, 26, 25, 32, 26, 21, 17, 27, 28, 31, 26, 17, 34\n",
    "    </p>\n",
    "    <p>The data have two digits : a &#39;tens&#39; digit and a &#39;units&#39; digit\n",
    "    </p>\n",
    "    <p>e.g. $32 = 3 \\times 10 + 2$\n",
    "    </p>\n",
    "    <p>so 3 is the 10&#39;s digit and 2 is the units digit.\n",
    "    </p>\n",
    "</body>"
   ]
  },
  {
   "cell_type": "markdown",
   "metadata": {
    "slideshow": {
     "slide_type": "slide"
    }
   },
   "source": [
    "<body>\n",
    "    <p>We make the <strong>10's</strong> digit the <strong>stem</strong> digit and the <strong>units</strong> digit the <strong>leaf</strong> digit (Stem Unit = 10s Leaf Unit=1s). \n",
    "    </p>\n",
    "    <table>\n",
    "    <thead>\n",
    "      <tr>\n",
    "        <th>Stem Unit = 10s</th>\n",
    "        <th>Leaf Unit = 1s</th>\n",
    "      </tr>\n",
    "    </thead>\n",
    "    <tbody>\n",
    "      <tr>\n",
    "        <td>1</td>\n",
    "        <td>0 3 7 7 </td>\n",
    "      </tr>\n",
    "      <tr>\n",
    "        <td>2</td>\n",
    "        <td>5 6 5 6 1 7 8 6</td>\n",
    "      </tr>\n",
    "      <tr>\n",
    "        <td>3</td>\n",
    "        <td>1 1 2 2 1 4</td>\n",
    "      </tr>\n",
    "    </tbody>\n",
    "    </table>\n",
    "</body>"
   ]
  },
  {
   "cell_type": "markdown",
   "metadata": {
    "slideshow": {
     "slide_type": "slide"
    }
   },
   "source": [
    "<body>\n",
    "    <p>It is useful to order the digits on each stem. (This is actually a quick method for ordering data that we shall need soon). \n",
    "    </p>\n",
    "    <p>This gives an ordered stemplot:\n",
    "    </p>\n",
    "</body>"
   ]
  },
  {
   "cell_type": "code",
   "execution_count": 8,
   "metadata": {
    "scrolled": false,
    "slideshow": {
     "slide_type": "slide"
    }
   },
   "outputs": [
    {
     "name": "stdout",
     "output_type": "stream",
     "text": [
      "1 | 2: represents 12\n",
      " leaf unit: 1\n",
      "            n: 18\n",
      "   1 | 0377\n",
      "   2 | 15566678\n",
      "   3 | 111224\n"
     ]
    }
   ],
   "source": [
    "# we are going to use a stem-and-leaf plot function that comes with the aplpack library, so we load it here\n",
    "library (\"aplpack\")   #is this the R way of importing function?\n",
    "\n",
    "# we set up our ozone values in a vector called ozone\n",
    "ozone <- c(10, 13, 25, 31, 31, 32, 26, 25, 32, 26, 21, 17, 27, 28, 31, 26, 17, 34)\n",
    "\n",
    "# and display our stem-and-leaf plot using stem.leaf(). unit=1 says that the leaf units are in 1s, style=\"bare\"\n",
    "# is used to make the plot look prettier, m=1 says that the stem will not be split, and depths=FALSE suppresses \n",
    "# output of counts in each stem on the left hand side of the plot. \n",
    "stem.leaf(ozone,unit=1,style=\"bare\",m=1,depths=FALSE)\n"
   ]
  },
  {
   "cell_type": "markdown",
   "metadata": {
    "slideshow": {
     "slide_type": "notes"
    }
   },
   "source": [
    "<body>\n",
    "    <p>We see from this display that the values of average ozone concentration range from 10ppb to 34ppb with the typical or average value occurring at approximately 25-28. There are no unusual outlying observations.\n",
    "    </p>\n",
    "</body>"
   ]
  },
  {
   "cell_type": "markdown",
   "metadata": {
    "slideshow": {
     "slide_type": "notes"
    }
   },
   "source": [
    "<body>\n",
    "    <p>(Note: It would be useful here to plot the data on a map of the UK; it may be that there are some spatial aspects of the data that are worth considering but that isn't our focus at the moment.)\n",
    "    </p>\n",
    "    <p>We often attach some other numbers to a stemplot. These give cumulative counts of the number of observations encountered as we count in from either end of the distribution.\n",
    "    </p>\n",
    "    <p>For example :\n",
    "    </p>\n",
    "</body>"
   ]
  },
  {
   "cell_type": "code",
   "execution_count": 9,
   "metadata": {
    "slideshow": {
     "slide_type": "slide"
    }
   },
   "outputs": [
    {
     "name": "stdout",
     "output_type": "stream",
     "text": [
      "1 | 2: represents 12\n",
      " leaf unit: 1\n",
      "            n: 18\n",
      "   4    1 | 0377\n",
      "  (8)   2 | 15566678\n",
      "   6    3 | 111224\n"
     ]
    }
   ],
   "source": [
    "# we are going to use a stem-and-leaf plot function that comes with the aplpack library, so we load it here\n",
    "library (\"aplpack\")\n",
    "\n",
    "# we set up our ozone values in a vector called ozone\n",
    "ozone <- c(10, 13, 25, 31, 31, 32, 26, 25, 32, 26, 21, 17, 27, 28, 31, 26, 17, 34)\n",
    "\n",
    "# and display our stem-and-leaf plot using stem.leaf(). unit=1 says that the leaf units are in 1s, style=\"bare\"\n",
    "# is used to make the plot look prettier, m=1 says that the stem will not be split, and depths=TRUE shows output \n",
    "# of counts in each stem on the left hand side of the plot. \n",
    "stem.leaf(ozone,unit=1,style=\"bare\",m=1,depths=TRUE)"
   ]
  },
  {
   "cell_type": "markdown",
   "metadata": {
    "slideshow": {
     "slide_type": "notes"
    }
   },
   "source": [
    "<body>\n",
    "    <p>The (8) tells us that the middle value of the data occurs on stem 2 and that this stem has 8 observations on it. Stem 1 has 4 observations and stem 3 has 6.\n",
    "    </p>\n",
    "</body>"
   ]
  },
  {
   "cell_type": "markdown",
   "metadata": {
    "slideshow": {
     "slide_type": "slide"
    }
   },
   "source": [
    "<body>\n",
    "    <p>Let&#39;s now look at a larger set of data. We will spend time interpreting the &#39;picture&#39;!\n",
    "    </p>\n",
    "    <p>Following is a small part of the data collected to look at different teaching methods (traditional or computerised) and whether they affect test scores:\n",
    "    </p>\n",
    "</body>"
   ]
  },
  {
   "cell_type": "markdown",
   "metadata": {
    "slideshow": {
     "slide_type": "slide"
    }
   },
   "source": [
    "<body>\n",
    "    <table>\n",
    "    <thead>\n",
    "      <tr>\n",
    "        <th>Index</th> <th>Group</th>  <th>Gender</th>  <th>Method</th>  <th>Pre Score</th>  <th>Post Score</th>\n",
    "      </tr>\n",
    "    </thead>\n",
    "    <tbody>\n",
    "      <tr>\n",
    "        <td> 1 </td><td> 1 </td><td> 1 </td><td> 2 </td><td> 87 </td><td> 95 </td>\n",
    "      </tr>\n",
    "      <tr>\n",
    "    <td> 2</td><td>1</td><td>1</td><td>2</td><td>85</td><td>90 </td>\n",
    "      </tr>\n",
    "      <tr>\n",
    "    <td> 3</td><td>1</td><td>1</td><td>2</td><td>84</td><td>88 </td>\n",
    "      </tr>\n",
    "      <tr>\n",
    "    <td> 4</td><td>1</td><td>1</td><td>2</td><td>31</td><td>90 </td>\n",
    "      </tr>\n",
    "      <tr>\n",
    "    <td> 5</td><td>1</td><td>1</td><td>2</td><td>83</td><td>91 </td>\n",
    "      </tr>\n",
    "      <tr>\n",
    "    <td> 6</td><td>1</td><td>1</td><td>2</td><td>82</td><td>96 </td>\n",
    "      </tr>\n",
    "      <tr>\n",
    "    <td> 7</td><td>1</td><td>1</td><td>2</td><td>79</td><td>96 </td>\n",
    "      </tr>\n",
    "      <tr>\n",
    "    <td> 8</td><td>1</td><td>1</td><td>2</td><td>76</td><td>96 </td>\n",
    "      </tr>\n",
    "      <tr>\n",
    "    <td> 9</td><td>1</td><td>1</td><td>2</td><td>74</td><td>86 </td>\n",
    "      </tr>\n",
    "      <tr>\n",
    "    <td> 10</td><td>1</td><td>1</td><td>2</td><td>60</td><td>74 </td>\n",
    "      </tr>\n",
    "      <tr>\n",
    "    <td> 11</td><td>1</td><td>1</td><td>2</td><td>64</td><td>86 </td>\n",
    "      </tr>\n",
    "      <tr>\n",
    "    <td> 12</td><td>1</td><td>1</td><td>2</td><td>23</td><td>79 </td>\n",
    "      </tr>\n",
    "      <tr>\n",
    "    <td> 13</td><td>1</td><td>1</td><td>2</td><td>35</td><td>80 </td>\n",
    "      </tr>\n",
    "      <tr>\n",
    "    <td> 14</td><td>1</td><td>1</td><td>2</td><td>17</td><td>75 </td>\n",
    "      </tr>\n",
    "      <tr>\n",
    "    <td> 15</td><td>1</td><td>1</td><td>2</td><td>16</td><td>57 </td>\n",
    "      </tr>\n",
    "      <tr>\n",
    "    <td> 16</td><td>1</td><td>1</td><td>2</td><td>36</td><td>80 </td>\n",
    "      </tr>\n",
    "      <tr>\n",
    "    <td> 17</td><td>1</td><td>1</td><td>2</td><td>39</td><td>85 </td>\n",
    "      </tr>\n",
    "      <tr>\n",
    "    <td> 18</td><td>1</td><td>1</td><td>2</td><td>38</td><td>56 </td>\n",
    "      </tr>\n",
    "      <tr>\n",
    "    <td> 19</td><td>1</td><td>1</td><td>2</td><td>45</td><td>74 </td>\n",
    "      </tr>\n",
    "      <tr>\n",
    "    <td> 20</td><td>1</td><td>1</td><td>2</td><td>17</td><td>91 </td>\n",
    "      </tr>\n",
    "      <tr>\n",
    "    <td> 21</td><td>1</td><td>1</td><td>2</td><td>41</td><td>77 </td>\n",
    "      </tr>\n",
    "      <tr>\n",
    "    <td> 22</td><td>1</td><td>1</td><td>2</td><td>52</td><td>90 </td>\n",
    "      </tr>\n",
    "      <tr>\n",
    "    <td> 23</td><td>1</td><td>1</td><td>2</td><td>50</td><td>90 </td>\n",
    "      </tr>\n",
    "      <tr>\n",
    "    <td> 24</td><td>1</td><td>1</td><td>2</td><td>35</td><td>69 </td>\n",
    "      </tr>\n",
    "      <tr>\n",
    "    <td> 25</td><td>1</td><td>1</td><td>2</td><td>16</td><td>72 </td>\n",
    "      </tr>\n",
    "      <tr>\n",
    "    <td> 26</td><td>1</td><td>1</td><td>2</td><td>35</td><td>65 </td>\n",
    "      </tr>\n",
    "      <tr>\n",
    "    <td> 27</td><td>2</td><td>2</td><td>2</td><td>39</td><td>64 </td>\n",
    "      </tr>\n",
    "      <tr>\n",
    "    <td> 28</td><td>2</td><td>2</td><td>2</td><td>33</td><td>88 </td>\n",
    "      </tr>\n",
    "      <tr>\n",
    "    <td> 29</td><td>2</td><td>2</td><td>2</td><td>55</td><td>77 </td>\n",
    "      </tr>\n",
    "      <tr>\n",
    "    <td> 30</td><td>2</td><td>2</td><td>2</td><td>43</td><td>92 </td>\n",
    "      </tr>\n",
    "      <tr>\n",
    "    <td> 31</td><td>2</td><td>2</td><td>2</td><td>29</td><td>58 </td>\n",
    "      </tr>\n",
    "      <tr>\n",
    "    <td> 32</td><td>2</td><td>2</td><td>2</td><td>66</td><td>96 </td>\n",
    "      </tr>\n",
    "      <tr>\n",
    "    <td> 33</td><td>2</td><td>2</td><td>2</td><td>80</td><td>100 </td>\n",
    "      </tr>\n",
    "      <tr>\n",
    "    <td> 34</td><td>2</td><td>2</td><td>2</td><td>72</td><td>100 </td>\n",
    "      </tr>\n",
    "      <tr>\n",
    "    <td> 35</td><td>2</td><td>2</td><td>2</td><td>88</td><td>100 </td>\n",
    "      </tr>\n",
    "      <tr>\n",
    "    <td> 36</td><td>2</td><td>2</td><td>2</td><td>37</td><td>63 </td>\n",
    "      </tr>\n",
    "      <tr>\n",
    "    <td> 37</td><td>2</td><td>2</td><td>2</td><td>66</td><td>95 </td>\n",
    "      </tr>\n",
    "    </tbody>\n",
    "    </table>\n",
    "</body>"
   ]
  },
  {
   "cell_type": "markdown",
   "metadata": {
    "slideshow": {
     "slide_type": "notes"
    }
   },
   "source": [
    "<body>\n",
    "    <p>\n",
    "        Column 1 (Index):  the index of an individual in the table<br>\n",
    "        Column 2 (Group): 1 = Boys/Comp, 2 = Girls/Comp, 3 = Girls/Trad, 4 = Boys/Trad<br>\n",
    "        Column 3 (Gender): 1=Boys, 2=Girls<br>\n",
    "        Column 4 (Method): 1=Traditional, 2=Computerised<br>\n",
    "        Column 5 (Pre Score): mark attained before teaching method trialled.<br>\n",
    "        Column 6 (Post Score): mark attained after teaching method trialled.<br>\n",
    "    </p>\n",
    "</body>"
   ]
  },
  {
   "cell_type": "markdown",
   "metadata": {
    "slideshow": {
     "slide_type": "slide"
    }
   },
   "source": [
    "<body>\n",
    "    <p>Now consider separate stemplots of prescore for boys and girls.\n",
    "    </p>\n",
    "    <p>First, <strong>Boys</strong> only stem plot where Stem Unit : 10 Leaf Unit : 1 N = 57\n",
    "    </p>\n",
    "</body>"
   ]
  },
  {
   "cell_type": "code",
   "execution_count": 10,
   "metadata": {
    "scrolled": false,
    "slideshow": {
     "slide_type": "slide"
    }
   },
   "outputs": [
    {
     "name": "stdout",
     "output_type": "stream",
     "text": [
      "1 | 2: represents 12\n",
      " leaf unit: 1\n",
      "            n: 57\n",
      "    8     1 | 55666777\n",
      "   16     2 | 12355679\n",
      "  (15)    3 | 001334445556689\n",
      "   26     4 | 1335666\n",
      "   19     5 | 002479\n",
      "   13     6 | 04\n",
      "   11     7 | 4699\n",
      "    7     8 | 123457\n",
      "    1     9 | 3\n"
     ]
    }
   ],
   "source": [
    "# we are going to use a stem-and-leaf plot function that comes with the aplpack library, so we load it here\n",
    "library (\"aplpack\")\n",
    "\n",
    "# set up a vector containing all the boys scores\n",
    "boysPreScores <- c(15,15,16,16,16,17,17,17,21,22,23,25,25,\n",
    "                   26,27,29,30,30,31,33,33,34,34,34,35,35,\n",
    "                   35,36,36,38,39,41,43,43,45,46,46,46,\n",
    "                   50,50,52,54,57,59,60,64,74,76,79,79,81,\n",
    "                   82,83,84,85,87,93)\n",
    "\n",
    "# and display our stem-and-leaf plot using stem.leaf(). unit=1 says that the leaf units are in 1s, style=\"bare\"\n",
    "# is used to make the plot look prettier, and m=1 says that the stem will not be split. Note that depths=TRUE \n",
    "# shows output of counts in each stem on the left hand side of the plot but it is a default input so we don't \n",
    "# have to explicitly pass this as a parameter. \n",
    "stem.leaf(boysPreScores,unit=1,style=\"bare\",m=1)"
   ]
  },
  {
   "cell_type": "markdown",
   "metadata": {
    "slideshow": {
     "slide_type": "notes"
    }
   },
   "source": [
    "<body>\n",
    "    <p>Note that stem 3 is the middle stem i.e. it contains the middle value. There are 15 observations on this stem, with 16 on the previous stems and 26 on the later stems.\n",
    "    </p>\n",
    "    <p>There appear to be two peaks on stem 3 and stem 8 which suggests that the data tends to cluster into two groups - a &#39;low&#39; group and a &#39;high&#39; group. The low group is much larger. The scores range from 15 to 93 - a wide spread of values.\n",
    "    </p>\n",
    "</body>"
   ]
  },
  {
   "cell_type": "markdown",
   "metadata": {
    "slideshow": {
     "slide_type": "notes"
    }
   },
   "source": [
    "<body>\n",
    "    <p>When there are a lot of observations on each stem we may split each stem into two halves and record leaf digits 0-4 on one of them an the digits 5-9 on the other:\n",
    "    </p>\n",
    "</body>"
   ]
  },
  {
   "cell_type": "code",
   "execution_count": 11,
   "metadata": {
    "slideshow": {
     "slide_type": "slide"
    }
   },
   "outputs": [
    {
     "name": "stdout",
     "output_type": "stream",
     "text": [
      "1 | 2: represents 12\n",
      " leaf unit: 1\n",
      "            n: 57\n",
      "   8     1 | 55666777\n",
      "  11     2 | 123\n",
      "  16     2 | 55679\n",
      "  24     3 | 00133444\n",
      "  (7)    3 | 5556689\n",
      "  26     4 | 133\n",
      "  23     4 | 5666\n",
      "  19     5 | 0024\n",
      "  15     5 | 79\n",
      "  13     6 | 04\n",
      "         6 | \n",
      "  11     7 | 4\n",
      "  10     7 | 699\n",
      "   7     8 | 1234\n",
      "   3     8 | 57\n",
      "   1     9 | 3\n"
     ]
    }
   ],
   "source": [
    "# we are going to use a stem-and-leaf plot function that comes with the aplpack library, so we load it here\n",
    "library (\"aplpack\")\n",
    "\n",
    "# set up a vector containing all the boys scores\n",
    "boysPreScores <- c(15,15,16,16,16,17,17,17,21,22,23,25,25,\n",
    "                   26,27,29,30,30,31,33,33,34,34,34,35,35,\n",
    "                   35,36,36,38,39,41,43,43,45,46,46,46,\n",
    "                   50,50,52,54,57,59,60,64,74,76,79,79,81,\n",
    "                   82,83,84,85,87,93)\n",
    "# and display our stem-and-leaf plot using stem.leaf(). unit=1 says that the leaf units are in 1s, style=\"bare\"\n",
    "# is used to make the plot look prettier, and m=2 says that each stem will split into two. Note that depths=TRUE \n",
    "# shows output of counts in each stem on the left hand side of the plot but it is a default input so we don't \n",
    "# have to explicitly pass this as a parameter. \n",
    "stem.leaf(boysPreScores,unit=1,style=\"bare\",m=2)"
   ]
  },
  {
   "cell_type": "markdown",
   "metadata": {
    "slideshow": {
     "slide_type": "notes"
    }
   },
   "source": [
    "<bold>\n",
    "    <p>Now the two clusters are more apparent with peaks at 93-84 and 33-34 (as well as 15-17). The lower cluster appears to be asymmetric with the scores skewed towards lower values. The overall middle of scores lies the range 35-39.\n",
    "    </p>\n",
    "</body>"
   ]
  },
  {
   "cell_type": "markdown",
   "metadata": {
    "slideshow": {
     "slide_type": "slide"
    }
   },
   "source": [
    "<body>\n",
    "    <p>Secondly, it is natural to compare these scores with the corresponding pre-scores for the <strong>Girls</strong>. We do this by means of a <strong>&#39;back-to-back&#39; stemplot</strong>.\n",
    "    </p>\n",
    "</body>"
   ]
  },
  {
   "cell_type": "markdown",
   "metadata": {
    "slideshow": {
     "slide_type": "notes"
    }
   },
   "source": [
    "<body>\n",
    "    <p>Note. This only works for a comparison between 2 stemplots - but with more than two we can draw them all on a common scale to attain the same effect and aid comparison.\n",
    "    </p>\n",
    "</body>"
   ]
  },
  {
   "cell_type": "code",
   "execution_count": 12,
   "metadata": {
    "scrolled": false,
    "slideshow": {
     "slide_type": "slide"
    }
   },
   "outputs": [
    {
     "name": "stdout",
     "output_type": "stream",
     "text": [
      "____________________________________\n",
      "  1 | 2: represents 12, leaf unit: 1 \n",
      "    girlsPreScores      boysPreScores\n",
      "____________________________________\n",
      "               |  1 |               \n",
      "               |  1 |55666777       \n",
      "              4|  2 |123            \n",
      "             97|  2 |55679          \n",
      "            432|  3 |00133444       \n",
      "          99877|  3 |5556689        \n",
      "         333221|  4 |133            \n",
      "         988875|  4 |5666           \n",
      "             21|  5 |0024           \n",
      "    98866666555|  5 |79             \n",
      "           4111|  6 |04             \n",
      "              9|  6 |               \n",
      "       43222111|  7 |4              \n",
      "          98665|  7 |699            \n",
      "       43320000|  8 |1234           \n",
      "           8765|  8 |57             \n",
      "              1|  9 |3              \n",
      "               |  9 |               \n",
      "               | 10 |               \n",
      "____________________________________\n",
      "n:           67      57         \n",
      "____________________________________\n"
     ]
    }
   ],
   "source": [
    "# we are going to use a stem-and-leaf plot function that comes with the aplpack library, so we load it here\n",
    "library (\"aplpack\")\n",
    "\n",
    "# set up a vector containing all the boys scores\n",
    "boysPreScores <- c(15,15,16,16,16,17,17,17,21,22,23,25,25,\n",
    "                   26,27,29,30,30,31,33,33,34,34,34,35,35,\n",
    "                   35,36,36,38,39,41,43,43,45,46,46,46,50,\n",
    "                   50,52,54,57,59,60,64,74,76,79,79,81,82,\n",
    "                   83,84,85,87,93)\n",
    "# set up a vector containing all the girls scores\n",
    "girlsPreScores <-c(24,29,27,34,33,32,39,39,38,37,37,43,43,\n",
    "                   43,42,42,41,49,48,48,48,47,45,52,51,56,\n",
    "                   56,64,61,61,61,69,59,58,58,56,56,56,55,\n",
    "                   55,55,74,73,72,72,72,71,71,71,79,78,76,\n",
    "                   76,75,84,83,83,82,80,80,80,80,88,87,86,\n",
    "                   85,91)\n",
    "# and display our back-to-back stem-and-leaf plot using stem.leaf.backback(). unit=1 says that the leaf units are \n",
    "# in 1s, style=\"bare\" is used to make the plot look prettier, and m=2 says that each stem will split into two. \n",
    "# Note that depths=FALS suppresses the output of counts in each stem. \n",
    "stem.leaf.backback(girlsPreScores,boysPreScores,unit=1,style=\"bare\",m=2,depths=FALSE)"
   ]
  },
  {
   "cell_type": "markdown",
   "metadata": {
    "slideshow": {
     "slide_type": "notes"
    }
   },
   "source": [
    "<body>\n",
    "    <p>The distribution of girls&#39; pre-scores also clusters with two groups, with more in the &#39;higher&#39; group. Note also that the lower group of girls is more symmetrical, peaking at 42-43, whereas the boys&#39; scores were skewed towards lower values.\n",
    "    </p>\n",
    "    <p>In general it seems as though the bulk of the girls&#39; marks are greater than those of the boys.\n",
    "    </p>\n",
    "</body>"
   ]
  },
  {
   "cell_type": "markdown",
   "metadata": {
    "slideshow": {
     "slide_type": "slide"
    }
   },
   "source": [
    "<body>\n",
    "    <h3>3.2.2 Histogram\n",
    "    </h3>\n",
    "    <p>A histogram is a very useful picture giving the shape, spread and level of a distribution and is more useful than the stem plot with large data sets.\n",
    "    </p>\n",
    "    <p>Reconsider the <strong>Education Data</strong> set, we considered the stemplots of the prescore distributions for the boys and girls separately. We now construct histograms:\n",
    "    </p>\n",
    "</body>"
   ]
  },
  {
   "cell_type": "markdown",
   "metadata": {
    "slideshow": {
     "slide_type": "slide"
    }
   },
   "source": [
    "<body>\n",
    "    <ol type=\"1\">\n",
    "        <li>Define a set of class intervals in such a way that the class intervals cover the set of possible data values and that each data value belongs to one and only one interval.</li>\n",
    "        <li>Allocate each observation to a class interval and count up the frequencies for each interval.</li>\n",
    "    </ol>\n",
    "</body>"
   ]
  },
  {
   "cell_type": "markdown",
   "metadata": {
    "slideshow": {
     "slide_type": "slide"
    }
   },
   "source": [
    "<body>\n",
    "    <ol start=\"3\">\n",
    "        <li>If the class intervals have <strong>equal</strong> width then plot a bar to represent the frequency or relative frequency of each interval.</li>\n",
    "        <li>If the widths are <strong>unequal</strong>, then<br>\n",
    "        Height of bar = relative frequency / width of class interval.</li>\n",
    "    </ol>\n",
    "    <p>Relative Frequency = Class Frequency / Total Frequency\n",
    "    </p>    \n",
    "</body>"
   ]
  },
  {
   "cell_type": "markdown",
   "metadata": {
    "slideshow": {
     "slide_type": "notes"
    }
   },
   "source": [
    "<body>\n",
    "    <p>It is important to define the boundaries between adjacent class intervals in such a way that an observation cannot equal a boundary value.\n",
    "    </p>\n",
    "</body>"
   ]
  },
  {
   "cell_type": "markdown",
   "metadata": {
    "slideshow": {
     "slide_type": "slide"
    }
   },
   "source": [
    "<body>\n",
    "    <p>For example, using boys pre-scores. We take the class intervals to be as follows and construct a Grouped Frequency Table.\n",
    "    </p>\n",
    "    <table>\n",
    "    <thead>\n",
    "        <tr class=\"header\">\n",
    "        <th style=\"text-align: left;\">Class Interval</th>\n",
    "        <th><space></th>\n",
    "        <th>Frequency</th>\n",
    "        <th>Relative Frequency</th>\n",
    "        </tr>\n",
    "    </thead>\n",
    "    <tbody>\n",
    "        <tr class=\"odd\">\n",
    "        <td style=\"text-align: left;\">10.5 - 20.5</td>\n",
    "        <td><del>/ / / /</del> / / /</td>\n",
    "        <td>8</td>\n",
    "        <td>8 / 57</td>\n",
    "        </tr>\n",
    "        <tr class=\"even\">\n",
    "        <td style=\"text-align: left;\">20.5 - 30.5</td>\n",
    "        <td><del>/ / / /</del> <del>/ / / /</del></td>\n",
    "        <td>10</td>\n",
    "        <td>10 / 57</td>\n",
    "        </tr>\n",
    "        <tr class=\"odd\">\n",
    "        <td style=\"text-align: left;\">30.5 - 40.5</td>\n",
    "        <td><del>/ / / /</del> <del>/ / / /</del> / / /</td>\n",
    "        <td>13</td>\n",
    "        <td></td>\n",
    "        </tr>\n",
    "        <tr class=\"even\">\n",
    "        <td style=\"text-align: left;\">40.5 - 50.5</td>\n",
    "        <td><del>/ / / /</del> / / / /</td>\n",
    "        <td>9</td>\n",
    "        <td></td>\n",
    "        </tr>\n",
    "        <tr class=\"odd\">\n",
    "        <td style=\"text-align: left;\">50.5 - 60.5</td>\n",
    "        <td><del>/ / / /</del></td>\n",
    "        <td>5</td>\n",
    "        <td></td>\n",
    "        </tr>\n",
    "        <tr class=\"even\">\n",
    "        <td style=\"text-align: left;\">60.5 - 70.5</td>\n",
    "        <td>/</td>\n",
    "        <td>1</td>\n",
    "        <td></td>\n",
    "        </tr>\n",
    "        <tr class=\"odd\">\n",
    "        <td style=\"text-align: left;\">70.5 - 80.5</td>\n",
    "        <td>/ / / /</td>\n",
    "        <td>4</td>\n",
    "        <td></td>\n",
    "        </tr>\n",
    "        <tr class=\"even\">\n",
    "        <td style=\"text-align: left;\">80.5 - 90.5</td>\n",
    "        <td><del>/ / / /</del> /</td>\n",
    "        <td>6</td>\n",
    "        <td></td>\n",
    "        </tr>\n",
    "        <tr class=\"odd\">\n",
    "        <td style=\"text-align: left;\">90.5 - 100.5</td>\n",
    "        <td>/</td>\n",
    "        <td>1</td>\n",
    "        <td></td>\n",
    "        </tr>\n",
    "    </tbody>\n",
    "    </table>\n",
    "</body>"
   ]
  },
  {
   "cell_type": "markdown",
   "metadata": {
    "slideshow": {
     "slide_type": "slide"
    }
   },
   "source": [
    "<body>\n",
    "    <p>The intervals are of equal width, so we plot relative frequency which is the <strong>proportion</strong> of the data values falling within a given class interval.\n",
    "    </p>\n",
    "</body>"
   ]
  },
  {
   "cell_type": "code",
   "execution_count": 13,
   "metadata": {
    "scrolled": false,
    "slideshow": {
     "slide_type": "slide"
    }
   },
   "outputs": [
    {
     "data": {
      "image/png": "[encoded data removed]",
      "text/plain": [
       "Plot with title \"Boys Pre-scores\""
      ]
     },
     "metadata": {
      "image/png": {
       "height": 360,
       "width": 480
      }
     },
     "output_type": "display_data"
    }
   ],
   "source": [
    "# set up the vector of boys prescores\n",
    "boysPreScores <- c(15,15,16,16,16,17,17,17,21,22,23,25,25,\n",
    "                   26,27,29,30,30,31,33,33,34,34,34,35,35,\n",
    "                   35,36,36,38,39,41,43,43,45,46,46,46,50,\n",
    "                   50,52,54,57,59,60,64,74,76,79,79,81,82,\n",
    "                   83,84,85,87,93)\n",
    "\n",
    "# we call the hist() function suppressing the output as we wish to change the counts displayed on the plot. We do\n",
    "# this by storing the output from hist() in the bhist variable. We tell hist() that we want the plot to contain\n",
    "# 9 buckets and plot=FALSE suppresses the output\n",
    "bhist <- hist(boysPreScores,breaks=9,plot=FALSE)\n",
    "\n",
    "# now modify the counts so that they are proportions of the total so that we show the relative frequency\n",
    "bhist$counts <- bhist$counts / sum(bhist$counts)\n",
    "\n",
    "# now plot the histogram\n",
    "plot(bhist,freq=TRUE, ylab=\"Relative Frequency\",axes=FALSE,main=\"Boys Pre-scores\")\n",
    "\n",
    "# and modify the labels and ticks on the x and y axes respectively\n",
    "axis(side=1,at=bhist$mids,labels=seq(15,95,10))\n",
    "axis(side=2,tick=TRUE)\n",
    "\n",
    "# and draw a box round the plot\n",
    "box(lty=\"solid\")"
   ]
  },
  {
   "cell_type": "markdown",
   "metadata": {
    "slideshow": {
     "slide_type": "slide"
    }
   },
   "source": [
    "<body>\n",
    "    <p>Stemplots and Histograms are useful for gaining information about:\n",
    "    </p>\n",
    "    <ol type=\"1\">\n",
    "        <li>the <strong>spread</strong> of the distribution</li>\n",
    "        <li>the number of peaks</li>\n",
    "        <li>whether it is <strong>symmetric</strong> or <strong>asymmetric</strong></li>\n",
    "        <li>any <strong>outliers</strong> that don't fit in to the bulk of the distribution</li>\n",
    "        <li>any gaps</li>\n",
    "    </ol>\n",
    "</body>"
   ]
  },
  {
   "cell_type": "markdown",
   "metadata": {
    "slideshow": {
     "slide_type": "slide"
    }
   },
   "source": [
    "<body>\n",
    "    <h2>3.3 Shape of the Distribution of Data\n",
    "    </h2>\n",
    "    <p>Viewing the outline of histograms and stem and leaf plots allows us to draw a general picture about the distribution of the data.\n",
    "    </p>\n",
    "</body>"
   ]
  },
  {
   "cell_type": "markdown",
   "metadata": {
    "slideshow": {
     "slide_type": "slide"
    }
   },
   "source": [
    "<body>\n",
    "    <ul>\n",
    "        <li>If the plot has more than one peak then it can only be either symmetric or non-symmetric.\n",
    "        </li>\n",
    "        <li>If the plot is unimodal (single peaked) then it can take one of the following forms. \n",
    "        </li>\n",
    "    </ul>\n",
    "</body>"
   ]
  },
  {
   "cell_type": "markdown",
   "metadata": {
    "slideshow": {
     "slide_type": "notes"
    }
   },
   "source": [
    "<body>\n",
    "    <p>Note that the following plots illustrate the shape of distrtibutions for both symmetric and skewed data. They are arranged so that the plot on the left is a Stem and Leaf Plot (Minimum at top, Maximum at bottom) and the plot on the right is a Histogram (Minimum at left, Maximum at right). \n",
    "    </p>\n",
    "</body>"
   ]
  },
  {
   "cell_type": "markdown",
   "metadata": {
    "slideshow": {
     "slide_type": "slide"
    }
   },
   "source": [
    "<body>\n",
    "    <h3>3.3.1 Symmetric\n",
    "    </h3>\n",
    "    <p><img style=\"float: left;\" src =\"MATPMD1Chapter3Fig1.png\" width=\"50%\"/>\n",
    "    </p>\n",
    "</body>"
   ]
  },
  {
   "cell_type": "markdown",
   "metadata": {
    "slideshow": {
     "slide_type": "slide"
    }
   },
   "source": [
    "<body>\n",
    "    <h3>3.3.2 Negatively Skewed\n",
    "    </h3>\n",
    "    <p><img style=\"float: left;\" src =\"MATPMD1Chapter3Fig2.png\" width=\"50%\"/>\n",
    "    </p>\n",
    "</body>"
   ]
  },
  {
   "cell_type": "markdown",
   "metadata": {
    "slideshow": {
     "slide_type": "slide"
    }
   },
   "source": [
    "<body>\n",
    "    <h3>3.3.3 Positively Skewed\n",
    "    </h3>\n",
    "    <p><img style=\"float: left;\" src =\"MATPMD1Chapter3Fig3.png\" width=\"50%\"/>\n",
    "    </p>\n",
    "</body>"
   ]
  },
  {
   "cell_type": "markdown",
   "metadata": {
    "slideshow": {
     "slide_type": "slide"
    }
   },
   "source": [
    "<body>\n",
    "    <h2>3.4 Appropriate Scale\n",
    "    </h2>\n",
    "    <p>Choosing an appropriate scale for stem and leaf plots and histograms (as with all graphs, in fact) is important. It can be a process of trial and error to obtain a reasonable number of rows\n",
    "    </p>\n",
    "</body>"
   ]
  },
  {
   "cell_type": "markdown",
   "metadata": {
    "slideshow": {
     "slide_type": "slide"
    }
   },
   "source": [
    "<body>\n",
    "    <ul>\n",
    "        <li>too few and we lose the shape of the data</li>\n",
    "        <li>too many and we cannot obtain the overall shape of the distribution.</li>\n",
    "    </ul>\n",
    "    <p>A rule of thumb is : use $\\sqrt{n}$ rows for $n$ observations\n",
    "    </p>\n",
    "</body>"
   ]
  },
  {
   "cell_type": "markdown",
   "metadata": {
    "slideshow": {
     "slide_type": "notes"
    }
   },
   "source": [
    "<body>\n",
    "    <h2>3.5 Visualising Data: Summary for one variable\n",
    "    </h2>\n",
    "    <p>We have now looked at the following types of plot : Pie Charts, Bar Graphs, Stem and Leaf Plots, and Histograms. All of these plots allow us to visualise whether there is a difference between the data and what we proposed or whether there are any differences between groups of data. However, we may often be interested in whether there is any relationship between two or more variables.\n",
    "    </p>\n",
    "</body>"
   ]
  },
  {
   "cell_type": "markdown",
   "metadata": {
    "slideshow": {
     "slide_type": "slide"
    }
   },
   "source": [
    "<body>\n",
    "    <h2>3.6 Visualising Data: Multiple variables\n",
    "    </h2>\n",
    "    <p><strong>Scatter plots</strong> (also called Bivariate Plots) are a visual way of seeing if there is any association or relationship between different variables (measures). The graph is formed by plotting the data against two axes: the $x$ (horizontal) axis and the $y$ (vertical) axis.\n",
    "    </p>\n",
    "</body>"
   ]
  },
  {
   "cell_type": "markdown",
   "metadata": {
    "slideshow": {
     "slide_type": "slide"
    }
   },
   "source": [
    "<body>\n",
    "    <ol>\n",
    "        <li><strong>Which variable goes on the y-axis?</strong> This should be the value that is considered to result from a response to the value on the x-axis.</li>\n",
    "        <li><strong>The scales on the axes.</strong> Identify the smallest and largest value of each variable and then ensure that the range chosen for the plot variable includes these values.</li>\n",
    "    </ol>\n",
    "</body>"
   ]
  },
  {
   "cell_type": "markdown",
   "metadata": {
    "slideshow": {
     "slide_type": "slide"
    }
   },
   "source": [
    "<body>\n",
    "    <ol start=\"3\">\n",
    "        <li>It is important neither to compress or extend the scales because this can alter the picture.</li>\n",
    "        <li>The shape allows us to say whether there is a relationship and, if so, what form it might take.</li>\n",
    "        <li>Any relationship is not necessarily causal.</li>\n",
    "    </ol>\n",
    "</body>"
   ]
  },
  {
   "cell_type": "code",
   "execution_count": 14,
   "metadata": {
    "scrolled": false,
    "slideshow": {
     "slide_type": "slide"
    }
   },
   "outputs": [
    {
     "data": {
      "image/png": "[encoded data removed]",
      "text/plain": [
       "Plot with title \"Task completion time vs Experience\""
      ]
     },
     "metadata": {
      "image/png": {
       "height": 360,
       "width": 480
      }
     },
     "output_type": "display_data"
    }
   ],
   "source": [
    "# set up a data fram of employees ids, their experience, and time taken\n",
    "employees.df <- data.frame(id = seq(1,10,1),\n",
    "                           experience = c(1,5,8,16,3,6,12,2,5,9),\n",
    "                           time = c(30,26,20,15,30,18,15,27,22,20))\n",
    "\n",
    "# plot the completion time (y-axis) against experience (x-axis). Note that the ylim option controls the range\n",
    "# shown on the y-axis\n",
    "plot(employees.df$experience,employees.df$time,\n",
    "     main=\"Task completion time vs Experience\",\n",
    "     xlab=\"Experience (months)\",\n",
    "     ylab=\"Time to complete (hours)\",ylim=c(10,35))"
   ]
  },
  {
   "cell_type": "markdown",
   "metadata": {
    "slideshow": {
     "slide_type": "slide"
    }
   },
   "source": [
    "<body>\n",
    "    <h2>3.7 The Five Number Summary\n",
    "    </h2>\n",
    "    <p>First of all we <strong>order</strong> the data values from smallest to largest and denote them by:\n",
    "    </p>\n",
    "    <p>$x(1) , x(2) , ................x(n)$\n",
    "    </p>\n",
    "</body>"
   ]
  },
  {
   "cell_type": "markdown",
   "metadata": {
    "slideshow": {
     "slide_type": "notes"
    }
   },
   "source": [
    "<body>\n",
    "    <p>where the number in the brackets tells us the position of the observation within the sample. (This is called the order statistic.) So that,\n",
    "    </p>\n",
    "</body>"
   ]
  },
  {
   "cell_type": "markdown",
   "metadata": {
    "slideshow": {
     "slide_type": "slide"
    }
   },
   "source": [
    "<body>\n",
    "    <ol style=\"list-style: none;\">\n",
    "        <li>$x(1)$ = minimum value in sample</li>\n",
    "        <li>$x(n)$ = maximum value in sample</li>\n",
    "    </ol>\n",
    "    <p>The <strong>Five Number Summary</strong> gives us a &#39;Numerical Summary&#39; of our data. The Five Numbers involved are:\n",
    "    </p>\n",
    "</body>"
   ]
  },
  {
   "cell_type": "markdown",
   "metadata": {
    "slideshow": {
     "slide_type": "slide"
    }
   },
   "source": [
    "<body>\n",
    "    <ol>\n",
    "        <li><strong>Minimum</strong> - The smallest number in our set of data.</li>\n",
    "        <li><strong>Maximum</strong> - The largest number in our set of data.</li>\n",
    "        <li><strong>Median</strong> - The ‘middle’ number of our set of data i.e. half the data is less than this value and half above.</li>\n",
    "    </ol>\n",
    "</body>"
   ]
  },
  {
   "cell_type": "markdown",
   "metadata": {
    "slideshow": {
     "slide_type": "slide"
    }
   },
   "source": [
    "<body>\n",
    "    <ol start=\"4\">\n",
    "        <li><strong>Lower Quartile</strong> - One quarter of the data is less than this value and three quarters greater.</li>\n",
    "        <li><strong>Upper Quartile</strong> - One quarter of the data is greater than this value and three quarter less.</li>\n",
    "    </ol>\n",
    "</body>"
   ]
  },
  {
   "cell_type": "markdown",
   "metadata": {
    "slideshow": {
     "slide_type": "slide"
    }
   },
   "source": [
    "<body>\n",
    "    <h3>3.7.1 The Five Number Summary Positions\n",
    "    </h3>\n",
    "    <ol>\n",
    "        <li>The Minimum is in Position 1</li>\n",
    "        <li>The Maximum is in Position $n$</li>\n",
    "        <li>The Median is the $\\frac{n+1}{2}$th smallest observation i.e. in Position $\\frac{n+1}{2}$</li>\n",
    "    </ol>\n",
    "</body>"
   ]
  },
  {
   "cell_type": "markdown",
   "metadata": {
    "slideshow": {
     "slide_type": "slide"
    }
   },
   "source": [
    "<body>\n",
    "    <ol start=\"4\">\n",
    "        <li>The Lower Quartile is the $\\frac{n+1}{4}$th smallest observation i.e. in Position $\\frac{n+1}{4}$</li>\n",
    "        <li>The Upper Quartile is the $\\frac{3\\times(n+1)}{4}$th smallest observation i.e. in Position $\\frac{3\\times(n+1)}{4}$</li>\n",
    "    </ol>\n",
    "</body>"
   ]
  },
  {
   "cell_type": "markdown",
   "metadata": {
    "slideshow": {
     "slide_type": "slide"
    }
   },
   "source": [
    "<body>   \n",
    "    <p>For example, consider the data: $$ 2 \\quad 7 \\quad 12 \\quad 13 \\quad 15 \\quad 17 \\quad 21 $$\n",
    "    </p>\n",
    "    <p>The sample median is in position $\\frac{7+1}{2} = 4$, the 4th smallest value. \n",
    "    </p>\n",
    "    <p>So the sample median = 13\n",
    "</body>"
   ]
  },
  {
   "cell_type": "markdown",
   "metadata": {
    "slideshow": {
     "slide_type": "slide"
    }
   },
   "source": [
    "<body>   \n",
    "    $$ 2 \\quad 7 \\quad 12 \\quad 13 \\quad 15 \\quad 17 \\quad 21 $$\n",
    "    <p>The lower quartile is in position $\\frac{7+1}{4} = 2$, the 2nd smallest value. \n",
    "    </p>\n",
    "    <p>So the value of the lower quartile = 7\n",
    "</body>"
   ]
  },
  {
   "cell_type": "markdown",
   "metadata": {
    "slideshow": {
     "slide_type": "slide"
    }
   },
   "source": [
    "<body>   \n",
    "    $$ 2 \\quad 7 \\quad 12 \\quad 13 \\quad 15 \\quad 17 \\quad 21 $$\n",
    "    <p>The upper quartile is in position $\\frac{3 \\times (7+1)}{4} = 6$, the 6th smallest value \n",
    "    </p>\n",
    "    <p>So the value of the upper quartile = 17\n",
    "    </p>\n",
    "</body>"
   ]
  },
  {
   "cell_type": "markdown",
   "metadata": {
    "slideshow": {
     "slide_type": "slide"
    }
   },
   "source": [
    "<body>   \n",
    "    <p>For example, consider the data: $$ 2 \\quad 7 \\quad 12 \\quad 13 \\quad 15 \\quad 17 $$\n",
    "    </p>\n",
    "    <p>The sample median is in position $\\frac{6+1}{2} = 3.5$. \n",
    "    </p>\n",
    "    <p>So the median = $\\frac{12+13}{2}$ = 12.5\n",
    "</body>"
   ]
  },
  {
   "cell_type": "markdown",
   "metadata": {
    "slideshow": {
     "slide_type": "slide"
    }
   },
   "source": [
    "<body>   \n",
    "    $$ 2 \\quad 7 \\quad 12 \\quad 13 \\quad 15 \\quad 17 $$\n",
    "    <p>The lower quartile is in position $\\frac{6+1}{4} = 1.75$, the 1.75th smallest value. \n",
    "    </p>\n",
    "    <p>Calculate this value as: $\\quad 2+0.75 \\times (7-2) \\quad = \\quad 2+0.75\\times 5$\n",
    "    </p>\n",
    "    <p>So the value of the lower quartile = 5.75\n",
    "</body>"
   ]
  },
  {
   "cell_type": "markdown",
   "metadata": {
    "slideshow": {
     "slide_type": "slide"
    }
   },
   "source": [
    "<body>   \n",
    "    $$ 2 \\quad 7 \\quad 12 \\quad 13 \\quad 15 \\quad 17 $$\n",
    "    <p>The upper quartile is in position $\\frac{3 \\times (6+1)}{4} = 5.25$, the 5.25th smallest value \n",
    "    </p>\n",
    "    <p>Calculate this value as: $\\quad 15+0.25 \\times (17-15) \\quad = \\quad 15+0.25\\times 2$\n",
    "    </p>\n",
    "    <p>So the value of the upper quartile = 15.5\n",
    "    </p>\n",
    "</body>"
   ]
  },
  {
   "cell_type": "markdown",
   "metadata": {
    "slideshow": {
     "slide_type": "slide"
    }
   },
   "source": [
    "<body>\n",
    "    <h3>3.7.2 The Five Number Summary Boxplot\n",
    "    </h3>\n",
    "    <p>It is possible to turn the Five Number Summary into a picture by means of a <strong>boxplot</strong>.\n",
    "</body>"
   ]
  },
  {
   "cell_type": "markdown",
   "metadata": {
    "slideshow": {
     "slide_type": "notes"
    }
   },
   "source": [
    "<body>\n",
    "    <p>We mark off the five numbers on a vertical (or horizontal) scale - long lines for the median and quartiles and short lines for Min and Max. A box is then constructed about the first three lines and whiskers between Min and Q1 and between Max and Q3.\n",
    "    </p>\n",
    "    <p>This is also called a Box and Whisker plot. This plot is useful for assessing the symmetry of the data distribution and particularly for identifying outliers.\n",
    "    </p>\n",
    "</body>"
   ]
  },
  {
   "cell_type": "markdown",
   "metadata": {
    "slideshow": {
     "slide_type": "slide"
    }
   },
   "source": [
    "<body>\n",
    "    <img src=\"MATPMD1Chapter3Fig4.png\" width=50%>\n",
    "</body>   "
   ]
  },
  {
   "cell_type": "markdown",
   "metadata": {
    "slideshow": {
     "slide_type": "slide"
    }
   },
   "source": [
    "<body>\n",
    "    <h3>3.7.3 Application to plant growth data\n",
    "    </h3>\n",
    "    <p>Using the PlantGrowth data set, available from the R datasets package, yields are compared given different treatments during the growing season (measured by weight of dried plants).\n",
    "    </p>\n",
    "</body>"
   ]
  },
  {
   "cell_type": "markdown",
   "metadata": {
    "slideshow": {
     "slide_type": "notes"
    }
   },
   "source": [
    "<body>\n",
    "    <p>The distribution of the yields for each treatment type can be shown using a box and whisker plot.\n",
    "    </p>\n",
    "</body>"
   ]
  },
  {
   "cell_type": "code",
   "execution_count": 15,
   "metadata": {
    "scrolled": false,
    "slideshow": {
     "slide_type": "slide"
    }
   },
   "outputs": [
    {
     "data": {
      "image/png": "[encoded data removed]",
      "text/plain": [
       "plot without title"
      ]
     },
     "metadata": {
      "image/png": {
       "height": 360,
       "width": 480
      }
     },
     "output_type": "display_data"
    }
   ],
   "source": [
    "# we are going to use the PlantGrowth R dataset (this comes with the R datasets package)\n",
    "data(\"PlantGrowth\")\n",
    "\n",
    "# show a boxplot of the plant growth weight for the ctrl, trt1 and trt2 groups\n",
    "boxplot(PlantGrowth$weight[PlantGrowth$group==\"ctrl\"],\n",
    "        PlantGrowth$weight[PlantGrowth$group==\"trt1\"],\n",
    "        PlantGrowth$weight[PlantGrowth$group==\"trt2\"],\n",
    "        names=c(\"Control\",\"Treatment 1\",\"Treatment 2\"))"
   ]
  },
  {
   "cell_type": "markdown",
   "metadata": {
    "slideshow": {
     "slide_type": "notes"
    }
   },
   "source": [
    "<body>\n",
    "    <p>Comparing the boxplots, we see that compared with the Control group the distribution of the yield for Treatment 1 is shifted lower, whereas the distribution of the yield for Treatment 2 is shifted higher. Therefore in general (on average) the yield for the group given Treatment 1 is lower than the Control group and the yield for the group given Treatment 2 is higher than the control group.\n",
    "    </p>\n",
    "</body>"
   ]
  },
  {
   "cell_type": "markdown",
   "metadata": {
    "slideshow": {
     "slide_type": "slide"
    }
   },
   "source": [
    "<body>\n",
    "    <p>Thus it seems that (on average) Treatment 2 leads to greater yields.\n",
    "    </p>\n",
    "    <p>Note that Median(Control) = 5.155,<br> compared to Median(Treatment 1) = 4.55 <br>and Median(Treatment 2) = 5.435.\n",
    "    </p>\n",
    "</body>"
   ]
  },
  {
   "cell_type": "markdown",
   "metadata": {
    "slideshow": {
     "slide_type": "notes"
    }
   },
   "source": [
    "<body>\n",
    "    <p>The spreads of the distributions for the Control and Treatment 1 groups are similar, whereas for the Treatment 2 group the spread is narrower. The distributions for both Treatment 1 and Treatment 2 are more asymmetric than for the Control group. \n",
    "    </p>\n",
    "</body>"
   ]
  },
  {
   "cell_type": "markdown",
   "metadata": {
    "slideshow": {
     "slide_type": "slide"
    }
   },
   "source": [
    "<body>\n",
    "    <h2>3.8 Outlier Detection\n",
    "    </h2>\n",
    "    <p>Previously in the PlantGrowth data we saw for Treatment 1 that there was a value that seemed “disconnected” from the other values so we now classify such outlying data.\n",
    "    </p>\n",
    "</body>"
   ]
  },
  {
   "cell_type": "markdown",
   "metadata": {
    "slideshow": {
     "slide_type": "slide"
    }
   },
   "source": [
    "<body>\n",
    "    <p>Rules for outlier detection:</p>\n",
    "    <table>\n",
    "        <thead>\n",
    "            <tr class=\"header\">\n",
    "            <th style=\"text-align: left;\">Values of $x$</th>\n",
    "            <th style=\"text-align: right;\">Outlier type</th>\n",
    "            </tr>\n",
    "        </thead>\n",
    "        <tbody>\n",
    "            <tr class=\"odd\">\n",
    "            <td style=\"text-align: left;width:75%;\">$x \\lt Q_1 - 1.5(Q_3 - Q_1)$</td>\n",
    "            <td style=\"text-align: right;\">mild outlier</td>\n",
    "            </tr>\n",
    "            <tr class=\"even\">\n",
    "            <td style=\"text-align: left;width:75%;\">$x \\gt Q_3 + 1.5 (Q_3 - Q_1)$</td>\n",
    "            <td style=\"text-align: right;\">mild outlier</td>\n",
    "            </tr>\n",
    "            <tr class=\"odd\">\n",
    "            <td style=\"text-align: left;width:75%;\">$x \\lt Q_1 - 3(Q_3 - Q_1)$</td>\n",
    "            <td style=\"text-align: right;\">extreme outlier</td>\n",
    "            </tr>\n",
    "            <tr class=\"even\">\n",
    "            <td style=\"text-align: left;width:75%;\">$x \\gt Q_3 + 3(Q_3 - Q_1)$</td>\n",
    "            <td style=\"text-align: right;\">extreme outlier</td>\n",
    "            </tr>\n",
    "        </tbody>\n",
    "    </table>\n",
    "</body>"
   ]
  },
  {
   "cell_type": "markdown",
   "metadata": {
    "slideshow": {
     "slide_type": "slide"
    }
   },
   "source": [
    "<body>\n",
    "    <p>Usually if we have a possible outlier, we mark them on the boxplot.\n",
    "    </p>\n",
    "    <p>Possible outliers should be given extra attention, they may be mistakes in the data collection. \n",
    "    </p>\n",
    "    <p>Note, if the underlying distribution is asymmetric then we expect there to be some outlying values.\n",
    "    </p>\n",
    "</body>"
   ]
  },
  {
   "cell_type": "markdown",
   "metadata": {
    "slideshow": {
     "slide_type": "slide"
    }
   },
   "source": [
    "<body>\n",
    "    <p>Statistical procedures can be sensitive to the effects of such possible outliers. When they are present we can:\n",
    "    </p>\n",
    "    <ul>\n",
    "        <li>try to transform the data \n",
    "        </li>\n",
    "        <li>or if that does not work then we can analyse the data both including and excluding the outliers.\n",
    "        </li>\n",
    "    </ul>\n",
    "</body>"
   ]
  },
  {
   "cell_type": "markdown",
   "metadata": {
    "slideshow": {
     "slide_type": "notes"
    }
   },
   "source": [
    "<body>\n",
    "    <p>If, after removing outliers, our conclusions are different then a more <strong>sophisticated analysis</strong> will be necessary and if not, then our conclusions are not sensitive to the presence of the possible outliers and are then termed <strong>robust.</strong>\n",
    "    </p>\n",
    "</body>"
   ]
  },
  {
   "cell_type": "markdown",
   "metadata": {
    "slideshow": {
     "slide_type": "slide"
    }
   },
   "source": [
    "<body>\n",
    "    <p>Consider another set of data for Soil pH, a measure of the extent to which soil is acidic or basic. This is one characteristic that plays an important role in the suitability of soil to support vegetation at mine reclamation sites. The following data were recorded for 26 mine soil specimens.\n",
    "    </p>\n",
    "    <p>The observations are illustrated with a stem and leaf plot as follows:\n",
    "    </p>\n",
    "</body>"
   ]
  },
  {
   "cell_type": "code",
   "execution_count": 16,
   "metadata": {
    "scrolled": false,
    "slideshow": {
     "slide_type": "slide"
    }
   },
   "outputs": [
    {
     "name": "stdout",
     "output_type": "stream",
     "text": [
      "\n",
      "  The decimal point is at the |\n",
      "\n",
      "  2 | 689\n",
      "  3 | \n",
      "  3 | 5666899\n",
      "  4 | 133444\n",
      "  4 | 556778\n",
      "  5 | 2\n",
      "  5 | \n",
      "  6 | 0\n",
      "  6 | 58\n",
      "\n"
     ]
    }
   ],
   "source": [
    "# create a vector containing all the soil pH values\n",
    "soilPh <- c(2.62,2.83,2.91,3.49,3.58,3.58,3.59,3.84,3.86,\n",
    "            3.90,4.11,4.25,4.27,4.36,4.41,4.43,4.46,4.53,\n",
    "            4.58,4.65,4.65,4.78,5.21,6.00,6.49,6.79)\n",
    "\n",
    "# call the R stem() function to make a stem-and-leaf plot of the pH values\n",
    "stem(soilPh)"
   ]
  },
  {
   "cell_type": "markdown",
   "metadata": {
    "slideshow": {
     "slide_type": "slide"
    }
   },
   "source": [
    "<body>\n",
    "    <p>The 5 number summary is\n",
    "    </p>\n",
    "    <table>\n",
    "    <thead>\n",
    "        <tr class=\"header\">\n",
    "        <th>Summary Statistic</th>\n",
    "        <th>Value</th>\n",
    "        </tr>\n",
    "    </thead>\n",
    "    <tbody>\n",
    "        <tr class=\"odd\">\n",
    "        <td>Maximum</td>\n",
    "        <td>6.79</td>\n",
    "        </tr>\n",
    "        <tr class=\"even\">\n",
    "        <td>Upper Quartile</td>\n",
    "        <td>4.65</td>\n",
    "        </tr>\n",
    "        <tr class=\"odd\">\n",
    "        <td>Median</td>\n",
    "        <td>4.32</td>\n",
    "        </tr>\n",
    "        <tr class=\"even\">\n",
    "        <td>Lower Quartile</td>\n",
    "        <td>3.59</td>\n",
    "        </tr>\n",
    "        <tr class=\"odd\">\n",
    "        <td>Minimum</td>\n",
    "        <td>2.62</td>\n",
    "        </tr>\n",
    "    </tbody>\n",
    "    </table>\n",
    "</body>"
   ]
  },
  {
   "cell_type": "markdown",
   "metadata": {
    "slideshow": {
     "slide_type": "notes"
    }
   },
   "source": [
    "<body>\n",
    "    <p>On insepction of the stem and leaf plot it would appear that 6.00, 6.49 and 6.79 could be possible outliers.\n",
    "    </p>\n",
    "</body>"
   ]
  },
  {
   "cell_type": "markdown",
   "metadata": {
    "slideshow": {
     "slide_type": "slide"
    }
   },
   "source": [
    "<body>\n",
    "    <p>Note that Q3 - Q1 = 1.06; 1.5x(Q3 - Q1) = 1.59; and 3x(Q3 - Q1) = 3.18.\n",
    "    </p>\n",
    "    <p>Outliers must either be less than 2.00 or greater than 6.24. In fact we find:\n",
    "    </p>\n",
    "    <ul>\n",
    "        <li>Mild outliers: 6.49 and 6.79\n",
    "        </li>\n",
    "        <li>Extreme outliers: None\n",
    "        </li>\n",
    "    </ul>\n",
    "</body>"
   ]
  },
  {
   "cell_type": "markdown",
   "metadata": {
    "slideshow": {
     "slide_type": "slide"
    }
   },
   "source": [
    "<body>\n",
    "    <p>Now the real question is, “What do we do with these values?”\n",
    "    </p>\n",
    "    <p>We should check them to see if any mistake was made in the readings or perhaps a different person recorded those data points. \n",
    "    </p>\n",
    "    <p>If not, then the data do appear to be asymmetric, so perhaps it is not surprising that there are some possible outliers in the data.\n",
    "    </p>\n",
    "</body>"
   ]
  },
  {
   "cell_type": "markdown",
   "metadata": {
    "slideshow": {
     "slide_type": "slide"
    }
   },
   "source": [
    "<body>\n",
    "    <h2>3.9 Numerical Summaries\n",
    "    </h2>\n",
    "    <p>We have already considered the five number summary and here we will consider some other measures of location (centre, level) and spread (variation).\n",
    "    </p>\n",
    "</body>"
   ]
  },
  {
   "cell_type": "markdown",
   "metadata": {
    "slideshow": {
     "slide_type": "notes"
    }
   },
   "source": [
    "<body>\n",
    "    <p>Note we will only give summaries for unimodal distributions (distributions having one peak). If the data appear to come from a mix of two populations it is better to describe each separately.\n",
    "    </p>\n",
    "</body>"
   ]
  },
  {
   "cell_type": "markdown",
   "metadata": {
    "slideshow": {
     "slide_type": "slide"
    }
   },
   "source": [
    "<body>\n",
    "    <h3>3.9.1 Measures of Central Tendency or Level or Location\n",
    "    </h3>\n",
    "    <p>We consider the mean, median and mode.\n",
    "    </p>\n",
    "</body>"
   ]
  },
  {
   "cell_type": "markdown",
   "metadata": {
    "slideshow": {
     "slide_type": "slide"
    }
   },
   "source": [
    "<body>\n",
    "    <h3>3.9.2 Sample Mode\n",
    "    </h3>\n",
    "    <p>The sample mode is that data value which occurs most frequently in the sample. \n",
    "    </p>\n",
    "    <p>If data are grouped into class intervals, then the modal class is the class interval with the highest frequency.\n",
    "    </p>\n",
    "</body>"
   ]
  },
  {
   "cell_type": "markdown",
   "metadata": {
    "slideshow": {
     "slide_type": "slide"
    }
   },
   "source": [
    "<body>\n",
    "    <h3>3.9.3 Sample Mean\n",
    "    </h3>\n",
    "    <p>The sample mean is the arithmetic average of the data values. If we denote the data values by $x_1,x_2,...,x_n$ then\n",
    "    </p>\n",
    "    <p>$$\\begin{equation}\\mathrm{Sample Mean} \\quad = \\quad \\frac{x_1+x_2+....+x_n}{n} \\quad = \\quad \\frac{1}{n}\\sum\\limits_{i=1}^{n}{x_i}  \\\\\n",
    "    = \\frac{\\mathrm{sum~of~data~values}}{\\mathrm{number~of~data~values}} \\label{eq:30} \\tag{3.1} \\end{equation}$$\n",
    "    </p>\n",
    "    <p>The sample mean is usually denoted by $\\bar{x}$.\n",
    "    </p>\n",
    "</body>"
   ]
  },
  {
   "cell_type": "markdown",
   "metadata": {
    "slideshow": {
     "slide_type": "slide"
    }
   },
   "source": [
    "<body>\n",
    "    <p>If the distribution is symmetric, the mean, median and mode all coincide. \n",
    "    </p>\n",
    "    <p>If it is asymmetric then the mean and median can be quite different. \n",
    "    </p>\n",
    "    <p>The sample mean is not resistant to the effect of outliers and so the sample median is a preferable measure in asymmetric distributions.\n",
    "    </p>\n",
    "</body>"
   ]
  },
  {
   "cell_type": "markdown",
   "metadata": {
    "slideshow": {
     "slide_type": "slide"
    }
   },
   "source": [
    "<body>\n",
    "    <p><img style=\"float: left;\" src =\"MATPMD1Chapter3Fig5.png\" width=\"75%\"/>\n",
    "    </p>\n",
    "</body>"
   ]
  },
  {
   "cell_type": "markdown",
   "metadata": {
    "slideshow": {
     "slide_type": "slide"
    }
   },
   "source": [
    "<body>\n",
    "    <h3>3.9.4 Example: Sample median and Sample mean with skewed data\n",
    "    </h3>\n",
    "    <p>For example, for the data     1, 2, 3, 4, 5, 6, 7, 8, 9, 10  and 10000\n",
    "    </p>\n",
    "    <p>What are the Median and Mean?\n",
    "    </p>\n",
    "</body>"
   ]
  },
  {
   "cell_type": "markdown",
   "metadata": {
    "slideshow": {
     "slide_type": "slide"
    }
   },
   "source": [
    "<body>\n",
    "    <p>Median = 6\n",
    "    </p>\n",
    "    <p>Mean = $\\frac{1+2+....+10000}{11}$ = 914.09\n",
    "    </p>\n",
    "    <p>So the median is a more appropriate measure of location.\n",
    "    </p>\n",
    "</body>"
   ]
  },
  {
   "cell_type": "markdown",
   "metadata": {
    "slideshow": {
     "slide_type": "slide"
    }
   },
   "source": [
    "<body>\n",
    "    <h2>3.10 Measures of Spread (Dispersion)\n",
    "    </h2>\n",
    "    <p>What is spread (or variability)? It happens because all observations are different from the sample mean. Hence we may measure spread using the deviations\n",
    "    </p> \n",
    "    <p>$x_1-\\bar{x}$, $x_2-\\bar{x}$, ...,$x_n-\\bar{x}$ \n",
    "    </p>\n",
    "    <p>of each data value from its sample mean.\n",
    "    </p>"
   ]
  },
  {
   "cell_type": "markdown",
   "metadata": {
    "slideshow": {
     "slide_type": "slide"
    }
   },
   "source": [
    "<body>\n",
    "    <p>How could we measure total variation? Unfortunately adding up these deviations just gives zero so as a measure of <strong>total variation</strong> we use:\n",
    "    </p>\n",
    "    <p>\n",
    "$$\\begin{equation}\n",
    "\\sum\\limits_{i=1}^{n}(x_i-\\bar{x})^2\\quad\\quad\\left[\\textrm{or} \\sum\\limits_{i=1}^{n}|x_i-\\bar{x}|\\right] \\label{eq:32} \\tag{3.2}\n",
    "\\end{equation}$$\n",
    "    </p>\n",
    "</body>"
   ]
  },
  {
   "cell_type": "markdown",
   "metadata": {
    "slideshow": {
     "slide_type": "slide"
    }
   },
   "source": [
    "<body>\n",
    "    <p>We define the <strong>sample variance</strong> of the data to be\n",
    "    </p>\n",
    "    <p>$$\\begin{equation}\n",
    "s^2 = \\frac{1}{n-1}\\left[\\sum\\limits_{i=1}^{n}(x_i-\\bar{x})^2\\right] \\label{eq:33} \\tag{3.3}\n",
    "\\end{equation}$$\n",
    "    </p>\n",
    "</body>"
   ]
  },
  {
   "cell_type": "markdown",
   "metadata": {
    "slideshow": {
     "slide_type": "slide"
    }
   },
   "source": [
    "<body>\n",
    "    <p>For hand calculation, this equals:\n",
    "    </p>\n",
    "    <p>\n",
    "$$\\begin{equation}\n",
    "s^2 = \\frac{1}{n-1}\\left[\\sum\\limits_{i=1}^{n}x_i^2-\\dfrac{\\left(\\sum\\limits_{i=1}^{n}x_i\\right)^2}{n}\\right] \\label{eq:4} \\tag{3.4}\n",
    "\\end{equation}$$\n",
    "    </p>\n",
    "</body>"
   ]
  },
  {
   "cell_type": "markdown",
   "metadata": {
    "slideshow": {
     "slide_type": "slide"
    }
   },
   "source": [
    "</body>\n",
    "    <p><strong>Example</strong> For the data 1, 2, 3, 4, 5, 6, 7, 8, 9, 10\n",
    "    </p>\n",
    "    <p>Calculate $s^2$:\n",
    "    </p>\n",
    "    <p>Sum of the data values = 55\n",
    "    </p>\n",
    "    <p>Sum of Squares = 385\n",
    "    </p>\n",
    "    <p>$s^2 = \\frac{1}{10-1}\\left[385-\\frac{55^2}{10}\\right]= 9.167$\n",
    "    </p>\n",
    "</body>"
   ]
  },
  {
   "cell_type": "markdown",
   "metadata": {
    "slideshow": {
     "slide_type": "slide"
    }
   },
   "source": [
    "<body>\n",
    "    <p>The <strong>standard deviation</strong> of the sample distribution is defined to be the square root of the sample variance $\\sqrt{s^2}$. The sample standard deviation denoted by $s$ is defined as\n",
    "    </p>\n",
    "    <p>\n",
    "$$\\begin{equation}\n",
    "s = \\sqrt{\\frac{1}{n-1}\\left[\\sum\\limits_{i=1}^{n}(x_i-\\bar{x})^2\\right]} \\label{eq:35} \\tag{3.5}\n",
    "\\end{equation}$$\n",
    "    </p>\n",
    "</body>"
   ]
  },
  {
   "cell_type": "markdown",
   "metadata": {
    "slideshow": {
     "slide_type": "slide"
    }
   },
   "source": [
    "<body>\n",
    "    <h2>3.11 Resistant measures\n",
    "    </h2>\n",
    "    <p>A <strong>resistant measure</strong> of any aspect of a distribution is relatively unaffected by changes in the numerical value of a small proportion of the total number of observations, no matter how large the changes may be. \n",
    "    </p>\n",
    "    <p>Therefore a resistant measure is not sensitive to outliers.\n",
    "    </p>\n",
    "</body>"
   ]
  },
  {
   "cell_type": "markdown",
   "metadata": {
    "slideshow": {
     "slide_type": "slide"
    }
   },
   "source": [
    "<body>\n",
    "    <table>\n",
    "    <thead>\n",
    "      <tr>\n",
    "        <th></th>\n",
    "        <th>Location</th>\n",
    "        <th>Spread</th>\n",
    "      </tr>\n",
    "    </thead>\n",
    "    <tbody>\n",
    "      <tr>\n",
    "          <td><strong>Resistant</strong></td>\n",
    "        <td>Median</td>\n",
    "        <td>Quartiles</td>\n",
    "      </tr>\n",
    "      <tr>\n",
    "        <td></td>\n",
    "        <td></td>\n",
    "        <td>Interquartile Range (IQR)</td>\n",
    "      </tr>\n",
    "      <tr>\n",
    "        <td></td>\n",
    "        <td></td>\n",
    "        <td>Quartile Deviation (QD)</td>\n",
    "      </tr>\n",
    "      <tr>\n",
    "          <td><strong>Nonresistant</strong></td>\n",
    "        <td>Mean</td>\n",
    "        <td>Variance</td>\n",
    "      </tr>\n",
    "      <tr>\n",
    "        <td></td>\n",
    "        <td></td>\n",
    "        <td>Standard Deviation</td>\n",
    "      </tr>\n",
    "    </tbody>\n",
    "    </table>\n",
    "</body>"
   ]
  },
  {
   "cell_type": "markdown",
   "metadata": {
    "slideshow": {
     "slide_type": "slide"
    }
   },
   "source": [
    "<body>\n",
    "    <h3>3.11.1 Exercise\n",
    "    </h3>\n",
    "    <p>Let us look at a small set of data. This data gives the number of full years service of 9 High Court Judges.\n",
    "    </p>\n",
    "    <p>0 1 3 4 6 8 13 19 22\n",
    "    </p>\n",
    "</body>"
   ]
  },
  {
   "cell_type": "markdown",
   "metadata": {
    "slideshow": {
     "slide_type": "slide"
    }
   },
   "source": [
    "<body>\n",
    "    <p>Suppose that the data was recorded incorrectly. The 22 years should have been recorded as 42 years. The data should have been as follows:\n",
    "    </p>\n",
    "    <p>0 1 3 4 6 8 13 19 42\n",
    "    </p>\n",
    "    <p>so there is an outlier in this data (42).\n",
    "    </p>\n",
    "</body>"
   ]
  },
  {
   "cell_type": "markdown",
   "metadata": {
    "slideshow": {
     "slide_type": "slide"
    }
   },
   "source": [
    "<body>\n",
    "    <p>Suppose that the data had been incorrectly recorded as 222 years instead. So the data was recorded as\n",
    "    </p>\n",
    "    <p>0 1 3 4 6 8 13 19 222\n",
    "    </p>\n",
    "    <p>so that there is a 'big' outlier in this data (222). \n",
    "    </p>\n",
    "</body>"
   ]
  },
  {
   "cell_type": "markdown",
   "metadata": {
    "slideshow": {
     "slide_type": "slide"
    }
   },
   "source": [
    "<body>\n",
    "    <p>What is the affect of these changes on our Numerical Summaries?\n",
    "    </p>\n",
    "    <table>\n",
    "    <colgroup>\n",
    "        <col style=\"width: 25%\" />\n",
    "        <col style=\"width: 25%\" />\n",
    "        <col style=\"width: 25%\" />\n",
    "        <col style=\"width: 25%\" />\n",
    "    </colgroup>\n",
    "    <thead>\n",
    "        <tr class=\"header\">\n",
    "        <th></th>\n",
    "        <th><strong>Mean</strong></th>\n",
    "        <th><strong>Median</strong></th>\n",
    "        <th><strong>Mode</strong></th>\n",
    "        </tr>\n",
    "    </thead>\n",
    "    <tbody>\n",
    "        <tr class=\"odd\">\n",
    "        <td>Original</td>\n",
    "        <td>8.44</td>\n",
    "        <td>6</td>\n",
    "        <td>N/D</td>\n",
    "        </tr>\n",
    "        <tr class=\"even\">\n",
    "        <td>With Outlier</td>\n",
    "        <td>10.67</td>\n",
    "        <td>6</td>\n",
    "        <td>N/D</td>\n",
    "        </tr>\n",
    "        <tr class=\"odd\">\n",
    "        <td>With ‘Big’ Outlier</td>\n",
    "        <td>30.67</td>\n",
    "        <td>6</td>\n",
    "        <td>N/D</td>\n",
    "        </tr>\n",
    "    </tbody>\n",
    "    </table>\n",
    "</body>"
   ]
  },
  {
   "cell_type": "markdown",
   "metadata": {
    "slideshow": {
     "slide_type": "slide"
    }
   },
   "source": [
    "<body>\n",
    "    <table>\n",
    "    <colgroup>\n",
    "        <col style=\"width: 25%\" />\n",
    "        <col style=\"width: 25%\" />\n",
    "        <col style=\"width: 25%\" />\n",
    "        <col style=\"width: 25%\" />\n",
    "    </colgroup>\n",
    "    <thead>\n",
    "        <tr class=\"header\">\n",
    "        <th></th>\n",
    "        <th><strong>Range</strong></th>\n",
    "        <th><span><strong>Inter-Quartile Range</strong></span></th>\n",
    "        <th><strong>Standard Deviation</strong></th>\n",
    "        </tr>\n",
    "    </thead>\n",
    "    <tbody>\n",
    "        <tr class=\"odd\">\n",
    "        <td>Original</td>\n",
    "        <td>22</td>\n",
    "        <td>14</td>\n",
    "        <td>7.89</td>\n",
    "        </tr>\n",
    "        <tr class=\"even\">\n",
    "        <td>With Outlier</td>\n",
    "        <td>42</td>\n",
    "        <td>14</td>\n",
    "        <td>13.21</td>\n",
    "        </tr>\n",
    "        <tr class=\"odd\">\n",
    "        <td>With ‘Big’ Outlier</td>\n",
    "        <td>222</td>\n",
    "        <td>14</td>\n",
    "        <td>72.00</td>\n",
    "        </tr>\n",
    "    </tbody>\n",
    "    </table>\n",
    "</body>"
   ]
  },
  {
   "cell_type": "markdown",
   "metadata": {
    "slideshow": {
     "slide_type": "slide"
    }
   },
   "source": [
    "<body>\n",
    "    <h2>3.12 Skewness\n",
    "    </h2>\n",
    "    <p>For distributions with outliers we can measure the level of skewness:\n",
    "    </p>\n",
    "    $$\\mathrm{Skewness}\\quad = \\quad 3 \\times \\frac{\\mathrm{mean}-\\mathrm{median}}{\\mathrm{Standard Deviation}}$$\n",
    "</body>"
   ]
  },
  {
   "cell_type": "markdown",
   "metadata": {
    "slideshow": {
     "slide_type": "slide"
    }
   },
   "source": [
    "<body>\n",
    "    <h3>3.12.1 Skewness Example\n",
    "    </h3>\n",
    "    <p>Referring back to the PlantGrowth example in Section 3.7.3 we calculate the skewness for the data distributions of each of the Treatment groups.\n",
    "    </p>\n",
    "</body>"
   ]
  },
  {
   "cell_type": "markdown",
   "metadata": {
    "slideshow": {
     "slide_type": "slide"
    }
   },
   "source": [
    "<body>\n",
    "    <p>We find that Skewness(Control)=0.231, Skewness(Treatment 1)=0.474, and Skewness(Treatment 2)=0.485 reflecting the greater asymmetry in the data for the two treatment groups.\n",
    "    </p>\n",
    "    <p>We compare the distributions for each of the distributions to confirm this level of asymmetry:\n",
    "</body>"
   ]
  },
  {
   "cell_type": "code",
   "execution_count": 17,
   "metadata": {
    "scrolled": false,
    "slideshow": {
     "slide_type": "slide"
    }
   },
   "outputs": [
    {
     "data": {
      "image/png": "[encoded data removed]",
      "text/plain": [
       "Plot with title \"Treatment 2\""
      ]
     },
     "metadata": {
      "image/png": {
       "height": 360,
       "width": 480
      }
     },
     "output_type": "display_data"
    }
   ],
   "source": [
    "# use the PlantGrowth data set from the R datasets package\n",
    "data(\"PlantGrowth\")\n",
    "\n",
    "# this call to par() sets up the plot screen to have 3 rows\n",
    "par(mfrow = c(3,1),oma = c(0, 5, 1, 0), mar = c(2, 0, 1, 0)+0.1, mgp = c(3,1,0))\n",
    "\n",
    "# use the density() function to plot the distribution of the weight of PlantGrowth for each of the ctrl, trt1\n",
    "# and trt2 groups. Note that the xaxt='n' parameter switches off tick labels as we don't want to see them on the\n",
    "# first and second rows.\n",
    "plot(density (PlantGrowth$weight[PlantGrowth$group==\"ctrl\"]),\n",
    "     main=\"Control\",xlab=NA,xaxt='n',xlim=c(2.75,7))\n",
    "# suppress the label on the x-axis for the first row\n",
    "axis(1, labels = FALSE)\n",
    "plot(density (PlantGrowth$weight[PlantGrowth$group==\"trt1\"]),\n",
    "     main=\"Treatment 1\",xlab=NA,xaxt='n',xlim=c(2.75,7))\n",
    "# suppress the label on the x-axis for the second row\n",
    "axis(1, labels = FALSE)\n",
    "plot(density (PlantGrowth$weight[PlantGrowth$group==\"trt2\"]),\n",
    "     main=\"Treatment 2\",xlab=NA,xlim=c(2.75,7))"
   ]
  },
  {
   "cell_type": "markdown",
   "metadata": {
    "slideshow": {
     "slide_type": "slide"
    }
   },
   "source": [
    "<body>\n",
    "    <h2>3.13 Using Numerical Summaries\n",
    "    </h2>\n",
    "    <ul>\n",
    "        <li>The standard deviation is often used as the measure of spread in preference to the variance because the units are the same as that of the observed data.</li>\n",
    "    </ul>\n",
    "</body>"
   ]
  },
  {
   "cell_type": "markdown",
   "metadata": {
    "slideshow": {
     "slide_type": "slide"
    }
   },
   "source": [
    "<body>\n",
    "    <p>When using numerical summaries it is important to use the appropriate summary.\n",
    "    </p>\n",
    "    <ul>\n",
    "        <li>Use either resistant or nonresistant measures (not a mixture of both).</li>\n",
    "        <li>If there are outliers or multiple peaks, the resistant measures of location and spread must be used.</li>\n",
    "    </ul>\n",
    "</body>"
   ]
  },
  {
   "cell_type": "markdown",
   "metadata": {
    "slideshow": {
     "slide_type": "slide"
    }
   },
   "source": [
    "<body>\n",
    "     <p>Another measure of spread sometimes used along with the interquartile range is the range: the difference between the maximum and minimum.\n",
    "    </p>\n",
    "    <p>Note, however, that this measure, along with the maximum and minimum themselves, is sensitive to outliers.\n",
    "    </p>\n",
    "</body>"
   ]
  },
  {
   "cell_type": "markdown",
   "metadata": {
    "slideshow": {
     "slide_type": "slide"
    }
   },
   "source": [
    "<body>\n",
    "    <h2>3.14 Important Notes\n",
    "    </h2>\n",
    "    <ol>\n",
    "        <li>Always construct an appropriate plot prior to doing any formal statistical analysis. This will allow you to form a subjective impression about the likely result of any analysis.</li>\n",
    "    </ol>|\n",
    "</body>"
   ]
  },
  {
   "cell_type": "markdown",
   "metadata": {
    "slideshow": {
     "slide_type": "slide"
    }
   },
   "source": [
    "<body>\n",
    "    <ol start=\"2\">\n",
    "        <li>From the plot, you should be able to form an opinion regarding the distribution of the data and, therefore, which summary statistics are most appropriate.</li>\n",
    "    </ol>|\n",
    "</body>"
   ]
  },
  {
   "cell_type": "markdown",
   "metadata": {
    "slideshow": {
     "slide_type": "slide"
    }
   },
   "source": [
    "<body>\n",
    "    <ol start=\"3\">\n",
    "        <li>Many formal statistical techniques assume that the data is approximately Normally distributed so that they follow a bell-shaped distribution.</li>\n",
    "    </ol>\n",
    "</body>"
   ]
  }
 ],
 "metadata": {
  "kernelspec": {
   "display_name": "R",
   "language": "R",
   "name": "ir"
  },
  "language_info": {
   "codemirror_mode": "r",
   "file_extension": ".r",
   "mimetype": "text/x-r-source",
   "name": "R",
   "pygments_lexer": "r",
   "version": "3.6.3"
  }
 },
 "nbformat": 4,
 "nbformat_minor": 4
}
