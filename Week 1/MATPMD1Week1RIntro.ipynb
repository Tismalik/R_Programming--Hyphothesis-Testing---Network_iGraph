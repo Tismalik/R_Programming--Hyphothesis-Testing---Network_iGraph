{
 "cells": [
  {
   "cell_type": "markdown",
   "metadata": {
    "slideshow": {
     "slide_type": "slide"
    }
   },
   "source": [
    "<html>\n",
    "<head>\n",
    "    <h2>University of Stirling</h2>\n",
    "    <h2>Computing Science and Mathematics</h2>\n",
    "    <h2>MATPMD1 Statistics for Data Science</h2>\n",
    "    <h1>Week 1 Let's get going with R\n",
    "    </h1>  \n",
    "</head>"
   ]
  },
  {
   "cell_type": "markdown",
   "metadata": {},
   "source": [
    "<body>\n",
    "    <p>DO NOT worry if this is the first time you have used R, or indeed any statistical or mathematical programming language. You are not expected to work this out for yourself. We will go through the R commands that we will us in the lab sessions and I have put examples below so that you can copy into RStudio, or run in a Jupyter R Notebook. You will find that all you need is a very few commands which in a short time will become familiar.\n",
    "    </p>\n",
    "</body>"
   ]
  },
  {
   "cell_type": "markdown",
   "metadata": {},
   "source": [
    "<body>\n",
    "    <h1>Some tips for R commands that you may find useful\n",
    "    </h1>\n",
    "    <p>The next few code cells are to give a few pointers to those who haven't used R before, giving some hints as to what commands you might need to use to get going with calculating some of the numerical statistics.\n",
    "    </p>\n",
    "    <p>I have demonstrated these commands using a Jupyter R Notebook, but you can copy and paste to run these in RStudio as well. Use whichever tool you feel most useful to you. Both tools are using the R programming language\n",
    "    </p>\n",
    "</body>"
   ]
  },
  {
   "cell_type": "code",
   "execution_count": 1,
   "metadata": {},
   "outputs": [
    {
     "data": {
      "text/html": [
       "10"
      ],
      "text/latex": [
       "10"
      ],
      "text/markdown": [
       "10"
      ],
      "text/plain": [
       "[1] 10"
      ]
     },
     "metadata": {},
     "output_type": "display_data"
    }
   ],
   "source": [
    "# This cell in the Jupyter Notebook is an R code cell. You can tell it is\n",
    "# a code cell by looking in the tabs above to the right of the one that \n",
    "# says Run you should see it saying Code. \n",
    "# You can use the Run button to run the R code to see if it works. You can\n",
    "# also press shift-Enter to run the cell.\n",
    "#\n",
    "# If you're wondering why these lines are all starting with #, the are called \n",
    "# comments and are our way of telling R not to interpret these as commands. \n",
    "# Try removing a hash and see whether R likes it.\n",
    "#\n",
    "# Now for some base commands. We are going to concentrate on what we need to \n",
    "# calculate our startistical summaries. So, we need to add up some numbers and\n",
    "# divide by another number. Always remember that the real skill is in knowing what\n",
    "# the formulae are, what numbers to put in the formulae, and then interpreting \n",
    "# the results.\n",
    "#\n",
    "# So, if I wanted to calculate the mean of 1,2,3 and 4, I want to sum up the\n",
    "# numbers:\n",
    "\n",
    "1+2+3+4\n"
   ]
  },
  {
   "cell_type": "code",
   "execution_count": 2,
   "metadata": {},
   "outputs": [
    {
     "data": {
      "text/html": [
       "7"
      ],
      "text/latex": [
       "7"
      ],
      "text/markdown": [
       "7"
      ],
      "text/plain": [
       "[1] 7"
      ]
     },
     "metadata": {},
     "output_type": "display_data"
    }
   ],
   "source": [
    "# And then I want to divide by 4 so I use the \"/\" symbol to mean divide:\n",
    "\n",
    "1+2+3+4/4"
   ]
  },
  {
   "cell_type": "code",
   "execution_count": 3,
   "metadata": {},
   "outputs": [
    {
     "data": {
      "text/html": [
       "2.5"
      ],
      "text/latex": [
       "2.5"
      ],
      "text/markdown": [
       "2.5"
      ],
      "text/plain": [
       "[1] 2.5"
      ]
     },
     "metadata": {},
     "output_type": "display_data"
    }
   ],
   "source": [
    "# Uh oh! what went wrong there? Well, we need to remember to bracket all the numbers \n",
    "# as R doesn't realise we want to divide them all by 4. So here goes:\n",
    "\n",
    "(1+2+3+4)/4"
   ]
  },
  {
   "cell_type": "code",
   "execution_count": 4,
   "metadata": {},
   "outputs": [
    {
     "data": {
      "text/html": [
       "2.5"
      ],
      "text/latex": [
       "2.5"
      ],
      "text/markdown": [
       "2.5"
      ],
      "text/plain": [
       "[1] 2.5"
      ]
     },
     "metadata": {},
     "output_type": "display_data"
    }
   ],
   "source": [
    "# That looks right, so now we're on the right track. You can also use a function\n",
    "# in R called sum(). Note how we pass the values we want to sum as what we call\n",
    "# parameters to the function, separated by commas.\n",
    "\n",
    "sum(1,2,3,4)/4"
   ]
  },
  {
   "cell_type": "code",
   "execution_count": 5,
   "metadata": {},
   "outputs": [
    {
     "data": {
      "text/html": [
       "2.5"
      ],
      "text/latex": [
       "2.5"
      ],
      "text/markdown": [
       "2.5"
      ],
      "text/plain": [
       "[1] 2.5"
      ]
     },
     "metadata": {},
     "output_type": "display_data"
    }
   ],
   "source": [
    "# So let's try that and store our result in a new variable called mean1234 using the \n",
    "# assignment operator \"<-\". \n",
    "\n",
    "mean1234 <- sum(1,2,3,4)/4\n",
    "\n",
    "# So we have stored the result in mean1234. In order to see the result we need to \n",
    "# type the variable name:\n",
    "\n",
    "mean1234\n"
   ]
  },
  {
   "cell_type": "code",
   "execution_count": 6,
   "metadata": {},
   "outputs": [
    {
     "data": {
      "text/html": [
       "2.5"
      ],
      "text/latex": [
       "2.5"
      ],
      "text/markdown": [
       "2.5"
      ],
      "text/plain": [
       "[1] 2.5"
      ]
     },
     "metadata": {},
     "output_type": "display_data"
    }
   ],
   "source": [
    "# Or if on the first command with the assignment we put round brackets round the \n",
    "# statement then R will display the result. \n",
    "\n",
    "(mean1234 <- sum(1,2,3,4)/4)"
   ]
  },
  {
   "cell_type": "code",
   "execution_count": 7,
   "metadata": {},
   "outputs": [
    {
     "name": "stdout",
     "output_type": "stream",
     "text": [
      "The contents of v1 are:"
     ]
    },
    {
     "data": {
      "text/html": [
       "<style>\n",
       ".list-inline {list-style: none; margin:0; padding: 0}\n",
       ".list-inline>li {display: inline-block}\n",
       ".list-inline>li:not(:last-child)::after {content: \"\\00b7\"; padding: 0 .5ex}\n",
       "</style>\n",
       "<ol class=list-inline><li>1</li><li>2</li><li>3</li><li>4</li></ol>\n"
      ],
      "text/latex": [
       "\\begin{enumerate*}\n",
       "\\item 1\n",
       "\\item 2\n",
       "\\item 3\n",
       "\\item 4\n",
       "\\end{enumerate*}\n"
      ],
      "text/markdown": [
       "1. 1\n",
       "2. 2\n",
       "3. 3\n",
       "4. 4\n",
       "\n",
       "\n"
      ],
      "text/plain": [
       "[1] 1 2 3 4"
      ]
     },
     "metadata": {},
     "output_type": "display_data"
    },
    {
     "name": "stdout",
     "output_type": "stream",
     "text": [
      "The length of v1 is:"
     ]
    },
    {
     "data": {
      "text/html": [
       "4"
      ],
      "text/latex": [
       "4"
      ],
      "text/markdown": [
       "4"
      ],
      "text/plain": [
       "[1] 4"
      ]
     },
     "metadata": {},
     "output_type": "display_data"
    },
    {
     "name": "stdout",
     "output_type": "stream",
     "text": [
      "The sum of all the elements of v1 are:"
     ]
    },
    {
     "data": {
      "text/html": [
       "10"
      ],
      "text/latex": [
       "10"
      ],
      "text/markdown": [
       "10"
      ],
      "text/plain": [
       "[1] 10"
      ]
     },
     "metadata": {},
     "output_type": "display_data"
    }
   ],
   "source": [
    "# One final step is that we may wish to pass this set of numbers into another function,\n",
    "# and it starts to get a bit messy. So we are going to set up what is called a vector\n",
    "# using the c() function in R. This vector is an ordered list of values. \n",
    "# If we do this we can store our list in a variable name and use it to pass to other functions. \n",
    "# In the case above this will be sum(). Note that I am using  the function cat() just to make the \n",
    "# output more legible in the Jupyter R Notebook. You don't have to do this.\n",
    "#\n",
    "# First set up our vector:\n",
    "\n",
    "v1 <- c(1,2,3,4)\n",
    "\n",
    "# Let's see what it looks like:\n",
    "cat('The contents of v1 are:')\n",
    "v1\n",
    "\n",
    "# And check its length. This might be useful if we want to know how many elements are\n",
    "# stored in the vector. The length() function is another useful R function.\n",
    "cat('The length of v1 is:')\n",
    "length (v1)\n",
    "\n",
    "# Now pass the vector as a parameter to sum() and check we get the result we expect\n",
    "cat('The sum of all the elements of v1 are:')\n",
    "sum(v1)"
   ]
  },
  {
   "cell_type": "code",
   "execution_count": 8,
   "metadata": {},
   "outputs": [
    {
     "name": "stdout",
     "output_type": "stream",
     "text": [
      "The mean of 1,2,3,4 is:"
     ]
    },
    {
     "data": {
      "text/html": [
       "2.5"
      ],
      "text/latex": [
       "2.5"
      ],
      "text/markdown": [
       "2.5"
      ],
      "text/plain": [
       "[1] 2.5"
      ]
     },
     "metadata": {},
     "output_type": "display_data"
    }
   ],
   "source": [
    "# So pulling it all together we have:\n",
    "\n",
    "# set up a vector of the numbers we want to get the mean for\n",
    "v1 <- c(1,2,3,4)\n",
    "\n",
    "# store the mean in our variable mean1234\n",
    "mean1234 <- sum(v1)/length(v1)\n",
    "\n",
    "# and check we got the answer right\n",
    "cat('The mean of 1,2,3,4 is:')\n",
    "mean1234"
   ]
  },
  {
   "cell_type": "code",
   "execution_count": 9,
   "metadata": {},
   "outputs": [
    {
     "data": {
      "text/html": [
       "<table class=\"dataframe\">\n",
       "<caption>A data.frame: 4 × 6</caption>\n",
       "<thead>\n",
       "\t<tr><th scope=col>parties</th><th scope=col>A</th><th scope=col>B</th><th scope=col>C1</th><th scope=col>C2</th><th scope=col>D</th></tr>\n",
       "\t<tr><th scope=col>&lt;fct&gt;</th><th scope=col>&lt;dbl&gt;</th><th scope=col>&lt;dbl&gt;</th><th scope=col>&lt;dbl&gt;</th><th scope=col>&lt;dbl&gt;</th><th scope=col>&lt;dbl&gt;</th></tr>\n",
       "</thead>\n",
       "<tbody>\n",
       "\t<tr><td>Tory   </td><td>110</td><td>420</td><td>321</td><td>353</td><td>183</td></tr>\n",
       "\t<tr><td>Labour </td><td> 11</td><td> 99</td><td>119</td><td>363</td><td>286</td></tr>\n",
       "\t<tr><td>Lib-Dem</td><td> 37</td><td>237</td><td>143</td><td>205</td><td>134</td></tr>\n",
       "\t<tr><td>Other  </td><td>  2</td><td>  8</td><td> 12</td><td>  9</td><td>  6</td></tr>\n",
       "</tbody>\n",
       "</table>\n"
      ],
      "text/latex": [
       "A data.frame: 4 × 6\n",
       "\\begin{tabular}{llllll}\n",
       " parties & A & B & C1 & C2 & D\\\\\n",
       " <fct> & <dbl> & <dbl> & <dbl> & <dbl> & <dbl>\\\\\n",
       "\\hline\n",
       "\t Tory    & 110 & 420 & 321 & 353 & 183\\\\\n",
       "\t Labour  &  11 &  99 & 119 & 363 & 286\\\\\n",
       "\t Lib-Dem &  37 & 237 & 143 & 205 & 134\\\\\n",
       "\t Other   &   2 &   8 &  12 &   9 &   6\\\\\n",
       "\\end{tabular}\n"
      ],
      "text/markdown": [
       "\n",
       "A data.frame: 4 × 6\n",
       "\n",
       "| parties &lt;fct&gt; | A &lt;dbl&gt; | B &lt;dbl&gt; | C1 &lt;dbl&gt; | C2 &lt;dbl&gt; | D &lt;dbl&gt; |\n",
       "|---|---|---|---|---|---|\n",
       "| Tory    | 110 | 420 | 321 | 353 | 183 |\n",
       "| Labour  |  11 |  99 | 119 | 363 | 286 |\n",
       "| Lib-Dem |  37 | 237 | 143 | 205 | 134 |\n",
       "| Other   |   2 |   8 |  12 |   9 |   6 |\n",
       "\n"
      ],
      "text/plain": [
       "  parties A   B   C1  C2  D  \n",
       "1 Tory    110 420 321 353 183\n",
       "2 Labour   11  99 119 363 286\n",
       "3 Lib-Dem  37 237 143 205 134\n",
       "4 Other     2   8  12   9   6"
      ]
     },
     "metadata": {},
     "output_type": "display_data"
    }
   ],
   "source": [
    "# Finally you may notice in some of the R snippets in the Week 1 content we set up a data frame. Think of this as your\n",
    "# spreadsheet with columns of data with a label, and then rows of data showing values for each of the columns. Here is \n",
    "# an example that we use to set up a data from with 4 rows of data. The first column is called parties, so in each of \n",
    "# the four rows are the entry in the first column is of a political party. The following five columns are labelled with \n",
    "# a voting class: A, B, C1, C2 and D respectively. The contents under each column of data for each row contain the \n",
    "# number of votes for each party for that column's social class. \n",
    "# Note that we store the dataframe in the variable named pprefs.df using the assignment operator \"<-\".\n",
    "\n",
    "pprefs.df <- data.frame(parties = c(\"Tory\",\"Labour\",\"Lib-Dem\", \"Other\"),\n",
    "                       A = c(110,11,37,2),\n",
    "                       B = c(420,99,237,8),\n",
    "                       C1 = c(321,119,143,12),\n",
    "                       C2 = c(353,363,205,9),\n",
    "                       D = c(183,286,134,6))\n",
    "\n",
    "# So how does R show us the contents of pprefs.df. To see we just type the variable name\n",
    "pprefs.df"
   ]
  },
  {
   "cell_type": "code",
   "execution_count": 10,
   "metadata": {},
   "outputs": [
    {
     "data": {
      "text/html": [
       "<style>\n",
       ".list-inline {list-style: none; margin:0; padding: 0}\n",
       ".list-inline>li {display: inline-block}\n",
       ".list-inline>li:not(:last-child)::after {content: \"\\00b7\"; padding: 0 .5ex}\n",
       "</style>\n",
       "<ol class=list-inline><li>110</li><li>11</li><li>37</li><li>2</li></ol>\n"
      ],
      "text/latex": [
       "\\begin{enumerate*}\n",
       "\\item 110\n",
       "\\item 11\n",
       "\\item 37\n",
       "\\item 2\n",
       "\\end{enumerate*}\n"
      ],
      "text/markdown": [
       "1. 110\n",
       "2. 11\n",
       "3. 37\n",
       "4. 2\n",
       "\n",
       "\n"
      ],
      "text/plain": [
       "[1] 110  11  37   2"
      ]
     },
     "metadata": {},
     "output_type": "display_data"
    }
   ],
   "source": [
    "# To access particular columns of data we use $. For example to find the values for the A social class we use:\n",
    "\n",
    "pprefs.df$A"
   ]
  },
  {
   "cell_type": "code",
   "execution_count": 11,
   "metadata": {},
   "outputs": [],
   "source": [
    "# Note that you can copy all the code in the cells above and paste them into RStudio. Make sure you get the \n",
    "# same answers!\n",
    "\n",
    "# Or in this Jupyter R Notebook you can dynamically change the values in the code cells above and run them. See if you\n",
    "# can find the mean of all the whole numbers between 1 and 10."
   ]
  }
 ],
 "metadata": {
  "kernelspec": {
   "display_name": "R",
   "language": "R",
   "name": "ir"
  },
  "language_info": {
   "codemirror_mode": "r",
   "file_extension": ".r",
   "mimetype": "text/x-r-source",
   "name": "R",
   "pygments_lexer": "r",
   "version": "3.6.3"
  }
 },
 "nbformat": 4,
 "nbformat_minor": 4
}
