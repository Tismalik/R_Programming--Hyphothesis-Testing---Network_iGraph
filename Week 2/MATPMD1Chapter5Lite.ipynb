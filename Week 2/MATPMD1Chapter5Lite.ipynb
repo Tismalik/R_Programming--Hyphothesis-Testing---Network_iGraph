{
 "cells": [
  {
   "cell_type": "markdown",
   "metadata": {
    "slideshow": {
     "slide_type": "slide"
    }
   },
   "source": [
    "<html>\n",
    "<head>\n",
    "    <h2>University of Stirling</h2>\n",
    "    <h2>Computing Science and Mathematics</h2>\n",
    "    <h2>MATPMD1 Statistics for Data Science</h2>\n",
    "    <h1>Chapter 5 Hypothesis Testing and Confidence Intervals</h1>\n",
    "</head>"
   ]
  },
  {
   "cell_type": "markdown",
   "metadata": {
    "slideshow": {
     "slide_type": "slide"
    }
   },
   "source": [
    "<body>\n",
    "    <p>We usually collect data from a sample of the population in order to draw conclusions about the corresponding parameter in the wider population (statistical inference).\n",
    "    </p>\n",
    "</body>"
   ]
  },
  {
   "cell_type": "markdown",
   "metadata": {
    "slideshow": {
     "slide_type": "slide"
    }
   },
   "source": [
    "<body>\n",
    "    <p>There are two common types of formal statistical inference:\n",
    "    <ul>\n",
    "        <li>Hypothesis Tests\n",
    "        </li>\n",
    "        <li>Confidence Intervals.\n",
    "        </li>\n",
    "    </ul>\n",
    "    <p>The appropriate method will depend on the question being asked.\n",
    "    </p>\n",
    "</body>"
   ]
  },
  {
   "cell_type": "markdown",
   "metadata": {
    "slideshow": {
     "slide_type": "slide"
    }
   },
   "source": [
    "<body>\n",
    "    <h2>5.1 Hypothesis Testing</h2>\n",
    "    <p>This method is appropriate when the question is of form :\n",
    "    </p>\n",
    "    <p>Is there <strong>sufficient</strong> evidence provided by the data in favour of some claim about the population?\n",
    "</body>"
   ]
  },
  {
   "cell_type": "markdown",
   "metadata": {
    "slideshow": {
     "slide_type": "slide"
    }
   },
   "source": [
    "<body>\n",
    "    <h3>5.1.1 The Null Hypothesis</h3>\n",
    "    <p>The first step in hypothesis testing is to state a claim against which we will try to find evidence. \n",
    "    </p>\n",
    "    <p>This is called the <strong>Null Hypothesis</strong>.\n",
    "    </p>\n",
    "</body>"
   ]
  },
  {
   "cell_type": "markdown",
   "metadata": {
    "slideshow": {
     "slide_type": "slide"
    }
   },
   "source": [
    "<body>\n",
    "    <h3>5.1.2 Null and Alternative Hypotheses</h3>\n",
    "    <p>The statement being tested in a hypothesis test is the null hypothesis. \n",
    "    </p>\n",
    "    <p>The test is designed to assess the strength of the evidence against the null hypothesis. The null hypothesis is usually a statement of 'no effect' or 'no difference'.\n",
    "    </p>\n",
    "</body>"
   ]
  },
  {
   "cell_type": "markdown",
   "metadata": {
    "slideshow": {
     "slide_type": "slide"
    }
   },
   "source": [
    "<body>\n",
    "    <p>Usually the phrase 'the null hypothesis' is written as $H_0$. \n",
    "    </p>\n",
    "    <p>The <strong>null hypothesis</strong> is a statement about a population, in terms of some parameter or parameters.\n",
    "    </p>\n",
    "</body>"
   ]
  },
  {
   "cell_type": "markdown",
   "metadata": {
    "slideshow": {
     "slide_type": "slide"
    }
   },
   "source": [
    "<body>\n",
    "    <p>For Example: Is the average age of students registering for First Year Undergraduate Courses at Stirling 18.2 years? If $\\mu$ is the mean age of students registering for First Year Courses at Stirling our null hypothesis could be:\n",
    "    </p>\n",
    "    <p>$H_0 : \\mu = 18.2$\n",
    "    </p>\n",
    "</body>"
   ]
  },
  {
   "cell_type": "markdown",
   "metadata": {
    "slideshow": {
     "slide_type": "slide"
    }
   },
   "source": [
    "<body>\n",
    "    <p>This implies that the mean age of first year students is 18.2. The hypothesis which we hope or suspect is true is called the <strong>alternative hypothesis</strong> and is abbreviated to $H_1$. So in our example we express this as:\n",
    "    <p>\n",
    "    $H_1 : \\mu \\neq 18.2$\n",
    "    </p>\n",
    "    <p>This says that we suspect the mean age is not equal to 18.2.\n",
    "    </p>\n",
    "</body>"
   ]
  },
  {
   "cell_type": "markdown",
   "metadata": {
    "slideshow": {
     "slide_type": "slide"
    }
   },
   "source": [
    "<body>\n",
    "    <p>Note. The hypotheses always refer to the population not to a particular outcome.\n",
    "    </p>\n",
    "</body>"
   ]
  },
  {
   "cell_type": "markdown",
   "metadata": {
    "slideshow": {
     "slide_type": "slide"
    }
   },
   "source": [
    " <body>\n",
    "    <h3>5.1.3 One- and Two-Sided Alternatives</h3>\n",
    "    <p>The alternative hypothesis can take one of two forms depending on the question asked. \n",
    "    </p>\n",
    "    <p>For example, in the Age of First Year Students example, we could be asking:\n",
    "    </p>\n",
    "</body>"
   ]
  },
  {
   "cell_type": "markdown",
   "metadata": {
    "slideshow": {
     "slide_type": "slide"
    }
   },
   "source": [
    "<body>\n",
    "    <ol>\n",
    "        <li>Is the mean age different from 18.2?\n",
    "        </li>\n",
    "        <li>Is the mean age less than 18.2?\n",
    "        </li>\n",
    "        <li>Is the mean age greater than 18.2?\n",
    "        </li>\n",
    "    </ol>\n",
    "    <p>Note. 2) and 3) are the same except for the direction of the difference.\n",
    "    </p>\n",
    "</body>"
   ]
  },
  {
   "cell_type": "markdown",
   "metadata": {
    "slideshow": {
     "slide_type": "slide"
    }
   },
   "source": [
    "<body>\n",
    "    <p>The hypotheses for these are written as :\n",
    "    </p>\n",
    "    <ol>\n",
    "        <li>$H_0: \\mu=18.2$<br>\n",
    "            $H_1: \\mu \\neq 18.2$\n",
    "        </li>\n",
    "        <li>$H_0: \\mu=18.2$<br>\n",
    "            $H_1: \\mu \\lt 18.2$\n",
    "        </li>\n",
    "        <li>$H_0: \\mu=18.2$<br>\n",
    "            $H_1: \\mu \\gt 18.2$\n",
    "        </li>\n",
    "    </ol>\n",
    "</body>"
   ]
  },
  {
   "cell_type": "markdown",
   "metadata": {
    "slideshow": {
     "slide_type": "slide"
    }
   },
   "source": [
    "<body>\n",
    "    <p>Note that the null hypothesis is essentially the same in each case. The alternative hypothesis is taking two different forms i.e.\n",
    "    </p>\n",
    "    <ol>\n",
    "        <li>Two-Sided Alternative\n",
    "        </li>\n",
    "        <li>One- Sided Alternative\n",
    "        </li>\n",
    "        <li>One- Sided Alternative\n",
    "        </li>\n",
    "    </ol>\n",
    "</body>"
   ]
  },
  {
   "cell_type": "markdown",
   "metadata": {
    "slideshow": {
     "slide_type": "slide"
    }
   },
   "source": [
    "<body>\n",
    "    <p>Exactly which form the alternative hypothesis takes <strong>must</strong> be decided upon at the planning stage of any research.\n",
    "    </p>\n",
    "</body>"
   ]
  },
  {
   "cell_type": "markdown",
   "metadata": {
    "slideshow": {
     "slide_type": "slide"
    }
   },
   "source": [
    "<body>\n",
    "    <h3>5.1.4 The Form of A Test\n",
    "    </h3>\n",
    "    <p>The same principles apply to most tests and are as follows :\n",
    "    </p>\n",
    "</body>"
   ]
  },
  {
   "cell_type": "markdown",
   "metadata": {
    "slideshow": {
     "slide_type": "slide"
    }
   },
   "source": [
    "<body>\n",
    "    <ul>\n",
    "        <li>The test is based on a statistic that estimates the parameter that appears in the hypotheses. \n",
    "        </li>\n",
    "        <li>When $H_0$ is true we expect the estimate to take a value near the parameter value specified by $H_0$.\n",
    "        </li>\n",
    "    </ul>\n",
    "</body>"
   ]
  },
  {
   "cell_type": "markdown",
   "metadata": {
    "slideshow": {
     "slide_type": "slide"
    }
   },
   "source": [
    "<body>\n",
    "    <ul>\n",
    "        <li>Values of the estimate far from the parameter values specified by $H_0$ give evidence against $H_0$. \n",
    "        </li>\n",
    "        <li>The alternative hypothesis $H_1$ determines which directions count against $H_0$.\n",
    "        </li>\n",
    "    </ul>\n",
    "</body>"
   ]
  },
  {
   "cell_type": "markdown",
   "metadata": {
    "slideshow": {
     "slide_type": "slide"
    }
   },
   "source": [
    "<body>\n",
    "    <h2>5.2 Test of significance\n",
    "    </h2>\n",
    "    <p>We have stated that we are looking for evidence against a hypothesis so we require an objective rule for deciding when we have sufficient evidence. A hypothesis test assesses the evidence against the null hypothesis in terms of probability.\n",
    "    </p>\n",
    "</body>"
   ]
  },
  {
   "cell_type": "markdown",
   "metadata": {
    "slideshow": {
     "slide_type": "slide"
    }
   },
   "source": [
    "<body>\n",
    "    <p>If the observed outcome is unlikely under the supposition that the null hypothesis is true, but is more probable if the alternative is true, that outcome is evidence against $H_0$ in favour of $H_1$. \n",
    "    </p>\n",
    "    <p>The less probable the outcome is, the stronger the evidence that $H_0$ is false.\n",
    "    </p>\n",
    "</body>"
   ]
  },
  {
   "cell_type": "markdown",
   "metadata": {
    "slideshow": {
     "slide_type": "slide"
    }
   },
   "source": [
    "<body>\n",
    "    <p>In general, a hypothesis test finds the probability of getting an outcome as extreme or more extreme than the actually observed outcome. Here, extreme means far from what we would expect if $H_0$ were true.\n",
    "    </p>\n",
    "</body>"
   ]
  },
  {
   "cell_type": "markdown",
   "metadata": {
    "slideshow": {
     "slide_type": "slide"
    }
   },
   "source": [
    "<body>\n",
    "    <h3>5.2.1 p-value\n",
    "    </h3> \n",
    "    <p>The <strong>p-Value</strong> is the probability, $p$, computed <strong>assuming that $H_0$ is true</strong>, that the test statistics would take a value as extreme or more extreme than that actually observed. \n",
    "    </p>\n",
    "    <p>The smaller the P-value, the stronger the evidence against $H_0$ provided by the data.\n",
    "    </p>\n",
    "</body>"
   ]
  },
  {
   "cell_type": "markdown",
   "metadata": {
    "slideshow": {
     "slide_type": "slide"
    }
   },
   "source": [
    "<body>\n",
    "    <p>The final step often taken is to compare this p-value to a fixed value regarded as decisive (our rule defining when we have sufficient evidence to reject the null hypothesis).\n",
    "    </p>\n",
    "</body>"
   ]
  },
  {
   "cell_type": "markdown",
   "metadata": {
    "slideshow": {
     "slide_type": "slide"
    }
   },
   "source": [
    "<body>\n",
    "    <p>This cut-off value is called the <strong>significance level</strong> and is denoted by $\\alpha$. \n",
    "    </p>\n",
    "    <p>Usually the value chosen is $\\alpha = 0.05$. A p-value less than this level gives strong evidence that $H_0$ should be rejected as the data tested would happen no more than 5% of the time when $H_0$ is true.\n",
    "</body>"
   ]
  },
  {
   "cell_type": "markdown",
   "metadata": {
    "slideshow": {
     "slide_type": "slide"
    }
   },
   "source": [
    "<body>\n",
    "    <h3>5.2.2 Statistical Significance\n",
    "    </h3>\n",
    "    <p>If the p-value is as small as or smaller than $\\alpha$, we say that the data are statistically significant at level $\\alpha$.\n",
    "    </p>\n",
    "    <p>By convention, we usually regard $p \\lt 0.05$ as 'statistically significant'.\n",
    "    </p>\n",
    "</body>"
   ]
  },
  {
   "cell_type": "markdown",
   "metadata": {
    "slideshow": {
     "slide_type": "slide"
    }
   },
   "source": [
    "<body>\n",
    "    <h2>5.3 Confidence Intervals\n",
    "    </h2>\n",
    "    <p>Confidence Intervals are closely related to the Two-Sided Hypothesis Test. In fact, if we want to present what is called a 95% Confidence Interval for $\\mu$, the population mean, (sample size of $n$ and known standard deviation $\\sigma$) it is as follows:\n",
    "    </p>\n",
    "</body>"
   ]
  },
  {
   "cell_type": "markdown",
   "metadata": {
    "slideshow": {
     "slide_type": "slide"
    }
   },
   "source": [
    "<body>\n",
    "    <p>\n",
    "$$\\begin{equation}\n",
    "\\bar{x} \\pm 1.96\\sqrt{\\frac{\\sigma^2}{n}} \\label{eq:51} \\tag{5.1} \\\\\n",
    "\\end{equation}$$\n",
    "$$\\begin{equation}\n",
    "\\bar{x} \\pm 1.96{\\frac{\\sigma}{\\sqrt{n}}} \\label{eq:52} \\tag{5.2} \\\\\n",
    "\\end{equation}$$\n",
    "$$\\begin{equation}\n",
    "\\left(\\bar{x} - 1.96{\\frac{\\sigma}{\\sqrt{n}}}\\;,\\;\\bar{x} + 1.96{\\frac{\\sigma}{\\sqrt{n}}}\\right) \\label{eq:53} \\tag{5.3}\n",
    "\\end{equation}$$\n",
    "    </p>\n",
    "</body>"
   ]
  },
  {
   "cell_type": "markdown",
   "metadata": {
    "slideshow": {
     "slide_type": "slide"
    }
   },
   "source": [
    "<body>\n",
    "    <p>When we looked at the Normal distribution we found that:\n",
    "    <ul>\n",
    "        <li>there is probability of 0.95 that an observation from a Normal distribution will lie within approximately two standard deviations of the mean.\n",
    "        </li>\n",
    "        <li>alternatively the mean is within 2 standard deviations of an observation 95% of the time.\n",
    "        </li>\n",
    "    </ul>\n",
    "</body>"
   ]
  },
  {
   "cell_type": "markdown",
   "metadata": {
    "slideshow": {
     "slide_type": "slide"
    }
   },
   "source": [
    "<body>\n",
    "    <p>We can now think of this in terms of $\\bar{x}$ and $\\mu$.\n",
    "    </p>\n",
    "    <ul>\n",
    "        <li>there is probability of 0.95 that the sample mean, $\\bar{x}$, from a Normal distribution will lie within approximately two standard deviations of the population mean, $\\mu$.\n",
    "        </li>\n",
    "    </ul>\n",
    "</body>"
   ]
  },
  {
   "cell_type": "markdown",
   "metadata": {
    "slideshow": {
     "slide_type": "slide"
    }
   },
   "source": [
    "<body>\n",
    "    <p>Approximately 95% of all samples will capture the true population mean $\\mu$, in the interval from\n",
    "            $\\bar{x}-2sem$ to $\\bar{x}+2sem$ where $sem$ is the <strong>standard error of the mean</strong> given by<br><br>\n",
    "             $$\\begin{equation}sem=\\frac{\\sigma}{\\sqrt{n}} \\label{eq:54} \\tag{5.4}\n",
    "             \\end{equation}$$\n",
    "    </p>\n",
    "</body>"
   ]
  },
  {
   "cell_type": "markdown",
   "metadata": {
    "slideshow": {
     "slide_type": "slide"
    }
   },
   "source": [
    "<body>\n",
    "    <p>This is the general form of a confidence interval:\n",
    "    </p>\n",
    "    <ul style=\"list-style: none;\">\n",
    "        <li>estimate $\\pm$ constant $\\times$ margin of error\n",
    "        </li>\n",
    "        <li>or \n",
    "        </li>\n",
    "        <li>estimate $\\pm$ constant $\\times$ the variability of the estimate\n",
    "        </li>\n",
    "    </ul>\n",
    "</body>"
   ]
  },
  {
   "cell_type": "markdown",
   "metadata": {
    "slideshow": {
     "slide_type": "slide"
    }
   },
   "source": [
    "<body>\n",
    "    <p>The confidence level shows how confident we are that the method will catch the true population value.\n",
    "    </p>\n",
    "</body>"
   ]
  },
  {
   "cell_type": "markdown",
   "metadata": {
    "slideshow": {
     "slide_type": "slide"
    }
   },
   "source": [
    "<body>\n",
    "    <p>Any confidence interval has two aspects\n",
    "    </p>\n",
    "    <ol>\n",
    "        <li>An interval calculated from the data.\n",
    "        </li>\n",
    "        <li>A confidence level giving the probability that the method produces an interval that covers the parameter.\n",
    "        </li>\n",
    "    </ol>\n",
    "</body>"
   ]
  },
  {
   "cell_type": "markdown",
   "metadata": {
    "slideshow": {
     "slide_type": "slide"
    }
   },
   "source": [
    "<body>\n",
    "    <p><strong>Note:</strong>\n",
    "    <ol>\n",
    "        <li>We have seen that the hypothesis test and confidence interval for the population mean use the same information but present it in different ways. This is the case whichever population parameter we are interested in.\n",
    "        </li>\n",
    "        <li>The hypothesis test presents a yes/no answer: it is either statistically significant or it is not.\n",
    "        </li>\n",
    "    </ol>\n",
    "</body>"
   ]
  },
  {
   "cell_type": "markdown",
   "metadata": {
    "slideshow": {
     "slide_type": "slide"
    }
   },
   "source": [
    "<body>\n",
    "    <ol start=\"3\">\n",
    "        <li>The confidence interval presents a range of values within which we have, for example, 95% confidence that the true population parameter will lie.\n",
    "        </li>\n",
    "        <li>Hypothesis tests are used to test a claim about the population parameter while confidence intervals provide an estimate of the population parameter.\n",
    "        </li>\n",
    "    </ol>\n",
    "</body>"
   ]
  }
 ],
 "metadata": {
  "celltoolbar": "Slideshow",
  "kernelspec": {
   "display_name": "R",
   "language": "R",
   "name": "ir"
  },
  "language_info": {
   "codemirror_mode": "r",
   "file_extension": ".r",
   "mimetype": "text/x-r-source",
   "name": "R",
   "pygments_lexer": "r",
   "version": "4.1.1"
  }
 },
 "nbformat": 4,
 "nbformat_minor": 4
}
