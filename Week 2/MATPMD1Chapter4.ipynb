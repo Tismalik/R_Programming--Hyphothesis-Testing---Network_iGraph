{
 "cells": [
  {
   "cell_type": "markdown",
   "metadata": {
    "slideshow": {
     "slide_type": "slide"
    }
   },
   "source": [
    "<html>\n",
    "<head>\n",
    "    <h2>University of Stirling</h2>\n",
    "    <h2>Computing Science and Mathematics</h2>\n",
    "    <h2>MATPMD1 Statistics for Data Science</h2>\n",
    "    <h1>Chapter 4 Data Distributions</h1>\n",
    "</head>"
   ]
  },
  {
   "cell_type": "markdown",
   "metadata": {
    "slideshow": {
     "slide_type": "slide"
    }
   },
   "source": [
    "<body>\n",
    "    <h2>4.1 The Normal Distribution</h2>\n",
    "    <p>The Normal distribution is by far the most important probability distribution in statistics. It is important to understand its nature and role. It is sometimes also called the <strong>Gaussian distribution</strong>, after the mathematician Gauss.\n",
    "    </p>\n",
    "</body>"
   ]
  },
  {
   "cell_type": "markdown",
   "metadata": {
    "slideshow": {
     "slide_type": "slide"
    }
   },
   "source": [
    "<body>\n",
    "    <h3>4.1.1 Example Serum Albumin</h3>\n",
    "    <p>We present the Serum Albumin values in 116 patients with cirrhosis in both Histogram and Frequency Polygon forms. Note that the shape is easier to see using the frequency polygon.\n",
    "    </p>\n",
    "</body>"
   ]
  },
  {
   "cell_type": "code",
   "execution_count": 1,
   "metadata": {
    "slideshow": {
     "slide_type": "slide"
    }
   },
   "outputs": [
    {
     "data": {
      "image/png": "[encoded data removed]",
      "text/plain": [
       "Plot with title \"Histogram of serum albumin\""
      ]
     },
     "metadata": {
      "image/png": {
       "height": 420,
       "width": 420
      }
     },
     "output_type": "display_data"
    }
   ],
   "source": [
    "# include the survival library that includes the pbc dataset\n",
    "library(\"survival\")\n",
    "# and load the pbc dataset\n",
    "data(pbc)\n",
    "\n",
    "# call the hist() function to plot a histogram of the serum albumin data. Note we store the results of this\n",
    "# call in the bhist variable. We use this to change the tick labels of the plot after.\n",
    "bhist<-hist(pbc$albumin, main=\"Histogram of serum albumin\",axes=FALSE,xlab=\"serum albumin (g/dl)\",xlim=c(1.5,5))\n",
    "\n",
    "# change the tick labels on the x and y axes (side=1, and side=2 respectively)\n",
    "axis(side=1,at=seq(1.5,5,0.5),labels=seq(1.5,5,0.5))\n",
    "axis(side=2,tick=TRUE)\n",
    "\n",
    "# and put a box round the plot\n",
    "box(lty=\"solid\")"
   ]
  },
  {
   "cell_type": "code",
   "execution_count": 2,
   "metadata": {
    "slideshow": {
     "slide_type": "slide"
    }
   },
   "outputs": [
    {
     "data": {
      "image/png": "[encoded data removed]",
      "text/plain": [
       "plot without title"
      ]
     },
     "metadata": {
      "image/png": {
       "height": 420,
       "width": 420
      }
     },
     "output_type": "display_data"
    }
   ],
   "source": [
    "# include the survival library that includes the pbc dataset\n",
    "library(\"survival\")\n",
    "# and load the pbc dataset\n",
    "data(pbc)\n",
    "\n",
    "# We want to plot a frequency polygon of the albumin data. So, first work out the number of bins we are going\n",
    "# to have. Note this has hard-coded the lowest and greatest values so that actual values don't fall on a bin\n",
    "# boundary.\n",
    "bins<-seq(1.699,4.899,by=0.2)\n",
    "\n",
    "# use cut() to identify which bin each datavalue falls into\n",
    "cutdata<-cut(pbc$albumin,bins,right=FALSE)\n",
    "\n",
    "# we now have to manipulate the data into a form we can plot. First create a table that tallies the number of\n",
    "# values that fall into each bin\n",
    "freqdata<-table(cutdata)\n",
    "\n",
    "# Now can plot the data. Note that we use cbind(freqdata) to manipulate our frequency table into our x and y\n",
    "# values to plot. NB type=\"b\" tells plot to plot using both lines and points. Note also we use xlab= and ylab=\n",
    "# to set the labels on the axes. The tick labels are set separately which is why axes=FALSE is given here\n",
    "plot(cbind(freqdata),type=\"b\",\n",
    "    xlab=\"serum albumin (g/dl)\",\n",
    "    ylab=\"Frequency\",\n",
    "    axes=FALSE)\n",
    "\n",
    "# And set the ticks for the x and y axes respectively. Note for the y-axis this is a case of just switching back\n",
    "# on.\n",
    "axis(1,at=seq(1,18,2),labels=seq(1.8,5.0,0.4))\n",
    "axis(2,tick=TRUE)"
   ]
  },
  {
   "cell_type": "markdown",
   "metadata": {
    "slideshow": {
     "slide_type": "slide"
    }
   },
   "source": [
    "<body>\n",
    "    <p>Frequency distributions for continuous measurements such as the serum albumin data above often have a single peak, called unimodal. \n",
    "    </p>\n",
    "    <p>They may be symmetric, as in serum albumin above, or asymmetric.\n",
    "    </p>\n",
    "<body>"
   ]
  },
  {
   "cell_type": "markdown",
   "metadata": {
    "slideshow": {
     "slide_type": "notes"
    }
   },
   "source": [
    "</body>\n",
    "    <p>As an exercise try plotting the other data cells in the pbc dataset to discover any data values gathered that exhibit asymmetric distributions.\n",
    "    </p>\n",
    "</body>"
   ]
  },
  {
   "cell_type": "markdown",
   "metadata": {
    "slideshow": {
     "slide_type": "slide"
    }
   },
   "source": [
    "<body>\n",
    "    <p>The Normal distribution is a probability distribution which is unimodal and symmetric.\n",
    "    </p>\n",
    "</body>"
   ]
  },
  {
   "cell_type": "code",
   "execution_count": 3,
   "metadata": {
    "slideshow": {
     "slide_type": "slide"
    }
   },
   "outputs": [
    {
     "data": {
      "image/png": "[encoded data removed]",
      "text/plain": [
       "Plot with title \"Distribution of 1000 standard normal variables\""
      ]
     },
     "metadata": {
      "image/png": {
       "height": 420,
       "width": 420
      }
     },
     "output_type": "display_data"
    }
   ],
   "source": [
    "# we want to plot the distribution of 1000 randomly generated standard normal variables. Here the function\n",
    "# rnorm() generates normal random variables (we ask for 1000, and give mean 0, standard deviation 1 to get\n",
    "# standard normal random variables)\n",
    "# density() generates the distribution of the data that we can plot using the plot() command. Note that the\n",
    "# parameter main= to the plot() function changes the title of the plot.\n",
    "plot(density(rnorm(n=1000,mean=0,sd=1)),xlab=\"\",main=\"Distribution of 1000 standard normal variables\")"
   ]
  },
  {
   "cell_type": "markdown",
   "metadata": {
    "slideshow": {
     "slide_type": "slide"
    }
   },
   "source": [
    "<body>\n",
    "    <h2>4.2 Using the Normal Distribution</h2>\n",
    "    <p>The mathematical equation of the Normal distribution is rather complicated but you will be glad to hear that there is no need to know it in order to use the Normal distribution. All the necessary information is available via tables.\n",
    "    </p>\n",
    "</body>"
   ]
  },
  {
   "cell_type": "markdown",
   "metadata": {
    "slideshow": {
     "slide_type": "slide"
    }
   },
   "source": [
    "<body>\n",
    "    <p>It is necessary to know that the Normal distribution is completely described by two parameters, the mean and the standard deviation. These are usually denoted as follows:\n",
    "    </p>\n",
    "    <table>\n",
    "        <thead>\n",
    "            <tr class=\"header\">\n",
    "                <th style=\"text-align: left;\">Parameter</th>\n",
    "                <th style=\"text-align: left;\">Symbol</th>\n",
    "            </tr>\n",
    "        </thead>\n",
    "        <tbody>\n",
    "            <tr class=\"odd\">\n",
    "                <td style=\"text-align: left;\">mean</td>\n",
    "                <td style=\"text-align: left;\">$\\mu$ (mu)</td>\n",
    "            </tr>\n",
    "            <tr class=\"even\">\n",
    "                <td style=\"text-align: left;\">standard deviation</td>\n",
    "                <td style=\"text-align: left;\">$\\sigma$ (sigma)</td>\n",
    "            </tr>\n",
    "        </tbody>\n",
    "    </table>\n",
    "    <p>The Normal distribution is related to the mean and standard deviation as illustrated here:\n",
    "    </p>\n",
    "</body>"
   ]
  },
  {
   "cell_type": "code",
   "execution_count": 4,
   "metadata": {
    "slideshow": {
     "slide_type": "slide"
    }
   },
   "outputs": [
    {
     "data": {
      "image/png": "[encoded data removed]",
      "text/plain": [
       "Plot with title \"Normal distribution\""
      ]
     },
     "metadata": {
      "image/png": {
       "height": 420,
       "width": 420
      }
     },
     "output_type": "display_data"
    }
   ],
   "source": [
    "# We want to plot the standard normal distribution between minus and plus four standard deviations\n",
    "# xnorm holds our x values which we will plot the densities over.\n",
    "xnorm<-seq(-4,4,0.01)\n",
    "\n",
    "# we plot the standard normal distribuion by giving our x values as xnorm, then y values as the result\n",
    "# of the function call dnorm() for each xnorm value. dnorm() returns the density value for each xnorm value and\n",
    "# we specify mean 0, sd 1 for the standard normal distribution.\n",
    "# Note in the plot() command we suppress the tick values with axes=FALSE so we can set them later. The parameter\n",
    "# type=\"l\" tells plot() to plot a line graph.\n",
    "plot(xnorm,dnorm(xnorm,mean=0,sd=1),xlab=\"\",ylab=\"\",type=\"l\",axes=FALSE,main=\"Normal distribution\")\n",
    "\n",
    "# Now set the tick labels\n",
    "xtick = seq(-4,4,1)\n",
    "axis(1,at=xtick,labels=c(\"-4SD\",\"-3SD\",\"-2SD\",\"-SD\",\"Mean\",\"SD\",\"2SD\",\"3SD\",\"4SD\"))\n",
    "axis(2,tick=TRUE)\n",
    "\n",
    "#plot dashed vertical line at the mean\n",
    "abline(v=0,lty=2)\n",
    "# and put a box round the plot \n",
    "box(lty=\"solid\")"
   ]
  },
  {
   "cell_type": "markdown",
   "metadata": {
    "slideshow": {
     "slide_type": "notes"
    }
   },
   "source": [
    "<body>\n",
    "    <p>Now let us consider the serum albumin data again. The following shows the histogram of the data and superimposed is the Normal distribution with the same mean and variance.\n",
    "    </p>\n",
    "    <p>Note that they are very similar. In practice, we are often faced with deciding with whether data are 'Normally distributed'.\n",
    "    </p>\n",
    "</body>"
   ]
  },
  {
   "cell_type": "code",
   "execution_count": 5,
   "metadata": {
    "slideshow": {
     "slide_type": "slide"
    }
   },
   "outputs": [
    {
     "data": {
      "image/png": "[encoded data removed]",
      "text/plain": [
       "Plot with title \"Histogram of serum albumin\""
      ]
     },
     "metadata": {
      "image/png": {
       "height": 420,
       "width": 420
      }
     },
     "output_type": "display_data"
    }
   ],
   "source": [
    "# load the survival library that contains the serum albumin data that we want to plot\n",
    "library(\"survival\")\n",
    "# load the pbc data\n",
    "data(pbc)\n",
    "\n",
    "# plot the histogram of the albumin data from the pbc dataset\n",
    "bhist<-hist(pbc$albumin, main=\"Histogram of serum albumin\",axes=FALSE,xlab=\"serum albumin (g/dl)\",xlim=c(1.5,5))\n",
    "\n",
    "# we now want to overlay this histogram with a line graph of a normal distribution with mean and sd that of the\n",
    "# albumin data. Note that we have to translate our densities to frequency counts to match our histogram\n",
    "# first set up \n",
    "xnorm <- seq(min(pbc$albumin), max(pbc$albumin), length = 100)\n",
    "ynorm <- dnorm(xnorm, mean = mean(pbc$albumin), sd = sd(pbc$albumin))\n",
    "# and translate our density into frequency count\n",
    "ynorm <- ynorm * diff(bhist$breaks[1:2]) * length(pbc$albumin)\n",
    "\n",
    "# lines() overlays our original histogram with the line graph\n",
    "lines(xnorm, ynorm, col = \"black\")\n",
    "# and set the tick labels\n",
    "axis(side=1,at=seq(1.5,5,0.5),labels=seq(1.5,5,0.5))\n",
    "axis(side=2,tick=TRUE)\n",
    "\n",
    "# finally put a box round our plot to make it look prettier\n",
    "box(lty=\"solid\")"
   ]
  },
  {
   "cell_type": "markdown",
   "metadata": {
    "slideshow": {
     "slide_type": "slide"
    }
   },
   "source": [
    "<body>\n",
    "    <p>Note that if data follow a Normal Distribution then it can be shown that the probability of being within a multiple of standard deviations of the mean is:\n",
    "    </p>\n",
    "    <table>\n",
    "    <thead>\n",
    "        <tr class=\"header\">\n",
    "        <th>Range</th>\n",
    "        <th>P(within range)</th>\n",
    "        <th>P(outside range)</th>\n",
    "        </tr>\n",
    "    </thead>\n",
    "    <tbody>\n",
    "        <tr class=\"odd\">\n",
    "        <td>mean $\\pm$ 1 SD</td>\n",
    "        <td>0.683</td>\n",
    "        <td>0.317</td>\n",
    "        </tr>\n",
    "        <tr class=\"even\">\n",
    "        <td>mean $\\pm$ 2 SD</td>\n",
    "        <td>0.954</td>\n",
    "        <td>0.046</td>\n",
    "        </tr>\n",
    "        <tr class=\"odd\">\n",
    "        <td>mean $\\pm$ 3 SD</td>\n",
    "        <td>0.9973</td>\n",
    "        <td>0.0027</td>\n",
    "        </tr>\n",
    "    </tbody>\n",
    "    </table>\n",
    "</body>"
   ]
  },
  {
   "cell_type": "markdown",
   "metadata": {
    "slideshow": {
     "slide_type": "notes"
    }
   },
   "source": [
    "<body>\n",
    "    <p>Note that the probability of not being within the stated range is 1 minus the probability of being within the range. We see that there is a minimal chance, 0.0027 or 0.27% or about 1 in 400, that a value from a Normal distribution will be more than three standard deviations above or below the mean.\n",
    "    </p>\n",
    "</body>"
   ]
  },
  {
   "cell_type": "markdown",
   "metadata": {
    "slideshow": {
     "slide_type": "slide"
    }
   },
   "source": [
    "<body>\n",
    "    <p>The probability of being within two standard deviations of the mean is just over 0.95. In other words, about 95% of observations from a Normal distribution will be within the range (mean - 2SD) to (mean +2SD).\n",
    "    </p>\n",
    "    <p>As we will see later, exactly 95% of the area under the Normal distribution curve actually falls within the slightly narrower range of mean $\\pm$ 1.96 SD.\n",
    "    </p>\n",
    "</body>"
   ]
  },
  {
   "cell_type": "markdown",
   "metadata": {
    "slideshow": {
     "slide_type": "slide"
    }
   },
   "source": [
    "<body>\n",
    "    <p>We noted previously that many statistical methods incorporate important assumptions about the distribution of data. (These methods are called <strong>parametric</strong> methods).\n",
    "    </p>\n",
    "    <p>In most cases the distribution involved is the Normal distribution which is one of the reasons why it is the most important distribution in statistics.\n",
    "    </p>\n",
    "</body>"
   ]
  },
  {
   "cell_type": "markdown",
   "metadata": {
    "slideshow": {
     "slide_type": "slide"
    }
   },
   "source": [
    "<body>\n",
    "    <p>Although many measurements do have a reasonably Normal distribution, such as human height, many do not, such as human weight or serum cholesterol. There are various ways in which data may deviate from Normality, notably by being asymmetric or skewed.\n",
    "    </p>\n",
    "    <p><strong>It should not be assumed that a set of observations is approximately Normal - this must be established.</strong>\n",
    "    </p>\n",
    "</body>"
   ]
  },
  {
   "cell_type": "markdown",
   "metadata": {
    "slideshow": {
     "slide_type": "slide"
    }
   },
   "source": [
    "<body>\n",
    "    <h2>4.3 Properties of Samples</h2>\n",
    "    <p>The distribution of sample statistics (e.g. sample means) is less dispersed than the population parameter and the dispersion decreases with the increase in sample size.\n",
    "    </p>\n",
    "    <p>In other words the SD of the sample statistic distribution decreases as $n$ increases because of the offsetting of large and small items in the sample mean.\n",
    "    </p>\n",
    "</body>"
   ]
  },
  {
   "cell_type": "markdown",
   "metadata": {
    "slideshow": {
     "slide_type": "slide"
    }
   },
   "source": [
    "<body>\n",
    "    <p>It can be shown that:\n",
    "    </p>\n",
    "    $$\\begin{equation}\\mathrm{SD~of~the~distribution~of~sample~means}\\quad = \\frac{\\sigma}{\\sqrt{n}} = \\quad\\mathrm{SE}_\\bar{x} \\label{41} \\tag{4.1} \n",
    "    \\end{equation}$$\n",
    "    <ul class=\"nobull\">\n",
    "        <li>where $\\sigma$ is the population SD and $n$ is the sample size.\n",
    "        </li>\n",
    "    </ul>\n",
    "    <p>SE$_\\bar{x}$ is the Standard Error of the Mean, SEM.\n",
    "    </p>\n",
    "</body>"
   ]
  },
  {
   "cell_type": "markdown",
   "metadata": {
    "slideshow": {
     "slide_type": "slide"
    }
   },
   "source": [
    "<body>\n",
    "    <ol>\n",
    "         <li>The <strong>size</strong> of the sample is important (not the number of samples).</li>\n",
    "    </ol>\n",
    "</body>"
   ]
  },
  {
   "cell_type": "markdown",
   "metadata": {
    "slideshow": {
     "slide_type": "slide"
    }
   },
   "source": [
    "<body>\n",
    "    <ol start=\"2\">\n",
    "         <li>The basic idea of sampling is to avoid working with the full population. Therefore we will not know the standard deviation of population but we want to estimate it. Best estimate is $\\sigma = s$ where $s$ is the sample standard deviation:<br>\n",
    "            $$\\begin{equation}s=\\sqrt{\\frac{\\sum{(x-\\bar{x})^2}}{n-1}} \\label{42} \\tag{4.2} \n",
    "            \\end{equation}$$\n",
    "         </li>\n",
    "    </ol>\n",
    "</body>"
   ]
  },
  {
   "cell_type": "markdown",
   "metadata": {
    "slideshow": {
     "slide_type": "slide"
    }
   },
   "source": [
    "<body>\n",
    "    <ol start=\"3\">\n",
    "        <li>Note that the SEM is <strong>not</strong> the population SD <strong>nor</strong> the sample SD.</li>\n",
    "    </ol>\n",
    "</body>"
   ]
  },
  {
   "cell_type": "markdown",
   "metadata": {
    "slideshow": {
     "slide_type": "slide"
    }
   },
   "source": [
    "<body> \n",
    "    <p>The mean of the distribution of sample means will be the population parameter mean.\n",
    "    </p>\n",
    "    <p>As the sample size gets large enough ($\\geq$ 30 for most distributions/situations) the sampling distribution of the mean can be approximated by the normal distribution even if the original population is not normal.\n",
    "    </p>\n",
    "    <p>(See the Central Limit Theorem)\n",
    "    </p>\n",
    "</body>"
   ]
  },
  {
   "cell_type": "markdown",
   "metadata": {
    "slideshow": {
     "slide_type": "slide"
    }
   },
   "source": [
    "<body>\n",
    "    <p>Let us illustrate this concept with first a population which is normally distributed, $\\mathcal{N}(100,10^2)$.\n",
    "    </p>\n",
    "    <p>Below we show the distribution for the Population, and then for the distribution of then mean of 50 samples where the sample size is 10, 20, 50, 100 and 200.\n",
    "    </p>\n",
    "</body>"
   ]
  },
  {
   "cell_type": "code",
   "execution_count": 6,
   "metadata": {
    "slideshow": {
     "slide_type": "slide"
    }
   },
   "outputs": [
    {
     "data": {
      "image/png": "[encoded data removed]",
      "text/plain": [
       "Plot with title \"Sample size 200\""
      ]
     },
     "metadata": {
      "image/png": {
       "height": 420,
       "width": 420
      }
     },
     "output_type": "display_data"
    }
   ],
   "source": [
    "# We are going to plot a histogram of the mean of 50 samples taken from a normal distribution with mean 100, \n",
    "# sd 10 for a range of sample sizes: 10,20,50,100,200\n",
    "nrSamples<-50\n",
    "popMean<-100\n",
    "popSD<-10\n",
    "\n",
    "# first generate 50 samples for each of our sample sizes. To do this call rnorm() with the sample size to\n",
    "# randomly generate that many numbers from a normal distribution with mean 100, sd 10. Then call replicate() to\n",
    "# do this 50 times to generate the 50 samples. We do this for each sample size.\n",
    "sample10<-replicate(nrSamples,rnorm(10,mean=popMean,sd=popSD),simplify=FALSE)\n",
    "sample20<-replicate(nrSamples,rnorm(20,mean=popMean,sd=popSD),simplify=FALSE)\n",
    "sample50<-replicate(nrSamples,rnorm(50,mean=popMean,sd=popSD),simplify=FALSE)\n",
    "sample100<-replicate(nrSamples,rnorm(100,mean=popMean,sd=popSD),simplify=FALSE)\n",
    "sample200<-replicate(nrSamples,rnorm(200,mean=popMean,sd=popSD),simplify=FALSE)\n",
    "\n",
    "# this par() command sets our plot window up to have two rows and three columns\n",
    "par(mfrow=c(2,3))\n",
    "\n",
    "# first plot a histogram of a 10000 randomly generated random variables from a normal distribution with mean 100,\n",
    "# sd 10. Note the breaks parameter is controlling the number of bins to use.\n",
    "hist(rnorm(10000,mean=popMean,sd=popSD),main=\"Population\",xlab=\"\",breaks=14)\n",
    "\n",
    "# now for each of our sample sizes plot the histogram of the means of the samples\n",
    "hist(sapply(sample10,mean),main=\"Sample size 10\",xlab=\"\",breaks=c(92:108))\n",
    "hist(sapply(sample20,mean),main=\"Sample size 20\",xlab=\"\",breaks=c(92:108))\n",
    "hist(sapply(sample50,mean),main=\"Sample size 50\",xlab=\"\",breaks=c(92:108))\n",
    "hist(sapply(sample100,mean),main=\"Sample size 100\",xlab=\"\",breaks=c(92:108))\n",
    "hist(sapply(sample200,mean),main=\"Sample size 200\",xlab=\"\",breaks=c(92:108))"
   ]
  },
  {
   "cell_type": "markdown",
   "metadata": {
    "slideshow": {
     "slide_type": "slide"
    }
   },
   "source": [
    "<body>\n",
    "    <p>Finally Let us illustrate samples from a population which is $\\mathrm{lognormal}(0,1)$, a distribution that is positively skewed.\n",
    "    </p>\n",
    "    <p>Again we show the distribution for the Population, and then for the distribution of then mean of 50 samples where the sample size is 10, 20, 50, 100 and 200.\n",
    "    </p>\n",
    "</body>"
   ]
  },
  {
   "cell_type": "code",
   "execution_count": 7,
   "metadata": {
    "slideshow": {
     "slide_type": "slide"
    }
   },
   "outputs": [
    {
     "data": {
      "image/png": "[encoded data removed]",
      "text/plain": [
       "Plot with title \"Sample size 200\""
      ]
     },
     "metadata": {
      "image/png": {
       "height": 420,
       "width": 420
      }
     },
     "output_type": "display_data"
    }
   ],
   "source": [
    "# We are going to plot a histogram of the mean of 50 samples taken from a lognormal(0,1) distribution for a \n",
    "# range of sample sizes: 10,20,50,100,200\n",
    "nrSamples<-50\n",
    "popMean<-0\n",
    "popSD<-1\n",
    "\n",
    "# first generate 50 samples for each of our sample sizes. To do this call rlnorm() with the sample size to\n",
    "# randomly generate that many numbers from a lognormal(0,1) distribution. Then call replicate() to\n",
    "# do this 50 times to generate the 50 samples. We do this for each sample size.\n",
    "sample10<-replicate(nrSamples,rlnorm(10,meanlog=popMean,sdlog=popSD),simplify=FALSE)\n",
    "sample20<-replicate(nrSamples,rlnorm(20,meanlog=popMean,sdlog=popSD),simplify=FALSE)\n",
    "sample50<-replicate(nrSamples,rlnorm(50,meanlog=popMean,sdlog=popSD),simplify=FALSE)\n",
    "sample100<-replicate(nrSamples,rlnorm(100,meanlog=popMean,sdlog=popSD),simplify=FALSE)\n",
    "sample200<-replicate(nrSamples,rlnorm(200,meanlog=popMean,sdlog=popSD),simplify=FALSE)\n",
    "\n",
    "# this par() command sets our plot window up to have two rows and three columns\n",
    "par(mfrow=c(2,3))\n",
    "\n",
    "# first plot a histogram of a 10000 randomly generated random variables from a normal distribution with mean 100,\n",
    "# sd 10. Note the breaks parameter is controlling the number of bins to use.\n",
    "hist(rlnorm(10000,meanlog=popMean,sdlog=popSD),main=\"Population\",xlab=\"\",breaks=seq(0,50,2.5))\n",
    "\n",
    "# now for each of our sample sizes plot the histogram of the means of the samples\n",
    "hist(sapply(sample10,mean),main=\"Sample size 10\",xlab=\"\",breaks=seq(0,5,0.25))\n",
    "hist(sapply(sample20,mean),main=\"Sample size 20\",xlab=\"\",breaks=seq(0,5,0.25))\n",
    "hist(sapply(sample50,mean),main=\"Sample size 50\",xlab=\"\",breaks=seq(0,5,0.25))\n",
    "hist(sapply(sample100,mean),main=\"Sample size 100\",xlab=\"\",breaks=seq(0,5,0.25))\n",
    "hist(sapply(sample200,mean),main=\"Sample size 200\",xlab=\"\",breaks=seq(0,5,0.25))\n"
   ]
  },
  {
   "cell_type": "markdown",
   "metadata": {
    "slideshow": {
     "slide_type": "notes"
    }
   },
   "source": [
    "<body>\n",
    "    <h2>4.4 Standard Normal Distribution Table\n",
    "    </h2>\n",
    "    <p>Here, the table entry for $z$ is the probability of lying above $z$ ie. $P(Z>z)$.\n",
    "    <table>\n",
    "    <tbody>\n",
    "        <tr class=\"even\">\n",
    "        <td>z</td>\n",
    "        <td>0.00</td>\n",
    "        <td>0.01</td>\n",
    "        <td>0.02</td>\n",
    "        <td>0.03</td>\n",
    "        <td>0.04</td>\n",
    "        <td>0.05</td>\n",
    "        <td>0.06</td>\n",
    "        <td>0.07</td>\n",
    "        <td>0.08</td>\n",
    "        <td>0.09</td>\n",
    "        </tr>\n",
    "        <tr class=\"odd\">\n",
    "        <td>0.0</td>\n",
    "        <td>0.5000</td>\n",
    "        <td>0.4960</td>\n",
    "        <td>0.4920</td>\n",
    "        <td>0.4880</td>\n",
    "        <td>0.4840</td>\n",
    "        <td>0.4801</td>\n",
    "        <td>0.4761</td>\n",
    "        <td>0.4721</td>\n",
    "        <td>0.4681</td>\n",
    "        <td>0.4641</td>\n",
    "        </tr>\n",
    "        <tr class=\"even\">\n",
    "        <td>0.1</td>\n",
    "        <td>0.4602</td>\n",
    "        <td>0.4562</td>\n",
    "        <td>0.4522</td>\n",
    "        <td>0.4483</td>\n",
    "        <td>0.4443</td>\n",
    "        <td>0.4404</td>\n",
    "        <td>0.4364</td>\n",
    "        <td>0.4325</td>\n",
    "        <td>0.4286</td>\n",
    "        <td>0.4247</td>\n",
    "        </tr>\n",
    "        <tr class=\"odd\">\n",
    "        <td>0.2</td>\n",
    "        <td>0.4207</td>\n",
    "        <td>0.4168</td>\n",
    "        <td>0.4129</td>\n",
    "        <td>0.4090</td>\n",
    "        <td>0.4052</td>\n",
    "        <td>0.4013</td>\n",
    "        <td>0.3974</td>\n",
    "        <td>0.3936</td>\n",
    "        <td>0.3897</td>\n",
    "        <td>0.3859</td>\n",
    "        </tr>\n",
    "        <tr class=\"even\">\n",
    "        <td>0.3</td>\n",
    "        <td>0.3821</td>\n",
    "        <td>0.3783</td>\n",
    "        <td>0.3745</td>\n",
    "        <td>0.3707</td>\n",
    "        <td>0.3669</td>\n",
    "        <td>0.3632</td>\n",
    "        <td>0.3594</td>\n",
    "        <td>0.3557</td>\n",
    "        <td>0.3520</td>\n",
    "        <td>0.3483</td>\n",
    "        </tr>\n",
    "        <tr class=\"odd\">\n",
    "        <td>0.4</td>\n",
    "        <td>0.3446</td>\n",
    "        <td>0.3409</td>\n",
    "        <td>0.3372</td>\n",
    "        <td>0.3336</td>\n",
    "        <td>0.3300</td>\n",
    "        <td>0.3264</td>\n",
    "        <td>0.3228</td>\n",
    "        <td>0.3192</td>\n",
    "        <td>0.3156</td>\n",
    "        <td>0.3121</td>\n",
    "        </tr>\n",
    "        <tr class=\"even\">\n",
    "        <td>0.5</td>\n",
    "        <td>0.3085</td>\n",
    "        <td>0.3050</td>\n",
    "        <td>0.3015</td>\n",
    "        <td>0.2981</td>\n",
    "        <td>0.2946</td>\n",
    "        <td>0.2912</td>\n",
    "        <td>0.2877</td>\n",
    "        <td>0.2843</td>\n",
    "        <td>0.2810</td>\n",
    "        <td>0.2776</td>\n",
    "        </tr>\n",
    "        <tr class=\"odd\">\n",
    "        <td>0.6</td>\n",
    "        <td>0.2743</td>\n",
    "        <td>0.2709</td>\n",
    "        <td>0.2676</td>\n",
    "        <td>0.2643</td>\n",
    "        <td>0.2611</td>\n",
    "        <td>0.2578</td>\n",
    "        <td>0.2546</td>\n",
    "        <td>0.2514</td>\n",
    "        <td>0.2483</td>\n",
    "        <td>0.2451</td>\n",
    "        </tr>\n",
    "        <tr class=\"even\">\n",
    "        <td>0.7</td>\n",
    "        <td>0.2420</td>\n",
    "        <td>0.2389</td>\n",
    "        <td>0.2358</td>\n",
    "        <td>0.2327</td>\n",
    "        <td>0.2296</td>\n",
    "        <td>0.2266</td>\n",
    "        <td>0.2236</td>\n",
    "        <td>0.2206</td>\n",
    "        <td>0.2177</td>\n",
    "        <td>0.2148</td>\n",
    "        </tr>\n",
    "        <tr class=\"odd\">\n",
    "        <td>0.8</td>\n",
    "        <td>0.2119</td>\n",
    "        <td>0.2090</td>\n",
    "        <td>0.2061</td>\n",
    "        <td>0.2033</td>\n",
    "        <td>0.2005</td>\n",
    "        <td>0.1977</td>\n",
    "        <td>0.1949</td>\n",
    "        <td>0.1922</td>\n",
    "        <td>0.1894</td>\n",
    "        <td>0.1867</td>\n",
    "        </tr>\n",
    "        <tr class=\"even\">\n",
    "        <td>0.9</td>\n",
    "        <td>0.1841</td>\n",
    "        <td>0.1814</td>\n",
    "        <td>0.1788</td>\n",
    "        <td>0.1762</td>\n",
    "        <td>0.1736</td>\n",
    "        <td>0.1711</td>\n",
    "        <td>0.1685</td>\n",
    "        <td>0.1660</td>\n",
    "        <td>0.1635</td>\n",
    "        <td>0.1611</td>\n",
    "        </tr>\n",
    "        <tr class=\"odd\">\n",
    "        <td>1.0</td>\n",
    "        <td>0.1587</td>\n",
    "        <td>0.1562</td>\n",
    "        <td>0.1539</td>\n",
    "        <td>0.1515</td>\n",
    "        <td>0.1492</td>\n",
    "        <td>0.1469</td>\n",
    "        <td>0.1446</td>\n",
    "        <td>0.1423</td>\n",
    "        <td>0.1401</td>\n",
    "        <td>0.1379</td>\n",
    "        </tr>\n",
    "        <tr class=\"even\">\n",
    "        <td>1.1</td>\n",
    "        <td>0.1357</td>\n",
    "        <td>0.1335</td>\n",
    "        <td>0.1314</td>\n",
    "        <td>0.1292</td>\n",
    "        <td>0.1271</td>\n",
    "        <td>0.1251</td>\n",
    "        <td>0.1230</td>\n",
    "        <td>0.1210</td>\n",
    "        <td>0.1190</td>\n",
    "        <td>0.1170</td>\n",
    "        </tr>\n",
    "        <tr class=\"odd\">\n",
    "        <td>1.2</td>\n",
    "        <td>0.1151</td>\n",
    "        <td>0.1131</td>\n",
    "        <td>0.1112</td>\n",
    "        <td>0.1093</td>\n",
    "        <td>0.1075</td>\n",
    "        <td>0.1056</td>\n",
    "        <td>0.1038</td>\n",
    "        <td>0.1020</td>\n",
    "        <td>0.1003</td>\n",
    "        <td>0.0985</td>\n",
    "        </tr>\n",
    "        <tr class=\"even\">\n",
    "        <td>1.3</td>\n",
    "        <td>0.0968</td>\n",
    "        <td>0.0951</td>\n",
    "        <td>0.0934</td>\n",
    "        <td>0.0918</td>\n",
    "        <td>0.0901</td>\n",
    "        <td>0.0885</td>\n",
    "        <td>0.0869</td>\n",
    "        <td>0.0853</td>\n",
    "        <td>0.0838</td>\n",
    "        <td>0.0823</td>\n",
    "        </tr>\n",
    "        <tr class=\"odd\">\n",
    "        <td>1.4</td>\n",
    "        <td>0.0808</td>\n",
    "        <td>0.0793</td>\n",
    "        <td>0.0778</td>\n",
    "        <td>0.0764</td>\n",
    "        <td>0.0749</td>\n",
    "        <td>0.0735</td>\n",
    "        <td>0.0721</td>\n",
    "        <td>0.0708</td>\n",
    "        <td>0.0694</td>\n",
    "        <td>0.0681</td>\n",
    "        </tr>\n",
    "        <tr class=\"even\">\n",
    "        <td>1.5</td>\n",
    "        <td>0.0668</td>\n",
    "        <td>0.0655</td>\n",
    "        <td>0.0643</td>\n",
    "        <td>0.0630</td>\n",
    "        <td>0.0618</td>\n",
    "        <td>0.0606</td>\n",
    "        <td>0.0594</td>\n",
    "        <td>0.0582</td>\n",
    "        <td>0.0571</td>\n",
    "        <td>0.0559</td>\n",
    "        </tr>\n",
    "        <tr class=\"odd\">\n",
    "        <td>1.6</td>\n",
    "        <td>0.0548</td>\n",
    "        <td>0.0537</td>\n",
    "        <td>0.0526</td>\n",
    "        <td>0.0516</td>\n",
    "        <td>0.0505</td>\n",
    "        <td>0.0495</td>\n",
    "        <td>0.0485</td>\n",
    "        <td>0.0475</td>\n",
    "        <td>0.0465</td>\n",
    "        <td>0.0455</td>\n",
    "        </tr>\n",
    "        <tr class=\"even\">\n",
    "        <td>1.7</td>\n",
    "        <td>0.0446</td>\n",
    "        <td>0.0436</td>\n",
    "        <td>0.0427</td>\n",
    "        <td>0.0418</td>\n",
    "        <td>0.0409</td>\n",
    "        <td>0.0401</td>\n",
    "        <td>0.0392</td>\n",
    "        <td>0.0384</td>\n",
    "        <td>0.0375</td>\n",
    "        <td>0.0367</td>\n",
    "        </tr>\n",
    "        <tr class=\"odd\">\n",
    "        <td>1.8</td>\n",
    "        <td>0.0359</td>\n",
    "        <td>0.0351</td>\n",
    "        <td>0.0344</td>\n",
    "        <td>0.0336</td>\n",
    "        <td>0.0329</td>\n",
    "        <td>0.0322</td>\n",
    "        <td>0.0314</td>\n",
    "        <td>0.0307</td>\n",
    "        <td>0.0301</td>\n",
    "        <td>0.0294</td>\n",
    "        </tr>\n",
    "        <tr class=\"even\">\n",
    "        <td>1.9</td>\n",
    "        <td>0.0287</td>\n",
    "        <td>0.0281</td>\n",
    "        <td>0.0274</td>\n",
    "        <td>0.0268</td>\n",
    "        <td>0.0262</td>\n",
    "        <td>0.0256</td>\n",
    "        <td>0.0250</td>\n",
    "        <td>0.0244</td>\n",
    "        <td>0.0239</td>\n",
    "        <td>0.0233</td>\n",
    "        </tr>\n",
    "        <tr class=\"odd\">\n",
    "        <td>2.0</td>\n",
    "        <td>0.0228</td>\n",
    "        <td>0.0222</td>\n",
    "        <td>0.0217</td>\n",
    "        <td>0.0212</td>\n",
    "        <td>0.0207</td>\n",
    "        <td>0.0202</td>\n",
    "        <td>0.0197</td>\n",
    "        <td>0.0192</td>\n",
    "        <td>0.0188</td>\n",
    "        <td>0.0183</td>\n",
    "        </tr>\n",
    "        <tr class=\"even\">\n",
    "        <td>2.1</td>\n",
    "        <td>0.0179</td>\n",
    "        <td>0.0174</td>\n",
    "        <td>0.0170</td>\n",
    "        <td>0.0166</td>\n",
    "        <td>0.0162</td>\n",
    "        <td>0.0158</td>\n",
    "        <td>0.0154</td>\n",
    "        <td>0.0150</td>\n",
    "        <td>0.0146</td>\n",
    "        <td>0.0143</td>\n",
    "        </tr>\n",
    "        <tr class=\"odd\">\n",
    "        <td>2.2</td>\n",
    "        <td>0.0139</td>\n",
    "        <td>0.0136</td>\n",
    "        <td>0.0132</td>\n",
    "        <td>0.0129</td>\n",
    "        <td>0.0125</td>\n",
    "        <td>0.0122</td>\n",
    "        <td>0.0119</td>\n",
    "        <td>0.0116</td>\n",
    "        <td>0.0113</td>\n",
    "        <td>0.0110</td>\n",
    "        </tr>\n",
    "        <tr class=\"even\">\n",
    "        <td>2.3</td>\n",
    "        <td>0.0107</td>\n",
    "        <td>0.0104</td>\n",
    "        <td>0.0102</td>\n",
    "        <td>0.0099</td>\n",
    "        <td>0.0096</td>\n",
    "        <td>0.0094</td>\n",
    "        <td>0.0091</td>\n",
    "        <td>0.0089</td>\n",
    "        <td>0.0087</td>\n",
    "        <td>0.0084</td>\n",
    "        </tr>\n",
    "        <tr class=\"odd\">\n",
    "        <td>2.4</td>\n",
    "        <td>0.0082</td>\n",
    "        <td>0.0080</td>\n",
    "        <td>0.0078</td>\n",
    "        <td>0.0075</td>\n",
    "        <td>0.0073</td>\n",
    "        <td>0.0071</td>\n",
    "        <td>0.0069</td>\n",
    "        <td>0.0068</td>\n",
    "        <td>0.0066</td>\n",
    "        <td>0.0064</td>\n",
    "        </tr>\n",
    "        <tr class=\"even\">\n",
    "        <td>2.5</td>\n",
    "        <td>0.0062</td>\n",
    "        <td>0.0060</td>\n",
    "        <td>0.0059</td>\n",
    "        <td>0.0057</td>\n",
    "        <td>0.0055</td>\n",
    "        <td>0.0054</td>\n",
    "        <td>0.0052</td>\n",
    "        <td>0.0051</td>\n",
    "        <td>0.0049</td>\n",
    "        <td>0.0048</td>\n",
    "        </tr>\n",
    "        <tr class=\"odd\">\n",
    "        <td>2.6</td>\n",
    "        <td>0.0047</td>\n",
    "        <td>0.0045</td>\n",
    "        <td>0.0044</td>\n",
    "        <td>0.0043</td>\n",
    "        <td>0.0041</td>\n",
    "        <td>0.0040</td>\n",
    "        <td>0.0039</td>\n",
    "        <td>0.0038</td>\n",
    "        <td>0.0037</td>\n",
    "        <td>0.0036</td>\n",
    "        </tr>\n",
    "        <tr class=\"even\">\n",
    "        <td>2.7</td>\n",
    "        <td>0.0035</td>\n",
    "        <td>0.0034</td>\n",
    "        <td>0.0033</td>\n",
    "        <td>0.0032</td>\n",
    "        <td>0.0031</td>\n",
    "        <td>0.0030</td>\n",
    "        <td>0.0029</td>\n",
    "        <td>0.0028</td>\n",
    "        <td>0.0027</td>\n",
    "        <td>0.0026</td>\n",
    "        </tr>\n",
    "        <tr class=\"odd\">\n",
    "        <td>2.8</td>\n",
    "        <td>0.0026</td>\n",
    "        <td>0.0025</td>\n",
    "        <td>0.0024</td>\n",
    "        <td>0.0023</td>\n",
    "        <td>0.0023</td>\n",
    "        <td>0.0022</td>\n",
    "        <td>0.0021</td>\n",
    "        <td>0.0021</td>\n",
    "        <td>0.0020</td>\n",
    "        <td>0.0019</td>\n",
    "        </tr>\n",
    "        <tr class=\"even\">\n",
    "        <td>2.9</td>\n",
    "        <td>0.0019</td>\n",
    "        <td>0.0018</td>\n",
    "        <td>0.0018</td>\n",
    "        <td>0.0017</td>\n",
    "        <td>0.0016</td>\n",
    "        <td>0.0016</td>\n",
    "        <td>0.0015</td>\n",
    "        <td>0.0015</td>\n",
    "        <td>0.0014</td>\n",
    "        <td>0.0014</td>\n",
    "        </tr>\n",
    "        <tr class=\"odd\">\n",
    "        <td>3.0</td>\n",
    "        <td>0.0013</td>\n",
    "        <td>0.0013</td>\n",
    "        <td>0.0013</td>\n",
    "        <td>0.0012</td>\n",
    "        <td>0.0012</td>\n",
    "        <td>0.0011</td>\n",
    "        <td>0.0011</td>\n",
    "        <td>0.0011</td>\n",
    "        <td>0.0010</td>\n",
    "        <td>0.0010</td>\n",
    "        </tr>\n",
    "        <tr class=\"even\">\n",
    "        <td>3.1</td>\n",
    "        <td>0.0010</td>\n",
    "        <td>0.0009</td>\n",
    "        <td>0.0009</td>\n",
    "        <td>0.0009</td>\n",
    "        <td>0.0008</td>\n",
    "        <td>0.0008</td>\n",
    "        <td>0.0008</td>\n",
    "        <td>0.0008</td>\n",
    "        <td>0.0007</td>\n",
    "        <td>0.0007</td>\n",
    "        </tr>\n",
    "        <tr class=\"odd\">\n",
    "        <td>3.2</td>\n",
    "        <td>0.0007</td>\n",
    "        <td>0.0007</td>\n",
    "        <td>0.0006</td>\n",
    "        <td>0.0006</td>\n",
    "        <td>0.0006</td>\n",
    "        <td>0.0006</td>\n",
    "        <td>0.0006</td>\n",
    "        <td>0.0005</td>\n",
    "        <td>0.0005</td>\n",
    "        <td>0.0005</td>\n",
    "        </tr>\n",
    "        <tr class=\"even\">\n",
    "        <td>3.3</td>\n",
    "        <td>0.0005</td>\n",
    "        <td>0.0005</td>\n",
    "        <td>0.0005</td>\n",
    "        <td>0.0004</td>\n",
    "        <td>0.0004</td>\n",
    "        <td>0.0004</td>\n",
    "        <td>0.0004</td>\n",
    "        <td>0.0004</td>\n",
    "        <td>0.0004</td>\n",
    "        <td>0.0003</td>\n",
    "        </tr>\n",
    "        <tr class=\"odd\">\n",
    "        <td>3.4</td>\n",
    "        <td>0.0003</td>\n",
    "        <td>0.0003</td>\n",
    "        <td>0.0003</td>\n",
    "        <td>0.0003</td>\n",
    "        <td>0.0003</td>\n",
    "        <td>0.0003</td>\n",
    "        <td>0.0003</td>\n",
    "        <td>0.0003</td>\n",
    "        <td>0.0003</td>\n",
    "        <td>0.0002</td>\n",
    "        </tr>\n",
    "        <tr class=\"even\">\n",
    "        <td>3.5</td>\n",
    "        <td>0.0002</td>\n",
    "        <td>0.0002</td>\n",
    "        <td>0.0002</td>\n",
    "        <td>0.0002</td>\n",
    "        <td>0.0002</td>\n",
    "        <td>0.0002</td>\n",
    "        <td>0.0002</td>\n",
    "        <td>0.0002</td>\n",
    "        <td>0.0002</td>\n",
    "        <td>0.0002</td>\n",
    "        </tr>\n",
    "    </tbody>\n",
    "    </table>\n",
    "</body>"
   ]
  }
 ],
 "metadata": {
  "kernelspec": {
   "display_name": "R",
   "language": "R",
   "name": "ir"
  },
  "language_info": {
   "codemirror_mode": "r",
   "file_extension": ".r",
   "mimetype": "text/x-r-source",
   "name": "R",
   "pygments_lexer": "r",
   "version": "4.1.1"
  }
 },
 "nbformat": 4,
 "nbformat_minor": 4
}
