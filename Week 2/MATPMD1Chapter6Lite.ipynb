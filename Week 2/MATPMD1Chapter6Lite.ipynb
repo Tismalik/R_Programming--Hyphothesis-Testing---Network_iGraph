{
 "cells": [
  {
   "cell_type": "markdown",
   "metadata": {
    "slideshow": {
     "slide_type": "slide"
    }
   },
   "source": [
    "<html>\n",
    "<head>\n",
    "    <h2>University of Stirling</h2>\n",
    "    <h2>Computing Science and Mathematics</h2>\n",
    "    <h2>MATPMD1 Statistics for Data Science</h2>\n",
    "    <h1>Chapter 6 T-tests</h1>\n",
    "</head>"
   ]
  },
  {
   "cell_type": "markdown",
   "metadata": {
    "slideshow": {
     "slide_type": "slide"
    }
   },
   "source": [
    "<body>\n",
    "    <h2>6.1 Parametric Tests\n",
    "    </h2>\n",
    "    <p>We will now look at formal <strong>parametric</strong> methods used in one and two sample situations. These situations are split into the following cases:\n",
    "    </p>\n",
    "</body>"
   ]
  },
  {
   "cell_type": "markdown",
   "metadata": {
    "slideshow": {
     "slide_type": "slide"
    }
   },
   "source": [
    "<body>\n",
    "    <ol>\n",
    "        <li><strong>One Sample Situation</strong><br>\n",
    "            Random sample from a single population to test a 'claimed value'\n",
    "        </li>\n",
    "        <li><strong>Two Sample Situation -- Independent Groups</strong><br>\n",
    "            Random samples from two populations to compare means or variances\n",
    "        </li>\n",
    "        <li><strong>Two Sample Situation -- Paired (or Matched)</strong><br>\n",
    "            Usually a random sample of experimental units from the population of interest used to compare mean response.\n",
    "        </li>\n",
    "    </ol>\n",
    "</body>"
   ]
  },
  {
   "cell_type": "markdown",
   "metadata": {
    "slideshow": {
     "slide_type": "slide"
    }
   },
   "source": [
    "<body>\n",
    "    <p>Each 'test' follows a similar format:\n",
    "    </p>\n",
    "    <ol>\n",
    "        <li>Research Hypothesis\n",
    "        </li>\n",
    "        <li>Hypothesis Test and Assumptions\n",
    "        </li>\n",
    "        <li>Null and Alternative Hypotheses\n",
    "        </li>\n",
    "        <li>Use sample data to calculate observed test statistic\n",
    "        </li>\n",
    "        <li>Calculate Rejection Region or p-value\n",
    "        </li>\n",
    "        <li>Test decision whether to reject the Null hypothesis\n",
    "        </li>\n",
    "        <li>Conclusion (relates back to Research Hypothesis)\n",
    "        </li>\n",
    "    </ol>\n",
    "</body>"
   ]
  },
  {
   "cell_type": "markdown",
   "metadata": {
    "slideshow": {
     "slide_type": "slide"
    }
   },
   "source": [
    "<body>\n",
    "    <p>Each Confidence Interval follows a similar format:\n",
    "    </p>\n",
    "    <ol>\n",
    "        <li>Confidence Level : 95% or 99%\n",
    "        </li>\n",
    "        <li>Estimate $\\pm$ Constant from tables $\\times$ estimate of variability\n",
    "        </li>\n",
    "    </ol>\n",
    "</body>"
   ]
  },
  {
   "cell_type": "markdown",
   "metadata": {
    "slideshow": {
     "slide_type": "slide"
    }
   },
   "source": [
    "<body>\n",
    "    <h2>6.2 Hypothesis testing population mean: t-test\n",
    "    </h2>\n",
    "    <ul>\n",
    "        <li>The t-test is a test which is commonly used to test a hypothesis based on sample means.\n",
    "        </li>\n",
    "        <li>Used when sample size is small ($n\\lt 30$).\n",
    "        </li>\n",
    "        <li>Assumes underlying population is normally distributed.\n",
    "    </ul>\n",
    "</body>"
   ]
  },
  {
   "cell_type": "markdown",
   "metadata": {
    "slideshow": {
     "slide_type": "slide"
    }
   },
   "source": [
    "<body>\n",
    "    <h2>6.2.1 Versions of t-test\n",
    "    </h2>\n",
    "    <p>There are 3 versions of t-tests for different situations:\n",
    "    </p>\n",
    "    <ul \"list-style:none\">\n",
    "        <li>One Sample Situation\n",
    "        </li>\n",
    "        <li>Two Sample Independent Groups\n",
    "        </li>\n",
    "        <li>Two Sample Paired Data\n",
    "        </li>\n",
    "    </ul>\n",
    "</body>"
   ]
  },
  {
   "cell_type": "markdown",
   "metadata": {
    "slideshow": {
     "slide_type": "slide"
    }
   },
   "source": [
    "<body>\n",
    "    <h3>6.2.2 T-test: One Sample Situation\n",
    "    </h3>\n",
    "    <p>If samples of size $n$ are taken from a distribution with mean $\\mu$ and standard deviation $\\sigma$, then the distribution of the sample means will have a mean $\\mu$ and standard deviation $\\frac{\\sigma}{\\sqrt{n}}$ (the standard error). \n",
    "    </p>\n",
    "</body>"
   ]
  },
  {
   "cell_type": "markdown",
   "metadata": {
    "slideshow": {
     "slide_type": "slide"
    }
   },
   "source": [
    "<body>\n",
    "    <p>If we only know the sample standard deviation $s$, then our estimate of the standard error of the mean is $\\frac{s}{\\sqrt{n}}$ and the test statistic (estimate) to evaluate is:\n",
    "    </p>\n",
    "    <p>$$\\begin{equation}t=\\frac{\\bar{x}-\\mu}{\\frac{s}{\\sqrt{n}}} \\label{eq:61} \\tag{6.1}\n",
    "       \\end{equation}$$\n",
    "    </p>\n",
    "</body>"
   ]
  },
  {
   "cell_type": "markdown",
   "metadata": {
    "slideshow": {
     "slide_type": "slide"
    }
   },
   "source": [
    "<body>\n",
    "    <p>The Null Hypothesis $H_0$ is that the mean is not significantly different from $\\mu_0$ and the test statistic is:\n",
    "    </p>\n",
    "    <p>$$\\begin{equation}T=\\frac{\\bar{x}-\\mu_0}{\\frac{s}{\\sqrt{n}}}\\quad \\sim \\quad t(n-1) \\label{eq:62} \\tag{6.2}\n",
    "       \\end{equation}$$\n",
    "    </p>\n",
    "    <p>will follow a t distribution on $n-1$ degrees of freedom under the assumption that $H_0$ is true.\n",
    "    </p>\n",
    "</body>"
   ]
  },
  {
   "cell_type": "markdown",
   "metadata": {
    "slideshow": {
     "slide_type": "slide"
    }
   },
   "source": [
    "<body>\n",
    "    <h3>Example 6.1\n",
    "    </h3>\n",
    "    <p>The level of various substances in the blood of kidney dialysis patients is of concern because kidney failure and dialysis lead to nutritional problems. A researcher performed blood tests on several dialysis patients on six consecutive clinic visits. The variable measured was the phosphate level in blood. Phosphate levels in a single patient tend to vary normally over time. The data on one patient in mg/dl of blood are given below.<br><br>\n",
    "            5.5 5.1 4.6 4.8 5.7 6.4<br><br>\n",
    "            Is the mean phosphate level greater than 5 mg/dl of blood?\n",
    "    </p>\n",
    "</body>"
   ]
  },
  {
   "cell_type": "markdown",
   "metadata": {
    "slideshow": {
     "slide_type": "slide"
    }
   },
   "source": [
    "<body>\n",
    "    <h3>Example 6.2\n",
    "    </h3>\n",
    "    <p>In a randomised comparative experiment of dietary calcium on blood pressure, 54 healthy white males were divided at random into two groups. One group received calcium; the other, a placebo. At the beginning of the study, the researchers measured many variables on the subjects. The report on the study gives the mean seated systolic blood pressure of the 27 members of the placebo group as 114.4 mmHg and the standard deviation as 9.7 mmHg.<br><br>\n",
    "            Does the mean blood pressure equal 120 mmHg?\n",
    "    </p>\n",
    "</body>"
   ]
  },
  {
   "cell_type": "markdown",
   "metadata": {
    "slideshow": {
     "slide_type": "slide"
    }
   },
   "source": [
    "<body>\n",
    "    <h3>6.2.3 T-test: Two Sample Independent Groups\n",
    "    </h3>\n",
    "    <p>One of the most common questions is to decide whether the means of two samples are significantly different.\n",
    "    </p>\n",
    "</body>"
   ]
  },
  {
   "cell_type": "markdown",
   "metadata": {
    "slideshow": {
     "slide_type": "slide"
    }
   },
   "source": [
    "<body>\n",
    "    <p>Consider two samples with means $\\bar{x}_1$ and $\\bar{x}_2$ and with standard deviations $s_1$ and $s_2$ respectively. Then we have seen that\n",
    "    </p>\n",
    "    <p>$s_1^2 = \\frac{\\sum(x-\\bar{x}_1)^2}{n_1-1}\\quad$ and $\\quad s_2^2 = \\frac{\\sum(x-\\bar{x}_2)^2}{n_2-1}$\n",
    "    </p>\n",
    "</body>"
   ]
  },
  {
   "cell_type": "markdown",
   "metadata": {
    "slideshow": {
     "slide_type": "slide"
    }
   },
   "source": [
    "<body>\n",
    "    <p>The standard error of the difference between the means is estimated as\n",
    "    </p>\n",
    "    <p>$$\\begin{equation}s_d = \\sqrt{\\frac{s_1^2}{n_1}+\\frac{s_2^2}{n_2}} \\label{eq:63} \\tag{6.3}\n",
    "       \\end{equation}$$\n",
    "    </p>\n",
    "</body>"
   ]
  },
  {
   "cell_type": "markdown",
   "metadata": {
    "slideshow": {
     "slide_type": "slide"
    }
   },
   "source": [
    "<body>\n",
    "    <p>If we assume that the two samples come from populations having the same variance, then the two samples can be combined to give the best estimate of the population variance, which is called the Pooled Sample Variance, $s_p^2$:\n",
    "    </p>\n",
    "    <p>$$\\begin{equation}s_p^2 = \\frac{\\sum(x-\\bar{x}_1)^2+\\sum(x-\\bar{x}_2)^2}{n_1+n_2-2} \\\\\n",
    "         = \\frac{(n_1-1)s_1^2 + (n_2-1)s_2^2}{n_1+n_2-2}\\label{eq:64} \\tag{6.4}\n",
    "         \\end{equation}$$\n",
    "    </p>\n",
    "</body>"
   ]
  },
  {
   "cell_type": "markdown",
   "metadata": {
    "slideshow": {
     "slide_type": "slide"
    }
   },
   "source": [
    "<body>\n",
    "    <p>The estimate is substituted for $s_1^2$ and $s_2^2$ to give:\n",
    "    </p>\n",
    "    <p>$$\\begin{equation}s_d = \\sqrt{s_p^2\\left(\\frac{1}{n_1}+\\frac{1}{n_2}\\right)}\\label{eq:65} \\tag{6.5}\n",
    "         \\end{equation}$$\n",
    "    </p>\n",
    "</body>"
   ]
  },
  {
   "cell_type": "markdown",
   "metadata": {
    "slideshow": {
     "slide_type": "slide"
    }
   },
   "source": [
    "<body>\n",
    "    <p>The Null Hypothesis is that the difference between the sample means is not significantly different from $d$ and the test statistic is:\n",
    "    <p>$$\\begin{equation}T=\\frac{(\\bar{x}_1-\\bar{x}_2)-d}{\\sqrt{s_p^2\\left(\\frac{1}{n_1}+\\frac{1}{n_2}\\right)}}\\quad \\sim  \\quad t(n_1 + n_2 -2) \\quad \\textrm{under } H_0\\label{eq:66} \\tag{6.6}\n",
    "         \\end{equation}$$\n",
    "    </p>\n",
    "</body>"
   ]
  },
  {
   "cell_type": "markdown",
   "metadata": {
    "slideshow": {
     "slide_type": "slide"
    }
   },
   "source": [
    "<body>\n",
    "    <p>The most common case is for $d = 0$ and then\n",
    "    <p>$$\\begin{equation}T=\\frac{(\\bar{x}_1-\\bar{x}_2)}{\\sqrt{s_p^2\\left(\\frac{1}{n_1}+\\frac{1}{n_2}\\right)}} \\label{eq:67} \\tag{6.7}\n",
    "         \\end{equation}$$\n",
    "    </p>\n",
    "</body>"
   ]
  },
  {
   "cell_type": "markdown",
   "metadata": {
    "slideshow": {
     "slide_type": "slide"
    }
   },
   "source": [
    "<body>\n",
    "    <p>Note that when the two groups have unequal variances, we need to use the Welch test but we won't detail it here\n",
    "    </p>\n",
    "</body>"
   ]
  },
  {
   "cell_type": "markdown",
   "metadata": {
    "slideshow": {
     "slide_type": "slide"
    }
   },
   "source": [
    "<body>\n",
    "    <h3>Example 6.3\n",
    "    </h3>\n",
    "    <p>A bank compares two proposals to increase the amount that its credit card customers charge on their cards. Proposal A offers to eliminate the annual fee for customers who charge £2400 or more during the year. Proposal B offers a small percent of the total charged as a cash rebate at the end of the year. The bank offers each proposal to a sample of 150 of its existing credit card customers. At the end of the year, the total amount charged by each customer is\n",
    "recorded. The summary statistics follow:<br>\n",
    "            <table>\n",
    "            <thead>\n",
    "            <tr class=\"header\">\n",
    "            <th>Group</th>\n",
    "            <th><span class=\"math inline\"><em>n</em></span></th>\n",
    "            <th><span class=\"math inline\"><em>x̄</em></span></th>\n",
    "            <th><span class=\"math inline\"><em>s</em></span></th>\n",
    "            </tr>\n",
    "            </thead>\n",
    "            <tbody>\n",
    "            <tr class=\"odd\">\n",
    "            <td>A</td>\n",
    "            <td>150</td>\n",
    "            <td>£1971</td>\n",
    "            <td>£368</td>\n",
    "            </tr>\n",
    "            <tr class=\"even\">\n",
    "            <td>B</td>\n",
    "            <td>150</td>\n",
    "            <td>£2000</td>\n",
    "            <td>£440</td>\n",
    "            </tr>\n",
    "            </tbody>\n",
    "            </table><br>\n",
    "            Do the data show a significant difference between the mean amounts charged by customers offered the two plans?\n",
    "    </p>\n",
    "</body>"
   ]
  },
  {
   "cell_type": "markdown",
   "metadata": {
    "slideshow": {
     "slide_type": "slide"
    }
   },
   "source": [
    "<body>\n",
    "    <h3>6.2.4 T-test: Two Sample - Paired Data\n",
    "    </h3>\n",
    "    <p>If we make pairs of measurements from a population, we can obtain a sample of $n$ pairs and $n$ differences. These measurements may be measurements made on matched pairs (e.g. subjects of the same age, height, weight etc.) or on a subject before and after a particular intervention. \n",
    "    </p>\n",
    "    <p>We now make the assumption that the underlying distribution of the differences is normal.\n",
    "</body>"
   ]
  },
  {
   "cell_type": "markdown",
   "metadata": {
    "slideshow": {
     "slide_type": "slide"
    }
   },
   "source": [
    "<body>\n",
    "    <p>This sample of differences will have a sample mean $\\bar{d}=\\frac{\\sum{d}}{n}$, where $d$ = the difference between the two measurements. This can be used to provide an estimate of the standard deviation of the population of difference values:\n",
    "    <p>$$\\begin{equation}s_d^2 = \\frac{\\sum{(d-\\bar{d})^2}}{n-1} = \\frac{\\left[\\sum{d^2}-\\frac{\\left(\\sum{d}\\right)^2}{n}\\right]}{n-1} \\label{eq:68} \\tag{6.8}\n",
    "         \\end{equation}$$\n",
    "    </p>\n",
    "</body>"
   ]
  },
  {
   "cell_type": "markdown",
   "metadata": {
    "slideshow": {
     "slide_type": "slide"
    }
   },
   "source": [
    "<body>\n",
    "    <p>If such sampling is continued, the mean of the distribution of mean differences will equal the mean difference for the population, and the standard error for the distribution of mean differences is estimated as\n",
    "    <p>$$\\begin{equation}s_{\\Delta} = \\frac{s_d}{\\sqrt{n}} \\label{eq:69} \\tag{6.9}\n",
    "         \\end{equation}$$\n",
    "    </p>\n",
    "</body>"
   ]
  },
  {
   "cell_type": "markdown",
   "metadata": {
    "slideshow": {
     "slide_type": "slide"
    }
   },
   "source": [
    "<body>\n",
    "    <p>The Null Hypothesis is that the mean difference is not significantly different from $d'$ and the test statistic is\n",
    "    </p>\n",
    "    <p>$$\\begin{equation}T = \\frac{\\bar{d}-d'}{s_{\\Delta}}\\quad \\sim \\quad t(n-1) \\quad \\textrm{under } H_0\\\\\n",
    "        \\quad(n = \\textrm{number of pairs of measurements}) \\label{eq:610} \\tag{6.10}\n",
    "         \\end{equation}$$\n",
    "    </p>\n",
    "</body>"
   ]
  },
  {
   "cell_type": "markdown",
   "metadata": {
    "slideshow": {
     "slide_type": "slide"
    }
   },
   "source": [
    "<body>\n",
    "    <p>Again the most common case is for $d' = 0$ and then \n",
    "    <p>$$\\begin{equation}t = \\frac{\\bar{d}}{s_{\\Delta}} \\label{eq:611} \\tag{6.11}\n",
    "         \\end{equation}$$\n",
    "    </p>\n",
    "</body>"
   ]
  },
  {
   "cell_type": "markdown",
   "metadata": {
    "slideshow": {
     "slide_type": "slide"
    }
   },
   "source": [
    "<body>\n",
    "    <h3>Example 6.4\n",
    "    </h3>\n",
    "    <p>The design of controls and instruments has a large effect on how easily people can use them. A student project investigated this effect by asking 25 right handed students to turn a knob, with their right hands, that moved an indicator by screw action. There were two identical instruments, one with a right-hand thread (turns clockwise) and the other with a left-hand thread (turns anti-clockwise). The table below gives the times required (in seconds) to move the indicator a fixed distance.<br>\n",
    "            The project hoped to show that right-handed people find right-hand threads easier to use. Does the data support this view?<br>\n",
    "            <table style=\"font-size:50%\">\n",
    "            <thead>\n",
    "            <tr class=\"header\">\n",
    "            <th>Subject</th>\n",
    "            <th>Right-threaded</th>\n",
    "            <th>Left-threaded</th>\n",
    "            </tr>\n",
    "            </thead>\n",
    "            <tbody>\n",
    "            <tr class=\"odd\">\n",
    "            <td>1</td>\n",
    "            <td>113</td>\n",
    "            <td>137</td>\n",
    "            </tr>\n",
    "            <tr class=\"even\">\n",
    "            <td>2</td>\n",
    "            <td>105</td>\n",
    "            <td>105</td>\n",
    "            </tr>\n",
    "            <tr class=\"odd\">\n",
    "            <td>3</td>\n",
    "            <td>130</td>\n",
    "            <td>133</td>\n",
    "            </tr>\n",
    "            <tr class=\"even\">\n",
    "            <td>4</td>\n",
    "            <td>101</td>\n",
    "            <td>108</td>\n",
    "            </tr>\n",
    "            <tr class=\"odd\">\n",
    "            <td>5</td>\n",
    "            <td>138</td>\n",
    "            <td>115</td>\n",
    "            </tr>\n",
    "            <tr class=\"even\">\n",
    "            <td>6</td>\n",
    "            <td>118</td>\n",
    "            <td>170</td>\n",
    "            </tr>\n",
    "            <tr class=\"odd\">\n",
    "            <td>7</td>\n",
    "            <td>87</td>\n",
    "            <td>103</td>\n",
    "            </tr>\n",
    "            <tr class=\"even\">\n",
    "            <td>8</td>\n",
    "            <td>116</td>\n",
    "            <td>145</td>\n",
    "            </tr>\n",
    "            <tr class=\"odd\">\n",
    "            <td>9</td>\n",
    "            <td>75</td>\n",
    "            <td>78</td>\n",
    "            </tr>\n",
    "            <tr class=\"even\">\n",
    "            <td>10</td>\n",
    "            <td>96</td>\n",
    "            <td>107</td>\n",
    "            </tr>\n",
    "            <tr class=\"odd\">\n",
    "            <td>11</td>\n",
    "            <td>122</td>\n",
    "            <td>84</td>\n",
    "            </tr>\n",
    "            <tr class=\"even\">\n",
    "            <td>12</td>\n",
    "            <td>103</td>\n",
    "            <td>148</td>\n",
    "            </tr>\n",
    "            <tr class=\"odd\">\n",
    "            <td>13</td>\n",
    "            <td>116</td>\n",
    "            <td>147</td>\n",
    "            </tr>\n",
    "            <tr class=\"even\">\n",
    "            <td>14</td>\n",
    "            <td>107</td>\n",
    "            <td>87</td>\n",
    "            </tr>\n",
    "            <tr class=\"odd\">\n",
    "            <td>15</td>\n",
    "            <td>118</td>\n",
    "            <td>166</td>\n",
    "            </tr>\n",
    "            <tr class=\"even\">\n",
    "            <td>16</td>\n",
    "            <td>103</td>\n",
    "            <td>146</td>\n",
    "            </tr>\n",
    "            <tr class=\"odd\">\n",
    "            <td>17</td>\n",
    "            <td>111</td>\n",
    "            <td>123</td>\n",
    "            </tr>\n",
    "            <tr class=\"even\">\n",
    "            <td>18</td>\n",
    "            <td>104</td>\n",
    "            <td>135</td>\n",
    "            </tr>\n",
    "            <tr class=\"odd\">\n",
    "            <td>19</td>\n",
    "            <td>111</td>\n",
    "            <td>112</td>\n",
    "            </tr>\n",
    "            <tr class=\"even\">\n",
    "            <td>20</td>\n",
    "            <td>89</td>\n",
    "            <td>93</td>\n",
    "            </tr>\n",
    "            <tr class=\"odd\">\n",
    "            <td>21</td>\n",
    "            <td>78</td>\n",
    "            <td>76</td>\n",
    "            </tr>\n",
    "            <tr class=\"even\">\n",
    "            <td>22</td>\n",
    "            <td>100</td>\n",
    "            <td>116</td>\n",
    "            </tr>\n",
    "            <tr class=\"odd\">\n",
    "            <td>23</td>\n",
    "            <td>89</td>\n",
    "            <td>78</td>\n",
    "            </tr>\n",
    "            <tr class=\"even\">\n",
    "            <td>24</td>\n",
    "            <td>85</td>\n",
    "            <td>101</td>\n",
    "            </tr>\n",
    "            <tr class=\"odd\">\n",
    "            <td>25</td>\n",
    "            <td>88</td>\n",
    "            <td>123</td>\n",
    "            </tr>\n",
    "            </tbody>\n",
    "            </table><br>\n",
    "    </p>\n",
    "</body>"
   ]
  },
  {
   "cell_type": "markdown",
   "metadata": {
    "slideshow": {
     "slide_type": "slide"
    }
   },
   "source": [
    "<body>\n",
    "    <h3>6.2.5 When can we use the t-test?\n",
    "    </h3>\n",
    "    <p>The t-test is <strong>only valid if</strong> the following assumptions hold:\n",
    "    <ol>\n",
    "        <li>The data is a random sample from the population.\n",
    "        </li>\n",
    "        <li>The samples have been drawn from <strong>normally distributed populations</strong>.\n",
    "        </li>\n",
    "        <li>The population variances are equal. (<strong>This applies to the two sample case</strong>.)\n",
    "            <ul>\n",
    "                <li>Investigate the Welch test when variances unequal.\n",
    "                </li>\n",
    "            </ul>\n",
    "        </li>\n",
    "    </ol>\n",
    "</body>"
   ]
  },
  {
   "cell_type": "markdown",
   "metadata": {
    "slideshow": {
     "slide_type": "slide"
    }
   },
   "source": [
    "<body>\n",
    "    <p>To test normality of the data use Anderson Darling test.\n",
    "    <p>To test equality of variances Levene's Test should be carried out.\n",
    "    </p>\n",
    "</body>"
   ]
  },
  {
   "cell_type": "markdown",
   "metadata": {
    "slideshow": {
     "slide_type": "slide"
    }
   },
   "source": [
    "<body>\n",
    "    <p>With larger samples ($n$ greater than about 15) the assumptions are not critical. The test is said to be fairly 'robust' to minor departures from normality.\n",
    "    </p>\n",
    "</body>"
   ]
  },
  {
   "cell_type": "markdown",
   "metadata": {
    "slideshow": {
     "slide_type": "slide"
    }
   },
   "source": [
    "<body>\n",
    "    <p>If the population is not normally distributed, it is often possible to transform the data into a distribution which is approximately normal. You can use the following 'ladder' of transformation :\n",
    "    </p>\n",
    "    <img src=MATPMD1Chapter6Fig1.png  style=\"width:66%\" >\n",
    "</body>"
   ]
  },
  {
   "cell_type": "markdown",
   "metadata": {
    "slideshow": {
     "slide_type": "slide"
    }
   },
   "source": [
    "<body>\n",
    "    <h2>6.3 Confidence Intervals\n",
    "    </h2>\n",
    "    <p>Previously we saw that more information is conveyed by quoting confidence intervals than by simply stating p-values. Some commonly used confidence intervals are given here.\n",
    "    </p>\n",
    "</body>"
   ]
  },
  {
   "cell_type": "markdown",
   "metadata": {
    "slideshow": {
     "slide_type": "slide"
    }
   },
   "source": [
    "<body>\n",
    "    <p>Note that the form of the expression is always an appropriate standard error multiplied by an appropriate t value.\n",
    "    </p>\n",
    "    <p>For a 95% confidence interval and a large number of degrees of freedom this will be slightly less than 2 (in fact, 1.96).\n",
    "    </p>\n",
    "</body>"
   ]
  },
  {
   "cell_type": "markdown",
   "metadata": {
    "slideshow": {
     "slide_type": "slide"
    }
   },
   "source": [
    "<body>\n",
    "    <h3>6.3.1 Mean of a One Sample\n",
    "    </h3>\n",
    "    <p>If we have a single sample of mean $\\bar{x}$ and standard deviation $s$ then there is a probability $(1 - \\alpha)$ that an interval of the form:\n",
    "    </p>\n",
    "</body>"
   ]
  },
  {
   "cell_type": "markdown",
   "metadata": {
    "slideshow": {
     "slide_type": "slide"
    }
   },
   "source": [
    "<body>\n",
    "    <p>$$\\begin{equation}\\left[\\bar{x} - t\\left(n-1,\\frac{\\alpha}{2}\\right)\\sqrt{\\frac{s^2}{n}},\\\\\n",
    "    \\bar{x} + t\\left(n-1,\\frac{\\alpha}{2}\\right)\\sqrt{\\frac{s^2}{n}}\\;\\right] \\label{eq:416} \\tag{6.12}\n",
    "         \\end{equation}$$\n",
    "    </p>\n",
    "    <p>will contain the true value of the population mean, $\\mu$.\n",
    "    </p>\n",
    "</body>"
   ]
  },
  {
   "cell_type": "markdown",
   "metadata": {
    "slideshow": {
     "slide_type": "slide"
    }
   },
   "source": [
    "<body>\n",
    "    <p>We refer to the above as a $(1-\\alpha)$ confidence interval, so that if $\\alpha = 0.05$ then $1-\\alpha = 0.95$ and we have a 95% Confidence Interval.\n",
    "    </p>\n",
    "</body>"
   ]
  },
  {
   "cell_type": "markdown",
   "metadata": {
    "slideshow": {
     "slide_type": "slide"
    }
   },
   "source": [
    "<body>\n",
    "    <h3>6.3.2 Difference between the Means of Two Samples\n",
    "    </h3>\n",
    "    <p>Suppose we have two samples, containing $n_1$ and $n_2$ values, with means $\\bar{x}_1$ and $\\bar{x}_2$ and pooled standard deviation $s_p$ (i.e. assume equal variance). Then there is a probability $(1 - \\alpha)$ that the true difference between the means $\\mu_1−\\mu_2$ lies in the interval:\n",
    "    </p>\n",
    "</body>"
   ]
  },
  {
   "cell_type": "markdown",
   "metadata": {
    "slideshow": {
     "slide_type": "slide"
    }
   },
   "source": [
    "<body>\n",
    "    <p>$$\\begin{equation}\\left[ \\bar{x}_1-\\bar{x}_2 - t\\left(n_1+n_2-2,\\frac{\\alpha}{2}\\right)\\sqrt{s_p^2\\left(\\frac{1}{n_1}+\\frac{1}{n_2}\\right)},\\\\ \\bar{x}_1-\\bar{x}_2 + t\\left(n_1+n_2-2,\\frac{\\alpha}{2}\\right)\\sqrt{s_p^2\\left(\\frac{1}{n_1}+\\frac{1}{n_2}\\right)} \\;\\right] \\label{eq:613} \\tag{6.13}\n",
    "         \\end{equation}$$\n",
    "    </p>\n",
    "</body>"
   ]
  },
  {
   "cell_type": "markdown",
   "metadata": {
    "slideshow": {
     "slide_type": "slide"
    }
   },
   "source": [
    "<body>\n",
    "    <h3>6.3.3 Paired Data - Mean Difference\n",
    "    </h3>\n",
    "    <p>Suppose we have $n$ subjects, each measured on two occasions. If the mean difference between the pairs of readings is $\\bar{d}$ and the standard deviation of the difference is $s_d$, then there is probability $(1-\\alpha)$ that the true difference lies in the interval:\n",
    "    </p>\n",
    "</body>"
   ]
  },
  {
   "cell_type": "markdown",
   "metadata": {
    "slideshow": {
     "slide_type": "slide"
    }
   },
   "source": [
    "<body>\n",
    "    <p>$$\\begin{equation}\\left[\\bar{d}-t\\left(n-1,\\frac{\\alpha}{2}\\right)\\sqrt{\\frac{s_d^2}{n}},\\\\\n",
    "    \\bar{d}+t\\left(n-1,\\frac{\\alpha}{2}\\right)\\sqrt{\\frac{s_d^2}{n}}\\right] \\label{eq:614} \\tag{6.14}\n",
    "         \\end{equation}$$\n",
    "   </p>\n",
    "</body>"
   ]
  },
  {
   "cell_type": "markdown",
   "metadata": {
    "slideshow": {
     "slide_type": "slide"
    }
   },
   "source": [
    "<body>\n",
    "    <h3>6.3.4 Confidence Intervals for Exercises 6.1 to 6.4\n",
    "    </h3>\n",
    "    <p>Given the data in Exercises 6.1 to 6.4, we now construct confidence intervals for the true population mean.\n",
    "    </p>\n",
    "    <ul>\n",
    "        <li>See separate hand calculations.\n",
    "        </li>\n",
    "    </ul>\n",
    "</body>"
   ]
  }
 ],
 "metadata": {
  "kernelspec": {
   "display_name": "R",
   "language": "R",
   "name": "ir"
  },
  "language_info": {
   "codemirror_mode": "r",
   "file_extension": ".r",
   "mimetype": "text/x-r-source",
   "name": "R",
   "pygments_lexer": "r",
   "version": "4.1.1"
  }
 },
 "nbformat": 4,
 "nbformat_minor": 4
}
