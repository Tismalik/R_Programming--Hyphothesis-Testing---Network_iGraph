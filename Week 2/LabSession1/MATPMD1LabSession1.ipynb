{
 "cells": [
  {
   "cell_type": "markdown",
   "metadata": {
    "slideshow": {
     "slide_type": "slide"
    }
   },
   "source": [
    "<html>\n",
    "<head>\n",
    "    <h2>University of Stirling</h2>\n",
    "    <h2>Computing Science and Mathematics</h2>\n",
    "    <h2>MATPMD1 Statistics for Data Science</h2>\n",
    "    <h1>Lab Session 1\n",
    "    </h1>  \n",
    "</head>"
   ]
  },
  {
   "cell_type": "markdown",
   "metadata": {},
   "source": [
    "<body>\n",
    "    <p>The focus of this week is Descriptive Statistics and starting to get to grips with using R to help us to calculate numerical summaries and display data. Note, when asked to calculate numerical summary statistics like mean and standard deviation, please don’t use built-in R functions. The point is to get used to the formulae so they become second nature. I suggest you do use R as a calculator so you get familiar with R commands and output. For some of the questions you will also want to use R to get a visual impression of the data.\n",
    "    </p>\n",
    "    <p>But DO NOT worry if this is the first time you have used R, or indeed any statistical or mathematical programming language. You are not expected to work this out for yourself. I will go through these in the lab sessions and I have put examples below so that you can copy and paste into RStudio, or run in a Jupyter Notebook. You will find that all you need is a very few commands which in a short time I know will become familiar.\n",
    "    </p>\n",
    "</body>"
   ]
  },
  {
   "cell_type": "markdown",
   "metadata": {},
   "source": [
    "<body>\n",
    "    <h1>Some tips for R commands that you may find useful\n",
    "    </h1>\n",
    "    <p>The next few code cells are to give a few pointers to those who haven't used R before, giving some hints as to what commands you might need to use to get going with calculating some of the numerical statistics. Feel free to skip to the first question below if you do not need this.\n",
    "    </p>\n",
    "    <p>I have demonstrated these commands in the Jupyter notebook, but you can copy and paste to run these in RStudio as well. Use whichever tool you feel most useful to you.\n",
    "    </p>\n",
    "</body>"
   ]
  },
  {
   "cell_type": "code",
   "execution_count": 1,
   "metadata": {},
   "outputs": [
    {
     "data": {
      "text/html": [
       "10"
      ],
      "text/latex": [
       "10"
      ],
      "text/markdown": [
       "10"
      ],
      "text/plain": [
       "[1] 10"
      ]
     },
     "metadata": {},
     "output_type": "display_data"
    }
   ],
   "source": [
    "# This cell in the Jupyter Notebook is an R code cell. You can tell it is\n",
    "# a code cell by looking in the tabs above to the right of the one that \n",
    "# says Run you should see it saying Code. \n",
    "# You can use the Run button to run the R code to see if it works. You can\n",
    "# also press shift-Enter to run the cell.\n",
    "#\n",
    "# If you're wondering why these lines are all starting with #, the are called \n",
    "# comments and are our way of telling R not to interpret these as commands. \n",
    "# Try removing a hash and see whether R likes it.\n",
    "#\n",
    "# Now for some base commands. Actually all you really need to be able to do\n",
    "# this week to calculate our startistical summaries is add up some numbers and\n",
    "# divide by another number. Always remember that the real skill is in knowing what\n",
    "# the formulae are, what numbers to put in the formulae and then interpreting \n",
    "# the results.\n",
    "#\n",
    "# So, if I wanted to calculate the mean of 1,2,3 and 4, I want to sum up the\n",
    "# numbers:\n",
    "\n",
    "1+2+3+4\n"
   ]
  },
  {
   "cell_type": "code",
   "execution_count": 2,
   "metadata": {},
   "outputs": [
    {
     "data": {
      "text/html": [
       "7"
      ],
      "text/latex": [
       "7"
      ],
      "text/markdown": [
       "7"
      ],
      "text/plain": [
       "[1] 7"
      ]
     },
     "metadata": {},
     "output_type": "display_data"
    }
   ],
   "source": [
    "# And then I want to divide by 4 so I use the \"/\" symbol to mean divide:\n",
    "\n",
    "1+2+3+4/4"
   ]
  },
  {
   "cell_type": "code",
   "execution_count": 3,
   "metadata": {},
   "outputs": [
    {
     "data": {
      "text/html": [
       "2.5"
      ],
      "text/latex": [
       "2.5"
      ],
      "text/markdown": [
       "2.5"
      ],
      "text/plain": [
       "[1] 2.5"
      ]
     },
     "metadata": {},
     "output_type": "display_data"
    }
   ],
   "source": [
    "# Uh oh! what went wrong there? Well, we need to remember to bracket all the numbers \n",
    "# as R doesn't realise we want to divide them all by 4. So here goes:\n",
    "\n",
    "(1+2+3+4)/4"
   ]
  },
  {
   "cell_type": "code",
   "execution_count": 4,
   "metadata": {},
   "outputs": [
    {
     "data": {
      "text/html": [
       "2.5"
      ],
      "text/latex": [
       "2.5"
      ],
      "text/markdown": [
       "2.5"
      ],
      "text/plain": [
       "[1] 2.5"
      ]
     },
     "metadata": {},
     "output_type": "display_data"
    }
   ],
   "source": [
    "# That looks right, so now we're on the right track. You can also use a function\n",
    "# in R called sum(). So let's try that and store our result in a new variable called\n",
    "# mean1234 using the assignment operator \"<-\". \n",
    "\n",
    "mean1234 <- sum(1,2,3,4)/4\n",
    "\n",
    "# So we have stored the result in mean1234. In order to see the result we need to \n",
    "# type the variable name:\n",
    "\n",
    "mean1234"
   ]
  },
  {
   "cell_type": "code",
   "execution_count": 5,
   "metadata": {},
   "outputs": [
    {
     "name": "stdout",
     "output_type": "stream",
     "text": [
      "The contents of v1 are:"
     ]
    },
    {
     "data": {
      "text/html": [
       "<style>\n",
       ".list-inline {list-style: none; margin:0; padding: 0}\n",
       ".list-inline>li {display: inline-block}\n",
       ".list-inline>li:not(:last-child)::after {content: \"\\00b7\"; padding: 0 .5ex}\n",
       "</style>\n",
       "<ol class=list-inline><li>1</li><li>2</li><li>3</li><li>4</li></ol>\n"
      ],
      "text/latex": [
       "\\begin{enumerate*}\n",
       "\\item 1\n",
       "\\item 2\n",
       "\\item 3\n",
       "\\item 4\n",
       "\\end{enumerate*}\n"
      ],
      "text/markdown": [
       "1. 1\n",
       "2. 2\n",
       "3. 3\n",
       "4. 4\n",
       "\n",
       "\n"
      ],
      "text/plain": [
       "[1] 1 2 3 4"
      ]
     },
     "metadata": {},
     "output_type": "display_data"
    },
    {
     "name": "stdout",
     "output_type": "stream",
     "text": [
      "The length of v1 is:"
     ]
    },
    {
     "data": {
      "text/html": [
       "4"
      ],
      "text/latex": [
       "4"
      ],
      "text/markdown": [
       "4"
      ],
      "text/plain": [
       "[1] 4"
      ]
     },
     "metadata": {},
     "output_type": "display_data"
    },
    {
     "name": "stdout",
     "output_type": "stream",
     "text": [
      "The sum of all the elements of v1 are:"
     ]
    },
    {
     "data": {
      "text/html": [
       "10"
      ],
      "text/latex": [
       "10"
      ],
      "text/markdown": [
       "10"
      ],
      "text/plain": [
       "[1] 10"
      ]
     },
     "metadata": {},
     "output_type": "display_data"
    }
   ],
   "source": [
    "# One final step is that we may wish to pass this set of numbers into another function,\n",
    "# and it starts to get a bit messy. So we are going to set up what is called a vector\n",
    "# using the c() function in R. This means we can store this in a variable name and use\n",
    "# it to pass to other functions. In our case this will be sum(). Note that I am using \n",
    "# the function cat() just to make the output more legible. You don't have to do this.\n",
    "#\n",
    "# First set up our vector:\n",
    "\n",
    "v1 <- c(1,2,3,4)\n",
    "\n",
    "# Let's see what it looks like:\n",
    "cat('The contents of v1 are:')\n",
    "v1\n",
    "\n",
    "# And check its length. This might be useful if we want to know how many elements are\n",
    "# stored in the vector\n",
    "cat('The length of v1 is:')\n",
    "length (v1)\n",
    "\n",
    "# Now pass the vector as a parameter to sum() and check we get the result we expect\n",
    "cat('The sum of all the elements of v1 are:')\n",
    "sum(v1)"
   ]
  },
  {
   "cell_type": "code",
   "execution_count": 6,
   "metadata": {},
   "outputs": [
    {
     "name": "stdout",
     "output_type": "stream",
     "text": [
      "The mean of 1,2,3,4 is:"
     ]
    },
    {
     "data": {
      "text/html": [
       "2.5"
      ],
      "text/latex": [
       "2.5"
      ],
      "text/markdown": [
       "2.5"
      ],
      "text/plain": [
       "[1] 2.5"
      ]
     },
     "metadata": {},
     "output_type": "display_data"
    }
   ],
   "source": [
    "# So pulling it all together we have:\n",
    "\n",
    "# set up a vector of the numbers we want to get the mean for\n",
    "v1 <- c(1,2,3,4)\n",
    "\n",
    "# store the mean in our variable mean1234\n",
    "mean1234 <- sum(v1)/length(v1)\n",
    "\n",
    "# and check we got the answer right\n",
    "cat('The mean of 1,2,3,4 is:')\n",
    "mean1234"
   ]
  },
  {
   "cell_type": "markdown",
   "metadata": {},
   "source": [
    "<body>\n",
    "    <h1>Start of Questions\n",
    "    </h1>\n",
    "    <ol start=\"1\">\n",
    "        <li><p>Calculate the Five Number Summary, the mean and the standard deviation of:</p>\n",
    "            <p>(a) 1.1 3.4 5.6 9.2 11.7 12.9</p>\n",
    "            <p>(b) 10 15 18 22 28 32 41 56 61</p>\n",
    "        </li>\n",
    "    </ol>\n",
    "</body>"
   ]
  },
  {
   "cell_type": "code",
   "execution_count": 7,
   "metadata": {},
   "outputs": [],
   "source": [
    "###Question 1A and 1B\n",
    "## 1(a) Use these results to confirm your answers\n",
    "#a1<-c(1.1,3.4,5.6,9.2,11.7,12.9)\n",
    "## we will store the length of a1 as we will use this many times\n",
    "#n=length(a1)\n",
    "#\n",
    "#mina1 <- min(a1)\n",
    "#maxa1 <-max(a1)\n",
    "## Note there are an even number of data entries so have to find midpoint between 3rd and 4th\n",
    "## a1 is ordered from lowest to highest so we can read off 3rd and 4th entries\n",
    "#meda1 <-(9.2+5.6)/2\n",
    "#\n",
    "#posQ1 <- (n+1)/4\n",
    "#Q1 <-1.1+0.75*(3.4-1.1)\n",
    "#Q1\n",
    "#posQ3 <- 3*(n+1)/4\n",
    "#Q3 <- 11.7+0.25*(12.9-11.7)\n",
    "#\n",
    "#a1mean <- sum(a1)/n\n",
    "#\n",
    "## sum of x^2\n",
    "#a1sumx2 <-sum(a1^2)\n",
    "#\n",
    "## sum of x all squared\n",
    "#a1sumxall2 <-(sum(a1))^2\n",
    "#\n",
    "## finally calculate the sample standard deviation\n",
    "#a1sd <- sqrt((a1sumx2-a1sumxall2/n)/(n-1))\n",
    "#\n",
    "## 1(b) Use these results to confirm your answers\n",
    "#\n",
    "#b1<-c(10,15,18,22,28,32,41,56,61)\n",
    "## we will store the length of a1 as we will use this many times\n",
    "#n=length(b1)\n",
    "#\n",
    "#minb1 <- min(b1)\n",
    "#maxb1 <-max(b1)\n",
    "## Note there are an odd number of data entries so we can take the middle entry. Note how we\n",
    "## use an index into the vector. You can confirm that this picks out the 5th entry in b1\n",
    "#meda1 <- b1[(n+1)/2]\n",
    "#\n",
    "#posQ1 <- (n+1)/4\n",
    "#Q1 <-(15+18)/2\n",
    "#\n",
    "#posQ3 <- 3*(n+1)/4\n",
    "#Q3 <- (41+56)/2\n",
    "#\n",
    "#b1mean <- sum(b1)/n\n",
    "#\n",
    "## sum of x^2\n",
    "#b1sumx2 <-sum(b1^2)\n",
    "#\n",
    "## sum of x all squared\n",
    "#b1sumxall2 <-(sum(b1))^2\n",
    "#\n",
    "## finally calculate the sample standard deviation\n",
    "#b1sd <- sqrt((b1sumx2-b1sumxall2/n)/(n-1))\n",
    "\n"
   ]
  },
  {
   "cell_type": "code",
   "execution_count": 8,
   "metadata": {},
   "outputs": [
    {
     "data": {
      "text/plain": [
       "       x         \n",
       " Min.   : 1.100  \n",
       " 1st Qu.: 3.950  \n",
       " Median : 7.400  \n",
       " Mean   : 7.317  \n",
       " 3rd Qu.:11.075  \n",
       " Max.   :12.900  "
      ]
     },
     "metadata": {},
     "output_type": "display_data"
    },
    {
     "data": {
      "text/html": [
       "4.70889229720395"
      ],
      "text/latex": [
       "4.70889229720395"
      ],
      "text/markdown": [
       "4.70889229720395"
      ],
      "text/plain": [
       "[1] 4.708892"
      ]
     },
     "metadata": {},
     "output_type": "display_data"
    },
    {
     "name": "stdout",
     "output_type": "stream",
     "text": [
      "Sum squares 432.07"
     ]
    }
   ],
   "source": [
    "#Question 1A\n",
    "# Or alternatively Store value in a dataframe and find summary\n",
    "df <- data.frame(x=c(1.1,3.4,5.6,9.2,11.7,12.9))\n",
    "summary(df)\n",
    "sd(df$x) #standard deviation\n",
    "\n",
    "ss = sum(df$x ** 2)  #sum Squares\n",
    "cat('Sum squares', ss)"
   ]
  },
  {
   "cell_type": "code",
   "execution_count": 9,
   "metadata": {},
   "outputs": [
    {
     "data": {
      "text/plain": [
       "       y        \n",
       " Min.   :10.00  \n",
       " 1st Qu.:18.00  \n",
       " Median :28.00  \n",
       " Mean   :31.44  \n",
       " 3rd Qu.:41.00  \n",
       " Max.   :61.00  "
      ]
     },
     "metadata": {},
     "output_type": "display_data"
    },
    {
     "data": {
      "text/html": [
       "17.9590583767017"
      ],
      "text/latex": [
       "17.9590583767017"
      ],
      "text/markdown": [
       "17.9590583767017"
      ],
      "text/plain": [
       "[1] 17.95906"
      ]
     },
     "metadata": {},
     "output_type": "display_data"
    },
    {
     "name": "stdout",
     "output_type": "stream",
     "text": [
      "Sum squares 11479"
     ]
    }
   ],
   "source": [
    "# Question 1B\n",
    "# Or alternatively Store value in a dataframe and find summary\n",
    "df2 <- data.frame(y=c(10,15,18,22,28,32,41,56,61))\n",
    "summary(df2)\n",
    "sd(df2[['y']])\n",
    "\n",
    "ss = sum(df2$y ** 2)\n",
    "cat('Sum squares', ss)"
   ]
  },
  {
   "cell_type": "markdown",
   "metadata": {},
   "source": [
    "<body>\n",
    "    <ol start=\"2\">\n",
    "        <li><p>The mileages recorded for a sample of company vehicles during a given week yielded the following data:</p>\n",
    "            <p>164 150 132 144 125 149 157</p>\n",
    "            <p>146 158 140 147 136 148 152 144</p>\n",
    "            <p>168 126 138 176 163 119 154 165</p>\n",
    "            <p>146 173 142 147 135 153 140 135</p>\n",
    "            <p>161 145 135 142 150 156 145 128</p>\n",
    "            <p>For the mileage data :</p>\n",
    "            <p>(i) Construct a stem and leaf plot. Comment on the shape.</p>\n",
    "            <p>(ii) Determine the mean and median. What do these descriptive statistics tell you about the distribution of the data?</p>\n",
    "            <p>(iii) Determine the range, quartile deviation and standard deviation from these figures.</p>\n",
    "            <p>(iv) Data now become available on the remaining ten cars owned by the company and is shown below.</p>\n",
    "                <ul style=\"list-style-type:none;\">\n",
    "                  <li><p>Add this data to the bottom of the column with the original data:</p>\n",
    "                      <p>234 204 267 198 179 210 260 290 198 199</p>\n",
    "                      <br>\n",
    "                      <ol>\n",
    "                          <li><p>Recalculate the mean, median, range, quartile deviation and standard deviation for the full data set</p></li>\n",
    "                        <li><p>Comment on how the distribution of the data has now changed.</p></li>\n",
    "                     </ol>\n",
    "                  </li>\n",
    "            </ul>\n",
    "        </li>\n",
    "    </ol>\n",
    "</body>"
   ]
  },
  {
   "cell_type": "code",
   "execution_count": 10,
   "metadata": {},
   "outputs": [
    {
     "name": "stdout",
     "output_type": "stream",
     "text": [
      "1 | 2: represents 12\n",
      " leaf unit: 1\n",
      "            n: 39\n",
      "    1    11 | 9\n",
      "    4    12 | 568\n",
      "   10    13 | 255568\n",
      "  (14)   14 | 00224455667789\n",
      "   15    15 | 00234678\n",
      "    7    16 | 14588\n",
      "    2    17 | 36\n"
     ]
    }
   ],
   "source": [
    "# (2a)\n",
    "library (\"aplpack\")\n",
    "list_a <- c(164,150,132,144,125,149,157,\n",
    "              146,158,140,147,136,148,152,144,\n",
    "              168,126,138,176,168,119,154,165,\n",
    "              146,173,142,147,135,153,140,135,\n",
    "              161,145,135,142,150,156,145,128)\n",
    "stem.leaf(list_a,unit=1,style=\"bare\",m=1)\n",
    "\n",
    "#The shape tells us our data is normally distributed/ Symetrical\n"
   ]
  },
  {
   "cell_type": "code",
   "execution_count": 11,
   "metadata": {},
   "outputs": [
    {
     "name": "stdout",
     "output_type": "stream",
     "text": [
      "1 | 2: represents 12\n",
      " leaf unit: 1\n",
      "            n: 39\n",
      "   1    11 | 9\n",
      "        12 | \n",
      "   4    12 | 568\n",
      "   5    13 | 2\n",
      "  10    13 | 55568\n",
      "  16    14 | 002244\n",
      "  (8)   14 | 55667789\n",
      "  15    15 | 00234\n",
      "  10    15 | 678\n",
      "   7    16 | 14\n",
      "   5    16 | 588\n",
      "   2    17 | 3\n",
      "   1    17 | 6\n"
     ]
    }
   ],
   "source": [
    "library (\"aplpack\")\n",
    "list_a <- c(164,150,132,144,125,149,157,\n",
    "              146,158,140,147,136,148,152,144,\n",
    "              168,126,138,176,168,119,154,165,\n",
    "              146,173,142,147,135,153,140,135,\n",
    "              161,145,135,142,150,156,145,128)\n",
    "stem.leaf(list_a,unit=1,style=\"bare\",m=2)\n",
    "\n",
    "###the difference btw m=1 & m=2 is in when m=2 it limits the results for each width such as 0-4 and 5-9"
   ]
  },
  {
   "cell_type": "code",
   "execution_count": 12,
   "metadata": {},
   "outputs": [
    {
     "data": {
      "text/html": [
       "'The mean is: 147.153846153846'"
      ],
      "text/latex": [
       "'The mean is: 147.153846153846'"
      ],
      "text/markdown": [
       "'The mean is: 147.153846153846'"
      ],
      "text/plain": [
       "[1] \"The mean is: 147.153846153846\""
      ]
     },
     "metadata": {},
     "output_type": "display_data"
    },
    {
     "data": {
      "text/html": [
       "'the median is: 168'"
      ],
      "text/latex": [
       "'the median is: 168'"
      ],
      "text/markdown": [
       "'the median is: 168'"
      ],
      "text/plain": [
       "[1] \"the median is: 168\""
      ]
     },
     "metadata": {},
     "output_type": "display_data"
    },
    {
     "name": "stderr",
     "output_type": "stream",
     "text": [
      "Registered S3 method overwritten by 'DescTools':\n",
      "  method       from   \n",
      "  plot.bagplot aplpack\n",
      "\n",
      "\n",
      "Attaching package: 'DescTools'\n",
      "\n",
      "\n",
      "The following object is masked from 'package:aplpack':\n",
      "\n",
      "    plot.bagplot\n",
      "\n",
      "\n"
     ]
    },
    {
     "data": {
      "text/html": [
       "'The mode is: 135'"
      ],
      "text/latex": [
       "'The mode is: 135'"
      ],
      "text/markdown": [
       "'The mode is: 135'"
      ],
      "text/plain": [
       "[1] \"The mode is: 135\""
      ]
     },
     "metadata": {},
     "output_type": "display_data"
    },
    {
     "data": {
      "text/plain": [
       "   Min. 1st Qu.  Median    Mean 3rd Qu.    Max. \n",
       "  119.0   139.0   146.0   147.2   155.0   176.0 "
      ]
     },
     "metadata": {},
     "output_type": "display_data"
    }
   ],
   "source": [
    "# (2B) The Mean and Median\n",
    "l_mean <- sum(list_a) / length(list_a)\n",
    "paste('The mean is:', l_mean)\n",
    "\n",
    "median <- list_a[((length(list_a)+1)/2)]\n",
    "paste('the median is:',median)\n",
    "\n",
    "library(\"DescTools\") #library to use Mode() function\n",
    "mode <- Mode(list_a)\n",
    "paste('The mode is:',mode)\n",
    "\n",
    "#or alternatively:\n",
    "summary(list_a)\n",
    "\n",
    "#Summary: these descriptive stats tells us that the data is not symmetric as the mean median and mode are not equal"
   ]
  },
  {
   "cell_type": "code",
   "execution_count": 13,
   "metadata": {},
   "outputs": [
    {
     "data": {
      "text/html": [
       "'range is : 57'"
      ],
      "text/latex": [
       "'range is : 57'"
      ],
      "text/markdown": [
       "'range is : 57'"
      ],
      "text/plain": [
       "[1] \"range is : 57\""
      ]
     },
     "metadata": {},
     "output_type": "display_data"
    },
    {
     "data": {
      "text/html": [
       "'Quartile Deviation is: 8'"
      ],
      "text/latex": [
       "'Quartile Deviation is: 8'"
      ],
      "text/markdown": [
       "'Quartile Deviation is: 8'"
      ],
      "text/plain": [
       "[1] \"Quartile Deviation is: 8\""
      ]
     },
     "metadata": {},
     "output_type": "display_data"
    },
    {
     "data": {
      "text/html": [
       "'Standard Deviation is: 13.3249636348639'"
      ],
      "text/latex": [
       "'Standard Deviation is: 13.3249636348639'"
      ],
      "text/markdown": [
       "'Standard Deviation is: 13.3249636348639'"
      ],
      "text/plain": [
       "[1] \"Standard Deviation is: 13.3249636348639\""
      ]
     },
     "metadata": {},
     "output_type": "display_data"
    }
   ],
   "source": [
    "# (2C) the range is the difference between the maximum and minimum values\n",
    "range <- max(list_a) - min(list_a)\n",
    "paste('range is :', range)\n",
    "\n",
    "# Formulae for Quartile dviation\n",
    "qdev = (155.0 - 139.0)/2    \n",
    "paste('Quartile Deviation is:',qdev)\n",
    "\n",
    "paste('Standard Deviation is:',sd(list_a))"
   ]
  },
  {
   "cell_type": "code",
   "execution_count": 14,
   "metadata": {},
   "outputs": [
    {
     "data": {
      "text/html": [
       "49"
      ],
      "text/latex": [
       "49"
      ],
      "text/markdown": [
       "49"
      ],
      "text/plain": [
       "[1] 49"
      ]
     },
     "metadata": {},
     "output_type": "display_data"
    }
   ],
   "source": [
    "# 2d add new data 234 204 267 198 179 210 260 290 198 199\n",
    "newd <- c(234,204,267,198,179,210,260,290,198,199)\n",
    "list_b = append(list_a, newd)\n",
    "#list_a\n",
    "length(list_b)\n"
   ]
  },
  {
   "cell_type": "code",
   "execution_count": 15,
   "metadata": {},
   "outputs": [
    {
     "name": "stdout",
     "output_type": "stream",
     "text": [
      "1 | 2: represents 12\n",
      " leaf unit: 1\n",
      "            n: 49\n",
      "   1    11 | 9\n",
      "   4    12 | 568\n",
      "  10    13 | 255568\n",
      "  24    14 | 00224455667789\n",
      "  (8)   15 | 00234678\n",
      "  17    16 | 14588\n",
      "  12    17 | 369\n",
      "        18 | \n",
      "   9    19 | 889\n",
      "   6    20 | 4\n",
      "   5    21 | 0\n",
      "HI: 234 260 267 290\n"
     ]
    }
   ],
   "source": [
    "stem.leaf(list_b,unit=1,style=\"bare\",m=1)"
   ]
  },
  {
   "cell_type": "code",
   "execution_count": 16,
   "metadata": {},
   "outputs": [
    {
     "data": {
      "text/plain": [
       "   Min. 1st Qu.  Median    Mean 3rd Qu.    Max. \n",
       "  119.0   139.0   146.0   147.2   155.0   176.0 "
      ]
     },
     "metadata": {},
     "output_type": "display_data"
    },
    {
     "data": {
      "text/html": [
       "'Quartile Deviation is: 13'"
      ],
      "text/latex": [
       "'Quartile Deviation is: 13'"
      ],
      "text/markdown": [
       "'Quartile Deviation is: 13'"
      ],
      "text/plain": [
       "[1] \"Quartile Deviation is: 13\""
      ]
     },
     "metadata": {},
     "output_type": "display_data"
    },
    {
     "data": {
      "text/html": [
       "'Standard Deviation is: 37.0318969883778'"
      ],
      "text/latex": [
       "'Standard Deviation is: 37.0318969883778'"
      ],
      "text/markdown": [
       "'Standard Deviation is: 37.0318969883778'"
      ],
      "text/plain": [
       "[1] \"Standard Deviation is: 37.0318969883778\""
      ]
     },
     "metadata": {},
     "output_type": "display_data"
    }
   ],
   "source": [
    "#recalulating the stats again for the new data\n",
    "summary(list_a)\n",
    "\n",
    "\n",
    "# Formulae for Quartile dviation\n",
    "qdev = (168-142)/2    \n",
    "paste('Quartile Deviation is:',qdev)\n",
    "\n",
    "paste('Standard Deviation is:',sd(list_b))\n",
    "\n",
    "# Observation: The stanndard deviation in data has increased,\n",
    "# thus meaning there is less chances of data being 3SD above the mean"
   ]
  },
  {
   "cell_type": "markdown",
   "metadata": {},
   "source": [
    "<body>\n",
    "    <ol start=\"3\">\n",
    "        <li><p>The rainfall was measured on nine days and the results (in mm) were:</p>\n",
    "            <p>12.2 10.9 11.4 11.3 12.0 11.1 10.7 11.6 </p>\n",
    "            <p>Does it ‘look’ as if the mean rainfall is different from 12.1 mm (the average measured over the same period last year)?</p>\n",
    "        </li>\n",
    "    </ol>\n",
    "</body>"
   ]
  },
  {
   "cell_type": "code",
   "execution_count": 17,
   "metadata": {},
   "outputs": [
    {
     "data": {
      "text/html": [
       "'The mean Rainfall is: 11.4'"
      ],
      "text/latex": [
       "'The mean Rainfall is: 11.4'"
      ],
      "text/markdown": [
       "'The mean Rainfall is: 11.4'"
      ],
      "text/plain": [
       "[1] \"The mean Rainfall is: 11.4\""
      ]
     },
     "metadata": {},
     "output_type": "display_data"
    },
    {
     "data": {
      "text/html": [
       "0.518238775634773"
      ],
      "text/latex": [
       "0.518238775634773"
      ],
      "text/markdown": [
       "0.518238775634773"
      ],
      "text/plain": [
       "[1] 0.5182388"
      ]
     },
     "metadata": {},
     "output_type": "display_data"
    }
   ],
   "source": [
    "rainfall = c(12.2, 10.9, 11.4, 11.3, 12.0, 11.1, 10.7, 11.6)\n",
    "mean_rf = sum(rainfall)/ length(rainfall)\n",
    "paste('The mean Rainfall is:',mean_rf)\n",
    "\n",
    "sd(rainfall)\n",
    "#conclusion Yes the mean rainfall is different"
   ]
  },
  {
   "cell_type": "markdown",
   "metadata": {},
   "source": [
    "<body>\n",
    "    <ol start=\"4\">\n",
    "        <li><p>Drug levels (in ng/ml) in blood samples from two groups of subjects gave values of:</p>\n",
    "            <p>Group 1 : 3.3 3.7 3.5 4.1 3.4 3.5 4.0 3.8 3.2 3.7</p>\n",
    "            <p>Group 2 : 3.2 3.6 3.1 3.4 3.0 3.4 2.8 3.1 3.3 3.6</p>\n",
    "            <p>Perform an exploratory data analysis using descriptive statistics to assess if there is any evidence of a difference in the means of the two groups.</p>\n",
    "            <p>Is the data normally distributed? How might you investigate this?</p>\n",
    "        </li>\n",
    "    </ol>\n",
    "</body>"
   ]
  },
  {
   "cell_type": "code",
   "execution_count": 18,
   "metadata": {},
   "outputs": [
    {
     "data": {
      "text/plain": [
       "       g1              g2      \n",
       " Min.   :3.200   Min.   :2.80  \n",
       " 1st Qu.:3.425   1st Qu.:3.10  \n",
       " Median :3.600   Median :3.25  \n",
       " Mean   :3.620   Mean   :3.25  \n",
       " 3rd Qu.:3.775   3rd Qu.:3.40  \n",
       " Max.   :4.100   Max.   :3.60  "
      ]
     },
     "metadata": {},
     "output_type": "display_data"
    },
    {
     "name": "stdout",
     "output_type": "stream",
     "text": [
      "_____________________________________\n",
      "  1 | 2: represents 1.2, leaf unit: 0.1 \n",
      "          df3$g1     df3$g2      \n",
      "_____________________________________\n",
      "                | 2 |8           1   \n",
      "  (8)   87755432| 3 |011234466  (9)  \n",
      "   2          10| 4 |                \n",
      "                | 5 |                \n",
      "_____________________________________\n",
      "n:            10     10          \n",
      "_____________________________________\n"
     ]
    },
    {
     "data": {
      "text/html": [
       "'sd g1: 0.293636207273936'"
      ],
      "text/latex": [
       "'sd g1: 0.293636207273936'"
      ],
      "text/markdown": [
       "'sd g1: 0.293636207273936'"
      ],
      "text/plain": [
       "[1] \"sd g1: 0.293636207273936\""
      ]
     },
     "metadata": {},
     "output_type": "display_data"
    },
    {
     "data": {
      "text/html": [
       "'sd g2: 0.259272486435067'"
      ],
      "text/latex": [
       "'sd g2: 0.259272486435067'"
      ],
      "text/markdown": [
       "'sd g2: 0.259272486435067'"
      ],
      "text/plain": [
       "[1] \"sd g2: 0.259272486435067\""
      ]
     },
     "metadata": {},
     "output_type": "display_data"
    },
    {
     "data": {
      "image/png": "[encoded data removed]",
      "text/plain": [
       "Plot with title \"Normal Q-Q Plot\""
      ]
     },
     "metadata": {
      "image/png": {
       "height": 420,
       "width": 420
      }
     },
     "output_type": "display_data"
    }
   ],
   "source": [
    "#plot a histogram comparing/joining both data\n",
    "df3 <- data.frame( g1= c(3.3, 3.7, 3.5, 4.1, 3.4, 3.5, 4.0, 3.8, 3.2, 3.7),\n",
    "                 g2= c(3.2, 3.6, 3.1, 3.4, 3.0, 3.4, 2.8, 3.1, 3.3, 3.6)\n",
    "                 )\n",
    "summary(df3)\n",
    "\n",
    "# Stem Leaf Back to back\n",
    "stem.leaf.backback(df3$g1,df3$g2,unit=0.1,style=\"bare\",m=1)\n",
    "attach(df3)\n",
    "\n",
    "paste(\"sd g1:\", sd(g1))\n",
    "paste(\"sd g2:\", sd(g2))\n",
    "\n",
    "# try plotting the group 1 data against theoretical norm. What do you think this tells you?\n",
    "qqnorm(g1)\n",
    "# plot a dashed line on the plot showing where the values should lie if our data follows\n",
    "    # the normal distribution with mean and standard deviation as the g1 data\n",
    "qqline(g1,lty=2)\n",
    "\n",
    "#conclusion our data follows a normal distribution  with mean 0 and SD 0.2\n",
    "\n",
    "detach(df3)"
   ]
  },
  {
   "cell_type": "markdown",
   "metadata": {},
   "source": [
    "<body>\n",
    "    <ol start=\"5\">\n",
    "        <li><p>In an experiment to detect any relationship between the heights of fathers and their eldest sons, eight pairs of fathers and sons were selected at random from the city population and their exact heights recorded, in inches, as follows:</p>\n",
    "            <p>Height of father : 63.2 74.1 70.6 72.3 65.8 67.3 68.9 66.7</p>\n",
    "            <p>Height of son : 65.7 67.0 69.5 70.5 64.4 68.3 71.4 63.5</p>\n",
    "            <p>Perform an exploratory data analysis using descriptive statistics to assess if there is any suggestion that the heights of fathers and sons may be different?</p>\n",
    "        </li>\n",
    "    </ol>\n",
    "</body>"
   ]
  },
  {
   "cell_type": "code",
   "execution_count": 2,
   "metadata": {},
   "outputs": [
    {
     "data": {
      "text/plain": [
       "   Min. 1st Qu.  Median    Mean 3rd Qu.    Max. \n",
       " -2.500  -1.375   1.250   1.075   2.150   7.100 "
      ]
     },
     "metadata": {},
     "output_type": "display_data"
    },
    {
     "data": {
      "text/html": [
       "3.1918422803856"
      ],
      "text/latex": [
       "3.1918422803856"
      ],
      "text/markdown": [
       "3.1918422803856"
      ],
      "text/plain": [
       "[1] 3.191842"
      ]
     },
     "metadata": {},
     "output_type": "display_data"
    }
   ],
   "source": [
    "df4 <- data.frame(dad=c(63.2,74.1,70.6,72.3,65.8,67.3,68.9,66.7),\n",
    "                      son=c(65.7,67.0,69.5,70.5,64.4,68.3,71.4,63.5))\n",
    "\n",
    "attach(df4)\n",
    "diff <- dad-son   #exploratory stat on difference\n",
    "n <- length(diff)\n",
    "summary(diff)\n",
    "sd(diff)\n",
    "\n"
   ]
  },
  {
   "cell_type": "code",
   "execution_count": 10,
   "metadata": {},
   "outputs": [
    {
     "data": {
      "image/png": "[encoded data removed]",
      "text/plain": [
       "Plot with title \"Histogram of diff\""
      ]
     },
     "metadata": {
      "image/png": {
       "height": 420,
       "width": 420
      }
     },
     "output_type": "display_data"
    }
   ],
   "source": [
    "#plot a height of f vs son\n",
    "library('tidyverse')\n",
    "hist(diff)\n"
   ]
  },
  {
   "cell_type": "markdown",
   "metadata": {},
   "source": [
    "<body>\n",
    "    <ol start=\"6\">\n",
    "        <li><p>Extra R Programming/Investigation Exercise (should you wish). For plotting the frequency histogram in Chapter 3 we have used the hist() function that comes with the graphics package in a base installation of R. However this is not the only option that you could use. Often when programming in R you will find yourself googling to see what someone else has done. See how far you can get investigating other options by searching the R documentation and copious hints and tips on the web. You may find that we have already loaded a library containing functions that produce worthwhile results. The function ggplot() gives some very nice plots. See if you can find a violin plot.</p>\n",
    "        </li>\n",
    "    </ol>\n",
    "</body>"
   ]
  },
  {
   "cell_type": "code",
   "execution_count": 21,
   "metadata": {},
   "outputs": [
    {
     "name": "stderr",
     "output_type": "stream",
     "text": [
      "Registered S3 methods overwritten by 'tibble':\n",
      "  method     from  \n",
      "  format.tbl pillar\n",
      "  print.tbl  pillar\n",
      "\n",
      "Registered S3 methods overwritten by 'ggplot2':\n",
      "  method         from \n",
      "  [.quosures     rlang\n",
      "  c.quosures     rlang\n",
      "  print.quosures rlang\n",
      "\n",
      "Registered S3 method overwritten by 'rvest':\n",
      "  method            from\n",
      "  read_xml.response xml2\n",
      "\n",
      "-- \u001b[1mAttaching packages\u001b[22m ------------------------------------------------------------------------------- tidyverse 1.2.1 --\n",
      "\n",
      "\u001b[32mv\u001b[39m \u001b[34mggplot2\u001b[39m 3.1.1       \u001b[32mv\u001b[39m \u001b[34mpurrr  \u001b[39m 0.3.4  \n",
      "\u001b[32mv\u001b[39m \u001b[34mtibble \u001b[39m 2.1.1       \u001b[32mv\u001b[39m \u001b[34mdplyr  \u001b[39m 0.8.0.\u001b[31m1\u001b[39m\n",
      "\u001b[32mv\u001b[39m \u001b[34mtidyr  \u001b[39m 0.8.3       \u001b[32mv\u001b[39m \u001b[34mstringr\u001b[39m 1.4.0  \n",
      "\u001b[32mv\u001b[39m \u001b[34mreadr  \u001b[39m 1.3.1       \u001b[32mv\u001b[39m \u001b[34mforcats\u001b[39m 0.5.1  \n",
      "\n",
      "-- \u001b[1mConflicts\u001b[22m ---------------------------------------------------------------------------------- tidyverse_conflicts() --\n",
      "\u001b[31mx\u001b[39m \u001b[34mdplyr\u001b[39m::\u001b[32mfilter()\u001b[39m masks \u001b[34mstats\u001b[39m::filter()\n",
      "\u001b[31mx\u001b[39m \u001b[34mdplyr\u001b[39m::\u001b[32mlag()\u001b[39m    masks \u001b[34mstats\u001b[39m::lag()\n",
      "\n"
     ]
    },
    {
     "data": {
      "image/png": "[encoded data removed]",
      "text/plain": [
       "plot without title"
      ]
     },
     "metadata": {
      "image/png": {
       "height": 420,
       "width": 420
      }
     },
     "output_type": "display_data"
    },
    {
     "data": {
      "image/png": "[encoded data removed]",
      "text/plain": [
       "plot without title"
      ]
     },
     "metadata": {
      "image/png": {
       "height": 420,
       "width": 420
      }
     },
     "output_type": "display_data"
    }
   ],
   "source": [
    "library('tidyverse')\n",
    "\n",
    "data <-data.frame(mileage=c(138,164,150,132,144,125,149,157,\n",
    "                            146,158,140,147,136,148,152,144,\n",
    "                            168,126,138,176,163,119,154,165,\n",
    "                            146,173,142,147,135,153,140,135,\n",
    "                            161,145,135,142,150,156,145,128))\n",
    "\n",
    "ggplot(data, aes(mileage)) + geom_histogram(binwidth=10)\n",
    "\n",
    "ggplot(data, aes(mileage)) + geom_freqpoly(binwidth=10)"
   ]
  },
  {
   "cell_type": "code",
   "execution_count": null,
   "metadata": {},
   "outputs": [],
   "source": []
  }
 ],
 "metadata": {
  "kernelspec": {
   "display_name": "R",
   "language": "R",
   "name": "ir"
  },
  "language_info": {
   "codemirror_mode": "r",
   "file_extension": ".r",
   "mimetype": "text/x-r-source",
   "name": "R",
   "pygments_lexer": "r",
   "version": "3.6.3"
  }
 },
 "nbformat": 4,
 "nbformat_minor": 4
}
