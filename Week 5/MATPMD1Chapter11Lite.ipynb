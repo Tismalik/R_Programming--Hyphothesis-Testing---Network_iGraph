{
 "cells": [
  {
   "cell_type": "markdown",
   "metadata": {
    "slideshow": {
     "slide_type": "slide"
    }
   },
   "source": [
    "<html>\n",
    "<head>\n",
    "    <h2>University of Stirling</h2>\n",
    "    <h2>Computing Science and Mathematics</h2>\n",
    "    <h2>MATPMD1 Statistics for Data Science</h2>\n",
    "    <h1>Chapter 11 Design of Experiments\n",
    "    </h1>\n",
    "</head>"
   ]
  },
  {
   "cell_type": "markdown",
   "metadata": {
    "slideshow": {
     "slide_type": "slide"
    }
   },
   "source": [
    "<body>\n",
    "    <p>In this chapter we are going to have a general introduction to the relationship between the design of experiments and method of their analysis, applying the knowledge of statistical analysis that we have gained in previous chapters.\n",
    "    </p>\n",
    "</body>"
   ]
  },
  {
   "cell_type": "markdown",
   "metadata": {
    "slideshow": {
     "slide_type": "slide"
    }
   },
   "source": [
    "<body>\n",
    "    <p>In the planning of experiments the method of analysis and design are inextricably linked. We will consider the following elements:\n",
    "    </p>\n",
    "    <ul class=\"nobull\">\n",
    "        <li>Randomisation: Complete; Stratified; Block\n",
    "        </li>\n",
    "        <li>Design: Type and number of factors; layout\n",
    "        </li>\n",
    "        <li>Power of Study: Number of experimental units; Replication\n",
    "        </li>\n",
    "    </ul>\n",
    "</body>"
   ]
  },
  {
   "cell_type": "markdown",
   "metadata": {
    "slideshow": {
     "slide_type": "slide"
    }
   },
   "source": [
    "<body>\n",
    "    <h2>11.1 Experiment Designs\n",
    "    </h2>    \n",
    "    <p>These 'technical questions' are all related to:\n",
    "    </p>\n",
    "    <ol>\n",
    "        <li>The question/questions being asked.\n",
    "        </li>\n",
    "        <li>The type of data\n",
    "        </li>\n",
    "        <li>The 'factors' affecting 'the responses'\n",
    "        </li>\n",
    "        <li>The time period of study\n",
    "        </li>\n",
    "        <li>The cost\n",
    "        </li>\n",
    "    </ol>\n",
    "</body>"
   ]
  },
  {
   "cell_type": "markdown",
   "metadata": {
    "slideshow": {
     "slide_type": "slide"
    }
   },
   "source": [
    "<body>\n",
    "    <p>The designs we are going to consider are:\n",
    "    </p>\n",
    "    <ol>\n",
    "        <li>Completely Randomised\n",
    "        </li>\n",
    "        <li>Randomised Block\n",
    "        </li>\n",
    "        <li>Factorial Designs\n",
    "        </li>\n",
    "        <li>Latin Square\n",
    "        </li>\n",
    "        <li>More than one response/unit\n",
    "        </li>\n",
    "    </ol>\n",
    "</body>"
   ]
  },
  {
   "cell_type": "markdown",
   "metadata": {
    "slideshow": {
     "slide_type": "slide"
    }
   },
   "source": [
    "<body>\n",
    "    <h3>11.1.1 Completely Randomised\n",
    "    </h3>    \n",
    "    <p>A completely randomised experiment compares $p$ treatment means where independent samples are drawn from each of the $p$ populations.\n",
    "    </p>\n",
    "    <p>For example, the comparison of sulphur treatments for potato scab:\n",
    "    </p>\n",
    "    <p> There are 7 treatments: Control (O), Autumn3 (A3), Autumn6 (A6), Autumn12 (A12), Spring3 (S3), Spring6 (S6), Spring12 (S12).\n",
    "    </p>\n",
    "</body>"
   ]
  },
  {
   "cell_type": "markdown",
   "metadata": {
    "slideshow": {
     "slide_type": "slide"
    }
   },
   "source": [
    "<body>\n",
    "    <p>Fields/Plots of potatoes are randomly assigned treatments:\n",
    "    </p>\n",
    "    <table>\n",
    "        <tbody>\n",
    "          <tr>\n",
    "              <td>A3</td>\n",
    "              <td>O</td>\n",
    "              <td>S6</td>\n",
    "              <td>A12</td>\n",
    "              <td>S6</td>\n",
    "              <td>S12</td>\n",
    "              <td>S3</td>\n",
    "              <td>S6</td>\n",
    "          </tr>\n",
    "          <tr>\n",
    "              <td>O</td>\n",
    "              <td>S3</td>\n",
    "              <td>A12</td>\n",
    "              <td>A6</td>\n",
    "              <td>S3</td>\n",
    "              <td>O</td>\n",
    "              <td>O</td>\n",
    "              <td>S6</td>\n",
    "          </tr>\n",
    "          <tr>\n",
    "              <td>A3</td>\n",
    "              <td>S12</td>\n",
    "              <td>A6</td>\n",
    "              <td>O</td>\n",
    "              <td>A6</td>\n",
    "              <td>S12</td>\n",
    "              <td>A3</td>\n",
    "              <td>A12</td>\n",
    "          </tr>\n",
    "          <tr>\n",
    "              <td>S3</td>\n",
    "              <td>O</td>\n",
    "              <td>S12</td>\n",
    "              <td>S6</td>\n",
    "              <td>O</td>\n",
    "              <td>A12</td>\n",
    "              <td>O</td>\n",
    "              <td>S3</td>\n",
    "          </tr>\n",
    "        </tbody>\n",
    "    </table>\n",
    "</body>"
   ]
  },
  {
   "cell_type": "markdown",
   "metadata": {
    "slideshow": {
     "slide_type": "slide"
    }
   },
   "source": [
    "<body>\n",
    "    <p>Points to note about this design are:\n",
    "    </p>\n",
    "    <ol>\n",
    "        <li>'Random Allocation' of treatments plots (experimental units)\n",
    "        </li>\n",
    "        <li>Unequal replication is possible (each treatment need not be applied an equal number of times)\n",
    "        </li>\n",
    "        <li>Implicitly assuption that each plot is the same\n",
    "        </li>\n",
    "        <li>One factor - Treatment with 7 levels\n",
    "        </li>\n",
    "    </ol>\n",
    "</body>"
   ]
  },
  {
   "cell_type": "markdown",
   "metadata": {
    "slideshow": {
     "slide_type": "slide"
    }
   },
   "source": [
    "<body>\n",
    "    <p>The method of analysis for this type of experiment is <strong>One Way Analysis of Variance</strong>.\n",
    "    <ul>\n",
    "        <li>One Factor\n",
    "        </li>\n",
    "        <li>Model<br><br>\n",
    "            $$y_{ij} = \\mu + a_i + \\epsilon_{ij} \\\\\n",
    "              \\quad i = 1,2,3,4,5,6,I \\\\\n",
    "              \\quad j = 1,.....n_i$$\n",
    "        </li>\n",
    "        <li>Assumptions:<br>\n",
    "            Normality, Independence, Constant Variance\n",
    "        </li>\n",
    "    </ul>\n",
    "</body>"
   ]
  },
  {
   "cell_type": "markdown",
   "metadata": {
    "slideshow": {
     "slide_type": "slide"
    }
   },
   "source": [
    "<body>\n",
    "    <h3>11.1.2 Randomised Block\n",
    "    </h3>    \n",
    "    <p>In this design we compare $p$ treatments using $b$ blocks each containing $p$ experimental units. The $p$ treatments are randomly assigned to each unit within the block.\n",
    "    </p>\n",
    "    <p>For example, the comparison of sulphur treatments for potato scab:\n",
    "    </p>\n",
    "    <p> There are 7 treatments: Control (O), Autumn3 (A3), Autumn6 (A6), Autumn12 (A12), Spring3 (S3), Spring6 (S6), Spring12 (S12).\n",
    "    </p>\n",
    "</body>"
   ]
  },
  {
   "cell_type": "markdown",
   "metadata": {
    "slideshow": {
     "slide_type": "slide"
    }
   },
   "source": [
    "<body>\n",
    "    <p>In this design Fields/Plots are grouped in blocks:\n",
    "    </p>\n",
    "    <table>\n",
    "        <tbody>\n",
    "          <tr>\n",
    "              <td>Block 1</td>\n",
    "              <td>O</td>\n",
    "              <td>S3</td>\n",
    "              <td>A12</td>\n",
    "              <td>S12</td>\n",
    "              <td>A6</td>\n",
    "              <td>A3</td>\n",
    "              <td>S6</td>\n",
    "          </tr>\n",
    "          <tr>\n",
    "              <td>Block 2</td>\n",
    "              <td>S12</td>\n",
    "              <td>A6</td>\n",
    "              <td>A12</td>\n",
    "              <td>S3</td>\n",
    "              <td>O</td>\n",
    "              <td>S6</td>\n",
    "              <td>A3</td>\n",
    "          </tr>\n",
    "          <tr>\n",
    "              <td>Block 3</td>\n",
    "              <td>A3</td>\n",
    "              <td>S3</td>\n",
    "              <td>O</td>\n",
    "              <td>S6</td>\n",
    "              <td>S12</td>\n",
    "              <td>A12</td>\n",
    "              <td>A6</td>\n",
    "          </tr>\n",
    "          <tr>\n",
    "              <td>Block 4</td>\n",
    "              <td>A12</td>\n",
    "              <td>A6</td>\n",
    "              <td>S3</td>\n",
    "              <td>O</td>\n",
    "              <td>S6</td>\n",
    "              <td>S12</td>\n",
    "              <td>A3</td>\n",
    "          </tr>\n",
    "        </tbody>\n",
    "    </table>\n",
    "</body>"
   ]
  },
  {
   "cell_type": "markdown",
   "metadata": {
    "slideshow": {
     "slide_type": "slide"
    }
   },
   "source": [
    "<body>\n",
    "    <p>Features of this design are:\n",
    "    </p>\n",
    "    <ol>\n",
    "        <li>One occurrence of every 'treatment' per block (Randomised Complete Block)\n",
    "        </li>\n",
    "        <li>Random allocation of treatment within each block\n",
    "        </li>\n",
    "        <li>Interest is in comparing the treatments not in the same blocks\n",
    "        </li>\n",
    "        <li>The block is included because we have reason to believe this factor has an effect on the response. E.g. Different types of soil, irrigation.\n",
    "        </li>\n",
    "        <li>Assuming plots within each block are the same\n",
    "        </li>\n",
    "    </ol>\n",
    "</body>"
   ]
  },
  {
   "cell_type": "markdown",
   "metadata": {
    "slideshow": {
     "slide_type": "slide"
    }
   },
   "source": [
    "<body>\n",
    "    <p>The method of analysis for this type of experiment is <strong>Two Way Analysis of Variance with no interaction</strong>.\n",
    "    <ul>\n",
    "        <li>One Blocking factor, One Treatment Factor (One observation per combination)\n",
    "        </li>\n",
    "        <li>Model<br><br>\n",
    "            $$y_{ij} = \\mu + b_i + a_j + \\epsilon_{ij} \\\\\n",
    "              \\quad i = 1,...,I \\\\\n",
    "              \\quad j = 1,...,J$$\n",
    "        </li>\n",
    "        <li>Assumptions:<br>\n",
    "            Normality, Independence, Constant Variance\n",
    "        </li>\n",
    "    </ul>\n",
    "</body>"
   ]
  },
  {
   "cell_type": "markdown",
   "metadata": {
    "slideshow": {
     "slide_type": "slide"
    }
   },
   "source": [
    "<body>\n",
    "    <h3>11.1.3 Factorial Designs\n",
    "    </h3>    \n",
    "    <p>In this design the method of selecting treatments is to be included in the experiment. A complete factorial design is one in which observations are made for every combination of factor levels.\n",
    "    </p>\n",
    "    <p>For example, the comparison of sulphur treatments for potato scab:\n",
    "    </p>\n",
    "    <p>There are 7 treatments: Control (O), Autumn3 (A3), Autumn6 (A6), Autumn12 (A12), Spring3 (S3), Spring6 (S6), Spring12 (S12).\n",
    "    </p>\n",
    "</body>"
   ]
  },
  {
   "cell_type": "markdown",
   "metadata": {
    "slideshow": {
     "slide_type": "slide"
    }
   },
   "source": [
    "<body>\n",
    "    <p>The question being posed is to compare both the time of application and the amount of treatment.\n",
    "    </p>\n",
    "    <p>Two Factors: \n",
    "        <ul syle=\"font-size:100%;\">\n",
    "            <li>Application (2 levels)\n",
    "            </li>\n",
    "            <li>Amount (4 levels)\n",
    "            </li>\n",
    "        </ul>\n",
    "</body>"
   ]
  },
  {
   "cell_type": "markdown",
   "metadata": {
    "slideshow": {
     "slide_type": "slide"
    }
   },
   "source": [
    "<body>\n",
    "    <p>If responses are measured at every combination this is a 2 X 4 factorial design:\n",
    "    </p>\n",
    "    <table>\n",
    "        <thead>\n",
    "            <tr class=\"header\">\n",
    "                <th></th>\n",
    "                <th style=\"text-align: left; border: 1px solid black\">Application</th>\n",
    "            </tr>\n",
    "            <tr class=\"header\">\n",
    "                <th style=\"text-align: left; border: 1px solid black\">Amount</th>\n",
    "                <th style=\"border: 1px solid black\">Spring &nbsp; &nbsp; Autumn</th>\n",
    "            </tr>\n",
    "        </thead>\n",
    "        <tbody>\n",
    "            <tr>\n",
    "                <td style=\"border: 1px solid black\">0</td>\n",
    "                <td style=\"border: 1px solid black\"></td>\n",
    "            </tr>\n",
    "            <tr>\n",
    "                <td style=\"border: 1px solid black\">3</td>\n",
    "                <td style=\"border: 1px solid black\"></td>\n",
    "            </tr>\n",
    "            <tr>\n",
    "                <td style=\"border: 1px solid black\">6</td>\n",
    "                <td style=\"border: 1px solid black\"></td>\n",
    "            </tr>\n",
    "            <tr>\n",
    "                <td style=\"border: 1px solid black\">12</td>\n",
    "                <td style=\"border: 1px solid black\"></td>\n",
    "            </tr>\n",
    "        </tbody>\n",
    "    </table>\n",
    "</body>"
   ]
  },
  {
   "cell_type": "markdown",
   "metadata": {
    "slideshow": {
     "slide_type": "slide"
    }
   },
   "source": [
    "<body>\n",
    "    <p>The method of analysis to use for this type of design is <strong>Two Way ANOVA with interaction</strong> if there is more than one\n",
    "experimental unit or observation per combination.\n",
    "    </p>\n",
    "    <ul>\n",
    "        <li>Model<br><br>\n",
    "            $$y_{ijk} = \\mu + a_i + b_j + (ab)_{ij} + \\epsilon_{ijk} \\\\\n",
    "              \\quad I \\textrm{ levels of factor one}\\\\\n",
    "              \\quad J \\textrm{ levels of factor two}$$\n",
    "        </li>\n",
    "    </ul>\n",
    "</body>"
   ]
  },
  {
   "cell_type": "markdown",
   "metadata": {
    "slideshow": {
     "slide_type": "slide"
    }
   },
   "source": [
    "<body>\n",
    "    <p>Points to note about factorial designs:\n",
    "    </p>\n",
    "    <ol>\n",
    "        <li>Each factor can have any number of levels\n",
    "        </li>\n",
    "        <li>There is a random allocation of combination to experimental units\n",
    "        </li>\n",
    "        <li>Designs with more than two factors are possible, for example a 3x2x4 Factorial Design\n",
    "        </li>\n",
    "    </ol>\n",
    "</body>"
   ]
  },
  {
   "cell_type": "markdown",
   "metadata": {
    "slideshow": {
     "slide_type": "slide"
    }
   },
   "source": [
    "<body>\n",
    "    <h3>11.1.4 Latin Square\n",
    "    </h3>    \n",
    "    <p>Latin Square designs 'balance' the order of the treatments\n",
    "    </p>\n",
    "    <p>For example, the comparison of sulphur treatments for potato scab:\n",
    "    </p>\n",
    "    <p>There are 7 treatments: Control (O), Autumn3 (A3), Autumn6 (A6), Autumn12 (A12), Spring3 (S3), Spring6 (S6), Spring12 (S12).\n",
    "    </p>\n",
    "</body>"
   ]
  },
  {
   "cell_type": "markdown",
   "metadata": {
    "slideshow": {
     "slide_type": "slide"
    }
   },
   "source": [
    "<body>\n",
    "    <p>In both the completely randomised and the randomised block designs, the treatment order (arrangement) was random. This might not always be suitable. For example variability in soil quality in two different directions.\n",
    "    </p>\n",
    "    <p>Now the design of treatment assignment is:\n",
    "    <table>\n",
    "        <tbody>\n",
    "          <tr>\n",
    "              <td>I</td>\n",
    "              <td>O</td>\n",
    "              <td>A3</td>\n",
    "              <td>A6</td>\n",
    "              <td>A12</td>\n",
    "              <td>S3</td>\n",
    "              <td>S6</td>\n",
    "              <td>S12</td>\n",
    "          </tr>\n",
    "          <tr>\n",
    "              <td>II</td>\n",
    "              <td>A3</td>\n",
    "              <td>A6</td>\n",
    "              <td>A12</td>\n",
    "              <td>S3</td>\n",
    "              <td>S6</td>\n",
    "              <td>S12</td>\n",
    "              <td>O</td>\n",
    "          </tr>\n",
    "          <tr>\n",
    "              <td>III</td>\n",
    "              <td>A6</td>\n",
    "              <td>A12</td>\n",
    "              <td>S3</td>\n",
    "              <td>S6</td>\n",
    "              <td>S12</td>\n",
    "              <td>O</td>\n",
    "              <td>A3</td>\n",
    "          </tr>\n",
    "          <tr>\n",
    "              <td>IV</td>\n",
    "              <td>A12</td>\n",
    "              <td>S3</td>\n",
    "              <td>S6</td>\n",
    "              <td>S12</td>\n",
    "              <td>O</td>\n",
    "              <td>A3</td>\n",
    "              <td>A6</td>\n",
    "          </tr>\n",
    "          <tr>\n",
    "              <td>V</td>\n",
    "              <td>S3</td>\n",
    "              <td>S6</td>\n",
    "              <td>S12</td>\n",
    "              <td>O</td>\n",
    "              <td>A3</td>\n",
    "              <td>A6</td>\n",
    "              <td>A12</td>\n",
    "          </tr>\n",
    "          <tr>\n",
    "              <td>VI</td>\n",
    "              <td>S6</td>\n",
    "              <td>S12</td>\n",
    "              <td>O</td>\n",
    "              <td>A3</td>\n",
    "              <td>A6</td>\n",
    "              <td>A12</td>\n",
    "              <td>S3</td>\n",
    "          </tr>\n",
    "          <tr>\n",
    "              <td>VII</td>\n",
    "              <td>S12</td>\n",
    "              <td>O</td>\n",
    "              <td>A3</td>\n",
    "              <td>A6</td>\n",
    "              <td>A12</td>\n",
    "              <td>S3</td>\n",
    "              <td>S6</td>\n",
    "          </tr>\n",
    "        </tbody>\n",
    "    </table>\n",
    "</body>"
   ]
  },
  {
   "cell_type": "markdown",
   "metadata": {
    "slideshow": {
     "slide_type": "slide"
    }
   },
   "source": [
    "<body>\n",
    "    <p>This is a 7 x 7 Latin Square.\n",
    "    </p>\n",
    "    <p>As the name implies there must be the same number of rows of 'replications' ('Orders') as there are treatments. \n",
    "    </p>\n",
    "    <p>A design may include more than one Latin Square.\n",
    "    </p>\n",
    "</body>"
   ]
  },
  {
   "cell_type": "markdown",
   "metadata": {
    "slideshow": {
     "slide_type": "slide"
    }
   },
   "source": [
    "<body>\n",
    "    <p>The method of analysis is <strong>Three Way Analysis of Variance with no interaction</strong>. \n",
    "    </p>\n",
    "    <ul>\n",
    "        <li>One Row Factor, One Column and One Treatment Factor;<br>\n",
    "            One Observation per Combination.\n",
    "        <li>Model<br>\n",
    "            $I$ = no of rows, $I$ = no of columns, $I$ = no of treatments<br>\n",
    "            $N = I\\times I = $ total number of observations\n",
    "            $$y_{ijk} = \\mu + r_i + c_j + a_{k} + \\epsilon_{ij} \\\\\n",
    "              \\quad i=1,...,I  \\\\\n",
    "              \\quad j=1,...,I  \\\\\n",
    "              \\quad k=1,...,I$$\n",
    "        </li>\n",
    "        <li>Assumptions: Normality, Independence, Constant Variance\n",
    "        </li>\n",
    "    </ul>\n",
    "</body>"
   ]
  },
  {
   "cell_type": "markdown",
   "metadata": {
    "slideshow": {
     "slide_type": "slide"
    }
   },
   "source": [
    "<body>\n",
    "    <p>Points to note about the Latin Squares design:\n",
    "    </p>\n",
    "    <ol>\n",
    "        <li>There are published tables of Latin Squares for different numbers of treatments.\n",
    "        </li>\n",
    "        <li>There are different rules for using more than one square in a study.\n",
    "        </li>\n",
    "    </ol>\n",
    "</body>"
   ]
  },
  {
   "cell_type": "markdown",
   "metadata": {
    "slideshow": {
     "slide_type": "slide"
    }
   },
   "source": [
    "<body>\n",
    "    <h3>11.1.5 Multiple Responses\n",
    "    </h3>    \n",
    "    <p>The designs described so far have been such tha each experimental unit has only one measure response. There may be some cases where each experimental unit has a response measured more than once. For example: \n",
    "    </p>\n",
    "    <ul>\n",
    "        <li>Comparing the milk yield in dairy cattle before and after a change of feed\n",
    "        </li>\n",
    "        <li>Comparing the weight of beef cattle with different feeding regimens\n",
    "        </li>\n",
    "    </ul>\n",
    "    <p>We consider appropriate designs for situations where responses are measured twice, and where responses are measured more than twice.\n",
    "    </p>\n",
    "</body>"
   ]
  },
  {
   "cell_type": "markdown",
   "metadata": {
    "slideshow": {
     "slide_type": "slide"
    }
   },
   "source": [
    "<body>\n",
    "    <h3>11.1.6 Responses Measured Twice - Before and After\n",
    "    </h3>    \n",
    "    <p>This design means measuring the responses before and after the 'test treatment'.\n",
    "    </p>\n",
    "    <p>Analysis is performed using:\n",
    "    </p>\n",
    "    <ul>\n",
    "        <li>Paired t-test\n",
    "        </li>\n",
    "        <li>Wilcoxon Signed Ranks Matched Pairs\n",
    "        </li>\n",
    "    </ul>\n",
    "</body>"
   ]
  },
  {
   "cell_type": "markdown",
   "metadata": {
    "slideshow": {
     "slide_type": "slide"
    }
   },
   "source": [
    "<body>\n",
    "    <h3>11.1.7 Responses Measured Twice - Two Different Treatments\n",
    "    </h3>    \n",
    "    <p>If the response is measured on each experimental unit on each of two treatments, the order of the treatments is important so that not all should get treatment A followed by treatment B. The order of treatment should be randomised: this is a Crossover Design.\n",
    "    </p>\n",
    "</body>"
   ]
  },
  {
   "cell_type": "markdown",
   "metadata": {
    "slideshow": {
     "slide_type": "slide"
    }
   },
   "source": [
    "<body>\n",
    "    <p>Tests should be performed to check for\n",
    "    </p>\n",
    "    <ol>\n",
    "        <li>Carry Over Effect<br><br>\n",
    "            The first treatment effects the response to the second treatment: (wash out period between treatments needs to be considered).\n",
    "        </li>\n",
    "        <li>Period Effect<br><br>\n",
    "            The response during one period is better than the other independent of treatment.\n",
    "        </li>\n",
    "    </ol>\n",
    "</body>"
   ]
  },
  {
   "cell_type": "markdown",
   "metadata": {
    "slideshow": {
     "slide_type": "slide"
    }
   },
   "source": [
    "<body>\n",
    "    <p>The method of analysis, if neither of these tests shows that there are problems, is the paired t-test.\n",
    "    </p>\n",
    "    <p>If there are problems, then only the first period responses should be used.\n",
    "    </p>\n",
    "</body>"
   ]
  },
  {
   "cell_type": "markdown",
   "metadata": {
    "slideshow": {
     "slide_type": "slide"
    }
   },
   "source": [
    "<body>\n",
    "    <h3>11.1.6 Responses Measured More Than Twice\n",
    "    </h3>    \n",
    "    <p>The method of analysis in this situation is to use Repeated Measures ANOVA. This effectively adds in an extra 'Factor' for the experimental unit (for example person, cow, field).\n",
    "    </p>\n",
    "    <p>In its simplest form:\n",
    "    </p>\n",
    "    <ul class=\"nobull\">\n",
    "        <li>One Factor : Time\n",
    "        </li>\n",
    "        <li>Second Factor : Unit\n",
    "        </li>\n",
    "        <li>One observation per unit per time\n",
    "        </li>\n",
    "        <li>Two Way ANOVA with no interaction\n",
    "    </ul>\n",
    "</body>"
   ]
  },
  {
   "cell_type": "markdown",
   "metadata": {
    "slideshow": {
     "slide_type": "slide"
    }
   },
   "source": [
    "<body>\n",
    "    <h2>11.2 Study considerations\n",
    "    </h2>    \n",
    "    <p>We should be aware of the relationship of the planning/designing of an experiment to the method of analysis.\n",
    "    </p>\n",
    "    <p>This should imply that before beginning any study you think carefully about both the design and analysis of the data you are going to collect in relation to the questions that you are posing.\n",
    "    </p>\n",
    "</body>"
   ]
  },
  {
   "cell_type": "markdown",
   "metadata": {
    "slideshow": {
     "slide_type": "slide"
    }
   },
   "source": [
    "<body>\n",
    "    <p>Prior to initiating a study, or at very least starting the analysis it is important to determine which are the required differences to answer the research questions being posed by the study. These considerations can be:\n",
    "    </p>\n",
    "</body>"
   ]
  },
  {
   "cell_type": "markdown",
   "metadata": {
    "slideshow": {
     "slide_type": "slide"
    }
   },
   "source": [
    "<body>\n",
    "    <table>\n",
    "        <colgroup>\n",
    "            <col style=\"width: 30%; text-align:left;\" />\n",
    "            <col style=\"width: 70%; text-align:left;\" />\n",
    "        </colgroup>\n",
    "    <tbody>\n",
    "        <tr>\n",
    "            <td style=\"text-align:left;\">Grouping Factor</td><td style=\"text-align:left;\">a Factor which classifies the experimental units into groups<br> (between group Factor)</td>\n",
    "        </tr>\n",
    "        <tr>\n",
    "            <td style=\"text-align:left;\">Within Factor</td><td style=\"text-align:left;\">a Factor for which each experimental unit is measured at each level<br> (within Factor or trial Factor)\n",
    "        </tr>\n",
    "        <tr>\n",
    "            <td style=\"text-align:left;\">Crossed Designs</td><td style=\"text-align:left;\">designs where each level of each Factor occurs with each level of the other factors</td>\n",
    "        </tr>\n",
    "        <tr>\n",
    "            <td style=\"text-align:left;\">Nested Designs</td><td style=\"text-align:left;\">designs where each level of one Factor only occurs at one level of another Factor</td>\n",
    "        </tr>\n",
    "        <tr>\n",
    "            <td style=\"text-align:left;\">Partially nested & partially crossed</td><td style=\"text-align:left;\">this is a possibility to consider</td>\n",
    "        </tr>\n",
    "        <tr>\n",
    "            <td style=\"text-align:left;\">Repeated Measures design</td><td style=\"text-align:left;\">each experimental unit is measured at all levels of another Factor</td>\n",
    "        </tr>\n",
    "        <tr>\n",
    "            <td style=\"text-align:left;\">Fixed Effects</td><td style=\"text-align:left;\">measure at specific levels of a Factor</td>\n",
    "        </tr>\n",
    "        <tr>\n",
    "            <td style=\"text-align:left;\">Random Effects</td><td style=\"text-align:left;\">assume that it is a random sample (often of people) from a Normal population. Therefore not interested in comparisons between levels of a random Factor.</td>\n",
    "        </tr>\n",
    "    </tbody>\n",
    "    </table>\n",
    "</body>"
   ]
  }
 ],
 "metadata": {
  "celltoolbar": "Slideshow",
  "kernelspec": {
   "display_name": "R",
   "language": "R",
   "name": "ir"
  },
  "language_info": {
   "codemirror_mode": "r",
   "file_extension": ".r",
   "mimetype": "text/x-r-source",
   "name": "R",
   "pygments_lexer": "r",
   "version": "3.6.3"
  }
 },
 "nbformat": 4,
 "nbformat_minor": 4
}
