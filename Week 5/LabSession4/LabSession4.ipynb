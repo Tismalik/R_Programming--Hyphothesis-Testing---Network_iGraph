{
 "cells": [
  {
   "cell_type": "markdown",
   "id": "6788614e",
   "metadata": {},
   "source": [
    "# Lab session 4: R notebook"
   ]
  },
  {
   "cell_type": "markdown",
   "id": "7944435f",
   "metadata": {},
   "source": [
    "# Question 1"
   ]
  },
  {
   "cell_type": "code",
   "execution_count": 13,
   "id": "86c2ab1f",
   "metadata": {},
   "outputs": [
    {
     "name": "stdout",
     "output_type": "stream",
     "text": [
      "    x  y\n",
      "1  10 25\n",
      "2  12 24\n",
      "3  14 22\n",
      "4  16 20\n",
      "5  18 19\n",
      "6  20 17\n",
      "7  22 13\n",
      "8  24 12\n",
      "9  26 11\n",
      "10 28 10\n"
     ]
    },
    {
     "data": {
      "image/png": "[encoded data removed]",
      "text/plain": [
       "Plot with title \"Scatterplot of Y vs X\""
      ]
     },
     "metadata": {
      "image/png": {
       "height": 420,
       "width": 420
      }
     },
     "output_type": "display_data"
    }
   ],
   "source": [
    "library(tidyverse)\n",
    "df <- data.frame(x = c(10,12,14,16,18,20,22,24,26,28),\n",
    "                y= c(25,24,22,20,19,17,13,12,11,10))\n",
    "\n",
    "with(df, plot(x,y,\n",
    "                main=\"Scatterplot of Y vs X\",\n",
    "                     xlab=\" X values\",\n",
    "                     ylab=\"Y values\"))\n",
    "print(df)"
   ]
  },
  {
   "cell_type": "code",
   "execution_count": 15,
   "id": "ce7e786d",
   "metadata": {},
   "outputs": [
    {
     "data": {
      "text/plain": [
       "       x              y        \n",
       " Min.   :10.0   Min.   :10.00  \n",
       " 1st Qu.:14.5   1st Qu.:12.25  \n",
       " Median :19.0   Median :18.00  \n",
       " Mean   :19.0   Mean   :17.30  \n",
       " 3rd Qu.:23.5   3rd Qu.:21.50  \n",
       " Max.   :28.0   Max.   :25.00  "
      ]
     },
     "metadata": {},
     "output_type": "display_data"
    }
   ],
   "source": [
    "summary(df)"
   ]
  },
  {
   "cell_type": "code",
   "execution_count": 18,
   "id": "9acf6283",
   "metadata": {},
   "outputs": [
    {
     "data": {
      "text/html": [
       "'correlation coeff: -0.990560520939191'"
      ],
      "text/latex": [
       "'correlation coeff: -0.990560520939191'"
      ],
      "text/markdown": [
       "'correlation coeff: -0.990560520939191'"
      ],
      "text/plain": [
       "[1] \"correlation coeff: -0.990560520939191\""
      ]
     },
     "metadata": {},
     "output_type": "display_data"
    },
    {
     "data": {
      "text/html": [
       "<span style=white-space:pre-wrap>'Rsquare vale is:  0.981210145643322'</span>"
      ],
      "text/latex": [
       "'Rsquare vale is:  0.981210145643322'"
      ],
      "text/markdown": [
       "<span style=white-space:pre-wrap>'Rsquare vale is:  0.981210145643322'</span>"
      ],
      "text/plain": [
       "[1] \"Rsquare vale is:  0.981210145643322\""
      ]
     },
     "metadata": {},
     "output_type": "display_data"
    },
    {
     "data": {
      "text/plain": [
       "\n",
       "Call:\n",
       "lm(formula = df$y ~ df$x)\n",
       "\n",
       "Residuals:\n",
       "    Min      1Q  Median      3Q     Max \n",
       "-1.5818 -0.3454  0.1061  0.5439  0.8546 \n",
       "\n",
       "Coefficients:\n",
       "            Estimate Std. Error t value Pr(>|t|)    \n",
       "(Intercept) 34.51515    0.87992   39.23 1.96e-10 ***\n",
       "df$x        -0.90606    0.04433  -20.44 3.43e-08 ***\n",
       "---\n",
       "Signif. codes:  0 '***' 0.001 '**' 0.01 '*' 0.05 '.' 0.1 ' ' 1\n",
       "\n",
       "Residual standard error: 0.8053 on 8 degrees of freedom\n",
       "Multiple R-squared:  0.9812,\tAdjusted R-squared:  0.9789 \n",
       "F-statistic: 417.8 on 1 and 8 DF,  p-value: 3.434e-08\n"
      ]
     },
     "metadata": {},
     "output_type": "display_data"
    }
   ],
   "source": [
    "#b)\n",
    "# Note that method=\"pearson\" to get the correlation coefficient r.\n",
    "# Also, note that the use=\"complete.obs\" option tells r to only look\n",
    "# at complete cases, and ignore any missing values\n",
    "r <- cor(df$x, df$y,method=\"pearson\",use=\"complete.obs\")\n",
    "paste('correlation coeff:',r)\n",
    "\n",
    "Rsqr <- r^2\n",
    "paste('Rsquare vale is: ',Rsqr)\n",
    "\n",
    "# Regression Model\n",
    "lmodel <- lm(df$y~df$x)\n",
    "summary(lmodel)"
   ]
  },
  {
   "cell_type": "markdown",
   "id": "bb285388",
   "metadata": {},
   "source": [
    "### QUestion 2"
   ]
  },
  {
   "cell_type": "code",
   "execution_count": 5,
   "id": "3f1db536",
   "metadata": {},
   "outputs": [
    {
     "data": {
      "text/html": [
       "<style>\n",
       ".list-inline {list-style: none; margin:0; padding: 0}\n",
       ".list-inline>li {display: inline-block}\n",
       ".list-inline>li:not(:last-child)::after {content: \"\\00b7\"; padding: 0 .5ex}\n",
       "</style>\n",
       "<ol class=list-inline><li>'Q1Group'</li><li>'Q1Correct'</li><li>'Q2Strain'</li><li>'Q2Days'</li><li>'Q3Group'</li><li>'Q3BPFall'</li><li>'Q1x'</li><li>'Q1y'</li><li>'Q4Group'</li><li>'Q4Correct'</li><li>'Q2Process'</li><li>'Q2Life'</li></ol>\n"
      ],
      "text/latex": [
       "\\begin{enumerate*}\n",
       "\\item 'Q1Group'\n",
       "\\item 'Q1Correct'\n",
       "\\item 'Q2Strain'\n",
       "\\item 'Q2Days'\n",
       "\\item 'Q3Group'\n",
       "\\item 'Q3BPFall'\n",
       "\\item 'Q1x'\n",
       "\\item 'Q1y'\n",
       "\\item 'Q4Group'\n",
       "\\item 'Q4Correct'\n",
       "\\item 'Q2Process'\n",
       "\\item 'Q2Life'\n",
       "\\end{enumerate*}\n"
      ],
      "text/markdown": [
       "1. 'Q1Group'\n",
       "2. 'Q1Correct'\n",
       "3. 'Q2Strain'\n",
       "4. 'Q2Days'\n",
       "5. 'Q3Group'\n",
       "6. 'Q3BPFall'\n",
       "7. 'Q1x'\n",
       "8. 'Q1y'\n",
       "9. 'Q4Group'\n",
       "10. 'Q4Correct'\n",
       "11. 'Q2Process'\n",
       "12. 'Q2Life'\n",
       "\n",
       "\n"
      ],
      "text/plain": [
       " [1] \"Q1Group\"   \"Q1Correct\" \"Q2Strain\"  \"Q2Days\"    \"Q3Group\"   \"Q3BPFall\" \n",
       " [7] \"Q1x\"       \"Q1y\"       \"Q4Group\"   \"Q4Correct\" \"Q2Process\" \"Q2Life\"   "
      ]
     },
     "metadata": {},
     "output_type": "display_data"
    },
    {
     "name": "stderr",
     "output_type": "stream",
     "text": [
      "The following objects are masked from Lab4data (pos = 3):\n",
      "\n",
      "    Q1x, Q1y\n",
      "\n",
      "\n",
      "The following objects are masked from Lab3data:\n",
      "\n",
      "    Q1x, Q1y\n",
      "\n",
      "\n"
     ]
    }
   ],
   "source": [
    "library(\"readxl\")\n",
    "# read the data from the excel spreadsheet\n",
    "\n",
    "Lab4data <- read_excel(\"MATPMD1LabSession4Data.xlsx\") # attach this argument to select column and remove null values ffrom it [range = \"G1:H11\"]\n",
    "\n",
    "# see what the column names in the data are\n",
    "colnames(Lab4data)\n",
    "\n",
    "# tell R that we want to use the column names as variable names \n",
    "# to access the data. Note that at the end of your session use the \n",
    "# detach(Lab3Data) command to remove these variable names.\n",
    "attach(Lab4data)"
   ]
  },
  {
   "cell_type": "code",
   "execution_count": 6,
   "id": "7ade7182",
   "metadata": {},
   "outputs": [
    {
     "data": {
      "text/html": [
       "<table class=\"dataframe\">\n",
       "<caption>A tibble: 27 × 12</caption>\n",
       "<thead>\n",
       "\t<tr><th scope=col>Q1Group</th><th scope=col>Q1Correct</th><th scope=col>Q2Strain</th><th scope=col>Q2Days</th><th scope=col>Q3Group</th><th scope=col>Q3BPFall</th><th scope=col>Q1x</th><th scope=col>Q1y</th><th scope=col>Q4Group</th><th scope=col>Q4Correct</th><th scope=col>Q2Process</th><th scope=col>Q2Life</th></tr>\n",
       "\t<tr><th scope=col>&lt;dbl&gt;</th><th scope=col>&lt;dbl&gt;</th><th scope=col>&lt;chr&gt;</th><th scope=col>&lt;dbl&gt;</th><th scope=col>&lt;chr&gt;</th><th scope=col>&lt;dbl&gt;</th><th scope=col>&lt;dbl&gt;</th><th scope=col>&lt;dbl&gt;</th><th scope=col>&lt;dbl&gt;</th><th scope=col>&lt;dbl&gt;</th><th scope=col>&lt;dbl&gt;</th><th scope=col>&lt;dbl&gt;</th></tr>\n",
       "</thead>\n",
       "<tbody>\n",
       "\t<tr><td> 1</td><td> 9</td><td>9D  </td><td> 3</td><td>Group1</td><td>10.5</td><td>10</td><td>25</td><td> 1</td><td> 9</td><td>25</td><td>2005</td></tr>\n",
       "\t<tr><td> 1</td><td> 8</td><td>9D  </td><td> 4</td><td>Group1</td><td> 8.5</td><td>12</td><td>24</td><td> 1</td><td> 8</td><td>27</td><td>2157</td></tr>\n",
       "\t<tr><td> 1</td><td> 8</td><td>9D  </td><td> 6</td><td>Group1</td><td> 6.2</td><td>14</td><td>22</td><td> 1</td><td> 8</td><td>25</td><td>2347</td></tr>\n",
       "\t<tr><td> 1</td><td> 9</td><td>9D  </td><td> 5</td><td>Group1</td><td> 9.5</td><td>16</td><td>20</td><td> 1</td><td> 9</td><td>26</td><td>2239</td></tr>\n",
       "\t<tr><td> 1</td><td> 7</td><td>9D  </td><td> 2</td><td>Group2</td><td> 9.7</td><td>18</td><td>19</td><td> 1</td><td> 7</td><td>31</td><td>2889</td></tr>\n",
       "\t<tr><td> 1</td><td> 7</td><td>9D  </td><td> 4</td><td>Group2</td><td>11.4</td><td>20</td><td>17</td><td> 1</td><td> 7</td><td>30</td><td>2942</td></tr>\n",
       "\t<tr><td> 2</td><td> 2</td><td>9D  </td><td> 4</td><td>Group2</td><td> 9.2</td><td>22</td><td>13</td><td> 2</td><td> 2</td><td>32</td><td>3048</td></tr>\n",
       "\t<tr><td> 2</td><td> 5</td><td>9D  </td><td> 3</td><td>Group2</td><td> 8.6</td><td>24</td><td>12</td><td> 2</td><td> 5</td><td>29</td><td>3002</td></tr>\n",
       "\t<tr><td> 2</td><td> 4</td><td>9D  </td><td> 5</td><td>Group3</td><td> 3.2</td><td>26</td><td>11</td><td> 2</td><td> 4</td><td>30</td><td>2943</td></tr>\n",
       "\t<tr><td> 2</td><td> 3</td><td>11C </td><td> 8</td><td>Group3</td><td> 4.7</td><td>28</td><td>10</td><td> 2</td><td> 3</td><td>44</td><td>3844</td></tr>\n",
       "\t<tr><td> 2</td><td> 4</td><td>11C </td><td> 9</td><td>Group3</td><td> 6.7</td><td>NA</td><td>NA</td><td> 2</td><td> 4</td><td>41</td><td>3759</td></tr>\n",
       "\t<tr><td> 2</td><td> 3</td><td>11C </td><td> 5</td><td>Group3</td><td> 4.1</td><td>NA</td><td>NA</td><td> 2</td><td> 3</td><td>42</td><td>3810</td></tr>\n",
       "\t<tr><td> 3</td><td> 9</td><td>11C </td><td> 8</td><td>Group4</td><td> 6.1</td><td>NA</td><td>NA</td><td> 3</td><td> 9</td><td>41</td><td>3814</td></tr>\n",
       "\t<tr><td> 3</td><td> 3</td><td>11C </td><td> 4</td><td>Group4</td><td> 7.3</td><td>NA</td><td>NA</td><td> 3</td><td> 3</td><td>44</td><td>3927</td></tr>\n",
       "\t<tr><td> 3</td><td> 7</td><td>11C </td><td> 7</td><td>Group4</td><td> 7.4</td><td>NA</td><td>NA</td><td> 3</td><td> 7</td><td>31</td><td>3110</td></tr>\n",
       "\t<tr><td> 3</td><td> 8</td><td>11C </td><td> 6</td><td>Group4</td><td> 7.8</td><td>NA</td><td>NA</td><td> 3</td><td> 8</td><td>30</td><td>2999</td></tr>\n",
       "\t<tr><td> 3</td><td> 5</td><td>11C </td><td> 9</td><td>NA    </td><td>  NA</td><td>NA</td><td>NA</td><td> 3</td><td> 5</td><td>55</td><td>4005</td></tr>\n",
       "\t<tr><td> 3</td><td> 6</td><td>11C </td><td> 9</td><td>NA    </td><td>  NA</td><td>NA</td><td>NA</td><td> 3</td><td> 6</td><td>52</td><td>3992</td></tr>\n",
       "\t<tr><td> 4</td><td> 5</td><td>DCS1</td><td> 8</td><td>NA    </td><td>  NA</td><td>NA</td><td>NA</td><td> 4</td><td> 5</td><td>49</td><td>4107</td></tr>\n",
       "\t<tr><td> 4</td><td> 7</td><td>DCS1</td><td>10</td><td>NA    </td><td>  NA</td><td>NA</td><td>NA</td><td> 4</td><td> 7</td><td>50</td><td>3987</td></tr>\n",
       "\t<tr><td> 4</td><td> 3</td><td>DCS1</td><td>12</td><td>NA    </td><td>  NA</td><td>NA</td><td>NA</td><td> 4</td><td> 3</td><td>NA</td><td>  NA</td></tr>\n",
       "\t<tr><td> 4</td><td> 6</td><td>DCS1</td><td> 6</td><td>NA    </td><td>  NA</td><td>NA</td><td>NA</td><td> 4</td><td> 6</td><td>NA</td><td>  NA</td></tr>\n",
       "\t<tr><td> 4</td><td> 7</td><td>DCS1</td><td> 8</td><td>NA    </td><td>  NA</td><td>NA</td><td>NA</td><td> 4</td><td> 7</td><td>NA</td><td>  NA</td></tr>\n",
       "\t<tr><td> 4</td><td> 4</td><td>DCS1</td><td> 7</td><td>NA    </td><td>  NA</td><td>NA</td><td>NA</td><td> 4</td><td> 4</td><td>NA</td><td>  NA</td></tr>\n",
       "\t<tr><td>NA</td><td>NA</td><td>DCS1</td><td>11</td><td>NA    </td><td>  NA</td><td>NA</td><td>NA</td><td>NA</td><td>NA</td><td>NA</td><td>  NA</td></tr>\n",
       "\t<tr><td>NA</td><td>NA</td><td>DCS1</td><td> 5</td><td>NA    </td><td>  NA</td><td>NA</td><td>NA</td><td>NA</td><td>NA</td><td>NA</td><td>  NA</td></tr>\n",
       "\t<tr><td>NA</td><td>NA</td><td>DCS1</td><td> 7</td><td>NA    </td><td>  NA</td><td>NA</td><td>NA</td><td>NA</td><td>NA</td><td>NA</td><td>  NA</td></tr>\n",
       "</tbody>\n",
       "</table>\n"
      ],
      "text/latex": [
       "A tibble: 27 × 12\n",
       "\\begin{tabular}{llllllllllll}\n",
       " Q1Group & Q1Correct & Q2Strain & Q2Days & Q3Group & Q3BPFall & Q1x & Q1y & Q4Group & Q4Correct & Q2Process & Q2Life\\\\\n",
       " <dbl> & <dbl> & <chr> & <dbl> & <chr> & <dbl> & <dbl> & <dbl> & <dbl> & <dbl> & <dbl> & <dbl>\\\\\n",
       "\\hline\n",
       "\t  1 &  9 & 9D   &  3 & Group1 & 10.5 & 10 & 25 &  1 &  9 & 25 & 2005\\\\\n",
       "\t  1 &  8 & 9D   &  4 & Group1 &  8.5 & 12 & 24 &  1 &  8 & 27 & 2157\\\\\n",
       "\t  1 &  8 & 9D   &  6 & Group1 &  6.2 & 14 & 22 &  1 &  8 & 25 & 2347\\\\\n",
       "\t  1 &  9 & 9D   &  5 & Group1 &  9.5 & 16 & 20 &  1 &  9 & 26 & 2239\\\\\n",
       "\t  1 &  7 & 9D   &  2 & Group2 &  9.7 & 18 & 19 &  1 &  7 & 31 & 2889\\\\\n",
       "\t  1 &  7 & 9D   &  4 & Group2 & 11.4 & 20 & 17 &  1 &  7 & 30 & 2942\\\\\n",
       "\t  2 &  2 & 9D   &  4 & Group2 &  9.2 & 22 & 13 &  2 &  2 & 32 & 3048\\\\\n",
       "\t  2 &  5 & 9D   &  3 & Group2 &  8.6 & 24 & 12 &  2 &  5 & 29 & 3002\\\\\n",
       "\t  2 &  4 & 9D   &  5 & Group3 &  3.2 & 26 & 11 &  2 &  4 & 30 & 2943\\\\\n",
       "\t  2 &  3 & 11C  &  8 & Group3 &  4.7 & 28 & 10 &  2 &  3 & 44 & 3844\\\\\n",
       "\t  2 &  4 & 11C  &  9 & Group3 &  6.7 & NA & NA &  2 &  4 & 41 & 3759\\\\\n",
       "\t  2 &  3 & 11C  &  5 & Group3 &  4.1 & NA & NA &  2 &  3 & 42 & 3810\\\\\n",
       "\t  3 &  9 & 11C  &  8 & Group4 &  6.1 & NA & NA &  3 &  9 & 41 & 3814\\\\\n",
       "\t  3 &  3 & 11C  &  4 & Group4 &  7.3 & NA & NA &  3 &  3 & 44 & 3927\\\\\n",
       "\t  3 &  7 & 11C  &  7 & Group4 &  7.4 & NA & NA &  3 &  7 & 31 & 3110\\\\\n",
       "\t  3 &  8 & 11C  &  6 & Group4 &  7.8 & NA & NA &  3 &  8 & 30 & 2999\\\\\n",
       "\t  3 &  5 & 11C  &  9 & NA     &   NA & NA & NA &  3 &  5 & 55 & 4005\\\\\n",
       "\t  3 &  6 & 11C  &  9 & NA     &   NA & NA & NA &  3 &  6 & 52 & 3992\\\\\n",
       "\t  4 &  5 & DCS1 &  8 & NA     &   NA & NA & NA &  4 &  5 & 49 & 4107\\\\\n",
       "\t  4 &  7 & DCS1 & 10 & NA     &   NA & NA & NA &  4 &  7 & 50 & 3987\\\\\n",
       "\t  4 &  3 & DCS1 & 12 & NA     &   NA & NA & NA &  4 &  3 & NA &   NA\\\\\n",
       "\t  4 &  6 & DCS1 &  6 & NA     &   NA & NA & NA &  4 &  6 & NA &   NA\\\\\n",
       "\t  4 &  7 & DCS1 &  8 & NA     &   NA & NA & NA &  4 &  7 & NA &   NA\\\\\n",
       "\t  4 &  4 & DCS1 &  7 & NA     &   NA & NA & NA &  4 &  4 & NA &   NA\\\\\n",
       "\t NA & NA & DCS1 & 11 & NA     &   NA & NA & NA & NA & NA & NA &   NA\\\\\n",
       "\t NA & NA & DCS1 &  5 & NA     &   NA & NA & NA & NA & NA & NA &   NA\\\\\n",
       "\t NA & NA & DCS1 &  7 & NA     &   NA & NA & NA & NA & NA & NA &   NA\\\\\n",
       "\\end{tabular}\n"
      ],
      "text/markdown": [
       "\n",
       "A tibble: 27 × 12\n",
       "\n",
       "| Q1Group &lt;dbl&gt; | Q1Correct &lt;dbl&gt; | Q2Strain &lt;chr&gt; | Q2Days &lt;dbl&gt; | Q3Group &lt;chr&gt; | Q3BPFall &lt;dbl&gt; | Q1x &lt;dbl&gt; | Q1y &lt;dbl&gt; | Q4Group &lt;dbl&gt; | Q4Correct &lt;dbl&gt; | Q2Process &lt;dbl&gt; | Q2Life &lt;dbl&gt; |\n",
       "|---|---|---|---|---|---|---|---|---|---|---|---|\n",
       "|  1 |  9 | 9D   |  3 | Group1 | 10.5 | 10 | 25 |  1 |  9 | 25 | 2005 |\n",
       "|  1 |  8 | 9D   |  4 | Group1 |  8.5 | 12 | 24 |  1 |  8 | 27 | 2157 |\n",
       "|  1 |  8 | 9D   |  6 | Group1 |  6.2 | 14 | 22 |  1 |  8 | 25 | 2347 |\n",
       "|  1 |  9 | 9D   |  5 | Group1 |  9.5 | 16 | 20 |  1 |  9 | 26 | 2239 |\n",
       "|  1 |  7 | 9D   |  2 | Group2 |  9.7 | 18 | 19 |  1 |  7 | 31 | 2889 |\n",
       "|  1 |  7 | 9D   |  4 | Group2 | 11.4 | 20 | 17 |  1 |  7 | 30 | 2942 |\n",
       "|  2 |  2 | 9D   |  4 | Group2 |  9.2 | 22 | 13 |  2 |  2 | 32 | 3048 |\n",
       "|  2 |  5 | 9D   |  3 | Group2 |  8.6 | 24 | 12 |  2 |  5 | 29 | 3002 |\n",
       "|  2 |  4 | 9D   |  5 | Group3 |  3.2 | 26 | 11 |  2 |  4 | 30 | 2943 |\n",
       "|  2 |  3 | 11C  |  8 | Group3 |  4.7 | 28 | 10 |  2 |  3 | 44 | 3844 |\n",
       "|  2 |  4 | 11C  |  9 | Group3 |  6.7 | NA | NA |  2 |  4 | 41 | 3759 |\n",
       "|  2 |  3 | 11C  |  5 | Group3 |  4.1 | NA | NA |  2 |  3 | 42 | 3810 |\n",
       "|  3 |  9 | 11C  |  8 | Group4 |  6.1 | NA | NA |  3 |  9 | 41 | 3814 |\n",
       "|  3 |  3 | 11C  |  4 | Group4 |  7.3 | NA | NA |  3 |  3 | 44 | 3927 |\n",
       "|  3 |  7 | 11C  |  7 | Group4 |  7.4 | NA | NA |  3 |  7 | 31 | 3110 |\n",
       "|  3 |  8 | 11C  |  6 | Group4 |  7.8 | NA | NA |  3 |  8 | 30 | 2999 |\n",
       "|  3 |  5 | 11C  |  9 | NA     |   NA | NA | NA |  3 |  5 | 55 | 4005 |\n",
       "|  3 |  6 | 11C  |  9 | NA     |   NA | NA | NA |  3 |  6 | 52 | 3992 |\n",
       "|  4 |  5 | DCS1 |  8 | NA     |   NA | NA | NA |  4 |  5 | 49 | 4107 |\n",
       "|  4 |  7 | DCS1 | 10 | NA     |   NA | NA | NA |  4 |  7 | 50 | 3987 |\n",
       "|  4 |  3 | DCS1 | 12 | NA     |   NA | NA | NA |  4 |  3 | NA |   NA |\n",
       "|  4 |  6 | DCS1 |  6 | NA     |   NA | NA | NA |  4 |  6 | NA |   NA |\n",
       "|  4 |  7 | DCS1 |  8 | NA     |   NA | NA | NA |  4 |  7 | NA |   NA |\n",
       "|  4 |  4 | DCS1 |  7 | NA     |   NA | NA | NA |  4 |  4 | NA |   NA |\n",
       "| NA | NA | DCS1 | 11 | NA     |   NA | NA | NA | NA | NA | NA |   NA |\n",
       "| NA | NA | DCS1 |  5 | NA     |   NA | NA | NA | NA | NA | NA |   NA |\n",
       "| NA | NA | DCS1 |  7 | NA     |   NA | NA | NA | NA | NA | NA |   NA |\n",
       "\n"
      ],
      "text/plain": [
       "   Q1Group Q1Correct Q2Strain Q2Days Q3Group Q3BPFall Q1x Q1y Q4Group Q4Correct\n",
       "1   1       9        9D        3     Group1  10.5     10  25   1       9       \n",
       "2   1       8        9D        4     Group1   8.5     12  24   1       8       \n",
       "3   1       8        9D        6     Group1   6.2     14  22   1       8       \n",
       "4   1       9        9D        5     Group1   9.5     16  20   1       9       \n",
       "5   1       7        9D        2     Group2   9.7     18  19   1       7       \n",
       "6   1       7        9D        4     Group2  11.4     20  17   1       7       \n",
       "7   2       2        9D        4     Group2   9.2     22  13   2       2       \n",
       "8   2       5        9D        3     Group2   8.6     24  12   2       5       \n",
       "9   2       4        9D        5     Group3   3.2     26  11   2       4       \n",
       "10  2       3        11C       8     Group3   4.7     28  10   2       3       \n",
       "11  2       4        11C       9     Group3   6.7     NA  NA   2       4       \n",
       "12  2       3        11C       5     Group3   4.1     NA  NA   2       3       \n",
       "13  3       9        11C       8     Group4   6.1     NA  NA   3       9       \n",
       "14  3       3        11C       4     Group4   7.3     NA  NA   3       3       \n",
       "15  3       7        11C       7     Group4   7.4     NA  NA   3       7       \n",
       "16  3       8        11C       6     Group4   7.8     NA  NA   3       8       \n",
       "17  3       5        11C       9     NA        NA     NA  NA   3       5       \n",
       "18  3       6        11C       9     NA        NA     NA  NA   3       6       \n",
       "19  4       5        DCS1      8     NA        NA     NA  NA   4       5       \n",
       "20  4       7        DCS1     10     NA        NA     NA  NA   4       7       \n",
       "21  4       3        DCS1     12     NA        NA     NA  NA   4       3       \n",
       "22  4       6        DCS1      6     NA        NA     NA  NA   4       6       \n",
       "23  4       7        DCS1      8     NA        NA     NA  NA   4       7       \n",
       "24  4       4        DCS1      7     NA        NA     NA  NA   4       4       \n",
       "25 NA      NA        DCS1     11     NA        NA     NA  NA  NA      NA       \n",
       "26 NA      NA        DCS1      5     NA        NA     NA  NA  NA      NA       \n",
       "27 NA      NA        DCS1      7     NA        NA     NA  NA  NA      NA       \n",
       "   Q2Process Q2Life\n",
       "1  25        2005  \n",
       "2  27        2157  \n",
       "3  25        2347  \n",
       "4  26        2239  \n",
       "5  31        2889  \n",
       "6  30        2942  \n",
       "7  32        3048  \n",
       "8  29        3002  \n",
       "9  30        2943  \n",
       "10 44        3844  \n",
       "11 41        3759  \n",
       "12 42        3810  \n",
       "13 41        3814  \n",
       "14 44        3927  \n",
       "15 31        3110  \n",
       "16 30        2999  \n",
       "17 55        4005  \n",
       "18 52        3992  \n",
       "19 49        4107  \n",
       "20 50        3987  \n",
       "21 NA          NA  \n",
       "22 NA          NA  \n",
       "23 NA          NA  \n",
       "24 NA          NA  \n",
       "25 NA          NA  \n",
       "26 NA          NA  \n",
       "27 NA          NA  "
      ]
     },
     "metadata": {},
     "output_type": "display_data"
    }
   ],
   "source": [
    "View(Lab4data)"
   ]
  },
  {
   "cell_type": "code",
   "execution_count": 2,
   "id": "54abd01b",
   "metadata": {},
   "outputs": [
    {
     "ename": "ERROR",
     "evalue": "Error in eval(expr, envir, enclos): object 'x' not found\n",
     "output_type": "error",
     "traceback": [
      "Error in eval(expr, envir, enclos): object 'x' not found\nTraceback:\n"
     ]
    }
   ],
   "source": [
    "reg <- data.frame(x = c(6.0,1.4,5.0,1.0,1.2,1.5,3.5,1.3,2.1,1.3),\n",
    "                y= c(42.1,6.3,38.5,-0.3,3.6,7.8,24.4,2.1,17.5,7.5))\n"
   ]
  },
  {
   "cell_type": "code",
   "execution_count": 7,
   "id": "41bb380c",
   "metadata": {},
   "outputs": [
    {
     "data": {
      "text/html": [
       "<table class=\"dataframe\">\n",
       "<caption>A data.frame: 10 × 2</caption>\n",
       "<thead>\n",
       "\t<tr><th scope=col>x</th><th scope=col>y</th></tr>\n",
       "\t<tr><th scope=col>&lt;dbl&gt;</th><th scope=col>&lt;dbl&gt;</th></tr>\n",
       "</thead>\n",
       "<tbody>\n",
       "\t<tr><td>6.0</td><td>42.1</td></tr>\n",
       "\t<tr><td>1.4</td><td> 6.3</td></tr>\n",
       "\t<tr><td>5.0</td><td>38.5</td></tr>\n",
       "\t<tr><td>1.0</td><td>-0.3</td></tr>\n",
       "\t<tr><td>1.2</td><td> 3.6</td></tr>\n",
       "\t<tr><td>1.5</td><td> 7.8</td></tr>\n",
       "\t<tr><td>3.5</td><td>24.4</td></tr>\n",
       "\t<tr><td>1.3</td><td> 2.1</td></tr>\n",
       "\t<tr><td>2.1</td><td>17.5</td></tr>\n",
       "\t<tr><td>1.3</td><td> 7.5</td></tr>\n",
       "</tbody>\n",
       "</table>\n"
      ],
      "text/latex": [
       "A data.frame: 10 × 2\n",
       "\\begin{tabular}{ll}\n",
       " x & y\\\\\n",
       " <dbl> & <dbl>\\\\\n",
       "\\hline\n",
       "\t 6.0 & 42.1\\\\\n",
       "\t 1.4 &  6.3\\\\\n",
       "\t 5.0 & 38.5\\\\\n",
       "\t 1.0 & -0.3\\\\\n",
       "\t 1.2 &  3.6\\\\\n",
       "\t 1.5 &  7.8\\\\\n",
       "\t 3.5 & 24.4\\\\\n",
       "\t 1.3 &  2.1\\\\\n",
       "\t 2.1 & 17.5\\\\\n",
       "\t 1.3 &  7.5\\\\\n",
       "\\end{tabular}\n"
      ],
      "text/markdown": [
       "\n",
       "A data.frame: 10 × 2\n",
       "\n",
       "| x &lt;dbl&gt; | y &lt;dbl&gt; |\n",
       "|---|---|\n",
       "| 6.0 | 42.1 |\n",
       "| 1.4 |  6.3 |\n",
       "| 5.0 | 38.5 |\n",
       "| 1.0 | -0.3 |\n",
       "| 1.2 |  3.6 |\n",
       "| 1.5 |  7.8 |\n",
       "| 3.5 | 24.4 |\n",
       "| 1.3 |  2.1 |\n",
       "| 2.1 | 17.5 |\n",
       "| 1.3 |  7.5 |\n",
       "\n"
      ],
      "text/plain": [
       "   x   y   \n",
       "1  6.0 42.1\n",
       "2  1.4  6.3\n",
       "3  5.0 38.5\n",
       "4  1.0 -0.3\n",
       "5  1.2  3.6\n",
       "6  1.5  7.8\n",
       "7  3.5 24.4\n",
       "8  1.3  2.1\n",
       "9  2.1 17.5\n",
       "10 1.3  7.5"
      ]
     },
     "metadata": {},
     "output_type": "display_data"
    }
   ],
   "source": [
    "reg\n",
    "reg.lm <- lm(reg$y~reg$x)"
   ]
  },
  {
   "cell_type": "code",
   "execution_count": 8,
   "id": "c9b684cb",
   "metadata": {},
   "outputs": [
    {
     "data": {
      "text/plain": [
       "\n",
       "Call:\n",
       "lm(formula = reg$y ~ reg$x)\n",
       "\n",
       "Residuals:\n",
       "    Min      1Q  Median      3Q     Max \n",
       "-3.3422 -2.4161  0.2317  1.6133  5.3266 \n",
       "\n",
       "Coefficients:\n",
       "            Estimate Std. Error t value Pr(>|t|)    \n",
       "(Intercept)  -5.4960     1.6113  -3.411  0.00921 ** \n",
       "reg$x         8.4140     0.5441  15.463 3.04e-07 ***\n",
       "---\n",
       "Signif. codes:  0 '***' 0.001 '**' 0.01 '*' 0.05 '.' 0.1 ' ' 1\n",
       "\n",
       "Residual standard error: 2.912 on 8 degrees of freedom\n",
       "Multiple R-squared:  0.9676,\tAdjusted R-squared:  0.9636 \n",
       "F-statistic: 239.1 on 1 and 8 DF,  p-value: 3.044e-07\n"
      ]
     },
     "metadata": {},
     "output_type": "display_data"
    }
   ],
   "source": [
    "summary(reg.lm)"
   ]
  },
  {
   "cell_type": "code",
   "execution_count": 11,
   "id": "2c757714",
   "metadata": {},
   "outputs": [
    {
     "data": {
      "text/html": [
       "11.332"
      ],
      "text/latex": [
       "11.332"
      ],
      "text/markdown": [
       "11.332"
      ],
      "text/plain": [
       "[1] 11.332"
      ]
     },
     "metadata": {},
     "output_type": "display_data"
    }
   ],
   "source": [
    "-5.4960+8.4140*(2)"
   ]
  },
  {
   "cell_type": "code",
   "execution_count": null,
   "id": "8f489f81",
   "metadata": {},
   "outputs": [],
   "source": []
  }
 ],
 "metadata": {
  "kernelspec": {
   "display_name": "R",
   "language": "R",
   "name": "ir"
  },
  "language_info": {
   "codemirror_mode": "r",
   "file_extension": ".r",
   "mimetype": "text/x-r-source",
   "name": "R",
   "pygments_lexer": "r",
   "version": "3.6.3"
  }
 },
 "nbformat": 4,
 "nbformat_minor": 5
}
