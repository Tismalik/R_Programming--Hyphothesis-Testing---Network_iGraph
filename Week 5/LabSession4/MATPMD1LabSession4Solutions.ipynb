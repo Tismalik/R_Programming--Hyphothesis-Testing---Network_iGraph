{
 "cells": [
  {
   "cell_type": "code",
   "execution_count": 1,
   "id": "344729d3",
   "metadata": {
    "scrolled": true
   },
   "outputs": [
    {
     "name": "stderr",
     "output_type": "stream",
     "text": [
      "Registered S3 methods overwritten by 'tibble':\n",
      "  method     from  \n",
      "  format.tbl pillar\n",
      "  print.tbl  pillar\n",
      "\n"
     ]
    },
    {
     "data": {
      "text/html": [
       "'The correlation coefficient is -0.9906'"
      ],
      "text/latex": [
       "'The correlation coefficient is -0.9906'"
      ],
      "text/markdown": [
       "'The correlation coefficient is -0.9906'"
      ],
      "text/plain": [
       "[1] \"The correlation coefficient is -0.9906\""
      ]
     },
     "metadata": {},
     "output_type": "display_data"
    },
    {
     "data": {
      "text/html": [
       "'The R^2 value is 0.9812,'"
      ],
      "text/latex": [
       "'The R\\textasciicircum{}2 value is 0.9812,'"
      ],
      "text/markdown": [
       "'The R^2 value is 0.9812,'"
      ],
      "text/plain": [
       "[1] \"The R^2 value is 0.9812,\""
      ]
     },
     "metadata": {},
     "output_type": "display_data"
    },
    {
     "data": {
      "text/plain": [
       "\n",
       "Call:\n",
       "lm(formula = Q1y ~ Q1x)\n",
       "\n",
       "Residuals:\n",
       "    Min      1Q  Median      3Q     Max \n",
       "-1.5818 -0.3454  0.1061  0.5439  0.8546 \n",
       "\n",
       "Coefficients:\n",
       "            Estimate Std. Error t value Pr(>|t|)    \n",
       "(Intercept) 34.51515    0.87992   39.23 1.96e-10 ***\n",
       "Q1x         -0.90606    0.04433  -20.44 3.43e-08 ***\n",
       "---\n",
       "Signif. codes:  0 '***' 0.001 '**' 0.01 '*' 0.05 '.' 0.1 ' ' 1\n",
       "\n",
       "Residual standard error: 0.8053 on 8 degrees of freedom\n",
       "Multiple R-squared:  0.9812,\tAdjusted R-squared:  0.9789 \n",
       "F-statistic: 417.8 on 1 and 8 DF,  p-value: 3.434e-08\n"
      ]
     },
     "metadata": {},
     "output_type": "display_data"
    },
    {
     "data": {
      "image/png": "[encoded data removed]",
      "text/plain": [
       "plot without title"
      ]
     },
     "metadata": {
      "image/png": {
       "height": 420,
       "width": 420
      }
     },
     "output_type": "display_data"
    }
   ],
   "source": [
    "# Question 4.1\n",
    "\n",
    "library(\"readxl\")\n",
    "\n",
    "Lab4data <- read_excel(\"MATPMD1LabSession4Data.xlsx\", range=\"G1:H11\")\n",
    "# use the column names as variable names in this environment\n",
    "attach(Lab4data)\n",
    "\n",
    "#a)\n",
    "plot(Q1x,Q1y)\n",
    "\n",
    "#b)\n",
    "# Note that method=\"pearson\" to get the correlation coefficient r.\n",
    "# Also, note that the use=\"complete.obs\" option tells r to only look\n",
    "# at complete cases, and ignore any missing values\n",
    "r<-cor(Q1x, Q1y,method=\"pearson\",use=\"complete.obs\")\n",
    "sprintf(\"The correlation coefficient is %.4g\",r)\n",
    "\n",
    "#c)\n",
    "sprintf(\"The R^2 value is %.4g,\",r^2)\n",
    "\n",
    "#d)\n",
    "lm4<-lm(Q1y~Q1x)\n",
    "summary(lm4)\n",
    "# So we can see that the equation of our regression line is\n",
    "# y = 34.51515 -0.90606x\n",
    "\n",
    "#e)\n",
    "abline(lm4,lwd=2,col=\"blue\")\n",
    "\n",
    "#f) Slope is significantly different to 0. But we expected that given that\n",
    "# r=-0.9906\n",
    "\n",
    "# drop the variable names we set up from the column names \n",
    "detach(Lab4data)\n",
    "\n"
   ]
  },
  {
   "cell_type": "code",
   "execution_count": 4,
   "id": "a8e74d05",
   "metadata": {},
   "outputs": [
    {
     "data": {
      "text/plain": [
       "\n",
       "Call:\n",
       "lm(formula = Q2Life ~ Q2Process)\n",
       "\n",
       "Residuals:\n",
       "   Min     1Q Median     3Q    Max \n",
       "-472.2 -165.2  114.2  204.4  285.0 \n",
       "\n",
       "Coefficients:\n",
       "            Estimate Std. Error t value Pr(>|t|)    \n",
       "(Intercept)  833.803    235.284   3.544  0.00232 ** \n",
       "Q2Process     65.736      6.204  10.597 3.64e-09 ***\n",
       "---\n",
       "Signif. codes:  0 '***' 0.001 '**' 0.01 '*' 0.05 '.' 0.1 ' ' 1\n",
       "\n",
       "Residual standard error: 265.5 on 18 degrees of freedom\n",
       "Multiple R-squared:  0.8618,\tAdjusted R-squared:  0.8542 \n",
       "F-statistic: 112.3 on 1 and 18 DF,  p-value: 3.635e-09\n"
      ]
     },
     "metadata": {},
     "output_type": "display_data"
    },
    {
     "data": {
      "text/html": [
       "<table class=\"dataframe\">\n",
       "<caption>A data.frame: 1 × 1</caption>\n",
       "<thead>\n",
       "\t<tr><th scope=col>Q2Process</th></tr>\n",
       "\t<tr><th scope=col>&lt;dbl&gt;</th></tr>\n",
       "</thead>\n",
       "<tbody>\n",
       "\t<tr><td>33</td></tr>\n",
       "</tbody>\n",
       "</table>\n"
      ],
      "text/latex": [
       "A data.frame: 1 × 1\n",
       "\\begin{tabular}{l}\n",
       " Q2Process\\\\\n",
       " <dbl>\\\\\n",
       "\\hline\n",
       "\t 33\\\\\n",
       "\\end{tabular}\n"
      ],
      "text/markdown": [
       "\n",
       "A data.frame: 1 × 1\n",
       "\n",
       "| Q2Process &lt;dbl&gt; |\n",
       "|---|\n",
       "| 33 |\n",
       "\n"
      ],
      "text/plain": [
       "  Q2Process\n",
       "1 33       "
      ]
     },
     "metadata": {},
     "output_type": "display_data"
    },
    {
     "data": {
      "text/html": [
       "<table class=\"dataframe\">\n",
       "<caption>A matrix: 1 × 3 of type dbl</caption>\n",
       "<thead>\n",
       "\t<tr><th></th><th scope=col>fit</th><th scope=col>lwr</th><th scope=col>upr</th></tr>\n",
       "</thead>\n",
       "<tbody>\n",
       "\t<tr><th scope=row>1</th><td>3003.078</td><td>2429.4</td><td>3576.756</td></tr>\n",
       "</tbody>\n",
       "</table>\n"
      ],
      "text/latex": [
       "A matrix: 1 × 3 of type dbl\n",
       "\\begin{tabular}{r|lll}\n",
       "  & fit & lwr & upr\\\\\n",
       "\\hline\n",
       "\t1 & 3003.078 & 2429.4 & 3576.756\\\\\n",
       "\\end{tabular}\n"
      ],
      "text/markdown": [
       "\n",
       "A matrix: 1 × 3 of type dbl\n",
       "\n",
       "| <!--/--> | fit | lwr | upr |\n",
       "|---|---|---|---|\n",
       "| 1 | 3003.078 | 2429.4 | 3576.756 |\n",
       "\n"
      ],
      "text/plain": [
       "  fit      lwr    upr     \n",
       "1 3003.078 2429.4 3576.756"
      ]
     },
     "metadata": {},
     "output_type": "display_data"
    },
    {
     "data": {
      "text/html": [
       "<table class=\"dataframe\">\n",
       "<caption>A matrix: 1 × 3 of type dbl</caption>\n",
       "<thead>\n",
       "\t<tr><th></th><th scope=col>fit</th><th scope=col>lwr</th><th scope=col>upr</th></tr>\n",
       "</thead>\n",
       "<tbody>\n",
       "\t<tr><th scope=row>1</th><td>4777.94</td><td>4130.64</td><td>5425.24</td></tr>\n",
       "</tbody>\n",
       "</table>\n"
      ],
      "text/latex": [
       "A matrix: 1 × 3 of type dbl\n",
       "\\begin{tabular}{r|lll}\n",
       "  & fit & lwr & upr\\\\\n",
       "\\hline\n",
       "\t1 & 4777.94 & 4130.64 & 5425.24\\\\\n",
       "\\end{tabular}\n"
      ],
      "text/markdown": [
       "\n",
       "A matrix: 1 × 3 of type dbl\n",
       "\n",
       "| <!--/--> | fit | lwr | upr |\n",
       "|---|---|---|---|\n",
       "| 1 | 4777.94 | 4130.64 | 5425.24 |\n",
       "\n"
      ],
      "text/plain": [
       "  fit     lwr     upr    \n",
       "1 4777.94 4130.64 5425.24"
      ]
     },
     "metadata": {},
     "output_type": "display_data"
    },
    {
     "data": {
      "text/html": [
       "<table class=\"dataframe\">\n",
       "<caption>A matrix: 1 × 3 of type dbl</caption>\n",
       "<thead>\n",
       "\t<tr><th></th><th scope=col>fit</th><th scope=col>lwr</th><th scope=col>upr</th></tr>\n",
       "</thead>\n",
       "<tbody>\n",
       "\t<tr><th scope=row>1</th><td>3003.078</td><td>2429.4</td><td>3576.756</td></tr>\n",
       "</tbody>\n",
       "</table>\n"
      ],
      "text/latex": [
       "A matrix: 1 × 3 of type dbl\n",
       "\\begin{tabular}{r|lll}\n",
       "  & fit & lwr & upr\\\\\n",
       "\\hline\n",
       "\t1 & 3003.078 & 2429.4 & 3576.756\\\\\n",
       "\\end{tabular}\n"
      ],
      "text/markdown": [
       "\n",
       "A matrix: 1 × 3 of type dbl\n",
       "\n",
       "| <!--/--> | fit | lwr | upr |\n",
       "|---|---|---|---|\n",
       "| 1 | 3003.078 | 2429.4 | 3576.756 |\n",
       "\n"
      ],
      "text/plain": [
       "  fit      lwr    upr     \n",
       "1 3003.078 2429.4 3576.756"
      ]
     },
     "metadata": {},
     "output_type": "display_data"
    },
    {
     "data": {
      "text/html": [
       "<table class=\"dataframe\">\n",
       "<caption>A data.frame: 46 × 1</caption>\n",
       "<thead>\n",
       "\t<tr><th scope=col>Q2Process</th></tr>\n",
       "\t<tr><th scope=col>&lt;int&gt;</th></tr>\n",
       "</thead>\n",
       "<tbody>\n",
       "\t<tr><td>20</td></tr>\n",
       "\t<tr><td>21</td></tr>\n",
       "\t<tr><td>22</td></tr>\n",
       "\t<tr><td>23</td></tr>\n",
       "\t<tr><td>24</td></tr>\n",
       "\t<tr><td>25</td></tr>\n",
       "\t<tr><td>26</td></tr>\n",
       "\t<tr><td>27</td></tr>\n",
       "\t<tr><td>28</td></tr>\n",
       "\t<tr><td>29</td></tr>\n",
       "\t<tr><td>30</td></tr>\n",
       "\t<tr><td>31</td></tr>\n",
       "\t<tr><td>32</td></tr>\n",
       "\t<tr><td>33</td></tr>\n",
       "\t<tr><td>34</td></tr>\n",
       "\t<tr><td>35</td></tr>\n",
       "\t<tr><td>36</td></tr>\n",
       "\t<tr><td>37</td></tr>\n",
       "\t<tr><td>38</td></tr>\n",
       "\t<tr><td>39</td></tr>\n",
       "\t<tr><td>40</td></tr>\n",
       "\t<tr><td>41</td></tr>\n",
       "\t<tr><td>42</td></tr>\n",
       "\t<tr><td>43</td></tr>\n",
       "\t<tr><td>44</td></tr>\n",
       "\t<tr><td>45</td></tr>\n",
       "\t<tr><td>46</td></tr>\n",
       "\t<tr><td>47</td></tr>\n",
       "\t<tr><td>48</td></tr>\n",
       "\t<tr><td>49</td></tr>\n",
       "\t<tr><td>50</td></tr>\n",
       "\t<tr><td>51</td></tr>\n",
       "\t<tr><td>52</td></tr>\n",
       "\t<tr><td>53</td></tr>\n",
       "\t<tr><td>54</td></tr>\n",
       "\t<tr><td>55</td></tr>\n",
       "\t<tr><td>56</td></tr>\n",
       "\t<tr><td>57</td></tr>\n",
       "\t<tr><td>58</td></tr>\n",
       "\t<tr><td>59</td></tr>\n",
       "\t<tr><td>60</td></tr>\n",
       "\t<tr><td>61</td></tr>\n",
       "\t<tr><td>62</td></tr>\n",
       "\t<tr><td>63</td></tr>\n",
       "\t<tr><td>64</td></tr>\n",
       "\t<tr><td>65</td></tr>\n",
       "</tbody>\n",
       "</table>\n"
      ],
      "text/latex": [
       "A data.frame: 46 × 1\n",
       "\\begin{tabular}{l}\n",
       " Q2Process\\\\\n",
       " <int>\\\\\n",
       "\\hline\n",
       "\t 20\\\\\n",
       "\t 21\\\\\n",
       "\t 22\\\\\n",
       "\t 23\\\\\n",
       "\t 24\\\\\n",
       "\t 25\\\\\n",
       "\t 26\\\\\n",
       "\t 27\\\\\n",
       "\t 28\\\\\n",
       "\t 29\\\\\n",
       "\t 30\\\\\n",
       "\t 31\\\\\n",
       "\t 32\\\\\n",
       "\t 33\\\\\n",
       "\t 34\\\\\n",
       "\t 35\\\\\n",
       "\t 36\\\\\n",
       "\t 37\\\\\n",
       "\t 38\\\\\n",
       "\t 39\\\\\n",
       "\t 40\\\\\n",
       "\t 41\\\\\n",
       "\t 42\\\\\n",
       "\t 43\\\\\n",
       "\t 44\\\\\n",
       "\t 45\\\\\n",
       "\t 46\\\\\n",
       "\t 47\\\\\n",
       "\t 48\\\\\n",
       "\t 49\\\\\n",
       "\t 50\\\\\n",
       "\t 51\\\\\n",
       "\t 52\\\\\n",
       "\t 53\\\\\n",
       "\t 54\\\\\n",
       "\t 55\\\\\n",
       "\t 56\\\\\n",
       "\t 57\\\\\n",
       "\t 58\\\\\n",
       "\t 59\\\\\n",
       "\t 60\\\\\n",
       "\t 61\\\\\n",
       "\t 62\\\\\n",
       "\t 63\\\\\n",
       "\t 64\\\\\n",
       "\t 65\\\\\n",
       "\\end{tabular}\n"
      ],
      "text/markdown": [
       "\n",
       "A data.frame: 46 × 1\n",
       "\n",
       "| Q2Process &lt;int&gt; |\n",
       "|---|\n",
       "| 20 |\n",
       "| 21 |\n",
       "| 22 |\n",
       "| 23 |\n",
       "| 24 |\n",
       "| 25 |\n",
       "| 26 |\n",
       "| 27 |\n",
       "| 28 |\n",
       "| 29 |\n",
       "| 30 |\n",
       "| 31 |\n",
       "| 32 |\n",
       "| 33 |\n",
       "| 34 |\n",
       "| 35 |\n",
       "| 36 |\n",
       "| 37 |\n",
       "| 38 |\n",
       "| 39 |\n",
       "| 40 |\n",
       "| 41 |\n",
       "| 42 |\n",
       "| 43 |\n",
       "| 44 |\n",
       "| 45 |\n",
       "| 46 |\n",
       "| 47 |\n",
       "| 48 |\n",
       "| 49 |\n",
       "| 50 |\n",
       "| 51 |\n",
       "| 52 |\n",
       "| 53 |\n",
       "| 54 |\n",
       "| 55 |\n",
       "| 56 |\n",
       "| 57 |\n",
       "| 58 |\n",
       "| 59 |\n",
       "| 60 |\n",
       "| 61 |\n",
       "| 62 |\n",
       "| 63 |\n",
       "| 64 |\n",
       "| 65 |\n",
       "\n"
      ],
      "text/plain": [
       "   Q2Process\n",
       "1  20       \n",
       "2  21       \n",
       "3  22       \n",
       "4  23       \n",
       "5  24       \n",
       "6  25       \n",
       "7  26       \n",
       "8  27       \n",
       "9  28       \n",
       "10 29       \n",
       "11 30       \n",
       "12 31       \n",
       "13 32       \n",
       "14 33       \n",
       "15 34       \n",
       "16 35       \n",
       "17 36       \n",
       "18 37       \n",
       "19 38       \n",
       "20 39       \n",
       "21 40       \n",
       "22 41       \n",
       "23 42       \n",
       "24 43       \n",
       "25 44       \n",
       "26 45       \n",
       "27 46       \n",
       "28 47       \n",
       "29 48       \n",
       "30 49       \n",
       "31 50       \n",
       "32 51       \n",
       "33 52       \n",
       "34 53       \n",
       "35 54       \n",
       "36 55       \n",
       "37 56       \n",
       "38 57       \n",
       "39 58       \n",
       "40 59       \n",
       "41 60       \n",
       "42 61       \n",
       "43 62       \n",
       "44 63       \n",
       "45 64       \n",
       "46 65       "
      ]
     },
     "metadata": {},
     "output_type": "display_data"
    },
    {
     "data": {
      "image/png": "[encoded data removed]",
      "text/plain": [
       "plot without title"
      ]
     },
     "metadata": {
      "image/png": {
       "height": 420,
       "width": 420
      }
     },
     "output_type": "display_data"
    }
   ],
   "source": [
    "# Question 4.2\n",
    "\n",
    "library(\"readxl\")\n",
    "\n",
    "Lab4data <- read_excel(\"MATPMD1LabSession4Data.xlsx\", range=\"K1:L21\")\n",
    "attach(Lab4data)\n",
    "\n",
    "# The columns of data for Q5 can now be accessed by variable names\n",
    "# Q5Process and Q5Life\n",
    "\n",
    "#a)\n",
    "plot(Q2Process,Q2Life,xlim=c(20,65),ylim=c(1800,6000))\n",
    "\n",
    "# find the regression line\n",
    "lm5<-lm(Q2Life~Q2Process)\n",
    "# and plot the regression line on our original plot\n",
    "abline(lm5,lwd=2,col=\"blue\")\n",
    "\n",
    "#b)\n",
    "summary(lm5)\n",
    "# Our R^2 value is 0.8618 and the p-value for our F-test is < 0.00001 \n",
    "# so our regression is significant. Note, how, the points at either end\n",
    "# of the plot are not quite so well fitted. \n",
    "\n",
    "#c) find predicted and confidence interval values for 33 \n",
    "newdata<-data.frame(Q2Process=c(33))\n",
    "\n",
    "preds33<-predict(lm5,new=newdata,interval=\"prediction\")\n",
    "preds33\n",
    "confs33<-predict(lm5,new=newdata,interval=\"confidence\")\n",
    "\n",
    "# plot the predicted value lwd=4 makes it a bit point\n",
    "points(33,preds33[1,\"fit\"],lwd=4)\n",
    "# the confidence interval, lwd=2 makes a wider bar\n",
    "segments(33,confs33[1,\"lwr\"],33,confs33[1,\"upr\"],lwd=3)\n",
    "# and the prediction interval as well with a dashed line\n",
    "segments(33,preds33[1,\"lwr\"],33,preds33[1,\"upr\"],col=\"black\",lwd=2,lty=2)\n",
    "# and put a little whisker at the end of both the confidence and the \n",
    "# prediction intervals.\n",
    "# There is probably a much cleaner way of doing this\n",
    "lines(c(33-0.75,33+0.75),c(preds33[1,\"lwr\"],preds33[1,\"lwr\"]))\n",
    "lines(c(33-0.75,33+0.75),c(preds33[1,\"upr\"],preds33[1,\"upr\"]))\n",
    "lines(c(33-0.75,33+0.75),c(confs33[1,\"lwr\"],confs33[1,\"lwr\"]))\n",
    "lines(c(33-0.75,33+0.75),c(confs33[1,\"upr\"],confs33[1,\"upr\"]))\n",
    "\n",
    "#d) find predicted and confidence interval values for 33 \n",
    "newdata<-data.frame(Q2Process=c(60))\n",
    "\n",
    "preds60<-predict(lm5,new=newdata,interval=\"prediction\")\n",
    "confs60<-predict(lm5,new=newdata,interval=\"confidence\")\n",
    "\n",
    "# plot the predicted value lwd=4 makes it a bit point\n",
    "points(60,preds60[1,\"fit\"],lwd=4)\n",
    "# the confidence interval, lwd=4 makes a wider bar\n",
    "segments(60,confs60[1,\"lwr\"],60,confs60[1,\"upr\"],lwd=3)\n",
    "# and the prediction interval as well with a solid line\n",
    "segments(60,preds60[1,\"lwr\"],60,preds60[1,\"upr\"],col=\"black\",lwd=2,lty=2)\n",
    "# and put a little whisker at the end of both the confidence and the \n",
    "# prediction intervals.\n",
    "# There is probably a much cleaner way of doing this\n",
    "lines(c(60-0.75,60+0.75),c(preds60[1,\"lwr\"],preds60[1,\"lwr\"]))\n",
    "lines(c(60-0.75,60+0.75),c(preds60[1,\"upr\"],preds60[1,\"upr\"]))\n",
    "lines(c(60-0.75,60+0.75),c(confs60[1,\"lwr\"],confs60[1,\"lwr\"]))\n",
    "lines(c(60-0.75,60+0.75),c(confs60[1,\"upr\"],confs60[1,\"upr\"]))\n",
    "\n",
    "\n",
    "# You could also plot confidence and prediction band for the whole interval\n",
    "newdata<-data.frame(Q2Process=seq(20,65))\n",
    "\n",
    "preds<-predict(lm5,new=newdata,interval=\"prediction\")\n",
    "confs<-predict(lm5,new=newdata,interval=\"confidence\")\n",
    "\n",
    "# and plot the predicted interval lower range with dashed line (lty=2)\n",
    "lines(newdata$Q2Process,preds[,\"lwr\"],lty=2)\n",
    "# predicted interval upper range\n",
    "lines(newdata$Q2Process,preds[,\"upr\"],lty=2)\n",
    "\n",
    "# and plot the confidence interval lower range\n",
    "lines(newdata$Q2Process,confs[,\"lwr\"])\n",
    "# predicted upper range\n",
    "lines(newdata$Q2Process,confs[,\"upr\"])\n",
    "\n",
    "# and remove attacment we made in this environment of variable names to\n",
    "# column names\n",
    "detach(Lab4data)\n",
    "\n",
    "preds33\n",
    "newdata"
   ]
  },
  {
   "cell_type": "code",
   "execution_count": null,
   "id": "e1c933e3",
   "metadata": {},
   "outputs": [],
   "source": []
  }
 ],
 "metadata": {
  "kernelspec": {
   "display_name": "R",
   "language": "R",
   "name": "ir"
  },
  "language_info": {
   "codemirror_mode": "r",
   "file_extension": ".r",
   "mimetype": "text/x-r-source",
   "name": "R",
   "pygments_lexer": "r",
   "version": "3.6.3"
  }
 },
 "nbformat": 4,
 "nbformat_minor": 5
}
