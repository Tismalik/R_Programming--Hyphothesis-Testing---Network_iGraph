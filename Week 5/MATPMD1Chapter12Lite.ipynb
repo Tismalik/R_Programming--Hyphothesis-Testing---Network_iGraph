{
 "cells": [
  {
   "cell_type": "markdown",
   "metadata": {
    "slideshow": {
     "slide_type": "slide"
    }
   },
   "source": [
    "<html>\n",
    "<head>\n",
    "    <h2>University of Stirling</h2>\n",
    "    <h2>Computing Science and Mathematics</h2>\n",
    "    <h2>MATPMD1 Statistics for Data Science</h2>\n",
    "    <h1>Chapter 12 Sampling and Power\n",
    "    </h1>\n",
    "</head>"
   ]
  },
  {
   "cell_type": "markdown",
   "metadata": {
    "slideshow": {
     "slide_type": "slide"
    }
   },
   "source": [
    "<body>\n",
    "    <p>In many cases we will be looking at problems where we wish to draw\n",
    "general conclusions on the basis of a limited amount of data.\n",
    "    </p>\n",
    "    <p>Therefore, the conclusions\n",
    "will be subject to uncertainty. Inference is the branch of statistics which\n",
    "attempts to quantify the uncertainty using probability and related \n",
    "measures.\n",
    "    </p>"
   ]
  },
  {
   "cell_type": "markdown",
   "metadata": {
    "slideshow": {
     "slide_type": "slide"
    }
   },
   "source": [
    "<body>\n",
    "    <p>These questions will be investigated using <strong>tests of significance</strong>. \n",
    "    </p>\n",
    "    <p>Assuming the model is satisfactory we may wish to obtain estimates of unknown quantities, called <strong>parameters</strong>, which appear in the model.\n",
    "    </p>\n",
    "    <p>The estimates of the parameters will be subject to error and determination of the magnitude of the error in estimation is an essential part of the estimation problem.\n",
    "    </p>\n",
    "</body>"
   ]
  },
  {
   "cell_type": "markdown",
   "metadata": {
    "slideshow": {
     "slide_type": "slide"
    }
   },
   "source": [
    "<body>\n",
    "    <p>Statisticians are also concerned with the design of appropriate methods of data collection.\n",
    "    </p>\n",
    "    <p>One very important aspect of 'statistics' is the choice of the sample.\n",
    "    </p>\n",
    "</body>"
   ]
  },
  {
   "cell_type": "markdown",
   "metadata": {
    "slideshow": {
     "slide_type": "notes"
    }
   },
   "source": [
    "<body>\n",
    "    <p>In many cases we will want to use statistical inference to extrapolate conclusions from a <strong>sample</strong> and apply them to a wider population. For example, the use of opinion polls or a survey of\n",
    "television viewing would usually be conducted only in a subset of the <strong>population</strong>.\n",
    "    </p>\n",
    "    <p>This is a very common type of study as it is usually not feasible to examine the entire 'population of interest' so information is collected on a 'representative sample' and we use the results from the sample to infer the results for the population.\n",
    "    </p>\n",
    "    <p>One very important aspect of 'statistics' is the choice of the sample.\n",
    "    </p>\n",
    "</body>"
   ]
  },
  {
   "cell_type": "markdown",
   "metadata": {
    "slideshow": {
     "slide_type": "slide"
    }
   },
   "source": [
    " <body>\n",
    "    <h2>12.1 Sampling and Estimation\n",
    "    </h2>\n",
    "    <p>Statistical inference allows us to reach conclusions about a population from a sample. In practice, there may be any of a number of reasons why we only use a sample from the population: \n",
    "    </p>\n",
    "    <ul>\n",
    "        <li>it is expensive or time consuming to examine the entire population\n",
    "        </li>\n",
    "        <li>it is impossible to measure the whole population. \n",
    "        </li>\n",
    "    </ul>\n",
    "</body>"
   ]
  },
  {
   "cell_type": "markdown",
   "metadata": {
    "slideshow": {
     "slide_type": "slide"
    }
   },
   "source": [
    "<body>\n",
    "    <p>If sampling is going to be worthwhile then it must be a\n",
    "representative sample so that this will avoid bias in the sample giving\n",
    "a unbiased estimate of the population parameter of interest.\n",
    "    </p>\n",
    "    <p>Can we collect data from a representative sample?\n",
    "    </p>\n",
    "</body>"
   ]
  },
  {
   "cell_type": "markdown",
   "metadata": {
    "slideshow": {
     "slide_type": "slide"
    }
   },
   "source": [
    "<body>\n",
    "    <ul>\n",
    "        <li>It can be difficult:\n",
    "            <ul>\n",
    "                <li>the type of question; \n",
    "                </li>\n",
    "                <li>type of data; \n",
    "                </li>\n",
    "                <li>population.\n",
    "                </li>\n",
    "            </ul>\n",
    "        </li>\n",
    "    </ul>\n",
    "</body>"
   ]
  },
  {
   "cell_type": "markdown",
   "metadata": {
    "slideshow": {
     "slide_type": "slide"
    }
   },
   "source": [
    "<body>\n",
    "    <ul>\n",
    "        <li>Ideally we need to choose the sample at random. \n",
    "        </li>\n",
    "        <li>Note this does <strong>not</strong> mean that the choice is haphazard but that each item (person, company, etc.) in the population has an equal chance of being chosen.\n",
    "        </li>\n",
    "    </ul>\n",
    "</body>"
   ]
  },
  {
   "cell_type": "markdown",
   "metadata": {
    "slideshow": {
     "slide_type": "slide"
    }
   },
   "source": [
    "<body>\n",
    "    <p>Possible methods for choosing at random are:\n",
    "        <ul class=\"nobull\">\n",
    "            <li>Tossing a coin, Rolling a dice, Spinning a roulette wheel\n",
    "            </li>\n",
    "            <li>Random Number Tables\n",
    "            </li>\n",
    "            <li>Random Number Generator on a computer\n",
    "            </li>\n",
    "        </ul>\n",
    "    <p>Each of the above can give a random choice if set up correctly. However, it is not always as simple as this which leads us on to sampling methods.\n",
    "    </p>\n",
    "</body>"
   ]
  },
  {
   "cell_type": "markdown",
   "metadata": {
    "slideshow": {
     "slide_type": "slide"
    }
   },
   "source": [
    " <body>\n",
    "    <h2>12.2 Sampling Methods\n",
    "    </h2>\n",
    "    <p>The following is a top-level description of a number of sampling methods that you may encounter and need to utilise in designing an experiment.\n",
    "    </p>\n",
    "</body>"
   ]
  },
  {
   "cell_type": "markdown",
   "metadata": {
    "slideshow": {
     "slide_type": "slide"
    }
   },
   "source": [
    "<body>\n",
    "    <h3>12.2.1 Simple Random Sampling\n",
    "    </h3>\n",
    "    <p>All items have an equal chance of being chosen <strong>but</strong> this can be expensive and difficult. For example, if the 'population' is large and in different locations.\n",
    "</body>"
   ]
  },
  {
   "cell_type": "markdown",
   "metadata": {
    "slideshow": {
     "slide_type": "slide"
    }
   },
   "source": [
    "<body>\n",
    "    <h3>12.2.2 Systematic Random Sampling\n",
    "    </h3>\n",
    "    <p>The starting point is random but then measure every $n$th item.\n",
    "    </p>\n",
    "    <p>Note that if you're looking at households and select every 10th one, you need to check that you don't always get a particular type of housing like a basement flat.\n",
    "    </p>\n",
    "</body>"
   ]
  },
  {
   "cell_type": "markdown",
   "metadata": {
    "slideshow": {
     "slide_type": "slide"
    }
   },
   "source": [
    "<body>\n",
    "    <h3>12.2.3 Stratified Random Sampling\n",
    "    </h3>\n",
    "    <p>We use this method when the population is not homogeneous. It partitions the population into natural subgroups which results in more homogeneous strata, reducing the variability which implies that the sample size need be smaller. This is useful if specific factors which influence results can be identified. \n",
    "    </p>\n",
    "    <p>For example, estimating the turnover in a particular sector of industry in given years where there are 8 large firms, 20 medium firms, 1000 small firms. Choose the size of the sample according to the relative importance of each group.\n",
    "    </p>\n",
    "</body>"
   ]
  },
  {
   "cell_type": "markdown",
   "metadata": {
    "slideshow": {
     "slide_type": "slide"
    }
   },
   "source": [
    "<body>\n",
    "    <h3>12.2.4 Cluster Sampling\n",
    "    </h3>\n",
    "    <p>For this method population clusters are randomly selected throughout the 'population'. Note that as groups the clusters are homogeneous, but there should be non-homogeneity within each cluster. \n",
    "    </p>\n",
    "    <p>For example, shops widely spread across the country.\n",
    "    </p>\n",
    "</body>"
   ]
  },
  {
   "cell_type": "markdown",
   "metadata": {
    "slideshow": {
     "slide_type": "slide"
    }
   },
   "source": [
    "<body>\n",
    "    <h3>12.2.5 Multistage Sampling\n",
    "    </h3>\n",
    "    <p>This method of sampling involves nesting a number of stages of cluster sampling.\n",
    "    </p>\n",
    "    <p>For example, consider nationwide Opinion Polls. First the whole population is divided into Counties. Then each County is partitioned into Towns. Then further divisions can be made into Streets and then even Houses. Remember that at each stage the sample within each cluster is chosen randomly.\n",
    "    </p>\n",
    "</body>"
   ]
  },
  {
   "cell_type": "markdown",
   "metadata": {
    "slideshow": {
     "slide_type": "slide"
    }
   },
   "source": [
    "<body>\n",
    "    <h2>12.3 Level of Acceptable Mistakes\n",
    "    </h2>\n",
    "    <p>Consider the situation when a pension fund manager gets a return of 15% on investments. This is better than the average return achieved.\n",
    "    </p>\n",
    "    <p>He claims that he is 'superior'!\n",
    "    </p>\n",
    "    <p>Does he have any real evidence for his opinion? He could have achieved this return purely by chance.\n",
    "    </p>\n",
    "</body>"
   ]
  },
  {
   "cell_type": "markdown",
   "metadata": {
    "slideshow": {
     "slide_type": "slide"
    }
   },
   "source": [
    "<body>\n",
    "    <p>We may know the mean and standard deviation of the population and we want to check the 'likelihood' of our result coming from this\n",
    "population.\n",
    "    </p>\n",
    "    <p>So the <strong>Question</strong> we are asking is: Is it likely that our sample result is consistent with it being a member of the population?\n",
    "    </p>\n",
    "</body>"
   ]
  },
  {
   "cell_type": "markdown",
   "metadata": {
    "slideshow": {
     "slide_type": "slide"
    }
   },
   "source": [
    "<body>\n",
    "    <h3>12.3.1 Significance Level\n",
    "    </h3>\n",
    "    <p>So, our questions is what chance of being wrong will we accept? \n",
    "    </p>\n",
    "    <p>In terms of the jargon, the probability of finding a difference when there if no difference is called the <strong>Significance Level.</strong>\n",
    "    </p>\n",
    "    <p>This is usually set at 0.05 or 0.01, or in percentage terms 5% or 1%.\n",
    "    </p>\n",
    "</body>"
   ]
  },
  {
   "cell_type": "markdown",
   "metadata": {
    "slideshow": {
     "slide_type": "slide"
    }
   },
   "source": [
    "<body>\n",
    "    <h2>12.4 Types of Error\n",
    "    </h2>\n",
    "    <p>When we decide on the significance (confidence) level of a test we are setting the limit of our rejecting the null hypothesis when we should not.\n",
    "    </p>\n",
    "</body>"
   ]
  },
  {
   "cell_type": "markdown",
   "metadata": {
    "slideshow": {
     "slide_type": "slide"
    }
   },
   "source": [
    "<body>\n",
    "    <p>However, this is not the only possible source of error. Consider the following:\n",
    "    <table>\n",
    "        <tr>\n",
    "            <td></td><td>True Situation</td><td></td>\n",
    "        </tr>\n",
    "        <tr>\n",
    "            <td>Decision</td><td>$H_0$ True</td><td>$H_0$ False</td>\n",
    "        </tr>\n",
    "        <tr>\n",
    "            <td>Not Reject $H_0$</td><td>&#10004;</td><td><strong>Error</strong></td>\n",
    "        </tr>\n",
    "        <tr>\n",
    "            <td>Reject $H_0$</td><td><strong>Error</strong></td><td>&#10004;</td>\n",
    "        </tr>\n",
    "    </table>\n",
    "</body>"
   ]
  },
  {
   "cell_type": "markdown",
   "metadata": {
    "slideshow": {
     "slide_type": "slide"
    }
   },
   "source": [
    "<body>\n",
    "    <h3>12.4.1 Type I and Type II Errors\n",
    "    </h3>\n",
    "    <p>When we decide on the significance (confidence) level of a test we are setting the limit of our rejecting the null hypothesis when we should not. This is called a <strong>Type I Error</strong> and is also known as <strong>$\\alpha$</strong>.\n",
    "    </p>\n",
    "    <p>The probability of not rejecting the null hypothesis when we should is called a <strong>Type II Error</strong> and is also known as <strong>$\\beta$</strong>.\n",
    "    </p>\n",
    "</body>"
   ]
  },
  {
   "cell_type": "markdown",
   "metadata": {
    "slideshow": {
     "slide_type": "slide"
    }
   },
   "source": [
    "<body>\n",
    "    <p>In practice, we will want to keep both errors as small as possible. The Type I Error is usually set to either 0.05 or 0.01 (as the significance level).\n",
    "    </p>\n",
    "</body>"
   ]
  },
  {
   "cell_type": "markdown",
   "metadata": {
    "slideshow": {
     "slide_type": "slide"
    }
   },
   "source": [
    "<body>\n",
    "    <h3>12.4.2 Power\n",
    "    </h3>\n",
    "    <p>The Type II Error ($\\beta$) is controlled by choosing a suitable sample size. Note that the <strong>power</strong> of a test, calculated by $1-\\beta$, is the probability that you reject the null hypothesis when we should. We want this to be as large as possible. If planning a study, ideally, we would want to have the power of the test to be at least 80% (0.8).\n",
    "    </p>\n",
    "</body>"
   ]
  },
  {
   "cell_type": "markdown",
   "metadata": {
    "slideshow": {
     "slide_type": "slide"
    }
   },
   "source": [
    "<body>\n",
    "    <h2>12.5 Power of a Test and Sample Size\n",
    "    </h2>\n",
    "    <p>For continuous data the following are all inter-related:\n",
    "    </p>\n",
    "    <ul class=\"nobull\">\n",
    "        <li>The number of observations (sample size)\n",
    "        </li>\n",
    "        <li>Type I Error\n",
    "        </li>\n",
    "        <li>The difference you wish to find (or have found)\n",
    "        </li>\n",
    "        <li>The variability in response\n",
    "        </li>\n",
    "        <li>The Power\n",
    "        </li>\n",
    "    </ul>\n",
    "    <p>In practice, we would want to calculate either the sample size required to give a power of at least 80% (that is an 80% chance of finding a real difference or the power achieved for a given sample size.)\n",
    "    </p>\n",
    "</body>"
   ]
  },
  {
   "cell_type": "markdown",
   "metadata": {
    "slideshow": {
     "slide_type": "notes"
    }
   },
   "source": [
    "<body>\n",
    "    <h3>12.5.1 Sample Size Calculation (i)\n",
    "    </h3>\n",
    "    <p>Consider a situation with Two Independent Groups and the Variable of Interest is continuous.\n",
    "    </p>\n",
    "    <table>\n",
    "        <colgroup>\n",
    "            <col style=\"width: 30%;\">\n",
    "            <col style=\"width: 70%;\">\n",
    "        </colgroup>\n",
    "        <tr>\n",
    "            <td>Method of analysis</td>\n",
    "            <td style = \"text-align:left;\">Unpaired t-test</td>\n",
    "        </tr>\n",
    "        <tr>\n",
    "            <td></td>\n",
    "            <td style = \"text-align:left;\">2-sided alternative hypothesis</td>\n",
    "        </tr>\n",
    "        <tr>\n",
    "            <td>Sample size</td>\n",
    "            <td style = \"text-align:left;\">Either refer to published nomogram to calculate (Altman DG. How large a sample? In: Gore SM, Altman DG, eds. Statistics in practice. London: BMJ, 1982:6-8.)</td>\n",
    "        </tr>\n",
    "        <tr>\n",
    "            <td></td>\n",
    "            <td style = \"text-align:left;\">Or suppose the mean response in group 1 is $\\mu_1$ and the mean response in group 2 is $\\mu_2$. Let $s$ be the common standard deviation, then for significance level $\\alpha$ and power $1-\\beta$ the approximate number of observations per group is:<br>\n",
    "                         $n=\\dfrac{2\\left(Z_{\\alpha/2}+Z_{\\beta}\\right)^2\\sigma^2}{\\delta^2}$<br>\n",
    "            where<br>\n",
    "            $\\delta = \\mu_2-\\mu_1$<br>\n",
    "            $Z_{\\alpha/2} = $ Z score for $\\alpha/2$ so that if $\\alpha=0.05$ then $Z_{\\alpha/2}=1.96$<br>\n",
    "            $Z_{\\beta} = $ Z score for $\\beta$ so that if $\\beta=0.05$ then $Z_{\\beta}=1.645$<br>\n",
    "            Note the total number of subjects $N = 2 \\times n$</td>\n",
    "        </tr>\n",
    "    </table>\n",
    "</body>"
   ]
  },
  {
   "cell_type": "markdown",
   "metadata": {
    "slideshow": {
     "slide_type": "notes"
    }
   },
   "source": [
    "<body>\n",
    "    <h3>12.5.2 Sample Size Calculation (ii)\n",
    "    </h3>\n",
    "    <p>Now consider the situation with two Related Groups and the Variable of Interest is continuous.\n",
    "    </p>\n",
    "    <table>\n",
    "        <colgroup>\n",
    "            <col style=\"width: 30%;\">\n",
    "            <col style=\"width: 70%;\">\n",
    "        </colgroup>\n",
    "        <tr>\n",
    "            <td>Method of analysis</td>\n",
    "            <td style = \"text-align:left;\">Paired t-test</td>\n",
    "        </tr>\n",
    "        <tr>\n",
    "            <td></td>\n",
    "            <td style = \"text-align:left;\">2-sided alternative hypothesis</td>\n",
    "        </tr>\n",
    "        <tr>\n",
    "            <td>Sample size</td>\n",
    "            <td style = \"text-align:left;\">Suppose the mean difference is $\\delta$ and this has a standard deviation of $\\sigma_d$. Then with power $1-\\beta$ and significance level $\\alpha$ the number of subjects required in the trial is approximately:<br>\n",
    "                         $n=\\dfrac{2\\left(Z_{\\alpha/2}+Z_{\\beta}\\right)^2\\sigma_d^2}{\\delta^2}$<br>\n",
    "            where $\\delta$, $Z_{\\alpha/2}$ and $Z_{\\beta}$ are defined as above<br>\n",
    "            Note the total number of subjects $N = n!$</td>\n",
    "        </tr>\n",
    "    </table>\n",
    "</body>"
   ]
  },
  {
   "cell_type": "markdown",
   "metadata": {
    "slideshow": {
     "slide_type": "notes"
    }
   },
   "source": [
    "<body>\n",
    "    <h3>12.5.3 Sample Size Calculation (iii)\n",
    "    </h3>\n",
    "    <p>Now consider the situation with two Independent groups and the Variable of Interest is a proportion.\n",
    "    </p>\n",
    "    <table>\n",
    "        <colgroup>\n",
    "            <col style=\"width: 30%;\">\n",
    "            <col style=\"width: 70%;\">\n",
    "        </colgroup>\n",
    "        <tr>\n",
    "            <td>Method of analysis</td>\n",
    "            <td style = \"text-align:left;\">Comparison of proportions ($\\mathcal{X}^2$-test)</td>\n",
    "        </tr>\n",
    "        <tr>\n",
    "            <td></td>\n",
    "            <td style = \"text-align:left;\">2-sided alternative hypothesis</td>\n",
    "        </tr>\n",
    "        <tr>\n",
    "            <td>Sample size</td>\n",
    "            <td style = \"text-align:left;\">Either refer to published nomogram to calculate (Altman DG. How large a sample? In: Gore SM, Altman DG, eds. Statistics in practice. London: BMJ, 1982:6-8.)</td>\n",
    "        </tr>\n",
    "        <tr>\n",
    "            <td></td>\n",
    "            <td style = \"text-align:left;\">Or suppose we wish to detect a difference in proportions $\\delta=\\pi_2-\\pi_1$, where $\\pi_2 \\gt \\pi_1$, with significance level $\\alpha$ and power $1-\\beta$. Then the number in each group should be at least:<br>\n",
    "                         $n=\\dfrac{2\\left(Z_{\\alpha/2}+Z_{\\beta}\\right)^2\\left[\\pi_1(1-\\pi_1)+\\pi_2(1-\\pi_2)\\right]}{\\delta^2}$<br>\n",
    "            where $\\delta$, $Z_{\\alpha/2}$ and $Z_{\\beta}$ are defined as above\n",
    "        </tr>\n",
    "    </table>\n",
    "</body>"
   ]
  }
 ],
 "metadata": {
  "celltoolbar": "Slideshow",
  "kernelspec": {
   "display_name": "R",
   "language": "R",
   "name": "ir"
  },
  "language_info": {
   "codemirror_mode": "r",
   "file_extension": ".r",
   "mimetype": "text/x-r-source",
   "name": "R",
   "pygments_lexer": "r",
   "version": "3.6.3"
  }
 },
 "nbformat": 4,
 "nbformat_minor": 4
}
