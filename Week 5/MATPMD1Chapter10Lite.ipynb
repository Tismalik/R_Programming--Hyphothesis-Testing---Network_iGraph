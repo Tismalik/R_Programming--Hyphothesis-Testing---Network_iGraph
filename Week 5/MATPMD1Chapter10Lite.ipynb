{
 "cells": [
  {
   "cell_type": "markdown",
   "metadata": {
    "slideshow": {
     "slide_type": "slide"
    }
   },
   "source": [
    "<html>\n",
    "<head>\n",
    "    <h2>University of Stirling</h2>\n",
    "    <h2>Computing Science and Mathematics</h2>\n",
    "    <h2>MATPMD1 Statistics for Data Science</h2>\n",
    "    <h1>Chapter 10 Multiple Linear Regression\n",
    "    </h1>\n",
    "</head>"
   ]
  },
  {
   "cell_type": "markdown",
   "metadata": {
    "slideshow": {
     "slide_type": "slide"
    }
   },
   "source": [
    "<body>\n",
    "    <p>In the previous chapter we examined simple linear regression which is concerned with the relationship between the value of one variable and the value of another variable in which this relationship is represented by a straight line.\n",
    "    </p>\n",
    "    <p>It is often useful to express the mean value of one variable in terms of not just one variable but of several others. Some examples will illustrate some slightly different purposes of this approach.\n",
    "    </p>\n",
    "</body>"
   ]
  },
  {
   "cell_type": "markdown",
   "metadata": {
    "slideshow": {
     "slide_type": "slide"
    }
   },
   "source": [
    "<body>\n",
    "    <p>(i) The primary purpose may be to study the effect on variable $Y$ of changes in a particular single variable $X_1$, but it may be recognised that $Y$ may be affected by several other variables $X_2, X_3, X_4,...$ The effect on $Y$ of simultaneous changes in $X_1, X_2, X_3, X_4,...$ must therefore be studied.\n",
    "    </p>\n",
    "</body>"
   ]
  },
  {
   "cell_type": "markdown",
   "metadata": {
    "slideshow": {
     "slide_type": "slide"
    }
   },
   "source": [
    "<body>\n",
    "    <p>For Example: In an analysis on data on respiratory function of workers in a particular industry, the effect of duration of exposure to a hazard may be of primary interest. However, respiratory function is affected by age and age is related to duration of exposure. The simultaneous effect on respiratory function of age and exposure must therefore be studied so\n",
    "that the effect on workers of a fixed age may be estimated.\n",
    "    </p>\n",
    "</body>"
   ]
  },
  {
   "cell_type": "markdown",
   "metadata": {
    "slideshow": {
     "slide_type": "slide"
    }
   },
   "source": [
    "<body>\n",
    "    <p>(ii) One may wish to derive insight into some causative mechanism by discovering which of a set of variables $X_1, X_2, X_3, X_4,...$ has apparently most influence on a dependent variable.\n",
    "    </p>\n",
    "</body>"
   ]
  },
  {
   "cell_type": "markdown",
   "metadata": {
    "slideshow": {
     "slide_type": "slide"
    }
   },
   "source": [
    "<body>\n",
    "    <p>For Example: By relating stillbirth rate simultaneously to a large number of variables describing towns - economic, social, meteorological or demographic, for instance - it may be possible to find which factors exert particular influence on the stillbirth rate.\n",
    "    </p>\n",
    "</body>"
   ]
  },
  {
   "cell_type": "markdown",
   "metadata": {
    "slideshow": {
     "slide_type": "slide"
    }
   },
   "source": [
    "<body>\n",
    "    <p>For Example: The study of variations in the cost per patient in different hospitals. This presumably depends markedly on the 'patient mix' - the proportion of different types of patient admitted - as well as other factors. \n",
    "    </p>\n",
    "    <p>A study of the simultaneous effect of many such variables\n",
    "may explain much of the variation in hospital costs, and, by drawing attention to particular hospitals whose high or low costs are out of line with prediction, may suggest new factors of importance.\n",
    "    </p>\n",
    "</body>"
   ]
  },
  {
   "cell_type": "markdown",
   "metadata": {
    "slideshow": {
     "slide_type": "slide"
    }
   },
   "source": [
    "<body>\n",
    "    <p>(iii) To predict the value of the dependent variable in future  individuals.\n",
    "    </p>\n",
    "</body>"
   ]
  },
  {
   "cell_type": "markdown",
   "metadata": {
    "slideshow": {
     "slide_type": "slide"
    }
   },
   "source": [
    "<body>\n",
    "    <p>For Example: After treatment of patients with advanced breast cancer by ablative procedures, prognosis is very uncertain. If future progress can be shown to depend on various variables available at the time of operation, it may be possible to predict which patients have a poor prognosis and to consider alternative methods of treatment for them.\n",
    "    </p>\n",
    "</body>"
   ]
  },
  {
   "cell_type": "markdown",
   "metadata": {
    "slideshow": {
     "slide_type": "slide"
    }
   },
   "source": [
    "<body>\n",
    "    <h2>10.1 Multiple Regression\n",
    "    </h2>\n",
    "    <p>The appropriate technique we use is called <strong>multiple regression</strong> (we will\n",
    "restrict our attention to the linear case). In general, the approach is to express the mean value of the $Y$ variable, usually called the <strong>dependent</strong> or <strong>response</strong> variable, in terms of the values of a set of other variables, usually called the <strong>independent</strong> or <strong>explanatory</strong> variables.\n",
    "    </p>\n",
    "</body>"
   ]
  },
  {
   "cell_type": "markdown",
   "metadata": {
    "slideshow": {
     "slide_type": "slide"
    }
   },
   "source": [
    "<body>\n",
    "    <h2>10.2 Multiple Linear Regression\n",
    "    </h2>\n",
    "    <p>The general form of the multiple linear regression equation is:\n",
    "    </p>\n",
    "    <p>$$\\begin{equation}Y = \\alpha + \\beta_1 X_1 + \\beta_2 X_2 + ...\\beta_k X_k  \\label{eq:101} \\tag{10.1}\\end{equation}$$\n",
    "    </p>\n",
    "    <p>We want to find the values of which give the highest possible correlation coefficient between the observed values and the predicted values of $Y$. When this is achieved we have found the multiple correlation coefficient, $R$.\n",
    "    </p>\n",
    "</body>"
   ]
  },
  {
   "cell_type": "markdown",
   "metadata": {
    "slideshow": {
     "slide_type": "slide"
    }
   },
   "source": [
    "<body>\n",
    "    <h3>10.2.1 Multiple Linear Regression Least Squares Estimates\n",
    "    </h3>\n",
    "    <p>As with the case of a single independent $X$ variable, the total sum of squares for the $Y$ variable is\n",
    "    <p>$$\\begin{equation}\\sum\\left(Y_i-\\bar{Y}\\right)^2 = \\sum\\left(Y_i-\\hat{Y_i}\\right)^2 + \\sum\\left(\\hat{Y_i}-\\bar{Y}\\right)^2 \\label{eq:102} \\tag{10.2}\\end{equation}$$\n",
    "    </p>\n",
    "</body>"
   ]
  },
  {
   "cell_type": "markdown",
   "metadata": {
    "slideshow": {
     "slide_type": "slide"
    }
   },
   "source": [
    "<body>\n",
    "    <p>Remembering how we partitioned variation when we discussed ANOVA in Section 8.2, we can describe Equation 10.2 as,\n",
    "    </p>\n",
    "    <p>Total Variation = Unexplained Variation + Explained Variation\n",
    "    </p>\n",
    "    <p>ie.    Total SS = Residual SS + Regression SS\n",
    "    </p>\n",
    "</body>"
   ]
  },
  {
   "cell_type": "markdown",
   "metadata": {
    "slideshow": {
     "slide_type": "slide"
    }
   },
   "source": [
    "<body>\n",
    "    <p>We want to find the values of $\\alpha, \\beta_1, \\beta_2,... \\beta_k$ which minimise the residual sum of squares $\\sum\\left(Y_i-\\hat{Y_i}\\right)^2$.\n",
    "    </p>\n",
    "    <p>The best estimate of $\\alpha$, denoted by $\\hat{\\alpha}$, is given by\n",
    "    </p>\n",
    "    <p>$$\\begin{equation}\\hat{\\alpha} = \\bar{Y} - \\hat{\\beta_1}\\bar{X_1} - \\hat{\\beta_2}\\bar{X_2} - ... - \\hat{\\beta_k}\\bar{X_k} \\label{eq:103} \\tag{10.3}\\end{equation}$$\n",
    "    </p>\n",
    "</body>"
   ]
  },
  {
   "cell_type": "markdown",
   "metadata": {
    "slideshow": {
     "slide_type": "slide"
    }
   },
   "source": [
    "<body>\n",
    "    <p>The model is making the following assumptions:\n",
    "    </p>\n",
    "    <ul>\n",
    "        <li>Linearity: the relationship between $Y$ and each of the explanatory variables $X_1, X_2,... X_k$ is linear.\n",
    "        </li>\n",
    "        <li>Normality: the residuals are normally distributed with mean 0.\n",
    "        </li>\n",
    "        <li>Constant spread: the residuals have the same standard deviation for all values of $x$.\n",
    "        </li>\n",
    "        <li>Observations are independent.\n",
    "        </li>\n",
    "    </ul>\n",
    "</body>"
   ]
  },
  {
   "cell_type": "markdown",
   "metadata": {
    "slideshow": {
     "slide_type": "slide"
    }
   },
   "source": [
    "<body>\n",
    "    <h3>10.2.2 Multiple Linear Regression Two Independent variables\n",
    "    </h3>\n",
    "    <p>Here is an example of multiple linear regression with two explanatory variables. For example, a patient's blood pressure $(Y)$ modelled in terms of their age $(X_1)$ and weight $(X_2)$. The regression equation is:\n",
    "    </p>\n",
    "    <p>$$\\begin{equation} Y = \\alpha + \\beta_1 X_1 + \\beta_2 X_2 \\end{equation}$$\n",
    "    </p>\n",
    "</body>"
   ]
  },
  {
   "cell_type": "markdown",
   "metadata": {
    "slideshow": {
     "slide_type": "slide"
    }
   },
   "source": [
    "<body>\n",
    "    <p>The best estimates of $\\beta_{1}$ and $\\beta_{2}$ are given by:\n",
    "    </p>\n",
    "    <p>$$\\begin{equation} Y = \\alpha + \\beta_1 X_1 + \\beta_2 X_2 \\end{equation}$$\n",
    "    </p>\n",
    "    <p>$$\\begin{equation} \\hat{\\beta_{1}} = \\dfrac{S_{X_{1}Y}S_{X_{2}X_{2}}-S_{X_{2}Y}S_{X_{1}X_{2}}}{S_{X_{1}X_{1}}S_{X_{2}X_{2}}-\\left[S_{X_{1}X_{2}}\\right]^2} \\end{equation}$$\n",
    "    </p>\n",
    "    <p>and $$\\begin{equation} \\hat{\\beta_{2}} = \\dfrac{S_{X_{2}Y}S_{X_{1}X_{1}}-S_{X_{1}Y}S_{X_{1}X_{2}}}{S_{X_{1}X_{1}}S_{X_{2}X_{2}}-\\left[S_{X_{1}X_{2}}\\right]^2} \\end{equation}$$\n",
    "    </p>\n",
    "</body>"
   ]
  },
  {
   "cell_type": "markdown",
   "metadata": {
    "slideshow": {
     "slide_type": "slide"
    }
   },
   "source": [
    "<body>\n",
    "    <p>where\n",
    "    <p>$$\\begin{align} S_{YY} &= \\sum\\left(Y-\\bar{Y}\\right)^2 \\\\\n",
    "                       S_{X_{1}X_{1}} &= \\sum\\left(X_1-\\bar{X_1}\\right)^2 \\\\\n",
    "                       S_{X_{2}X_{2}} &= \\sum\\left(X_2-\\bar{X_2}\\right)^2 \\\\\n",
    "                       S_{X_{1}Y} &= \\sum\\left(X_1-\\bar{X_1}\\right)\\left(Y-\\bar{Y}\\right) \\\\\n",
    "                       S_{X_{2}Y} &= \\sum\\left(X_2-\\bar{X_2}\\right)\\left(Y-\\bar{Y}\\right) \\\\\n",
    "                       S_{X_{1}X_{2}} &= \\sum\\left(X_1-\\bar{X_1}\\right)\\left(X_2-\\bar{X_2}\\right) \\\\\n",
    "         \\end{align}$$\n",
    "    </p>\n",
    "</body>"
   ]
  },
  {
   "cell_type": "markdown",
   "metadata": {
    "slideshow": {
     "slide_type": "slide"
    }
   },
   "source": [
    "<body>\n",
    "    <p>The best estimate of $\\alpha$ is given by :\n",
    "    </p>\n",
    "    <p>$$\\begin{equation} \\hat{\\alpha} = \\bar{Y} - \\hat{\\beta_1}\\bar{X_1} - \\hat{\\beta_2}\\bar{X_2} \\end{equation}$$\n",
    "    </p>\n",
    "</body>"
   ]
  },
  {
   "cell_type": "markdown",
   "metadata": {
    "slideshow": {
     "slide_type": "slide"
    }
   },
   "source": [
    "<body>\n",
    "    <p>The meaning of a regression coefficient in multiple regression is as\n",
    "follows:\n",
    "    </p>\n",
    "    <p>If all variables except $X_i$ are held constant then $\\beta_i$ is the amount by which $Y$ increases with a unit increase in $X_i$.\n",
    "    </p>\n",
    "</body>"
   ]
  },
  {
   "cell_type": "markdown",
   "metadata": {
    "slideshow": {
     "slide_type": "slide"
    }
   },
   "source": [
    "<body>\n",
    "    <p>The regression sum of squares, $SS_{reg}$, is given by:\n",
    "    <p>$$\\begin{align} SS_{reg} &= \\sum\\left(\\hat{Y}-\\bar{Y}\\right)^2 \\\\\n",
    "                       &= \\hat{\\beta_1}S_{X_{1}Y} + \\hat{\\beta_2}S_{X_{2}Y} + ... + \\hat{\\beta_k}S_{X_{k}Y} \\end{align}$$\n",
    "    </p>\n",
    "</body>"
   ]
  },
  {
   "cell_type": "markdown",
   "metadata": {
    "slideshow": {
     "slide_type": "slide"
    }
   },
   "source": [
    "<body>\n",
    "    <p>Since $SS_{tot} = SS_{reg} + SS_{res}$\n",
    "    </p>\n",
    "    <p>$$\\begin{align} SS_{res} &= SS_{tot} - SS_{reg} \\\\\n",
    "                       &= \\sum{\\left(Y-\\bar{Y}\\right)^2} - \\sum{\\left(\\hat{Y}-\\bar{Y}\\right)^2} \\\\\n",
    "                       &= S_{YY} - \\left[\\hat{\\beta_1}S_{X_{1}Y} + \\hat{\\beta_2}S_{X_{2}Y} + ... + \\hat{\\beta_k}S_{X_{k}Y}\\right] \\end{align}$$\n",
    "    </p>\n",
    "</body>"
   ]
  },
  {
   "cell_type": "markdown",
   "metadata": {
    "slideshow": {
     "slide_type": "slide"
    }
   },
   "source": [
    "<body>\n",
    "    <p>The square of the multiple correlation coefficient which is known as the <strong>Coefficient of Determination</strong> and denoted by $R^2$ is given by:\n",
    "    </p>\n",
    "    <p>$$\\begin{align} R^2 &= \\dfrac{\\mathrm{Explained Variation}}{\\mathrm{Total Variation}} \\\\\n",
    "                           &= \\dfrac{SS_{reg}}{SS_{tot}} \\end{align}$$\n",
    "    </p>\n",
    "</body>"
   ]
  },
  {
   "cell_type": "markdown",
   "metadata": {
    "slideshow": {
     "slide_type": "slide"
    }
   },
   "source": [
    "<body>\n",
    "    <p>The <strong>Multiple Correlation Coefficient, $R$,</strong> is\n",
    "    </p>\n",
    "    <p>$$\\begin{align} R = \\sqrt{\\dfrac{SS_{reg}}{SS_{tot}}} \\end{align}$$\n",
    "    </p>\n",
    "</body>"
   ]
  },
  {
   "cell_type": "markdown",
   "metadata": {
    "slideshow": {
     "slide_type": "slide"
    }
   },
   "source": [
    "<body>\n",
    "    <h3>10.2.3 The Standard Error of $\\beta_i$\n",
    "    </h3>\n",
    "    <p>The Standard Error of $\\beta_i$ when several X variables are involved is given by\n",
    "    </p>\n",
    "    <p>$$\\begin{align} s_{\\beta_{i}} = \\sqrt{\\dfrac{MS_{res}}{S_{X_{i}X_{i}}\\left(1-R_{i}^2\\right)}} \\end{align}$$\n",
    "    </p>\n",
    "    <p>where $R_{i}^2$ is the squared multiple correlation coefficient of $X_i$ and the remaining X variables (so that in the case of two independent variables, $R_{i}^2 = r^2$ where $r$ is the correlation of $X_1$ and $X_2$) and,\n",
    "    </p>\n",
    "    <p>$$\\begin{align} MS_{res} = \\dfrac{SS_{res}}{n-k-1} \\end{align}$$\n",
    "    </p>\n",
    "</body>"
   ]
  },
  {
   "cell_type": "markdown",
   "metadata": {
    "slideshow": {
     "slide_type": "notes"
    }
   },
   "source": [
    "<body>\n",
    "    <p>Thus the 95% Confidence Interval for $\\beta_{i}$ is given by\n",
    "    </p>\n",
    "    <p>$$\\begin{align} \\beta_{i} \\pm t(n-k-1;0.025)s_{\\beta_{i}} \\end{align}$$\n",
    "    </p>\n",
    "</body>"
   ]
  },
  {
   "cell_type": "markdown",
   "metadata": {
    "slideshow": {
     "slide_type": "slide"
    }
   },
   "source": [
    "<body>\n",
    "    <h3>10.2.4 Test of Significance of $\\beta_i$\n",
    "    </h3>\n",
    "    <p>For a test of significance of a regression coefficient in a multiple linear regression we a have t-test which is essentially the same as the one we had for the regression with one $X$ variable.\n",
    "    </p>\n",
    "    <p>$$\\begin{align} \\mathrm{Hypotheses} \\quad & H_0 : \\beta_i = 0 \\\\\n",
    "                       & H_1 : \\beta_i \\neq 0 \\\\\n",
    "                       \\mathrm{Significance~Level} \\quad & 0.05 \\\\\n",
    "                       \\mathrm{Test~statistic} \\quad & t=\\dfrac{\\hat{\\beta_i}}{s_{\\beta_i}} \\\\\n",
    "                       \\mathrm{Rejection~region} \\quad & t(n-k-1; 0.025) \\end{align}$$\n",
    "    </p>\n",
    "</body>"
   ]
  },
  {
   "cell_type": "markdown",
   "metadata": {
    "slideshow": {
     "slide_type": "slide"
    }
   },
   "source": [
    "<body>\n",
    "    <p>The test of $β_i$ is simply a test to determine whether the regression sum of squares already accounted for by including the other $X$ variables is increased significantly by including the $X_i$ variable as the last variable in the model.\n",
    "    </p>\n",
    "</body>"
   ]
  },
  {
   "cell_type": "markdown",
   "metadata": {
    "slideshow": {
     "slide_type": "slide"
    }
   },
   "source": [
    "<body>\n",
    "    <h3>10.2.5 Test of Significance of $R$\n",
    "    </h3>\n",
    "    <p>A test for the Significance of $R$ where we test for the null hypothesis that $R = 0$, which is equivalent to testing the null hypothesis that $\\beta_1$ and $\\beta_2$ are both equal to zero, is given by\n",
    "    </p>\n",
    "    <p>$$\\begin{align} F=\\dfrac{R^2/k}{(1-R^2)/(n-k-1)} \\end{align}$$\n",
    "    </p>\n",
    "    <p>or\n",
    "    </p>\n",
    "    <p>$$\\begin{align} F=\\dfrac{SS_{reg}/k}{SS_{res}/(n-k-1)} = \\dfrac{MS_{reg}}{MS_{res}} \\end{align}$$\n",
    "    </p>\n",
    "    <p>Under $H_0$, this quantity follows a $F$ distribution with $k$ and $n-k-1$ degrees of freedom (the rejection region for a two-sided test at 5% significance).\n",
    "</body>"
   ]
  },
  {
   "cell_type": "markdown",
   "metadata": {
    "slideshow": {
     "slide_type": "slide"
    }
   },
   "source": [
    "<body>\n",
    "    <h3>10.2.6 Checking model assumptions\n",
    "    </h3>\n",
    "    <p>The mathematical model is\n",
    "    </p>\n",
    "    <p>$$\\begin{equation}Y = \\alpha + \\beta_1 X_1 + \\beta_2 X_2 + ...\\beta_k X_k + \\epsilon \\quad \\quad \\epsilon \\sim \\mathcal{N}(0,\\sigma^2) \\end{equation}$$\n",
    "    </p>\n",
    "    <p>So that for given $X$ variables the values of $Y$ vary about the regression surface in a Normal distribution with mean 0 and standard deviation $\\sigma$.\n",
    "    </p>\n",
    "</body>"
   ]
  },
  {
   "cell_type": "markdown",
   "metadata": {
    "slideshow": {
     "slide_type": "slide"
    }
   },
   "source": [
    "<body>\n",
    "    <p>For checking the assumptions:\n",
    "    </p>\n",
    "    <ol>\n",
    "        <li>Plot Residuals versus Explanatory Variables.<br>\n",
    "            This checks linearity assumption: there should be no unusual trend in the scatterplot.\n",
    "        </li>\n",
    "        <li>Check for the Normality of Residuals with a Normal Probability plot of the Residuals.\n",
    "        </li>\n",
    "        <li>Plot the Residuals versus Fitted Values<br>\n",
    "            This checks that $\\sigma^2$ is constant for varying $Y$.\n",
    "        </li>\n",
    "        <li>For independence of observation, plot the residuals against order of observation to check there is no pattern.\n",
    "        </li>\n",
    "    </ol>\n",
    "</body>"
   ]
  },
  {
   "cell_type": "markdown",
   "metadata": {
    "slideshow": {
     "slide_type": "slide"
    }
   },
   "source": [
    "<body>\n",
    "    <h3>10.2.8 Notes\n",
    "    </h3>\n",
    "    <ol>\n",
    "        <li>Multicollinearity can cause problems (high correlations between independent variables). So that, if $X_2$ and $X_3$ are highly correlated then partial regression coefficients ($\\beta$'s) may not be assumed to reflect the relationships of $Y$ with $X_2$ and $Y$ with $X_3$. If it is slight there is no problem but if they are highly correlate the slopes may not make sense. This can cause standard errors of the $\\beta$'s to be large and therefore $\\beta$ not significant despite relationships.\n",
    "            <ul>\n",
    "                <li>VIF (Variable Inflated Factor) quantifies the amount of multicollinearity in a model and can be used to elminate variables that don't offer sufficient new information for best model fit.\n",
    "                </li>\n",
    "            </ul>\n",
    "        </li>\n",
    "    </ol>\n",
    "</body>    "
   ]
  },
  {
   "cell_type": "markdown",
   "metadata": {
    "slideshow": {
     "slide_type": "slide"
    }
   },
   "source": [
    "<body>\n",
    "    <ol start=\"2\">\n",
    "        <li>Standardised Partial Regression Coefficients, $\\beta$ Coefficient = $\\beta_i\\frac{S_{x_i}}{S_Y}$, give an indication of the relative importance of the independent variables. \n",
    "            <ul>\n",
    "                <li>They are unitless and high absolute values indicated high degree of influence on $Y$. Tests are performed on the unstandardised coefficients.\n",
    "                </li>\n",
    "            </ul>\n",
    "        </li>\n",
    "    </ol>\n",
    "</body>    "
   ]
  },
  {
   "cell_type": "markdown",
   "metadata": {
    "slideshow": {
     "slide_type": "slide"
    }
   },
   "source": [
    "<body>\n",
    "    <ol start=\"3\">\n",
    "         <li>Best Model means the highest $R^2$ with the minimum number of variables. As you add in new independent variables $R^2$ will automatically increase so frequently may use an adjusted $R^2$ which adjusts for the number of parameters. $$R_a^2 = 1-\\dfrac{n-1}{n-m-1}R^2$$ where $n$ is the number of data points and m is the number of independent variables.\n",
    "        </li>\n",
    "       <li>Other metrics that could be used to consider for model evaluation and selection are:\n",
    "            <ul>\n",
    "                <li>AIC, BIC and Cp.\n",
    "                </li>\n",
    "            </ul>\n",
    "        </li>\n",
    "    </ol>\n",
    "</body>"
   ]
  },
  {
   "cell_type": "markdown",
   "metadata": {
    "slideshow": {
     "slide_type": "slide"
    }
   },
   "source": [
    "<body>\n",
    "    <ol start=\"5\">\n",
    "         <li>In some cases there may be missing observations in the data being analysed.\n",
    "         <ul>\n",
    "            <li>Their presence cannot be ignored.\n",
    "            </li>\n",
    "            <li>These should always be reported as part of exploratory analysis of the data.\n",
    "            </li>\n",
    "            <li>The simplest action is to analyse the complete cases. Software will allow you to do this.\n",
    "            </li>\n",
    "            <li>There are methods for estimating missing data.\n",
    "            </li>\n",
    "         </ul>\n",
    "        </li>\n",
    "    </ol>\n",
    "</body>"
   ]
  },
  {
   "cell_type": "markdown",
   "metadata": {
    "slideshow": {
     "slide_type": "slide"
    }
   },
   "source": [
    "<body>\n",
    "    <h3>10.2.7 Example\n",
    "    </h3>\n",
    "    <p>As an example of Multiple Linear Regressions consider the Volume of wood for sale, obtained from a sample of 30 trees, which varies with diameter and height.\n",
    "    <table>\n",
    "    <thead>\n",
    "      <tr>\n",
    "        <th>Diameter</th>\n",
    "        <th>Height</th>\n",
    "        <th>Volume</th>\n",
    "      </tr>\n",
    "    </thead>\n",
    "    <tbody>\n",
    "      <tr>\n",
    "          <td>8.3</td>\n",
    "          <td>70</td>\n",
    "          <td>10.3</td>\n",
    "      </tr>\n",
    "      <tr>\n",
    "          <td>8.6</td>\n",
    "          <td>65</td>\n",
    "          <td>10.3</td>\n",
    "      </tr>\n",
    "      <tr>\n",
    "          <td>8.8</td>\n",
    "          <td>63</td>\n",
    "          <td>10.2</td>\n",
    "      </tr>\n",
    "      <tr>\n",
    "        <td>10.5</td>\n",
    "          <td>72</td>\n",
    "          <td>16.4</td>\n",
    "      </tr>\n",
    "      <tr>\n",
    "        <td>10.7</td>\n",
    "          <td>81</td>\n",
    "          <td>18.8</td>\n",
    "      </tr>\n",
    "      <tr>\n",
    "        <td>10.8</td>\n",
    "          <td>83</td>\n",
    "          <td>19.7</td>\n",
    "      </tr>\n",
    "      <tr>\n",
    "        <td>11</td>\n",
    "          <td>66</td>\n",
    "          <td>15.6</td>\n",
    "      </tr>\n",
    "      <tr>\n",
    "        <td>11</td>\n",
    "          <td>75</td>\n",
    "          <td>18.2</td>\n",
    "      </tr>\n",
    "      <tr>\n",
    "        <td>11.1</td>\n",
    "          <td>80</td>\n",
    "          <td>22.6</td>\n",
    "      </tr>\n",
    "      <tr>\n",
    "        <td>11.2</td>\n",
    "          <td>75</td>\n",
    "          <td>19.9</td>\n",
    "      </tr>\n",
    "      <tr>\n",
    "        <td>11.3</td>\n",
    "          <td>79</td>\n",
    "          <td>24.2</td>\n",
    "      </tr>\n",
    "      <tr>\n",
    "        <td>11.4</td>\n",
    "          <td>76</td>\n",
    "          <td>21</td>\n",
    "      </tr>\n",
    "      <tr>\n",
    "        <td>11.4</td>\n",
    "          <td>76</td>\n",
    "          <td>21.4</td>\n",
    "      </tr>\n",
    "      <tr>\n",
    "        <td>11.7</td>\n",
    "          <td>69</td>\n",
    "          <td>21.3</td>\n",
    "      </tr>\n",
    "      <tr>\n",
    "        <td>12</td>\n",
    "          <td>75</td>\n",
    "          <td>19.1</td>\n",
    "      </tr>\n",
    "      <tr>\n",
    "        <td>12.9</td>\n",
    "          <td>74</td>\n",
    "          <td>22.2</td>\n",
    "      </tr>\n",
    "      <tr>\n",
    "        <td>12.9</td>\n",
    "          <td>85</td>\n",
    "          <td>33.8</td>\n",
    "      </tr>\n",
    "      <tr>\n",
    "        <td>13.3</td>\n",
    "          <td>86</td>\n",
    "          <td>27.4</td>\n",
    "      </tr>\n",
    "      <tr>\n",
    "        <td>13.7</td>\n",
    "          <td>71</td>\n",
    "          <td>25.7</td>\n",
    "      </tr>\n",
    "      <tr>\n",
    "        <td>13.8</td>\n",
    "          <td>64</td>\n",
    "          <td>24.9</td>\n",
    "      </tr>\n",
    "      <tr>\n",
    "        <td>14</td>\n",
    "          <td>78</td>\n",
    "          <td>34.5</td>\n",
    "      </tr>\n",
    "      <tr>\n",
    "        <td>4.2</td>\n",
    "          <td>80</td>\n",
    "          <td>31.7</td>\n",
    "      </tr>\n",
    "      <tr>\n",
    "        <td>14.5</td>\n",
    "          <td>74</td>\n",
    "          <td>36.3</td>\n",
    "      </tr>\n",
    "      <tr>\n",
    "        <td>16</td>\n",
    "          <td>72</td>\n",
    "          <td>38.3</td>\n",
    "      </tr>\n",
    "      <tr>\n",
    "        <td>16.3</td>\n",
    "          <td>77</td>\n",
    "          <td>42.6</td>\n",
    "      </tr>\n",
    "      <tr>\n",
    "        <td>17.3</td>\n",
    "          <td>81</td>\n",
    "          <td>55.4</td>\n",
    "      </tr>\n",
    "      <tr>\n",
    "        <td>17.5</td>\n",
    "          <td>82</td>\n",
    "          <td>55.7</td>\n",
    "      </tr>\n",
    "      <tr>\n",
    "        <td>17.9</td>\n",
    "          <td>80</td>\n",
    "          <td>58.3</td>\n",
    "      </tr>\n",
    "      <tr>\n",
    "        <td>8</td>\n",
    "          <td>80</td>\n",
    "          <td>51.5</td>\n",
    "      </tr>\n",
    "      <tr>\n",
    "        <td>18</td>\n",
    "          <td>80</td>\n",
    "          <td>51</td>\n",
    "      </tr>\n",
    "      <tr>\n",
    "        <td>20.6</td>\n",
    "          <td>87</td>\n",
    "          <td>77</td>\n",
    "      </tr>\n",
    "      </tbody>\n",
    "    </table>\n",
    "</body>"
   ]
  },
  {
   "cell_type": "code",
   "execution_count": 1,
   "metadata": {
    "scrolled": true,
    "slideshow": {
     "slide_type": "slide"
    }
   },
   "outputs": [
    {
     "name": "stderr",
     "output_type": "stream",
     "text": [
      "Registered S3 methods overwritten by 'tibble':\n",
      "  method     from  \n",
      "  format.tbl pillar\n",
      "  print.tbl  pillar\n",
      "\n"
     ]
    },
    {
     "data": {
      "text/html": [
       "<table class=\"dataframe\">\n",
       "<caption>A tibble: 30 × 3</caption>\n",
       "<thead>\n",
       "\t<tr><th scope=col>Diameter</th><th scope=col>Height</th><th scope=col>Volume</th></tr>\n",
       "\t<tr><th scope=col>&lt;dbl&gt;</th><th scope=col>&lt;dbl&gt;</th><th scope=col>&lt;dbl&gt;</th></tr>\n",
       "</thead>\n",
       "<tbody>\n",
       "\t<tr><td> 8.3</td><td>70</td><td> 6.3</td></tr>\n",
       "\t<tr><td>12.0</td><td>75</td><td>19.1</td></tr>\n",
       "\t<tr><td>10.8</td><td>83</td><td>19.7</td></tr>\n",
       "\t<tr><td>13.8</td><td>64</td><td>24.9</td></tr>\n",
       "\t<tr><td>10.5</td><td>72</td><td>16.4</td></tr>\n",
       "\t<tr><td>13.3</td><td>86</td><td>27.4</td></tr>\n",
       "\t<tr><td>11.1</td><td>80</td><td>22.6</td></tr>\n",
       "\t<tr><td>14.5</td><td>74</td><td>36.3</td></tr>\n",
       "\t<tr><td> 8.6</td><td>65</td><td> 6.3</td></tr>\n",
       "\t<tr><td>12.9</td><td>74</td><td>22.2</td></tr>\n",
       "\t<tr><td>11.0</td><td>66</td><td>15.6</td></tr>\n",
       "\t<tr><td>14.0</td><td>78</td><td>34.5</td></tr>\n",
       "\t<tr><td>10.7</td><td>81</td><td>18.8</td></tr>\n",
       "\t<tr><td>13.7</td><td>71</td><td>25.7</td></tr>\n",
       "\t<tr><td>11.2</td><td>75</td><td>19.9</td></tr>\n",
       "\t<tr><td>16.0</td><td>72</td><td>38.3</td></tr>\n",
       "\t<tr><td> 8.8</td><td>63</td><td> 3.2</td></tr>\n",
       "\t<tr><td>12.9</td><td>85</td><td>33.8</td></tr>\n",
       "\t<tr><td>11.0</td><td>75</td><td>18.2</td></tr>\n",
       "\t<tr><td>14.2</td><td>80</td><td>31.7</td></tr>\n",
       "\t<tr><td>11.3</td><td>79</td><td>24.2</td></tr>\n",
       "\t<tr><td>16.3</td><td>77</td><td>42.6</td></tr>\n",
       "\t<tr><td>11.4</td><td>76</td><td>21.0</td></tr>\n",
       "\t<tr><td>17.3</td><td>81</td><td>55.4</td></tr>\n",
       "\t<tr><td>11.4</td><td>76</td><td>21.4</td></tr>\n",
       "\t<tr><td>17.5</td><td>82</td><td>55.7</td></tr>\n",
       "\t<tr><td>11.7</td><td>69</td><td>21.3</td></tr>\n",
       "\t<tr><td>17.9</td><td>80</td><td>58.3</td></tr>\n",
       "\t<tr><td>18.0</td><td>80</td><td>51.5</td></tr>\n",
       "\t<tr><td>15.0</td><td>60</td><td>30.0</td></tr>\n",
       "</tbody>\n",
       "</table>\n"
      ],
      "text/latex": [
       "A tibble: 30 × 3\n",
       "\\begin{tabular}{lll}\n",
       " Diameter & Height & Volume\\\\\n",
       " <dbl> & <dbl> & <dbl>\\\\\n",
       "\\hline\n",
       "\t  8.3 & 70 &  6.3\\\\\n",
       "\t 12.0 & 75 & 19.1\\\\\n",
       "\t 10.8 & 83 & 19.7\\\\\n",
       "\t 13.8 & 64 & 24.9\\\\\n",
       "\t 10.5 & 72 & 16.4\\\\\n",
       "\t 13.3 & 86 & 27.4\\\\\n",
       "\t 11.1 & 80 & 22.6\\\\\n",
       "\t 14.5 & 74 & 36.3\\\\\n",
       "\t  8.6 & 65 &  6.3\\\\\n",
       "\t 12.9 & 74 & 22.2\\\\\n",
       "\t 11.0 & 66 & 15.6\\\\\n",
       "\t 14.0 & 78 & 34.5\\\\\n",
       "\t 10.7 & 81 & 18.8\\\\\n",
       "\t 13.7 & 71 & 25.7\\\\\n",
       "\t 11.2 & 75 & 19.9\\\\\n",
       "\t 16.0 & 72 & 38.3\\\\\n",
       "\t  8.8 & 63 &  3.2\\\\\n",
       "\t 12.9 & 85 & 33.8\\\\\n",
       "\t 11.0 & 75 & 18.2\\\\\n",
       "\t 14.2 & 80 & 31.7\\\\\n",
       "\t 11.3 & 79 & 24.2\\\\\n",
       "\t 16.3 & 77 & 42.6\\\\\n",
       "\t 11.4 & 76 & 21.0\\\\\n",
       "\t 17.3 & 81 & 55.4\\\\\n",
       "\t 11.4 & 76 & 21.4\\\\\n",
       "\t 17.5 & 82 & 55.7\\\\\n",
       "\t 11.7 & 69 & 21.3\\\\\n",
       "\t 17.9 & 80 & 58.3\\\\\n",
       "\t 18.0 & 80 & 51.5\\\\\n",
       "\t 15.0 & 60 & 30.0\\\\\n",
       "\\end{tabular}\n"
      ],
      "text/markdown": [
       "\n",
       "A tibble: 30 × 3\n",
       "\n",
       "| Diameter &lt;dbl&gt; | Height &lt;dbl&gt; | Volume &lt;dbl&gt; |\n",
       "|---|---|---|\n",
       "|  8.3 | 70 |  6.3 |\n",
       "| 12.0 | 75 | 19.1 |\n",
       "| 10.8 | 83 | 19.7 |\n",
       "| 13.8 | 64 | 24.9 |\n",
       "| 10.5 | 72 | 16.4 |\n",
       "| 13.3 | 86 | 27.4 |\n",
       "| 11.1 | 80 | 22.6 |\n",
       "| 14.5 | 74 | 36.3 |\n",
       "|  8.6 | 65 |  6.3 |\n",
       "| 12.9 | 74 | 22.2 |\n",
       "| 11.0 | 66 | 15.6 |\n",
       "| 14.0 | 78 | 34.5 |\n",
       "| 10.7 | 81 | 18.8 |\n",
       "| 13.7 | 71 | 25.7 |\n",
       "| 11.2 | 75 | 19.9 |\n",
       "| 16.0 | 72 | 38.3 |\n",
       "|  8.8 | 63 |  3.2 |\n",
       "| 12.9 | 85 | 33.8 |\n",
       "| 11.0 | 75 | 18.2 |\n",
       "| 14.2 | 80 | 31.7 |\n",
       "| 11.3 | 79 | 24.2 |\n",
       "| 16.3 | 77 | 42.6 |\n",
       "| 11.4 | 76 | 21.0 |\n",
       "| 17.3 | 81 | 55.4 |\n",
       "| 11.4 | 76 | 21.4 |\n",
       "| 17.5 | 82 | 55.7 |\n",
       "| 11.7 | 69 | 21.3 |\n",
       "| 17.9 | 80 | 58.3 |\n",
       "| 18.0 | 80 | 51.5 |\n",
       "| 15.0 | 60 | 30.0 |\n",
       "\n"
      ],
      "text/plain": [
       "   Diameter Height Volume\n",
       "1   8.3     70      6.3  \n",
       "2  12.0     75     19.1  \n",
       "3  10.8     83     19.7  \n",
       "4  13.8     64     24.9  \n",
       "5  10.5     72     16.4  \n",
       "6  13.3     86     27.4  \n",
       "7  11.1     80     22.6  \n",
       "8  14.5     74     36.3  \n",
       "9   8.6     65      6.3  \n",
       "10 12.9     74     22.2  \n",
       "11 11.0     66     15.6  \n",
       "12 14.0     78     34.5  \n",
       "13 10.7     81     18.8  \n",
       "14 13.7     71     25.7  \n",
       "15 11.2     75     19.9  \n",
       "16 16.0     72     38.3  \n",
       "17  8.8     63      3.2  \n",
       "18 12.9     85     33.8  \n",
       "19 11.0     75     18.2  \n",
       "20 14.2     80     31.7  \n",
       "21 11.3     79     24.2  \n",
       "22 16.3     77     42.6  \n",
       "23 11.4     76     21.0  \n",
       "24 17.3     81     55.4  \n",
       "25 11.4     76     21.4  \n",
       "26 17.5     82     55.7  \n",
       "27 11.7     69     21.3  \n",
       "28 17.9     80     58.3  \n",
       "29 18.0     80     51.5  \n",
       "30 15.0     60     30.0  "
      ]
     },
     "metadata": {},
     "output_type": "display_data"
    }
   ],
   "source": [
    "library(\"readxl\")\n",
    "\n",
    "volData <- read_excel(\"MATPMD1Chapter10DataTimber.xlsx\")\n",
    "\n",
    "# If you have problems loading the \"readxl\" library, then just use the code commented out below which\n",
    "# sets up the data frame with the same column names\n",
    "#\n",
    "# Set up the data frame for volume of wood with diameter and height\n",
    "# volData <- data.frame(Volume=c(10.3,10.3,10.2,16.4,18.8,19.7,15.6,18.2,22.6,\n",
    "#                      Diameter=c(8.3,8.6,8.8,10.5,10.7,10.8,11,11,11.1,11.2,11.3,\n",
    "#                           11.4,11.4,11.7,12,12.9,12.9,13.3,13.7,13.8,14,\n",
    "#                           14.2,14.5,16,16.3,17.3,17.5,17.9,18,18,20.6),\n",
    "#                      Height= c(70,65,63,72,81,83,66,75,80,75,79,76,76,69,75,\n",
    "#                           74,85,86,71,64,78,80,74,72,77,81,82,80,80,80,87))\n",
    "# add column names to the data frame (will be used in the display of pairs() below)\n",
    "#colnames(volData) <-c(\"Volume\",\"Diameter\",\"Height\")\n",
    "\n",
    "View(volData) #view the excel file"
   ]
  },
  {
   "cell_type": "code",
   "execution_count": 2,
   "metadata": {},
   "outputs": [
    {
     "data": {
      "image/png": "[encoded data removed]",
      "text/plain": [
       "plot without title"
      ]
     },
     "metadata": {
      "image/png": {
       "height": 420,
       "width": 420
      }
     },
     "output_type": "display_data"
    }
   ],
   "source": [
    "# call pairs() to plot scatterplot of each pair of variables\n",
    "\n",
    "pairs(volData)"
   ]
  },
  {
   "cell_type": "code",
   "execution_count": 3,
   "metadata": {
    "slideshow": {
     "slide_type": "slide"
    }
   },
   "outputs": [
    {
     "data": {
      "text/html": [
       "<table class=\"dataframe\">\n",
       "<caption>A matrix: 3 × 3 of type dbl</caption>\n",
       "<thead>\n",
       "\t<tr><th></th><th scope=col>Diameter</th><th scope=col>Height</th><th scope=col>Volume</th></tr>\n",
       "</thead>\n",
       "<tbody>\n",
       "\t<tr><th scope=row>Diameter</th><td>1.0000000</td><td>0.3239419</td><td>0.9616215</td></tr>\n",
       "\t<tr><th scope=row>Height</th><td>0.3239419</td><td>1.0000000</td><td>0.4880308</td></tr>\n",
       "\t<tr><th scope=row>Volume</th><td>0.9616215</td><td>0.4880308</td><td>1.0000000</td></tr>\n",
       "</tbody>\n",
       "</table>\n"
      ],
      "text/latex": [
       "A matrix: 3 × 3 of type dbl\n",
       "\\begin{tabular}{r|lll}\n",
       "  & Diameter & Height & Volume\\\\\n",
       "\\hline\n",
       "\tDiameter & 1.0000000 & 0.3239419 & 0.9616215\\\\\n",
       "\tHeight & 0.3239419 & 1.0000000 & 0.4880308\\\\\n",
       "\tVolume & 0.9616215 & 0.4880308 & 1.0000000\\\\\n",
       "\\end{tabular}\n"
      ],
      "text/markdown": [
       "\n",
       "A matrix: 3 × 3 of type dbl\n",
       "\n",
       "| <!--/--> | Diameter | Height | Volume |\n",
       "|---|---|---|---|\n",
       "| Diameter | 1.0000000 | 0.3239419 | 0.9616215 |\n",
       "| Height | 0.3239419 | 1.0000000 | 0.4880308 |\n",
       "| Volume | 0.9616215 | 0.4880308 | 1.0000000 |\n",
       "\n"
      ],
      "text/plain": [
       "         Diameter  Height    Volume   \n",
       "Diameter 1.0000000 0.3239419 0.9616215\n",
       "Height   0.3239419 1.0000000 0.4880308\n",
       "Volume   0.9616215 0.4880308 1.0000000"
      ]
     },
     "metadata": {},
     "output_type": "display_data"
    }
   ],
   "source": [
    "library(\"readxl\")\n",
    "\n",
    "# read the data in from the .xlsx file. If you have problems with the readxl library set up the data frame\n",
    "# using the commented out code in the previous code cell\n",
    "volData <- read_excel(\"MATPMD1Chapter10DataTimber.xlsx\")\n",
    "\n",
    "# output the correlation matrix --> using cor() function\n",
    "cor(volData)"
   ]
  },
  {
   "cell_type": "code",
   "execution_count": 4,
   "metadata": {
    "slideshow": {
     "slide_type": "slide"
    }
   },
   "outputs": [
    {
     "data": {
      "image/png": "[encoded data removed]",
      "text/plain": [
       "plot without title"
      ]
     },
     "metadata": {
      "image/png": {
       "height": 420,
       "width": 420
      }
     },
     "output_type": "display_data"
    }
   ],
   "source": [
    "library(\"readxl\")\n",
    "\n",
    "# read the data in from the .xlsx file. If you have problems with the readxl library set up the data frame\n",
    "# using the commented out code in the previous code cell\n",
    "volData <- read_excel(\"MATPMD1Chapter10DataTimber.xlsx\")\n",
    "\n",
    "# pass the output from the correlation function cor() to heatmap() to get visual impression of the correlation \n",
    "# between variables\n",
    "mycor<-cor(volData)\n",
    "heatmap(x=mycor,symm=TRUE)"
   ]
  },
  {
   "cell_type": "code",
   "execution_count": 5,
   "metadata": {
    "slideshow": {
     "slide_type": "slide"
    }
   },
   "outputs": [
    {
     "data": {
      "text/plain": [
       "\n",
       "Call:\n",
       "lm(formula = Volume ~ Diameter + Height, data = volData)\n",
       "\n",
       "Residuals:\n",
       "   Min     1Q Median     3Q    Max \n",
       "-6.504 -1.792  0.317  1.978  5.397 \n",
       "\n",
       "Coefficients:\n",
       "             Estimate Std. Error t value Pr(>|t|)    \n",
       "(Intercept) -64.47276    6.24277 -10.328 7.08e-11 ***\n",
       "Diameter      4.67851    0.21327  21.937  < 2e-16 ***\n",
       "Height        0.42038    0.08723   4.819 4.95e-05 ***\n",
       "---\n",
       "Signif. codes:  0 '***' 0.001 '**' 0.01 '*' 0.05 '.' 0.1 ' ' 1\n",
       "\n",
       "Residual standard error: 2.981 on 27 degrees of freedom\n",
       "Multiple R-squared:  0.9595,\tAdjusted R-squared:  0.9565 \n",
       "F-statistic: 320.1 on 2 and 27 DF,  p-value: < 2.2e-16\n"
      ]
     },
     "metadata": {},
     "output_type": "display_data"
    }
   ],
   "source": [
    "library(\"readxl\")\n",
    "\n",
    "# read the data in from the .xlsx file. If you have problems with the readxl library set up the data frame\n",
    "# using the commented out code in the previous code cell\n",
    "volData <- read_excel(\"MATPMD1Chapter10DataTimber.xlsx\")\n",
    "\n",
    "# set up a linear regression model where Volume is the dependent variable which varies with Diameter and Height\n",
    "vol.lm<-lm(data=volData,Volume ~ Diameter+Height)\n",
    "# print a summary of the model\n",
    "summary(vol.lm)"
   ]
  },
  {
   "cell_type": "code",
   "execution_count": 6,
   "metadata": {
    "slideshow": {
     "slide_type": "slide"
    }
   },
   "outputs": [
    {
     "data": {
      "text/html": [
       "<table class=\"dataframe\">\n",
       "<caption>A anova: 3 × 5</caption>\n",
       "<thead>\n",
       "\t<tr><th></th><th scope=col>Df</th><th scope=col>Sum Sq</th><th scope=col>Mean Sq</th><th scope=col>F value</th><th scope=col>Pr(&gt;F)</th></tr>\n",
       "\t<tr><th></th><th scope=col>&lt;int&gt;</th><th scope=col>&lt;dbl&gt;</th><th scope=col>&lt;dbl&gt;</th><th scope=col>&lt;dbl&gt;</th><th scope=col>&lt;dbl&gt;</th></tr>\n",
       "</thead>\n",
       "<tbody>\n",
       "\t<tr><th scope=row>Diameter</th><td> 1</td><td>5482.7770</td><td>5482.776978</td><td>616.91823</td><td>3.936247e-20</td></tr>\n",
       "\t<tr><th scope=row>Height</th><td> 1</td><td> 206.4112</td><td> 206.411191</td><td> 23.22524</td><td>4.950589e-05</td></tr>\n",
       "\t<tr><th scope=row>Residuals</th><td>27</td><td> 239.9588</td><td>   8.887364</td><td>       NA</td><td>          NA</td></tr>\n",
       "</tbody>\n",
       "</table>\n"
      ],
      "text/latex": [
       "A anova: 3 × 5\n",
       "\\begin{tabular}{r|lllll}\n",
       "  & Df & Sum Sq & Mean Sq & F value & Pr(>F)\\\\\n",
       "  & <int> & <dbl> & <dbl> & <dbl> & <dbl>\\\\\n",
       "\\hline\n",
       "\tDiameter &  1 & 5482.7770 & 5482.776978 & 616.91823 & 3.936247e-20\\\\\n",
       "\tHeight &  1 &  206.4112 &  206.411191 &  23.22524 & 4.950589e-05\\\\\n",
       "\tResiduals & 27 &  239.9588 &    8.887364 &        NA &           NA\\\\\n",
       "\\end{tabular}\n"
      ],
      "text/markdown": [
       "\n",
       "A anova: 3 × 5\n",
       "\n",
       "| <!--/--> | Df &lt;int&gt; | Sum Sq &lt;dbl&gt; | Mean Sq &lt;dbl&gt; | F value &lt;dbl&gt; | Pr(&gt;F) &lt;dbl&gt; |\n",
       "|---|---|---|---|---|---|\n",
       "| Diameter |  1 | 5482.7770 | 5482.776978 | 616.91823 | 3.936247e-20 |\n",
       "| Height |  1 |  206.4112 |  206.411191 |  23.22524 | 4.950589e-05 |\n",
       "| Residuals | 27 |  239.9588 |    8.887364 |        NA |           NA |\n",
       "\n"
      ],
      "text/plain": [
       "          Df Sum Sq    Mean Sq     F value   Pr(>F)      \n",
       "Diameter   1 5482.7770 5482.776978 616.91823 3.936247e-20\n",
       "Height     1  206.4112  206.411191  23.22524 4.950589e-05\n",
       "Residuals 27  239.9588    8.887364        NA           NA"
      ]
     },
     "metadata": {},
     "output_type": "display_data"
    }
   ],
   "source": [
    "library(\"readxl\")\n",
    "\n",
    "# read the data in from the .xlsx file. If you have problems with the readxl library set up the data frame\n",
    "# using the commented out code in the previous code cell\n",
    "volData <- read_excel(\"MATPMD1Chapter10DataTimber.xlsx\")\n",
    "\n",
    "# set up a linear regression model where Volume is the dependent variable which varies with Diameter and Height\n",
    "vol.lm<-lm(data=volData, Volume ~ Diameter+Height)\n",
    "# show the ANOVA table for the model\n",
    "anova(vol.lm)"
   ]
  },
  {
   "cell_type": "markdown",
   "metadata": {},
   "source": [
    "<h2> Next: We want to check our assumptions to show our model has validity </h2>"
   ]
  },
  {
   "cell_type": "code",
   "execution_count": 7,
   "metadata": {},
   "outputs": [
    {
     "data": {
      "image/png": "[encoded data removed]",
      "text/plain": [
       "Plot with title \"Normal Q-Q Plot\""
      ]
     },
     "metadata": {
      "image/png": {
       "height": 420,
       "width": 420
      }
     },
     "output_type": "display_data"
    }
   ],
   "source": [
    "library(\"readxl\")\n",
    "\n",
    "# read the data in from the .xlsx file. If you have problems with the readxl library set up the data frame\n",
    "# using the commented out code in the previous code cell\n",
    "volData <- read_excel(\"MATPMD1Chapter10DataTimber.xlsx\")\n",
    "# tell R we will use the column names as variables\n",
    "#detach(volData)\n",
    "attach(volData)\n",
    "\n",
    "# set up a linear regression model where Volume is the dependent variable which varies with Diameter and Height\n",
    "vol.lm<-lm(data=volData, Volume ~ Diameter+Height)\n",
    "\n",
    "# extract the model residuals(median, min max 1qtr e.t.c) to use in our plots\n",
    "vol.res = resid(vol.lm)\n",
    "\n",
    "# this sets our plot to give 2x2 plots so that we can compare\n",
    "par(mfrow=c(2,2))\n",
    "\n",
    "# ...\n",
    "# First, checking for linearity between Response and independent variables\n",
    "# We do this by checking the residuals against indepedent variables as shown below::\n",
    "\n",
    "# plot residuals against model covariants. First \"diameter\"\n",
    "plot(Diameter,vol.res,xlab=\"Diameter\",ylab=\"vol.lm residuals\")\n",
    "# horizontal line to show value of residual = 0\n",
    "abline(h=0)\n",
    "\n",
    "# and now \"height\"\n",
    "plot(Height,vol.res,xlab=\"Height\",ylab=\"vol.lm residuals\")\n",
    "# horizontal line to show value of residual = 0\n",
    "abline(h=0)\n",
    "\n",
    "\n",
    "# ...\n",
    "# The third plot below is for checking 'Normality' using qqnorm() function\n",
    "\n",
    "# This plots quantiles of theoretical normal distribution against residual quantiles\n",
    "qqnorm(vol.res,ylab=\"Volume resdiual quantiles\")\n",
    "# dashed line to show where x and y are equal\n",
    "qqline(vol.res,lty=2)\n",
    "\n"
   ]
  },
  {
   "cell_type": "markdown",
   "metadata": {},
   "source": [
    "# Next up; we want to check for constant Spead of residuals:\n",
    "<p> To do this we plot the residuals (vol.res) against the predicted values for the model which we can obtain using (predict.lm()) function which takes in the model as its parameter/args </p>"
   ]
  },
  {
   "cell_type": "code",
   "execution_count": 8,
   "metadata": {
    "slideshow": {
     "slide_type": "slide"
    }
   },
   "outputs": [
    {
     "data": {
      "image/png": "[encoded data removed]",
      "text/plain": [
       "plot without title"
      ]
     },
     "metadata": {
      "image/png": {
       "height": 420,
       "width": 420
      }
     },
     "output_type": "display_data"
    }
   ],
   "source": [
    "library(\"readxl\")\n",
    "\n",
    "# read the data in from the .xlsx file. If you have problems with the readxl library set up the data frame\n",
    "# using the commented out code in the previous code cell\n",
    "volData <- read_excel(\"MATPMD1Chapter10DataTimber.xlsx\")\n",
    "\n",
    "# set up a linear regression model where Volume is the dependent variable which varies with Diameter and Height\n",
    "vol.lm<-lm(data=volData, Volume ~ Diameter+Height)\n",
    "\n",
    "# extract the model residuals to use in our plots\n",
    "vol.res <- resid(vol.lm)\n",
    "\n",
    "# this sets our plot to give 2x2 plots so that we can compare\n",
    "par(mfrow=c(2,2))\n",
    "\n",
    "#plot predicted values against residuals\n",
    "plot(predict.lm(vol.lm),vol.res,xlab=\"Fitted values\",ylab=\"Residual\")\n",
    "# horizontal line to show value of residual = 0\n",
    "abline(h=0)\n",
    "\n",
    "#and plot residual in order of observation to Test: \"independence of observations\"\n",
    "plot (seq(1,length(vol.res),1),vol.res,xlab=\"Observation Order\",ylab=\"Residual\",type=\"b\")\n",
    "# dashed horizontal line to show where residual = 0\n",
    "abline(h=0,lty=2)\n",
    "\n",
    "\n",
    "# plot actual volume against fitted (predicted) values\n",
    "plot(Volume,predict.lm(vol.lm),xlab=\"Volume\",ylab=\"Fitted values\")\n",
    "abline(0,1,lty=2)\n",
    "\n"
   ]
  },
  {
   "cell_type": "code",
   "execution_count": 9,
   "metadata": {
    "slideshow": {
     "slide_type": "slide"
    }
   },
   "outputs": [
    {
     "data": {
      "image/png": "[encoded data removed]",
      "text/plain": [
       "plot without title"
      ]
     },
     "metadata": {
      "image/png": {
       "height": 420,
       "width": 420
      }
     },
     "output_type": "display_data"
    }
   ],
   "source": [
    "library(\"readxl\")\n",
    "\n",
    "# read the data in from the .xlsx file. If you have problems with the readxl library set up the data frame\n",
    "# using the commented out code in the previous code cell\n",
    "volData <- read_excel(\"MATPMD1Chapter10DataTimber.xlsx\")\n",
    "\n",
    "# set up a linear regression model where Volume is the dependent variable which varies with Diameter and Height\n",
    "vol.lm<-lm(data=volData, Volume ~ Diameter+Height)\n",
    "\n",
    "# extract the model residuals(median, min max 1qtr e.t.c) to use in our plots\n",
    "vol.res = resid(vol.lm)\n",
    "\n",
    "# this sets our plot to give 2x2 plots so that we can compare\n",
    "par(mfrow=c(2,2))\n",
    "\n",
    "# plot model responses(Dependent variable) against residuals \n",
    "plot(Volume,vol.res,xlab=\"Volume of wood\",ylab=\"Volume residuals\")\n",
    "# horizontal line to show value of residual = 0\n",
    "abline(h=0)"
   ]
  },
  {
   "cell_type": "markdown",
   "metadata": {
    "slideshow": {
     "slide_type": "slide"
    }
   },
   "source": [
    "<body>\n",
    "    <h2>SO now:</h2>\n",
    "    <p>We have fitted the timber model using both diameter and height as independent variables. But did we need to include both(independent variables) in the model?\n",
    "    </p>\n",
    "    <p>We don't want to include variables in our model if we don't need to.\n",
    "    </p>\n",
    "    <p>When our model has a large number of variables, we may need to select which variables really matter.\n",
    "    </p>\n",
    "    <p> A good way to select which variable/variables really matter is by comparing the Residual sum of squares as you either add or remove variables from the model(i.e Stepping forward or Backward)  </p>\n",
    "    <p>Stepping backward involves starting with the full model and then removing features 1by1 and comparing the Residual sum of squares to see if the latter or former model is better</p>\n",
    "    <p> We can implement this using the drop1() function in R</p>\n",
    "    <p> Note: for AIC evaluation less is better</p>\n",
    "</body> "
   ]
  },
  {
   "cell_type": "code",
   "execution_count": 10,
   "metadata": {
    "scrolled": true,
    "slideshow": {
     "slide_type": "slide"
    }
   },
   "outputs": [
    {
     "data": {
      "text/html": [
       "<table class=\"dataframe\">\n",
       "<caption>A anova: 3 × 6</caption>\n",
       "<thead>\n",
       "\t<tr><th></th><th scope=col>Df</th><th scope=col>Sum of Sq</th><th scope=col>RSS</th><th scope=col>AIC</th><th scope=col>F value</th><th scope=col>Pr(&gt;F)</th></tr>\n",
       "\t<tr><th></th><th scope=col>&lt;dbl&gt;</th><th scope=col>&lt;dbl&gt;</th><th scope=col>&lt;dbl&gt;</th><th scope=col>&lt;dbl&gt;</th><th scope=col>&lt;dbl&gt;</th><th scope=col>&lt;dbl&gt;</th></tr>\n",
       "</thead>\n",
       "<tbody>\n",
       "\t<tr><th scope=row>&lt;none&gt;</th><td>NA</td><td>       NA</td><td> 239.9588</td><td> 68.37810</td><td>       NA</td><td>          NA</td></tr>\n",
       "\t<tr><th scope=row>Diameter</th><td> 1</td><td>4277.0192</td><td>4516.9781</td><td>154.43203</td><td>481.24721</td><td>9.652793e-19</td></tr>\n",
       "\t<tr><th scope=row>Height</th><td> 1</td><td> 206.4112</td><td> 446.3700</td><td> 84.99853</td><td> 23.22524</td><td>4.950589e-05</td></tr>\n",
       "</tbody>\n",
       "</table>\n"
      ],
      "text/latex": [
       "A anova: 3 × 6\n",
       "\\begin{tabular}{r|llllll}\n",
       "  & Df & Sum of Sq & RSS & AIC & F value & Pr(>F)\\\\\n",
       "  & <dbl> & <dbl> & <dbl> & <dbl> & <dbl> & <dbl>\\\\\n",
       "\\hline\n",
       "\t<none> & NA &        NA &  239.9588 &  68.37810 &        NA &           NA\\\\\n",
       "\tDiameter &  1 & 4277.0192 & 4516.9781 & 154.43203 & 481.24721 & 9.652793e-19\\\\\n",
       "\tHeight &  1 &  206.4112 &  446.3700 &  84.99853 &  23.22524 & 4.950589e-05\\\\\n",
       "\\end{tabular}\n"
      ],
      "text/markdown": [
       "\n",
       "A anova: 3 × 6\n",
       "\n",
       "| <!--/--> | Df &lt;dbl&gt; | Sum of Sq &lt;dbl&gt; | RSS &lt;dbl&gt; | AIC &lt;dbl&gt; | F value &lt;dbl&gt; | Pr(&gt;F) &lt;dbl&gt; |\n",
       "|---|---|---|---|---|---|---|\n",
       "| &lt;none&gt; | NA |        NA |  239.9588 |  68.37810 |        NA |           NA |\n",
       "| Diameter |  1 | 4277.0192 | 4516.9781 | 154.43203 | 481.24721 | 9.652793e-19 |\n",
       "| Height |  1 |  206.4112 |  446.3700 |  84.99853 |  23.22524 | 4.950589e-05 |\n",
       "\n"
      ],
      "text/plain": [
       "         Df Sum of Sq RSS       AIC       F value   Pr(>F)      \n",
       "<none>   NA        NA  239.9588  68.37810        NA           NA\n",
       "Diameter  1 4277.0192 4516.9781 154.43203 481.24721 9.652793e-19\n",
       "Height    1  206.4112  446.3700  84.99853  23.22524 4.950589e-05"
      ]
     },
     "metadata": {},
     "output_type": "display_data"
    }
   ],
   "source": [
    "library(\"readxl\")\n",
    "\n",
    "# read the data in from the .xlsx file. If you have problems with the readxl library set up the data frame\n",
    "# using the commented out code in the previous code cell\n",
    "volData <- read_excel(\"MATPMD1Chapter10DataTimber.xlsx\")\n",
    "\n",
    "# set up a linear regression model where Volume is the dependent variable which varies with Diameter and Height\n",
    "vol.lm<-lm(data=volData, Volume ~ Diameter+Height)\n",
    "\n",
    "# use drop1() to assess whether all independent variables in the model are significant\n",
    "drop1(vol.lm,test=\"F\")\n"
   ]
  },
  {
   "cell_type": "markdown",
   "metadata": {},
   "source": [
    "<h2> Alternative: </h2>\n",
    "<p> you can also use the step() function in R</p>\n",
    "<p> By using the backward args you're tellin step() to look at the model and step 'backward' to access whether the independent variable in the model are necessary </p>\n",
    "<p> You can also use a 'forward' args but backward is easier to keep track of</p>\n"
   ]
  },
  {
   "cell_type": "code",
   "execution_count": 11,
   "metadata": {
    "scrolled": false,
    "slideshow": {
     "slide_type": "slide"
    }
   },
   "outputs": [
    {
     "name": "stdout",
     "output_type": "stream",
     "text": [
      "Start:  AIC=68.38\n",
      "Volume ~ Diameter + Height\n",
      "\n",
      "           Df Sum of Sq    RSS     AIC\n",
      "<none>                   240.0  68.378\n",
      "- Height    1     206.4  446.4  84.999\n",
      "- Diameter  1    4277.0 4517.0 154.432\n"
     ]
    },
    {
     "data": {
      "text/plain": [
       "\n",
       "Call:\n",
       "lm(formula = Volume ~ Diameter + Height, data = volData)\n",
       "\n",
       "Coefficients:\n",
       "(Intercept)     Diameter       Height  \n",
       "   -64.4728       4.6785       0.4204  \n"
      ]
     },
     "metadata": {},
     "output_type": "display_data"
    }
   ],
   "source": [
    "library(\"readxl\")\n",
    "\n",
    "# read the data in from the .xlsx file. If you have problems with the readxl library set up the data frame\n",
    "# using the commented out code in the previous code cell\n",
    "volData <- read_excel(\"MATPMD1Chapter10DataTimber.xlsx\")\n",
    "\n",
    "# set up a linear regression model where Volume is the dependent variable which varies with Diameter and Height\n",
    "vol.lm<-lm(data=volData, Volume ~ Diameter+Height)\n",
    "\n",
    "# use step() in the backward direction to assess whether all independent variables are significant\n",
    "step(vol.lm,direction=\"backward\",trace=1)\n",
    "\n",
    "detach(volData)\n"
   ]
  },
  {
   "cell_type": "markdown",
   "metadata": {
    "slideshow": {
     "slide_type": "slide"
    }
   },
   "source": [
    "<body>\n",
    "    <h3>10.2.8 Example\n",
    "    </h3>\n",
    "    <p>A study was conducted to investigate the relationship between patients' blood pressure and other characteristics including Age, Years, Weight, Height, Chin, Forearm, Calf and Pulse in women with type I diabetes, and whether these characteristics can be used to predict systolic and/or diastolic blood pressure. 24 patients were recruited, and recorded. The file containing the data is in MATPMD1Chapter10DataSBP.xlsx.\n",
    "    </p>\n",
    "</body>"
   ]
  },
  {
   "cell_type": "markdown",
   "metadata": {
    "slideshow": {
     "slide_type": "slide"
    }
   },
   "source": [
    "<body>\n",
    "    <p>We are going to first try to capture the response of Systolic Blood Pressure (SBP) to the eight characteristics.\n",
    "    </p>\n",
    "    <p>The statistical tests we will be using are: the t-test and the F-test to test if the model coefficients are different from zero and if the model can explain a significant amount of variability of the response variable respectively.\n",
    "    </p>\n",
    "</body>"
   ]
  },
  {
   "cell_type": "markdown",
   "metadata": {
    "slideshow": {
     "slide_type": "slide"
    }
   },
   "source": [
    "<body>\n",
    "    <p>For the t-test for each of the eight covariates ($j=1…8$) the null and alternative hypotheses are:\n",
    "    </p>\n",
    "    <p>$$\\begin{align}H_0:  & \\beta_j=0 \\\\\n",
    "      H_1:  & \\beta_j \\neq 0 \\end{align}$$\n",
    "    </p>\n",
    "</body>"
   ]
  },
  {
   "cell_type": "markdown",
   "metadata": {
    "slideshow": {
     "slide_type": "slide"
    }
   },
   "source": [
    "<body>\n",
    "    <p>For the F-test the null and alternative hypotheses are:\n",
    "    </p>\n",
    "    <p>$$\\begin{align}H_0:   & \\beta_1 = \\beta_2 =…= \\beta_8=0 \\\\\n",
    "         H_1: &  \\beta_j \\neq 0, \\textrm{for at least one value of } j \\end{align}$$\n",
    "    </p>\n",
    "</body>"
   ]
  },
  {
   "cell_type": "markdown",
   "metadata": {
    "slideshow": {
     "slide_type": "slide"
    }
   },
   "source": [
    "<body>\n",
    "    <p>First we are going to read in the data and plot it:\n",
    "    </p>\n",
    "</body>"
   ]
  },
  {
   "cell_type": "code",
   "execution_count": 12,
   "metadata": {
    "slideshow": {
     "slide_type": "slide"
    }
   },
   "outputs": [
    {
     "data": {
      "image/png": "[encoded data removed]",
      "text/plain": [
       "plot without title"
      ]
     },
     "metadata": {
      "image/png": {
       "height": 420,
       "width": 420
      }
     },
     "output_type": "display_data"
    }
   ],
   "source": [
    "library(\"readxl\")\n",
    "\n",
    "# read the data in from the .xlsx file. \n",
    "BPData <- read_excel(\"MATPMD1Chapter10DataSBP.xlsx\")\n",
    "\n",
    "pairs(BPData)\n"
   ]
  },
  {
   "cell_type": "code",
   "execution_count": 13,
   "metadata": {
    "slideshow": {
     "slide_type": "slide"
    }
   },
   "outputs": [
    {
     "data": {
      "text/html": [
       "<table class=\"dataframe\">\n",
       "<caption>A matrix: 10 × 10 of type dbl</caption>\n",
       "<thead>\n",
       "\t<tr><th></th><th scope=col>Age</th><th scope=col>Years</th><th scope=col>Weight</th><th scope=col>Height</th><th scope=col>Chin</th><th scope=col>Forearm</th><th scope=col>Calf</th><th scope=col>Pulse</th><th scope=col>Systol</th><th scope=col>Diastol</th></tr>\n",
       "</thead>\n",
       "<tbody>\n",
       "\t<tr><th scope=row>Age</th><td> 1.000000000</td><td>0.481771162</td><td>0.4131189</td><td>-0.05747691</td><td>0.2577336</td><td>0.20429350</td><td>0.002342315</td><td>0.03700315</td><td>0.069437599</td><td>0.2283490</td></tr>\n",
       "\t<tr><th scope=row>Years</th><td> 0.481771162</td><td>1.000000000</td><td>0.5182054</td><td> 0.03285107</td><td>0.4147719</td><td>0.42603802</td><td>0.017065978</td><td>0.30449190</td><td>0.007994631</td><td>0.2310150</td></tr>\n",
       "\t<tr><th scope=row>Weight</th><td> 0.413118943</td><td>0.518205423</td><td>1.0000000</td><td> 0.51964593</td><td>0.6762193</td><td>0.74399355</td><td>0.500727615</td><td>0.34388201</td><td>0.595602908</td><td>0.6066008</td></tr>\n",
       "\t<tr><th scope=row>Height</th><td>-0.057476913</td><td>0.032851067</td><td>0.5196459</td><td> 1.00000000</td><td>0.1911904</td><td>0.08887955</td><td>0.108984381</td><td>0.02236600</td><td>0.344026393</td><td>0.2802929</td></tr>\n",
       "\t<tr><th scope=row>Chin</th><td> 0.257733563</td><td>0.414771946</td><td>0.6762193</td><td> 0.19119044</td><td>1.0000000</td><td>0.61856726</td><td>0.463383190</td><td>0.22873293</td><td>0.313427510</td><td>0.3648993</td></tr>\n",
       "\t<tr><th scope=row>Forearm</th><td> 0.204293502</td><td>0.426038018</td><td>0.7439935</td><td> 0.08887955</td><td>0.6185673</td><td>1.00000000</td><td>0.677817956</td><td>0.47176211</td><td>0.442551766</td><td>0.6196222</td></tr>\n",
       "\t<tr><th scope=row>Calf</th><td> 0.002342315</td><td>0.017065978</td><td>0.5007276</td><td> 0.10898438</td><td>0.4633832</td><td>0.67781796</td><td>1.000000000</td><td>0.15172504</td><td>0.365661066</td><td>0.5885462</td></tr>\n",
       "\t<tr><th scope=row>Pulse</th><td> 0.037003146</td><td>0.304491904</td><td>0.3438820</td><td> 0.02236600</td><td>0.2287329</td><td>0.47176211</td><td>0.151725039</td><td>1.00000000</td><td>0.304864117</td><td>0.3769212</td></tr>\n",
       "\t<tr><th scope=row>Systol</th><td> 0.069437599</td><td>0.007994631</td><td>0.5956029</td><td> 0.34402639</td><td>0.3134275</td><td>0.44255177</td><td>0.365661066</td><td>0.30486412</td><td>1.000000000</td><td>0.4564398</td></tr>\n",
       "\t<tr><th scope=row>Diastol</th><td> 0.228349005</td><td>0.231014988</td><td>0.6066008</td><td> 0.28029294</td><td>0.3648993</td><td>0.61962221</td><td>0.588546217</td><td>0.37692116</td><td>0.456439798</td><td>1.0000000</td></tr>\n",
       "</tbody>\n",
       "</table>\n"
      ],
      "text/latex": [
       "A matrix: 10 × 10 of type dbl\n",
       "\\begin{tabular}{r|llllllllll}\n",
       "  & Age & Years & Weight & Height & Chin & Forearm & Calf & Pulse & Systol & Diastol\\\\\n",
       "\\hline\n",
       "\tAge &  1.000000000 & 0.481771162 & 0.4131189 & -0.05747691 & 0.2577336 & 0.20429350 & 0.002342315 & 0.03700315 & 0.069437599 & 0.2283490\\\\\n",
       "\tYears &  0.481771162 & 1.000000000 & 0.5182054 &  0.03285107 & 0.4147719 & 0.42603802 & 0.017065978 & 0.30449190 & 0.007994631 & 0.2310150\\\\\n",
       "\tWeight &  0.413118943 & 0.518205423 & 1.0000000 &  0.51964593 & 0.6762193 & 0.74399355 & 0.500727615 & 0.34388201 & 0.595602908 & 0.6066008\\\\\n",
       "\tHeight & -0.057476913 & 0.032851067 & 0.5196459 &  1.00000000 & 0.1911904 & 0.08887955 & 0.108984381 & 0.02236600 & 0.344026393 & 0.2802929\\\\\n",
       "\tChin &  0.257733563 & 0.414771946 & 0.6762193 &  0.19119044 & 1.0000000 & 0.61856726 & 0.463383190 & 0.22873293 & 0.313427510 & 0.3648993\\\\\n",
       "\tForearm &  0.204293502 & 0.426038018 & 0.7439935 &  0.08887955 & 0.6185673 & 1.00000000 & 0.677817956 & 0.47176211 & 0.442551766 & 0.6196222\\\\\n",
       "\tCalf &  0.002342315 & 0.017065978 & 0.5007276 &  0.10898438 & 0.4633832 & 0.67781796 & 1.000000000 & 0.15172504 & 0.365661066 & 0.5885462\\\\\n",
       "\tPulse &  0.037003146 & 0.304491904 & 0.3438820 &  0.02236600 & 0.2287329 & 0.47176211 & 0.151725039 & 1.00000000 & 0.304864117 & 0.3769212\\\\\n",
       "\tSystol &  0.069437599 & 0.007994631 & 0.5956029 &  0.34402639 & 0.3134275 & 0.44255177 & 0.365661066 & 0.30486412 & 1.000000000 & 0.4564398\\\\\n",
       "\tDiastol &  0.228349005 & 0.231014988 & 0.6066008 &  0.28029294 & 0.3648993 & 0.61962221 & 0.588546217 & 0.37692116 & 0.456439798 & 1.0000000\\\\\n",
       "\\end{tabular}\n"
      ],
      "text/markdown": [
       "\n",
       "A matrix: 10 × 10 of type dbl\n",
       "\n",
       "| <!--/--> | Age | Years | Weight | Height | Chin | Forearm | Calf | Pulse | Systol | Diastol |\n",
       "|---|---|---|---|---|---|---|---|---|---|---|\n",
       "| Age |  1.000000000 | 0.481771162 | 0.4131189 | -0.05747691 | 0.2577336 | 0.20429350 | 0.002342315 | 0.03700315 | 0.069437599 | 0.2283490 |\n",
       "| Years |  0.481771162 | 1.000000000 | 0.5182054 |  0.03285107 | 0.4147719 | 0.42603802 | 0.017065978 | 0.30449190 | 0.007994631 | 0.2310150 |\n",
       "| Weight |  0.413118943 | 0.518205423 | 1.0000000 |  0.51964593 | 0.6762193 | 0.74399355 | 0.500727615 | 0.34388201 | 0.595602908 | 0.6066008 |\n",
       "| Height | -0.057476913 | 0.032851067 | 0.5196459 |  1.00000000 | 0.1911904 | 0.08887955 | 0.108984381 | 0.02236600 | 0.344026393 | 0.2802929 |\n",
       "| Chin |  0.257733563 | 0.414771946 | 0.6762193 |  0.19119044 | 1.0000000 | 0.61856726 | 0.463383190 | 0.22873293 | 0.313427510 | 0.3648993 |\n",
       "| Forearm |  0.204293502 | 0.426038018 | 0.7439935 |  0.08887955 | 0.6185673 | 1.00000000 | 0.677817956 | 0.47176211 | 0.442551766 | 0.6196222 |\n",
       "| Calf |  0.002342315 | 0.017065978 | 0.5007276 |  0.10898438 | 0.4633832 | 0.67781796 | 1.000000000 | 0.15172504 | 0.365661066 | 0.5885462 |\n",
       "| Pulse |  0.037003146 | 0.304491904 | 0.3438820 |  0.02236600 | 0.2287329 | 0.47176211 | 0.151725039 | 1.00000000 | 0.304864117 | 0.3769212 |\n",
       "| Systol |  0.069437599 | 0.007994631 | 0.5956029 |  0.34402639 | 0.3134275 | 0.44255177 | 0.365661066 | 0.30486412 | 1.000000000 | 0.4564398 |\n",
       "| Diastol |  0.228349005 | 0.231014988 | 0.6066008 |  0.28029294 | 0.3648993 | 0.61962221 | 0.588546217 | 0.37692116 | 0.456439798 | 1.0000000 |\n",
       "\n"
      ],
      "text/plain": [
       "        Age          Years       Weight    Height      Chin      Forearm   \n",
       "Age      1.000000000 0.481771162 0.4131189 -0.05747691 0.2577336 0.20429350\n",
       "Years    0.481771162 1.000000000 0.5182054  0.03285107 0.4147719 0.42603802\n",
       "Weight   0.413118943 0.518205423 1.0000000  0.51964593 0.6762193 0.74399355\n",
       "Height  -0.057476913 0.032851067 0.5196459  1.00000000 0.1911904 0.08887955\n",
       "Chin     0.257733563 0.414771946 0.6762193  0.19119044 1.0000000 0.61856726\n",
       "Forearm  0.204293502 0.426038018 0.7439935  0.08887955 0.6185673 1.00000000\n",
       "Calf     0.002342315 0.017065978 0.5007276  0.10898438 0.4633832 0.67781796\n",
       "Pulse    0.037003146 0.304491904 0.3438820  0.02236600 0.2287329 0.47176211\n",
       "Systol   0.069437599 0.007994631 0.5956029  0.34402639 0.3134275 0.44255177\n",
       "Diastol  0.228349005 0.231014988 0.6066008  0.28029294 0.3648993 0.61962221\n",
       "        Calf        Pulse      Systol      Diastol  \n",
       "Age     0.002342315 0.03700315 0.069437599 0.2283490\n",
       "Years   0.017065978 0.30449190 0.007994631 0.2310150\n",
       "Weight  0.500727615 0.34388201 0.595602908 0.6066008\n",
       "Height  0.108984381 0.02236600 0.344026393 0.2802929\n",
       "Chin    0.463383190 0.22873293 0.313427510 0.3648993\n",
       "Forearm 0.677817956 0.47176211 0.442551766 0.6196222\n",
       "Calf    1.000000000 0.15172504 0.365661066 0.5885462\n",
       "Pulse   0.151725039 1.00000000 0.304864117 0.3769212\n",
       "Systol  0.365661066 0.30486412 1.000000000 0.4564398\n",
       "Diastol 0.588546217 0.37692116 0.456439798 1.0000000"
      ]
     },
     "metadata": {},
     "output_type": "display_data"
    }
   ],
   "source": [
    "library(\"readxl\")\n",
    "\n",
    "# read the data in from the .xlsx file. \n",
    "BPData <- read_excel(\"MATPMD1Chapter10DataSBP.xlsx\")\n",
    "# to tell R we will use the column names as variables you can use this attach(BPData) command. If you are running\n",
    "# this multiple times in the same environment you will get warnings that your variable names are being superseded.\n",
    "# to prevent this call detach(BPData). Otherwise use the with(BPData,{}) construct that you have seen me use. I will\n",
    "# use that in the next cell so you see both in this notebook.\n",
    "attach(BPData)\n",
    "\n",
    "cor(BPData)\n",
    "\n",
    "# detach our column name variable names so they don't hang around after this cell has run and cause confusion\n",
    "#detach(BPData)\n"
   ]
  },
  {
   "cell_type": "markdown",
   "metadata": {
    "slideshow": {
     "slide_type": "slide"
    }
   },
   "source": [
    "<body>\n",
    "    <p>We observe that there are some high correlation coefficients between the covariates such as Weight and Years(r=0.518), Weight and Height (r=0.520), Weight and Chin (r=0.676) Weight and Forearm (r=0.744), Weight and Calf (r=0.501), Forearm and Calf(r=0.678). Also, Weight, Height, Chin, Forearm, Calf and Pulse are positively correlated with the systolic blood pressure. \n",
    "</body>"
   ]
  },
  {
   "cell_type": "code",
   "execution_count": 14,
   "metadata": {
    "slideshow": {
     "slide_type": "slide"
    }
   },
   "outputs": [
    {
     "data": {
      "text/plain": [
       "\n",
       "Call:\n",
       "lm(formula = Systol ~ Age + Years + Weight + Height + Chin + \n",
       "    Forearm + Calf + Pulse, data = BPData)\n",
       "\n",
       "Residuals:\n",
       "    Min      1Q  Median      3Q     Max \n",
       "-16.566  -5.467  -1.000   6.366  17.037 \n",
       "\n",
       "Coefficients:\n",
       "             Estimate Std. Error t value Pr(>|t|)  \n",
       "(Intercept) 114.49774   98.36788   1.164   0.2626  \n",
       "Age          -0.29348    0.44619  -0.658   0.5207  \n",
       "Years        -0.68795    0.37749  -1.822   0.0884 .\n",
       "Weight        1.93852    0.83320   2.327   0.0344 *\n",
       "Height       -0.05788    0.07447  -0.777   0.4491  \n",
       "Chin         -0.65484    1.19610  -0.547   0.5921  \n",
       "Forearm      -1.02282    2.80041  -0.365   0.7200  \n",
       "Calf         -0.21304    1.00756  -0.211   0.8354  \n",
       "Pulse         0.19395    0.26701   0.726   0.4788  \n",
       "---\n",
       "Signif. codes:  0 '***' 0.001 '**' 0.01 '*' 0.05 '.' 0.1 ' ' 1\n",
       "\n",
       "Residual standard error: 11.44 on 15 degrees of freedom\n",
       "Multiple R-squared:  0.5347,\tAdjusted R-squared:  0.2865 \n",
       "F-statistic: 2.155 on 8 and 15 DF,  p-value: 0.09521\n"
      ]
     },
     "metadata": {},
     "output_type": "display_data"
    }
   ],
   "source": [
    "library(\"readxl\")\n",
    "\n",
    "# read the data in from the .xlsx file. \n",
    "BPData <- read_excel(\"MATPMD1Chapter10DataSBP.xlsx\")\n",
    "\n",
    "# set up a linear regression model where Systol is the dependent variable which varies with independent variables\n",
    "# Age+Years+Weight+Height+Chin+Forearm+Calf+Pulse\n",
    "sbp.lm<-lm(data=BPData, Systol ~ Age+Years+Weight+Height+Chin+Forearm+Calf+Pulse)\n",
    "\n",
    "# And view a summary of the model\n",
    "summary(sbp.lm)"
   ]
  },
  {
   "cell_type": "markdown",
   "metadata": {
    "slideshow": {
     "slide_type": "slide"
    }
   },
   "source": [
    "<body>\n",
    "    <p>From the summary of the linear model it would appear that Weight and years is significantly associated with Systolic blood pressure (p-value=0.0344 and 0.0884) .\n",
    "    </p>\n",
    "    <p>The regression model explains 53.47% of the variability in the response ($R^2$).\n",
    "    </p>\n",
    "    <p>However,...\n",
    "</body>"
   ]
  },
  {
   "cell_type": "markdown",
   "metadata": {
    "slideshow": {
     "slide_type": "slide"
    }
   },
   "source": [
    "<body>\n",
    "    <p>However, the result of our F-test is:\n",
    "    </p>\n",
    "    <p>F=2.155, p-value=0.09521 \n",
    "    </p>\n",
    "    <p>indicating that the regression model is not significant in explaining the variability in the response. This contradicts the our previous statement that the model explains 53.47% of the variability. What might have gone wrong?\n",
    "    </p>\n",
    "    <p>Let's check model assumptions.\n",
    "    </p>\n",
    "</body>"
   ]
  },
  {
   "cell_type": "code",
   "execution_count": 15,
   "metadata": {
    "scrolled": false,
    "slideshow": {
     "slide_type": "slide"
    }
   },
   "outputs": [
    {
     "data": {
      "image/png": "[encoded data removed]",
      "text/plain": [
       "Plot with title \"Normal Q-Q Plot\""
      ]
     },
     "metadata": {
      "image/png": {
       "height": 420,
       "width": 420
      }
     },
     "output_type": "display_data"
    }
   ],
   "source": [
    "library(\"readxl\")\n",
    "\n",
    "# read the data in from the .xlsx file. \n",
    "BPData <- read_excel(\"MATPMD1Chapter10DataSBP.xlsx\")\n",
    "\n",
    "# set up a linear regression model where Systol is the dependent variable which varies with independent variables\n",
    "# Age+Years+Weight+Height+Chin+Forearm+Calf+Pulse\n",
    "sbp.lm<-lm(data=BPData, Systol ~ Age+Years+Weight+Height+Chin+Forearm+Calf+Pulse)\n",
    "\n",
    "# extract the model residuals to use in our plots\n",
    "sbp.res = resid(sbp.lm)\n",
    "\n",
    "# this sets our plot to give 2x2 plots so that we can compare\n",
    "par(mfrow=c(2,2))\n",
    "\n",
    "with(BPData, {\n",
    "    \n",
    "    #plot predicted values against residuals\n",
    "    plot(predict.lm(sbp.lm),sbp.res,xlab=\"Fitted values\",ylab=\"Residual\")\n",
    "    # horizontal line to show value of residual = 0\n",
    "    abline(h=0)\n",
    "\n",
    "    # plot quantiles of theoretical normal distribution against residual quantiles\n",
    "    qqnorm(sbp.res,ylab=\"Systol resdiual quantiles\")\n",
    "    # dashed line to show where x and y are equal\n",
    "    qqline(sbp.res,lty=2)\n",
    "\n",
    "    #and plot residual in order of observation to test independence of observations\n",
    "    plot (seq(1,length(sbp.res),1),sbp.res,xlab=\"Observation Order\",ylab=\"Residual\",type=\"b\")\n",
    "    # dashed horizontal line to show where residual = 0\n",
    "    abline(h=0,lty=2)\n",
    "})\n"
   ]
  },
  {
   "cell_type": "markdown",
   "metadata": {
    "slideshow": {
     "slide_type": "slide"
    }
   },
   "source": [
    "<body>\n",
    "    <p>The plot of the residuals against fitted values (top left) display some pattern, however this might be due to a small amount of data. They seem to fit within a constant band. \n",
    "    </p>\n",
    "    <p>The qqnorm plot (top right) shows that the data points are very close to the theoretical line for normal values, and therefore informally we can conclude that the normality assumption is satisfied.\n",
    "    </p>\n",
    "    <p>The plot of Residual vs Order diagnostic plot (bottom left) shows no obvious pattern in that plot and therefore we can conclude that the residuals are independent of each other\n",
    "    </p>\n",
    "</body>"
   ]
  },
  {
   "cell_type": "markdown",
   "metadata": {
    "slideshow": {
     "slide_type": "slide"
    }
   },
   "source": [
    "<body>\n",
    "    <p>Finally we want to check that the response variable and the independent variables have a linear relationship.\n",
    "    </p>\n",
    "    <p>We do this by plotting the residuals against each of the covariates. If the relationship is linear then the residual will be randomly scattered above and below the zero line.         \n",
    "    </p>\n",
    "</body>"
   ]
  },
  {
   "cell_type": "code",
   "execution_count": 16,
   "metadata": {
    "slideshow": {
     "slide_type": "slide"
    }
   },
   "outputs": [
    {
     "data": {
      "image/png": "[encoded data removed]",
      "text/plain": [
       "plot without title"
      ]
     },
     "metadata": {
      "image/png": {
       "height": 420,
       "width": 420
      }
     },
     "output_type": "display_data"
    }
   ],
   "source": [
    "library(\"readxl\")\n",
    "\n",
    "# read the data in from the .xlsx file. \n",
    "BPData <- read_excel(\"MATPMD1Chapter10DataSBP.xlsx\")\n",
    "\n",
    "# set up a linear regression model where Systol is the dependent variable which varies with independent variables\n",
    "# Age+Years+Weight+Height+Chin+Forearm+Calf+Pulse\n",
    "sbp.lm<-lm(data=BPData, Systol ~ Age+Years+Weight+Height+Chin+Forearm+Calf+Pulse)\n",
    "\n",
    "# extract the model residuals to use in our plots\n",
    "sbp.res = resid(sbp.lm)\n",
    "\n",
    "# this sets our plot to give 2x2 plots so that we can compare\n",
    "par(mfrow=c(2,2))\n",
    "\n",
    "with(BPData, {    \n",
    "    # plot residuals against model covariants. First Age\n",
    "    plot(Age,sbp.res,xlab=\"Age\",ylab=\"sbp.lm residuals\")\n",
    "    # horizontal line to show value of residual = 0\n",
    "    abline(h=0)\n",
    "    # Now Years\n",
    "    plot(Years,sbp.res,xlab=\"Years\",ylab=\"sbp.lm residuals\")\n",
    "    # horizontal line to show value of residual = 0\n",
    "    abline(h=0)\n",
    "    # Now Weight\n",
    "    plot(Weight,sbp.res,xlab=\"Weight\",ylab=\"sbp.lm residuals\")\n",
    "    # horizontal line to show value of residual = 0\n",
    "    abline(h=0)\n",
    "    # Now Height\n",
    "    plot(Height,sbp.res,xlab=\"Height\",ylab=\"sbp.lm residuals\")\n",
    "    # horizontal line to show value of residual = 0\n",
    "    abline(h=0)\n",
    "})\n"
   ]
  },
  {
   "cell_type": "code",
   "execution_count": 17,
   "metadata": {
    "slideshow": {
     "slide_type": "slide"
    }
   },
   "outputs": [
    {
     "data": {
      "image/png": "[encoded data removed]",
      "text/plain": [
       "plot without title"
      ]
     },
     "metadata": {
      "image/png": {
       "height": 420,
       "width": 420
      }
     },
     "output_type": "display_data"
    }
   ],
   "source": [
    "library(\"readxl\")\n",
    "\n",
    "# read the data in from the .xlsx file. \n",
    "BPData <- read_excel(\"MATPMD1Chapter10DataSBP.xlsx\")\n",
    "\n",
    "# set up a linear regression model where Systol is the dependent variable which varies with independent variables\n",
    "# Age+Years+Weight+Height+Chin+Forearm+Calf+Pulse\n",
    "sbp.lm<-lm(data=BPData, Systol ~ Age+Years+Weight+Height+Chin+Forearm+Calf+Pulse)\n",
    "\n",
    "# extract the model residuals to use in our plots\n",
    "sbp.res = resid(sbp.lm)\n",
    "\n",
    "# this sets our plot to give 2x2 plots so that we can compare\n",
    "par(mfrow=c(2,2))\n",
    "\n",
    "with(BPData, {\n",
    "    \n",
    "    # plot more residuals against model covariants. First Chin\n",
    "    plot(Chin,sbp.res,xlab=\"Chin\",ylab=\"sbp.lm residuals\")\n",
    "    # horizontal line to show value of residual = 0\n",
    "    abline(h=0)\n",
    "    # Now Forearm\n",
    "    plot(Forearm,sbp.res,xlab=\"Forearm\",ylab=\"sbp.lm residuals\")\n",
    "    # horizontal line to show value of residual = 0\n",
    "    abline(h=0)\n",
    "    # Now Calf\n",
    "    plot(Calf,sbp.res,xlab=\"Calf\",ylab=\"sbp.lm residuals\")\n",
    "    # horizontal line to show value of residual = 0\n",
    "    abline(h=0)\n",
    "    # Now Pulse\n",
    "    plot(Pulse,sbp.res,xlab=\"Pulse\",ylab=\"sbp.lm residuals\")\n",
    "    # horizontal line to show value of residual = 0\n",
    "    abline(h=0)\n",
    "})\n"
   ]
  },
  {
   "cell_type": "markdown",
   "metadata": {
    "slideshow": {
     "slide_type": "slide"
    }
   },
   "source": [
    "<body>\n",
    "    <p>The scatterplots of residuals vs each of the covariates do not show any pattern suggesting that a linear relationship is appropriate. \n",
    "    </p>\n",
    "    <p>Finally, we can check the goodness of fit of the model by plotting the fitted (predicted) values versus the observed values. \n",
    "</body>"
   ]
  },
  {
   "cell_type": "code",
   "execution_count": 18,
   "metadata": {
    "slideshow": {
     "slide_type": "slide"
    }
   },
   "outputs": [
    {
     "data": {
      "image/png": "[encoded data removed]",
      "text/plain": [
       "plot without title"
      ]
     },
     "metadata": {
      "image/png": {
       "height": 420,
       "width": 420
      }
     },
     "output_type": "display_data"
    }
   ],
   "source": [
    "library(\"readxl\")\n",
    "\n",
    "# read the data in from the .xlsx file. \n",
    "BPData <- read_excel(\"MATPMD1Chapter10DataSBP.xlsx\")\n",
    "\n",
    "# set up a linear regression model where Systol is the dependent variable which varies with independent variables\n",
    "# Age+Years+Weight+Height+Chin+Forearm+Calf+Pulse\n",
    "sbp.lm<-lm(data=BPData, Systol ~ Age+Years+Weight+Height+Chin+Forearm+Calf+Pulse)\n",
    "\n",
    "# extract the model residuals to use in our plots\n",
    "sbp.res = resid(sbp.lm)\n",
    "\n",
    "with(BPData, {\n",
    "    \n",
    "    # finally plot fitted (predicted) values against actual SBP\n",
    "    plot(Systol,predict.lm(sbp.lm),xlab=\"Systolic Blood Pressure\",ylab=\"Fitted values\")\n",
    "    abline(0,1,lty=2)\n",
    "\n",
    "})\n"
   ]
  },
  {
   "cell_type": "markdown",
   "metadata": {
    "slideshow": {
     "slide_type": "slide"
    }
   },
   "source": [
    "<body>\n",
    "    <p>We observe that the fitted values are slightly underestimating the large values of  the observed SBP, this might be due to the presence of an outlier in the data. There is a lot of scatter in the plot, which is also reflected in the coefficient of determination R2=0.534 suggesting that 53.4% in the variability of the response variable is explained by the model. \n",
    "    </p>\n",
    "    <p>The assumptions of the regression models are all valid, however, the results in the coefficients table and the F-test shown in the model summary contradict this, what might have gone wrong?\n",
    "    </p>\n",
    "</body>"
   ]
  },
  {
   "cell_type": "markdown",
   "metadata": {
    "slideshow": {
     "slide_type": "slide"
    }
   },
   "source": [
    "<body>\n",
    "    <p>This sort of contradiction can be due to the fact that there is a lot of overlapping information in the covariates which are fitted into the model. \n",
    "    </p>\n",
    "    <p>Remembering the correlation matrix there are some high correlation coefficients between the covariates such as Weight and Years(r=0.518), Weight and Height (r=0.520), Weight and Chin (r=0.676) Weight and Forearm (r=0.744), Weight and Calf (r=0.501), Forearm and Calf(r=0.678). \n",
    "    </p>\n",
    "</body>"
   ]
  },
  {
   "cell_type": "markdown",
   "metadata": {
    "slideshow": {
     "slide_type": "slide"
    }
   },
   "source": [
    "<body>\n",
    "    <p>Multicollinearity refers to a situation in which two or more explanatory variables in a multiple regression model are highly linearly related.\n",
    "    </p>\n",
    "    <p>Remember be noted that multicollinearity in a regression model can be detected by calculating the Variance Inflated Factor (VIF). There are libraries in R that provide a function to perform this.\n",
    "    </p>\n",
    "</body>"
   ]
  },
  {
   "cell_type": "markdown",
   "metadata": {
    "slideshow": {
     "slide_type": "slide"
    }
   },
   "source": [
    "<body>\n",
    "    <p>To avoid collinearity, we need to exclude from the model the overlapping information. This is called model selection.  \n",
    "    </p>\n",
    "    <p>In general, we want to include in the model variables that are significantly related to the response variable, and that offer a sufficient amount of new information about the response variable in addition to the variables already included in the model.\n",
    "    </p>\n",
    "</body>"
   ]
  },
  {
   "cell_type": "markdown",
   "metadata": {
    "slideshow": {
     "slide_type": "slide"
    }
   },
   "source": [
    "<body>\n",
    "    <p>Remember in the Timber Example 10.2.7 we stepped backwards to assess the affect of removing one of the independent variables. We are going to do the same here.\n",
    "    </p>\n",
    "    <p>We are going to use another F-test to determine whether a variable should be included in the model. This is the test that is used by the R function drop1() when we give it the parameter \"test=F\".\n",
    "    </p>\n",
    "</body>"
   ]
  },
  {
   "cell_type": "markdown",
   "metadata": {
    "slideshow": {
     "slide_type": "slide"
    }
   },
   "source": [
    "<body>\n",
    "    <p>In a similar fashion to Equation 8.5 for determining the inclusion of a factor in an ANOVA test, we use the following test for nested multiple linear regression models.\n",
    "    </p>\n",
    "    <p>Consider Model1 which has $n$ data points and $k_1$ parameters, and Model0 which is a subset of Model1 and has $k_0$ parameters. Then our hypotheses are:\n",
    "    </p>\n",
    "</body>"
   ]
  },
  {
   "cell_type": "markdown",
   "metadata": {
    "slideshow": {
     "slide_type": "slide"
    }
   },
   "source": [
    "<body>\n",
    "    <p>$$\\begin{align}H_0: &\\textrm{the additional coefficients in outer Model1 are equal to 0} \\\\\n",
    "                      H_1: &\\textrm{the additional coefficients in outer Model1 are not equal to 0} \\end{align}$$\n",
    "    </p>\n",
    "    <p>$$\\begin{align}F=\\dfrac{(RSS_0-RSS_1)/(k_1-k_0)}{RSS_1/(n-k_1)} \\\\\n",
    "        \\\\\n",
    "        \\sim F(k_1-k_0,n-k_1) \\quad \\textrm{under}\\quad H_0\\end{align}$$\n",
    "    </p>\n",
    "</body>"
   ]
  },
  {
   "cell_type": "code",
   "execution_count": 19,
   "metadata": {
    "slideshow": {
     "slide_type": "slide"
    }
   },
   "outputs": [
    {
     "data": {
      "text/html": [
       "<table class=\"dataframe\">\n",
       "<caption>A anova: 9 × 6</caption>\n",
       "<thead>\n",
       "\t<tr><th></th><th scope=col>Df</th><th scope=col>Sum of Sq</th><th scope=col>RSS</th><th scope=col>AIC</th><th scope=col>F value</th><th scope=col>Pr(&gt;F)</th></tr>\n",
       "\t<tr><th></th><th scope=col>&lt;dbl&gt;</th><th scope=col>&lt;dbl&gt;</th><th scope=col>&lt;dbl&gt;</th><th scope=col>&lt;dbl&gt;</th><th scope=col>&lt;dbl&gt;</th><th scope=col>&lt;dbl&gt;</th></tr>\n",
       "</thead>\n",
       "<tbody>\n",
       "\t<tr><th scope=row>&lt;none&gt;</th><td>NA</td><td>        NA</td><td>1963.551</td><td>123.7070</td><td>        NA</td><td>        NA</td></tr>\n",
       "\t<tr><th scope=row>Age</th><td> 1</td><td> 56.634383</td><td>2020.186</td><td>122.3894</td><td>0.43264247</td><td>0.52066223</td></tr>\n",
       "\t<tr><th scope=row>Years</th><td> 1</td><td>434.765011</td><td>2398.316</td><td>126.5072</td><td>3.32126522</td><td>0.08838424</td></tr>\n",
       "\t<tr><th scope=row>Weight</th><td> 1</td><td>708.589094</td><td>2672.141</td><td>129.1020</td><td>5.41306741</td><td>0.03440623</td></tr>\n",
       "\t<tr><th scope=row>Height</th><td> 1</td><td> 79.064071</td><td>2042.616</td><td>122.6544</td><td>0.60398777</td><td>0.44914420</td></tr>\n",
       "\t<tr><th scope=row>Chin</th><td> 1</td><td> 39.235946</td><td>2002.787</td><td>122.1818</td><td>0.29973200</td><td>0.59210398</td></tr>\n",
       "\t<tr><th scope=row>Forearm</th><td> 1</td><td> 17.462578</td><td>1981.014</td><td>121.9194</td><td>0.13340046</td><td>0.72003088</td></tr>\n",
       "\t<tr><th scope=row>Calf</th><td> 1</td><td>  5.852254</td><td>1969.404</td><td>121.7784</td><td>0.04470665</td><td>0.83539026</td></tr>\n",
       "\t<tr><th scope=row>Pulse</th><td> 1</td><td> 69.066164</td><td>2032.618</td><td>122.5366</td><td>0.52761157</td><td>0.47879507</td></tr>\n",
       "</tbody>\n",
       "</table>\n"
      ],
      "text/latex": [
       "A anova: 9 × 6\n",
       "\\begin{tabular}{r|llllll}\n",
       "  & Df & Sum of Sq & RSS & AIC & F value & Pr(>F)\\\\\n",
       "  & <dbl> & <dbl> & <dbl> & <dbl> & <dbl> & <dbl>\\\\\n",
       "\\hline\n",
       "\t<none> & NA &         NA & 1963.551 & 123.7070 &         NA &         NA\\\\\n",
       "\tAge &  1 &  56.634383 & 2020.186 & 122.3894 & 0.43264247 & 0.52066223\\\\\n",
       "\tYears &  1 & 434.765011 & 2398.316 & 126.5072 & 3.32126522 & 0.08838424\\\\\n",
       "\tWeight &  1 & 708.589094 & 2672.141 & 129.1020 & 5.41306741 & 0.03440623\\\\\n",
       "\tHeight &  1 &  79.064071 & 2042.616 & 122.6544 & 0.60398777 & 0.44914420\\\\\n",
       "\tChin &  1 &  39.235946 & 2002.787 & 122.1818 & 0.29973200 & 0.59210398\\\\\n",
       "\tForearm &  1 &  17.462578 & 1981.014 & 121.9194 & 0.13340046 & 0.72003088\\\\\n",
       "\tCalf &  1 &   5.852254 & 1969.404 & 121.7784 & 0.04470665 & 0.83539026\\\\\n",
       "\tPulse &  1 &  69.066164 & 2032.618 & 122.5366 & 0.52761157 & 0.47879507\\\\\n",
       "\\end{tabular}\n"
      ],
      "text/markdown": [
       "\n",
       "A anova: 9 × 6\n",
       "\n",
       "| <!--/--> | Df &lt;dbl&gt; | Sum of Sq &lt;dbl&gt; | RSS &lt;dbl&gt; | AIC &lt;dbl&gt; | F value &lt;dbl&gt; | Pr(&gt;F) &lt;dbl&gt; |\n",
       "|---|---|---|---|---|---|---|\n",
       "| &lt;none&gt; | NA |         NA | 1963.551 | 123.7070 |         NA |         NA |\n",
       "| Age |  1 |  56.634383 | 2020.186 | 122.3894 | 0.43264247 | 0.52066223 |\n",
       "| Years |  1 | 434.765011 | 2398.316 | 126.5072 | 3.32126522 | 0.08838424 |\n",
       "| Weight |  1 | 708.589094 | 2672.141 | 129.1020 | 5.41306741 | 0.03440623 |\n",
       "| Height |  1 |  79.064071 | 2042.616 | 122.6544 | 0.60398777 | 0.44914420 |\n",
       "| Chin |  1 |  39.235946 | 2002.787 | 122.1818 | 0.29973200 | 0.59210398 |\n",
       "| Forearm |  1 |  17.462578 | 1981.014 | 121.9194 | 0.13340046 | 0.72003088 |\n",
       "| Calf |  1 |   5.852254 | 1969.404 | 121.7784 | 0.04470665 | 0.83539026 |\n",
       "| Pulse |  1 |  69.066164 | 2032.618 | 122.5366 | 0.52761157 | 0.47879507 |\n",
       "\n"
      ],
      "text/plain": [
       "        Df Sum of Sq  RSS      AIC      F value    Pr(>F)    \n",
       "<none>  NA         NA 1963.551 123.7070         NA         NA\n",
       "Age      1  56.634383 2020.186 122.3894 0.43264247 0.52066223\n",
       "Years    1 434.765011 2398.316 126.5072 3.32126522 0.08838424\n",
       "Weight   1 708.589094 2672.141 129.1020 5.41306741 0.03440623\n",
       "Height   1  79.064071 2042.616 122.6544 0.60398777 0.44914420\n",
       "Chin     1  39.235946 2002.787 122.1818 0.29973200 0.59210398\n",
       "Forearm  1  17.462578 1981.014 121.9194 0.13340046 0.72003088\n",
       "Calf     1   5.852254 1969.404 121.7784 0.04470665 0.83539026\n",
       "Pulse    1  69.066164 2032.618 122.5366 0.52761157 0.47879507"
      ]
     },
     "metadata": {},
     "output_type": "display_data"
    }
   ],
   "source": [
    "library(\"readxl\")\n",
    "\n",
    "# read the data in from the .xlsx file. \n",
    "BPData <- read_excel(\"MATPMD1Chapter10DataSBP.xlsx\")\n",
    "\n",
    "# set up a linear regression model where Systol is the dependent variable which varies with independent variables\n",
    "# Age+Years+Weight+Height+Chin+Forearm+Calf+Pulse\n",
    "sbp.lm<-lm(data=BPData, Systol ~ Age+Years+Weight+Height+Chin+Forearm+Calf+Pulse)\n",
    "\n",
    "with(BPData, {\n",
    "    \n",
    "    # try the drop1() function\n",
    "    drop1(sbp.lm,test=\"F\")\n",
    "\n",
    "})\n"
   ]
  },
  {
   "cell_type": "code",
   "execution_count": 20,
   "metadata": {
    "slideshow": {
     "slide_type": "slide"
    }
   },
   "outputs": [
    {
     "data": {
      "text/html": [
       "<table class=\"dataframe\">\n",
       "<caption>A anova: 8 × 6</caption>\n",
       "<thead>\n",
       "\t<tr><th></th><th scope=col>Df</th><th scope=col>Sum of Sq</th><th scope=col>RSS</th><th scope=col>AIC</th><th scope=col>F value</th><th scope=col>Pr(&gt;F)</th></tr>\n",
       "\t<tr><th></th><th scope=col>&lt;dbl&gt;</th><th scope=col>&lt;dbl&gt;</th><th scope=col>&lt;dbl&gt;</th><th scope=col>&lt;dbl&gt;</th><th scope=col>&lt;dbl&gt;</th><th scope=col>&lt;dbl&gt;</th></tr>\n",
       "</thead>\n",
       "<tbody>\n",
       "\t<tr><th scope=row>&lt;none&gt;</th><td>NA</td><td>       NA</td><td>1969.404</td><td>121.7784</td><td>       NA</td><td>        NA</td></tr>\n",
       "\t<tr><th scope=row>Age</th><td> 1</td><td> 53.26791</td><td>2022.672</td><td>120.4189</td><td>0.4327638</td><td>0.51998922</td></tr>\n",
       "\t<tr><th scope=row>Years</th><td> 1</td><td>464.10535</td><td>2433.509</td><td>124.8569</td><td>3.7705248</td><td>0.06998311</td></tr>\n",
       "\t<tr><th scope=row>Weight</th><td> 1</td><td>704.00021</td><td>2673.404</td><td>127.1133</td><td>5.7194994</td><td>0.02940964</td></tr>\n",
       "\t<tr><th scope=row>Height</th><td> 1</td><td> 76.03987</td><td>2045.444</td><td>120.6876</td><td>0.6177697</td><td>0.44336250</td></tr>\n",
       "\t<tr><th scope=row>Chin</th><td> 1</td><td> 42.75047</td><td>2012.154</td><td>120.2938</td><td>0.3473171</td><td>0.56386541</td></tr>\n",
       "\t<tr><th scope=row>Forearm</th><td> 1</td><td> 36.52287</td><td>2005.927</td><td>120.2194</td><td>0.2967223</td><td>0.59345641</td></tr>\n",
       "\t<tr><th scope=row>Pulse</th><td> 1</td><td> 82.51681</td><td>2051.921</td><td>120.7635</td><td>0.6703902</td><td>0.42494331</td></tr>\n",
       "</tbody>\n",
       "</table>\n"
      ],
      "text/latex": [
       "A anova: 8 × 6\n",
       "\\begin{tabular}{r|llllll}\n",
       "  & Df & Sum of Sq & RSS & AIC & F value & Pr(>F)\\\\\n",
       "  & <dbl> & <dbl> & <dbl> & <dbl> & <dbl> & <dbl>\\\\\n",
       "\\hline\n",
       "\t<none> & NA &        NA & 1969.404 & 121.7784 &        NA &         NA\\\\\n",
       "\tAge &  1 &  53.26791 & 2022.672 & 120.4189 & 0.4327638 & 0.51998922\\\\\n",
       "\tYears &  1 & 464.10535 & 2433.509 & 124.8569 & 3.7705248 & 0.06998311\\\\\n",
       "\tWeight &  1 & 704.00021 & 2673.404 & 127.1133 & 5.7194994 & 0.02940964\\\\\n",
       "\tHeight &  1 &  76.03987 & 2045.444 & 120.6876 & 0.6177697 & 0.44336250\\\\\n",
       "\tChin &  1 &  42.75047 & 2012.154 & 120.2938 & 0.3473171 & 0.56386541\\\\\n",
       "\tForearm &  1 &  36.52287 & 2005.927 & 120.2194 & 0.2967223 & 0.59345641\\\\\n",
       "\tPulse &  1 &  82.51681 & 2051.921 & 120.7635 & 0.6703902 & 0.42494331\\\\\n",
       "\\end{tabular}\n"
      ],
      "text/markdown": [
       "\n",
       "A anova: 8 × 6\n",
       "\n",
       "| <!--/--> | Df &lt;dbl&gt; | Sum of Sq &lt;dbl&gt; | RSS &lt;dbl&gt; | AIC &lt;dbl&gt; | F value &lt;dbl&gt; | Pr(&gt;F) &lt;dbl&gt; |\n",
       "|---|---|---|---|---|---|---|\n",
       "| &lt;none&gt; | NA |        NA | 1969.404 | 121.7784 |        NA |         NA |\n",
       "| Age |  1 |  53.26791 | 2022.672 | 120.4189 | 0.4327638 | 0.51998922 |\n",
       "| Years |  1 | 464.10535 | 2433.509 | 124.8569 | 3.7705248 | 0.06998311 |\n",
       "| Weight |  1 | 704.00021 | 2673.404 | 127.1133 | 5.7194994 | 0.02940964 |\n",
       "| Height |  1 |  76.03987 | 2045.444 | 120.6876 | 0.6177697 | 0.44336250 |\n",
       "| Chin |  1 |  42.75047 | 2012.154 | 120.2938 | 0.3473171 | 0.56386541 |\n",
       "| Forearm |  1 |  36.52287 | 2005.927 | 120.2194 | 0.2967223 | 0.59345641 |\n",
       "| Pulse |  1 |  82.51681 | 2051.921 | 120.7635 | 0.6703902 | 0.42494331 |\n",
       "\n"
      ],
      "text/plain": [
       "        Df Sum of Sq RSS      AIC      F value   Pr(>F)    \n",
       "<none>  NA        NA 1969.404 121.7784        NA         NA\n",
       "Age      1  53.26791 2022.672 120.4189 0.4327638 0.51998922\n",
       "Years    1 464.10535 2433.509 124.8569 3.7705248 0.06998311\n",
       "Weight   1 704.00021 2673.404 127.1133 5.7194994 0.02940964\n",
       "Height   1  76.03987 2045.444 120.6876 0.6177697 0.44336250\n",
       "Chin     1  42.75047 2012.154 120.2938 0.3473171 0.56386541\n",
       "Forearm  1  36.52287 2005.927 120.2194 0.2967223 0.59345641\n",
       "Pulse    1  82.51681 2051.921 120.7635 0.6703902 0.42494331"
      ]
     },
     "metadata": {},
     "output_type": "display_data"
    }
   ],
   "source": [
    "library(\"readxl\")\n",
    "\n",
    "# read the data in from the .xlsx file. \n",
    "BPData <- read_excel(\"MATPMD1Chapter10DataSBP.xlsx\")\n",
    "\n",
    "# Let's drop Calf from the model as it has the lowest \"F value\"\n",
    "# set up a linear regression model where Systol is the dependent variable which varies with independent variables\n",
    "# Age+Years+Weight+Height+Chin+Forearm+Pulse\n",
    "sbp.lm<-lm(data=BPData, Systol ~ Age+Years+Weight+Height+Chin+Forearm+Pulse)\n",
    "\n",
    "with(BPData, {\n",
    "    \n",
    "    # try the drop1() function\n",
    "    drop1(sbp.lm,test=\"F\")\n",
    "\n",
    "})\n"
   ]
  },
  {
   "cell_type": "code",
   "execution_count": 21,
   "metadata": {
    "slideshow": {
     "slide_type": "slide"
    }
   },
   "outputs": [
    {
     "data": {
      "text/html": [
       "<table class=\"dataframe\">\n",
       "<caption>A anova: 7 × 6</caption>\n",
       "<thead>\n",
       "\t<tr><th></th><th scope=col>Df</th><th scope=col>Sum of Sq</th><th scope=col>RSS</th><th scope=col>AIC</th><th scope=col>F value</th><th scope=col>Pr(&gt;F)</th></tr>\n",
       "\t<tr><th></th><th scope=col>&lt;dbl&gt;</th><th scope=col>&lt;dbl&gt;</th><th scope=col>&lt;dbl&gt;</th><th scope=col>&lt;dbl&gt;</th><th scope=col>&lt;dbl&gt;</th><th scope=col>&lt;dbl&gt;</th></tr>\n",
       "</thead>\n",
       "<tbody>\n",
       "\t<tr><th scope=row>&lt;none&gt;</th><td>NA</td><td>       NA</td><td>2005.927</td><td>120.2194</td><td>       NA</td><td>        NA</td></tr>\n",
       "\t<tr><th scope=row>Age</th><td> 1</td><td> 29.92537</td><td>2035.852</td><td>118.5748</td><td>0.2536142</td><td>0.62100475</td></tr>\n",
       "\t<tr><th scope=row>Years</th><td> 1</td><td>451.38754</td><td>2457.314</td><td>123.0905</td><td>3.8254582</td><td>0.06711798</td></tr>\n",
       "\t<tr><th scope=row>Weight</th><td> 1</td><td>988.68856</td><td>2994.615</td><td>127.8364</td><td>8.3790233</td><td>0.01007606</td></tr>\n",
       "\t<tr><th scope=row>Height</th><td> 1</td><td> 41.32781</td><td>2047.254</td><td>118.7088</td><td>0.3502485</td><td>0.56176119</td></tr>\n",
       "\t<tr><th scope=row>Chin</th><td> 1</td><td> 51.45609</td><td>2057.383</td><td>118.8273</td><td>0.4360845</td><td>0.51786710</td></tr>\n",
       "\t<tr><th scope=row>Pulse</th><td> 1</td><td> 61.87666</td><td>2067.803</td><td>118.9485</td><td>0.5243976</td><td>0.47881989</td></tr>\n",
       "</tbody>\n",
       "</table>\n"
      ],
      "text/latex": [
       "A anova: 7 × 6\n",
       "\\begin{tabular}{r|llllll}\n",
       "  & Df & Sum of Sq & RSS & AIC & F value & Pr(>F)\\\\\n",
       "  & <dbl> & <dbl> & <dbl> & <dbl> & <dbl> & <dbl>\\\\\n",
       "\\hline\n",
       "\t<none> & NA &        NA & 2005.927 & 120.2194 &        NA &         NA\\\\\n",
       "\tAge &  1 &  29.92537 & 2035.852 & 118.5748 & 0.2536142 & 0.62100475\\\\\n",
       "\tYears &  1 & 451.38754 & 2457.314 & 123.0905 & 3.8254582 & 0.06711798\\\\\n",
       "\tWeight &  1 & 988.68856 & 2994.615 & 127.8364 & 8.3790233 & 0.01007606\\\\\n",
       "\tHeight &  1 &  41.32781 & 2047.254 & 118.7088 & 0.3502485 & 0.56176119\\\\\n",
       "\tChin &  1 &  51.45609 & 2057.383 & 118.8273 & 0.4360845 & 0.51786710\\\\\n",
       "\tPulse &  1 &  61.87666 & 2067.803 & 118.9485 & 0.5243976 & 0.47881989\\\\\n",
       "\\end{tabular}\n"
      ],
      "text/markdown": [
       "\n",
       "A anova: 7 × 6\n",
       "\n",
       "| <!--/--> | Df &lt;dbl&gt; | Sum of Sq &lt;dbl&gt; | RSS &lt;dbl&gt; | AIC &lt;dbl&gt; | F value &lt;dbl&gt; | Pr(&gt;F) &lt;dbl&gt; |\n",
       "|---|---|---|---|---|---|---|\n",
       "| &lt;none&gt; | NA |        NA | 2005.927 | 120.2194 |        NA |         NA |\n",
       "| Age |  1 |  29.92537 | 2035.852 | 118.5748 | 0.2536142 | 0.62100475 |\n",
       "| Years |  1 | 451.38754 | 2457.314 | 123.0905 | 3.8254582 | 0.06711798 |\n",
       "| Weight |  1 | 988.68856 | 2994.615 | 127.8364 | 8.3790233 | 0.01007606 |\n",
       "| Height |  1 |  41.32781 | 2047.254 | 118.7088 | 0.3502485 | 0.56176119 |\n",
       "| Chin |  1 |  51.45609 | 2057.383 | 118.8273 | 0.4360845 | 0.51786710 |\n",
       "| Pulse |  1 |  61.87666 | 2067.803 | 118.9485 | 0.5243976 | 0.47881989 |\n",
       "\n"
      ],
      "text/plain": [
       "       Df Sum of Sq RSS      AIC      F value   Pr(>F)    \n",
       "<none> NA        NA 2005.927 120.2194        NA         NA\n",
       "Age     1  29.92537 2035.852 118.5748 0.2536142 0.62100475\n",
       "Years   1 451.38754 2457.314 123.0905 3.8254582 0.06711798\n",
       "Weight  1 988.68856 2994.615 127.8364 8.3790233 0.01007606\n",
       "Height  1  41.32781 2047.254 118.7088 0.3502485 0.56176119\n",
       "Chin    1  51.45609 2057.383 118.8273 0.4360845 0.51786710\n",
       "Pulse   1  61.87666 2067.803 118.9485 0.5243976 0.47881989"
      ]
     },
     "metadata": {},
     "output_type": "display_data"
    }
   ],
   "source": [
    "library(\"readxl\")\n",
    "\n",
    "# read the data in from the .xlsx file. \n",
    "BPData <- read_excel(\"MATPMD1Chapter10DataSBP.xlsx\")\n",
    "\n",
    "# Now drop Forearm from the model as it has the lowest \"F value\"\n",
    "# set up a linear regression model where Systol is the dependent variable which varies with independent variables\n",
    "# Age+Years+Weight+Height+Chin+Forearm+Pulse\n",
    "sbp.lm<-lm(data=BPData, Systol ~ Age+Years+Weight+Height+Chin+Pulse)\n",
    "\n",
    "with(BPData, {\n",
    "    \n",
    "    # try the drop1() function\n",
    "    drop1(sbp.lm,test=\"F\")\n",
    "\n",
    "})\n"
   ]
  },
  {
   "cell_type": "code",
   "execution_count": 22,
   "metadata": {
    "slideshow": {
     "slide_type": "slide"
    }
   },
   "outputs": [
    {
     "data": {
      "text/html": [
       "<table class=\"dataframe\">\n",
       "<caption>A anova: 6 × 6</caption>\n",
       "<thead>\n",
       "\t<tr><th></th><th scope=col>Df</th><th scope=col>Sum of Sq</th><th scope=col>RSS</th><th scope=col>AIC</th><th scope=col>F value</th><th scope=col>Pr(&gt;F)</th></tr>\n",
       "\t<tr><th></th><th scope=col>&lt;dbl&gt;</th><th scope=col>&lt;dbl&gt;</th><th scope=col>&lt;dbl&gt;</th><th scope=col>&lt;dbl&gt;</th><th scope=col>&lt;dbl&gt;</th><th scope=col>&lt;dbl&gt;</th></tr>\n",
       "</thead>\n",
       "<tbody>\n",
       "\t<tr><th scope=row>&lt;none&gt;</th><td>NA</td><td>        NA</td><td>2035.852</td><td>118.5748</td><td>       NA</td><td>         NA</td></tr>\n",
       "\t<tr><th scope=row>Years</th><td> 1</td><td> 573.34605</td><td>2609.198</td><td>122.5299</td><td>5.0692433</td><td>0.037083422</td></tr>\n",
       "\t<tr><th scope=row>Weight</th><td> 1</td><td>1020.08222</td><td>3055.934</td><td>126.3229</td><td>9.0190644</td><td>0.007632515</td></tr>\n",
       "\t<tr><th scope=row>Height</th><td> 1</td><td>  23.72196</td><td>2059.574</td><td>116.8528</td><td>0.2097379</td><td>0.652453262</td></tr>\n",
       "\t<tr><th scope=row>Chin</th><td> 1</td><td>  40.44947</td><td>2076.301</td><td>117.0470</td><td>0.3576343</td><td>0.557273330</td></tr>\n",
       "\t<tr><th scope=row>Pulse</th><td> 1</td><td>  91.85882</td><td>2127.711</td><td>117.6340</td><td>0.8121704</td><td>0.379379902</td></tr>\n",
       "</tbody>\n",
       "</table>\n"
      ],
      "text/latex": [
       "A anova: 6 × 6\n",
       "\\begin{tabular}{r|llllll}\n",
       "  & Df & Sum of Sq & RSS & AIC & F value & Pr(>F)\\\\\n",
       "  & <dbl> & <dbl> & <dbl> & <dbl> & <dbl> & <dbl>\\\\\n",
       "\\hline\n",
       "\t<none> & NA &         NA & 2035.852 & 118.5748 &        NA &          NA\\\\\n",
       "\tYears &  1 &  573.34605 & 2609.198 & 122.5299 & 5.0692433 & 0.037083422\\\\\n",
       "\tWeight &  1 & 1020.08222 & 3055.934 & 126.3229 & 9.0190644 & 0.007632515\\\\\n",
       "\tHeight &  1 &   23.72196 & 2059.574 & 116.8528 & 0.2097379 & 0.652453262\\\\\n",
       "\tChin &  1 &   40.44947 & 2076.301 & 117.0470 & 0.3576343 & 0.557273330\\\\\n",
       "\tPulse &  1 &   91.85882 & 2127.711 & 117.6340 & 0.8121704 & 0.379379902\\\\\n",
       "\\end{tabular}\n"
      ],
      "text/markdown": [
       "\n",
       "A anova: 6 × 6\n",
       "\n",
       "| <!--/--> | Df &lt;dbl&gt; | Sum of Sq &lt;dbl&gt; | RSS &lt;dbl&gt; | AIC &lt;dbl&gt; | F value &lt;dbl&gt; | Pr(&gt;F) &lt;dbl&gt; |\n",
       "|---|---|---|---|---|---|---|\n",
       "| &lt;none&gt; | NA |         NA | 2035.852 | 118.5748 |        NA |          NA |\n",
       "| Years |  1 |  573.34605 | 2609.198 | 122.5299 | 5.0692433 | 0.037083422 |\n",
       "| Weight |  1 | 1020.08222 | 3055.934 | 126.3229 | 9.0190644 | 0.007632515 |\n",
       "| Height |  1 |   23.72196 | 2059.574 | 116.8528 | 0.2097379 | 0.652453262 |\n",
       "| Chin |  1 |   40.44947 | 2076.301 | 117.0470 | 0.3576343 | 0.557273330 |\n",
       "| Pulse |  1 |   91.85882 | 2127.711 | 117.6340 | 0.8121704 | 0.379379902 |\n",
       "\n"
      ],
      "text/plain": [
       "       Df Sum of Sq  RSS      AIC      F value   Pr(>F)     \n",
       "<none> NA         NA 2035.852 118.5748        NA          NA\n",
       "Years   1  573.34605 2609.198 122.5299 5.0692433 0.037083422\n",
       "Weight  1 1020.08222 3055.934 126.3229 9.0190644 0.007632515\n",
       "Height  1   23.72196 2059.574 116.8528 0.2097379 0.652453262\n",
       "Chin    1   40.44947 2076.301 117.0470 0.3576343 0.557273330\n",
       "Pulse   1   91.85882 2127.711 117.6340 0.8121704 0.379379902"
      ]
     },
     "metadata": {},
     "output_type": "display_data"
    }
   ],
   "source": [
    "library(\"readxl\")\n",
    "\n",
    "# read the data in from the .xlsx file. \n",
    "BPData <- read_excel(\"MATPMD1Chapter10DataSBP.xlsx\")\n",
    "\n",
    "# Now drop Age from the model as it has the lowest \"F value\"\n",
    "# set up a linear regression model where Systol is the dependent variable which varies with independent variables\n",
    "# Age+Years+Weight+Height+Chin+Forearm+Pulse\n",
    "sbp.lm<-lm(data=BPData, Systol ~ Years+Weight+Height+Chin+Pulse)\n",
    "\n",
    "with(BPData, {\n",
    "    \n",
    "    # try the drop1() function\n",
    "    drop1(sbp.lm,test=\"F\")\n",
    "\n",
    "})\n"
   ]
  },
  {
   "cell_type": "code",
   "execution_count": 23,
   "metadata": {
    "slideshow": {
     "slide_type": "slide"
    }
   },
   "outputs": [
    {
     "data": {
      "text/html": [
       "<table class=\"dataframe\">\n",
       "<caption>A anova: 5 × 6</caption>\n",
       "<thead>\n",
       "\t<tr><th></th><th scope=col>Df</th><th scope=col>Sum of Sq</th><th scope=col>RSS</th><th scope=col>AIC</th><th scope=col>F value</th><th scope=col>Pr(&gt;F)</th></tr>\n",
       "\t<tr><th></th><th scope=col>&lt;dbl&gt;</th><th scope=col>&lt;dbl&gt;</th><th scope=col>&lt;dbl&gt;</th><th scope=col>&lt;dbl&gt;</th><th scope=col>&lt;dbl&gt;</th><th scope=col>&lt;dbl&gt;</th></tr>\n",
       "</thead>\n",
       "<tbody>\n",
       "\t<tr><th scope=row>&lt;none&gt;</th><td>NA</td><td>        NA</td><td>2059.574</td><td>116.8528</td><td>       NA</td><td>         NA</td></tr>\n",
       "\t<tr><th scope=row>Years</th><td> 1</td><td> 553.95170</td><td>2613.526</td><td>120.5696</td><td> 5.110320</td><td>0.035714528</td></tr>\n",
       "\t<tr><th scope=row>Weight</th><td> 1</td><td>1340.94365</td><td>3400.518</td><td>126.8871</td><td>12.370486</td><td>0.002303786</td></tr>\n",
       "\t<tr><th scope=row>Chin</th><td> 1</td><td>  28.53074</td><td>2088.105</td><td>115.1830</td><td> 0.263202</td><td>0.613842353</td></tr>\n",
       "\t<tr><th scope=row>Pulse</th><td> 1</td><td> 110.77154</td><td>2170.345</td><td>116.1101</td><td> 1.021891</td><td>0.324772158</td></tr>\n",
       "</tbody>\n",
       "</table>\n"
      ],
      "text/latex": [
       "A anova: 5 × 6\n",
       "\\begin{tabular}{r|llllll}\n",
       "  & Df & Sum of Sq & RSS & AIC & F value & Pr(>F)\\\\\n",
       "  & <dbl> & <dbl> & <dbl> & <dbl> & <dbl> & <dbl>\\\\\n",
       "\\hline\n",
       "\t<none> & NA &         NA & 2059.574 & 116.8528 &        NA &          NA\\\\\n",
       "\tYears &  1 &  553.95170 & 2613.526 & 120.5696 &  5.110320 & 0.035714528\\\\\n",
       "\tWeight &  1 & 1340.94365 & 3400.518 & 126.8871 & 12.370486 & 0.002303786\\\\\n",
       "\tChin &  1 &   28.53074 & 2088.105 & 115.1830 &  0.263202 & 0.613842353\\\\\n",
       "\tPulse &  1 &  110.77154 & 2170.345 & 116.1101 &  1.021891 & 0.324772158\\\\\n",
       "\\end{tabular}\n"
      ],
      "text/markdown": [
       "\n",
       "A anova: 5 × 6\n",
       "\n",
       "| <!--/--> | Df &lt;dbl&gt; | Sum of Sq &lt;dbl&gt; | RSS &lt;dbl&gt; | AIC &lt;dbl&gt; | F value &lt;dbl&gt; | Pr(&gt;F) &lt;dbl&gt; |\n",
       "|---|---|---|---|---|---|---|\n",
       "| &lt;none&gt; | NA |         NA | 2059.574 | 116.8528 |        NA |          NA |\n",
       "| Years |  1 |  553.95170 | 2613.526 | 120.5696 |  5.110320 | 0.035714528 |\n",
       "| Weight |  1 | 1340.94365 | 3400.518 | 126.8871 | 12.370486 | 0.002303786 |\n",
       "| Chin |  1 |   28.53074 | 2088.105 | 115.1830 |  0.263202 | 0.613842353 |\n",
       "| Pulse |  1 |  110.77154 | 2170.345 | 116.1101 |  1.021891 | 0.324772158 |\n",
       "\n"
      ],
      "text/plain": [
       "       Df Sum of Sq  RSS      AIC      F value   Pr(>F)     \n",
       "<none> NA         NA 2059.574 116.8528        NA          NA\n",
       "Years   1  553.95170 2613.526 120.5696  5.110320 0.035714528\n",
       "Weight  1 1340.94365 3400.518 126.8871 12.370486 0.002303786\n",
       "Chin    1   28.53074 2088.105 115.1830  0.263202 0.613842353\n",
       "Pulse   1  110.77154 2170.345 116.1101  1.021891 0.324772158"
      ]
     },
     "metadata": {},
     "output_type": "display_data"
    }
   ],
   "source": [
    "library(\"readxl\")\n",
    "\n",
    "# read the data in from the .xlsx file. \n",
    "BPData <- read_excel(\"MATPMD1Chapter10DataSBP.xlsx\")\n",
    "\n",
    "# Now drop 'Height' from the model as it has the lowest \"F value\"\n",
    "# set up a linear regression model where Systol is the dependent variable which varies with independent variables\n",
    "# Age+Years+Weight+Height+Chin+Forearm+Pulse\n",
    "sbp.lm<-lm(data=BPData, Systol ~ Years+Weight+Chin+Pulse)\n",
    "\n",
    "with(BPData, {\n",
    "    \n",
    "    # try the drop1() function\n",
    "    drop1(sbp.lm,test=\"F\")\n",
    "\n",
    "})\n"
   ]
  },
  {
   "cell_type": "code",
   "execution_count": 24,
   "metadata": {
    "slideshow": {
     "slide_type": "slide"
    }
   },
   "outputs": [
    {
     "data": {
      "text/html": [
       "<table class=\"dataframe\">\n",
       "<caption>A anova: 4 × 6</caption>\n",
       "<thead>\n",
       "\t<tr><th></th><th scope=col>Df</th><th scope=col>Sum of Sq</th><th scope=col>RSS</th><th scope=col>AIC</th><th scope=col>F value</th><th scope=col>Pr(&gt;F)</th></tr>\n",
       "\t<tr><th></th><th scope=col>&lt;dbl&gt;</th><th scope=col>&lt;dbl&gt;</th><th scope=col>&lt;dbl&gt;</th><th scope=col>&lt;dbl&gt;</th><th scope=col>&lt;dbl&gt;</th><th scope=col>&lt;dbl&gt;</th></tr>\n",
       "</thead>\n",
       "<tbody>\n",
       "\t<tr><th scope=row>&lt;none&gt;</th><td>NA</td><td>       NA</td><td>2088.105</td><td>115.1830</td><td>       NA</td><td>          NA</td></tr>\n",
       "\t<tr><th scope=row>Years</th><td> 1</td><td> 586.8704</td><td>2674.975</td><td>119.1274</td><td> 5.621082</td><td>0.0279044878</td></tr>\n",
       "\t<tr><th scope=row>Weight</th><td> 1</td><td>1706.0556</td><td>3794.160</td><td>127.5159</td><td>16.340710</td><td>0.0006371709</td></tr>\n",
       "\t<tr><th scope=row>Pulse</th><td> 1</td><td> 113.3079</td><td>2201.413</td><td>114.4512</td><td> 1.085270</td><td>0.3099517050</td></tr>\n",
       "</tbody>\n",
       "</table>\n"
      ],
      "text/latex": [
       "A anova: 4 × 6\n",
       "\\begin{tabular}{r|llllll}\n",
       "  & Df & Sum of Sq & RSS & AIC & F value & Pr(>F)\\\\\n",
       "  & <dbl> & <dbl> & <dbl> & <dbl> & <dbl> & <dbl>\\\\\n",
       "\\hline\n",
       "\t<none> & NA &        NA & 2088.105 & 115.1830 &        NA &           NA\\\\\n",
       "\tYears &  1 &  586.8704 & 2674.975 & 119.1274 &  5.621082 & 0.0279044878\\\\\n",
       "\tWeight &  1 & 1706.0556 & 3794.160 & 127.5159 & 16.340710 & 0.0006371709\\\\\n",
       "\tPulse &  1 &  113.3079 & 2201.413 & 114.4512 &  1.085270 & 0.3099517050\\\\\n",
       "\\end{tabular}\n"
      ],
      "text/markdown": [
       "\n",
       "A anova: 4 × 6\n",
       "\n",
       "| <!--/--> | Df &lt;dbl&gt; | Sum of Sq &lt;dbl&gt; | RSS &lt;dbl&gt; | AIC &lt;dbl&gt; | F value &lt;dbl&gt; | Pr(&gt;F) &lt;dbl&gt; |\n",
       "|---|---|---|---|---|---|---|\n",
       "| &lt;none&gt; | NA |        NA | 2088.105 | 115.1830 |        NA |           NA |\n",
       "| Years |  1 |  586.8704 | 2674.975 | 119.1274 |  5.621082 | 0.0279044878 |\n",
       "| Weight |  1 | 1706.0556 | 3794.160 | 127.5159 | 16.340710 | 0.0006371709 |\n",
       "| Pulse |  1 |  113.3079 | 2201.413 | 114.4512 |  1.085270 | 0.3099517050 |\n",
       "\n"
      ],
      "text/plain": [
       "       Df Sum of Sq RSS      AIC      F value   Pr(>F)      \n",
       "<none> NA        NA 2088.105 115.1830        NA           NA\n",
       "Years   1  586.8704 2674.975 119.1274  5.621082 0.0279044878\n",
       "Weight  1 1706.0556 3794.160 127.5159 16.340710 0.0006371709\n",
       "Pulse   1  113.3079 2201.413 114.4512  1.085270 0.3099517050"
      ]
     },
     "metadata": {},
     "output_type": "display_data"
    }
   ],
   "source": [
    "library(\"readxl\")\n",
    "\n",
    "# read the data in from the .xlsx file. \n",
    "BPData <- read_excel(\"MATPMD1Chapter10DataSBP.xlsx\")\n",
    "\n",
    "# Now drop Chin from the model as it has the lowest \"F value\"\n",
    "# set up a linear regression model where Systol is the dependent variable which varies with independent variables\n",
    "# Age+Years+Weight+Height+Chin+Forearm+Pulse\n",
    "sbp.lm<-lm(data=BPData, Systol ~ Years+Weight+Pulse)\n",
    "\n",
    "with(BPData, {\n",
    "    \n",
    "    # try the drop1() function\n",
    "    drop1(sbp.lm,test=\"F\")\n",
    "\n",
    "})\n"
   ]
  },
  {
   "cell_type": "code",
   "execution_count": 25,
   "metadata": {
    "slideshow": {
     "slide_type": "slide"
    }
   },
   "outputs": [
    {
     "data": {
      "text/html": [
       "<table class=\"dataframe\">\n",
       "<caption>A anova: 3 × 6</caption>\n",
       "<thead>\n",
       "\t<tr><th></th><th scope=col>Df</th><th scope=col>Sum of Sq</th><th scope=col>RSS</th><th scope=col>AIC</th><th scope=col>F value</th><th scope=col>Pr(&gt;F)</th></tr>\n",
       "\t<tr><th></th><th scope=col>&lt;dbl&gt;</th><th scope=col>&lt;dbl&gt;</th><th scope=col>&lt;dbl&gt;</th><th scope=col>&lt;dbl&gt;</th><th scope=col>&lt;dbl&gt;</th><th scope=col>&lt;dbl&gt;</th></tr>\n",
       "</thead>\n",
       "<tbody>\n",
       "\t<tr><th scope=row>&lt;none&gt;</th><td>NA</td><td>       NA</td><td>2201.413</td><td>114.4512</td><td>       NA</td><td>         NA</td></tr>\n",
       "\t<tr><th scope=row>Years</th><td> 1</td><td> 521.4652</td><td>2722.878</td><td>117.5534</td><td> 4.974429</td><td>0.036764865</td></tr>\n",
       "\t<tr><th scope=row>Weight</th><td> 1</td><td>2018.1511</td><td>4219.564</td><td>128.0664</td><td>19.251809</td><td>0.000257123</td></tr>\n",
       "</tbody>\n",
       "</table>\n"
      ],
      "text/latex": [
       "A anova: 3 × 6\n",
       "\\begin{tabular}{r|llllll}\n",
       "  & Df & Sum of Sq & RSS & AIC & F value & Pr(>F)\\\\\n",
       "  & <dbl> & <dbl> & <dbl> & <dbl> & <dbl> & <dbl>\\\\\n",
       "\\hline\n",
       "\t<none> & NA &        NA & 2201.413 & 114.4512 &        NA &          NA\\\\\n",
       "\tYears &  1 &  521.4652 & 2722.878 & 117.5534 &  4.974429 & 0.036764865\\\\\n",
       "\tWeight &  1 & 2018.1511 & 4219.564 & 128.0664 & 19.251809 & 0.000257123\\\\\n",
       "\\end{tabular}\n"
      ],
      "text/markdown": [
       "\n",
       "A anova: 3 × 6\n",
       "\n",
       "| <!--/--> | Df &lt;dbl&gt; | Sum of Sq &lt;dbl&gt; | RSS &lt;dbl&gt; | AIC &lt;dbl&gt; | F value &lt;dbl&gt; | Pr(&gt;F) &lt;dbl&gt; |\n",
       "|---|---|---|---|---|---|---|\n",
       "| &lt;none&gt; | NA |        NA | 2201.413 | 114.4512 |        NA |          NA |\n",
       "| Years |  1 |  521.4652 | 2722.878 | 117.5534 |  4.974429 | 0.036764865 |\n",
       "| Weight |  1 | 2018.1511 | 4219.564 | 128.0664 | 19.251809 | 0.000257123 |\n",
       "\n"
      ],
      "text/plain": [
       "       Df Sum of Sq RSS      AIC      F value   Pr(>F)     \n",
       "<none> NA        NA 2201.413 114.4512        NA          NA\n",
       "Years   1  521.4652 2722.878 117.5534  4.974429 0.036764865\n",
       "Weight  1 2018.1511 4219.564 128.0664 19.251809 0.000257123"
      ]
     },
     "metadata": {},
     "output_type": "display_data"
    }
   ],
   "source": [
    "library(\"readxl\")\n",
    "\n",
    "# read the data in from the .xlsx file. \n",
    "BPData <- read_excel(\"MATPMD1Chapter10DataSBP.xlsx\")\n",
    "\n",
    "# Now drop Pulse from the model as it has the lowest \"F value\"\n",
    "# set up a linear regression model where Systol is the dependent variable which varies with independent variables\n",
    "# Age+Years+Weight+Height+Chin+Forearm+Pulse\n",
    "sbp.lm<-lm(data=BPData, Systol ~ Years+Weight)\n",
    "\n",
    "with(BPData, {\n",
    "    \n",
    "    # try the drop1() function\n",
    "    drop1(sbp.lm,test=\"F\")\n",
    "\n",
    "})\n"
   ]
  },
  {
   "cell_type": "markdown",
   "metadata": {
    "slideshow": {
     "slide_type": "slide"
    }
   },
   "source": [
    "<body>\n",
    "    <p>So, we have finally found a model with two parameters that our F-test considers to be significant in the model.\n",
    "    </p>\n",
    "    <p>As an extra check you could try building the model forwards and see if you get the same result.\n",
    "    </p>\n",
    "    <p>We will use the R function step() to see whether backwards selection using the AIC criterion would select the same model.\n",
    "</body>"
   ]
  },
  {
   "cell_type": "code",
   "execution_count": 26,
   "metadata": {
    "slideshow": {
     "slide_type": "slide"
    }
   },
   "outputs": [
    {
     "name": "stdout",
     "output_type": "stream",
     "text": [
      "Start:  AIC=123.71\n",
      "Systol ~ Age + Years + Weight + Height + Chin + Forearm + Calf + \n",
      "    Pulse\n",
      "\n",
      "          Df Sum of Sq    RSS    AIC\n",
      "- Calf     1      5.85 1969.4 121.78\n",
      "- Forearm  1     17.46 1981.0 121.92\n",
      "- Chin     1     39.24 2002.8 122.18\n",
      "- Age      1     56.63 2020.2 122.39\n",
      "- Pulse    1     69.07 2032.6 122.54\n",
      "- Height   1     79.06 2042.6 122.65\n",
      "<none>                 1963.5 123.71\n",
      "- Years    1    434.77 2398.3 126.51\n",
      "- Weight   1    708.59 2672.1 129.10\n",
      "\n",
      "Step:  AIC=121.78\n",
      "Systol ~ Age + Years + Weight + Height + Chin + Forearm + Pulse\n",
      "\n",
      "          Df Sum of Sq    RSS    AIC\n",
      "- Forearm  1     36.52 2005.9 120.22\n",
      "- Chin     1     42.75 2012.2 120.29\n",
      "- Age      1     53.27 2022.7 120.42\n",
      "- Height   1     76.04 2045.4 120.69\n",
      "- Pulse    1     82.52 2051.9 120.76\n",
      "<none>                 1969.4 121.78\n",
      "- Years    1    464.11 2433.5 124.86\n",
      "- Weight   1    704.00 2673.4 127.11\n",
      "\n",
      "Step:  AIC=120.22\n",
      "Systol ~ Age + Years + Weight + Height + Chin + Pulse\n",
      "\n",
      "         Df Sum of Sq    RSS    AIC\n",
      "- Age     1     29.93 2035.8 118.58\n",
      "- Height  1     41.33 2047.2 118.71\n",
      "- Chin    1     51.46 2057.4 118.83\n",
      "- Pulse   1     61.88 2067.8 118.95\n",
      "<none>                2005.9 120.22\n",
      "- Years   1    451.39 2457.3 123.09\n",
      "- Weight  1    988.69 2994.6 127.84\n",
      "\n",
      "Step:  AIC=118.57\n",
      "Systol ~ Years + Weight + Height + Chin + Pulse\n",
      "\n",
      "         Df Sum of Sq    RSS    AIC\n",
      "- Height  1     23.72 2059.6 116.85\n",
      "- Chin    1     40.45 2076.3 117.05\n",
      "- Pulse   1     91.86 2127.7 117.63\n",
      "<none>                2035.8 118.58\n",
      "- Years   1    573.35 2609.2 122.53\n",
      "- Weight  1   1020.08 3055.9 126.32\n",
      "\n",
      "Step:  AIC=116.85\n",
      "Systol ~ Years + Weight + Chin + Pulse\n",
      "\n",
      "         Df Sum of Sq    RSS    AIC\n",
      "- Chin    1     28.53 2088.1 115.18\n",
      "- Pulse   1    110.77 2170.3 116.11\n",
      "<none>                2059.6 116.85\n",
      "- Years   1    553.95 2613.5 120.57\n",
      "- Weight  1   1340.94 3400.5 126.89\n",
      "\n",
      "Step:  AIC=115.18\n",
      "Systol ~ Years + Weight + Pulse\n",
      "\n",
      "         Df Sum of Sq    RSS    AIC\n",
      "- Pulse   1    113.31 2201.4 114.45\n",
      "<none>                2088.1 115.18\n",
      "- Years   1    586.87 2675.0 119.13\n",
      "- Weight  1   1706.06 3794.2 127.52\n",
      "\n",
      "Step:  AIC=114.45\n",
      "Systol ~ Years + Weight\n",
      "\n",
      "         Df Sum of Sq    RSS    AIC\n",
      "<none>                2201.4 114.45\n",
      "- Years   1    521.47 2722.9 117.55\n",
      "- Weight  1   2018.15 4219.6 128.07\n"
     ]
    },
    {
     "data": {
      "text/plain": [
       "\n",
       "Call:\n",
       "lm(formula = Systol ~ Years + Weight, data = BPData)\n",
       "\n",
       "Coefficients:\n",
       "(Intercept)        Years       Weight  \n",
       "    54.2960      -0.6256       1.3125  \n"
      ]
     },
     "metadata": {},
     "output_type": "display_data"
    }
   ],
   "source": [
    "library(\"readxl\")\n",
    "\n",
    "# read the data in from the .xlsx file. \n",
    "BPData <- read_excel(\"MATPMD1Chapter10DataSBP.xlsx\")\n",
    "\n",
    "# set up a linear regression model where Systol is the dependent variable which varies with independent variables\n",
    "# Age+Years+Weight+Height+Chin+Forearm+Calf+Pulse\n",
    "sbp.lm<-lm(data=BPData, Systol ~ Age+Years+Weight+Height+Chin+Forearm+Calf+Pulse)\n",
    "\n",
    "with(BPData, {\n",
    "    \n",
    "    # try the step() function backwards to test our model selection\n",
    "    step(sbp.lm,direction=\"backward\")\n",
    "\n",
    "})\n"
   ]
  },
  {
   "cell_type": "markdown",
   "metadata": {
    "slideshow": {
     "slide_type": "slide"
    }
   },
   "source": [
    "<body>\n",
    "    <p>So the step() backward agrees with our model selection which is:\n",
    "    </p>\n",
    "    <p>$\\textrm{Systol} = 54.2960 -0.6256 \\textrm{Years} + 1.3125 \\textrm{Weight}$\n",
    "    </p>\n",
    "</body>"
   ]
  },
  {
   "cell_type": "code",
   "execution_count": 1,
   "metadata": {
    "slideshow": {
     "slide_type": "slide"
    }
   },
   "outputs": [
    {
     "name": "stderr",
     "output_type": "stream",
     "text": [
      "Warning message in normalizePath(path.expand(path), winslash, mustWork):\n",
      "\"path[1]=\"MATPMD1Chapter10DataSBP.xlsx\": The filename, directory name, or volume label syntax is incorrect\"\n"
     ]
    },
    {
     "ename": "ERROR",
     "evalue": "Error: Evaluation error: zip file 'C:\\Users\\malik\\Desktop\\Spring Semester\\MATPMD1 ?\\Week 5\\MATPMD1Chapter10DataSBP.xlsx' cannot be opened.\n",
     "output_type": "error",
     "traceback": [
      "Error: Evaluation error: zip file 'C:\\Users\\malik\\Desktop\\Spring Semester\\MATPMD1 ?\\Week 5\\MATPMD1Chapter10DataSBP.xlsx' cannot be opened.\nTraceback:\n",
      "1. read_excel(\"MATPMD1Chapter10DataSBP.xlsx\")",
      "2. read_excel_(path = path, sheet = sheet, range = range, col_names = col_names, \n .     col_types = col_types, na = na, trim_ws = trim_ws, skip = skip, \n .     n_max = n_max, guess_max = guess_max, progress = progress, \n .     .name_repair = .name_repair, format = format)",
      "3. set_readxl_names(read_fun(path = enc2native(normalizePath(path)), \n .     sheet_i = sheet, limits = limits, shim = shim, col_names = col_names, \n .     col_types = col_types, na = na, trim_ws = trim_ws, guess_max = guess_max, \n .     progress = progress), .name_repair = .name_repair)",
      "4. tibble::as_tibble(l, .name_repair = .name_repair)",
      "5. read_fun(path = enc2native(normalizePath(path)), sheet_i = sheet, \n .     limits = limits, shim = shim, col_names = col_names, col_types = col_types, \n .     na = na, trim_ws = trim_ws, guess_max = guess_max, progress = progress)"
     ]
    }
   ],
   "source": [
    "library(\"readxl\")\n",
    "\n",
    "# read the data in from the .xlsx file. \n",
    "BPData <- read_excel(\"MATPMD1Chapter10DataSBP.xlsx\")\n",
    "\n",
    "# finally set up a linear regression model where Systol is the dependent variable which varies with independent variables\n",
    "# Years+Weight\n",
    "sbp.lm<-lm(data=BPData, Systol ~ Years+Weight)\n",
    "\n",
    "summary(sbp.lm)\n",
    "detach(BPData)"
   ]
  },
  {
   "cell_type": "markdown",
   "metadata": {
    "slideshow": {
     "slide_type": "slide"
    }
   },
   "source": [
    "<body>\n",
    "    <p>So we now have a model for predicting Systolic Blood Pressure, and we would like to use the model for prediction.\n",
    "    </p>\n",
    "    <p>To evaluate the performance of the prediction model, we will need to validate this on an external dataset, which has not been used to estimate the model parameters. \n",
    "    </p>\n",
    "    <p>For this reason, for model validation, before fitting the regression model to the data, the dataset was randomly split into a training dataset and a test dataset.\n",
    "    </p>\n",
    "    <p>We will find a measure of the predictive performance as part of Lab Session 5.\n",
    "    </p>\n",
    "</body>"
   ]
  }
 ],
 "metadata": {
  "kernelspec": {
   "display_name": "R",
   "language": "R",
   "name": "ir"
  },
  "language_info": {
   "codemirror_mode": "r",
   "file_extension": ".r",
   "mimetype": "text/x-r-source",
   "name": "R",
   "pygments_lexer": "r",
   "version": "4.1.1"
  }
 },
 "nbformat": 4,
 "nbformat_minor": 4
}
